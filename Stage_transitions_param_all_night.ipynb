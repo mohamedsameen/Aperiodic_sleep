{
 "cells": [
  {
   "cell_type": "code",
   "execution_count": 93,
   "id": "23c0022e",
   "metadata": {},
   "outputs": [
    {
     "ename": "SyntaxError",
     "evalue": "expected ':' (utils.py, line 10)",
     "output_type": "error",
     "traceback": [
      "Traceback \u001b[0;36m(most recent call last)\u001b[0m:\n",
      "\u001b[0m  File \u001b[1;32m~/anaconda3/envs/mne/lib/python3.10/site-packages/IPython/core/interactiveshell.py:3378\u001b[0m in \u001b[1;35mrun_code\u001b[0m\n    exec(code_obj, self.user_global_ns, self.user_ns)\u001b[0m\n",
      "\u001b[0;36m  Cell \u001b[0;32mIn [93], line 20\u001b[0;36m\n\u001b[0;31m    from utils import resample_stages\u001b[0;36m\n",
      "\u001b[0;36m  File \u001b[0;32m~/Columbia/Aperiodic_sleep/helpers/utils.py:10\u001b[0;36m\u001b[0m\n\u001b[0;31m    def resample_stages(path, req_samp_rate)\u001b[0m\n\u001b[0m                                            ^\u001b[0m\n\u001b[0;31mSyntaxError\u001b[0m\u001b[0;31m:\u001b[0m expected ':'\n"
     ]
    }
   ],
   "source": [
    "import mne\n",
    "import numpy as np\n",
    "import matplotlib.pyplot as plt\n",
    "import os\n",
    "import pandas as pd\n",
    "# Import the FOOOF object\n",
    "from fooof import FOOOF\n",
    "from fooof import FOOOFGroup\n",
    "# Import a utility to download and load example data\n",
    "from fooof.utils.download import load_fooof_data\n",
    "from fooof.utils.params import compute_knee_frequency\n",
    "from pathlib import Path\n",
    "import glob\n",
    "from math import floor\n",
    "from scipy import stats\n",
    "import math\n",
    "import sys\n",
    "\n",
    "sys.path.append(\"/home/b1044271/Columbia/Aperiodic_sleep/helpers/\")\n",
    "from utils import resample_stages"
   ]
  },
  {
   "cell_type": "code",
   "execution_count": 50,
   "id": "560bd8e4",
   "metadata": {},
   "outputs": [
    {
     "name": "stdout",
     "output_type": "stream",
     "text": [
      "[Errno 2] No such file or directory: 'Columbia/Results/Time-resolved/E257'\n",
      "/home/b1044271/Columbia/Results/Time-resolved/E257\n"
     ]
    }
   ],
   "source": [
    "cd 'Columbia/Results/Time-resolved/E257'"
   ]
  },
  {
   "cell_type": "code",
   "execution_count": 51,
   "id": "8eced848",
   "metadata": {},
   "outputs": [
    {
     "name": "stdout",
     "output_type": "stream",
     "text": [
      "Knee_k.npy\r\n",
      "Knee_k_20_2.npy\r\n",
      "Offset_k_20_2.npy\r\n",
      "Offset_nk_20_2.npy\r\n",
      "Slope_k.npy\r\n",
      "Slope_k_20_2.npy\r\n",
      "Slope_nk.npy\r\n",
      "Slope_nk_20_2.npy\r\n",
      "\u001b[0m\u001b[01;34mTransitions\u001b[0m/\r\n",
      "VP01_notch2_ica_done.set_AllNight_Knee\r\n",
      "VP01_notch2_ica_done.set_AllNight_NoKnee\r\n",
      "VP03_notch2_ica_done.set_AllNight_Knee\r\n",
      "VP03_notch2_ica_done.set_AllNight_NoKnee\r\n",
      "VP04_notch2_ica_done.set_AllNight_Knee\r\n",
      "VP04_notch2_ica_done.set_AllNight_NoKnee\r\n",
      "VP05_notch2_ica_done.set_AllNight_Knee\r\n",
      "VP05_notch2_ica_done.set_AllNight_NoKnee\r\n",
      "VP06_notch2_ica_done.set_AllNight_Knee\r\n",
      "VP06_notch2_ica_done.set_AllNight_NoKnee\r\n",
      "VP07_notch2_ica_done.set_AllNight_Knee\r\n",
      "VP07_notch2_ica_done.set_AllNight_NoKnee\r\n",
      "VP08_notch2_ica_done.set_AllNight_Knee\r\n",
      "VP08_notch2_ica_done.set_AllNight_NoKnee\r\n",
      "VP10_notch2_ica_done.set_AllNight_Knee\r\n",
      "VP10_notch2_ica_done.set_AllNight_NoKnee\r\n",
      "VP11_notch2_ica_done.set_AllNight_Knee\r\n",
      "VP11_notch2_ica_done.set_AllNight_NoKnee\r\n",
      "VP12_notch2_ica_done.set_AllNight_Knee\r\n",
      "VP12_notch2_ica_done.set_AllNight_NoKnee\r\n",
      "VP13_notch2_ica_done.set_AllNight_Knee\r\n",
      "VP13_notch2_ica_done.set_AllNight_NoKnee\r\n",
      "VP14_notch2_ica_done.set_AllNight_Knee\r\n",
      "VP14_notch2_ica_done.set_AllNight_NoKnee\r\n",
      "VP15_notch2_ica_done.set_AllNight_Knee\r\n",
      "VP15_notch2_ica_done.set_AllNight_NoKnee\r\n",
      "VP16_notch2_ica_done.set_AllNight_Knee\r\n",
      "VP16_notch2_ica_done.set_AllNight_NoKnee\r\n",
      "VP17_notch2_ica_done.set_AllNight_Knee\r\n",
      "VP17_notch2_ica_done.set_AllNight_NoKnee\r\n",
      "VP18_notch2_ica_done.set_AllNight_Knee\r\n",
      "VP18_notch2_ica_done.set_AllNight_NoKnee\r\n",
      "VP19_notch2_ica_done.set_AllNight_Knee\r\n",
      "VP19_notch2_ica_done.set_AllNight_NoKnee\r\n",
      "\u001b[01;34mWhole_night\u001b[0m/\r\n",
      "r2_k.npy\r\n",
      "r2_k_20_2.npy\r\n",
      "r2_nk.npy\r\n",
      "r2_nk_20_2.npy\r\n"
     ]
    }
   ],
   "source": [
    "ls"
   ]
  },
  {
   "cell_type": "code",
   "execution_count": 52,
   "id": "215520c5",
   "metadata": {},
   "outputs": [],
   "source": [
    "# get all FOOOF files\n",
    "path_files = '/home/b1044271/Columbia/Results/Time-resolved/E257/*.npy'\n",
    "aperiodic_files = glob.glob(path_files)"
   ]
  },
  {
   "cell_type": "code",
   "execution_count": 53,
   "id": "7ad1bf85",
   "metadata": {},
   "outputs": [],
   "source": [
    "# get all FOOOF files\n",
    "staging_files = '/home/b1044271/EEGsleep/SleepStaging/*.txt'\n",
    "stage_files = glob.glob(staging_files)"
   ]
  },
  {
   "cell_type": "code",
   "execution_count": 124,
   "id": "fa9c9d5e",
   "metadata": {},
   "outputs": [],
   "source": [
    "sfiles = np.zeros([17,50000])*np.nan\n",
    "i=0\n",
    "for X in stage_files:\n",
    "    x  = resample_stages(X, 2)\n",
    "    sfiles[i,0:len(x)] = x\n",
    "    i=i+1"
   ]
  },
  {
   "cell_type": "code",
   "execution_count": 156,
   "id": "584778c4",
   "metadata": {},
   "outputs": [
    {
     "data": {
      "text/plain": [
       "['/home/b1044271/Columbia/Results/Time-resolved/E257/Slope_k.npy',\n",
       " '/home/b1044271/Columbia/Results/Time-resolved/E257/Slope_nk.npy',\n",
       " '/home/b1044271/Columbia/Results/Time-resolved/E257/r2_k.npy',\n",
       " '/home/b1044271/Columbia/Results/Time-resolved/E257/r2_nk.npy',\n",
       " '/home/b1044271/Columbia/Results/Time-resolved/E257/Knee_k.npy',\n",
       " '/home/b1044271/Columbia/Results/Time-resolved/E257/Slope_nk_20_2.npy',\n",
       " '/home/b1044271/Columbia/Results/Time-resolved/E257/Slope_k_20_2.npy',\n",
       " '/home/b1044271/Columbia/Results/Time-resolved/E257/r2_k_20_2.npy',\n",
       " '/home/b1044271/Columbia/Results/Time-resolved/E257/r2_nk_20_2.npy',\n",
       " '/home/b1044271/Columbia/Results/Time-resolved/E257/Knee_k_20_2.npy',\n",
       " '/home/b1044271/Columbia/Results/Time-resolved/E257/Offset_nk_20_2.npy',\n",
       " '/home/b1044271/Columbia/Results/Time-resolved/E257/Offset_k_20_2.npy']"
      ]
     },
     "execution_count": 156,
     "metadata": {},
     "output_type": "execute_result"
    }
   ],
   "source": [
    "aperiodic_files"
   ]
  },
  {
   "cell_type": "code",
   "execution_count": 193,
   "id": "7cd11c13",
   "metadata": {},
   "outputs": [
    {
     "ename": "TypeError",
     "evalue": "only integer scalar arrays can be converted to a scalar index",
     "output_type": "error",
     "traceback": [
      "\u001b[0;31m---------------------------------------------------------------------------\u001b[0m",
      "\u001b[0;31mTypeError\u001b[0m                                 Traceback (most recent call last)",
      "Cell \u001b[0;32mIn [193], line 18\u001b[0m\n\u001b[1;32m     15\u001b[0m N1t \u001b[38;5;241m=\u001b[39m [N2_o[idx] \u001b[38;5;28;01mfor\u001b[39;00m idx \u001b[38;5;129;01min\u001b[39;00m N2_n1]\n\u001b[1;32m     16\u001b[0m N3t \u001b[38;5;241m=\u001b[39m [N2_o[idx] \u001b[38;5;28;01mfor\u001b[39;00m idx \u001b[38;5;129;01min\u001b[39;00m N2_n3]\n\u001b[0;32m---> 18\u001b[0m N23 \u001b[38;5;241m=\u001b[39m \u001b[43mparam\u001b[49m\u001b[43m[\u001b[49m\u001b[43m(\u001b[49m\u001b[43mnp\u001b[49m\u001b[38;5;241;43m.\u001b[39;49m\u001b[43marray\u001b[49m\u001b[43m(\u001b[49m\u001b[43mN3t\u001b[49m\u001b[43m)\u001b[49m\u001b[38;5;241;43m-\u001b[39;49m\u001b[43m(\u001b[49m\u001b[43mintrvl\u001b[49m\u001b[38;5;241;43m/\u001b[39;49m\u001b[43mt\u001b[49m\u001b[43m)\u001b[49m\u001b[43m)\u001b[49m\u001b[43m:\u001b[49m\u001b[43m \u001b[49m\u001b[43m(\u001b[49m\u001b[43mnp\u001b[49m\u001b[38;5;241;43m.\u001b[39;49m\u001b[43marray\u001b[49m\u001b[43m(\u001b[49m\u001b[43mN3t\u001b[49m\u001b[43m)\u001b[49m\u001b[38;5;241;43m+\u001b[39;49m\u001b[43m(\u001b[49m\u001b[43mintrvl\u001b[49m\u001b[38;5;241;43m/\u001b[39;49m\u001b[43mt\u001b[49m\u001b[43m)\u001b[49m\u001b[43m)\u001b[49m\u001b[43m]\u001b[49m\n\u001b[1;32m     19\u001b[0m N21 \u001b[38;5;241m=\u001b[39m param[N1t\u001b[38;5;241m-\u001b[39m(intrvl\u001b[38;5;241m/\u001b[39mt): N1t\u001b[38;5;241m+\u001b[39m(intrvl\u001b[38;5;241m/\u001b[39mt)]\n",
      "\u001b[0;31mTypeError\u001b[0m: only integer scalar arrays can be converted to a scalar index"
     ]
    }
   ],
   "source": [
    "t = 2 #time window we use for FOOOF\n",
    "intrvl = 60 # length of the intercal we want to look at before and after transition point (in sec)\n",
    "i = 0\n",
    "for f in aperiodic_files:\n",
    "    \n",
    "    A = np.load(f)\n",
    "    for x in np.arange(17):\n",
    "        Stage = sfiles[x][~np.isnan(sfiles[x])]\n",
    "        param = A[x]\n",
    "        N2_o = [ii for ii in range(len(Stage)) if Stage.astype(int)[ii] == 2]\n",
    "        N2_l = np.array(Stage)[np.array([iii + 1 for iii in N2_o[0:-2]])]\n",
    "        N2_n1 = [iv for iv in range(len(N2_l)) if N2_l[iv] == 1]\n",
    "        N2_n3 = [iv for iv in range(len(N2_l)) if N2_l[iv] == 3]\n",
    "        \n",
    "        N1t = [N2_o[idx] for idx in N2_n1]\n",
    "        N3t = [N2_o[idx] for idx in N2_n3]\n",
    "        \n",
    "        for l in N1t:   \n",
    "            N21 = param[l-(intrvl/t): l+(intrvl/t)]\n",
    "\n",
    "        \n",
    "        \n",
    "        N23 = param[(np.array(N3t)-(intrvl/t)): (np.array(N3t)+(intrvl/t))]\n",
    "        N21 = param[N1t-(intrvl/t): N1t+(intrvl/t)]\n",
    "   \n",
    "    \n",
    "\n",
    "    \n",
    "    \n",
    "    \n",
    "    \n",
    "    \n",
    "    "
   ]
  },
  {
   "cell_type": "code",
   "execution_count": 195,
   "id": "353a7735",
   "metadata": {},
   "outputs": [
    {
     "data": {
      "text/plain": [
       "array([ 1124.,  1904.,  2954.,  3119.,  3164.,  3329.,  3524.,  5579.,\n",
       "        5654.,  5759.,  6749.,  6944.,  7784.,  9464.,  9569.,  9629.,\n",
       "        9674., 11699.])"
      ]
     },
     "execution_count": 195,
     "metadata": {},
     "output_type": "execute_result"
    }
   ],
   "source": [
    "np.array(N3t)-(intrvl/t)"
   ]
  },
  {
   "cell_type": "code",
   "execution_count": 196,
   "id": "04fd89df",
   "metadata": {},
   "outputs": [
    {
     "data": {
      "text/plain": [
       "array([ 1184.,  1964.,  3014.,  3179.,  3224.,  3389.,  3584.,  5639.,\n",
       "        5714.,  5819.,  6809.,  7004.,  7844.,  9524.,  9629.,  9689.,\n",
       "        9734., 11759.])"
      ]
     },
     "execution_count": 196,
     "metadata": {},
     "output_type": "execute_result"
    }
   ],
   "source": [
    "np.array(N3t)+(intrvl/t)\n"
   ]
  },
  {
   "cell_type": "markdown",
   "id": "4f98f375",
   "metadata": {},
   "source": [
    "# type(N2_o)"
   ]
  },
  {
   "cell_type": "code",
   "execution_count": 129,
   "id": "d8bdeb5e",
   "metadata": {},
   "outputs": [
    {
     "data": {
      "text/plain": [
       "array([0., 0., 0., ..., 0., 0., 0.])"
      ]
     },
     "execution_count": 129,
     "metadata": {},
     "output_type": "execute_result"
    }
   ],
   "source": [
    "sfiles[x][~np.isnan(sfiles[x])]"
   ]
  },
  {
   "cell_type": "code",
   "execution_count": null,
   "id": "d035ed8f",
   "metadata": {},
   "outputs": [],
   "source": []
  },
  {
   "cell_type": "code",
   "execution_count": 94,
   "id": "b1dd807e",
   "metadata": {},
   "outputs": [
    {
     "data": {
      "text/plain": [
       "array([ 0,  1,  2,  3,  4,  5,  6,  7,  8,  9, 10, 11, 12, 13, 14, 15, 16])"
      ]
     },
     "execution_count": 94,
     "metadata": {},
     "output_type": "execute_result"
    }
   ],
   "source": [
    "np.arange(17)"
   ]
  },
  {
   "cell_type": "code",
   "execution_count": 107,
   "id": "a1f77e2e",
   "metadata": {},
   "outputs": [
    {
     "data": {
      "text/plain": [
       "0"
      ]
     },
     "execution_count": 107,
     "metadata": {},
     "output_type": "execute_result"
    }
   ],
   "source": [
    "x"
   ]
  },
  {
   "cell_type": "code",
   "execution_count": 91,
   "id": "390124b4",
   "metadata": {},
   "outputs": [],
   "source": [
    "A1 = A[0][~np.isnan(A[0])]\n",
    "sfiles1 = sfiles[0][~np.isnan(sfiles[0])]"
   ]
  },
  {
   "cell_type": "code",
   "execution_count": 92,
   "id": "10d6e037",
   "metadata": {},
   "outputs": [
    {
     "data": {
      "text/plain": [
       "13875"
      ]
     },
     "execution_count": 92,
     "metadata": {},
     "output_type": "execute_result"
    }
   ],
   "source": [
    "len(sfiles1)"
   ]
  },
  {
   "cell_type": "code",
   "execution_count": 73,
   "id": "6365f547",
   "metadata": {},
   "outputs": [],
   "source": [
    "def resample_stages(path_file, new_samp_rate):\n",
    "    stage_file = pd.read_csv(path_file)\n",
    "    #set required time resolution - stages are in 30 seconds so the conversion depends on the time resolution specified\n",
    "    cov_eq = 30/new_samp_rate\n",
    "    stages = list(stage_file.iloc[:,0])\n",
    "    stages_n = [val for val in stages for _ in range(0, floor(cov_eq))]\n",
    "    return(stages_n)"
   ]
  },
  {
   "cell_type": "code",
   "execution_count": 74,
   "id": "6f2be827",
   "metadata": {},
   "outputs": [],
   "source": [
    "X =resample_stages(stage_files[i], 2)"
   ]
  },
  {
   "cell_type": "code",
   "execution_count": 76,
   "id": "38eac111",
   "metadata": {},
   "outputs": [
    {
     "data": {
      "text/plain": [
       "'/home/b1044271/EEGsleep/SleepStaging/VP01.txt'"
      ]
     },
     "execution_count": 76,
     "metadata": {},
     "output_type": "execute_result"
    }
   ],
   "source": [
    "stage_files[i]"
   ]
  },
  {
   "cell_type": "code",
   "execution_count": null,
   "id": "6bc23d54",
   "metadata": {},
   "outputs": [],
   "source": []
  }
 ],
 "metadata": {
  "kernelspec": {
   "display_name": "Python [conda env:mne]",
   "language": "python",
   "name": "conda-env-mne-py"
  },
  "language_info": {
   "codemirror_mode": {
    "name": "ipython",
    "version": 3
   },
   "file_extension": ".py",
   "mimetype": "text/x-python",
   "name": "python",
   "nbconvert_exporter": "python",
   "pygments_lexer": "ipython3",
   "version": "3.10.6"
  }
 },
 "nbformat": 4,
 "nbformat_minor": 5
}
