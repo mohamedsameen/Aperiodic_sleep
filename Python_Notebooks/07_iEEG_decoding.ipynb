{
 "cells": [
  {
   "cell_type": "markdown",
   "id": "7e77ba1a-73f6-49fb-8cf9-055a4a09a5ce",
   "metadata": {},
   "source": [
    "# Decoding Sleep stages from the aperiodic parameters of iEEG data  "
   ]
  },
  {
   "cell_type": "markdown",
   "id": "ca9b1077-3ad5-41fa-bf11-a49a88427ed4",
   "metadata": {},
   "source": [
    "## Libraries"
   ]
  },
  {
   "cell_type": "code",
   "execution_count": 202,
   "id": "50ee9f6b-f294-4ff1-b3eb-b3dd5eef70d8",
   "metadata": {},
   "outputs": [],
   "source": [
    "import os\n",
    "from pathlib import Path\n",
    "import numpy as np\n",
    "import mne\n",
    "from scipy import stats\n",
    "import pandas as pd\n",
    "import random\n",
    "import pickle\n",
    "\n",
    "# Plotting functions\n",
    "from spiketools.plts.utils import make_axes\n",
    "import matplotlib.pyplot as plt\n",
    "import seaborn as sns\n",
    "from pandas.plotting import table \n",
    "\n",
    "import warnings\n",
    "warnings.filterwarnings(\"ignore\")\n",
    "\n",
    "from sklearn.discriminant_analysis import LinearDiscriminantAnalysis\n",
    "from sklearn.model_selection import cross_val_score, train_test_split\n",
    "from sklearn.model_selection import RepeatedStratifiedKFold\n",
    "from sklearn.ensemble import RandomForestClassifier\n",
    "from sklearn.inspection import permutation_importance\n",
    "\n",
    "# Import custom made code\n",
    "import sys\n",
    "sys.path.append(\"/home/b1044271/Columbia/Aperiodic_sleep/helpers\")\n",
    "from utils import check_distribution, perform_correlation, compute_z_values, bonferroni_correction, friedman_dunns, perform_permutation_test"
   ]
  },
  {
   "cell_type": "markdown",
   "id": "a37a4945-2f1c-4568-909b-7316936198a2",
   "metadata": {},
   "source": [
    "## Path and load data"
   ]
  },
  {
   "cell_type": "code",
   "execution_count": 166,
   "id": "8f0c8d51-8b3c-4ca7-8fd6-75c15aff1fca",
   "metadata": {},
   "outputs": [],
   "source": [
    "save_path = '/home/b1044271/Columbia/Results/2025/iEEG_results.pkl'\n",
    "\n",
    "with open(save_path, 'rb') as f:\n",
    "    loaded_data = pickle.load(f)\n",
    "    param_data = loaded_data['param_data']"
   ]
  },
  {
   "cell_type": "markdown",
   "id": "8f0be34b-bb89-4fc1-ba20-b7b82ce2d641",
   "metadata": {},
   "source": [
    "## Extract Knee Frequency and Exponents of different Models"
   ]
  },
  {
   "cell_type": "code",
   "execution_count": 176,
   "id": "bc026c43-62bc-4749-866c-32345b36a766",
   "metadata": {},
   "outputs": [],
   "source": [
    "# Exponent\n",
    "W_Exp = param_data[\"Wakefulness\"][\"Exp\"]\n",
    "N2_Exp = param_data[\"N2\"][\"Exp\"]\n",
    "N3_Exp = param_data[\"N3\"][\"Exp\"]\n",
    "R_Exp = param_data[\"REM\"][\"Exp\"]\n",
    "\n",
    "# KNee Frequency\n",
    "W_Kn = param_data[\"Wakefulness\"][\"Kn\"]\n",
    "N2_Kn = param_data[\"N2\"][\"Kn\"]\n",
    "N3_Kn = param_data[\"N3\"][\"Kn\"]\n",
    "R_Kn = param_data[\"REM\"][\"Kn\"]\n",
    "\n",
    "# Exponent Fixed\n",
    "W_Exp2 = param_data[\"Wakefulness\"][\"Exp2\"]\n",
    "N2_Exp2 = param_data[\"N2\"][\"Exp2\"]\n",
    "N3_Exp2 = param_data[\"N3\"][\"Exp2\"]\n",
    "R_Exp2 = param_data[\"REM\"][\"Exp2\"]\n"
   ]
  },
  {
   "cell_type": "markdown",
   "id": "ee2a3cf3-b02a-4d16-bf8f-70c146fe04f7",
   "metadata": {},
   "source": [
    "## Adjust Knee Frequency values\n",
    "### remove values above or below 2 stds from mean"
   ]
  },
  {
   "cell_type": "code",
   "execution_count": 177,
   "id": "869423c8-8f4f-4a1f-803d-edfc0311b887",
   "metadata": {},
   "outputs": [],
   "source": [
    "def remove_outliers(data):\n",
    "    # remove nans, infs, and outliers\n",
    "    data = data[~np.isnan(data) & ~np.isinf(data)]  # Remove NaN and Inf values\n",
    "    data = data[(data >= 1) & (data <= 45)]  # Remove values outside the range [1, 45]\n",
    "    mean_val = np.mean(data)\n",
    "    std_val = np.std(data)\n",
    "    return data[(data > mean_val - 2 * std_val) & (data < mean_val + 2 * std_val)]\n",
    "\n",
    "W_Kn_c = np.full((38, 1000), np.nan)\n",
    "R_Kn_c = np.full((38, 1000), np.nan)\n",
    "N2_Kn_c = np.full((38, 1000), np.nan)\n",
    "N3_Kn_c = np.full((38, 1000), np.nan)\n",
    "\n",
    "# Apply filtering and store results\n",
    "for i in range(W_Kn.shape[0]):\n",
    "    filtered_W = remove_outliers(W_Kn[i])\n",
    "    W_Kn_c[i, :len(filtered_W)] = filtered_W\n",
    "\n",
    "    filtered_R = remove_outliers(R_Kn[i])\n",
    "    R_Kn_c[i, :len(filtered_R)] = filtered_R\n",
    "\n",
    "    filtered_N2 = remove_outliers(N2_Kn[i])\n",
    "    N2_Kn_c[i, :len(filtered_N2)] = filtered_N2\n",
    "\n",
    "    filtered_N3 = remove_outliers(N3_Kn[i])\n",
    "    N3_Kn_c[i, :len(filtered_N3)] = filtered_N3"
   ]
  },
  {
   "cell_type": "markdown",
   "id": "b3bb2fde-bef1-437f-88e7-c997e4121c5e",
   "metadata": {},
   "source": [
    "## Train an LDA classifier on Exponents and Knee freq"
   ]
  },
  {
   "cell_type": "code",
   "execution_count": 250,
   "id": "fa28e8cd-ff5f-4ac3-be20-414a2e9d566f",
   "metadata": {},
   "outputs": [],
   "source": [
    "# Set up repeated stratified K-fold cross-validation\n",
    "lin_method = RepeatedStratifiedKFold(n_splits=5, n_repeats=2, random_state=1)\n",
    "\n",
    "# Reset seed for replicability\n",
    "random.seed(0)\n",
    "np.random.seed(0)\n",
    "\n",
    "trials = np.zeros(38) * np.nan\n",
    "accuracy_K = []\n",
    "accuracy_F = []\n",
    "accuracy_knee = []\n",
    "\n",
    "for i in np.arange(38):\n",
    "\n",
    "    ##################################################   \n",
    "    # DATA PROCESSING\n",
    "    W_exp = W_Exp[i][~np.isnan(W_Exp[i])]\n",
    "    W_knee = W_Kn[i][~np.isnan(W_Kn[i])]\n",
    "    W_exp2 = W_Exp2[i][~np.isnan(W_Exp2[i])]\n",
    "\n",
    "    N2_exp = N2_Exp[i][~np.isnan(N2_Exp[i])]\n",
    "    N2_knee = N2_Kn[i][~np.isnan(N2_Kn[i])]\n",
    "    N2_exp2 = N2_Exp2[i][~np.isnan(N2_Exp2[i])]\n",
    "\n",
    "    N3_exp = N3_Exp[i][~np.isnan(N3_Exp[i])]\n",
    "    N3_knee = N3_Kn[i][~np.isnan(N3_Kn[i])]\n",
    "    N3_exp2 = N3_Exp2[i][~np.isnan(N3_Exp2[i])]\n",
    "\n",
    "    R_exp = R_Exp[i][~np.isnan(R_Exp[i])]\n",
    "    R_knee = R_Kn[i][~np.isnan(R_Kn[i])]\n",
    "    R_exp2 = R_Exp2[i][~np.isnan(R_Exp2[i])]\n",
    "\n",
    "    ###################################################\n",
    "    # Equate number of trials per stage\n",
    "    L = min([len(W_exp), len(N2_exp), len(N3_exp), len(R_exp),\n",
    "             len(W_knee), len(N2_knee), len(N3_knee), len(R_knee),\n",
    "             len(W_exp2), len(N2_exp2), len(N3_exp2), len(R_exp2)])\n",
    "\n",
    "    trials[i] = L\n",
    "    if L < 25:\n",
    "        continue \n",
    "\n",
    "    # Sample trials\n",
    "    W_exp = np.random.choice(W_exp, L, replace=False)\n",
    "    N2_exp = np.random.choice(N2_exp, L, replace=False)\n",
    "    N3_exp = np.random.choice(N3_exp, L, replace=False)\n",
    "    R_exp = np.random.choice(R_exp, L, replace=False)\n",
    "\n",
    "    W_knee = np.random.choice(W_knee, L, replace=False)\n",
    "    N2_knee = np.random.choice(N2_knee, L, replace=False)\n",
    "    N3_knee = np.random.choice(N3_knee, L, replace=False)\n",
    "    R_knee = np.random.choice(R_knee, L, replace=False)\n",
    "\n",
    "    W_exp2 = np.random.choice(W_exp2, L, replace=False)\n",
    "    N2_exp2 = np.random.choice(N2_exp2, L, replace=False)\n",
    "    N3_exp2 = np.random.choice(N3_exp2, L, replace=False)\n",
    "    R_exp2 = np.random.choice(R_exp2, L, replace=False)\n",
    "\n",
    "    # Labels for sleep stages\n",
    "    y = np.concatenate([np.ones(L), np.ones(L) * 2, np.ones(L) * 3, np.ones(L) * 4])\n",
    "\n",
    "    ###################################################\n",
    "    # Combine features for knee and exponent\n",
    "    Knee_model = np.concatenate((W_exp, N2_exp, N3_exp, R_exp))[:, None]\n",
    "    Fixed_model = np.concatenate((W_exp2, N2_exp2, N3_exp2, R_exp2))[:, None]\n",
    "    Knee_value = np.concatenate((W_knee, N2_knee, N3_knee, R_knee))[:, None]\n",
    "\n",
    "    ################################################\n",
    "    # Initialize separate LDA classifiers for each model\n",
    "    lda_K = LinearDiscriminantAnalysis()\n",
    "    lda_F = LinearDiscriminantAnalysis()\n",
    "    lda_knee = LinearDiscriminantAnalysis()\n",
    "\n",
    "    # Compute cross-validation accuracy for each model\n",
    "    lin_score = cross_val_score(lda_K, Knee_model, y, scoring='accuracy', cv=lin_method, n_jobs=-1)\n",
    "    lin_score2 = cross_val_score(lda_F, Fixed_model, y, scoring='accuracy', cv=lin_method, n_jobs=-1)\n",
    "    lin_score3 = cross_val_score(lda_knee, Knee_value, y, scoring='accuracy', cv=lin_method, n_jobs=-1)\n",
    "\n",
    "    # Store mean accuracy over CV folds\n",
    "    accuracy_K.append(np.mean(lin_score))\n",
    "    accuracy_F.append(np.mean(lin_score2))\n",
    "    accuracy_knee.append(np.mean(lin_score3))\n"
   ]
  },
  {
   "cell_type": "code",
   "execution_count": 251,
   "id": "eff8cd3b-7e6a-4cc6-93d2-2bc269f6f2dc",
   "metadata": {},
   "outputs": [
    {
     "data": {
      "text/plain": [
       "(array([ 2., 34., 19., 34.,  7., 27., 18., 16., 29., 23.,  4., 15., 29.,\n",
       "        12.,  7.,  9.,  9., 20., 98., 67., 18., 12., 10., 14., 29., 14.,\n",
       "        14., 56., 26., 13., 64., 30., 46., 26., 39.,  7.,  3., 26.]),\n",
       " 41.25,\n",
       " 19.73100352237564,\n",
       " 16)"
      ]
     },
     "execution_count": 251,
     "metadata": {},
     "output_type": "execute_result"
    }
   ],
   "source": [
    "# Number of trials on average used for decoding\n",
    "trials, np.mean(trials[trials > 25]), np.std(trials[trials > 25]), len(trials[trials > 25])"
   ]
  },
  {
   "cell_type": "code",
   "execution_count": 252,
   "id": "1fb5fd29-508f-4b15-91f9-772908eccbac",
   "metadata": {},
   "outputs": [
    {
     "data": {
      "image/png": "[encoded data removed]",
      "text/plain": [
       "<Figure size 300x300 with 1 Axes>"
      ]
     },
     "metadata": {},
     "output_type": "display_data"
    }
   ],
   "source": [
    "array_list6 = [accuracy_knee,accuracy_K, accuracy_F]\n",
    "colors = ['black', 'grey', 'silver']\n",
    "\n",
    "import seaborn\n",
    "titles =  ['knee freq','exponent - knee','exponent - fixed']\n",
    "\n",
    "\n",
    "ax = plt.figure(figsize=(3,3))  \n",
    "\n",
    "ax = seaborn.swarmplot(data=array_list6, palette = colors);\n",
    "ax.set_xticklabels(titles)\n",
    "\n",
    "seaborn.scatterplot(x=[0,1,2], y=np.mean(array_list6,1), marker='X', color='black', s=100, zorder=4, legend=False);\n",
    "ax.axhline(y=0.25, color='black', linestyle='--');\n",
    "\n",
    "plt.title('Stages decoding', fontsize = 24)\n",
    "plt.ylabel('accuracy (a.u.)',fontsize=20)\n",
    "\n",
    "plt.ylim(-0.05, 0.7)\n",
    "plt.xlim(-0.5, 2.5)\n",
    "\n",
    "plt.xticks(fontsize=18)\n",
    "plt.yticks(fontsize=18)\n",
    "\n",
    "ax.spines['top'].set_visible(False)\n",
    "ax.spines['right'].set_visible(False)\n",
    "ax.tick_params(axis='both', which='both', direction='in', width=1.5, labelsize=16)  # Customize tick properties\n",
    "ax.spines['bottom'].set_linewidth(1.5)\n",
    "ax.spines['left'].set_linewidth(1.5)\n",
    "\n",
    "\n",
    "plt.savefig(\"/home/b1044271/Columbia/Plots/NOV24/iEEG_decoding.svg\", dpi = 600)"
   ]
  },
  {
   "cell_type": "markdown",
   "id": "eb459ac1-bf03-4371-9074-e7d914ae3cac",
   "metadata": {},
   "source": [
    "## Statistics\n",
    "### Permutation stats against chance level"
   ]
  },
  {
   "cell_type": "code",
   "execution_count": 257,
   "id": "88e0898f-7402-4230-a420-f63b10af4e14",
   "metadata": {},
   "outputs": [
    {
     "data": {
      "text/plain": [
       "(array([0., 0., 0.]),\n",
       " array([10.56998945,  5.61454379, 18.27745624]),\n",
       " array([3.73705561, 1.985041  , 6.46205662]))"
      ]
     },
     "execution_count": 257,
     "metadata": {},
     "output_type": "execute_result"
    }
   ],
   "source": [
    "# FIRST PERMUTATION\n",
    "ACC = [accuracy_knee,accuracy_K, accuracy_F]\n",
    "\n",
    "# Specify the number of permutations\n",
    "num_permutations = 100000 # number of permutations\n",
    "n_regions = 16 # no of regions included\n",
    "chance_l = 0.25 # 4 classes \n",
    "tvalue=np.zeros(3)\n",
    "pvalue=np.zeros(3)\n",
    "cohend=np.zeros(3)\n",
    "for i in np.arange(len(ACC)):\n",
    "    X = ACC[i]\n",
    "    # Perform the permutation test\n",
    "    tvalue[i],pvalue[i],cohend[i] = perform_permutation_test(X, np.ones(n_regions)*chance_l, num_permutations)\n",
    "\n",
    "\n",
    "pvalue_bonf = pvalue * len(ACC)\n",
    "\n",
    "\n",
    "# Create a DataFrame to store the results\n",
    "results_table = pd.DataFrame({\n",
    "    \"Metric\": [\"Accuracy Knee\", \"Accuracy K\", \"Accuracy F\"],\n",
    "    \"T-Value\": tvalue,\n",
    "    \"P-Value (Bonferroni)\": pvalue_bonf,\n",
    "    \"Cohen's D\": cohend\n",
    "})\n",
    "\n",
    "# Save the table to a CSV file\n",
    "file_path = \"permutation_test_results.csv\"\n",
    "results_table.to_csv('/home/b1044271/Columbia/Plots/NOV24/Decode_iEEG_stats_chance.svg', index=False)\n",
    "\n",
    "# show stats\n",
    "pvalue_bonf, tvalue, cohend"
   ]
  },
  {
   "cell_type": "markdown",
   "id": "741a2509-23ac-4f71-ad89-8a0fa1dd9ee2",
   "metadata": {},
   "source": [
    "### Stats (Friedmann) between parameters"
   ]
  },
  {
   "cell_type": "code",
   "execution_count": 241,
   "id": "225a12c4-d283-45f0-93e6-bad00a0d4a58",
   "metadata": {},
   "outputs": [
    {
     "data": {
      "image/png": "[encoded data removed]",
      "text/plain": [
       "<Figure size 640x480 with 1 Axes>"
      ]
     },
     "metadata": {},
     "output_type": "display_data"
    }
   ],
   "source": [
    "# Decoding stats repeated measures\n",
    "data = pd.DataFrame(np.transpose(ACC))\n",
    "\n",
    "friedman_result, W, posthoc_result, z_values, effect_sizes, corrected_p_values = friedman_dunns(data)\n",
    "\n",
    "# Change the column names\n",
    "effect_sizes.columns =['Knee', 'Exp_K', 'Exp_F']\n",
    "corrected_p_values.columns = ['Knee', 'Exp_K', 'Exp_F']\n",
    "# Change the row indexes\n",
    "effect_sizes.index = ['Knee', 'Exp_K', 'Exp_F']\n",
    "corrected_p_values.index = ['Knee', 'Exp_K', 'Exp_F']\n",
    "\n",
    "ax = plt.subplot(111, frame_on=False) # no visible frame\n",
    "table(ax, effect_sizes)  # where df is your data frame\n",
    "ax.xaxis.set_visible(False)  # hide the x axis\n",
    "ax.yaxis.set_visible(False)  # hide the y axis\n",
    "plt.savefig('/home/b1044271/Columbia/Plots/NOV24/Decode_iEEG_effectS.svg')\n",
    "\n",
    "ax = plt.subplot(111, frame_on=False) # no visible frame\n",
    "table(ax, corrected_p_values)  # where df is your data frame\n",
    "ax.xaxis.set_visible(False)  # hide the x axis\n",
    "ax.yaxis.set_visible(False)  # hide the y axis\n",
    "plt.savefig('/home/b1044271/Columbia/Plots/NOV24/Decode_iEEG_Pvalues.svg')"
   ]
  },
  {
   "cell_type": "markdown",
   "id": "dd490b9c-1c18-47ba-b310-b4519c6d9c6b",
   "metadata": {},
   "source": [
    "# Using a Random Forest appraoch to see which parameter (Exponent Fixed, Exponent Knee, or Knee Frequency) predicts stages best"
   ]
  },
  {
   "cell_type": "code",
   "execution_count": 242,
   "id": "2cc28f30-32be-4c85-aa6f-275a6b788c78",
   "metadata": {},
   "outputs": [],
   "source": [
    "# Reset seed for replicability\n",
    "random.seed(0)\n",
    "np.random.seed(0)\n",
    "\n",
    "# Add empty lists for results\n",
    "accuracy_KE = []\n",
    "perm_importance_results = []\n",
    "\n",
    "# Set up cross-validation method\n",
    "cv = RepeatedStratifiedKFold(n_splits=5, n_repeats=2, random_state=42)\n",
    "\n",
    "# Sample equal number of trials for each stage\n",
    "def sample_data(data):\n",
    "    return np.random.choice(data, L, replace=False)\n",
    "\n",
    "# Loop over subjects\n",
    "for i in range(38):\n",
    "    ##################################################\n",
    "    # DATA\n",
    "    W_exp = W_Exp[i][~np.isnan(W_Exp[i])]\n",
    "    W_knee = W_Kn[i][~np.isnan(W_Kn[i])]\n",
    "\n",
    "    N2_exp = N2_Exp[i][~np.isnan(N2_Exp[i])]\n",
    "    N2_knee = N2_Kn[i][~np.isnan(N2_Kn[i])]\n",
    "\n",
    "    N3_exp = N3_Exp[i][~np.isnan(N3_Exp[i])]\n",
    "    N3_knee = N3_Kn[i][~np.isnan(N3_Kn[i])]\n",
    "\n",
    "    R_exp = R_Exp[i][~np.isnan(R_Exp[i])]\n",
    "    R_knee = R_Kn[i][~np.isnan(R_Kn[i])]\n",
    "\n",
    "    ###################################################\n",
    "    # Equate the number of trials per stage\n",
    "    L = min(map(len, [W_exp, N2_exp, N3_exp, R_exp, W_knee, N2_knee, N3_knee, R_knee]))\n",
    "\n",
    "    # Skip regions with less than 25 trials\n",
    "    if L < 25:\n",
    "        continue\n",
    "\n",
    "    W_exp, N2_exp, N3_exp, R_exp = map(sample_data, [W_exp, N2_exp, N3_exp, R_exp])\n",
    "    W_knee, N2_knee, N3_knee, R_knee = map(sample_data, [W_knee, N2_knee, N3_knee, R_knee])\n",
    "\n",
    "    # Labels for sleep stages\n",
    "    y = np.concatenate([np.ones(L) * i for i in range(1, 5)])\n",
    "\n",
    "    ###################################################\n",
    "    # Combine features for knee and exponent\n",
    "    X = np.column_stack([\n",
    "        np.concatenate([W_exp, N2_exp, N3_exp, R_exp]),\n",
    "        np.concatenate([W_knee, N2_knee, N3_knee, R_knee])\n",
    "    ])\n",
    "\n",
    "    ###################################################\n",
    "    # Random Forest Classification with Proper Cross-Validation for Feature Importance\n",
    "    fold_importances = []\n",
    "    fold_accuracies = []\n",
    "\n",
    "    for train_idx, test_idx in cv.split(X, y):\n",
    "        X_train, X_test = X[train_idx], X[test_idx]\n",
    "        y_train, y_test = y[train_idx], y[test_idx]\n",
    "\n",
    "        classifier = RandomForestClassifier(n_estimators=500, max_features=1, random_state=42)\n",
    "        classifier.fit(X_train, y_train)\n",
    "\n",
    "        # Compute accuracy for this fold\n",
    "        fold_accuracies.append(classifier.score(X_test, y_test))\n",
    "\n",
    "        # Compute permutation importance **only on test set** (avoids data leakage)\n",
    "        perm_importance = permutation_importance(\n",
    "            classifier, X_test, y_test, n_repeats=1000, random_state=42, scoring='accuracy'\n",
    "        )\n",
    "        fold_importances.append(perm_importance.importances_mean)\n",
    "\n",
    "    # Store the mean accuracy across folds\n",
    "    accuracy_KE.append(np.mean(fold_accuracies))\n",
    "\n",
    "    # Store the mean importance across folds\n",
    "    perm_importance_results.append(np.mean(fold_importances, axis=0))\n",
    "\n",
    "###################################################\n",
    "# Aggregate Results\n",
    "mean_accuracy = np.mean(accuracy_KE)\n",
    "std_accuracy = np.std(accuracy_KE)\n",
    "perm_importance_results = np.array(perm_importance_results)\n",
    "mean_perm_importance = np.mean(perm_importance_results, axis=0)\n",
    "sem_perm_importance = np.std(perm_importance_results, axis=0) / np.sqrt(len(mean_perm_importance))\n"
   ]
  },
  {
   "cell_type": "markdown",
   "id": "c411bb67-6dea-421b-8066-1e16bd78c1b4",
   "metadata": {},
   "source": [
    "### Plot Feature importance "
   ]
  },
  {
   "cell_type": "code",
   "execution_count": 243,
   "id": "9c5ba3cf-bbe3-4537-b760-a761440c89c8",
   "metadata": {},
   "outputs": [
    {
     "data": {
      "image/png": "[encoded data removed]",
      "text/plain": [
       "<Figure size 640x480 with 1 Axes>"
      ]
     },
     "metadata": {},
     "output_type": "display_data"
    }
   ],
   "source": [
    "fig, ax = plt.subplots()\n",
    "titles = ['Exponent', 'Knee Frequency']\n",
    "ax.set_ylim([-0.5, 1.5])\n",
    "ax.errorbar(mean_perm_importance, [0, 1], xerr=sem_perm_importance, fmt=\"o\", markersize=15, \n",
    "             elinewidth=2, color='k')\n",
    "ax.yaxis.set_ticks(np.arange(2))\n",
    "ax.set_yticklabels(titles)\n",
    "plt.xticks(fontsize=18)\n",
    "plt.yticks(fontsize=18)\n",
    "\n",
    "ax.spines['top'].set_linewidth(1.75)\n",
    "ax.spines['right'].set_linewidth(1.75)\n",
    "ax.spines['bottom'].set_linewidth(1.75)\n",
    "ax.spines['left'].set_linewidth(1.75)\n",
    "ax.tick_params(axis='both', which='both', direction='in', width=1.5, labelsize=16)\n",
    "\n",
    "plt.savefig(\"/home/b1044271/Columbia/Plots/NOV24/iEEG_featureImp.svg\", dpi = 600)\n"
   ]
  },
  {
   "cell_type": "markdown",
   "id": "3b73d2d8-45fd-4342-9711-82309cfe94d2",
   "metadata": {},
   "source": [
    "### Stats on feature importance (t-test)"
   ]
  },
  {
   "cell_type": "code",
   "execution_count": 244,
   "id": "d508115d-326b-4048-b7fa-92c161e91e20",
   "metadata": {},
   "outputs": [],
   "source": [
    "from scipy.stats import ttest_rel\n",
    "# Function for Cohen's d\n",
    "def cohens_d(x, y):\n",
    "    return (np.mean(x) - np.mean(y)) / np.sqrt((np.std(x, ddof=1) ** 2 + np.std(y, ddof=1) ** 2) / 2)\n",
    "\n",
    "# Perform paired t-test between feature importances\n",
    "t_stat, p_value = ttest_rel(perm_importance_results[:, 0], perm_importance_results[:, 1])\n",
    "\n",
    "# Compute Cohen's d\n",
    "d_effect_size = cohens_d(perm_importance_results[:, 0], perm_importance_results[:, 1])\n"
   ]
  },
  {
   "cell_type": "code",
   "execution_count": 245,
   "id": "7bb65463-30fe-4972-91ca-69b35d3299a0",
   "metadata": {},
   "outputs": [
    {
     "name": "stdout",
     "output_type": "stream",
     "text": [
      "Mean Accuracy: 0.457 ± 0.084\n",
      "T-test between feature importances: t=-5.132, p=0.000\n",
      "Cohen's d effect size: -1.056\n"
     ]
    }
   ],
   "source": [
    "from scipy.stats import ttest_rel, shapiro, wilcoxon\n",
    "\n",
    "# Function for Cohen's d\n",
    "def cohens_d(x, y):\n",
    "    return (np.mean(x) - np.mean(y)) / np.sqrt((np.std(x, ddof=1) ** 2 + np.std(y, ddof=1) ** 2) / 2)\n",
    "\n",
    "# Test for normality\n",
    "stat_x, p_x = shapiro(perm_importance_results[:, 0])\n",
    "stat_y, p_y = shapiro(perm_importance_results[:, 1])\n",
    "\n",
    "if p_x > 0.05 and p_y > 0.05:\n",
    "    # Perform paired t-test between feature importances\n",
    "    t_stat, p_value = ttest_rel(perm_importance_results[:, 0], perm_importance_results[:, 1])\n",
    "    \n",
    "    # Compute Cohen's d\n",
    "    d_effect_size = cohens_d(perm_importance_results[:, 0], perm_importance_results[:, 1])\n",
    "else:\n",
    "    # Perform Wilcoxon signed-rank test (non-parametric alternative)\n",
    "    t_stat, p_value = wilcoxon(perm_importance_results[:, 0], perm_importance_results[:, 1])\n",
    "    d_effect_size = None  # Cohen's d is not defined for Wilcoxon\n",
    "\n",
    "# Print statistical results\n",
    "print(f\"Mean Accuracy: {mean_accuracy:.3f} ± {std_accuracy:.3f}\")\n",
    "print(f\"T-test between feature importances: t={t_stat:.3f}, p={p_value:.3f}\")\n",
    "print(f\"Cohen's d effect size: {d_effect_size:.3f}\")"
   ]
  }
 ],
 "metadata": {
  "kernelspec": {
   "display_name": "Python [conda env:mne]",
   "language": "python",
   "name": "conda-env-mne-py"
  },
  "language_info": {
   "codemirror_mode": {
    "name": "ipython",
    "version": 3
   },
   "file_extension": ".py",
   "mimetype": "text/x-python",
   "name": "python",
   "nbconvert_exporter": "python",
   "pygments_lexer": "ipython3",
   "version": "3.10.6"
  }
 },
 "nbformat": 4,
 "nbformat_minor": 5
}
