{
 "cells": [
  {
   "cell_type": "code",
   "execution_count": 2,
   "id": "c62d1c52-d34e-4839-9a78-8ec19d69194f",
   "metadata": {},
   "outputs": [
    {
     "name": "stderr",
     "output_type": "stream",
     "text": [
      "/home/b1044271/anaconda3/envs/mne/lib/python3.10/site-packages/outdated/utils.py:14: OutdatedPackageWarning: The package pingouin is out of date. Your version is 0.5.3, the latest is 0.5.5.\n",
      "Set the environment variable OUTDATED_IGNORE=1 to disable these warnings.\n",
      "  return warn(\n"
     ]
    }
   ],
   "source": [
    "import pickle\n",
    "import numpy as np\n",
    "import pandas as pd\n",
    "\n",
    "# plotting\n",
    "import matplotlib.pyplot as plt\n",
    "import seaborn as sns\n",
    "\n",
    "# Import custom project code\n",
    "import sys\n",
    "sys.path.append(\"/home/b1044271/Columbia/Aperiodic_sleep/helpers\")\n",
    "from utils import calculate_bic\n"
   ]
  },
  {
   "cell_type": "markdown",
   "id": "ad83025b-df07-45bf-b96b-e4b0068b1d38",
   "metadata": {},
   "source": [
    "## Load iEEG model parameters dataframe\n"
   ]
  },
  {
   "cell_type": "code",
   "execution_count": 52,
   "id": "8bf2d1b9-1fd3-4180-9577-ae674657e958",
   "metadata": {},
   "outputs": [],
   "source": [
    "save_path = '/home/b1044271/Columbia/Results/2025/iEEG_results10.pkl'\n",
    "\n",
    "with open(save_path, 'rb') as f:\n",
    "    loaded_data = pickle.load(f)\n",
    "    PSDs_W = loaded_data['PSDs']['W']\n",
    "    PSDs_N2 = loaded_data['PSDs']['N2']\n",
    "    PSDs_N3 = loaded_data['PSDs']['N3']\n",
    "    PSDs_R = loaded_data['PSDs']['R']\n",
    "    param_data = loaded_data['param_data']\n"
   ]
  },
  {
   "cell_type": "markdown",
   "id": "e72a9b1c-c409-421d-9810-fff3209775bf",
   "metadata": {},
   "source": [
    "## Extract error terms\n"
   ]
  },
  {
   "cell_type": "code",
   "execution_count": 53,
   "id": "5a47004d-a39c-4e75-af72-3cea8fa34132",
   "metadata": {},
   "outputs": [],
   "source": [
    "W_EN = param_data[\"Wakefulness\"][\"EN\"]\n",
    "W_EK = param_data[\"Wakefulness\"][\"EK\"]\n",
    "N2_EN = param_data[\"N2\"][\"EN\"]\n",
    "N2_EK = param_data[\"N2\"][\"EK\"]\n",
    "N3_EN = param_data[\"N3\"][\"EN\"]\n",
    "N3_EK = param_data[\"N3\"][\"EK\"]\n",
    "R_EN = param_data[\"REM\"][\"EN\"]\n",
    "R_EK = param_data[\"REM\"][\"EK\"]"
   ]
  },
  {
   "cell_type": "markdown",
   "id": "993c2bf0-ce62-42ed-9942-d5a61e17808b",
   "metadata": {},
   "source": [
    "## Extract Peak terms"
   ]
  },
  {
   "cell_type": "code",
   "execution_count": 54,
   "id": "19e09ee5-bb31-4912-b014-b23117672fa2",
   "metadata": {},
   "outputs": [],
   "source": [
    "W_PN = param_data[\"Wakefulness\"][\"PN\"]\n",
    "W_PK = param_data[\"Wakefulness\"][\"PK\"]\n",
    "N2_PN = param_data[\"N2\"][\"PN\"]\n",
    "N2_PK = param_data[\"N2\"][\"PK\"]\n",
    "N3_PN = param_data[\"N3\"][\"PN\"]\n",
    "N3_PK = param_data[\"N3\"][\"PK\"]\n",
    "R_PN = param_data[\"REM\"][\"PN\"]\n",
    "R_PK = param_data[\"REM\"][\"PK\"]"
   ]
  },
  {
   "cell_type": "markdown",
   "id": "c89a4dac-2adc-4447-bdd1-b7a20a05f72c",
   "metadata": {},
   "source": [
    "## EMPTY VECTORS\n"
   ]
  },
  {
   "cell_type": "code",
   "execution_count": 55,
   "id": "46207c4f-a68b-4ef3-b3cd-7b27e149c077",
   "metadata": {},
   "outputs": [],
   "source": [
    "BIC_NK_W = np.zeros(len(W_EN)) * np.nan\n",
    "BIC_K_W = np.zeros(len(W_EK)) * np.nan\n",
    "BIC_NK_N2 = np.zeros(len(N2_EN)) * np.nan\n",
    "BIC_K_N2 = np.zeros(len(N2_EK)) * np.nan\n",
    "BIC_NK_N3 = np.zeros(len(N3_EN)) * np.nan\n",
    "BIC_K_N3 = np.zeros(len(N3_EK)) * np.nan\n",
    "BIC_NK_R = np.zeros(len(R_EN)) * np.nan\n",
    "BIC_K_R = np.zeros(len(R_EK)) * np.nan"
   ]
  },
  {
   "cell_type": "markdown",
   "id": "1586a5b4-5707-4b3e-b03a-b2a8949ddada",
   "metadata": {},
   "source": [
    "## Calculate BIC"
   ]
  },
  {
   "cell_type": "code",
   "execution_count": 4,
   "id": "c554d528-d021-4ccd-b885-74c5a5632fa3",
   "metadata": {},
   "outputs": [
    {
     "ename": "NameError",
     "evalue": "name 'W_EN' is not defined",
     "output_type": "error",
     "traceback": [
      "\u001b[0;31m---------------------------------------------------------------------------\u001b[0m",
      "\u001b[0;31mNameError\u001b[0m                                 Traceback (most recent call last)",
      "Cell \u001b[0;32mIn [4], line 1\u001b[0m\n\u001b[0;32m----> 1\u001b[0m \u001b[38;5;28;01mfor\u001b[39;00m i \u001b[38;5;129;01min\u001b[39;00m np\u001b[38;5;241m.\u001b[39marange(\u001b[38;5;28mlen\u001b[39m(\u001b[43mW_EN\u001b[49m)):\n\u001b[1;32m      2\u001b[0m     \u001b[38;5;66;03m# equalize trials for conditions for both peak and error\u001b[39;00m\n\u001b[1;32m      3\u001b[0m     Wnx, Wkx, Wnxp, Wkxp \u001b[38;5;241m=\u001b[39m equalize_trials(W_EN[i][\u001b[38;5;241m~\u001b[39mnp\u001b[38;5;241m.\u001b[39misnan(W_EN[i])]\u001b[38;5;241m*\u001b[39m\u001b[38;5;241m*\u001b[39m\u001b[38;5;241m2\u001b[39m, W_EK[i][\u001b[38;5;241m~\u001b[39mnp\u001b[38;5;241m.\u001b[39misnan(W_EK[i])]\u001b[38;5;241m*\u001b[39m\u001b[38;5;241m*\u001b[39m\u001b[38;5;241m2\u001b[39m, W_PN[i][\u001b[38;5;241m~\u001b[39mnp\u001b[38;5;241m.\u001b[39misnan(W_PN[i])], W_PK[i][\u001b[38;5;241m~\u001b[39mnp\u001b[38;5;241m.\u001b[39misnan(W_PK[i])])\n\u001b[1;32m      4\u001b[0m     N2nx, N2kx, N2nxp, N2kxp \u001b[38;5;241m=\u001b[39m equalize_trials(N2_EN[i][\u001b[38;5;241m~\u001b[39mnp\u001b[38;5;241m.\u001b[39misnan(N2_EN[i])]\u001b[38;5;241m*\u001b[39m\u001b[38;5;241m*\u001b[39m\u001b[38;5;241m2\u001b[39m, N2_EK[i][\u001b[38;5;241m~\u001b[39mnp\u001b[38;5;241m.\u001b[39misnan(N2_EK[i])]\u001b[38;5;241m*\u001b[39m\u001b[38;5;241m*\u001b[39m\u001b[38;5;241m2\u001b[39m, N2_PN[i][\u001b[38;5;241m~\u001b[39mnp\u001b[38;5;241m.\u001b[39misnan(N2_PN[i])], N2_PK[i][\u001b[38;5;241m~\u001b[39mnp\u001b[38;5;241m.\u001b[39misnan(N2_PK[i])])\n",
      "\u001b[0;31mNameError\u001b[0m: name 'W_EN' is not defined"
     ]
    }
   ],
   "source": [
    "for i in np.arange(len(W_EN)):\n",
    "    # equalize trials for conditions for both peak and error\n",
    "    Wnx, Wkx, Wnxp, Wkxp = equalize_trials(W_EN[i][~np.isnan(W_EN[i])]**2, W_EK[i][~np.isnan(W_EK[i])]**2, W_PN[i][~np.isnan(W_PN[i])], W_PK[i][~np.isnan(W_PK[i])])\n",
    "    N2nx, N2kx, N2nxp, N2kxp = equalize_trials(N2_EN[i][~np.isnan(N2_EN[i])]**2, N2_EK[i][~np.isnan(N2_EK[i])]**2, N2_PN[i][~np.isnan(N2_PN[i])], N2_PK[i][~np.isnan(N2_PK[i])])\n",
    "    N3nx, N3kx, N3nxp, N3kxp = equalize_trials(N3_EN[i][~np.isnan(N3_EN[i])]**2, N3_EK[i][~np.isnan(N3_EK[i])]**2, N3_PN[i][~np.isnan(N3_PN[i])], N3_PK[i][~np.isnan(N3_PK[i])])\n",
    "    Rnx, Rkx, Rnxp, Rkxp = equalize_trials(R_EN[i][~np.isnan(R_EN[i])]**2, R_EK[i][~np.isnan(R_EK[i])]**2, R_PN[i][~np.isnan(R_PN[i])], R_PK[i][~np.isnan(R_PK[i])])\n",
    "    \n",
    "    \n",
    "    BIC_NK_W[i] = np.nanmean(calculate_bic(len(Wnx), Wnx, Wnxp*3+2))\n",
    "    BIC_K_W[i] = np.nanmean(calculate_bic(len(Wkx), Wkx, Wkxp*3+3))\n",
    "    \n",
    "    BIC_NK_N2[i] = np.nanmean(calculate_bic(len(N2nx), N2nx, N2nxp*3+2))\n",
    "    BIC_K_N2[i] = np.nanmean(calculate_bic(len(N2kx), N2kx, N2kxp*3+3))\n",
    "    \n",
    "    BIC_NK_N3[i] = np.nanmean(calculate_bic(len(N3nx), N3nx, N3nxp*3+2))\n",
    "    BIC_K_N3[i] = np.nanmean(calculate_bic(len(N3kx), N3kx, N3kxp*3+2))\n",
    "    \n",
    "    BIC_NK_R[i] = np.nanmean(calculate_bic(len(Rnx), Rnx, Rnxp*3+2))\n",
    "    BIC_K_R[i] = np.nanmean(calculate_bic(len(Rkx), Rkx, Rkxp*3+2))\n",
    "    \n",
    "    Wnx, Wkx, N2nx, N2kx, N3nx, N3kx, Rnx, Rkx = [], [], [], [], [], [], [], []\n",
    "    Wnxp, Wkxp, N2nxp, N2kxp, N3nxp, N3kxp, Rnxp, Rkxp = [], [], [], [], [], [], [], []"
   ]
  },
  {
   "cell_type": "code",
   "execution_count": 57,
   "id": "de9b1252-e388-4848-b5a9-d005926a820f",
   "metadata": {},
   "outputs": [],
   "source": [
    "NK_BIC = np.reshape([BIC_NK_W,BIC_NK_N2,BIC_NK_N3,BIC_NK_R],((38*4)))\n",
    "K_BIC  = np.reshape([BIC_K_W,BIC_K_N2,BIC_K_N3,BIC_K_R],((38*4)))\n",
    "\n",
    "data = {'BIC_K_NK' : np.reshape([K_BIC, NK_BIC],(38*8)),\n",
    "       'X' : np.repeat([\"knee\",\"fixed\"], 38*4,axis=0),\n",
    "       'Stages' : np.repeat(['Wake','N2','N3','REM','Wake','N2','N3','REM'], 38, axis=0)}\n",
    "\n",
    "df = pd.DataFrame(data)\n",
    "\n",
    "array_list_BIC = [K_BIC, NK_BIC]"
   ]
  },
  {
   "cell_type": "code",
   "execution_count": 58,
   "id": "6bdc724d-5dc9-4068-b31d-d1cfa8444454",
   "metadata": {},
   "outputs": [
    {
     "data": {
      "image/png": "[encoded data removed]",
      "text/plain": [
       "<Figure size 400x300 with 1 Axes>"
      ]
     },
     "metadata": {},
     "output_type": "display_data"
    }
   ],
   "source": [
    "#titles = ['Knee M', 'Fixed M']\n",
    "ColStage = [sns.color_palette(\"colorblind\")[0], \n",
    "            sns.color_palette(\"colorblind\")[7], \n",
    "        sns.color_palette(\"colorblind\")[2],sns.color_palette(\"colorblind\")[3]]\n",
    "\n",
    "\n",
    "ax = plt.figure(figsize=(4,3))  \n",
    "\n",
    "ax = sns.pointplot(data=df, x='X', y=\"BIC_K_NK\", hue = 'Stages', palette = ColStage)\n",
    "ax.set( ylabel='Knee frequency (Hz)')\n",
    "#ax.set_xticklabels(titles)\n",
    "plt.xticks(fontsize=14)\n",
    "plt.yticks(fontsize=12)\n",
    "plt.ylabel('BIC',fontsize=20)\n",
    "plt.xlabel('')\n",
    "plt.xlim(-0.25,1.5)\n",
    "plt.title('model comparison', fontsize = 24)\n",
    "#sns.scatterplot(x=[0,1], y=[np.mean(K_BIC), np.mean(NK_BIC)], marker='X', color='black', s=200, zorder=4, legend=False)\n",
    "plt.xticks(fontsize=18)\n",
    "plt.yticks(fontsize=18)\n",
    "ax.spines['top'].set_visible(False)\n",
    "ax.spines['right'].set_visible(False)\n",
    "ax.tick_params(axis='both', which='both', direction='in', width=1.5, labelsize=16)  # Customize tick properties\n",
    "ax.spines['bottom'].set_linewidth(1.5)\n",
    "ax.spines['left'].set_linewidth(1.5)\n",
    "\n",
    "#plt.savefig(\"/home/b1044271/Columbia/Plots/MAR24/EEG_ModelComparison_av.svg\", dpi = 600 )\n"
   ]
  },
  {
   "cell_type": "code",
   "execution_count": 3,
   "id": "4656904e-5fad-4525-babd-10ff7a9c9155",
   "metadata": {},
   "outputs": [
    {
     "ename": "NameError",
     "evalue": "name 'BIC_K_W' is not defined",
     "output_type": "error",
     "traceback": [
      "\u001b[0;31m---------------------------------------------------------------------------\u001b[0m",
      "\u001b[0;31mNameError\u001b[0m                                 Traceback (most recent call last)",
      "Cell \u001b[0;32mIn [3], line 4\u001b[0m\n\u001b[1;32m      1\u001b[0m \u001b[38;5;66;03m# Fixing random state for reproducibility\u001b[39;00m\n\u001b[1;32m      2\u001b[0m fig, ax \u001b[38;5;241m=\u001b[39m plt\u001b[38;5;241m.\u001b[39msubplots()\n\u001b[0;32m----> 4\u001b[0m diff \u001b[38;5;241m=\u001b[39m [np\u001b[38;5;241m.\u001b[39mnanmean(\u001b[43mBIC_K_W\u001b[49m)\u001b[38;5;241m-\u001b[39mnp\u001b[38;5;241m.\u001b[39mnanmean(BIC_NK_W),np\u001b[38;5;241m.\u001b[39mnanmean(BIC_K_N1)\u001b[38;5;241m-\u001b[39mnp\u001b[38;5;241m.\u001b[39mnanmean(BIC_NK_N1),\n\u001b[1;32m      5\u001b[0m  np\u001b[38;5;241m.\u001b[39mnanmean(BIC_K_N2)\u001b[38;5;241m-\u001b[39mnp\u001b[38;5;241m.\u001b[39mnanmean(BIC_NK_N2),np\u001b[38;5;241m.\u001b[39mnanmean(BIC_K_N3)\u001b[38;5;241m-\u001b[39mnp\u001b[38;5;241m.\u001b[39mnanmean(BIC_NK_N3),np\u001b[38;5;241m.\u001b[39mnanmean(BIC_K_R)\u001b[38;5;241m-\u001b[39mnp\u001b[38;5;241m.\u001b[39mnanmean(BIC_NK_R)]\n\u001b[1;32m      6\u001b[0m \u001b[38;5;66;03m# Example data\u001b[39;00m\n\u001b[1;32m      7\u001b[0m Stages \u001b[38;5;241m=\u001b[39m (\u001b[38;5;124m'\u001b[39m\u001b[38;5;124mWake\u001b[39m\u001b[38;5;124m'\u001b[39m, \u001b[38;5;124m'\u001b[39m\u001b[38;5;124mN1\u001b[39m\u001b[38;5;124m'\u001b[39m, \u001b[38;5;124m'\u001b[39m\u001b[38;5;124mN2\u001b[39m\u001b[38;5;124m'\u001b[39m, \u001b[38;5;124m'\u001b[39m\u001b[38;5;124mN3\u001b[39m\u001b[38;5;124m'\u001b[39m, \u001b[38;5;124m'\u001b[39m\u001b[38;5;124mREM\u001b[39m\u001b[38;5;124m'\u001b[39m)\n",
      "\u001b[0;31mNameError\u001b[0m: name 'BIC_K_W' is not defined"
     ]
    },
    {
     "data": {
      "image/png": "[encoded data removed]",
      "text/plain": [
       "<Figure size 640x480 with 1 Axes>"
      ]
     },
     "metadata": {},
     "output_type": "display_data"
    }
   ],
   "source": [
    "# Fixing random state for reproducibility\n",
    "fig, ax = plt.subplots()\n",
    "\n",
    "diff = [np.nanmean(BIC_K_W)-np.nanmean(BIC_NK_W),\n",
    " np.nanmean(BIC_K_N2)-np.nanmean(BIC_NK_N2),np.nanmean(BIC_K_N3)-np.nanmean(BIC_NK_N3),np.nanmean(BIC_K_R)-np.nanmean(BIC_NK_R)]\n",
    "# Example data\n",
    "Stages = ('Wake', 'N2', 'N3', 'REM')\n",
    "y_pos = np.arange(len(Stages))\n",
    "\n",
    "ax.barh(y_pos, diff, align='center')\n",
    "ax.set_yticks(y_pos, labels=Stages)\n",
    "ax.invert_yaxis()  # labels read top-to-bottom\n",
    "ax.set_xlabel('BIC difference', fontsize = 20)\n",
    "ax.set_title('knee - fixed', fontsize = 22)\n",
    "\n",
    "for index, value in enumerate(diff):\n",
    "    plt.text(value +2, index,\n",
    "             str(np.round(value,2)))\n",
    "\n",
    "plt.xticks(fontsize=18)\n",
    "plt.yticks(fontsize=18)\n",
    "ax.spines['top'].set_visible(False)\n",
    "ax.spines['right'].set_visible(False)\n",
    "ax.tick_params(axis='both', which='both', direction='in', width=1.5, labelsize=16)  # Customize tick properties\n",
    "ax.spines['bottom'].set_linewidth(1.5)\n",
    "ax.spines['left'].set_linewidth(1.5)\n",
    "\n",
    "plt.savefig(\"/home/b1044271/Columbia/Plots/NOV24/iEEG_ModelComparison_bar10.svg\", dpi = 600 )"
   ]
  },
  {
   "cell_type": "code",
   "execution_count": null,
   "id": "b09436e1-15d6-4952-8547-390d3d183816",
   "metadata": {},
   "outputs": [],
   "source": []
  }
 ],
 "metadata": {
  "kernelspec": {
   "display_name": "Python [conda env:mne]",
   "language": "python",
   "name": "conda-env-mne-py"
  },
  "language_info": {
   "codemirror_mode": {
    "name": "ipython",
    "version": 3
   },
   "file_extension": ".py",
   "mimetype": "text/x-python",
   "name": "python",
   "nbconvert_exporter": "python",
   "pygments_lexer": "ipython3",
   "version": "3.10.6"
  }
 },
 "nbformat": 4,
 "nbformat_minor": 5
}
