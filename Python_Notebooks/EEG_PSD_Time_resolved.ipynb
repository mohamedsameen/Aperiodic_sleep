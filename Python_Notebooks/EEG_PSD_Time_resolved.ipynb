{
 "cells": [
  {
   "cell_type": "markdown",
   "id": "148d3c1a",
   "metadata": {},
   "source": [
    "# Extract the PSD at the post-stimulus window and compare it to that of the pre-stimulus window\n",
    "\n",
    "## The idea is to see the changes underly the evoked exponent response\n"
   ]
  },
  {
   "cell_type": "code",
   "execution_count": 2,
   "id": "f433409a",
   "metadata": {},
   "outputs": [],
   "source": [
    "import mne\n",
    "import numpy as np\n",
    "import matplotlib.pyplot as plt\n",
    "import os\n",
    "import pandas as pd\n",
    "# Import the FOOOF object\n",
    "from fooof import FOOOF\n",
    "from fooof import FOOOFGroup\n",
    "# Import a utility to download and load example data\n",
    "from fooof.utils.download import load_fooof_data\n",
    "from pathlib import Path\n",
    "import glob\n",
    "from math import floor\n",
    "from mne.time_frequency import tfr_multitaper\n",
    "import seaborn\n",
    "from scipy import stats"
   ]
  },
  {
   "cell_type": "markdown",
   "id": "82f3fd9f",
   "metadata": {},
   "source": [
    "# KC"
   ]
  },
  {
   "cell_type": "code",
   "execution_count": 29,
   "id": "9fb5ed6e",
   "metadata": {},
   "outputs": [],
   "source": [
    "Data_path = '/home/b1044271/Columbia/Preprocessed/Stage_epoched/KC_noKC/NEW/*StimKC_UFV.set'\n",
    "subj_files = sorted(glob.glob(Data_path))\n",
    "\n",
    "Data_path2 = '/home/b1044271/Columbia/Preprocessed/Stage_epoched/KC_noKC/NEW/*StimNoKC_UFV.set'\n",
    "subj_files2 = sorted(glob.glob(Data_path2))\n",
    "\n",
    "peak_idx = np.load('/home/b1044271/Columbia/Results/Evoked/localMax_KC.npy')\n",
    "peak_idx2 = np.load('/home/b1044271/Columbia/Results/Evoked/localMax_noKC.npy')\n",
    "\n",
    "time = np.load('/home/b1044271/Columbia/Results/Time-resolved/Transitions/Cz/KC/NEW/Times_transitions_MT_128.npy') # time vector -5 to 5 MT\n",
    "\n",
    "baseline = 256 #   --> -1 s\n",
    "\n",
    "\n",
    "p_PSD1 = np.zeros([17,89])*np.nan\n",
    "p_PSD2 = np.zeros([17,89])*np.nan"
   ]
  },
  {
   "cell_type": "code",
   "execution_count": 30,
   "id": "23067fcd",
   "metadata": {
    "collapsed": true
   },
   "outputs": [
    {
     "name": "stderr",
     "output_type": "stream",
     "text": [
      "/home/b1044271/anaconda3/envs/mne/lib/python3.10/site-packages/pymatreader/utils.py:122: UserWarning: Complex objects (like classes) are not supported. They are imported on a best effort base but your mileage will vary.\n",
      "  warn('Complex objects (like classes) are not supported. '\n"
     ]
    },
    {
     "name": "stdout",
     "output_type": "stream",
     "text": [
      "Extracting parameters from /home/b1044271/Columbia/Preprocessed/Stage_epoched/KC_noKC/NEW/VP01_all_ica_noStimKC_UFV.set...\n",
      "Not setting metadata\n",
      "42 matching events found\n",
      "No baseline correction applied\n",
      "0 projection items activated\n",
      "Ready.\n"
     ]
    },
    {
     "name": "stderr",
     "output_type": "stream",
     "text": [
      "/tmp/ipykernel_814582/529079461.py:11: RuntimeWarning: At least one epoch has multiple events. Only the latency of the first event will be retained.\n",
      "  EEG = mne.read_epochs_eeglab(os.path.join(Data_path, x))\n",
      "[Parallel(n_jobs=1)]: Using backend SequentialBackend with 1 concurrent workers.\n"
     ]
    },
    {
     "name": "stdout",
     "output_type": "stream",
     "text": [
      "Not setting metadata\n"
     ]
    },
    {
     "name": "stderr",
     "output_type": "stream",
     "text": [
      "[Parallel(n_jobs=1)]: Done   1 out of   1 | elapsed:    0.3s remaining:    0.0s\n",
      "[Parallel(n_jobs=1)]: Done   1 out of   1 | elapsed:    0.3s finished\n",
      "/home/b1044271/anaconda3/envs/mne/lib/python3.10/site-packages/pymatreader/utils.py:122: UserWarning: Complex objects (like classes) are not supported. They are imported on a best effort base but your mileage will vary.\n",
      "  warn('Complex objects (like classes) are not supported. '\n"
     ]
    },
    {
     "name": "stdout",
     "output_type": "stream",
     "text": [
      "Extracting parameters from /home/b1044271/Columbia/Preprocessed/Stage_epoched/KC_noKC/NEW/VP03_all_ica_noStimKC_UFV.set...\n",
      "Not setting metadata\n",
      "63 matching events found\n",
      "No baseline correction applied\n",
      "0 projection items activated\n",
      "Ready.\n"
     ]
    },
    {
     "name": "stderr",
     "output_type": "stream",
     "text": [
      "/tmp/ipykernel_814582/529079461.py:11: RuntimeWarning: At least one epoch has multiple events. Only the latency of the first event will be retained.\n",
      "  EEG = mne.read_epochs_eeglab(os.path.join(Data_path, x))\n",
      "[Parallel(n_jobs=1)]: Using backend SequentialBackend with 1 concurrent workers.\n"
     ]
    },
    {
     "name": "stdout",
     "output_type": "stream",
     "text": [
      "Not setting metadata\n"
     ]
    },
    {
     "name": "stderr",
     "output_type": "stream",
     "text": [
      "[Parallel(n_jobs=1)]: Done   1 out of   1 | elapsed:    0.5s remaining:    0.0s\n",
      "[Parallel(n_jobs=1)]: Done   1 out of   1 | elapsed:    0.5s finished\n",
      "/home/b1044271/anaconda3/envs/mne/lib/python3.10/site-packages/pymatreader/utils.py:122: UserWarning: Complex objects (like classes) are not supported. They are imported on a best effort base but your mileage will vary.\n",
      "  warn('Complex objects (like classes) are not supported. '\n"
     ]
    },
    {
     "name": "stdout",
     "output_type": "stream",
     "text": [
      "Extracting parameters from /home/b1044271/Columbia/Preprocessed/Stage_epoched/KC_noKC/NEW/VP04_all_ica_noStimKC_UFV.set...\n",
      "Not setting metadata\n",
      "190 matching events found\n"
     ]
    },
    {
     "name": "stderr",
     "output_type": "stream",
     "text": [
      "/tmp/ipykernel_814582/529079461.py:11: RuntimeWarning: At least one epoch has multiple events. Only the latency of the first event will be retained.\n",
      "  EEG = mne.read_epochs_eeglab(os.path.join(Data_path, x))\n"
     ]
    },
    {
     "name": "stdout",
     "output_type": "stream",
     "text": [
      "No baseline correction applied\n",
      "0 projection items activated\n",
      "Ready.\n"
     ]
    },
    {
     "name": "stderr",
     "output_type": "stream",
     "text": [
      "[Parallel(n_jobs=1)]: Using backend SequentialBackend with 1 concurrent workers.\n"
     ]
    },
    {
     "name": "stdout",
     "output_type": "stream",
     "text": [
      "Not setting metadata\n"
     ]
    },
    {
     "name": "stderr",
     "output_type": "stream",
     "text": [
      "[Parallel(n_jobs=1)]: Done   1 out of   1 | elapsed:    1.8s remaining:    0.0s\n",
      "[Parallel(n_jobs=1)]: Done   1 out of   1 | elapsed:    1.8s finished\n",
      "/home/b1044271/anaconda3/envs/mne/lib/python3.10/site-packages/pymatreader/utils.py:122: UserWarning: Complex objects (like classes) are not supported. They are imported on a best effort base but your mileage will vary.\n",
      "  warn('Complex objects (like classes) are not supported. '\n"
     ]
    },
    {
     "name": "stdout",
     "output_type": "stream",
     "text": [
      "Extracting parameters from /home/b1044271/Columbia/Preprocessed/Stage_epoched/KC_noKC/NEW/VP05_all_ica_noStimKC_UFV.set...\n",
      "Not setting metadata\n",
      "99 matching events found\n",
      "No baseline correction applied\n",
      "0 projection items activated\n",
      "Ready.\n"
     ]
    },
    {
     "name": "stderr",
     "output_type": "stream",
     "text": [
      "/tmp/ipykernel_814582/529079461.py:11: RuntimeWarning: At least one epoch has multiple events. Only the latency of the first event will be retained.\n",
      "  EEG = mne.read_epochs_eeglab(os.path.join(Data_path, x))\n",
      "[Parallel(n_jobs=1)]: Using backend SequentialBackend with 1 concurrent workers.\n"
     ]
    },
    {
     "name": "stdout",
     "output_type": "stream",
     "text": [
      "Not setting metadata\n"
     ]
    },
    {
     "name": "stderr",
     "output_type": "stream",
     "text": [
      "[Parallel(n_jobs=1)]: Done   1 out of   1 | elapsed:    0.8s remaining:    0.0s\n",
      "[Parallel(n_jobs=1)]: Done   1 out of   1 | elapsed:    0.8s finished\n",
      "/home/b1044271/anaconda3/envs/mne/lib/python3.10/site-packages/pymatreader/utils.py:122: UserWarning: Complex objects (like classes) are not supported. They are imported on a best effort base but your mileage will vary.\n",
      "  warn('Complex objects (like classes) are not supported. '\n"
     ]
    },
    {
     "name": "stdout",
     "output_type": "stream",
     "text": [
      "Extracting parameters from /home/b1044271/Columbia/Preprocessed/Stage_epoched/KC_noKC/NEW/VP06_all_ica_noStimKC_UFV.set...\n",
      "Not setting metadata\n",
      "54 matching events found\n",
      "No baseline correction applied\n",
      "0 projection items activated\n",
      "Ready.\n"
     ]
    },
    {
     "name": "stderr",
     "output_type": "stream",
     "text": [
      "/tmp/ipykernel_814582/529079461.py:11: RuntimeWarning: At least one epoch has multiple events. Only the latency of the first event will be retained.\n",
      "  EEG = mne.read_epochs_eeglab(os.path.join(Data_path, x))\n",
      "[Parallel(n_jobs=1)]: Using backend SequentialBackend with 1 concurrent workers.\n"
     ]
    },
    {
     "name": "stdout",
     "output_type": "stream",
     "text": [
      "Not setting metadata\n"
     ]
    },
    {
     "name": "stderr",
     "output_type": "stream",
     "text": [
      "[Parallel(n_jobs=1)]: Done   1 out of   1 | elapsed:    0.4s remaining:    0.0s\n",
      "[Parallel(n_jobs=1)]: Done   1 out of   1 | elapsed:    0.4s finished\n",
      "/home/b1044271/anaconda3/envs/mne/lib/python3.10/site-packages/pymatreader/utils.py:122: UserWarning: Complex objects (like classes) are not supported. They are imported on a best effort base but your mileage will vary.\n",
      "  warn('Complex objects (like classes) are not supported. '\n"
     ]
    },
    {
     "name": "stdout",
     "output_type": "stream",
     "text": [
      "Extracting parameters from /home/b1044271/Columbia/Preprocessed/Stage_epoched/KC_noKC/NEW/VP07_all_ica_noStimKC_UFV.set...\n",
      "Not setting metadata\n",
      "45 matching events found\n",
      "No baseline correction applied\n",
      "0 projection items activated\n",
      "Ready.\n"
     ]
    },
    {
     "name": "stderr",
     "output_type": "stream",
     "text": [
      "/tmp/ipykernel_814582/529079461.py:11: RuntimeWarning: At least one epoch has multiple events. Only the latency of the first event will be retained.\n",
      "  EEG = mne.read_epochs_eeglab(os.path.join(Data_path, x))\n",
      "[Parallel(n_jobs=1)]: Using backend SequentialBackend with 1 concurrent workers.\n"
     ]
    },
    {
     "name": "stdout",
     "output_type": "stream",
     "text": [
      "Not setting metadata\n"
     ]
    },
    {
     "name": "stderr",
     "output_type": "stream",
     "text": [
      "[Parallel(n_jobs=1)]: Done   1 out of   1 | elapsed:    0.4s remaining:    0.0s\n",
      "[Parallel(n_jobs=1)]: Done   1 out of   1 | elapsed:    0.4s finished\n",
      "/home/b1044271/anaconda3/envs/mne/lib/python3.10/site-packages/pymatreader/utils.py:122: UserWarning: Complex objects (like classes) are not supported. They are imported on a best effort base but your mileage will vary.\n",
      "  warn('Complex objects (like classes) are not supported. '\n"
     ]
    },
    {
     "name": "stdout",
     "output_type": "stream",
     "text": [
      "Extracting parameters from /home/b1044271/Columbia/Preprocessed/Stage_epoched/KC_noKC/NEW/VP08_all_ica_noStimKC_UFV.set...\n",
      "Not setting metadata\n",
      "60 matching events found\n",
      "No baseline correction applied\n",
      "0 projection items activated\n",
      "Ready.\n"
     ]
    },
    {
     "name": "stderr",
     "output_type": "stream",
     "text": [
      "/tmp/ipykernel_814582/529079461.py:11: RuntimeWarning: At least one epoch has multiple events. Only the latency of the first event will be retained.\n",
      "  EEG = mne.read_epochs_eeglab(os.path.join(Data_path, x))\n",
      "[Parallel(n_jobs=1)]: Using backend SequentialBackend with 1 concurrent workers.\n"
     ]
    },
    {
     "name": "stdout",
     "output_type": "stream",
     "text": [
      "Not setting metadata\n"
     ]
    },
    {
     "name": "stderr",
     "output_type": "stream",
     "text": [
      "[Parallel(n_jobs=1)]: Done   1 out of   1 | elapsed:    0.5s remaining:    0.0s\n",
      "[Parallel(n_jobs=1)]: Done   1 out of   1 | elapsed:    0.5s finished\n",
      "/home/b1044271/anaconda3/envs/mne/lib/python3.10/site-packages/pymatreader/utils.py:122: UserWarning: Complex objects (like classes) are not supported. They are imported on a best effort base but your mileage will vary.\n",
      "  warn('Complex objects (like classes) are not supported. '\n"
     ]
    },
    {
     "name": "stdout",
     "output_type": "stream",
     "text": [
      "Extracting parameters from /home/b1044271/Columbia/Preprocessed/Stage_epoched/KC_noKC/NEW/VP10_all_ica_noStimKC_UFV.set...\n",
      "Not setting metadata\n",
      "66 matching events found\n",
      "No baseline correction applied\n",
      "0 projection items activated\n",
      "Ready.\n"
     ]
    },
    {
     "name": "stderr",
     "output_type": "stream",
     "text": [
      "/tmp/ipykernel_814582/529079461.py:11: RuntimeWarning: At least one epoch has multiple events. Only the latency of the first event will be retained.\n",
      "  EEG = mne.read_epochs_eeglab(os.path.join(Data_path, x))\n",
      "[Parallel(n_jobs=1)]: Using backend SequentialBackend with 1 concurrent workers.\n"
     ]
    },
    {
     "name": "stdout",
     "output_type": "stream",
     "text": [
      "Not setting metadata\n"
     ]
    },
    {
     "name": "stderr",
     "output_type": "stream",
     "text": [
      "[Parallel(n_jobs=1)]: Done   1 out of   1 | elapsed:    0.5s remaining:    0.0s\n",
      "[Parallel(n_jobs=1)]: Done   1 out of   1 | elapsed:    0.5s finished\n",
      "/home/b1044271/anaconda3/envs/mne/lib/python3.10/site-packages/pymatreader/utils.py:122: UserWarning: Complex objects (like classes) are not supported. They are imported on a best effort base but your mileage will vary.\n",
      "  warn('Complex objects (like classes) are not supported. '\n"
     ]
    },
    {
     "name": "stdout",
     "output_type": "stream",
     "text": [
      "Extracting parameters from /home/b1044271/Columbia/Preprocessed/Stage_epoched/KC_noKC/NEW/VP11_all_ica_noStimKC_UFV.set...\n",
      "Not setting metadata\n",
      "35 matching events found\n",
      "No baseline correction applied\n",
      "0 projection items activated\n",
      "Ready.\n"
     ]
    },
    {
     "name": "stderr",
     "output_type": "stream",
     "text": [
      "/tmp/ipykernel_814582/529079461.py:11: RuntimeWarning: At least one epoch has multiple events. Only the latency of the first event will be retained.\n",
      "  EEG = mne.read_epochs_eeglab(os.path.join(Data_path, x))\n",
      "[Parallel(n_jobs=1)]: Using backend SequentialBackend with 1 concurrent workers.\n"
     ]
    },
    {
     "name": "stdout",
     "output_type": "stream",
     "text": [
      "Not setting metadata\n"
     ]
    },
    {
     "name": "stderr",
     "output_type": "stream",
     "text": [
      "[Parallel(n_jobs=1)]: Done   1 out of   1 | elapsed:    0.3s remaining:    0.0s\n",
      "[Parallel(n_jobs=1)]: Done   1 out of   1 | elapsed:    0.3s finished\n",
      "/home/b1044271/anaconda3/envs/mne/lib/python3.10/site-packages/pymatreader/utils.py:122: UserWarning: Complex objects (like classes) are not supported. They are imported on a best effort base but your mileage will vary.\n",
      "  warn('Complex objects (like classes) are not supported. '\n"
     ]
    },
    {
     "name": "stdout",
     "output_type": "stream",
     "text": [
      "Extracting parameters from /home/b1044271/Columbia/Preprocessed/Stage_epoched/KC_noKC/NEW/VP12_all_ica_noStimKC_UFV.set...\n",
      "Not setting metadata\n",
      "101 matching events found\n",
      "No baseline correction applied\n",
      "0 projection items activated\n",
      "Ready.\n"
     ]
    },
    {
     "name": "stderr",
     "output_type": "stream",
     "text": [
      "/tmp/ipykernel_814582/529079461.py:11: RuntimeWarning: At least one epoch has multiple events. Only the latency of the first event will be retained.\n",
      "  EEG = mne.read_epochs_eeglab(os.path.join(Data_path, x))\n",
      "[Parallel(n_jobs=1)]: Using backend SequentialBackend with 1 concurrent workers.\n"
     ]
    },
    {
     "name": "stdout",
     "output_type": "stream",
     "text": [
      "Not setting metadata\n"
     ]
    },
    {
     "name": "stderr",
     "output_type": "stream",
     "text": [
      "[Parallel(n_jobs=1)]: Done   1 out of   1 | elapsed:    0.8s remaining:    0.0s\n",
      "[Parallel(n_jobs=1)]: Done   1 out of   1 | elapsed:    0.8s finished\n",
      "/home/b1044271/anaconda3/envs/mne/lib/python3.10/site-packages/pymatreader/utils.py:122: UserWarning: Complex objects (like classes) are not supported. They are imported on a best effort base but your mileage will vary.\n",
      "  warn('Complex objects (like classes) are not supported. '\n"
     ]
    },
    {
     "name": "stdout",
     "output_type": "stream",
     "text": [
      "Extracting parameters from /home/b1044271/Columbia/Preprocessed/Stage_epoched/KC_noKC/NEW/VP13_all_ica_noStimKC_UFV.set...\n",
      "Not setting metadata\n",
      "29 matching events found\n",
      "No baseline correction applied\n",
      "0 projection items activated\n",
      "Ready.\n"
     ]
    },
    {
     "name": "stderr",
     "output_type": "stream",
     "text": [
      "/tmp/ipykernel_814582/529079461.py:11: RuntimeWarning: At least one epoch has multiple events. Only the latency of the first event will be retained.\n",
      "  EEG = mne.read_epochs_eeglab(os.path.join(Data_path, x))\n",
      "[Parallel(n_jobs=1)]: Using backend SequentialBackend with 1 concurrent workers.\n"
     ]
    },
    {
     "name": "stdout",
     "output_type": "stream",
     "text": [
      "Not setting metadata\n"
     ]
    },
    {
     "name": "stderr",
     "output_type": "stream",
     "text": [
      "[Parallel(n_jobs=1)]: Done   1 out of   1 | elapsed:    0.2s remaining:    0.0s\n",
      "[Parallel(n_jobs=1)]: Done   1 out of   1 | elapsed:    0.2s finished\n",
      "/home/b1044271/anaconda3/envs/mne/lib/python3.10/site-packages/pymatreader/utils.py:122: UserWarning: Complex objects (like classes) are not supported. They are imported on a best effort base but your mileage will vary.\n",
      "  warn('Complex objects (like classes) are not supported. '\n"
     ]
    },
    {
     "name": "stdout",
     "output_type": "stream",
     "text": [
      "Extracting parameters from /home/b1044271/Columbia/Preprocessed/Stage_epoched/KC_noKC/NEW/VP14_all_ica_noStimKC_UFV.set...\n",
      "Not setting metadata\n",
      "130 matching events found\n"
     ]
    },
    {
     "name": "stderr",
     "output_type": "stream",
     "text": [
      "/tmp/ipykernel_814582/529079461.py:11: RuntimeWarning: At least one epoch has multiple events. Only the latency of the first event will be retained.\n",
      "  EEG = mne.read_epochs_eeglab(os.path.join(Data_path, x))\n"
     ]
    },
    {
     "name": "stdout",
     "output_type": "stream",
     "text": [
      "No baseline correction applied\n",
      "0 projection items activated\n",
      "Ready.\n"
     ]
    },
    {
     "name": "stderr",
     "output_type": "stream",
     "text": [
      "[Parallel(n_jobs=1)]: Using backend SequentialBackend with 1 concurrent workers.\n"
     ]
    },
    {
     "name": "stdout",
     "output_type": "stream",
     "text": [
      "Not setting metadata\n"
     ]
    },
    {
     "name": "stderr",
     "output_type": "stream",
     "text": [
      "[Parallel(n_jobs=1)]: Done   1 out of   1 | elapsed:    1.1s remaining:    0.0s\n",
      "[Parallel(n_jobs=1)]: Done   1 out of   1 | elapsed:    1.1s finished\n",
      "/home/b1044271/anaconda3/envs/mne/lib/python3.10/site-packages/pymatreader/utils.py:122: UserWarning: Complex objects (like classes) are not supported. They are imported on a best effort base but your mileage will vary.\n",
      "  warn('Complex objects (like classes) are not supported. '\n"
     ]
    },
    {
     "name": "stdout",
     "output_type": "stream",
     "text": [
      "Extracting parameters from /home/b1044271/Columbia/Preprocessed/Stage_epoched/KC_noKC/NEW/VP15_all_ica_noStimKC_UFV.set...\n",
      "Not setting metadata\n",
      "31 matching events found\n",
      "No baseline correction applied\n",
      "0 projection items activated\n",
      "Ready.\n"
     ]
    },
    {
     "name": "stderr",
     "output_type": "stream",
     "text": [
      "/tmp/ipykernel_814582/529079461.py:11: RuntimeWarning: At least one epoch has multiple events. Only the latency of the first event will be retained.\n",
      "  EEG = mne.read_epochs_eeglab(os.path.join(Data_path, x))\n",
      "[Parallel(n_jobs=1)]: Using backend SequentialBackend with 1 concurrent workers.\n"
     ]
    },
    {
     "name": "stdout",
     "output_type": "stream",
     "text": [
      "Not setting metadata\n"
     ]
    },
    {
     "name": "stderr",
     "output_type": "stream",
     "text": [
      "[Parallel(n_jobs=1)]: Done   1 out of   1 | elapsed:    0.3s remaining:    0.0s\n",
      "[Parallel(n_jobs=1)]: Done   1 out of   1 | elapsed:    0.3s finished\n",
      "/home/b1044271/anaconda3/envs/mne/lib/python3.10/site-packages/pymatreader/utils.py:122: UserWarning: Complex objects (like classes) are not supported. They are imported on a best effort base but your mileage will vary.\n",
      "  warn('Complex objects (like classes) are not supported. '\n"
     ]
    },
    {
     "name": "stdout",
     "output_type": "stream",
     "text": [
      "Extracting parameters from /home/b1044271/Columbia/Preprocessed/Stage_epoched/KC_noKC/NEW/VP16_all_ica_noStimKC_UFV.set...\n",
      "Not setting metadata\n",
      "40 matching events found\n",
      "No baseline correction applied\n",
      "0 projection items activated\n",
      "Ready.\n"
     ]
    },
    {
     "name": "stderr",
     "output_type": "stream",
     "text": [
      "/tmp/ipykernel_814582/529079461.py:11: RuntimeWarning: At least one epoch has multiple events. Only the latency of the first event will be retained.\n",
      "  EEG = mne.read_epochs_eeglab(os.path.join(Data_path, x))\n",
      "[Parallel(n_jobs=1)]: Using backend SequentialBackend with 1 concurrent workers.\n"
     ]
    },
    {
     "name": "stdout",
     "output_type": "stream",
     "text": [
      "Not setting metadata\n"
     ]
    },
    {
     "name": "stderr",
     "output_type": "stream",
     "text": [
      "[Parallel(n_jobs=1)]: Done   1 out of   1 | elapsed:    0.3s remaining:    0.0s\n",
      "[Parallel(n_jobs=1)]: Done   1 out of   1 | elapsed:    0.3s finished\n",
      "/home/b1044271/anaconda3/envs/mne/lib/python3.10/site-packages/pymatreader/utils.py:122: UserWarning: Complex objects (like classes) are not supported. They are imported on a best effort base but your mileage will vary.\n",
      "  warn('Complex objects (like classes) are not supported. '\n"
     ]
    },
    {
     "name": "stdout",
     "output_type": "stream",
     "text": [
      "Extracting parameters from /home/b1044271/Columbia/Preprocessed/Stage_epoched/KC_noKC/NEW/VP17_all_ica_noStimKC_UFV.set...\n",
      "Not setting metadata\n",
      "55 matching events found\n",
      "No baseline correction applied\n",
      "0 projection items activated\n",
      "Ready.\n"
     ]
    },
    {
     "name": "stderr",
     "output_type": "stream",
     "text": [
      "/tmp/ipykernel_814582/529079461.py:11: RuntimeWarning: At least one epoch has multiple events. Only the latency of the first event will be retained.\n",
      "  EEG = mne.read_epochs_eeglab(os.path.join(Data_path, x))\n",
      "[Parallel(n_jobs=1)]: Using backend SequentialBackend with 1 concurrent workers.\n"
     ]
    },
    {
     "name": "stdout",
     "output_type": "stream",
     "text": [
      "Not setting metadata\n"
     ]
    },
    {
     "name": "stderr",
     "output_type": "stream",
     "text": [
      "[Parallel(n_jobs=1)]: Done   1 out of   1 | elapsed:    0.5s remaining:    0.0s\n",
      "[Parallel(n_jobs=1)]: Done   1 out of   1 | elapsed:    0.5s finished\n",
      "/home/b1044271/anaconda3/envs/mne/lib/python3.10/site-packages/pymatreader/utils.py:122: UserWarning: Complex objects (like classes) are not supported. They are imported on a best effort base but your mileage will vary.\n",
      "  warn('Complex objects (like classes) are not supported. '\n"
     ]
    },
    {
     "name": "stdout",
     "output_type": "stream",
     "text": [
      "Extracting parameters from /home/b1044271/Columbia/Preprocessed/Stage_epoched/KC_noKC/NEW/VP18_all_ica_noStimKC_UFV.set...\n",
      "Not setting metadata\n",
      "144 matching events found\n"
     ]
    },
    {
     "name": "stderr",
     "output_type": "stream",
     "text": [
      "/tmp/ipykernel_814582/529079461.py:11: RuntimeWarning: At least one epoch has multiple events. Only the latency of the first event will be retained.\n",
      "  EEG = mne.read_epochs_eeglab(os.path.join(Data_path, x))\n"
     ]
    },
    {
     "name": "stdout",
     "output_type": "stream",
     "text": [
      "No baseline correction applied\n",
      "0 projection items activated\n",
      "Ready.\n"
     ]
    },
    {
     "name": "stderr",
     "output_type": "stream",
     "text": [
      "[Parallel(n_jobs=1)]: Using backend SequentialBackend with 1 concurrent workers.\n"
     ]
    },
    {
     "name": "stdout",
     "output_type": "stream",
     "text": [
      "Not setting metadata\n"
     ]
    },
    {
     "name": "stderr",
     "output_type": "stream",
     "text": [
      "[Parallel(n_jobs=1)]: Done   1 out of   1 | elapsed:    1.2s remaining:    0.0s\n",
      "[Parallel(n_jobs=1)]: Done   1 out of   1 | elapsed:    1.2s finished\n",
      "/home/b1044271/anaconda3/envs/mne/lib/python3.10/site-packages/pymatreader/utils.py:122: UserWarning: Complex objects (like classes) are not supported. They are imported on a best effort base but your mileage will vary.\n",
      "  warn('Complex objects (like classes) are not supported. '\n"
     ]
    },
    {
     "name": "stdout",
     "output_type": "stream",
     "text": [
      "Extracting parameters from /home/b1044271/Columbia/Preprocessed/Stage_epoched/KC_noKC/NEW/VP19_all_ica_noStimKC_UFV.set...\n",
      "Not setting metadata\n",
      "82 matching events found\n",
      "No baseline correction applied\n",
      "0 projection items activated\n",
      "Ready.\n"
     ]
    },
    {
     "name": "stderr",
     "output_type": "stream",
     "text": [
      "/tmp/ipykernel_814582/529079461.py:11: RuntimeWarning: At least one epoch has multiple events. Only the latency of the first event will be retained.\n",
      "  EEG = mne.read_epochs_eeglab(os.path.join(Data_path, x))\n",
      "[Parallel(n_jobs=1)]: Using backend SequentialBackend with 1 concurrent workers.\n"
     ]
    },
    {
     "name": "stdout",
     "output_type": "stream",
     "text": [
      "Not setting metadata\n"
     ]
    },
    {
     "name": "stderr",
     "output_type": "stream",
     "text": [
      "[Parallel(n_jobs=1)]: Done   1 out of   1 | elapsed:    0.7s remaining:    0.0s\n",
      "[Parallel(n_jobs=1)]: Done   1 out of   1 | elapsed:    0.7s finished\n",
      "/home/b1044271/anaconda3/envs/mne/lib/python3.10/site-packages/pymatreader/utils.py:122: UserWarning: Complex objects (like classes) are not supported. They are imported on a best effort base but your mileage will vary.\n",
      "  warn('Complex objects (like classes) are not supported. '\n"
     ]
    },
    {
     "name": "stdout",
     "output_type": "stream",
     "text": [
      "Extracting parameters from /home/b1044271/Columbia/Preprocessed/Stage_epoched/KC_noKC/NEW/VP01_all_ica_noStimNoKC_UFV.set...\n",
      "Not setting metadata\n",
      "42 matching events found\n",
      "No baseline correction applied\n",
      "0 projection items activated\n",
      "Ready.\n"
     ]
    },
    {
     "name": "stderr",
     "output_type": "stream",
     "text": [
      "/tmp/ipykernel_814582/529079461.py:26: RuntimeWarning: At least one epoch has multiple events. Only the latency of the first event will be retained.\n",
      "  EEG = mne.read_epochs_eeglab(os.path.join(Data_path2, x))\n",
      "[Parallel(n_jobs=1)]: Using backend SequentialBackend with 1 concurrent workers.\n"
     ]
    },
    {
     "name": "stdout",
     "output_type": "stream",
     "text": [
      "Not setting metadata\n"
     ]
    },
    {
     "name": "stderr",
     "output_type": "stream",
     "text": [
      "[Parallel(n_jobs=1)]: Done   1 out of   1 | elapsed:    0.3s remaining:    0.0s\n",
      "[Parallel(n_jobs=1)]: Done   1 out of   1 | elapsed:    0.3s finished\n"
     ]
    },
    {
     "name": "stdout",
     "output_type": "stream",
     "text": [
      "{'done'}\n"
     ]
    },
    {
     "name": "stderr",
     "output_type": "stream",
     "text": [
      "/home/b1044271/anaconda3/envs/mne/lib/python3.10/site-packages/pymatreader/utils.py:122: UserWarning: Complex objects (like classes) are not supported. They are imported on a best effort base but your mileage will vary.\n",
      "  warn('Complex objects (like classes) are not supported. '\n"
     ]
    },
    {
     "name": "stdout",
     "output_type": "stream",
     "text": [
      "Extracting parameters from /home/b1044271/Columbia/Preprocessed/Stage_epoched/KC_noKC/NEW/VP03_all_ica_noStimNoKC_UFV.set...\n",
      "Not setting metadata\n",
      "63 matching events found\n",
      "No baseline correction applied\n",
      "0 projection items activated\n",
      "Ready.\n"
     ]
    },
    {
     "name": "stderr",
     "output_type": "stream",
     "text": [
      "/tmp/ipykernel_814582/529079461.py:26: RuntimeWarning: At least one epoch has multiple events. Only the latency of the first event will be retained.\n",
      "  EEG = mne.read_epochs_eeglab(os.path.join(Data_path2, x))\n",
      "[Parallel(n_jobs=1)]: Using backend SequentialBackend with 1 concurrent workers.\n"
     ]
    },
    {
     "name": "stdout",
     "output_type": "stream",
     "text": [
      "Not setting metadata\n"
     ]
    },
    {
     "name": "stderr",
     "output_type": "stream",
     "text": [
      "[Parallel(n_jobs=1)]: Done   1 out of   1 | elapsed:    0.5s remaining:    0.0s\n",
      "[Parallel(n_jobs=1)]: Done   1 out of   1 | elapsed:    0.5s finished\n"
     ]
    },
    {
     "name": "stdout",
     "output_type": "stream",
     "text": [
      "{'done'}\n"
     ]
    },
    {
     "name": "stderr",
     "output_type": "stream",
     "text": [
      "/home/b1044271/anaconda3/envs/mne/lib/python3.10/site-packages/pymatreader/utils.py:122: UserWarning: Complex objects (like classes) are not supported. They are imported on a best effort base but your mileage will vary.\n",
      "  warn('Complex objects (like classes) are not supported. '\n"
     ]
    },
    {
     "name": "stdout",
     "output_type": "stream",
     "text": [
      "Extracting parameters from /home/b1044271/Columbia/Preprocessed/Stage_epoched/KC_noKC/NEW/VP04_all_ica_noStimNoKC_UFV.set...\n",
      "Not setting metadata\n",
      "190 matching events found\n"
     ]
    },
    {
     "name": "stderr",
     "output_type": "stream",
     "text": [
      "/tmp/ipykernel_814582/529079461.py:26: RuntimeWarning: At least one epoch has multiple events. Only the latency of the first event will be retained.\n",
      "  EEG = mne.read_epochs_eeglab(os.path.join(Data_path2, x))\n"
     ]
    },
    {
     "name": "stdout",
     "output_type": "stream",
     "text": [
      "No baseline correction applied\n",
      "0 projection items activated\n",
      "Ready.\n"
     ]
    },
    {
     "name": "stderr",
     "output_type": "stream",
     "text": [
      "[Parallel(n_jobs=1)]: Using backend SequentialBackend with 1 concurrent workers.\n"
     ]
    },
    {
     "name": "stdout",
     "output_type": "stream",
     "text": [
      "Not setting metadata\n"
     ]
    },
    {
     "name": "stderr",
     "output_type": "stream",
     "text": [
      "[Parallel(n_jobs=1)]: Done   1 out of   1 | elapsed:    1.6s remaining:    0.0s\n",
      "[Parallel(n_jobs=1)]: Done   1 out of   1 | elapsed:    1.6s finished\n"
     ]
    },
    {
     "name": "stdout",
     "output_type": "stream",
     "text": [
      "{'done'}\n"
     ]
    },
    {
     "name": "stderr",
     "output_type": "stream",
     "text": [
      "/home/b1044271/anaconda3/envs/mne/lib/python3.10/site-packages/pymatreader/utils.py:122: UserWarning: Complex objects (like classes) are not supported. They are imported on a best effort base but your mileage will vary.\n",
      "  warn('Complex objects (like classes) are not supported. '\n"
     ]
    },
    {
     "name": "stdout",
     "output_type": "stream",
     "text": [
      "Extracting parameters from /home/b1044271/Columbia/Preprocessed/Stage_epoched/KC_noKC/NEW/VP05_all_ica_noStimNoKC_UFV.set...\n",
      "Not setting metadata\n",
      "99 matching events found\n",
      "No baseline correction applied\n",
      "0 projection items activated\n",
      "Ready.\n"
     ]
    },
    {
     "name": "stderr",
     "output_type": "stream",
     "text": [
      "/tmp/ipykernel_814582/529079461.py:26: RuntimeWarning: At least one epoch has multiple events. Only the latency of the first event will be retained.\n",
      "  EEG = mne.read_epochs_eeglab(os.path.join(Data_path2, x))\n",
      "[Parallel(n_jobs=1)]: Using backend SequentialBackend with 1 concurrent workers.\n"
     ]
    },
    {
     "name": "stdout",
     "output_type": "stream",
     "text": [
      "Not setting metadata\n"
     ]
    },
    {
     "name": "stderr",
     "output_type": "stream",
     "text": [
      "[Parallel(n_jobs=1)]: Done   1 out of   1 | elapsed:    0.8s remaining:    0.0s\n",
      "[Parallel(n_jobs=1)]: Done   1 out of   1 | elapsed:    0.8s finished\n"
     ]
    },
    {
     "name": "stdout",
     "output_type": "stream",
     "text": [
      "{'done'}\n"
     ]
    },
    {
     "name": "stderr",
     "output_type": "stream",
     "text": [
      "/home/b1044271/anaconda3/envs/mne/lib/python3.10/site-packages/pymatreader/utils.py:122: UserWarning: Complex objects (like classes) are not supported. They are imported on a best effort base but your mileage will vary.\n",
      "  warn('Complex objects (like classes) are not supported. '\n"
     ]
    },
    {
     "name": "stdout",
     "output_type": "stream",
     "text": [
      "Extracting parameters from /home/b1044271/Columbia/Preprocessed/Stage_epoched/KC_noKC/NEW/VP06_all_ica_noStimNoKC_UFV.set...\n",
      "Not setting metadata\n",
      "54 matching events found\n",
      "No baseline correction applied\n",
      "0 projection items activated\n",
      "Ready.\n"
     ]
    },
    {
     "name": "stderr",
     "output_type": "stream",
     "text": [
      "/tmp/ipykernel_814582/529079461.py:26: RuntimeWarning: At least one epoch has multiple events. Only the latency of the first event will be retained.\n",
      "  EEG = mne.read_epochs_eeglab(os.path.join(Data_path2, x))\n",
      "[Parallel(n_jobs=1)]: Using backend SequentialBackend with 1 concurrent workers.\n"
     ]
    },
    {
     "name": "stdout",
     "output_type": "stream",
     "text": [
      "Not setting metadata\n"
     ]
    },
    {
     "name": "stderr",
     "output_type": "stream",
     "text": [
      "[Parallel(n_jobs=1)]: Done   1 out of   1 | elapsed:    0.4s remaining:    0.0s\n",
      "[Parallel(n_jobs=1)]: Done   1 out of   1 | elapsed:    0.4s finished\n"
     ]
    },
    {
     "name": "stdout",
     "output_type": "stream",
     "text": [
      "{'done'}\n"
     ]
    },
    {
     "name": "stderr",
     "output_type": "stream",
     "text": [
      "/home/b1044271/anaconda3/envs/mne/lib/python3.10/site-packages/pymatreader/utils.py:122: UserWarning: Complex objects (like classes) are not supported. They are imported on a best effort base but your mileage will vary.\n",
      "  warn('Complex objects (like classes) are not supported. '\n"
     ]
    },
    {
     "name": "stdout",
     "output_type": "stream",
     "text": [
      "Extracting parameters from /home/b1044271/Columbia/Preprocessed/Stage_epoched/KC_noKC/NEW/VP07_all_ica_noStimNoKC_UFV.set...\n",
      "Not setting metadata\n",
      "45 matching events found\n",
      "No baseline correction applied\n",
      "0 projection items activated\n",
      "Ready.\n"
     ]
    },
    {
     "name": "stderr",
     "output_type": "stream",
     "text": [
      "/tmp/ipykernel_814582/529079461.py:26: RuntimeWarning: At least one epoch has multiple events. Only the latency of the first event will be retained.\n",
      "  EEG = mne.read_epochs_eeglab(os.path.join(Data_path2, x))\n",
      "[Parallel(n_jobs=1)]: Using backend SequentialBackend with 1 concurrent workers.\n"
     ]
    },
    {
     "name": "stdout",
     "output_type": "stream",
     "text": [
      "Not setting metadata\n"
     ]
    },
    {
     "name": "stderr",
     "output_type": "stream",
     "text": [
      "[Parallel(n_jobs=1)]: Done   1 out of   1 | elapsed:    0.4s remaining:    0.0s\n",
      "[Parallel(n_jobs=1)]: Done   1 out of   1 | elapsed:    0.4s finished\n"
     ]
    },
    {
     "name": "stdout",
     "output_type": "stream",
     "text": [
      "{'done'}\n"
     ]
    },
    {
     "name": "stderr",
     "output_type": "stream",
     "text": [
      "/home/b1044271/anaconda3/envs/mne/lib/python3.10/site-packages/pymatreader/utils.py:122: UserWarning: Complex objects (like classes) are not supported. They are imported on a best effort base but your mileage will vary.\n",
      "  warn('Complex objects (like classes) are not supported. '\n"
     ]
    },
    {
     "name": "stdout",
     "output_type": "stream",
     "text": [
      "Extracting parameters from /home/b1044271/Columbia/Preprocessed/Stage_epoched/KC_noKC/NEW/VP08_all_ica_noStimNoKC_UFV.set...\n",
      "Not setting metadata\n",
      "60 matching events found\n",
      "No baseline correction applied\n",
      "0 projection items activated\n",
      "Ready.\n"
     ]
    },
    {
     "name": "stderr",
     "output_type": "stream",
     "text": [
      "/tmp/ipykernel_814582/529079461.py:26: RuntimeWarning: At least one epoch has multiple events. Only the latency of the first event will be retained.\n",
      "  EEG = mne.read_epochs_eeglab(os.path.join(Data_path2, x))\n",
      "[Parallel(n_jobs=1)]: Using backend SequentialBackend with 1 concurrent workers.\n"
     ]
    },
    {
     "name": "stdout",
     "output_type": "stream",
     "text": [
      "Not setting metadata\n"
     ]
    },
    {
     "name": "stderr",
     "output_type": "stream",
     "text": [
      "[Parallel(n_jobs=1)]: Done   1 out of   1 | elapsed:    0.5s remaining:    0.0s\n",
      "[Parallel(n_jobs=1)]: Done   1 out of   1 | elapsed:    0.5s finished\n"
     ]
    },
    {
     "name": "stdout",
     "output_type": "stream",
     "text": [
      "{'done'}\n"
     ]
    },
    {
     "name": "stderr",
     "output_type": "stream",
     "text": [
      "/home/b1044271/anaconda3/envs/mne/lib/python3.10/site-packages/pymatreader/utils.py:122: UserWarning: Complex objects (like classes) are not supported. They are imported on a best effort base but your mileage will vary.\n",
      "  warn('Complex objects (like classes) are not supported. '\n"
     ]
    },
    {
     "name": "stdout",
     "output_type": "stream",
     "text": [
      "Extracting parameters from /home/b1044271/Columbia/Preprocessed/Stage_epoched/KC_noKC/NEW/VP10_all_ica_noStimNoKC_UFV.set...\n",
      "Not setting metadata\n",
      "66 matching events found\n",
      "No baseline correction applied\n",
      "0 projection items activated\n",
      "Ready.\n"
     ]
    },
    {
     "name": "stderr",
     "output_type": "stream",
     "text": [
      "/tmp/ipykernel_814582/529079461.py:26: RuntimeWarning: At least one epoch has multiple events. Only the latency of the first event will be retained.\n",
      "  EEG = mne.read_epochs_eeglab(os.path.join(Data_path2, x))\n",
      "[Parallel(n_jobs=1)]: Using backend SequentialBackend with 1 concurrent workers.\n"
     ]
    },
    {
     "name": "stdout",
     "output_type": "stream",
     "text": [
      "Not setting metadata\n"
     ]
    },
    {
     "name": "stderr",
     "output_type": "stream",
     "text": [
      "[Parallel(n_jobs=1)]: Done   1 out of   1 | elapsed:    0.5s remaining:    0.0s\n",
      "[Parallel(n_jobs=1)]: Done   1 out of   1 | elapsed:    0.5s finished\n"
     ]
    },
    {
     "name": "stdout",
     "output_type": "stream",
     "text": [
      "{'done'}\n"
     ]
    },
    {
     "name": "stderr",
     "output_type": "stream",
     "text": [
      "/home/b1044271/anaconda3/envs/mne/lib/python3.10/site-packages/pymatreader/utils.py:122: UserWarning: Complex objects (like classes) are not supported. They are imported on a best effort base but your mileage will vary.\n",
      "  warn('Complex objects (like classes) are not supported. '\n"
     ]
    },
    {
     "name": "stdout",
     "output_type": "stream",
     "text": [
      "Extracting parameters from /home/b1044271/Columbia/Preprocessed/Stage_epoched/KC_noKC/NEW/VP11_all_ica_noStimNoKC_UFV.set...\n",
      "Not setting metadata\n",
      "35 matching events found\n",
      "No baseline correction applied\n",
      "0 projection items activated\n",
      "Ready.\n"
     ]
    },
    {
     "name": "stderr",
     "output_type": "stream",
     "text": [
      "/tmp/ipykernel_814582/529079461.py:26: RuntimeWarning: At least one epoch has multiple events. Only the latency of the first event will be retained.\n",
      "  EEG = mne.read_epochs_eeglab(os.path.join(Data_path2, x))\n",
      "[Parallel(n_jobs=1)]: Using backend SequentialBackend with 1 concurrent workers.\n"
     ]
    },
    {
     "name": "stdout",
     "output_type": "stream",
     "text": [
      "Not setting metadata\n"
     ]
    },
    {
     "name": "stderr",
     "output_type": "stream",
     "text": [
      "[Parallel(n_jobs=1)]: Done   1 out of   1 | elapsed:    0.3s remaining:    0.0s\n",
      "[Parallel(n_jobs=1)]: Done   1 out of   1 | elapsed:    0.3s finished\n"
     ]
    },
    {
     "name": "stdout",
     "output_type": "stream",
     "text": [
      "{'done'}\n"
     ]
    },
    {
     "name": "stderr",
     "output_type": "stream",
     "text": [
      "/home/b1044271/anaconda3/envs/mne/lib/python3.10/site-packages/pymatreader/utils.py:122: UserWarning: Complex objects (like classes) are not supported. They are imported on a best effort base but your mileage will vary.\n",
      "  warn('Complex objects (like classes) are not supported. '\n"
     ]
    },
    {
     "name": "stdout",
     "output_type": "stream",
     "text": [
      "Extracting parameters from /home/b1044271/Columbia/Preprocessed/Stage_epoched/KC_noKC/NEW/VP12_all_ica_noStimNoKC_UFV.set...\n",
      "Not setting metadata\n",
      "101 matching events found\n",
      "No baseline correction applied\n",
      "0 projection items activated\n",
      "Ready.\n"
     ]
    },
    {
     "name": "stderr",
     "output_type": "stream",
     "text": [
      "/tmp/ipykernel_814582/529079461.py:26: RuntimeWarning: At least one epoch has multiple events. Only the latency of the first event will be retained.\n",
      "  EEG = mne.read_epochs_eeglab(os.path.join(Data_path2, x))\n",
      "[Parallel(n_jobs=1)]: Using backend SequentialBackend with 1 concurrent workers.\n"
     ]
    },
    {
     "name": "stdout",
     "output_type": "stream",
     "text": [
      "Not setting metadata\n"
     ]
    },
    {
     "name": "stderr",
     "output_type": "stream",
     "text": [
      "[Parallel(n_jobs=1)]: Done   1 out of   1 | elapsed:    0.9s remaining:    0.0s\n",
      "[Parallel(n_jobs=1)]: Done   1 out of   1 | elapsed:    0.9s finished\n"
     ]
    },
    {
     "name": "stdout",
     "output_type": "stream",
     "text": [
      "{'done'}\n"
     ]
    },
    {
     "name": "stderr",
     "output_type": "stream",
     "text": [
      "/home/b1044271/anaconda3/envs/mne/lib/python3.10/site-packages/pymatreader/utils.py:122: UserWarning: Complex objects (like classes) are not supported. They are imported on a best effort base but your mileage will vary.\n",
      "  warn('Complex objects (like classes) are not supported. '\n"
     ]
    },
    {
     "name": "stdout",
     "output_type": "stream",
     "text": [
      "Extracting parameters from /home/b1044271/Columbia/Preprocessed/Stage_epoched/KC_noKC/NEW/VP13_all_ica_noStimNoKC_UFV.set...\n",
      "Not setting metadata\n",
      "29 matching events found\n",
      "No baseline correction applied\n",
      "0 projection items activated\n",
      "Ready.\n"
     ]
    },
    {
     "name": "stderr",
     "output_type": "stream",
     "text": [
      "/tmp/ipykernel_814582/529079461.py:26: RuntimeWarning: At least one epoch has multiple events. Only the latency of the first event will be retained.\n",
      "  EEG = mne.read_epochs_eeglab(os.path.join(Data_path2, x))\n",
      "[Parallel(n_jobs=1)]: Using backend SequentialBackend with 1 concurrent workers.\n"
     ]
    },
    {
     "name": "stdout",
     "output_type": "stream",
     "text": [
      "Not setting metadata\n"
     ]
    },
    {
     "name": "stderr",
     "output_type": "stream",
     "text": [
      "[Parallel(n_jobs=1)]: Done   1 out of   1 | elapsed:    0.2s remaining:    0.0s\n",
      "[Parallel(n_jobs=1)]: Done   1 out of   1 | elapsed:    0.2s finished\n"
     ]
    },
    {
     "name": "stdout",
     "output_type": "stream",
     "text": [
      "{'done'}\n"
     ]
    },
    {
     "name": "stderr",
     "output_type": "stream",
     "text": [
      "/home/b1044271/anaconda3/envs/mne/lib/python3.10/site-packages/pymatreader/utils.py:122: UserWarning: Complex objects (like classes) are not supported. They are imported on a best effort base but your mileage will vary.\n",
      "  warn('Complex objects (like classes) are not supported. '\n"
     ]
    },
    {
     "name": "stdout",
     "output_type": "stream",
     "text": [
      "Extracting parameters from /home/b1044271/Columbia/Preprocessed/Stage_epoched/KC_noKC/NEW/VP14_all_ica_noStimNoKC_UFV.set...\n",
      "Not setting metadata\n",
      "130 matching events found\n"
     ]
    },
    {
     "name": "stderr",
     "output_type": "stream",
     "text": [
      "/tmp/ipykernel_814582/529079461.py:26: RuntimeWarning: At least one epoch has multiple events. Only the latency of the first event will be retained.\n",
      "  EEG = mne.read_epochs_eeglab(os.path.join(Data_path2, x))\n"
     ]
    },
    {
     "name": "stdout",
     "output_type": "stream",
     "text": [
      "No baseline correction applied\n",
      "0 projection items activated\n",
      "Ready.\n"
     ]
    },
    {
     "name": "stderr",
     "output_type": "stream",
     "text": [
      "[Parallel(n_jobs=1)]: Using backend SequentialBackend with 1 concurrent workers.\n"
     ]
    },
    {
     "name": "stdout",
     "output_type": "stream",
     "text": [
      "Not setting metadata\n"
     ]
    },
    {
     "name": "stderr",
     "output_type": "stream",
     "text": [
      "[Parallel(n_jobs=1)]: Done   1 out of   1 | elapsed:    1.1s remaining:    0.0s\n",
      "[Parallel(n_jobs=1)]: Done   1 out of   1 | elapsed:    1.1s finished\n"
     ]
    },
    {
     "name": "stdout",
     "output_type": "stream",
     "text": [
      "{'done'}\n"
     ]
    },
    {
     "name": "stderr",
     "output_type": "stream",
     "text": [
      "/home/b1044271/anaconda3/envs/mne/lib/python3.10/site-packages/pymatreader/utils.py:122: UserWarning: Complex objects (like classes) are not supported. They are imported on a best effort base but your mileage will vary.\n",
      "  warn('Complex objects (like classes) are not supported. '\n"
     ]
    },
    {
     "name": "stdout",
     "output_type": "stream",
     "text": [
      "Extracting parameters from /home/b1044271/Columbia/Preprocessed/Stage_epoched/KC_noKC/NEW/VP15_all_ica_noStimNoKC_UFV.set...\n",
      "Not setting metadata\n",
      "31 matching events found\n",
      "No baseline correction applied\n",
      "0 projection items activated\n",
      "Ready.\n"
     ]
    },
    {
     "name": "stderr",
     "output_type": "stream",
     "text": [
      "/tmp/ipykernel_814582/529079461.py:26: RuntimeWarning: At least one epoch has multiple events. Only the latency of the first event will be retained.\n",
      "  EEG = mne.read_epochs_eeglab(os.path.join(Data_path2, x))\n",
      "[Parallel(n_jobs=1)]: Using backend SequentialBackend with 1 concurrent workers.\n"
     ]
    },
    {
     "name": "stdout",
     "output_type": "stream",
     "text": [
      "Not setting metadata\n"
     ]
    },
    {
     "name": "stderr",
     "output_type": "stream",
     "text": [
      "[Parallel(n_jobs=1)]: Done   1 out of   1 | elapsed:    0.2s remaining:    0.0s\n",
      "[Parallel(n_jobs=1)]: Done   1 out of   1 | elapsed:    0.2s finished\n"
     ]
    },
    {
     "name": "stdout",
     "output_type": "stream",
     "text": [
      "{'done'}\n"
     ]
    },
    {
     "name": "stderr",
     "output_type": "stream",
     "text": [
      "/home/b1044271/anaconda3/envs/mne/lib/python3.10/site-packages/pymatreader/utils.py:122: UserWarning: Complex objects (like classes) are not supported. They are imported on a best effort base but your mileage will vary.\n",
      "  warn('Complex objects (like classes) are not supported. '\n"
     ]
    },
    {
     "name": "stdout",
     "output_type": "stream",
     "text": [
      "Extracting parameters from /home/b1044271/Columbia/Preprocessed/Stage_epoched/KC_noKC/NEW/VP16_all_ica_noStimNoKC_UFV.set...\n",
      "Not setting metadata\n",
      "40 matching events found\n",
      "No baseline correction applied\n",
      "0 projection items activated\n",
      "Ready.\n"
     ]
    },
    {
     "name": "stderr",
     "output_type": "stream",
     "text": [
      "/tmp/ipykernel_814582/529079461.py:26: RuntimeWarning: At least one epoch has multiple events. Only the latency of the first event will be retained.\n",
      "  EEG = mne.read_epochs_eeglab(os.path.join(Data_path2, x))\n",
      "[Parallel(n_jobs=1)]: Using backend SequentialBackend with 1 concurrent workers.\n"
     ]
    },
    {
     "name": "stdout",
     "output_type": "stream",
     "text": [
      "Not setting metadata\n"
     ]
    },
    {
     "name": "stderr",
     "output_type": "stream",
     "text": [
      "[Parallel(n_jobs=1)]: Done   1 out of   1 | elapsed:    0.3s remaining:    0.0s\n",
      "[Parallel(n_jobs=1)]: Done   1 out of   1 | elapsed:    0.3s finished\n"
     ]
    },
    {
     "name": "stdout",
     "output_type": "stream",
     "text": [
      "{'done'}\n"
     ]
    },
    {
     "name": "stderr",
     "output_type": "stream",
     "text": [
      "/home/b1044271/anaconda3/envs/mne/lib/python3.10/site-packages/pymatreader/utils.py:122: UserWarning: Complex objects (like classes) are not supported. They are imported on a best effort base but your mileage will vary.\n",
      "  warn('Complex objects (like classes) are not supported. '\n"
     ]
    },
    {
     "name": "stdout",
     "output_type": "stream",
     "text": [
      "Extracting parameters from /home/b1044271/Columbia/Preprocessed/Stage_epoched/KC_noKC/NEW/VP17_all_ica_noStimNoKC_UFV.set...\n",
      "Not setting metadata\n",
      "55 matching events found\n",
      "No baseline correction applied\n",
      "0 projection items activated\n",
      "Ready.\n"
     ]
    },
    {
     "name": "stderr",
     "output_type": "stream",
     "text": [
      "/tmp/ipykernel_814582/529079461.py:26: RuntimeWarning: At least one epoch has multiple events. Only the latency of the first event will be retained.\n",
      "  EEG = mne.read_epochs_eeglab(os.path.join(Data_path2, x))\n",
      "[Parallel(n_jobs=1)]: Using backend SequentialBackend with 1 concurrent workers.\n"
     ]
    },
    {
     "name": "stdout",
     "output_type": "stream",
     "text": [
      "Not setting metadata\n"
     ]
    },
    {
     "name": "stderr",
     "output_type": "stream",
     "text": [
      "[Parallel(n_jobs=1)]: Done   1 out of   1 | elapsed:    0.4s remaining:    0.0s\n",
      "[Parallel(n_jobs=1)]: Done   1 out of   1 | elapsed:    0.4s finished\n"
     ]
    },
    {
     "name": "stdout",
     "output_type": "stream",
     "text": [
      "{'done'}\n"
     ]
    },
    {
     "name": "stderr",
     "output_type": "stream",
     "text": [
      "/home/b1044271/anaconda3/envs/mne/lib/python3.10/site-packages/pymatreader/utils.py:122: UserWarning: Complex objects (like classes) are not supported. They are imported on a best effort base but your mileage will vary.\n",
      "  warn('Complex objects (like classes) are not supported. '\n"
     ]
    },
    {
     "name": "stdout",
     "output_type": "stream",
     "text": [
      "Extracting parameters from /home/b1044271/Columbia/Preprocessed/Stage_epoched/KC_noKC/NEW/VP18_all_ica_noStimNoKC_UFV.set...\n",
      "Not setting metadata\n",
      "144 matching events found\n"
     ]
    },
    {
     "name": "stderr",
     "output_type": "stream",
     "text": [
      "/tmp/ipykernel_814582/529079461.py:26: RuntimeWarning: At least one epoch has multiple events. Only the latency of the first event will be retained.\n",
      "  EEG = mne.read_epochs_eeglab(os.path.join(Data_path2, x))\n"
     ]
    },
    {
     "name": "stdout",
     "output_type": "stream",
     "text": [
      "No baseline correction applied\n",
      "0 projection items activated\n",
      "Ready.\n"
     ]
    },
    {
     "name": "stderr",
     "output_type": "stream",
     "text": [
      "[Parallel(n_jobs=1)]: Using backend SequentialBackend with 1 concurrent workers.\n"
     ]
    },
    {
     "name": "stdout",
     "output_type": "stream",
     "text": [
      "Not setting metadata\n"
     ]
    },
    {
     "name": "stderr",
     "output_type": "stream",
     "text": [
      "[Parallel(n_jobs=1)]: Done   1 out of   1 | elapsed:    1.2s remaining:    0.0s\n",
      "[Parallel(n_jobs=1)]: Done   1 out of   1 | elapsed:    1.2s finished\n"
     ]
    },
    {
     "name": "stdout",
     "output_type": "stream",
     "text": [
      "{'done'}\n"
     ]
    },
    {
     "name": "stderr",
     "output_type": "stream",
     "text": [
      "/home/b1044271/anaconda3/envs/mne/lib/python3.10/site-packages/pymatreader/utils.py:122: UserWarning: Complex objects (like classes) are not supported. They are imported on a best effort base but your mileage will vary.\n",
      "  warn('Complex objects (like classes) are not supported. '\n"
     ]
    },
    {
     "name": "stdout",
     "output_type": "stream",
     "text": [
      "Extracting parameters from /home/b1044271/Columbia/Preprocessed/Stage_epoched/KC_noKC/NEW/VP19_all_ica_noStimNoKC_UFV.set...\n",
      "Not setting metadata\n",
      "82 matching events found\n",
      "No baseline correction applied\n",
      "0 projection items activated\n",
      "Ready.\n"
     ]
    },
    {
     "name": "stderr",
     "output_type": "stream",
     "text": [
      "/tmp/ipykernel_814582/529079461.py:26: RuntimeWarning: At least one epoch has multiple events. Only the latency of the first event will be retained.\n",
      "  EEG = mne.read_epochs_eeglab(os.path.join(Data_path2, x))\n",
      "[Parallel(n_jobs=1)]: Using backend SequentialBackend with 1 concurrent workers.\n"
     ]
    },
    {
     "name": "stdout",
     "output_type": "stream",
     "text": [
      "Not setting metadata\n",
      "{'done'}\n"
     ]
    },
    {
     "name": "stderr",
     "output_type": "stream",
     "text": [
      "[Parallel(n_jobs=1)]: Done   1 out of   1 | elapsed:    0.7s remaining:    0.0s\n",
      "[Parallel(n_jobs=1)]: Done   1 out of   1 | elapsed:    0.7s finished\n"
     ]
    }
   ],
   "source": [
    "electrode = 'E257'\n",
    "\n",
    "fs = 250\n",
    "f_max=45\n",
    "\n",
    "# Settings for FOOOF\n",
    "SETTINGS_F1={'max_n_peaks':8, 'aperiodic_mode':'knee'}\n",
    "\n",
    "i = 0\n",
    "for x in subj_files:\n",
    "    EEG = mne.read_epochs_eeglab(os.path.join(Data_path, x))\n",
    "    EEG = EEG.pick(electrode, exclude=[]) # select Cz for further analysis\n",
    "\n",
    "    EEG_psd1 = tfr_multitaper(EEG, freqs=np.arange(1,45.5,0.5), n_cycles=np.arange(1,45.5,0.5), use_fft=True, return_itc=False,\n",
    "    average=False, decim=2)\n",
    "    \n",
    "    XX = np.transpose(np.mean(np.squeeze(EEG_psd1._data),0))\n",
    "    \n",
    "    p_PSD1[i,0:89] = XX[int(peak_idx[i]),:]  # get psd at the peak\n",
    "    \n",
    "    i=i+1\n",
    "    \n",
    "    #######################################\n",
    "i = 0\n",
    "for x in subj_files2:   \n",
    "    EEG = mne.read_epochs_eeglab(os.path.join(Data_path2, x))\n",
    "    EEG = EEG.pick(electrode, exclude=[]) # select Cz for further analysis\n",
    "\n",
    "    EEG_psd1 = tfr_multitaper(EEG, freqs=np.arange(1,45.5,0.5), n_cycles=np.arange(1,45.5,0.5), use_fft=True, return_itc=False,\n",
    "    average=False, decim=2)\n",
    "    \n",
    "    XX = np.transpose(np.mean(np.squeeze(EEG_psd1._data),0))\n",
    "    \n",
    "    p_PSD2[i,0:89] = XX[int(peak_idx2[i]),:]  # get psd at the peak\n",
    "    \n",
    "    XX=[]\n",
    "    print({'done'})\n",
    "    \n",
    "    i=i+1"
   ]
  },
  {
   "cell_type": "code",
   "execution_count": 35,
   "id": "e442267a",
   "metadata": {},
   "outputs": [],
   "source": [
    "path_res = '/home/b1044271/Columbia/Results/'\n",
    "\n",
    "np.savetxt(path_res + 'peakPSD_KC.txt',p_PSD1)\n",
    "np.savetxt(path_res + 'peakPSD_noKC.txt',p_PSD2)"
   ]
  },
  {
   "cell_type": "code",
   "execution_count": 42,
   "id": "902414dd",
   "metadata": {},
   "outputs": [
    {
     "data": {
      "image/png": "[encoded data removed]",
      "text/plain": [
       "<Figure size 640x480 with 1 Axes>"
      ]
     },
     "metadata": {},
     "output_type": "display_data"
    }
   ],
   "source": [
    "from scipy.interpolate import make_interp_spline, BSpline\n",
    "\n",
    "PSD_Ps = stats.sem(p_PSD1,0, nan_policy = 'omit')\n",
    "PSD_Pm = np.nanmean(p_PSD1,axis=0)\n",
    "\n",
    "PSD_Bs = stats.sem(p_PSD2,0, nan_policy = 'omit')\n",
    "PSD_Bm = np.nanmean(p_PSD2,axis=0)\n",
    "\n",
    "df = pd.DataFrame({'col1': np.log(EEG_psd1.freqs[0:78]) , 'col2': np.repeat(10e-11,78)})\n",
    "# SMOOTHING\n",
    "\n",
    "xnew = np.linspace(EEG_psd1.freqs[0],EEG_psd1.freqs[-1],1000)\n",
    "\n",
    "# y values\n",
    "spl = make_interp_spline(EEG_psd1.freqs, PSD_Pm, k=3) #BSpline object\n",
    "s_counts1=spl(xnew)\n",
    "#standard error\n",
    "s1 = make_interp_spline(EEG_psd1.freqs, PSD_Ps, k=3) #BSpline object\n",
    "s_sem1=s1(xnew)\n",
    "\n",
    "# y values\n",
    "spl = make_interp_spline(EEG_psd1.freqs, PSD_Bm, k=3) #BSpline object\n",
    "s_counts2=spl(xnew)\n",
    "#standard error\n",
    "s2 = make_interp_spline(EEG_psd1.freqs, PSD_Bs, k=3) #BSpline object\n",
    "s_sem2=s2(xnew)\n",
    "\n",
    "\n",
    "plt.plot(xnew, s_counts1, 'navy', label='KC',linewidth=4)\n",
    "plt.fill_between(xnew, s_counts1-s_sem1, s_counts1+s_sem1,facecolor='navy', alpha=0.25)\n",
    "\n",
    "plt.plot(xnew, s_counts2, 'dodgerblue', label='no KC',linewidth=4)\n",
    "plt.fill_between(xnew, s_counts2-s_sem2, s_counts2+s_sem2,facecolor='dodgerblue', alpha=0.25)\n",
    "\n",
    "\n",
    "plt.plot(EEG_psd1.freqs[29:89], np.repeat(10e-8,89-29), color='black', linewidth=3, solid_capstyle='round')\n",
    "plt.plot(EEG_psd1.freqs[0:25], np.repeat(10e-8,25), color='black', linewidth=3, solid_capstyle='round')\n",
    "\n",
    "plt.ylabel('log(power)', fontsize=18)\n",
    "plt.title('PSDs', fontsize = 24)\n",
    "plt.xlabel('log(frequency)', fontsize=18)\n",
    "plt.xticks(fontsize=18)\n",
    "plt.yticks(fontsize=18)\n",
    "plt.xlim(EEG_psd1.freqs[0], EEG_psd1.freqs[-1])\n",
    "plt.ylim(10e-13, 10e-7)\n",
    "\n",
    "plt.legend(fontsize=20)\n",
    "plt.yscale('log')\n",
    "plt.xscale('log')\n",
    "ax=plt.gca()\n",
    "ax.spines['top'].set_visible(False)\n",
    "ax.spines['right'].set_visible(False)\n",
    "ax.tick_params(axis='both', which='both', direction='in', width=1.5, labelsize=16)  # Customize tick properties\n",
    "ax.spines['bottom'].set_linewidth(1.75)\n",
    "ax.spines['left'].set_linewidth(1.75)\n",
    "\n",
    "plt.savefig(\"/home/b1044271/Columbia/Plots/NOV23/TR_PSDs_KCnoKC.svg\", dpi = 600)"
   ]
  },
  {
   "cell_type": "markdown",
   "id": "8bc7fd5e",
   "metadata": {},
   "source": [
    "# STIM NO STIM"
   ]
  },
  {
   "cell_type": "code",
   "execution_count": 23,
   "id": "dd784924",
   "metadata": {},
   "outputs": [],
   "source": [
    "Data_path = '/home/b1044271/Columbia/Preprocessed/Stage_epoched/Stim_NoStim/NEW/*StimsN.set'\n",
    "subj_files = sorted(glob.glob(Data_path))\n",
    "\n",
    "peak_idx = np.load('/home/b1044271/Columbia/Results/localMax_REM.npy')\n",
    "\n",
    "time = np.load('/home/b1044271/Columbia/Results/Time-resolved/Transitions/Cz/MT/Time_5-5_MT.npy') # time vector -5 to 5 MT\n",
    "\n",
    "baseline = 500 #  500 --> -1 s\n",
    "Data_path = '/home/b1044271/Columbia/Preprocessed/Stage_epoched/Stim_NoStim/NEW/*StimsN.set'\n",
    "subj_files = sorted(glob.glob(Data_path))\n",
    "\n",
    "p_PSD2 = np.zeros([17,89])*np.nan\n",
    "b_PSD2 = np.zeros([17,89])*np.nan"
   ]
  },
  {
   "cell_type": "code",
   "execution_count": 24,
   "id": "474483d6",
   "metadata": {
    "collapsed": true
   },
   "outputs": [
    {
     "name": "stderr",
     "output_type": "stream",
     "text": [
      "/home/b1044271/anaconda3/envs/mne/lib/python3.10/site-packages/pymatreader/utils.py:122: UserWarning: Complex objects (like classes) are not supported. They are imported on a best effort base but your mileage will vary.\n",
      "  warn('Complex objects (like classes) are not supported. '\n"
     ]
    },
    {
     "name": "stdout",
     "output_type": "stream",
     "text": [
      "Extracting parameters from /home/b1044271/Columbia/Preprocessed/Stage_epoched/Stim_NoStim/NEW/VP01_StimsR.set...\n"
     ]
    },
    {
     "name": "stderr",
     "output_type": "stream",
     "text": [
      "/tmp/ipykernel_738357/1187693939.py:13: RuntimeWarning: At least one epoch has multiple events. Only the latency of the first event will be retained.\n",
      "  EEG = mne.read_epochs_eeglab(os.path.join(Data_path, x))\n"
     ]
    },
    {
     "name": "stdout",
     "output_type": "stream",
     "text": [
      "Not setting metadata\n",
      "255 matching events found\n",
      "No baseline correction applied\n",
      "0 projection items activated\n",
      "Ready.\n"
     ]
    },
    {
     "name": "stderr",
     "output_type": "stream",
     "text": [
      "[Parallel(n_jobs=1)]: Using backend SequentialBackend with 1 concurrent workers.\n",
      "[Parallel(n_jobs=1)]: Done   1 out of   1 | elapsed:    5.7s remaining:    0.0s\n",
      "[Parallel(n_jobs=1)]: Done   1 out of   1 | elapsed:    5.7s finished\n"
     ]
    },
    {
     "name": "stdout",
     "output_type": "stream",
     "text": [
      "Not setting metadata\n",
      "{'done'}\n"
     ]
    },
    {
     "name": "stderr",
     "output_type": "stream",
     "text": [
      "/home/b1044271/anaconda3/envs/mne/lib/python3.10/site-packages/pymatreader/utils.py:122: UserWarning: Complex objects (like classes) are not supported. They are imported on a best effort base but your mileage will vary.\n",
      "  warn('Complex objects (like classes) are not supported. '\n"
     ]
    },
    {
     "name": "stdout",
     "output_type": "stream",
     "text": [
      "Extracting parameters from /home/b1044271/Columbia/Preprocessed/Stage_epoched/Stim_NoStim/NEW/VP03_StimsR.set...\n"
     ]
    },
    {
     "name": "stderr",
     "output_type": "stream",
     "text": [
      "/tmp/ipykernel_738357/1187693939.py:13: RuntimeWarning: At least one epoch has multiple events. Only the latency of the first event will be retained.\n",
      "  EEG = mne.read_epochs_eeglab(os.path.join(Data_path, x))\n"
     ]
    },
    {
     "name": "stdout",
     "output_type": "stream",
     "text": [
      "Not setting metadata\n",
      "188 matching events found\n",
      "No baseline correction applied\n",
      "0 projection items activated\n",
      "Ready.\n"
     ]
    },
    {
     "name": "stderr",
     "output_type": "stream",
     "text": [
      "[Parallel(n_jobs=1)]: Using backend SequentialBackend with 1 concurrent workers.\n"
     ]
    },
    {
     "name": "stdout",
     "output_type": "stream",
     "text": [
      "Not setting metadata\n"
     ]
    },
    {
     "name": "stderr",
     "output_type": "stream",
     "text": [
      "[Parallel(n_jobs=1)]: Done   1 out of   1 | elapsed:    4.6s remaining:    0.0s\n",
      "[Parallel(n_jobs=1)]: Done   1 out of   1 | elapsed:    4.6s finished\n"
     ]
    },
    {
     "name": "stdout",
     "output_type": "stream",
     "text": [
      "{'done'}\n"
     ]
    },
    {
     "name": "stderr",
     "output_type": "stream",
     "text": [
      "/home/b1044271/anaconda3/envs/mne/lib/python3.10/site-packages/pymatreader/utils.py:122: UserWarning: Complex objects (like classes) are not supported. They are imported on a best effort base but your mileage will vary.\n",
      "  warn('Complex objects (like classes) are not supported. '\n"
     ]
    },
    {
     "name": "stdout",
     "output_type": "stream",
     "text": [
      "Extracting parameters from /home/b1044271/Columbia/Preprocessed/Stage_epoched/Stim_NoStim/NEW/VP04_StimsR.set...\n"
     ]
    },
    {
     "name": "stderr",
     "output_type": "stream",
     "text": [
      "/tmp/ipykernel_738357/1187693939.py:13: RuntimeWarning: At least one epoch has multiple events. Only the latency of the first event will be retained.\n",
      "  EEG = mne.read_epochs_eeglab(os.path.join(Data_path, x))\n"
     ]
    },
    {
     "name": "stdout",
     "output_type": "stream",
     "text": [
      "Not setting metadata\n",
      "360 matching events found\n",
      "No baseline correction applied\n",
      "0 projection items activated\n",
      "Ready.\n"
     ]
    },
    {
     "name": "stderr",
     "output_type": "stream",
     "text": [
      "[Parallel(n_jobs=1)]: Using backend SequentialBackend with 1 concurrent workers.\n"
     ]
    },
    {
     "name": "stdout",
     "output_type": "stream",
     "text": [
      "Not setting metadata\n"
     ]
    },
    {
     "name": "stderr",
     "output_type": "stream",
     "text": [
      "[Parallel(n_jobs=1)]: Done   1 out of   1 | elapsed:    8.8s remaining:    0.0s\n",
      "[Parallel(n_jobs=1)]: Done   1 out of   1 | elapsed:    8.8s finished\n"
     ]
    },
    {
     "name": "stdout",
     "output_type": "stream",
     "text": [
      "{'done'}\n"
     ]
    },
    {
     "name": "stderr",
     "output_type": "stream",
     "text": [
      "/home/b1044271/anaconda3/envs/mne/lib/python3.10/site-packages/pymatreader/utils.py:122: UserWarning: Complex objects (like classes) are not supported. They are imported on a best effort base but your mileage will vary.\n",
      "  warn('Complex objects (like classes) are not supported. '\n"
     ]
    },
    {
     "name": "stdout",
     "output_type": "stream",
     "text": [
      "Extracting parameters from /home/b1044271/Columbia/Preprocessed/Stage_epoched/Stim_NoStim/NEW/VP05_StimsR.set...\n"
     ]
    },
    {
     "name": "stderr",
     "output_type": "stream",
     "text": [
      "/tmp/ipykernel_738357/1187693939.py:13: RuntimeWarning: At least one epoch has multiple events. Only the latency of the first event will be retained.\n",
      "  EEG = mne.read_epochs_eeglab(os.path.join(Data_path, x))\n"
     ]
    },
    {
     "name": "stdout",
     "output_type": "stream",
     "text": [
      "Not setting metadata\n",
      "55 matching events found\n",
      "No baseline correction applied\n",
      "0 projection items activated\n",
      "Ready.\n"
     ]
    },
    {
     "name": "stderr",
     "output_type": "stream",
     "text": [
      "[Parallel(n_jobs=1)]: Using backend SequentialBackend with 1 concurrent workers.\n"
     ]
    },
    {
     "name": "stdout",
     "output_type": "stream",
     "text": [
      "Not setting metadata\n"
     ]
    },
    {
     "name": "stderr",
     "output_type": "stream",
     "text": [
      "[Parallel(n_jobs=1)]: Done   1 out of   1 | elapsed:    1.2s remaining:    0.0s\n",
      "[Parallel(n_jobs=1)]: Done   1 out of   1 | elapsed:    1.2s finished\n"
     ]
    },
    {
     "name": "stdout",
     "output_type": "stream",
     "text": [
      "{'done'}\n"
     ]
    },
    {
     "name": "stderr",
     "output_type": "stream",
     "text": [
      "/home/b1044271/anaconda3/envs/mne/lib/python3.10/site-packages/pymatreader/utils.py:122: UserWarning: Complex objects (like classes) are not supported. They are imported on a best effort base but your mileage will vary.\n",
      "  warn('Complex objects (like classes) are not supported. '\n"
     ]
    },
    {
     "name": "stdout",
     "output_type": "stream",
     "text": [
      "Extracting parameters from /home/b1044271/Columbia/Preprocessed/Stage_epoched/Stim_NoStim/NEW/VP06_StimsR.set...\n"
     ]
    },
    {
     "name": "stderr",
     "output_type": "stream",
     "text": [
      "/tmp/ipykernel_738357/1187693939.py:13: RuntimeWarning: At least one epoch has multiple events. Only the latency of the first event will be retained.\n",
      "  EEG = mne.read_epochs_eeglab(os.path.join(Data_path, x))\n"
     ]
    },
    {
     "name": "stdout",
     "output_type": "stream",
     "text": [
      "Not setting metadata\n",
      "304 matching events found\n",
      "No baseline correction applied\n",
      "0 projection items activated\n",
      "Ready.\n"
     ]
    },
    {
     "name": "stderr",
     "output_type": "stream",
     "text": [
      "[Parallel(n_jobs=1)]: Using backend SequentialBackend with 1 concurrent workers.\n"
     ]
    },
    {
     "name": "stdout",
     "output_type": "stream",
     "text": [
      "Not setting metadata\n"
     ]
    },
    {
     "name": "stderr",
     "output_type": "stream",
     "text": [
      "[Parallel(n_jobs=1)]: Done   1 out of   1 | elapsed:    6.9s remaining:    0.0s\n",
      "[Parallel(n_jobs=1)]: Done   1 out of   1 | elapsed:    6.9s finished\n"
     ]
    },
    {
     "name": "stdout",
     "output_type": "stream",
     "text": [
      "{'done'}\n"
     ]
    },
    {
     "name": "stderr",
     "output_type": "stream",
     "text": [
      "/home/b1044271/anaconda3/envs/mne/lib/python3.10/site-packages/pymatreader/utils.py:122: UserWarning: Complex objects (like classes) are not supported. They are imported on a best effort base but your mileage will vary.\n",
      "  warn('Complex objects (like classes) are not supported. '\n"
     ]
    },
    {
     "name": "stdout",
     "output_type": "stream",
     "text": [
      "Extracting parameters from /home/b1044271/Columbia/Preprocessed/Stage_epoched/Stim_NoStim/NEW/VP07_StimsR.set...\n"
     ]
    },
    {
     "name": "stderr",
     "output_type": "stream",
     "text": [
      "/tmp/ipykernel_738357/1187693939.py:13: RuntimeWarning: At least one epoch has multiple events. Only the latency of the first event will be retained.\n",
      "  EEG = mne.read_epochs_eeglab(os.path.join(Data_path, x))\n"
     ]
    },
    {
     "name": "stdout",
     "output_type": "stream",
     "text": [
      "Not setting metadata\n",
      "135 matching events found\n",
      "No baseline correction applied\n",
      "0 projection items activated\n",
      "Ready.\n"
     ]
    },
    {
     "name": "stderr",
     "output_type": "stream",
     "text": [
      "[Parallel(n_jobs=1)]: Using backend SequentialBackend with 1 concurrent workers.\n"
     ]
    },
    {
     "name": "stdout",
     "output_type": "stream",
     "text": [
      "Not setting metadata\n"
     ]
    },
    {
     "name": "stderr",
     "output_type": "stream",
     "text": [
      "[Parallel(n_jobs=1)]: Done   1 out of   1 | elapsed:    3.8s remaining:    0.0s\n",
      "[Parallel(n_jobs=1)]: Done   1 out of   1 | elapsed:    3.8s finished\n"
     ]
    },
    {
     "name": "stdout",
     "output_type": "stream",
     "text": [
      "{'done'}\n"
     ]
    },
    {
     "name": "stderr",
     "output_type": "stream",
     "text": [
      "/home/b1044271/anaconda3/envs/mne/lib/python3.10/site-packages/pymatreader/utils.py:122: UserWarning: Complex objects (like classes) are not supported. They are imported on a best effort base but your mileage will vary.\n",
      "  warn('Complex objects (like classes) are not supported. '\n"
     ]
    },
    {
     "name": "stdout",
     "output_type": "stream",
     "text": [
      "Extracting parameters from /home/b1044271/Columbia/Preprocessed/Stage_epoched/Stim_NoStim/NEW/VP08_StimsR.set...\n"
     ]
    },
    {
     "name": "stderr",
     "output_type": "stream",
     "text": [
      "/tmp/ipykernel_738357/1187693939.py:13: RuntimeWarning: At least one epoch has multiple events. Only the latency of the first event will be retained.\n",
      "  EEG = mne.read_epochs_eeglab(os.path.join(Data_path, x))\n"
     ]
    },
    {
     "name": "stdout",
     "output_type": "stream",
     "text": [
      "Not setting metadata\n",
      "192 matching events found\n",
      "No baseline correction applied\n",
      "0 projection items activated\n",
      "Ready.\n"
     ]
    },
    {
     "name": "stderr",
     "output_type": "stream",
     "text": [
      "[Parallel(n_jobs=1)]: Using backend SequentialBackend with 1 concurrent workers.\n"
     ]
    },
    {
     "name": "stdout",
     "output_type": "stream",
     "text": [
      "Not setting metadata\n"
     ]
    },
    {
     "name": "stderr",
     "output_type": "stream",
     "text": [
      "[Parallel(n_jobs=1)]: Done   1 out of   1 | elapsed:    4.8s remaining:    0.0s\n",
      "[Parallel(n_jobs=1)]: Done   1 out of   1 | elapsed:    4.8s finished\n"
     ]
    },
    {
     "name": "stdout",
     "output_type": "stream",
     "text": [
      "{'done'}\n"
     ]
    },
    {
     "name": "stderr",
     "output_type": "stream",
     "text": [
      "/home/b1044271/anaconda3/envs/mne/lib/python3.10/site-packages/pymatreader/utils.py:122: UserWarning: Complex objects (like classes) are not supported. They are imported on a best effort base but your mileage will vary.\n",
      "  warn('Complex objects (like classes) are not supported. '\n"
     ]
    },
    {
     "name": "stdout",
     "output_type": "stream",
     "text": [
      "Extracting parameters from /home/b1044271/Columbia/Preprocessed/Stage_epoched/Stim_NoStim/NEW/VP10_StimsR.set...\n"
     ]
    },
    {
     "name": "stderr",
     "output_type": "stream",
     "text": [
      "/tmp/ipykernel_738357/1187693939.py:13: RuntimeWarning: At least one epoch has multiple events. Only the latency of the first event will be retained.\n",
      "  EEG = mne.read_epochs_eeglab(os.path.join(Data_path, x))\n"
     ]
    },
    {
     "name": "stdout",
     "output_type": "stream",
     "text": [
      "Not setting metadata\n",
      "255 matching events found\n",
      "No baseline correction applied\n",
      "0 projection items activated\n",
      "Ready.\n"
     ]
    },
    {
     "name": "stderr",
     "output_type": "stream",
     "text": [
      "[Parallel(n_jobs=1)]: Using backend SequentialBackend with 1 concurrent workers.\n"
     ]
    },
    {
     "name": "stdout",
     "output_type": "stream",
     "text": [
      "Not setting metadata\n"
     ]
    },
    {
     "name": "stderr",
     "output_type": "stream",
     "text": [
      "[Parallel(n_jobs=1)]: Done   1 out of   1 | elapsed:    6.1s remaining:    0.0s\n",
      "[Parallel(n_jobs=1)]: Done   1 out of   1 | elapsed:    6.1s finished\n"
     ]
    },
    {
     "name": "stdout",
     "output_type": "stream",
     "text": [
      "{'done'}\n"
     ]
    },
    {
     "name": "stderr",
     "output_type": "stream",
     "text": [
      "/home/b1044271/anaconda3/envs/mne/lib/python3.10/site-packages/pymatreader/utils.py:122: UserWarning: Complex objects (like classes) are not supported. They are imported on a best effort base but your mileage will vary.\n",
      "  warn('Complex objects (like classes) are not supported. '\n"
     ]
    },
    {
     "name": "stdout",
     "output_type": "stream",
     "text": [
      "Extracting parameters from /home/b1044271/Columbia/Preprocessed/Stage_epoched/Stim_NoStim/NEW/VP11_StimsR.set...\n"
     ]
    },
    {
     "name": "stderr",
     "output_type": "stream",
     "text": [
      "/tmp/ipykernel_738357/1187693939.py:13: RuntimeWarning: At least one epoch has multiple events. Only the latency of the first event will be retained.\n",
      "  EEG = mne.read_epochs_eeglab(os.path.join(Data_path, x))\n"
     ]
    },
    {
     "name": "stdout",
     "output_type": "stream",
     "text": [
      "Not setting metadata\n",
      "361 matching events found\n",
      "No baseline correction applied\n",
      "0 projection items activated\n",
      "Ready.\n"
     ]
    },
    {
     "name": "stderr",
     "output_type": "stream",
     "text": [
      "[Parallel(n_jobs=1)]: Using backend SequentialBackend with 1 concurrent workers.\n"
     ]
    },
    {
     "name": "stdout",
     "output_type": "stream",
     "text": [
      "Not setting metadata\n"
     ]
    },
    {
     "name": "stderr",
     "output_type": "stream",
     "text": [
      "[Parallel(n_jobs=1)]: Done   1 out of   1 | elapsed:    8.3s remaining:    0.0s\n",
      "[Parallel(n_jobs=1)]: Done   1 out of   1 | elapsed:    8.3s finished\n"
     ]
    },
    {
     "name": "stdout",
     "output_type": "stream",
     "text": [
      "{'done'}\n"
     ]
    },
    {
     "name": "stderr",
     "output_type": "stream",
     "text": [
      "/home/b1044271/anaconda3/envs/mne/lib/python3.10/site-packages/pymatreader/utils.py:122: UserWarning: Complex objects (like classes) are not supported. They are imported on a best effort base but your mileage will vary.\n",
      "  warn('Complex objects (like classes) are not supported. '\n"
     ]
    },
    {
     "name": "stdout",
     "output_type": "stream",
     "text": [
      "Extracting parameters from /home/b1044271/Columbia/Preprocessed/Stage_epoched/Stim_NoStim/NEW/VP12_StimsR.set...\n"
     ]
    },
    {
     "name": "stderr",
     "output_type": "stream",
     "text": [
      "/tmp/ipykernel_738357/1187693939.py:13: RuntimeWarning: At least one epoch has multiple events. Only the latency of the first event will be retained.\n",
      "  EEG = mne.read_epochs_eeglab(os.path.join(Data_path, x))\n"
     ]
    },
    {
     "name": "stdout",
     "output_type": "stream",
     "text": [
      "Not setting metadata\n",
      "469 matching events found\n",
      "No baseline correction applied\n",
      "0 projection items activated\n",
      "Ready.\n"
     ]
    },
    {
     "name": "stderr",
     "output_type": "stream",
     "text": [
      "[Parallel(n_jobs=1)]: Using backend SequentialBackend with 1 concurrent workers.\n"
     ]
    },
    {
     "name": "stdout",
     "output_type": "stream",
     "text": [
      "Not setting metadata\n"
     ]
    },
    {
     "name": "stderr",
     "output_type": "stream",
     "text": [
      "[Parallel(n_jobs=1)]: Done   1 out of   1 | elapsed:   11.0s remaining:    0.0s\n",
      "[Parallel(n_jobs=1)]: Done   1 out of   1 | elapsed:   11.0s finished\n"
     ]
    },
    {
     "name": "stdout",
     "output_type": "stream",
     "text": [
      "{'done'}\n"
     ]
    },
    {
     "name": "stderr",
     "output_type": "stream",
     "text": [
      "/home/b1044271/anaconda3/envs/mne/lib/python3.10/site-packages/pymatreader/utils.py:122: UserWarning: Complex objects (like classes) are not supported. They are imported on a best effort base but your mileage will vary.\n",
      "  warn('Complex objects (like classes) are not supported. '\n"
     ]
    },
    {
     "name": "stdout",
     "output_type": "stream",
     "text": [
      "Extracting parameters from /home/b1044271/Columbia/Preprocessed/Stage_epoched/Stim_NoStim/NEW/VP13_StimsR.set...\n",
      "Not setting metadata\n",
      "20 matching events found\n",
      "No baseline correction applied\n",
      "0 projection items activated\n",
      "Ready.\n"
     ]
    },
    {
     "name": "stderr",
     "output_type": "stream",
     "text": [
      "/tmp/ipykernel_738357/1187693939.py:13: RuntimeWarning: At least one epoch has multiple events. Only the latency of the first event will be retained.\n",
      "  EEG = mne.read_epochs_eeglab(os.path.join(Data_path, x))\n",
      "[Parallel(n_jobs=1)]: Using backend SequentialBackend with 1 concurrent workers.\n"
     ]
    },
    {
     "name": "stdout",
     "output_type": "stream",
     "text": [
      "Not setting metadata\n"
     ]
    },
    {
     "name": "stderr",
     "output_type": "stream",
     "text": [
      "[Parallel(n_jobs=1)]: Done   1 out of   1 | elapsed:    0.5s remaining:    0.0s\n",
      "[Parallel(n_jobs=1)]: Done   1 out of   1 | elapsed:    0.6s finished\n"
     ]
    },
    {
     "name": "stdout",
     "output_type": "stream",
     "text": [
      "{'done'}\n"
     ]
    },
    {
     "name": "stderr",
     "output_type": "stream",
     "text": [
      "/home/b1044271/anaconda3/envs/mne/lib/python3.10/site-packages/pymatreader/utils.py:122: UserWarning: Complex objects (like classes) are not supported. They are imported on a best effort base but your mileage will vary.\n",
      "  warn('Complex objects (like classes) are not supported. '\n"
     ]
    },
    {
     "name": "stdout",
     "output_type": "stream",
     "text": [
      "Extracting parameters from /home/b1044271/Columbia/Preprocessed/Stage_epoched/Stim_NoStim/NEW/VP14_StimsR.set...\n"
     ]
    },
    {
     "name": "stderr",
     "output_type": "stream",
     "text": [
      "/tmp/ipykernel_738357/1187693939.py:13: RuntimeWarning: At least one epoch has multiple events. Only the latency of the first event will be retained.\n",
      "  EEG = mne.read_epochs_eeglab(os.path.join(Data_path, x))\n"
     ]
    },
    {
     "name": "stdout",
     "output_type": "stream",
     "text": [
      "Not setting metadata\n",
      "102 matching events found\n",
      "No baseline correction applied\n",
      "0 projection items activated\n",
      "Ready.\n"
     ]
    },
    {
     "name": "stderr",
     "output_type": "stream",
     "text": [
      "[Parallel(n_jobs=1)]: Using backend SequentialBackend with 1 concurrent workers.\n"
     ]
    },
    {
     "name": "stdout",
     "output_type": "stream",
     "text": [
      "Not setting metadata\n"
     ]
    },
    {
     "name": "stderr",
     "output_type": "stream",
     "text": [
      "[Parallel(n_jobs=1)]: Done   1 out of   1 | elapsed:    2.6s remaining:    0.0s\n",
      "[Parallel(n_jobs=1)]: Done   1 out of   1 | elapsed:    2.6s finished\n"
     ]
    },
    {
     "name": "stdout",
     "output_type": "stream",
     "text": [
      "{'done'}\n"
     ]
    },
    {
     "name": "stderr",
     "output_type": "stream",
     "text": [
      "/home/b1044271/anaconda3/envs/mne/lib/python3.10/site-packages/pymatreader/utils.py:122: UserWarning: Complex objects (like classes) are not supported. They are imported on a best effort base but your mileage will vary.\n",
      "  warn('Complex objects (like classes) are not supported. '\n"
     ]
    },
    {
     "name": "stdout",
     "output_type": "stream",
     "text": [
      "Extracting parameters from /home/b1044271/Columbia/Preprocessed/Stage_epoched/Stim_NoStim/NEW/VP15_StimsR.set...\n"
     ]
    },
    {
     "name": "stderr",
     "output_type": "stream",
     "text": [
      "/tmp/ipykernel_738357/1187693939.py:13: RuntimeWarning: At least one epoch has multiple events. Only the latency of the first event will be retained.\n",
      "  EEG = mne.read_epochs_eeglab(os.path.join(Data_path, x))\n"
     ]
    },
    {
     "name": "stdout",
     "output_type": "stream",
     "text": [
      "Not setting metadata\n",
      "390 matching events found\n",
      "No baseline correction applied\n",
      "0 projection items activated\n",
      "Ready.\n"
     ]
    },
    {
     "name": "stderr",
     "output_type": "stream",
     "text": [
      "[Parallel(n_jobs=1)]: Using backend SequentialBackend with 1 concurrent workers.\n",
      "[Parallel(n_jobs=1)]: Done   1 out of   1 | elapsed:    8.3s remaining:    0.0s\n",
      "[Parallel(n_jobs=1)]: Done   1 out of   1 | elapsed:    8.3s finished\n"
     ]
    },
    {
     "name": "stdout",
     "output_type": "stream",
     "text": [
      "Not setting metadata\n",
      "{'done'}\n"
     ]
    },
    {
     "name": "stderr",
     "output_type": "stream",
     "text": [
      "/home/b1044271/anaconda3/envs/mne/lib/python3.10/site-packages/pymatreader/utils.py:122: UserWarning: Complex objects (like classes) are not supported. They are imported on a best effort base but your mileage will vary.\n",
      "  warn('Complex objects (like classes) are not supported. '\n"
     ]
    },
    {
     "name": "stdout",
     "output_type": "stream",
     "text": [
      "Extracting parameters from /home/b1044271/Columbia/Preprocessed/Stage_epoched/Stim_NoStim/NEW/VP16_StimsR.set...\n"
     ]
    },
    {
     "name": "stderr",
     "output_type": "stream",
     "text": [
      "/tmp/ipykernel_738357/1187693939.py:13: RuntimeWarning: At least one epoch has multiple events. Only the latency of the first event will be retained.\n",
      "  EEG = mne.read_epochs_eeglab(os.path.join(Data_path, x))\n"
     ]
    },
    {
     "name": "stdout",
     "output_type": "stream",
     "text": [
      "Not setting metadata\n",
      "339 matching events found\n",
      "No baseline correction applied\n",
      "0 projection items activated\n",
      "Ready.\n"
     ]
    },
    {
     "name": "stderr",
     "output_type": "stream",
     "text": [
      "[Parallel(n_jobs=1)]: Using backend SequentialBackend with 1 concurrent workers.\n",
      "[Parallel(n_jobs=1)]: Done   1 out of   1 | elapsed:    8.3s remaining:    0.0s\n",
      "[Parallel(n_jobs=1)]: Done   1 out of   1 | elapsed:    8.3s finished\n"
     ]
    },
    {
     "name": "stdout",
     "output_type": "stream",
     "text": [
      "Not setting metadata\n",
      "{'done'}\n"
     ]
    },
    {
     "name": "stderr",
     "output_type": "stream",
     "text": [
      "/home/b1044271/anaconda3/envs/mne/lib/python3.10/site-packages/pymatreader/utils.py:122: UserWarning: Complex objects (like classes) are not supported. They are imported on a best effort base but your mileage will vary.\n",
      "  warn('Complex objects (like classes) are not supported. '\n"
     ]
    },
    {
     "name": "stdout",
     "output_type": "stream",
     "text": [
      "Extracting parameters from /home/b1044271/Columbia/Preprocessed/Stage_epoched/Stim_NoStim/NEW/VP17_StimsR.set...\n",
      "Not setting metadata\n",
      "40 matching events found\n"
     ]
    },
    {
     "name": "stderr",
     "output_type": "stream",
     "text": [
      "/tmp/ipykernel_738357/1187693939.py:13: RuntimeWarning: At least one epoch has multiple events. Only the latency of the first event will be retained.\n",
      "  EEG = mne.read_epochs_eeglab(os.path.join(Data_path, x))\n"
     ]
    },
    {
     "name": "stdout",
     "output_type": "stream",
     "text": [
      "No baseline correction applied\n",
      "0 projection items activated\n",
      "Ready.\n"
     ]
    },
    {
     "name": "stderr",
     "output_type": "stream",
     "text": [
      "[Parallel(n_jobs=1)]: Using backend SequentialBackend with 1 concurrent workers.\n"
     ]
    },
    {
     "name": "stdout",
     "output_type": "stream",
     "text": [
      "Not setting metadata\n"
     ]
    },
    {
     "name": "stderr",
     "output_type": "stream",
     "text": [
      "[Parallel(n_jobs=1)]: Done   1 out of   1 | elapsed:    1.0s remaining:    0.0s\n",
      "[Parallel(n_jobs=1)]: Done   1 out of   1 | elapsed:    1.0s finished\n"
     ]
    },
    {
     "name": "stdout",
     "output_type": "stream",
     "text": [
      "{'done'}\n"
     ]
    },
    {
     "name": "stderr",
     "output_type": "stream",
     "text": [
      "/home/b1044271/anaconda3/envs/mne/lib/python3.10/site-packages/pymatreader/utils.py:122: UserWarning: Complex objects (like classes) are not supported. They are imported on a best effort base but your mileage will vary.\n",
      "  warn('Complex objects (like classes) are not supported. '\n"
     ]
    },
    {
     "name": "stdout",
     "output_type": "stream",
     "text": [
      "Extracting parameters from /home/b1044271/Columbia/Preprocessed/Stage_epoched/Stim_NoStim/NEW/VP18_StimsR.set...\n"
     ]
    },
    {
     "name": "stderr",
     "output_type": "stream",
     "text": [
      "/tmp/ipykernel_738357/1187693939.py:13: RuntimeWarning: At least one epoch has multiple events. Only the latency of the first event will be retained.\n",
      "  EEG = mne.read_epochs_eeglab(os.path.join(Data_path, x))\n"
     ]
    },
    {
     "name": "stdout",
     "output_type": "stream",
     "text": [
      "Not setting metadata\n",
      "165 matching events found\n",
      "No baseline correction applied\n",
      "0 projection items activated\n",
      "Ready.\n"
     ]
    },
    {
     "name": "stderr",
     "output_type": "stream",
     "text": [
      "[Parallel(n_jobs=1)]: Using backend SequentialBackend with 1 concurrent workers.\n"
     ]
    },
    {
     "name": "stdout",
     "output_type": "stream",
     "text": [
      "Not setting metadata\n"
     ]
    },
    {
     "name": "stderr",
     "output_type": "stream",
     "text": [
      "[Parallel(n_jobs=1)]: Done   1 out of   1 | elapsed:    3.7s remaining:    0.0s\n",
      "[Parallel(n_jobs=1)]: Done   1 out of   1 | elapsed:    3.7s finished\n"
     ]
    },
    {
     "name": "stdout",
     "output_type": "stream",
     "text": [
      "{'done'}\n"
     ]
    },
    {
     "name": "stderr",
     "output_type": "stream",
     "text": [
      "/home/b1044271/anaconda3/envs/mne/lib/python3.10/site-packages/pymatreader/utils.py:122: UserWarning: Complex objects (like classes) are not supported. They are imported on a best effort base but your mileage will vary.\n",
      "  warn('Complex objects (like classes) are not supported. '\n"
     ]
    },
    {
     "name": "stdout",
     "output_type": "stream",
     "text": [
      "Extracting parameters from /home/b1044271/Columbia/Preprocessed/Stage_epoched/Stim_NoStim/NEW/VP19_StimsR.set...\n",
      "Not setting metadata\n",
      "15 matching events found\n",
      "No baseline correction applied\n",
      "0 projection items activated\n",
      "Ready.\n"
     ]
    },
    {
     "name": "stderr",
     "output_type": "stream",
     "text": [
      "/tmp/ipykernel_738357/1187693939.py:13: RuntimeWarning: At least one epoch has multiple events. Only the latency of the first event will be retained.\n",
      "  EEG = mne.read_epochs_eeglab(os.path.join(Data_path, x))\n",
      "[Parallel(n_jobs=1)]: Using backend SequentialBackend with 1 concurrent workers.\n"
     ]
    },
    {
     "name": "stdout",
     "output_type": "stream",
     "text": [
      "Not setting metadata\n",
      "{'done'}\n"
     ]
    },
    {
     "name": "stderr",
     "output_type": "stream",
     "text": [
      "[Parallel(n_jobs=1)]: Done   1 out of   1 | elapsed:    0.4s remaining:    0.0s\n",
      "[Parallel(n_jobs=1)]: Done   1 out of   1 | elapsed:    0.4s finished\n"
     ]
    }
   ],
   "source": [
    "electrode = 'E257'\n",
    "\n",
    "fs = 250\n",
    "f_max=45\n",
    "\n",
    "# Settings for FOOOF\n",
    "SETTINGS_F1={'max_n_peaks':8, 'aperiodic_mode':'knee'}\n",
    "\n",
    "i = 0\n",
    "for x in subj_files:\n",
    "    EEG = mne.read_epochs_eeglab(os.path.join(Data_path, x))\n",
    "    EEG = EEG.pick(electrode, exclude=[]) # select Cz for further analysis\n",
    "\n",
    "    EEG_psd1 = tfr_multitaper(EEG, freqs=np.arange(1,45.5,0.5), n_cycles=np.arange(1,45.5,0.5), use_fft=True, return_itc=False,\n",
    "    average=False, decim=2)\n",
    "    \n",
    "    XX = np.transpose(np.mean(np.squeeze(EEG_psd1._data),0))\n",
    "    \n",
    "    p_PSD2[i,0:89] = XX[int(peak_idx[i]),:]  # get psd at the peak\n",
    "    b_PSD2[i,0:89] = XX[baseline,:] # get PSD at baseline\n",
    "    \n",
    "    XX=[]\n",
    "    print({'done'})\n",
    "    \n",
    "    i=i+1"
   ]
  },
  {
   "cell_type": "markdown",
   "id": "be598a4a",
   "metadata": {},
   "source": [
    "# SAVING"
   ]
  },
  {
   "cell_type": "code",
   "execution_count": 25,
   "id": "c6666d88",
   "metadata": {},
   "outputs": [],
   "source": [
    "path_res = '/home/b1044271/Columbia/Results/'\n",
    "\n",
    "np.savetxt(path_res + 'peakPSD_REM.txt',p_PSD)\n",
    "np.savetxt(path_res + 'basePSD_REM.txt',b_PSD)"
   ]
  },
  {
   "cell_type": "code",
   "execution_count": 233,
   "id": "b74d6d41",
   "metadata": {},
   "outputs": [],
   "source": [
    "NREM_p = p_PSD[::2,:]\n",
    "REM_p = p_PSD[1::2,:]\n",
    "Peak_all  = np.mean(np.dstack((NREM_p, REM_p)),2)\n",
    "\n",
    "NREM_b = b_PSD[::2,:]\n",
    "REM_b = b_PSD[1::2,:]\n",
    "Base_all  = np.mean(np.dstack((NREM_b, REM_b)),2)\n",
    "\n",
    "path_res = '/home/b1044271/Columbia/Results/'\n",
    "\n",
    "np.savetxt(path_res + 'peakPSD_compiled_100ms.txt',Peak_all )\n",
    "np.savetxt(path_res + 'basePSD_complied_100ms.txt',Base_all)"
   ]
  },
  {
   "cell_type": "code",
   "execution_count": 217,
   "id": "f528c40e",
   "metadata": {},
   "outputs": [],
   "source": [
    "path_res = '/home/b1044271/Columbia/Results/'\n",
    "\n",
    "np.savetxt(path_res + 'peakPSD3.txt',p_PSD )\n",
    "np.savetxt(path_res + 'basePSD3.txt',b_PSD)"
   ]
  },
  {
   "cell_type": "markdown",
   "id": "d2fad39c",
   "metadata": {},
   "source": [
    "# Start from here to only load data and plot"
   ]
  },
  {
   "cell_type": "code",
   "execution_count": 55,
   "id": "411dae30",
   "metadata": {},
   "outputs": [],
   "source": [
    "path_res = '/home/b1044271/Columbia/Results/'\n",
    "\n",
    "p_PSD = np.loadtxt(path_res + 'peakPSD2.txt')\n",
    "b_PSD = np.loadtxt(path_res + 'basePSD2.txt')"
   ]
  },
  {
   "cell_type": "code",
   "execution_count": 16,
   "id": "135d01f0",
   "metadata": {},
   "outputs": [
    {
     "data": {
      "image/png": "[encoded data removed]",
      "text/plain": [
       "<Figure size 640x480 with 1 Axes>"
      ]
     },
     "metadata": {},
     "output_type": "display_data"
    }
   ],
   "source": [
    "from scipy.interpolate import make_interp_spline, BSpline\n",
    "\n",
    "PSD_Ps = stats.sem(p_PSD1,0, nan_policy = 'omit')\n",
    "PSD_Pm = np.nanmean(p_PSD1,axis=0)\n",
    "\n",
    "PSD_Bs = stats.sem(b_PSD1,0, nan_policy = 'omit')\n",
    "PSD_Bm = np.nanmean(b_PSD1,axis=0)\n",
    "\n",
    "df = pd.DataFrame({'col1': np.log(EEG_psd1.freqs[0:78]) , 'col2': np.repeat(10e-11,78)})\n",
    "# SMOOTHING\n",
    "\n",
    "xnew = np.linspace(EEG_psd1.freqs[0],EEG_psd1.freqs[-1],1000)\n",
    "\n",
    "# y values\n",
    "spl = make_interp_spline(EEG_psd1.freqs, PSD_Pm, k=3) #BSpline object\n",
    "s_counts1=spl(xnew)\n",
    "#standard error\n",
    "s1 = make_interp_spline(EEG_psd1.freqs, PSD_Ps, k=3) #BSpline object\n",
    "s_sem1=s1(xnew)\n",
    "\n",
    "# y values\n",
    "spl = make_interp_spline(EEG_psd1.freqs, PSD_Bm, k=3) #BSpline object\n",
    "s_counts2=spl(xnew)\n",
    "#standard error\n",
    "s2 = make_interp_spline(EEG_psd1.freqs, PSD_Bs, k=3) #BSpline object\n",
    "s_sem2=s2(xnew)\n",
    "\n",
    "\n",
    "plt.plot(xnew, s_counts1, 'navy', label='peak',linewidth=4)\n",
    "plt.fill_between(xnew, s_counts1-s_sem1, s_counts1+s_sem1,facecolor='navy', alpha=0.25)\n",
    "\n",
    "plt.plot(xnew, s_counts2, 'dodgerblue', label='baseline',linewidth=4)\n",
    "plt.fill_between(xnew, s_counts2-s_sem2, s_counts2+s_sem2,facecolor='dodgerblue', alpha=0.25)\n",
    "\n",
    "# stats from matlab cluster-based permutation in fieldtrip\n",
    "#plt.axvspan(EEG_psd1.freqs[0], EEG_psd1.freqs[78], alpha=0.3, color='grey')\n",
    "plt.plot(EEG_psd1.freqs[0:78], np.repeat(10e-8,78), color='grey', linewidth=3, solid_capstyle='round')\n",
    "#seaborn.stripplot(df, x='col1', y='col2')\n",
    "\n",
    "plt.ylabel('log(power)', fontsize=18)\n",
    "plt.title('PSDs', fontsize = 24)\n",
    "plt.xlabel('log(frequency)', fontsize=18)\n",
    "plt.xticks(fontsize=18)\n",
    "plt.yticks(fontsize=18)\n",
    "plt.xlim(EEG_psd1.freqs[0], EEG_psd1.freqs[-1])\n",
    "plt.ylim(10e-13, 10e-7)\n",
    "\n",
    "plt.legend(fontsize=20)\n",
    "plt.yscale('log')\n",
    "plt.xscale('log')\n",
    "ax=plt.gca()\n",
    "ax.spines['top'].set_visible(False)\n",
    "ax.spines['right'].set_visible(False)\n",
    "ax.tick_params(axis='both', which='both', direction='in', width=1.5, labelsize=16)  # Customize tick properties\n",
    "ax.spines['bottom'].set_linewidth(1.75)\n",
    "ax.spines['left'].set_linewidth(1.75)\n",
    "\n",
    "#plt.savefig(\"/home/b1044271/Columbia/Plots/NOV23/TR_PSDs_Stim2.svg\", dpi = 600)"
   ]
  },
  {
   "cell_type": "code",
   "execution_count": 75,
   "id": "0d7cf295",
   "metadata": {},
   "outputs": [],
   "source": [
    "path_res = '/home/b1044271/Columbia/Results/'\n",
    "\n",
    "p_PSD = np.loadtxt(path_res + 'peakPSD2.txt')\n",
    "b_PSD = np.loadtxt(path_res + 'basePSD2.txt')"
   ]
  },
  {
   "cell_type": "markdown",
   "id": "8afb59c3",
   "metadata": {},
   "source": [
    "# Single subject plots"
   ]
  },
  {
   "cell_type": "code",
   "execution_count": 58,
   "id": "acf8be8c",
   "metadata": {
    "collapsed": true
   },
   "outputs": [
    {
     "data": {
      "image/png": "[encoded data removed]",
      "text/plain": [
       "<Figure size 1200x900 with 32 Axes>"
      ]
     },
     "metadata": {},
     "output_type": "display_data"
    }
   ],
   "source": [
    "fig = plt.figure(figsize=(12, 9))  \n",
    "for i in np.arange(32):\n",
    "    \n",
    "    ax = fig.add_subplot(4, 8, i+1)\n",
    "    plt.loglog(p_PSD[i,:], 'r')\n",
    "    plt.loglog(b_PSD[i,:],'b')\n",
    "    plt.ylim(10e-13, 10e-7)"
   ]
  },
  {
   "cell_type": "code",
   "execution_count": 96,
   "id": "0fdce04f",
   "metadata": {},
   "outputs": [
    {
     "data": {
      "image/png": "[encoded data removed]",
      "text/plain": [
       "<Figure size 640x480 with 1 Axes>"
      ]
     },
     "metadata": {},
     "output_type": "display_data"
    }
   ],
   "source": [
    "from scipy.interpolate import make_interp_spline, BSpline\n",
    "\n",
    "PSD_Ps = stats.sem(p_PSD,0, nan_policy = 'omit')\n",
    "PSD_Pm = np.nanmean(p_PSD,axis=0)\n",
    "\n",
    "PSD_Bs = stats.sem(b_PSD,0, nan_policy = 'omit')\n",
    "PSD_Bm = np.nanmean(b_PSD,axis=0)\n",
    "\n",
    "\n",
    "# SMOOTHING\n",
    "\n",
    "xnew = np.linspace(EEG_psd1.freqs[0],EEG_psd1.freqs[-1],50)\n",
    "\n",
    "# y values\n",
    "spl = make_interp_spline(EEG_psd1.freqs, PSD_Pm, k=3) #BSpline object\n",
    "s_counts1=spl(xnew)\n",
    "#standard error\n",
    "s1 = make_interp_spline(EEG_psd1.freqs, PSD_Ps, k=3) #BSpline object\n",
    "s_sem1=s1(xnew)\n",
    "\n",
    "# y values\n",
    "spl = make_interp_spline(EEG_psd1.freqs, PSD_Bm, k=3) #BSpline object\n",
    "s_counts2=spl(xnew)\n",
    "#standard error\n",
    "s2 = make_interp_spline(EEG_psd1.freqs, PSD_Bs, k=3) #BSpline object\n",
    "s_sem2=s2(xnew)\n",
    "\n",
    "\n",
    "plt.plot(xnew, s_counts1, 'navy', label='peak',linewidth=4)\n",
    "plt.fill_between(xnew, s_counts1-s_sem1, s_counts1+s_sem1,facecolor='navy', alpha=0.25)\n",
    "\n",
    "plt.plot(xnew, s_counts2, 'dodgerblue', label='baseline',linewidth=4)\n",
    "plt.fill_between(xnew, s_counts2-s_sem2, s_counts2+s_sem2,facecolor='dodgerblue', alpha=0.25)\n",
    "\n",
    "# stats from matlab cluster-based permutation in fieldtrip\n",
    "#plt.axvspan(EEG_psd1.freqs[59], EEG_psd1.freqs[-1], alpha=0.3, color='grey')\n",
    "\n",
    "\n",
    "plt.ylabel('log(power)', fontsize=18)\n",
    "plt.title('PSDs', fontsize = 24)\n",
    "plt.xlabel('log(frequency)', fontsize=18)\n",
    "plt.xticks(fontsize=18)\n",
    "plt.yticks(fontsize=18)\n",
    "plt.xlim(EEG_psd1.freqs[0], EEG_psd1.freqs[-1])\n",
    "plt.legend(fontsize=20)\n",
    "plt.yscale('log')\n",
    "plt.xscale('log')\n",
    "ax=plt.gca()\n",
    "ax.spines['top'].set_visible(False)\n",
    "ax.spines['right'].set_visible(False)\n",
    "ax.tick_params(axis='both', which='both', direction='in', width=1.5, labelsize=16)  # Customize tick properties\n",
    "ax.spines['bottom'].set_linewidth(1.75)\n",
    "ax.spines['left'].set_linewidth(1.75)\n",
    "\n",
    "plt.savefig(\"/home/b1044271/Columbia/Plots/NOV23/TR_PSDs_Stim2.svg\", dpi = 600)"
   ]
  },
  {
   "cell_type": "markdown",
   "id": "633c60f1",
   "metadata": {},
   "source": [
    "# ERPs"
   ]
  },
  {
   "cell_type": "markdown",
   "id": "896535ad",
   "metadata": {},
   "source": [
    "## Get the erps of the 1s starting from the peak point"
   ]
  },
  {
   "cell_type": "code",
   "execution_count": 171,
   "id": "8ea18b19",
   "metadata": {},
   "outputs": [
    {
     "name": "stderr",
     "output_type": "stream",
     "text": [
      "/home/b1044271/anaconda3/envs/mne/lib/python3.10/site-packages/pymatreader/utils.py:122: UserWarning: Complex objects (like classes) are not supported. They are imported on a best effort base but your mileage will vary.\n",
      "  warn('Complex objects (like classes) are not supported. '\n"
     ]
    },
    {
     "name": "stdout",
     "output_type": "stream",
     "text": [
      "Extracting parameters from /home/b1044271/Columbia/Preprocessed/Stage_epoched/New_stage_trans/stims/Last/VP01_StimsN.set...\n"
     ]
    },
    {
     "name": "stderr",
     "output_type": "stream",
     "text": [
      "/tmp/ipykernel_368957/1274573820.py:8: RuntimeWarning: At least one epoch has multiple events. Only the latency of the first event will be retained.\n",
      "  EEG = mne.read_epochs_eeglab(os.path.join(Data_path, x))\n"
     ]
    },
    {
     "name": "stdout",
     "output_type": "stream",
     "text": [
      "Not setting metadata\n",
      "1978 matching events found\n",
      "No baseline correction applied\n",
      "0 projection items activated\n",
      "Ready.\n",
      "Not setting metadata\n"
     ]
    },
    {
     "name": "stderr",
     "output_type": "stream",
     "text": [
      "[Parallel(n_jobs=1)]: Using backend SequentialBackend with 1 concurrent workers.\n",
      "[Parallel(n_jobs=1)]: Done   1 out of   1 | elapsed:    0.0s remaining:    0.0s\n",
      "[Parallel(n_jobs=1)]: Done   1 out of   1 | elapsed:    0.0s finished\n"
     ]
    },
    {
     "name": "stdout",
     "output_type": "stream",
     "text": [
      "{'done'}\n"
     ]
    },
    {
     "name": "stderr",
     "output_type": "stream",
     "text": [
      "/home/b1044271/anaconda3/envs/mne/lib/python3.10/site-packages/pymatreader/utils.py:122: UserWarning: Complex objects (like classes) are not supported. They are imported on a best effort base but your mileage will vary.\n",
      "  warn('Complex objects (like classes) are not supported. '\n"
     ]
    },
    {
     "name": "stdout",
     "output_type": "stream",
     "text": [
      "Extracting parameters from /home/b1044271/Columbia/Preprocessed/Stage_epoched/New_stage_trans/stims/Last/VP01_StimsR.set...\n"
     ]
    },
    {
     "name": "stderr",
     "output_type": "stream",
     "text": [
      "/tmp/ipykernel_368957/1274573820.py:8: RuntimeWarning: At least one epoch has multiple events. Only the latency of the first event will be retained.\n",
      "  EEG = mne.read_epochs_eeglab(os.path.join(Data_path, x))\n"
     ]
    },
    {
     "name": "stdout",
     "output_type": "stream",
     "text": [
      "Not setting metadata\n",
      "323 matching events found\n",
      "No baseline correction applied\n",
      "0 projection items activated\n",
      "Ready.\n",
      "Not setting metadata\n"
     ]
    },
    {
     "name": "stderr",
     "output_type": "stream",
     "text": [
      "[Parallel(n_jobs=1)]: Using backend SequentialBackend with 1 concurrent workers.\n",
      "[Parallel(n_jobs=1)]: Done   1 out of   1 | elapsed:    0.0s remaining:    0.0s\n",
      "[Parallel(n_jobs=1)]: Done   1 out of   1 | elapsed:    0.0s finished\n"
     ]
    },
    {
     "name": "stdout",
     "output_type": "stream",
     "text": [
      "{'done'}\n"
     ]
    },
    {
     "name": "stderr",
     "output_type": "stream",
     "text": [
      "/home/b1044271/anaconda3/envs/mne/lib/python3.10/site-packages/pymatreader/utils.py:122: UserWarning: Complex objects (like classes) are not supported. They are imported on a best effort base but your mileage will vary.\n",
      "  warn('Complex objects (like classes) are not supported. '\n"
     ]
    },
    {
     "name": "stdout",
     "output_type": "stream",
     "text": [
      "Extracting parameters from /home/b1044271/Columbia/Preprocessed/Stage_epoched/New_stage_trans/stims/Last/VP03_StimsN.set...\n"
     ]
    },
    {
     "name": "stderr",
     "output_type": "stream",
     "text": [
      "/tmp/ipykernel_368957/1274573820.py:8: RuntimeWarning: At least one epoch has multiple events. Only the latency of the first event will be retained.\n",
      "  EEG = mne.read_epochs_eeglab(os.path.join(Data_path, x))\n"
     ]
    },
    {
     "name": "stdout",
     "output_type": "stream",
     "text": [
      "Not setting metadata\n",
      "2132 matching events found\n",
      "No baseline correction applied\n",
      "0 projection items activated\n",
      "Ready.\n",
      "Not setting metadata\n"
     ]
    },
    {
     "name": "stderr",
     "output_type": "stream",
     "text": [
      "[Parallel(n_jobs=1)]: Using backend SequentialBackend with 1 concurrent workers.\n",
      "[Parallel(n_jobs=1)]: Done   1 out of   1 | elapsed:    0.0s remaining:    0.0s\n",
      "[Parallel(n_jobs=1)]: Done   1 out of   1 | elapsed:    0.0s finished\n"
     ]
    },
    {
     "name": "stdout",
     "output_type": "stream",
     "text": [
      "{'done'}\n"
     ]
    },
    {
     "name": "stderr",
     "output_type": "stream",
     "text": [
      "/home/b1044271/anaconda3/envs/mne/lib/python3.10/site-packages/pymatreader/utils.py:122: UserWarning: Complex objects (like classes) are not supported. They are imported on a best effort base but your mileage will vary.\n",
      "  warn('Complex objects (like classes) are not supported. '\n"
     ]
    },
    {
     "name": "stdout",
     "output_type": "stream",
     "text": [
      "Extracting parameters from /home/b1044271/Columbia/Preprocessed/Stage_epoched/New_stage_trans/stims/Last/VP03_StimsR.set...\n"
     ]
    },
    {
     "name": "stderr",
     "output_type": "stream",
     "text": [
      "/tmp/ipykernel_368957/1274573820.py:8: RuntimeWarning: At least one epoch has multiple events. Only the latency of the first event will be retained.\n",
      "  EEG = mne.read_epochs_eeglab(os.path.join(Data_path, x))\n"
     ]
    },
    {
     "name": "stdout",
     "output_type": "stream",
     "text": [
      "Not setting metadata\n",
      "349 matching events found\n",
      "No baseline correction applied\n",
      "0 projection items activated\n",
      "Ready.\n",
      "Not setting metadata\n"
     ]
    },
    {
     "name": "stderr",
     "output_type": "stream",
     "text": [
      "[Parallel(n_jobs=1)]: Using backend SequentialBackend with 1 concurrent workers.\n",
      "[Parallel(n_jobs=1)]: Done   1 out of   1 | elapsed:    0.0s remaining:    0.0s\n",
      "[Parallel(n_jobs=1)]: Done   1 out of   1 | elapsed:    0.0s finished\n"
     ]
    },
    {
     "name": "stdout",
     "output_type": "stream",
     "text": [
      "{'done'}\n"
     ]
    },
    {
     "name": "stderr",
     "output_type": "stream",
     "text": [
      "/home/b1044271/anaconda3/envs/mne/lib/python3.10/site-packages/pymatreader/utils.py:122: UserWarning: Complex objects (like classes) are not supported. They are imported on a best effort base but your mileage will vary.\n",
      "  warn('Complex objects (like classes) are not supported. '\n"
     ]
    },
    {
     "name": "stdout",
     "output_type": "stream",
     "text": [
      "Extracting parameters from /home/b1044271/Columbia/Preprocessed/Stage_epoched/New_stage_trans/stims/Last/VP04_StimsN.set...\n"
     ]
    },
    {
     "name": "stderr",
     "output_type": "stream",
     "text": [
      "/tmp/ipykernel_368957/1274573820.py:8: RuntimeWarning: At least one epoch has multiple events. Only the latency of the first event will be retained.\n",
      "  EEG = mne.read_epochs_eeglab(os.path.join(Data_path, x))\n"
     ]
    },
    {
     "name": "stdout",
     "output_type": "stream",
     "text": [
      "Not setting metadata\n",
      "1337 matching events found\n",
      "No baseline correction applied\n",
      "0 projection items activated\n",
      "Ready.\n",
      "Not setting metadata\n"
     ]
    },
    {
     "name": "stderr",
     "output_type": "stream",
     "text": [
      "[Parallel(n_jobs=1)]: Using backend SequentialBackend with 1 concurrent workers.\n",
      "[Parallel(n_jobs=1)]: Done   1 out of   1 | elapsed:    0.0s remaining:    0.0s\n",
      "[Parallel(n_jobs=1)]: Done   1 out of   1 | elapsed:    0.0s finished\n",
      "/home/b1044271/anaconda3/envs/mne/lib/python3.10/site-packages/pymatreader/utils.py:122: UserWarning: Complex objects (like classes) are not supported. They are imported on a best effort base but your mileage will vary.\n",
      "  warn('Complex objects (like classes) are not supported. '\n"
     ]
    },
    {
     "name": "stdout",
     "output_type": "stream",
     "text": [
      "{'done'}\n",
      "Extracting parameters from /home/b1044271/Columbia/Preprocessed/Stage_epoched/New_stage_trans/stims/Last/VP04_StimsR.set...\n"
     ]
    },
    {
     "name": "stderr",
     "output_type": "stream",
     "text": [
      "/tmp/ipykernel_368957/1274573820.py:8: RuntimeWarning: At least one epoch has multiple events. Only the latency of the first event will be retained.\n",
      "  EEG = mne.read_epochs_eeglab(os.path.join(Data_path, x))\n"
     ]
    },
    {
     "name": "stdout",
     "output_type": "stream",
     "text": [
      "Not setting metadata\n",
      "569 matching events found\n",
      "No baseline correction applied\n",
      "0 projection items activated\n",
      "Ready.\n",
      "Not setting metadata\n"
     ]
    },
    {
     "name": "stderr",
     "output_type": "stream",
     "text": [
      "[Parallel(n_jobs=1)]: Using backend SequentialBackend with 1 concurrent workers.\n",
      "[Parallel(n_jobs=1)]: Done   1 out of   1 | elapsed:    0.0s remaining:    0.0s\n",
      "[Parallel(n_jobs=1)]: Done   1 out of   1 | elapsed:    0.0s finished\n"
     ]
    },
    {
     "name": "stdout",
     "output_type": "stream",
     "text": [
      "{'done'}\n"
     ]
    },
    {
     "name": "stderr",
     "output_type": "stream",
     "text": [
      "/home/b1044271/anaconda3/envs/mne/lib/python3.10/site-packages/pymatreader/utils.py:122: UserWarning: Complex objects (like classes) are not supported. They are imported on a best effort base but your mileage will vary.\n",
      "  warn('Complex objects (like classes) are not supported. '\n"
     ]
    },
    {
     "name": "stdout",
     "output_type": "stream",
     "text": [
      "Extracting parameters from /home/b1044271/Columbia/Preprocessed/Stage_epoched/New_stage_trans/stims/Last/VP05_StimsN.set...\n"
     ]
    },
    {
     "name": "stderr",
     "output_type": "stream",
     "text": [
      "/tmp/ipykernel_368957/1274573820.py:8: RuntimeWarning: At least one epoch has multiple events. Only the latency of the first event will be retained.\n",
      "  EEG = mne.read_epochs_eeglab(os.path.join(Data_path, x))\n"
     ]
    },
    {
     "name": "stdout",
     "output_type": "stream",
     "text": [
      "Not setting metadata\n",
      "2106 matching events found\n",
      "No baseline correction applied\n",
      "0 projection items activated\n",
      "Ready.\n",
      "Not setting metadata\n"
     ]
    },
    {
     "name": "stderr",
     "output_type": "stream",
     "text": [
      "[Parallel(n_jobs=1)]: Using backend SequentialBackend with 1 concurrent workers.\n",
      "[Parallel(n_jobs=1)]: Done   1 out of   1 | elapsed:    0.0s remaining:    0.0s\n",
      "[Parallel(n_jobs=1)]: Done   1 out of   1 | elapsed:    0.0s finished\n",
      "/home/b1044271/anaconda3/envs/mne/lib/python3.10/site-packages/pymatreader/utils.py:122: UserWarning: Complex objects (like classes) are not supported. They are imported on a best effort base but your mileage will vary.\n",
      "  warn('Complex objects (like classes) are not supported. '\n"
     ]
    },
    {
     "name": "stdout",
     "output_type": "stream",
     "text": [
      "{'done'}\n",
      "Extracting parameters from /home/b1044271/Columbia/Preprocessed/Stage_epoched/New_stage_trans/stims/Last/VP05_StimsR.set...\n"
     ]
    },
    {
     "name": "stderr",
     "output_type": "stream",
     "text": [
      "/tmp/ipykernel_368957/1274573820.py:8: RuntimeWarning: At least one epoch has multiple events. Only the latency of the first event will be retained.\n",
      "  EEG = mne.read_epochs_eeglab(os.path.join(Data_path, x))\n"
     ]
    },
    {
     "name": "stdout",
     "output_type": "stream",
     "text": [
      "Not setting metadata\n",
      "176 matching events found\n",
      "No baseline correction applied\n",
      "0 projection items activated\n",
      "Ready.\n",
      "Not setting metadata\n"
     ]
    },
    {
     "name": "stderr",
     "output_type": "stream",
     "text": [
      "[Parallel(n_jobs=1)]: Using backend SequentialBackend with 1 concurrent workers.\n",
      "[Parallel(n_jobs=1)]: Done   1 out of   1 | elapsed:    0.0s remaining:    0.0s\n",
      "[Parallel(n_jobs=1)]: Done   1 out of   1 | elapsed:    0.0s finished\n"
     ]
    },
    {
     "name": "stdout",
     "output_type": "stream",
     "text": [
      "{'done'}\n"
     ]
    },
    {
     "name": "stderr",
     "output_type": "stream",
     "text": [
      "/home/b1044271/anaconda3/envs/mne/lib/python3.10/site-packages/pymatreader/utils.py:122: UserWarning: Complex objects (like classes) are not supported. They are imported on a best effort base but your mileage will vary.\n",
      "  warn('Complex objects (like classes) are not supported. '\n"
     ]
    },
    {
     "name": "stdout",
     "output_type": "stream",
     "text": [
      "Extracting parameters from /home/b1044271/Columbia/Preprocessed/Stage_epoched/New_stage_trans/stims/Last/VP06_StimsN.set...\n"
     ]
    },
    {
     "name": "stderr",
     "output_type": "stream",
     "text": [
      "/tmp/ipykernel_368957/1274573820.py:8: RuntimeWarning: At least one epoch has multiple events. Only the latency of the first event will be retained.\n",
      "  EEG = mne.read_epochs_eeglab(os.path.join(Data_path, x))\n"
     ]
    },
    {
     "name": "stdout",
     "output_type": "stream",
     "text": [
      "Not setting metadata\n",
      "2272 matching events found\n",
      "No baseline correction applied\n",
      "0 projection items activated\n",
      "Ready.\n",
      "Not setting metadata\n"
     ]
    },
    {
     "name": "stderr",
     "output_type": "stream",
     "text": [
      "[Parallel(n_jobs=1)]: Using backend SequentialBackend with 1 concurrent workers.\n",
      "[Parallel(n_jobs=1)]: Done   1 out of   1 | elapsed:    0.0s remaining:    0.0s\n",
      "[Parallel(n_jobs=1)]: Done   1 out of   1 | elapsed:    0.0s finished\n",
      "/home/b1044271/anaconda3/envs/mne/lib/python3.10/site-packages/pymatreader/utils.py:122: UserWarning: Complex objects (like classes) are not supported. They are imported on a best effort base but your mileage will vary.\n",
      "  warn('Complex objects (like classes) are not supported. '\n"
     ]
    },
    {
     "name": "stdout",
     "output_type": "stream",
     "text": [
      "{'done'}\n",
      "Extracting parameters from /home/b1044271/Columbia/Preprocessed/Stage_epoched/New_stage_trans/stims/Last/VP06_StimsR.set...\n"
     ]
    },
    {
     "name": "stderr",
     "output_type": "stream",
     "text": [
      "/tmp/ipykernel_368957/1274573820.py:8: RuntimeWarning: At least one epoch has multiple events. Only the latency of the first event will be retained.\n",
      "  EEG = mne.read_epochs_eeglab(os.path.join(Data_path, x))\n"
     ]
    },
    {
     "name": "stdout",
     "output_type": "stream",
     "text": [
      "Not setting metadata\n",
      "558 matching events found\n",
      "No baseline correction applied\n",
      "0 projection items activated\n",
      "Ready.\n",
      "Not setting metadata\n"
     ]
    },
    {
     "name": "stderr",
     "output_type": "stream",
     "text": [
      "[Parallel(n_jobs=1)]: Using backend SequentialBackend with 1 concurrent workers.\n",
      "[Parallel(n_jobs=1)]: Done   1 out of   1 | elapsed:    0.0s remaining:    0.0s\n",
      "[Parallel(n_jobs=1)]: Done   1 out of   1 | elapsed:    0.0s finished\n"
     ]
    },
    {
     "name": "stdout",
     "output_type": "stream",
     "text": [
      "{'done'}\n"
     ]
    },
    {
     "name": "stderr",
     "output_type": "stream",
     "text": [
      "/home/b1044271/anaconda3/envs/mne/lib/python3.10/site-packages/pymatreader/utils.py:122: UserWarning: Complex objects (like classes) are not supported. They are imported on a best effort base but your mileage will vary.\n",
      "  warn('Complex objects (like classes) are not supported. '\n"
     ]
    },
    {
     "name": "stdout",
     "output_type": "stream",
     "text": [
      "Extracting parameters from /home/b1044271/Columbia/Preprocessed/Stage_epoched/New_stage_trans/stims/Last/VP07_StimsN.set...\n"
     ]
    },
    {
     "name": "stderr",
     "output_type": "stream",
     "text": [
      "/tmp/ipykernel_368957/1274573820.py:8: RuntimeWarning: At least one epoch has multiple events. Only the latency of the first event will be retained.\n",
      "  EEG = mne.read_epochs_eeglab(os.path.join(Data_path, x))\n"
     ]
    },
    {
     "name": "stdout",
     "output_type": "stream",
     "text": [
      "Not setting metadata\n",
      "1573 matching events found\n",
      "No baseline correction applied\n",
      "0 projection items activated\n",
      "Ready.\n",
      "Not setting metadata\n"
     ]
    },
    {
     "name": "stderr",
     "output_type": "stream",
     "text": [
      "[Parallel(n_jobs=1)]: Using backend SequentialBackend with 1 concurrent workers.\n",
      "[Parallel(n_jobs=1)]: Done   1 out of   1 | elapsed:    0.0s remaining:    0.0s\n",
      "[Parallel(n_jobs=1)]: Done   1 out of   1 | elapsed:    0.0s finished\n",
      "/home/b1044271/anaconda3/envs/mne/lib/python3.10/site-packages/pymatreader/utils.py:122: UserWarning: Complex objects (like classes) are not supported. They are imported on a best effort base but your mileage will vary.\n",
      "  warn('Complex objects (like classes) are not supported. '\n"
     ]
    },
    {
     "name": "stdout",
     "output_type": "stream",
     "text": [
      "{'done'}\n",
      "Extracting parameters from /home/b1044271/Columbia/Preprocessed/Stage_epoched/New_stage_trans/stims/Last/VP07_StimsR.set...\n"
     ]
    },
    {
     "name": "stderr",
     "output_type": "stream",
     "text": [
      "/tmp/ipykernel_368957/1274573820.py:8: RuntimeWarning: At least one epoch has multiple events. Only the latency of the first event will be retained.\n",
      "  EEG = mne.read_epochs_eeglab(os.path.join(Data_path, x))\n"
     ]
    },
    {
     "name": "stdout",
     "output_type": "stream",
     "text": [
      "Not setting metadata\n",
      "430 matching events found\n",
      "No baseline correction applied\n",
      "0 projection items activated\n",
      "Ready.\n",
      "Not setting metadata\n"
     ]
    },
    {
     "name": "stderr",
     "output_type": "stream",
     "text": [
      "[Parallel(n_jobs=1)]: Using backend SequentialBackend with 1 concurrent workers.\n",
      "[Parallel(n_jobs=1)]: Done   1 out of   1 | elapsed:    0.0s remaining:    0.0s\n",
      "[Parallel(n_jobs=1)]: Done   1 out of   1 | elapsed:    0.0s finished\n"
     ]
    },
    {
     "name": "stdout",
     "output_type": "stream",
     "text": [
      "{'done'}\n"
     ]
    },
    {
     "name": "stderr",
     "output_type": "stream",
     "text": [
      "/home/b1044271/anaconda3/envs/mne/lib/python3.10/site-packages/pymatreader/utils.py:122: UserWarning: Complex objects (like classes) are not supported. They are imported on a best effort base but your mileage will vary.\n",
      "  warn('Complex objects (like classes) are not supported. '\n"
     ]
    },
    {
     "name": "stdout",
     "output_type": "stream",
     "text": [
      "Extracting parameters from /home/b1044271/Columbia/Preprocessed/Stage_epoched/New_stage_trans/stims/Last/VP08_StimsN.set...\n"
     ]
    },
    {
     "name": "stderr",
     "output_type": "stream",
     "text": [
      "/tmp/ipykernel_368957/1274573820.py:8: RuntimeWarning: At least one epoch has multiple events. Only the latency of the first event will be retained.\n",
      "  EEG = mne.read_epochs_eeglab(os.path.join(Data_path, x))\n"
     ]
    },
    {
     "name": "stdout",
     "output_type": "stream",
     "text": [
      "Not setting metadata\n",
      "1974 matching events found\n",
      "No baseline correction applied\n",
      "0 projection items activated\n",
      "Ready.\n",
      "Not setting metadata\n"
     ]
    },
    {
     "name": "stderr",
     "output_type": "stream",
     "text": [
      "[Parallel(n_jobs=1)]: Using backend SequentialBackend with 1 concurrent workers.\n",
      "[Parallel(n_jobs=1)]: Done   1 out of   1 | elapsed:    0.0s remaining:    0.0s\n",
      "[Parallel(n_jobs=1)]: Done   1 out of   1 | elapsed:    0.0s finished\n",
      "/home/b1044271/anaconda3/envs/mne/lib/python3.10/site-packages/pymatreader/utils.py:122: UserWarning: Complex objects (like classes) are not supported. They are imported on a best effort base but your mileage will vary.\n",
      "  warn('Complex objects (like classes) are not supported. '\n"
     ]
    },
    {
     "name": "stdout",
     "output_type": "stream",
     "text": [
      "{'done'}\n",
      "Extracting parameters from /home/b1044271/Columbia/Preprocessed/Stage_epoched/New_stage_trans/stims/Last/VP08_StimsR.set...\n"
     ]
    },
    {
     "name": "stderr",
     "output_type": "stream",
     "text": [
      "/tmp/ipykernel_368957/1274573820.py:8: RuntimeWarning: At least one epoch has multiple events. Only the latency of the first event will be retained.\n",
      "  EEG = mne.read_epochs_eeglab(os.path.join(Data_path, x))\n"
     ]
    },
    {
     "name": "stdout",
     "output_type": "stream",
     "text": [
      "Not setting metadata\n",
      "453 matching events found\n",
      "No baseline correction applied\n",
      "0 projection items activated\n",
      "Ready.\n",
      "Not setting metadata\n"
     ]
    },
    {
     "name": "stderr",
     "output_type": "stream",
     "text": [
      "[Parallel(n_jobs=1)]: Using backend SequentialBackend with 1 concurrent workers.\n",
      "[Parallel(n_jobs=1)]: Done   1 out of   1 | elapsed:    0.0s remaining:    0.0s\n",
      "[Parallel(n_jobs=1)]: Done   1 out of   1 | elapsed:    0.0s finished\n"
     ]
    },
    {
     "name": "stdout",
     "output_type": "stream",
     "text": [
      "{'done'}\n"
     ]
    },
    {
     "name": "stderr",
     "output_type": "stream",
     "text": [
      "/home/b1044271/anaconda3/envs/mne/lib/python3.10/site-packages/pymatreader/utils.py:122: UserWarning: Complex objects (like classes) are not supported. They are imported on a best effort base but your mileage will vary.\n",
      "  warn('Complex objects (like classes) are not supported. '\n"
     ]
    },
    {
     "name": "stdout",
     "output_type": "stream",
     "text": [
      "Extracting parameters from /home/b1044271/Columbia/Preprocessed/Stage_epoched/New_stage_trans/stims/Last/VP10_StimsN.set...\n"
     ]
    },
    {
     "name": "stderr",
     "output_type": "stream",
     "text": [
      "/tmp/ipykernel_368957/1274573820.py:8: RuntimeWarning: At least one epoch has multiple events. Only the latency of the first event will be retained.\n",
      "  EEG = mne.read_epochs_eeglab(os.path.join(Data_path, x))\n"
     ]
    },
    {
     "name": "stdout",
     "output_type": "stream",
     "text": [
      "Not setting metadata\n",
      "2390 matching events found\n",
      "No baseline correction applied\n",
      "0 projection items activated\n",
      "Ready.\n",
      "Not setting metadata\n"
     ]
    },
    {
     "name": "stderr",
     "output_type": "stream",
     "text": [
      "[Parallel(n_jobs=1)]: Using backend SequentialBackend with 1 concurrent workers.\n",
      "[Parallel(n_jobs=1)]: Done   1 out of   1 | elapsed:    0.0s remaining:    0.0s\n",
      "[Parallel(n_jobs=1)]: Done   1 out of   1 | elapsed:    0.0s finished\n",
      "/home/b1044271/anaconda3/envs/mne/lib/python3.10/site-packages/pymatreader/utils.py:122: UserWarning: Complex objects (like classes) are not supported. They are imported on a best effort base but your mileage will vary.\n",
      "  warn('Complex objects (like classes) are not supported. '\n"
     ]
    },
    {
     "name": "stdout",
     "output_type": "stream",
     "text": [
      "{'done'}\n",
      "Extracting parameters from /home/b1044271/Columbia/Preprocessed/Stage_epoched/New_stage_trans/stims/Last/VP10_StimsR.set...\n"
     ]
    },
    {
     "name": "stderr",
     "output_type": "stream",
     "text": [
      "/tmp/ipykernel_368957/1274573820.py:8: RuntimeWarning: At least one epoch has multiple events. Only the latency of the first event will be retained.\n",
      "  EEG = mne.read_epochs_eeglab(os.path.join(Data_path, x))\n"
     ]
    },
    {
     "name": "stdout",
     "output_type": "stream",
     "text": [
      "Not setting metadata\n",
      "499 matching events found\n",
      "No baseline correction applied\n",
      "0 projection items activated\n",
      "Ready.\n",
      "Not setting metadata\n"
     ]
    },
    {
     "name": "stderr",
     "output_type": "stream",
     "text": [
      "[Parallel(n_jobs=1)]: Using backend SequentialBackend with 1 concurrent workers.\n",
      "[Parallel(n_jobs=1)]: Done   1 out of   1 | elapsed:    0.0s remaining:    0.0s\n",
      "[Parallel(n_jobs=1)]: Done   1 out of   1 | elapsed:    0.0s finished\n"
     ]
    },
    {
     "name": "stdout",
     "output_type": "stream",
     "text": [
      "{'done'}\n"
     ]
    },
    {
     "name": "stderr",
     "output_type": "stream",
     "text": [
      "/home/b1044271/anaconda3/envs/mne/lib/python3.10/site-packages/pymatreader/utils.py:122: UserWarning: Complex objects (like classes) are not supported. They are imported on a best effort base but your mileage will vary.\n",
      "  warn('Complex objects (like classes) are not supported. '\n"
     ]
    },
    {
     "name": "stdout",
     "output_type": "stream",
     "text": [
      "Extracting parameters from /home/b1044271/Columbia/Preprocessed/Stage_epoched/New_stage_trans/stims/Last/VP11_StimsN.set...\n"
     ]
    },
    {
     "name": "stderr",
     "output_type": "stream",
     "text": [
      "/tmp/ipykernel_368957/1274573820.py:8: RuntimeWarning: At least one epoch has multiple events. Only the latency of the first event will be retained.\n",
      "  EEG = mne.read_epochs_eeglab(os.path.join(Data_path, x))\n"
     ]
    },
    {
     "name": "stdout",
     "output_type": "stream",
     "text": [
      "Not setting metadata\n",
      "2442 matching events found\n",
      "No baseline correction applied\n",
      "0 projection items activated\n",
      "Ready.\n",
      "Not setting metadata\n"
     ]
    },
    {
     "name": "stderr",
     "output_type": "stream",
     "text": [
      "[Parallel(n_jobs=1)]: Using backend SequentialBackend with 1 concurrent workers.\n",
      "[Parallel(n_jobs=1)]: Done   1 out of   1 | elapsed:    0.0s remaining:    0.0s\n",
      "[Parallel(n_jobs=1)]: Done   1 out of   1 | elapsed:    0.0s finished\n"
     ]
    },
    {
     "name": "stdout",
     "output_type": "stream",
     "text": [
      "{'done'}\n"
     ]
    },
    {
     "name": "stderr",
     "output_type": "stream",
     "text": [
      "/home/b1044271/anaconda3/envs/mne/lib/python3.10/site-packages/pymatreader/utils.py:122: UserWarning: Complex objects (like classes) are not supported. They are imported on a best effort base but your mileage will vary.\n",
      "  warn('Complex objects (like classes) are not supported. '\n"
     ]
    },
    {
     "name": "stdout",
     "output_type": "stream",
     "text": [
      "Extracting parameters from /home/b1044271/Columbia/Preprocessed/Stage_epoched/New_stage_trans/stims/Last/VP11_StimsR.set...\n"
     ]
    },
    {
     "name": "stderr",
     "output_type": "stream",
     "text": [
      "/tmp/ipykernel_368957/1274573820.py:8: RuntimeWarning: At least one epoch has multiple events. Only the latency of the first event will be retained.\n",
      "  EEG = mne.read_epochs_eeglab(os.path.join(Data_path, x))\n"
     ]
    },
    {
     "name": "stdout",
     "output_type": "stream",
     "text": [
      "Not setting metadata\n",
      "514 matching events found\n",
      "No baseline correction applied\n",
      "0 projection items activated\n",
      "Ready.\n",
      "Not setting metadata\n"
     ]
    },
    {
     "name": "stderr",
     "output_type": "stream",
     "text": [
      "[Parallel(n_jobs=1)]: Using backend SequentialBackend with 1 concurrent workers.\n",
      "[Parallel(n_jobs=1)]: Done   1 out of   1 | elapsed:    0.0s remaining:    0.0s\n",
      "[Parallel(n_jobs=1)]: Done   1 out of   1 | elapsed:    0.0s finished\n"
     ]
    },
    {
     "name": "stdout",
     "output_type": "stream",
     "text": [
      "{'done'}\n"
     ]
    },
    {
     "name": "stderr",
     "output_type": "stream",
     "text": [
      "/home/b1044271/anaconda3/envs/mne/lib/python3.10/site-packages/pymatreader/utils.py:122: UserWarning: Complex objects (like classes) are not supported. They are imported on a best effort base but your mileage will vary.\n",
      "  warn('Complex objects (like classes) are not supported. '\n"
     ]
    },
    {
     "name": "stdout",
     "output_type": "stream",
     "text": [
      "Extracting parameters from /home/b1044271/Columbia/Preprocessed/Stage_epoched/New_stage_trans/stims/Last/VP12_StimsN.set...\n"
     ]
    },
    {
     "name": "stderr",
     "output_type": "stream",
     "text": [
      "/tmp/ipykernel_368957/1274573820.py:8: RuntimeWarning: At least one epoch has multiple events. Only the latency of the first event will be retained.\n",
      "  EEG = mne.read_epochs_eeglab(os.path.join(Data_path, x))\n"
     ]
    },
    {
     "name": "stdout",
     "output_type": "stream",
     "text": [
      "Not setting metadata\n",
      "1320 matching events found\n",
      "No baseline correction applied\n",
      "0 projection items activated\n",
      "Ready.\n",
      "Not setting metadata\n"
     ]
    },
    {
     "name": "stderr",
     "output_type": "stream",
     "text": [
      "[Parallel(n_jobs=1)]: Using backend SequentialBackend with 1 concurrent workers.\n",
      "[Parallel(n_jobs=1)]: Done   1 out of   1 | elapsed:    0.0s remaining:    0.0s\n",
      "[Parallel(n_jobs=1)]: Done   1 out of   1 | elapsed:    0.0s finished\n",
      "/home/b1044271/anaconda3/envs/mne/lib/python3.10/site-packages/pymatreader/utils.py:122: UserWarning: Complex objects (like classes) are not supported. They are imported on a best effort base but your mileage will vary.\n",
      "  warn('Complex objects (like classes) are not supported. '\n"
     ]
    },
    {
     "name": "stdout",
     "output_type": "stream",
     "text": [
      "{'done'}\n",
      "Extracting parameters from /home/b1044271/Columbia/Preprocessed/Stage_epoched/New_stage_trans/stims/Last/VP12_StimsR.set...\n"
     ]
    },
    {
     "name": "stderr",
     "output_type": "stream",
     "text": [
      "/tmp/ipykernel_368957/1274573820.py:8: RuntimeWarning: At least one epoch has multiple events. Only the latency of the first event will be retained.\n",
      "  EEG = mne.read_epochs_eeglab(os.path.join(Data_path, x))\n"
     ]
    },
    {
     "name": "stdout",
     "output_type": "stream",
     "text": [
      "Not setting metadata\n",
      "361 matching events found\n",
      "No baseline correction applied\n",
      "0 projection items activated\n",
      "Ready.\n",
      "Not setting metadata\n"
     ]
    },
    {
     "name": "stderr",
     "output_type": "stream",
     "text": [
      "[Parallel(n_jobs=1)]: Using backend SequentialBackend with 1 concurrent workers.\n",
      "[Parallel(n_jobs=1)]: Done   1 out of   1 | elapsed:    0.0s remaining:    0.0s\n",
      "[Parallel(n_jobs=1)]: Done   1 out of   1 | elapsed:    0.0s finished\n"
     ]
    },
    {
     "name": "stdout",
     "output_type": "stream",
     "text": [
      "{'done'}\n"
     ]
    },
    {
     "name": "stderr",
     "output_type": "stream",
     "text": [
      "/home/b1044271/anaconda3/envs/mne/lib/python3.10/site-packages/pymatreader/utils.py:122: UserWarning: Complex objects (like classes) are not supported. They are imported on a best effort base but your mileage will vary.\n",
      "  warn('Complex objects (like classes) are not supported. '\n"
     ]
    },
    {
     "name": "stdout",
     "output_type": "stream",
     "text": [
      "Extracting parameters from /home/b1044271/Columbia/Preprocessed/Stage_epoched/New_stage_trans/stims/Last/VP13_StimsN.set...\n"
     ]
    },
    {
     "name": "stderr",
     "output_type": "stream",
     "text": [
      "/tmp/ipykernel_368957/1274573820.py:8: RuntimeWarning: At least one epoch has multiple events. Only the latency of the first event will be retained.\n",
      "  EEG = mne.read_epochs_eeglab(os.path.join(Data_path, x))\n"
     ]
    },
    {
     "name": "stdout",
     "output_type": "stream",
     "text": [
      "Not setting metadata\n",
      "2176 matching events found\n",
      "No baseline correction applied\n",
      "0 projection items activated\n",
      "Ready.\n",
      "Not setting metadata\n"
     ]
    },
    {
     "name": "stderr",
     "output_type": "stream",
     "text": [
      "[Parallel(n_jobs=1)]: Using backend SequentialBackend with 1 concurrent workers.\n",
      "[Parallel(n_jobs=1)]: Done   1 out of   1 | elapsed:    0.0s remaining:    0.0s\n",
      "[Parallel(n_jobs=1)]: Done   1 out of   1 | elapsed:    0.0s finished\n",
      "/home/b1044271/anaconda3/envs/mne/lib/python3.10/site-packages/pymatreader/utils.py:122: UserWarning: Complex objects (like classes) are not supported. They are imported on a best effort base but your mileage will vary.\n",
      "  warn('Complex objects (like classes) are not supported. '\n"
     ]
    },
    {
     "name": "stdout",
     "output_type": "stream",
     "text": [
      "{'done'}\n",
      "Extracting parameters from /home/b1044271/Columbia/Preprocessed/Stage_epoched/New_stage_trans/stims/Last/VP13_StimsR.set...\n"
     ]
    },
    {
     "name": "stderr",
     "output_type": "stream",
     "text": [
      "/tmp/ipykernel_368957/1274573820.py:8: RuntimeWarning: At least one epoch has multiple events. Only the latency of the first event will be retained.\n",
      "  EEG = mne.read_epochs_eeglab(os.path.join(Data_path, x))\n"
     ]
    },
    {
     "name": "stdout",
     "output_type": "stream",
     "text": [
      "Not setting metadata\n",
      "246 matching events found\n",
      "No baseline correction applied\n",
      "0 projection items activated\n",
      "Ready.\n",
      "Not setting metadata\n"
     ]
    },
    {
     "name": "stderr",
     "output_type": "stream",
     "text": [
      "[Parallel(n_jobs=1)]: Using backend SequentialBackend with 1 concurrent workers.\n",
      "[Parallel(n_jobs=1)]: Done   1 out of   1 | elapsed:    0.0s remaining:    0.0s\n",
      "[Parallel(n_jobs=1)]: Done   1 out of   1 | elapsed:    0.0s finished\n"
     ]
    },
    {
     "name": "stdout",
     "output_type": "stream",
     "text": [
      "{'done'}\n"
     ]
    },
    {
     "name": "stderr",
     "output_type": "stream",
     "text": [
      "/home/b1044271/anaconda3/envs/mne/lib/python3.10/site-packages/pymatreader/utils.py:122: UserWarning: Complex objects (like classes) are not supported. They are imported on a best effort base but your mileage will vary.\n",
      "  warn('Complex objects (like classes) are not supported. '\n"
     ]
    },
    {
     "name": "stdout",
     "output_type": "stream",
     "text": [
      "Extracting parameters from /home/b1044271/Columbia/Preprocessed/Stage_epoched/New_stage_trans/stims/Last/VP14_StimsN.set...\n"
     ]
    },
    {
     "name": "stderr",
     "output_type": "stream",
     "text": [
      "/tmp/ipykernel_368957/1274573820.py:8: RuntimeWarning: At least one epoch has multiple events. Only the latency of the first event will be retained.\n",
      "  EEG = mne.read_epochs_eeglab(os.path.join(Data_path, x))\n"
     ]
    },
    {
     "name": "stdout",
     "output_type": "stream",
     "text": [
      "Not setting metadata\n",
      "2597 matching events found\n",
      "No baseline correction applied\n",
      "0 projection items activated\n",
      "Ready.\n",
      "Not setting metadata\n"
     ]
    },
    {
     "name": "stderr",
     "output_type": "stream",
     "text": [
      "[Parallel(n_jobs=1)]: Using backend SequentialBackend with 1 concurrent workers.\n",
      "[Parallel(n_jobs=1)]: Done   1 out of   1 | elapsed:    0.0s remaining:    0.0s\n",
      "[Parallel(n_jobs=1)]: Done   1 out of   1 | elapsed:    0.0s finished\n"
     ]
    },
    {
     "name": "stdout",
     "output_type": "stream",
     "text": [
      "{'done'}\n"
     ]
    },
    {
     "name": "stderr",
     "output_type": "stream",
     "text": [
      "/home/b1044271/anaconda3/envs/mne/lib/python3.10/site-packages/pymatreader/utils.py:122: UserWarning: Complex objects (like classes) are not supported. They are imported on a best effort base but your mileage will vary.\n",
      "  warn('Complex objects (like classes) are not supported. '\n"
     ]
    },
    {
     "name": "stdout",
     "output_type": "stream",
     "text": [
      "Extracting parameters from /home/b1044271/Columbia/Preprocessed/Stage_epoched/New_stage_trans/stims/Last/VP14_StimsR.set...\n"
     ]
    },
    {
     "name": "stderr",
     "output_type": "stream",
     "text": [
      "/tmp/ipykernel_368957/1274573820.py:8: RuntimeWarning: At least one epoch has multiple events. Only the latency of the first event will be retained.\n",
      "  EEG = mne.read_epochs_eeglab(os.path.join(Data_path, x))\n"
     ]
    },
    {
     "name": "stdout",
     "output_type": "stream",
     "text": [
      "Not setting metadata\n",
      "566 matching events found\n",
      "No baseline correction applied\n",
      "0 projection items activated\n",
      "Ready.\n",
      "Not setting metadata\n"
     ]
    },
    {
     "name": "stderr",
     "output_type": "stream",
     "text": [
      "[Parallel(n_jobs=1)]: Using backend SequentialBackend with 1 concurrent workers.\n",
      "[Parallel(n_jobs=1)]: Done   1 out of   1 | elapsed:    0.0s remaining:    0.0s\n",
      "[Parallel(n_jobs=1)]: Done   1 out of   1 | elapsed:    0.0s finished\n"
     ]
    },
    {
     "name": "stdout",
     "output_type": "stream",
     "text": [
      "{'done'}\n"
     ]
    },
    {
     "name": "stderr",
     "output_type": "stream",
     "text": [
      "/home/b1044271/anaconda3/envs/mne/lib/python3.10/site-packages/pymatreader/utils.py:122: UserWarning: Complex objects (like classes) are not supported. They are imported on a best effort base but your mileage will vary.\n",
      "  warn('Complex objects (like classes) are not supported. '\n"
     ]
    },
    {
     "name": "stdout",
     "output_type": "stream",
     "text": [
      "Extracting parameters from /home/b1044271/Columbia/Preprocessed/Stage_epoched/New_stage_trans/stims/Last/VP15_StimsN.set...\n"
     ]
    },
    {
     "name": "stderr",
     "output_type": "stream",
     "text": [
      "/tmp/ipykernel_368957/1274573820.py:8: RuntimeWarning: At least one epoch has multiple events. Only the latency of the first event will be retained.\n",
      "  EEG = mne.read_epochs_eeglab(os.path.join(Data_path, x))\n"
     ]
    },
    {
     "name": "stdout",
     "output_type": "stream",
     "text": [
      "Not setting metadata\n",
      "1931 matching events found\n",
      "No baseline correction applied\n",
      "0 projection items activated\n",
      "Ready.\n",
      "Not setting metadata\n"
     ]
    },
    {
     "name": "stderr",
     "output_type": "stream",
     "text": [
      "[Parallel(n_jobs=1)]: Using backend SequentialBackend with 1 concurrent workers.\n",
      "[Parallel(n_jobs=1)]: Done   1 out of   1 | elapsed:    0.0s remaining:    0.0s\n",
      "[Parallel(n_jobs=1)]: Done   1 out of   1 | elapsed:    0.0s finished\n"
     ]
    },
    {
     "name": "stdout",
     "output_type": "stream",
     "text": [
      "{'done'}\n"
     ]
    },
    {
     "name": "stderr",
     "output_type": "stream",
     "text": [
      "/home/b1044271/anaconda3/envs/mne/lib/python3.10/site-packages/pymatreader/utils.py:122: UserWarning: Complex objects (like classes) are not supported. They are imported on a best effort base but your mileage will vary.\n",
      "  warn('Complex objects (like classes) are not supported. '\n"
     ]
    },
    {
     "name": "stdout",
     "output_type": "stream",
     "text": [
      "Extracting parameters from /home/b1044271/Columbia/Preprocessed/Stage_epoched/New_stage_trans/stims/Last/VP15_StimsR.set...\n"
     ]
    },
    {
     "name": "stderr",
     "output_type": "stream",
     "text": [
      "/tmp/ipykernel_368957/1274573820.py:8: RuntimeWarning: At least one epoch has multiple events. Only the latency of the first event will be retained.\n",
      "  EEG = mne.read_epochs_eeglab(os.path.join(Data_path, x))\n"
     ]
    },
    {
     "name": "stdout",
     "output_type": "stream",
     "text": [
      "Not setting metadata\n",
      "1264 matching events found\n",
      "No baseline correction applied\n",
      "0 projection items activated\n",
      "Ready.\n",
      "Not setting metadata\n"
     ]
    },
    {
     "name": "stderr",
     "output_type": "stream",
     "text": [
      "[Parallel(n_jobs=1)]: Using backend SequentialBackend with 1 concurrent workers.\n",
      "[Parallel(n_jobs=1)]: Done   1 out of   1 | elapsed:    0.0s remaining:    0.0s\n",
      "[Parallel(n_jobs=1)]: Done   1 out of   1 | elapsed:    0.0s finished\n"
     ]
    },
    {
     "name": "stdout",
     "output_type": "stream",
     "text": [
      "{'done'}\n"
     ]
    },
    {
     "name": "stderr",
     "output_type": "stream",
     "text": [
      "/home/b1044271/anaconda3/envs/mne/lib/python3.10/site-packages/pymatreader/utils.py:122: UserWarning: Complex objects (like classes) are not supported. They are imported on a best effort base but your mileage will vary.\n",
      "  warn('Complex objects (like classes) are not supported. '\n"
     ]
    },
    {
     "name": "stdout",
     "output_type": "stream",
     "text": [
      "Extracting parameters from /home/b1044271/Columbia/Preprocessed/Stage_epoched/New_stage_trans/stims/Last/VP16_StimsN.set...\n"
     ]
    },
    {
     "name": "stderr",
     "output_type": "stream",
     "text": [
      "/tmp/ipykernel_368957/1274573820.py:8: RuntimeWarning: At least one epoch has multiple events. Only the latency of the first event will be retained.\n",
      "  EEG = mne.read_epochs_eeglab(os.path.join(Data_path, x))\n"
     ]
    },
    {
     "name": "stdout",
     "output_type": "stream",
     "text": [
      "Not setting metadata\n",
      "3307 matching events found\n",
      "No baseline correction applied\n",
      "0 projection items activated\n",
      "Ready.\n",
      "Not setting metadata\n"
     ]
    },
    {
     "name": "stderr",
     "output_type": "stream",
     "text": [
      "[Parallel(n_jobs=1)]: Using backend SequentialBackend with 1 concurrent workers.\n",
      "[Parallel(n_jobs=1)]: Done   1 out of   1 | elapsed:    0.0s remaining:    0.0s\n",
      "[Parallel(n_jobs=1)]: Done   1 out of   1 | elapsed:    0.0s finished\n"
     ]
    },
    {
     "name": "stdout",
     "output_type": "stream",
     "text": [
      "{'done'}\n"
     ]
    },
    {
     "name": "stderr",
     "output_type": "stream",
     "text": [
      "/home/b1044271/anaconda3/envs/mne/lib/python3.10/site-packages/pymatreader/utils.py:122: UserWarning: Complex objects (like classes) are not supported. They are imported on a best effort base but your mileage will vary.\n",
      "  warn('Complex objects (like classes) are not supported. '\n"
     ]
    },
    {
     "name": "stdout",
     "output_type": "stream",
     "text": [
      "Extracting parameters from /home/b1044271/Columbia/Preprocessed/Stage_epoched/New_stage_trans/stims/Last/VP16_StimsR.set...\n"
     ]
    },
    {
     "name": "stderr",
     "output_type": "stream",
     "text": [
      "/tmp/ipykernel_368957/1274573820.py:8: RuntimeWarning: At least one epoch has multiple events. Only the latency of the first event will be retained.\n",
      "  EEG = mne.read_epochs_eeglab(os.path.join(Data_path, x))\n"
     ]
    },
    {
     "name": "stdout",
     "output_type": "stream",
     "text": [
      "Not setting metadata\n",
      "440 matching events found\n",
      "No baseline correction applied\n",
      "0 projection items activated\n",
      "Ready.\n",
      "Not setting metadata\n"
     ]
    },
    {
     "name": "stderr",
     "output_type": "stream",
     "text": [
      "[Parallel(n_jobs=1)]: Using backend SequentialBackend with 1 concurrent workers.\n",
      "[Parallel(n_jobs=1)]: Done   1 out of   1 | elapsed:    0.0s remaining:    0.0s\n",
      "[Parallel(n_jobs=1)]: Done   1 out of   1 | elapsed:    0.0s finished\n"
     ]
    },
    {
     "name": "stdout",
     "output_type": "stream",
     "text": [
      "{'done'}\n"
     ]
    },
    {
     "name": "stderr",
     "output_type": "stream",
     "text": [
      "/home/b1044271/anaconda3/envs/mne/lib/python3.10/site-packages/pymatreader/utils.py:122: UserWarning: Complex objects (like classes) are not supported. They are imported on a best effort base but your mileage will vary.\n",
      "  warn('Complex objects (like classes) are not supported. '\n"
     ]
    },
    {
     "name": "stdout",
     "output_type": "stream",
     "text": [
      "Extracting parameters from /home/b1044271/Columbia/Preprocessed/Stage_epoched/New_stage_trans/stims/Last/VP18_StimsN.set...\n"
     ]
    },
    {
     "name": "stderr",
     "output_type": "stream",
     "text": [
      "/tmp/ipykernel_368957/1274573820.py:8: RuntimeWarning: At least one epoch has multiple events. Only the latency of the first event will be retained.\n",
      "  EEG = mne.read_epochs_eeglab(os.path.join(Data_path, x))\n"
     ]
    },
    {
     "name": "stdout",
     "output_type": "stream",
     "text": [
      "Not setting metadata\n",
      "2609 matching events found\n",
      "No baseline correction applied\n",
      "0 projection items activated\n",
      "Ready.\n",
      "Not setting metadata\n"
     ]
    },
    {
     "name": "stderr",
     "output_type": "stream",
     "text": [
      "[Parallel(n_jobs=1)]: Using backend SequentialBackend with 1 concurrent workers.\n",
      "[Parallel(n_jobs=1)]: Done   1 out of   1 | elapsed:    0.0s remaining:    0.0s\n",
      "[Parallel(n_jobs=1)]: Done   1 out of   1 | elapsed:    0.0s finished\n"
     ]
    },
    {
     "name": "stdout",
     "output_type": "stream",
     "text": [
      "{'done'}\n"
     ]
    },
    {
     "name": "stderr",
     "output_type": "stream",
     "text": [
      "/home/b1044271/anaconda3/envs/mne/lib/python3.10/site-packages/pymatreader/utils.py:122: UserWarning: Complex objects (like classes) are not supported. They are imported on a best effort base but your mileage will vary.\n",
      "  warn('Complex objects (like classes) are not supported. '\n"
     ]
    },
    {
     "name": "stdout",
     "output_type": "stream",
     "text": [
      "Extracting parameters from /home/b1044271/Columbia/Preprocessed/Stage_epoched/New_stage_trans/stims/Last/VP18_StimsR.set...\n"
     ]
    },
    {
     "name": "stderr",
     "output_type": "stream",
     "text": [
      "/tmp/ipykernel_368957/1274573820.py:8: RuntimeWarning: At least one epoch has multiple events. Only the latency of the first event will be retained.\n",
      "  EEG = mne.read_epochs_eeglab(os.path.join(Data_path, x))\n"
     ]
    },
    {
     "name": "stdout",
     "output_type": "stream",
     "text": [
      "Not setting metadata\n",
      "672 matching events found\n",
      "No baseline correction applied\n",
      "0 projection items activated\n",
      "Ready.\n",
      "Not setting metadata\n"
     ]
    },
    {
     "name": "stderr",
     "output_type": "stream",
     "text": [
      "[Parallel(n_jobs=1)]: Using backend SequentialBackend with 1 concurrent workers.\n",
      "[Parallel(n_jobs=1)]: Done   1 out of   1 | elapsed:    0.0s remaining:    0.0s\n",
      "[Parallel(n_jobs=1)]: Done   1 out of   1 | elapsed:    0.0s finished\n"
     ]
    },
    {
     "name": "stdout",
     "output_type": "stream",
     "text": [
      "{'done'}\n"
     ]
    },
    {
     "name": "stderr",
     "output_type": "stream",
     "text": [
      "/home/b1044271/anaconda3/envs/mne/lib/python3.10/site-packages/pymatreader/utils.py:122: UserWarning: Complex objects (like classes) are not supported. They are imported on a best effort base but your mileage will vary.\n",
      "  warn('Complex objects (like classes) are not supported. '\n"
     ]
    },
    {
     "name": "stdout",
     "output_type": "stream",
     "text": [
      "Extracting parameters from /home/b1044271/Columbia/Preprocessed/Stage_epoched/New_stage_trans/stims/Last/VP19_StimsN.set...\n"
     ]
    },
    {
     "name": "stderr",
     "output_type": "stream",
     "text": [
      "/tmp/ipykernel_368957/1274573820.py:8: RuntimeWarning: At least one epoch has multiple events. Only the latency of the first event will be retained.\n",
      "  EEG = mne.read_epochs_eeglab(os.path.join(Data_path, x))\n"
     ]
    },
    {
     "name": "stdout",
     "output_type": "stream",
     "text": [
      "Not setting metadata\n",
      "2180 matching events found\n",
      "No baseline correction applied\n",
      "0 projection items activated\n",
      "Ready.\n",
      "Not setting metadata\n"
     ]
    },
    {
     "name": "stderr",
     "output_type": "stream",
     "text": [
      "[Parallel(n_jobs=1)]: Using backend SequentialBackend with 1 concurrent workers.\n",
      "[Parallel(n_jobs=1)]: Done   1 out of   1 | elapsed:    0.0s remaining:    0.0s\n",
      "[Parallel(n_jobs=1)]: Done   1 out of   1 | elapsed:    0.0s finished\n",
      "/home/b1044271/anaconda3/envs/mne/lib/python3.10/site-packages/pymatreader/utils.py:122: UserWarning: Complex objects (like classes) are not supported. They are imported on a best effort base but your mileage will vary.\n",
      "  warn('Complex objects (like classes) are not supported. '\n"
     ]
    },
    {
     "name": "stdout",
     "output_type": "stream",
     "text": [
      "{'done'}\n",
      "Extracting parameters from /home/b1044271/Columbia/Preprocessed/Stage_epoched/New_stage_trans/stims/Last/VP19_StimsR.set...\n"
     ]
    },
    {
     "name": "stderr",
     "output_type": "stream",
     "text": [
      "/tmp/ipykernel_368957/1274573820.py:8: RuntimeWarning: At least one epoch has multiple events. Only the latency of the first event will be retained.\n",
      "  EEG = mne.read_epochs_eeglab(os.path.join(Data_path, x))\n"
     ]
    },
    {
     "name": "stdout",
     "output_type": "stream",
     "text": [
      "Not setting metadata\n",
      "321 matching events found\n",
      "No baseline correction applied\n",
      "0 projection items activated\n",
      "Ready.\n",
      "Not setting metadata\n",
      "{'done'}\n"
     ]
    },
    {
     "name": "stderr",
     "output_type": "stream",
     "text": [
      "[Parallel(n_jobs=1)]: Using backend SequentialBackend with 1 concurrent workers.\n",
      "[Parallel(n_jobs=1)]: Done   1 out of   1 | elapsed:    0.0s remaining:    0.0s\n",
      "[Parallel(n_jobs=1)]: Done   1 out of   1 | elapsed:    0.0s finished\n"
     ]
    }
   ],
   "source": [
    "electrode = 'E257'\n",
    "fs = 250\n",
    "\n",
    "\n",
    "p_ERP=np.zeros([32,89])*np.nan\n",
    "i = 0\n",
    "for x in subj_files:\n",
    "    EEG = mne.read_epochs_eeglab(os.path.join(Data_path, x))\n",
    "    EEG = EEG.pick(electrode, exclude=[]) # select Cz for further analysis\n",
    "    EEG = EEG.crop(tmin=time[int(peak_idx[i])], tmax=time[int(peak_idx[i])]+1)\n",
    "    evoked = EEG.average()\n",
    "    \n",
    "    EEG_psd1 = tfr_multitaper(evoked, freqs=np.arange(1,45.5,0.5), n_cycles=np.arange(1,45.5,0.5), use_fft=True, \n",
    "                              return_itc=False, average=False, decim=2)\n",
    "    \n",
    "    p_ERP[i,0:89] = np.mean(np.squeeze(EEG_psd1._data),axis=1)\n",
    "    \n",
    "    print({'done'})\n",
    "    i=i+1"
   ]
  },
  {
   "cell_type": "code",
   "execution_count": 164,
   "id": "65ee2831",
   "metadata": {},
   "outputs": [
    {
     "name": "stderr",
     "output_type": "stream",
     "text": [
      "/tmp/ipykernel_368957/3840170278.py:5: RuntimeWarning: Mean of empty slice\n",
      "  PSD_Bm = np.nanmean(p_ERP,axis=0)\n"
     ]
    },
    {
     "ename": "ValueError",
     "evalue": "Array must not contain infs or nans.",
     "output_type": "error",
     "traceback": [
      "\u001b[0;31m---------------------------------------------------------------------------\u001b[0m",
      "\u001b[0;31mValueError\u001b[0m                                Traceback (most recent call last)",
      "Cell \u001b[0;32mIn [164], line 20\u001b[0m\n\u001b[1;32m     17\u001b[0m s_sem1\u001b[38;5;241m=\u001b[39ms1(xnew)\n\u001b[1;32m     19\u001b[0m \u001b[38;5;66;03m# y values\u001b[39;00m\n\u001b[0;32m---> 20\u001b[0m spl \u001b[38;5;241m=\u001b[39m \u001b[43mmake_interp_spline\u001b[49m\u001b[43m(\u001b[49m\u001b[43mEEG_psd1\u001b[49m\u001b[38;5;241;43m.\u001b[39;49m\u001b[43mfreqs\u001b[49m\u001b[43m,\u001b[49m\u001b[43m \u001b[49m\u001b[43mPSD_Bm\u001b[49m\u001b[43m,\u001b[49m\u001b[43m \u001b[49m\u001b[43mk\u001b[49m\u001b[38;5;241;43m=\u001b[39;49m\u001b[38;5;241;43m3\u001b[39;49m\u001b[43m)\u001b[49m \u001b[38;5;66;03m#BSpline object\u001b[39;00m\n\u001b[1;32m     21\u001b[0m s_counts2\u001b[38;5;241m=\u001b[39mspl(xnew)\n\u001b[1;32m     22\u001b[0m \u001b[38;5;66;03m#standard error\u001b[39;00m\n",
      "File \u001b[0;32m~/anaconda3/envs/mne/lib/python3.10/site-packages/scipy/interpolate/_bsplines.py:1240\u001b[0m, in \u001b[0;36mmake_interp_spline\u001b[0;34m(x, y, k, t, bc_type, axis, check_finite)\u001b[0m\n\u001b[1;32m   1237\u001b[0m axis \u001b[38;5;241m=\u001b[39m normalize_axis_index(axis, y\u001b[38;5;241m.\u001b[39mndim)\n\u001b[1;32m   1239\u001b[0m x \u001b[38;5;241m=\u001b[39m _as_float_array(x, check_finite)\n\u001b[0;32m-> 1240\u001b[0m y \u001b[38;5;241m=\u001b[39m \u001b[43m_as_float_array\u001b[49m\u001b[43m(\u001b[49m\u001b[43my\u001b[49m\u001b[43m,\u001b[49m\u001b[43m \u001b[49m\u001b[43mcheck_finite\u001b[49m\u001b[43m)\u001b[49m\n\u001b[1;32m   1242\u001b[0m y \u001b[38;5;241m=\u001b[39m np\u001b[38;5;241m.\u001b[39mmoveaxis(y, axis, \u001b[38;5;241m0\u001b[39m)    \u001b[38;5;66;03m# now internally interp axis is zero\u001b[39;00m\n\u001b[1;32m   1244\u001b[0m \u001b[38;5;28;01mif\u001b[39;00m bc_type \u001b[38;5;241m==\u001b[39m \u001b[38;5;124m'\u001b[39m\u001b[38;5;124mperiodic\u001b[39m\u001b[38;5;124m'\u001b[39m \u001b[38;5;129;01mand\u001b[39;00m \u001b[38;5;129;01mnot\u001b[39;00m np\u001b[38;5;241m.\u001b[39mallclose(y[\u001b[38;5;241m0\u001b[39m], y[\u001b[38;5;241m-\u001b[39m\u001b[38;5;241m1\u001b[39m], atol\u001b[38;5;241m=\u001b[39m\u001b[38;5;241m1e-15\u001b[39m):\n",
      "File \u001b[0;32m~/anaconda3/envs/mne/lib/python3.10/site-packages/scipy/interpolate/_bsplines.py:36\u001b[0m, in \u001b[0;36m_as_float_array\u001b[0;34m(x, check_finite)\u001b[0m\n\u001b[1;32m     34\u001b[0m x \u001b[38;5;241m=\u001b[39m x\u001b[38;5;241m.\u001b[39mastype(dtyp, copy\u001b[38;5;241m=\u001b[39m\u001b[38;5;28;01mFalse\u001b[39;00m)\n\u001b[1;32m     35\u001b[0m \u001b[38;5;28;01mif\u001b[39;00m check_finite \u001b[38;5;129;01mand\u001b[39;00m \u001b[38;5;129;01mnot\u001b[39;00m np\u001b[38;5;241m.\u001b[39misfinite(x)\u001b[38;5;241m.\u001b[39mall():\n\u001b[0;32m---> 36\u001b[0m     \u001b[38;5;28;01mraise\u001b[39;00m \u001b[38;5;167;01mValueError\u001b[39;00m(\u001b[38;5;124m\"\u001b[39m\u001b[38;5;124mArray must not contain infs or nans.\u001b[39m\u001b[38;5;124m\"\u001b[39m)\n\u001b[1;32m     37\u001b[0m \u001b[38;5;28;01mreturn\u001b[39;00m x\n",
      "\u001b[0;31mValueError\u001b[0m: Array must not contain infs or nans."
     ]
    }
   ],
   "source": [
    "PSD_Ps = stats.sem(p_PSD,0, nan_policy = 'omit')\n",
    "PSD_Pm = np.nanmean(p_PSD,axis=0)\n",
    "\n",
    "PSD_Bs = stats.sem(p_ERP,0, nan_policy = 'omit')\n",
    "PSD_Bm = np.nanmean(p_ERP,axis=0)\n",
    "\n",
    "\n",
    "# SMOOTHING\n",
    "\n",
    "xnew = np.linspace(EEG_psd1.freqs[0],EEG_psd1.freqs[-1],1000)\n",
    "\n",
    "# y values\n",
    "spl = make_interp_spline(EEG_psd1.freqs, PSD_Pm, k=3) #BSpline object\n",
    "s_counts1=spl(xnew)\n",
    "#standard error\n",
    "s1 = make_interp_spline(EEG_psd1.freqs, PSD_Ps, k=3) #BSpline object\n",
    "s_sem1=s1(xnew)\n",
    "\n",
    "# y values\n",
    "spl = make_interp_spline(EEG_psd1.freqs, PSD_Bm, k=3) #BSpline object\n",
    "s_counts2=spl(xnew)\n",
    "#standard error\n",
    "s2 = make_interp_spline(EEG_psd1.freqs, PSD_Bs, k=3) #BSpline object\n",
    "s_sem2=s2(xnew)\n",
    "\n",
    "\n",
    "plt.plot(xnew, s_counts1, 'navy', label='peak',linewidth=4)\n",
    "plt.fill_between(xnew, s_counts1-s_sem1, s_counts1+s_sem1,facecolor='navy', alpha=0.25)\n",
    "\n",
    "plt.plot(xnew, s_counts2, 'grey', label='ERP',linewidth=4)\n",
    "plt.fill_between(xnew, s_counts2-s_sem2, s_counts2+s_sem2,facecolor='grey', alpha=0.25)\n",
    "\n",
    "# stats from matlab cluster-based permutation in fieldtrip\n",
    "#plt.axvspan(EEG_psd1.freqs[59], EEG_psd1.freqs[-1], alpha=0.3, color='grey')\n",
    "\n",
    "\n",
    "plt.ylabel('log(power)', fontsize=18)\n",
    "plt.title('PSDs', fontsize = 24)\n",
    "plt.xlabel('log(frequency)', fontsize=18)\n",
    "plt.xticks(fontsize=18)\n",
    "plt.yticks(fontsize=18)\n",
    "plt.xlim(EEG_psd1.freqs[0], EEG_psd1.freqs[-1])\n",
    "plt.legend(fontsize=20)\n",
    "plt.yscale('log')\n",
    "plt.xscale('log')\n",
    "ax=plt.gca()\n",
    "ax.spines['top'].set_visible(False)\n",
    "ax.spines['right'].set_visible(False)\n",
    "ax.tick_params(axis='both', which='both', direction='in', width=1.5, labelsize=16)  # Customize tick properties\n",
    "ax.spines['bottom'].set_linewidth(1.75)\n",
    "ax.spines['left'].set_linewidth(1.75)\n",
    "\n",
    "#plt.savefig(\"/home/b1044271/Columbia/Plots/NOV23/TR_PSDs_vs_ERPs.svg\", dpi = 600)"
   ]
  },
  {
   "cell_type": "code",
   "execution_count": null,
   "id": "95b78dff",
   "metadata": {},
   "outputs": [],
   "source": []
  }
 ],
 "metadata": {
  "kernelspec": {
   "display_name": "Python [conda env:mne]",
   "language": "python",
   "name": "conda-env-mne-py"
  },
  "language_info": {
   "codemirror_mode": {
    "name": "ipython",
    "version": 3
   },
   "file_extension": ".py",
   "mimetype": "text/x-python",
   "name": "python",
   "nbconvert_exporter": "python",
   "pygments_lexer": "ipython3",
   "version": "3.10.6"
  }
 },
 "nbformat": 4,
 "nbformat_minor": 5
}
