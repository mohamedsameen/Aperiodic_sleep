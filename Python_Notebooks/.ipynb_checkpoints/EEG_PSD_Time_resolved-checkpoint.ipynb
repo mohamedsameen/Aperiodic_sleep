{
 "cells": [
  {
   "cell_type": "code",
   "execution_count": 1,
   "id": "89c84a12",
   "metadata": {},
   "outputs": [],
   "source": [
    "import mne\n",
    "import numpy as np\n",
    "import matplotlib.pyplot as plt\n",
    "import os\n",
    "import pandas as pd\n",
    "# Import the FOOOF object\n",
    "from fooof import FOOOF\n",
    "from fooof import FOOOFGroup\n",
    "# Import a utility to download and load example data\n",
    "from fooof.utils.download import load_fooof_data\n",
    "from pathlib import Path\n",
    "import glob\n",
    "from math import floor\n",
    "from mne.time_frequency import tfr_multitaper\n",
    "import seaborn\n",
    "from scipy import stats\n"
   ]
  },
  {
   "cell_type": "code",
   "execution_count": 2,
   "id": "9fb5ed6e",
   "metadata": {},
   "outputs": [],
   "source": [
    "Data_path = '/home/b1044271/Columbia/Preprocessed/Stage_epoched/New_stage_trans/stims/Last/*Stims*.set'\n",
    "subj_files = sorted(glob.glob(Data_path))\n"
   ]
  },
  {
   "cell_type": "code",
   "execution_count": 15,
   "id": "23067fcd",
   "metadata": {},
   "outputs": [],
   "source": [
    "peak_idx = np.load('/home/b1044271/Columbia/Results/localMax.npy')\n",
    "\n",
    "time = np.load('/home/b1044271/Columbia/Results/Time-resolved/Transitions/Cz/MT/Time_5-5_MT.npy') # time vector -5 to 5 MT\n",
    "baseline = time[500]"
   ]
  },
  {
   "cell_type": "code",
   "execution_count": 16,
   "id": "dd784924",
   "metadata": {},
   "outputs": [],
   "source": [
    "p_PSD = np.zeros([32,89])*np.nan\n",
    "b_PSD = np.zeros([32,89])*np.nan"
   ]
  },
  {
   "cell_type": "code",
   "execution_count": 17,
   "id": "474483d6",
   "metadata": {},
   "outputs": [
    {
     "name": "stderr",
     "output_type": "stream",
     "text": [
      "/home/b1044271/anaconda3/envs/mne/lib/python3.10/site-packages/pymatreader/utils.py:122: UserWarning: Complex objects (like classes) are not supported. They are imported on a best effort base but your mileage will vary.\n",
      "  warn('Complex objects (like classes) are not supported. '\n"
     ]
    },
    {
     "name": "stdout",
     "output_type": "stream",
     "text": [
      "Extracting parameters from /home/b1044271/Columbia/Preprocessed/Stage_epoched/New_stage_trans/stims/Last/VP01_StimsN.set...\n"
     ]
    },
    {
     "name": "stderr",
     "output_type": "stream",
     "text": [
      "/tmp/ipykernel_297208/2555461352.py:13: RuntimeWarning: At least one epoch has multiple events. Only the latency of the first event will be retained.\n",
      "  EEG = mne.read_epochs_eeglab(os.path.join(Data_path, x))\n"
     ]
    },
    {
     "name": "stdout",
     "output_type": "stream",
     "text": [
      "Not setting metadata\n",
      "1978 matching events found\n",
      "No baseline correction applied\n",
      "0 projection items activated\n",
      "Ready.\n"
     ]
    },
    {
     "name": "stderr",
     "output_type": "stream",
     "text": [
      "[Parallel(n_jobs=1)]: Using backend SequentialBackend with 1 concurrent workers.\n",
      "[Parallel(n_jobs=1)]: Done   1 out of   1 | elapsed:   45.1s remaining:    0.0s\n",
      "[Parallel(n_jobs=1)]: Done   1 out of   1 | elapsed:   45.1s finished\n"
     ]
    },
    {
     "name": "stdout",
     "output_type": "stream",
     "text": [
      "Not setting metadata\n",
      "{'done'}\n"
     ]
    },
    {
     "name": "stderr",
     "output_type": "stream",
     "text": [
      "/home/b1044271/anaconda3/envs/mne/lib/python3.10/site-packages/pymatreader/utils.py:122: UserWarning: Complex objects (like classes) are not supported. They are imported on a best effort base but your mileage will vary.\n",
      "  warn('Complex objects (like classes) are not supported. '\n"
     ]
    },
    {
     "name": "stdout",
     "output_type": "stream",
     "text": [
      "Extracting parameters from /home/b1044271/Columbia/Preprocessed/Stage_epoched/New_stage_trans/stims/Last/VP01_StimsR.set...\n"
     ]
    },
    {
     "name": "stderr",
     "output_type": "stream",
     "text": [
      "/tmp/ipykernel_297208/2555461352.py:13: RuntimeWarning: At least one epoch has multiple events. Only the latency of the first event will be retained.\n",
      "  EEG = mne.read_epochs_eeglab(os.path.join(Data_path, x))\n"
     ]
    },
    {
     "name": "stdout",
     "output_type": "stream",
     "text": [
      "Not setting metadata\n",
      "323 matching events found\n",
      "No baseline correction applied\n",
      "0 projection items activated\n",
      "Ready.\n"
     ]
    },
    {
     "name": "stderr",
     "output_type": "stream",
     "text": [
      "[Parallel(n_jobs=1)]: Using backend SequentialBackend with 1 concurrent workers.\n",
      "[Parallel(n_jobs=1)]: Done   1 out of   1 | elapsed:    6.6s remaining:    0.0s\n",
      "[Parallel(n_jobs=1)]: Done   1 out of   1 | elapsed:    6.6s finished\n"
     ]
    },
    {
     "name": "stdout",
     "output_type": "stream",
     "text": [
      "Not setting metadata\n",
      "{'done'}\n"
     ]
    },
    {
     "name": "stderr",
     "output_type": "stream",
     "text": [
      "/home/b1044271/anaconda3/envs/mne/lib/python3.10/site-packages/pymatreader/utils.py:122: UserWarning: Complex objects (like classes) are not supported. They are imported on a best effort base but your mileage will vary.\n",
      "  warn('Complex objects (like classes) are not supported. '\n"
     ]
    },
    {
     "name": "stdout",
     "output_type": "stream",
     "text": [
      "Extracting parameters from /home/b1044271/Columbia/Preprocessed/Stage_epoched/New_stage_trans/stims/Last/VP03_StimsN.set...\n"
     ]
    },
    {
     "name": "stderr",
     "output_type": "stream",
     "text": [
      "/tmp/ipykernel_297208/2555461352.py:13: RuntimeWarning: At least one epoch has multiple events. Only the latency of the first event will be retained.\n",
      "  EEG = mne.read_epochs_eeglab(os.path.join(Data_path, x))\n"
     ]
    },
    {
     "name": "stdout",
     "output_type": "stream",
     "text": [
      "Not setting metadata\n",
      "2132 matching events found\n",
      "No baseline correction applied\n",
      "0 projection items activated\n",
      "Ready.\n"
     ]
    },
    {
     "name": "stderr",
     "output_type": "stream",
     "text": [
      "[Parallel(n_jobs=1)]: Using backend SequentialBackend with 1 concurrent workers.\n",
      "[Parallel(n_jobs=1)]: Done   1 out of   1 | elapsed:   57.0s remaining:    0.0s\n",
      "[Parallel(n_jobs=1)]: Done   1 out of   1 | elapsed:   57.0s finished\n"
     ]
    },
    {
     "name": "stdout",
     "output_type": "stream",
     "text": [
      "Not setting metadata\n",
      "{'done'}\n"
     ]
    },
    {
     "name": "stderr",
     "output_type": "stream",
     "text": [
      "/home/b1044271/anaconda3/envs/mne/lib/python3.10/site-packages/pymatreader/utils.py:122: UserWarning: Complex objects (like classes) are not supported. They are imported on a best effort base but your mileage will vary.\n",
      "  warn('Complex objects (like classes) are not supported. '\n"
     ]
    },
    {
     "name": "stdout",
     "output_type": "stream",
     "text": [
      "Extracting parameters from /home/b1044271/Columbia/Preprocessed/Stage_epoched/New_stage_trans/stims/Last/VP03_StimsR.set...\n"
     ]
    },
    {
     "name": "stderr",
     "output_type": "stream",
     "text": [
      "/tmp/ipykernel_297208/2555461352.py:13: RuntimeWarning: At least one epoch has multiple events. Only the latency of the first event will be retained.\n",
      "  EEG = mne.read_epochs_eeglab(os.path.join(Data_path, x))\n"
     ]
    },
    {
     "name": "stdout",
     "output_type": "stream",
     "text": [
      "Not setting metadata\n",
      "349 matching events found\n",
      "No baseline correction applied\n",
      "0 projection items activated\n",
      "Ready.\n"
     ]
    },
    {
     "name": "stderr",
     "output_type": "stream",
     "text": [
      "[Parallel(n_jobs=1)]: Using backend SequentialBackend with 1 concurrent workers.\n",
      "[Parallel(n_jobs=1)]: Done   1 out of   1 | elapsed:    8.2s remaining:    0.0s\n",
      "[Parallel(n_jobs=1)]: Done   1 out of   1 | elapsed:    8.2s finished\n"
     ]
    },
    {
     "name": "stdout",
     "output_type": "stream",
     "text": [
      "Not setting metadata\n",
      "{'done'}\n"
     ]
    },
    {
     "name": "stderr",
     "output_type": "stream",
     "text": [
      "/home/b1044271/anaconda3/envs/mne/lib/python3.10/site-packages/pymatreader/utils.py:122: UserWarning: Complex objects (like classes) are not supported. They are imported on a best effort base but your mileage will vary.\n",
      "  warn('Complex objects (like classes) are not supported. '\n"
     ]
    },
    {
     "name": "stdout",
     "output_type": "stream",
     "text": [
      "Extracting parameters from /home/b1044271/Columbia/Preprocessed/Stage_epoched/New_stage_trans/stims/Last/VP04_StimsN.set...\n"
     ]
    },
    {
     "name": "stderr",
     "output_type": "stream",
     "text": [
      "/tmp/ipykernel_297208/2555461352.py:13: RuntimeWarning: At least one epoch has multiple events. Only the latency of the first event will be retained.\n",
      "  EEG = mne.read_epochs_eeglab(os.path.join(Data_path, x))\n"
     ]
    },
    {
     "name": "stdout",
     "output_type": "stream",
     "text": [
      "Not setting metadata\n",
      "1337 matching events found\n",
      "No baseline correction applied\n",
      "0 projection items activated\n",
      "Ready.\n"
     ]
    },
    {
     "name": "stderr",
     "output_type": "stream",
     "text": [
      "[Parallel(n_jobs=1)]: Using backend SequentialBackend with 1 concurrent workers.\n",
      "[Parallel(n_jobs=1)]: Done   1 out of   1 | elapsed:   35.2s remaining:    0.0s\n",
      "[Parallel(n_jobs=1)]: Done   1 out of   1 | elapsed:   35.2s finished\n"
     ]
    },
    {
     "name": "stdout",
     "output_type": "stream",
     "text": [
      "Not setting metadata\n",
      "{'done'}\n"
     ]
    },
    {
     "name": "stderr",
     "output_type": "stream",
     "text": [
      "/home/b1044271/anaconda3/envs/mne/lib/python3.10/site-packages/pymatreader/utils.py:122: UserWarning: Complex objects (like classes) are not supported. They are imported on a best effort base but your mileage will vary.\n",
      "  warn('Complex objects (like classes) are not supported. '\n"
     ]
    },
    {
     "name": "stdout",
     "output_type": "stream",
     "text": [
      "Extracting parameters from /home/b1044271/Columbia/Preprocessed/Stage_epoched/New_stage_trans/stims/Last/VP04_StimsR.set...\n"
     ]
    },
    {
     "name": "stderr",
     "output_type": "stream",
     "text": [
      "/tmp/ipykernel_297208/2555461352.py:13: RuntimeWarning: At least one epoch has multiple events. Only the latency of the first event will be retained.\n",
      "  EEG = mne.read_epochs_eeglab(os.path.join(Data_path, x))\n"
     ]
    },
    {
     "name": "stdout",
     "output_type": "stream",
     "text": [
      "Not setting metadata\n",
      "569 matching events found\n",
      "No baseline correction applied\n",
      "0 projection items activated\n",
      "Ready.\n"
     ]
    },
    {
     "name": "stderr",
     "output_type": "stream",
     "text": [
      "[Parallel(n_jobs=1)]: Using backend SequentialBackend with 1 concurrent workers.\n",
      "[Parallel(n_jobs=1)]: Done   1 out of   1 | elapsed:   13.6s remaining:    0.0s\n",
      "[Parallel(n_jobs=1)]: Done   1 out of   1 | elapsed:   13.6s finished\n"
     ]
    },
    {
     "name": "stdout",
     "output_type": "stream",
     "text": [
      "Not setting metadata\n",
      "{'done'}\n"
     ]
    },
    {
     "name": "stderr",
     "output_type": "stream",
     "text": [
      "/home/b1044271/anaconda3/envs/mne/lib/python3.10/site-packages/pymatreader/utils.py:122: UserWarning: Complex objects (like classes) are not supported. They are imported on a best effort base but your mileage will vary.\n",
      "  warn('Complex objects (like classes) are not supported. '\n"
     ]
    },
    {
     "name": "stdout",
     "output_type": "stream",
     "text": [
      "Extracting parameters from /home/b1044271/Columbia/Preprocessed/Stage_epoched/New_stage_trans/stims/Last/VP05_StimsN.set...\n"
     ]
    },
    {
     "name": "stderr",
     "output_type": "stream",
     "text": [
      "/tmp/ipykernel_297208/2555461352.py:13: RuntimeWarning: At least one epoch has multiple events. Only the latency of the first event will be retained.\n",
      "  EEG = mne.read_epochs_eeglab(os.path.join(Data_path, x))\n"
     ]
    },
    {
     "name": "stdout",
     "output_type": "stream",
     "text": [
      "Not setting metadata\n",
      "2106 matching events found\n",
      "No baseline correction applied\n",
      "0 projection items activated\n",
      "Ready.\n"
     ]
    },
    {
     "name": "stderr",
     "output_type": "stream",
     "text": [
      "[Parallel(n_jobs=1)]: Using backend SequentialBackend with 1 concurrent workers.\n",
      "[Parallel(n_jobs=1)]: Done   1 out of   1 | elapsed:   56.7s remaining:    0.0s\n",
      "[Parallel(n_jobs=1)]: Done   1 out of   1 | elapsed:   56.7s finished\n"
     ]
    },
    {
     "name": "stdout",
     "output_type": "stream",
     "text": [
      "Not setting metadata\n",
      "{'done'}\n"
     ]
    },
    {
     "name": "stderr",
     "output_type": "stream",
     "text": [
      "/home/b1044271/anaconda3/envs/mne/lib/python3.10/site-packages/pymatreader/utils.py:122: UserWarning: Complex objects (like classes) are not supported. They are imported on a best effort base but your mileage will vary.\n",
      "  warn('Complex objects (like classes) are not supported. '\n"
     ]
    },
    {
     "name": "stdout",
     "output_type": "stream",
     "text": [
      "Extracting parameters from /home/b1044271/Columbia/Preprocessed/Stage_epoched/New_stage_trans/stims/Last/VP05_StimsR.set...\n"
     ]
    },
    {
     "name": "stderr",
     "output_type": "stream",
     "text": [
      "/tmp/ipykernel_297208/2555461352.py:13: RuntimeWarning: At least one epoch has multiple events. Only the latency of the first event will be retained.\n",
      "  EEG = mne.read_epochs_eeglab(os.path.join(Data_path, x))\n"
     ]
    },
    {
     "name": "stdout",
     "output_type": "stream",
     "text": [
      "Not setting metadata\n",
      "176 matching events found\n",
      "No baseline correction applied\n",
      "0 projection items activated\n",
      "Ready.\n"
     ]
    },
    {
     "name": "stderr",
     "output_type": "stream",
     "text": [
      "[Parallel(n_jobs=1)]: Using backend SequentialBackend with 1 concurrent workers.\n"
     ]
    },
    {
     "name": "stdout",
     "output_type": "stream",
     "text": [
      "Not setting metadata\n"
     ]
    },
    {
     "name": "stderr",
     "output_type": "stream",
     "text": [
      "[Parallel(n_jobs=1)]: Done   1 out of   1 | elapsed:    3.7s remaining:    0.0s\n",
      "[Parallel(n_jobs=1)]: Done   1 out of   1 | elapsed:    3.7s finished\n"
     ]
    },
    {
     "name": "stdout",
     "output_type": "stream",
     "text": [
      "{'done'}\n"
     ]
    },
    {
     "name": "stderr",
     "output_type": "stream",
     "text": [
      "/home/b1044271/anaconda3/envs/mne/lib/python3.10/site-packages/pymatreader/utils.py:122: UserWarning: Complex objects (like classes) are not supported. They are imported on a best effort base but your mileage will vary.\n",
      "  warn('Complex objects (like classes) are not supported. '\n"
     ]
    },
    {
     "name": "stdout",
     "output_type": "stream",
     "text": [
      "Extracting parameters from /home/b1044271/Columbia/Preprocessed/Stage_epoched/New_stage_trans/stims/Last/VP06_StimsN.set...\n"
     ]
    },
    {
     "name": "stderr",
     "output_type": "stream",
     "text": [
      "/tmp/ipykernel_297208/2555461352.py:13: RuntimeWarning: At least one epoch has multiple events. Only the latency of the first event will be retained.\n",
      "  EEG = mne.read_epochs_eeglab(os.path.join(Data_path, x))\n"
     ]
    },
    {
     "name": "stdout",
     "output_type": "stream",
     "text": [
      "Not setting metadata\n",
      "2272 matching events found\n",
      "No baseline correction applied\n",
      "0 projection items activated\n",
      "Ready.\n"
     ]
    },
    {
     "name": "stderr",
     "output_type": "stream",
     "text": [
      "[Parallel(n_jobs=1)]: Using backend SequentialBackend with 1 concurrent workers.\n",
      "[Parallel(n_jobs=1)]: Done   1 out of   1 | elapsed:   55.3s remaining:    0.0s\n",
      "[Parallel(n_jobs=1)]: Done   1 out of   1 | elapsed:   55.3s finished\n"
     ]
    },
    {
     "name": "stdout",
     "output_type": "stream",
     "text": [
      "Not setting metadata\n",
      "{'done'}\n"
     ]
    },
    {
     "name": "stderr",
     "output_type": "stream",
     "text": [
      "/home/b1044271/anaconda3/envs/mne/lib/python3.10/site-packages/pymatreader/utils.py:122: UserWarning: Complex objects (like classes) are not supported. They are imported on a best effort base but your mileage will vary.\n",
      "  warn('Complex objects (like classes) are not supported. '\n"
     ]
    },
    {
     "name": "stdout",
     "output_type": "stream",
     "text": [
      "Extracting parameters from /home/b1044271/Columbia/Preprocessed/Stage_epoched/New_stage_trans/stims/Last/VP06_StimsR.set...\n"
     ]
    },
    {
     "name": "stderr",
     "output_type": "stream",
     "text": [
      "/tmp/ipykernel_297208/2555461352.py:13: RuntimeWarning: At least one epoch has multiple events. Only the latency of the first event will be retained.\n",
      "  EEG = mne.read_epochs_eeglab(os.path.join(Data_path, x))\n"
     ]
    },
    {
     "name": "stdout",
     "output_type": "stream",
     "text": [
      "Not setting metadata\n",
      "558 matching events found\n",
      "No baseline correction applied\n",
      "0 projection items activated\n",
      "Ready.\n"
     ]
    },
    {
     "name": "stderr",
     "output_type": "stream",
     "text": [
      "[Parallel(n_jobs=1)]: Using backend SequentialBackend with 1 concurrent workers.\n",
      "[Parallel(n_jobs=1)]: Done   1 out of   1 | elapsed:   12.6s remaining:    0.0s\n",
      "[Parallel(n_jobs=1)]: Done   1 out of   1 | elapsed:   12.6s finished\n"
     ]
    },
    {
     "name": "stdout",
     "output_type": "stream",
     "text": [
      "Not setting metadata\n",
      "{'done'}\n"
     ]
    },
    {
     "name": "stderr",
     "output_type": "stream",
     "text": [
      "/home/b1044271/anaconda3/envs/mne/lib/python3.10/site-packages/pymatreader/utils.py:122: UserWarning: Complex objects (like classes) are not supported. They are imported on a best effort base but your mileage will vary.\n",
      "  warn('Complex objects (like classes) are not supported. '\n"
     ]
    },
    {
     "name": "stdout",
     "output_type": "stream",
     "text": [
      "Extracting parameters from /home/b1044271/Columbia/Preprocessed/Stage_epoched/New_stage_trans/stims/Last/VP07_StimsN.set...\n"
     ]
    },
    {
     "name": "stderr",
     "output_type": "stream",
     "text": [
      "/tmp/ipykernel_297208/2555461352.py:13: RuntimeWarning: At least one epoch has multiple events. Only the latency of the first event will be retained.\n",
      "  EEG = mne.read_epochs_eeglab(os.path.join(Data_path, x))\n"
     ]
    },
    {
     "name": "stdout",
     "output_type": "stream",
     "text": [
      "Not setting metadata\n",
      "1573 matching events found\n",
      "No baseline correction applied\n",
      "0 projection items activated\n",
      "Ready.\n"
     ]
    },
    {
     "name": "stderr",
     "output_type": "stream",
     "text": [
      "[Parallel(n_jobs=1)]: Using backend SequentialBackend with 1 concurrent workers.\n",
      "[Parallel(n_jobs=1)]: Done   1 out of   1 | elapsed:   41.1s remaining:    0.0s\n",
      "[Parallel(n_jobs=1)]: Done   1 out of   1 | elapsed:   41.1s finished\n"
     ]
    },
    {
     "name": "stdout",
     "output_type": "stream",
     "text": [
      "Not setting metadata\n",
      "{'done'}\n"
     ]
    },
    {
     "name": "stderr",
     "output_type": "stream",
     "text": [
      "/home/b1044271/anaconda3/envs/mne/lib/python3.10/site-packages/pymatreader/utils.py:122: UserWarning: Complex objects (like classes) are not supported. They are imported on a best effort base but your mileage will vary.\n",
      "  warn('Complex objects (like classes) are not supported. '\n"
     ]
    },
    {
     "name": "stdout",
     "output_type": "stream",
     "text": [
      "Extracting parameters from /home/b1044271/Columbia/Preprocessed/Stage_epoched/New_stage_trans/stims/Last/VP07_StimsR.set...\n"
     ]
    },
    {
     "name": "stderr",
     "output_type": "stream",
     "text": [
      "/tmp/ipykernel_297208/2555461352.py:13: RuntimeWarning: At least one epoch has multiple events. Only the latency of the first event will be retained.\n",
      "  EEG = mne.read_epochs_eeglab(os.path.join(Data_path, x))\n"
     ]
    },
    {
     "name": "stdout",
     "output_type": "stream",
     "text": [
      "Not setting metadata\n",
      "430 matching events found\n",
      "No baseline correction applied\n",
      "0 projection items activated\n",
      "Ready.\n"
     ]
    },
    {
     "name": "stderr",
     "output_type": "stream",
     "text": [
      "[Parallel(n_jobs=1)]: Using backend SequentialBackend with 1 concurrent workers.\n"
     ]
    },
    {
     "name": "stdout",
     "output_type": "stream",
     "text": [
      "Not setting metadata\n"
     ]
    },
    {
     "name": "stderr",
     "output_type": "stream",
     "text": [
      "[Parallel(n_jobs=1)]: Done   1 out of   1 | elapsed:    9.2s remaining:    0.0s\n",
      "[Parallel(n_jobs=1)]: Done   1 out of   1 | elapsed:    9.3s finished\n"
     ]
    },
    {
     "name": "stdout",
     "output_type": "stream",
     "text": [
      "{'done'}\n"
     ]
    },
    {
     "name": "stderr",
     "output_type": "stream",
     "text": [
      "/home/b1044271/anaconda3/envs/mne/lib/python3.10/site-packages/pymatreader/utils.py:122: UserWarning: Complex objects (like classes) are not supported. They are imported on a best effort base but your mileage will vary.\n",
      "  warn('Complex objects (like classes) are not supported. '\n"
     ]
    },
    {
     "name": "stdout",
     "output_type": "stream",
     "text": [
      "Extracting parameters from /home/b1044271/Columbia/Preprocessed/Stage_epoched/New_stage_trans/stims/Last/VP08_StimsN.set...\n"
     ]
    },
    {
     "name": "stderr",
     "output_type": "stream",
     "text": [
      "/tmp/ipykernel_297208/2555461352.py:13: RuntimeWarning: At least one epoch has multiple events. Only the latency of the first event will be retained.\n",
      "  EEG = mne.read_epochs_eeglab(os.path.join(Data_path, x))\n"
     ]
    },
    {
     "name": "stdout",
     "output_type": "stream",
     "text": [
      "Not setting metadata\n",
      "1974 matching events found\n",
      "No baseline correction applied\n",
      "0 projection items activated\n",
      "Ready.\n"
     ]
    },
    {
     "name": "stderr",
     "output_type": "stream",
     "text": [
      "[Parallel(n_jobs=1)]: Using backend SequentialBackend with 1 concurrent workers.\n",
      "[Parallel(n_jobs=1)]: Done   1 out of   1 | elapsed:   58.6s remaining:    0.0s\n",
      "[Parallel(n_jobs=1)]: Done   1 out of   1 | elapsed:   58.6s finished\n"
     ]
    },
    {
     "name": "stdout",
     "output_type": "stream",
     "text": [
      "Not setting metadata\n",
      "{'done'}\n"
     ]
    },
    {
     "name": "stderr",
     "output_type": "stream",
     "text": [
      "/home/b1044271/anaconda3/envs/mne/lib/python3.10/site-packages/pymatreader/utils.py:122: UserWarning: Complex objects (like classes) are not supported. They are imported on a best effort base but your mileage will vary.\n",
      "  warn('Complex objects (like classes) are not supported. '\n"
     ]
    },
    {
     "name": "stdout",
     "output_type": "stream",
     "text": [
      "Extracting parameters from /home/b1044271/Columbia/Preprocessed/Stage_epoched/New_stage_trans/stims/Last/VP08_StimsR.set...\n"
     ]
    },
    {
     "name": "stderr",
     "output_type": "stream",
     "text": [
      "/tmp/ipykernel_297208/2555461352.py:13: RuntimeWarning: At least one epoch has multiple events. Only the latency of the first event will be retained.\n",
      "  EEG = mne.read_epochs_eeglab(os.path.join(Data_path, x))\n"
     ]
    },
    {
     "name": "stdout",
     "output_type": "stream",
     "text": [
      "Not setting metadata\n",
      "453 matching events found\n",
      "No baseline correction applied\n",
      "0 projection items activated\n",
      "Ready.\n"
     ]
    },
    {
     "name": "stderr",
     "output_type": "stream",
     "text": [
      "[Parallel(n_jobs=1)]: Using backend SequentialBackend with 1 concurrent workers.\n",
      "[Parallel(n_jobs=1)]: Done   1 out of   1 | elapsed:   11.3s remaining:    0.0s\n",
      "[Parallel(n_jobs=1)]: Done   1 out of   1 | elapsed:   11.3s finished\n"
     ]
    },
    {
     "name": "stdout",
     "output_type": "stream",
     "text": [
      "Not setting metadata\n",
      "{'done'}\n"
     ]
    },
    {
     "name": "stderr",
     "output_type": "stream",
     "text": [
      "/home/b1044271/anaconda3/envs/mne/lib/python3.10/site-packages/pymatreader/utils.py:122: UserWarning: Complex objects (like classes) are not supported. They are imported on a best effort base but your mileage will vary.\n",
      "  warn('Complex objects (like classes) are not supported. '\n"
     ]
    },
    {
     "name": "stdout",
     "output_type": "stream",
     "text": [
      "Extracting parameters from /home/b1044271/Columbia/Preprocessed/Stage_epoched/New_stage_trans/stims/Last/VP10_StimsN.set...\n"
     ]
    },
    {
     "name": "stderr",
     "output_type": "stream",
     "text": [
      "/tmp/ipykernel_297208/2555461352.py:13: RuntimeWarning: At least one epoch has multiple events. Only the latency of the first event will be retained.\n",
      "  EEG = mne.read_epochs_eeglab(os.path.join(Data_path, x))\n"
     ]
    },
    {
     "name": "stdout",
     "output_type": "stream",
     "text": [
      "Not setting metadata\n",
      "2390 matching events found\n",
      "No baseline correction applied\n",
      "0 projection items activated\n",
      "Ready.\n"
     ]
    },
    {
     "name": "stderr",
     "output_type": "stream",
     "text": [
      "[Parallel(n_jobs=1)]: Using backend SequentialBackend with 1 concurrent workers.\n",
      "[Parallel(n_jobs=1)]: Done   1 out of   1 | elapsed:   55.4s remaining:    0.0s\n",
      "[Parallel(n_jobs=1)]: Done   1 out of   1 | elapsed:   55.4s finished\n"
     ]
    },
    {
     "name": "stdout",
     "output_type": "stream",
     "text": [
      "Not setting metadata\n",
      "{'done'}\n"
     ]
    },
    {
     "name": "stderr",
     "output_type": "stream",
     "text": [
      "/home/b1044271/anaconda3/envs/mne/lib/python3.10/site-packages/pymatreader/utils.py:122: UserWarning: Complex objects (like classes) are not supported. They are imported on a best effort base but your mileage will vary.\n",
      "  warn('Complex objects (like classes) are not supported. '\n"
     ]
    },
    {
     "name": "stdout",
     "output_type": "stream",
     "text": [
      "Extracting parameters from /home/b1044271/Columbia/Preprocessed/Stage_epoched/New_stage_trans/stims/Last/VP10_StimsR.set...\n"
     ]
    },
    {
     "name": "stderr",
     "output_type": "stream",
     "text": [
      "/tmp/ipykernel_297208/2555461352.py:13: RuntimeWarning: At least one epoch has multiple events. Only the latency of the first event will be retained.\n",
      "  EEG = mne.read_epochs_eeglab(os.path.join(Data_path, x))\n"
     ]
    },
    {
     "name": "stdout",
     "output_type": "stream",
     "text": [
      "Not setting metadata\n",
      "499 matching events found\n",
      "No baseline correction applied\n",
      "0 projection items activated\n",
      "Ready.\n"
     ]
    },
    {
     "name": "stderr",
     "output_type": "stream",
     "text": [
      "[Parallel(n_jobs=1)]: Using backend SequentialBackend with 1 concurrent workers.\n",
      "[Parallel(n_jobs=1)]: Done   1 out of   1 | elapsed:   12.1s remaining:    0.0s\n",
      "[Parallel(n_jobs=1)]: Done   1 out of   1 | elapsed:   12.1s finished\n"
     ]
    },
    {
     "name": "stdout",
     "output_type": "stream",
     "text": [
      "Not setting metadata\n",
      "{'done'}\n"
     ]
    },
    {
     "name": "stderr",
     "output_type": "stream",
     "text": [
      "/home/b1044271/anaconda3/envs/mne/lib/python3.10/site-packages/pymatreader/utils.py:122: UserWarning: Complex objects (like classes) are not supported. They are imported on a best effort base but your mileage will vary.\n",
      "  warn('Complex objects (like classes) are not supported. '\n"
     ]
    },
    {
     "name": "stdout",
     "output_type": "stream",
     "text": [
      "Extracting parameters from /home/b1044271/Columbia/Preprocessed/Stage_epoched/New_stage_trans/stims/Last/VP11_StimsN.set...\n"
     ]
    },
    {
     "name": "stderr",
     "output_type": "stream",
     "text": [
      "/tmp/ipykernel_297208/2555461352.py:13: RuntimeWarning: At least one epoch has multiple events. Only the latency of the first event will be retained.\n",
      "  EEG = mne.read_epochs_eeglab(os.path.join(Data_path, x))\n"
     ]
    },
    {
     "name": "stdout",
     "output_type": "stream",
     "text": [
      "Not setting metadata\n",
      "2442 matching events found\n",
      "No baseline correction applied\n",
      "0 projection items activated\n",
      "Ready.\n"
     ]
    },
    {
     "name": "stderr",
     "output_type": "stream",
     "text": [
      "[Parallel(n_jobs=1)]: Using backend SequentialBackend with 1 concurrent workers.\n",
      "[Parallel(n_jobs=1)]: Done   1 out of   1 | elapsed:  1.1min remaining:    0.0s\n",
      "[Parallel(n_jobs=1)]: Done   1 out of   1 | elapsed:  1.1min finished\n"
     ]
    },
    {
     "name": "stdout",
     "output_type": "stream",
     "text": [
      "Not setting metadata\n",
      "{'done'}\n"
     ]
    },
    {
     "name": "stderr",
     "output_type": "stream",
     "text": [
      "/home/b1044271/anaconda3/envs/mne/lib/python3.10/site-packages/pymatreader/utils.py:122: UserWarning: Complex objects (like classes) are not supported. They are imported on a best effort base but your mileage will vary.\n",
      "  warn('Complex objects (like classes) are not supported. '\n"
     ]
    },
    {
     "name": "stdout",
     "output_type": "stream",
     "text": [
      "Extracting parameters from /home/b1044271/Columbia/Preprocessed/Stage_epoched/New_stage_trans/stims/Last/VP11_StimsR.set...\n"
     ]
    },
    {
     "name": "stderr",
     "output_type": "stream",
     "text": [
      "/tmp/ipykernel_297208/2555461352.py:13: RuntimeWarning: At least one epoch has multiple events. Only the latency of the first event will be retained.\n",
      "  EEG = mne.read_epochs_eeglab(os.path.join(Data_path, x))\n"
     ]
    },
    {
     "name": "stdout",
     "output_type": "stream",
     "text": [
      "Not setting metadata\n",
      "514 matching events found\n",
      "No baseline correction applied\n",
      "0 projection items activated\n",
      "Ready.\n"
     ]
    },
    {
     "name": "stderr",
     "output_type": "stream",
     "text": [
      "[Parallel(n_jobs=1)]: Using backend SequentialBackend with 1 concurrent workers.\n",
      "[Parallel(n_jobs=1)]: Done   1 out of   1 | elapsed:   13.4s remaining:    0.0s\n",
      "[Parallel(n_jobs=1)]: Done   1 out of   1 | elapsed:   13.4s finished\n"
     ]
    },
    {
     "name": "stdout",
     "output_type": "stream",
     "text": [
      "Not setting metadata\n",
      "{'done'}\n"
     ]
    },
    {
     "name": "stderr",
     "output_type": "stream",
     "text": [
      "/home/b1044271/anaconda3/envs/mne/lib/python3.10/site-packages/pymatreader/utils.py:122: UserWarning: Complex objects (like classes) are not supported. They are imported on a best effort base but your mileage will vary.\n",
      "  warn('Complex objects (like classes) are not supported. '\n"
     ]
    },
    {
     "name": "stdout",
     "output_type": "stream",
     "text": [
      "Extracting parameters from /home/b1044271/Columbia/Preprocessed/Stage_epoched/New_stage_trans/stims/Last/VP12_StimsN.set...\n"
     ]
    },
    {
     "name": "stderr",
     "output_type": "stream",
     "text": [
      "/tmp/ipykernel_297208/2555461352.py:13: RuntimeWarning: At least one epoch has multiple events. Only the latency of the first event will be retained.\n",
      "  EEG = mne.read_epochs_eeglab(os.path.join(Data_path, x))\n"
     ]
    },
    {
     "name": "stdout",
     "output_type": "stream",
     "text": [
      "Not setting metadata\n",
      "1320 matching events found\n",
      "No baseline correction applied\n",
      "0 projection items activated\n",
      "Ready.\n"
     ]
    },
    {
     "name": "stderr",
     "output_type": "stream",
     "text": [
      "[Parallel(n_jobs=1)]: Using backend SequentialBackend with 1 concurrent workers.\n",
      "[Parallel(n_jobs=1)]: Done   1 out of   1 | elapsed:   28.5s remaining:    0.0s\n",
      "[Parallel(n_jobs=1)]: Done   1 out of   1 | elapsed:   28.5s finished\n"
     ]
    },
    {
     "name": "stdout",
     "output_type": "stream",
     "text": [
      "Not setting metadata\n",
      "{'done'}\n"
     ]
    },
    {
     "name": "stderr",
     "output_type": "stream",
     "text": [
      "/home/b1044271/anaconda3/envs/mne/lib/python3.10/site-packages/pymatreader/utils.py:122: UserWarning: Complex objects (like classes) are not supported. They are imported on a best effort base but your mileage will vary.\n",
      "  warn('Complex objects (like classes) are not supported. '\n"
     ]
    },
    {
     "name": "stdout",
     "output_type": "stream",
     "text": [
      "Extracting parameters from /home/b1044271/Columbia/Preprocessed/Stage_epoched/New_stage_trans/stims/Last/VP12_StimsR.set...\n"
     ]
    },
    {
     "name": "stderr",
     "output_type": "stream",
     "text": [
      "/tmp/ipykernel_297208/2555461352.py:13: RuntimeWarning: At least one epoch has multiple events. Only the latency of the first event will be retained.\n",
      "  EEG = mne.read_epochs_eeglab(os.path.join(Data_path, x))\n"
     ]
    },
    {
     "name": "stdout",
     "output_type": "stream",
     "text": [
      "Not setting metadata\n",
      "361 matching events found\n",
      "No baseline correction applied\n",
      "0 projection items activated\n",
      "Ready.\n"
     ]
    },
    {
     "name": "stderr",
     "output_type": "stream",
     "text": [
      "[Parallel(n_jobs=1)]: Using backend SequentialBackend with 1 concurrent workers.\n"
     ]
    },
    {
     "name": "stdout",
     "output_type": "stream",
     "text": [
      "Not setting metadata\n"
     ]
    },
    {
     "name": "stderr",
     "output_type": "stream",
     "text": [
      "[Parallel(n_jobs=1)]: Done   1 out of   1 | elapsed:    7.8s remaining:    0.0s\n",
      "[Parallel(n_jobs=1)]: Done   1 out of   1 | elapsed:    7.8s finished\n"
     ]
    },
    {
     "name": "stdout",
     "output_type": "stream",
     "text": [
      "{'done'}\n"
     ]
    },
    {
     "name": "stderr",
     "output_type": "stream",
     "text": [
      "/home/b1044271/anaconda3/envs/mne/lib/python3.10/site-packages/pymatreader/utils.py:122: UserWarning: Complex objects (like classes) are not supported. They are imported on a best effort base but your mileage will vary.\n",
      "  warn('Complex objects (like classes) are not supported. '\n"
     ]
    },
    {
     "name": "stdout",
     "output_type": "stream",
     "text": [
      "Extracting parameters from /home/b1044271/Columbia/Preprocessed/Stage_epoched/New_stage_trans/stims/Last/VP13_StimsN.set...\n"
     ]
    },
    {
     "name": "stderr",
     "output_type": "stream",
     "text": [
      "/tmp/ipykernel_297208/2555461352.py:13: RuntimeWarning: At least one epoch has multiple events. Only the latency of the first event will be retained.\n",
      "  EEG = mne.read_epochs_eeglab(os.path.join(Data_path, x))\n"
     ]
    },
    {
     "name": "stdout",
     "output_type": "stream",
     "text": [
      "Not setting metadata\n",
      "2176 matching events found\n",
      "No baseline correction applied\n",
      "0 projection items activated\n",
      "Ready.\n"
     ]
    },
    {
     "name": "stderr",
     "output_type": "stream",
     "text": [
      "[Parallel(n_jobs=1)]: Using backend SequentialBackend with 1 concurrent workers.\n",
      "[Parallel(n_jobs=1)]: Done   1 out of   1 | elapsed:   58.8s remaining:    0.0s\n",
      "[Parallel(n_jobs=1)]: Done   1 out of   1 | elapsed:   58.8s finished\n"
     ]
    },
    {
     "name": "stdout",
     "output_type": "stream",
     "text": [
      "Not setting metadata\n",
      "{'done'}\n"
     ]
    },
    {
     "name": "stderr",
     "output_type": "stream",
     "text": [
      "/home/b1044271/anaconda3/envs/mne/lib/python3.10/site-packages/pymatreader/utils.py:122: UserWarning: Complex objects (like classes) are not supported. They are imported on a best effort base but your mileage will vary.\n",
      "  warn('Complex objects (like classes) are not supported. '\n"
     ]
    },
    {
     "name": "stdout",
     "output_type": "stream",
     "text": [
      "Extracting parameters from /home/b1044271/Columbia/Preprocessed/Stage_epoched/New_stage_trans/stims/Last/VP13_StimsR.set...\n"
     ]
    },
    {
     "name": "stderr",
     "output_type": "stream",
     "text": [
      "/tmp/ipykernel_297208/2555461352.py:13: RuntimeWarning: At least one epoch has multiple events. Only the latency of the first event will be retained.\n",
      "  EEG = mne.read_epochs_eeglab(os.path.join(Data_path, x))\n"
     ]
    },
    {
     "name": "stdout",
     "output_type": "stream",
     "text": [
      "Not setting metadata\n",
      "246 matching events found\n",
      "No baseline correction applied\n",
      "0 projection items activated\n",
      "Ready.\n"
     ]
    },
    {
     "name": "stderr",
     "output_type": "stream",
     "text": [
      "[Parallel(n_jobs=1)]: Using backend SequentialBackend with 1 concurrent workers.\n"
     ]
    },
    {
     "name": "stdout",
     "output_type": "stream",
     "text": [
      "Not setting metadata\n"
     ]
    },
    {
     "name": "stderr",
     "output_type": "stream",
     "text": [
      "[Parallel(n_jobs=1)]: Done   1 out of   1 | elapsed:    4.7s remaining:    0.0s\n",
      "[Parallel(n_jobs=1)]: Done   1 out of   1 | elapsed:    4.7s finished\n"
     ]
    },
    {
     "name": "stdout",
     "output_type": "stream",
     "text": [
      "{'done'}\n"
     ]
    },
    {
     "name": "stderr",
     "output_type": "stream",
     "text": [
      "/home/b1044271/anaconda3/envs/mne/lib/python3.10/site-packages/pymatreader/utils.py:122: UserWarning: Complex objects (like classes) are not supported. They are imported on a best effort base but your mileage will vary.\n",
      "  warn('Complex objects (like classes) are not supported. '\n"
     ]
    },
    {
     "name": "stdout",
     "output_type": "stream",
     "text": [
      "Extracting parameters from /home/b1044271/Columbia/Preprocessed/Stage_epoched/New_stage_trans/stims/Last/VP14_StimsN.set...\n"
     ]
    },
    {
     "name": "stderr",
     "output_type": "stream",
     "text": [
      "/tmp/ipykernel_297208/2555461352.py:13: RuntimeWarning: At least one epoch has multiple events. Only the latency of the first event will be retained.\n",
      "  EEG = mne.read_epochs_eeglab(os.path.join(Data_path, x))\n"
     ]
    },
    {
     "name": "stdout",
     "output_type": "stream",
     "text": [
      "Not setting metadata\n",
      "2597 matching events found\n",
      "No baseline correction applied\n",
      "0 projection items activated\n",
      "Ready.\n"
     ]
    },
    {
     "name": "stderr",
     "output_type": "stream",
     "text": [
      "[Parallel(n_jobs=1)]: Using backend SequentialBackend with 1 concurrent workers.\n",
      "[Parallel(n_jobs=1)]: Done   1 out of   1 | elapsed:  1.0min remaining:    0.0s\n",
      "[Parallel(n_jobs=1)]: Done   1 out of   1 | elapsed:  1.0min finished\n"
     ]
    },
    {
     "name": "stdout",
     "output_type": "stream",
     "text": [
      "Not setting metadata\n",
      "{'done'}\n"
     ]
    },
    {
     "name": "stderr",
     "output_type": "stream",
     "text": [
      "/home/b1044271/anaconda3/envs/mne/lib/python3.10/site-packages/pymatreader/utils.py:122: UserWarning: Complex objects (like classes) are not supported. They are imported on a best effort base but your mileage will vary.\n",
      "  warn('Complex objects (like classes) are not supported. '\n"
     ]
    },
    {
     "name": "stdout",
     "output_type": "stream",
     "text": [
      "Extracting parameters from /home/b1044271/Columbia/Preprocessed/Stage_epoched/New_stage_trans/stims/Last/VP14_StimsR.set...\n"
     ]
    },
    {
     "name": "stderr",
     "output_type": "stream",
     "text": [
      "/tmp/ipykernel_297208/2555461352.py:13: RuntimeWarning: At least one epoch has multiple events. Only the latency of the first event will be retained.\n",
      "  EEG = mne.read_epochs_eeglab(os.path.join(Data_path, x))\n"
     ]
    },
    {
     "name": "stdout",
     "output_type": "stream",
     "text": [
      "Not setting metadata\n",
      "566 matching events found\n",
      "No baseline correction applied\n",
      "0 projection items activated\n",
      "Ready.\n"
     ]
    },
    {
     "name": "stderr",
     "output_type": "stream",
     "text": [
      "[Parallel(n_jobs=1)]: Using backend SequentialBackend with 1 concurrent workers.\n",
      "[Parallel(n_jobs=1)]: Done   1 out of   1 | elapsed:   13.2s remaining:    0.0s\n",
      "[Parallel(n_jobs=1)]: Done   1 out of   1 | elapsed:   13.2s finished\n"
     ]
    },
    {
     "name": "stdout",
     "output_type": "stream",
     "text": [
      "Not setting metadata\n",
      "{'done'}\n"
     ]
    },
    {
     "name": "stderr",
     "output_type": "stream",
     "text": [
      "/home/b1044271/anaconda3/envs/mne/lib/python3.10/site-packages/pymatreader/utils.py:122: UserWarning: Complex objects (like classes) are not supported. They are imported on a best effort base but your mileage will vary.\n",
      "  warn('Complex objects (like classes) are not supported. '\n"
     ]
    },
    {
     "name": "stdout",
     "output_type": "stream",
     "text": [
      "Extracting parameters from /home/b1044271/Columbia/Preprocessed/Stage_epoched/New_stage_trans/stims/Last/VP15_StimsN.set...\n"
     ]
    },
    {
     "name": "stderr",
     "output_type": "stream",
     "text": [
      "/tmp/ipykernel_297208/2555461352.py:13: RuntimeWarning: At least one epoch has multiple events. Only the latency of the first event will be retained.\n",
      "  EEG = mne.read_epochs_eeglab(os.path.join(Data_path, x))\n"
     ]
    },
    {
     "name": "stdout",
     "output_type": "stream",
     "text": [
      "Not setting metadata\n",
      "1931 matching events found\n",
      "No baseline correction applied\n",
      "0 projection items activated\n",
      "Ready.\n"
     ]
    },
    {
     "name": "stderr",
     "output_type": "stream",
     "text": [
      "[Parallel(n_jobs=1)]: Using backend SequentialBackend with 1 concurrent workers.\n",
      "[Parallel(n_jobs=1)]: Done   1 out of   1 | elapsed:   47.6s remaining:    0.0s\n",
      "[Parallel(n_jobs=1)]: Done   1 out of   1 | elapsed:   47.6s finished\n"
     ]
    },
    {
     "name": "stdout",
     "output_type": "stream",
     "text": [
      "Not setting metadata\n",
      "{'done'}\n"
     ]
    },
    {
     "name": "stderr",
     "output_type": "stream",
     "text": [
      "/home/b1044271/anaconda3/envs/mne/lib/python3.10/site-packages/pymatreader/utils.py:122: UserWarning: Complex objects (like classes) are not supported. They are imported on a best effort base but your mileage will vary.\n",
      "  warn('Complex objects (like classes) are not supported. '\n"
     ]
    },
    {
     "name": "stdout",
     "output_type": "stream",
     "text": [
      "Extracting parameters from /home/b1044271/Columbia/Preprocessed/Stage_epoched/New_stage_trans/stims/Last/VP15_StimsR.set...\n"
     ]
    },
    {
     "name": "stderr",
     "output_type": "stream",
     "text": [
      "/tmp/ipykernel_297208/2555461352.py:13: RuntimeWarning: At least one epoch has multiple events. Only the latency of the first event will be retained.\n",
      "  EEG = mne.read_epochs_eeglab(os.path.join(Data_path, x))\n"
     ]
    },
    {
     "name": "stdout",
     "output_type": "stream",
     "text": [
      "Not setting metadata\n",
      "1264 matching events found\n",
      "No baseline correction applied\n",
      "0 projection items activated\n",
      "Ready.\n"
     ]
    },
    {
     "name": "stderr",
     "output_type": "stream",
     "text": [
      "[Parallel(n_jobs=1)]: Using backend SequentialBackend with 1 concurrent workers.\n",
      "[Parallel(n_jobs=1)]: Done   1 out of   1 | elapsed:   30.0s remaining:    0.0s\n",
      "[Parallel(n_jobs=1)]: Done   1 out of   1 | elapsed:   30.0s finished\n"
     ]
    },
    {
     "name": "stdout",
     "output_type": "stream",
     "text": [
      "Not setting metadata\n",
      "{'done'}\n"
     ]
    },
    {
     "name": "stderr",
     "output_type": "stream",
     "text": [
      "/home/b1044271/anaconda3/envs/mne/lib/python3.10/site-packages/pymatreader/utils.py:122: UserWarning: Complex objects (like classes) are not supported. They are imported on a best effort base but your mileage will vary.\n",
      "  warn('Complex objects (like classes) are not supported. '\n"
     ]
    },
    {
     "name": "stdout",
     "output_type": "stream",
     "text": [
      "Extracting parameters from /home/b1044271/Columbia/Preprocessed/Stage_epoched/New_stage_trans/stims/Last/VP16_StimsN.set...\n"
     ]
    },
    {
     "name": "stderr",
     "output_type": "stream",
     "text": [
      "/tmp/ipykernel_297208/2555461352.py:13: RuntimeWarning: At least one epoch has multiple events. Only the latency of the first event will be retained.\n",
      "  EEG = mne.read_epochs_eeglab(os.path.join(Data_path, x))\n"
     ]
    },
    {
     "name": "stdout",
     "output_type": "stream",
     "text": [
      "Not setting metadata\n",
      "3307 matching events found\n",
      "No baseline correction applied\n",
      "0 projection items activated\n",
      "Ready.\n"
     ]
    },
    {
     "name": "stderr",
     "output_type": "stream",
     "text": [
      "[Parallel(n_jobs=1)]: Using backend SequentialBackend with 1 concurrent workers.\n",
      "[Parallel(n_jobs=1)]: Done   1 out of   1 | elapsed:  1.6min remaining:    0.0s\n",
      "[Parallel(n_jobs=1)]: Done   1 out of   1 | elapsed:  1.6min finished\n"
     ]
    },
    {
     "name": "stdout",
     "output_type": "stream",
     "text": [
      "Not setting metadata\n",
      "{'done'}\n"
     ]
    },
    {
     "name": "stderr",
     "output_type": "stream",
     "text": [
      "/home/b1044271/anaconda3/envs/mne/lib/python3.10/site-packages/pymatreader/utils.py:122: UserWarning: Complex objects (like classes) are not supported. They are imported on a best effort base but your mileage will vary.\n",
      "  warn('Complex objects (like classes) are not supported. '\n"
     ]
    },
    {
     "name": "stdout",
     "output_type": "stream",
     "text": [
      "Extracting parameters from /home/b1044271/Columbia/Preprocessed/Stage_epoched/New_stage_trans/stims/Last/VP16_StimsR.set...\n"
     ]
    },
    {
     "name": "stderr",
     "output_type": "stream",
     "text": [
      "/tmp/ipykernel_297208/2555461352.py:13: RuntimeWarning: At least one epoch has multiple events. Only the latency of the first event will be retained.\n",
      "  EEG = mne.read_epochs_eeglab(os.path.join(Data_path, x))\n"
     ]
    },
    {
     "name": "stdout",
     "output_type": "stream",
     "text": [
      "Not setting metadata\n",
      "440 matching events found\n",
      "No baseline correction applied\n",
      "0 projection items activated\n",
      "Ready.\n"
     ]
    },
    {
     "name": "stderr",
     "output_type": "stream",
     "text": [
      "[Parallel(n_jobs=1)]: Using backend SequentialBackend with 1 concurrent workers.\n"
     ]
    },
    {
     "name": "stdout",
     "output_type": "stream",
     "text": [
      "Not setting metadata\n"
     ]
    },
    {
     "name": "stderr",
     "output_type": "stream",
     "text": [
      "[Parallel(n_jobs=1)]: Done   1 out of   1 | elapsed:   10.4s remaining:    0.0s\n",
      "[Parallel(n_jobs=1)]: Done   1 out of   1 | elapsed:   10.4s finished\n"
     ]
    },
    {
     "name": "stdout",
     "output_type": "stream",
     "text": [
      "{'done'}\n"
     ]
    },
    {
     "name": "stderr",
     "output_type": "stream",
     "text": [
      "/home/b1044271/anaconda3/envs/mne/lib/python3.10/site-packages/pymatreader/utils.py:122: UserWarning: Complex objects (like classes) are not supported. They are imported on a best effort base but your mileage will vary.\n",
      "  warn('Complex objects (like classes) are not supported. '\n"
     ]
    },
    {
     "name": "stdout",
     "output_type": "stream",
     "text": [
      "Extracting parameters from /home/b1044271/Columbia/Preprocessed/Stage_epoched/New_stage_trans/stims/Last/VP18_StimsN.set...\n"
     ]
    },
    {
     "name": "stderr",
     "output_type": "stream",
     "text": [
      "/tmp/ipykernel_297208/2555461352.py:13: RuntimeWarning: At least one epoch has multiple events. Only the latency of the first event will be retained.\n",
      "  EEG = mne.read_epochs_eeglab(os.path.join(Data_path, x))\n"
     ]
    },
    {
     "name": "stdout",
     "output_type": "stream",
     "text": [
      "Not setting metadata\n",
      "2609 matching events found\n",
      "No baseline correction applied\n",
      "0 projection items activated\n",
      "Ready.\n"
     ]
    },
    {
     "name": "stderr",
     "output_type": "stream",
     "text": [
      "[Parallel(n_jobs=1)]: Using backend SequentialBackend with 1 concurrent workers.\n",
      "[Parallel(n_jobs=1)]: Done   1 out of   1 | elapsed:  1.0min remaining:    0.0s\n",
      "[Parallel(n_jobs=1)]: Done   1 out of   1 | elapsed:  1.0min finished\n"
     ]
    },
    {
     "name": "stdout",
     "output_type": "stream",
     "text": [
      "Not setting metadata\n",
      "{'done'}\n"
     ]
    },
    {
     "name": "stderr",
     "output_type": "stream",
     "text": [
      "/home/b1044271/anaconda3/envs/mne/lib/python3.10/site-packages/pymatreader/utils.py:122: UserWarning: Complex objects (like classes) are not supported. They are imported on a best effort base but your mileage will vary.\n",
      "  warn('Complex objects (like classes) are not supported. '\n"
     ]
    },
    {
     "name": "stdout",
     "output_type": "stream",
     "text": [
      "Extracting parameters from /home/b1044271/Columbia/Preprocessed/Stage_epoched/New_stage_trans/stims/Last/VP18_StimsR.set...\n"
     ]
    },
    {
     "name": "stderr",
     "output_type": "stream",
     "text": [
      "/tmp/ipykernel_297208/2555461352.py:13: RuntimeWarning: At least one epoch has multiple events. Only the latency of the first event will be retained.\n",
      "  EEG = mne.read_epochs_eeglab(os.path.join(Data_path, x))\n"
     ]
    },
    {
     "name": "stdout",
     "output_type": "stream",
     "text": [
      "Not setting metadata\n",
      "672 matching events found\n",
      "No baseline correction applied\n",
      "0 projection items activated\n",
      "Ready.\n"
     ]
    },
    {
     "name": "stderr",
     "output_type": "stream",
     "text": [
      "[Parallel(n_jobs=1)]: Using backend SequentialBackend with 1 concurrent workers.\n",
      "[Parallel(n_jobs=1)]: Done   1 out of   1 | elapsed:   15.4s remaining:    0.0s\n",
      "[Parallel(n_jobs=1)]: Done   1 out of   1 | elapsed:   15.4s finished\n"
     ]
    },
    {
     "name": "stdout",
     "output_type": "stream",
     "text": [
      "Not setting metadata\n",
      "{'done'}\n"
     ]
    },
    {
     "name": "stderr",
     "output_type": "stream",
     "text": [
      "/home/b1044271/anaconda3/envs/mne/lib/python3.10/site-packages/pymatreader/utils.py:122: UserWarning: Complex objects (like classes) are not supported. They are imported on a best effort base but your mileage will vary.\n",
      "  warn('Complex objects (like classes) are not supported. '\n"
     ]
    },
    {
     "name": "stdout",
     "output_type": "stream",
     "text": [
      "Extracting parameters from /home/b1044271/Columbia/Preprocessed/Stage_epoched/New_stage_trans/stims/Last/VP19_StimsN.set...\n"
     ]
    },
    {
     "name": "stderr",
     "output_type": "stream",
     "text": [
      "/tmp/ipykernel_297208/2555461352.py:13: RuntimeWarning: At least one epoch has multiple events. Only the latency of the first event will be retained.\n",
      "  EEG = mne.read_epochs_eeglab(os.path.join(Data_path, x))\n"
     ]
    },
    {
     "name": "stdout",
     "output_type": "stream",
     "text": [
      "Not setting metadata\n",
      "2180 matching events found\n",
      "No baseline correction applied\n",
      "0 projection items activated\n",
      "Ready.\n"
     ]
    },
    {
     "name": "stderr",
     "output_type": "stream",
     "text": [
      "[Parallel(n_jobs=1)]: Using backend SequentialBackend with 1 concurrent workers.\n",
      "[Parallel(n_jobs=1)]: Done   1 out of   1 | elapsed:   51.6s remaining:    0.0s\n",
      "[Parallel(n_jobs=1)]: Done   1 out of   1 | elapsed:   51.6s finished\n"
     ]
    },
    {
     "name": "stdout",
     "output_type": "stream",
     "text": [
      "Not setting metadata\n",
      "{'done'}\n"
     ]
    },
    {
     "name": "stderr",
     "output_type": "stream",
     "text": [
      "/home/b1044271/anaconda3/envs/mne/lib/python3.10/site-packages/pymatreader/utils.py:122: UserWarning: Complex objects (like classes) are not supported. They are imported on a best effort base but your mileage will vary.\n",
      "  warn('Complex objects (like classes) are not supported. '\n"
     ]
    },
    {
     "name": "stdout",
     "output_type": "stream",
     "text": [
      "Extracting parameters from /home/b1044271/Columbia/Preprocessed/Stage_epoched/New_stage_trans/stims/Last/VP19_StimsR.set...\n"
     ]
    },
    {
     "name": "stderr",
     "output_type": "stream",
     "text": [
      "/tmp/ipykernel_297208/2555461352.py:13: RuntimeWarning: At least one epoch has multiple events. Only the latency of the first event will be retained.\n",
      "  EEG = mne.read_epochs_eeglab(os.path.join(Data_path, x))\n"
     ]
    },
    {
     "name": "stdout",
     "output_type": "stream",
     "text": [
      "Not setting metadata\n",
      "321 matching events found\n",
      "No baseline correction applied\n",
      "0 projection items activated\n",
      "Ready.\n"
     ]
    },
    {
     "name": "stderr",
     "output_type": "stream",
     "text": [
      "[Parallel(n_jobs=1)]: Using backend SequentialBackend with 1 concurrent workers.\n"
     ]
    },
    {
     "name": "stdout",
     "output_type": "stream",
     "text": [
      "Not setting metadata\n",
      "{'done'}\n"
     ]
    },
    {
     "name": "stderr",
     "output_type": "stream",
     "text": [
      "[Parallel(n_jobs=1)]: Done   1 out of   1 | elapsed:    7.3s remaining:    0.0s\n",
      "[Parallel(n_jobs=1)]: Done   1 out of   1 | elapsed:    7.3s finished\n"
     ]
    }
   ],
   "source": [
    "electrode = 'E257'\n",
    "fs = 250\n",
    "\n",
    "# Settings for Welch's\n",
    "\n",
    "f_max=45\n",
    "\n",
    "# Settings for FOOOF\n",
    "SETTINGS_F1={'max_n_peaks':8, 'aperiodic_mode':'knee'}\n",
    "\n",
    "i = 0\n",
    "for x in subj_files:\n",
    "    EEG = mne.read_epochs_eeglab(os.path.join(Data_path, x))\n",
    "    EEG = EEG.pick(electrode, exclude=[]) # select Cz for further analysis\n",
    "\n",
    "    EEG_psd1 = tfr_multitaper(EEG, freqs=np.arange(1,45.5,0.5), n_cycles=np.arange(1,45.5,0.5), use_fft=True, return_itc=False,\n",
    "    average=False, decim=2)\n",
    "    \n",
    "    XX = np.transpose(np.mean(np.squeeze(EEG_psd1._data),0))\n",
    "    p_PSD[i,0:89] = XX[int(peak_idx[i]),:]\n",
    "    b_PSD[i,0:89] = XX[int(baseline)]\n",
    "    XX=[]\n",
    "    print({'done'})\n",
    "    i=i+1"
   ]
  },
  {
   "cell_type": "code",
   "execution_count": 26,
   "id": "135d01f0",
   "metadata": {},
   "outputs": [
    {
     "data": {
      "image/png": "[encoded data removed]",
      "text/plain": [
       "<Figure size 640x480 with 1 Axes>"
      ]
     },
     "metadata": {},
     "output_type": "display_data"
    }
   ],
   "source": [
    "from scipy.interpolate import make_interp_spline, BSpline\n",
    "\n",
    "PSD_Ps = stats.sem(p_PSD,0, nan_policy = 'omit')\n",
    "PSD_Pm = np.nanmean(p_PSD,axis=0)\n",
    "\n",
    "PSD_Bs = stats.sem(b_PSD,0, nan_policy = 'omit')\n",
    "PSD_Bm = np.nanmean(b_PSD,axis=0)\n",
    "\n",
    "\n",
    "# SMOOTHING\n",
    "\n",
    "xnew = np.linspace(EEG_psd1.freqs[0],EEG_psd1.freqs[-1],1000)\n",
    "\n",
    "# y values\n",
    "spl = make_interp_spline(EEG_psd1.freqs, PSD_Pm, k=3) #BSpline object\n",
    "s_counts1=spl(xnew)\n",
    "#standard error\n",
    "s1 = make_interp_spline(EEG_psd1.freqs, PSD_Ps, k=3) #BSpline object\n",
    "s_sem1=s1(xnew)\n",
    "\n",
    "# y values\n",
    "spl = make_interp_spline(EEG_psd1.freqs, PSD_Bm, k=3) #BSpline object\n",
    "s_counts2=spl(xnew)\n",
    "#standard error\n",
    "s2 = make_interp_spline(EEG_psd1.freqs, PSD_Bs, k=3) #BSpline object\n",
    "s_sem2=s2(xnew)\n",
    "plt.plot(xnew, s_counts1, 'k-', label='peak',linewidth=4)\n",
    "plt.fill_between(xnew, s_counts1-s_sem1, s_counts1+s_sem1,facecolor='k', alpha=0.25)\n",
    "\n",
    "plt.plot(xnew, s_counts2, 'grey', label='baseline',linewidth=4)\n",
    "plt.fill_between(xnew, s_counts2-s_sem2, s_counts2+s_sem2,facecolor='deepskyblue', alpha=0.25)\n",
    "\n",
    "\n",
    "\n",
    "\n",
    "#plt.plot(EEG_psd1.freqs,PSD_Pm, color = seaborn.color_palette(\"colorblind\")[0], label='peak', linewidth = 3)\n",
    "#plt.fill_between(EEG_psd1.freqs,PSD_Pm-PSD_Ps, PSD_Pm+PSD_Ps,facecolor=seaborn.color_palette(\"colorblind\")[0], alpha=0.25)\n",
    "\n",
    "#plt.plot(EEG_psd1.freqs,PSD_Bm, color = seaborn.color_palette(\"colorblind\")[1], label='baseline', linewidth = 3)\n",
    "#plt.fill_between(EEG_psd1.freqs,PSD_Bm-PSD_Bs, PSD_Bm+PSD_Bs,facecolor=seaborn.color_palette(\"colorblind\")[0], alpha=0.25)\n",
    "\n",
    "plt.ylabel('log(power)', fontsize=18)\n",
    "plt.title('auditory response', fontsize = 24)\n",
    "plt.xlabel('log(frequency)', fontsize=18)\n",
    "plt.xticks(fontsize=18)\n",
    "plt.yticks(fontsize=18)\n",
    "plt.xlim(EEG_psd1.freqs[0], EEG_psd1.freqs[-1])\n",
    "plt.legend(fontsize=20)\n",
    "plt.yscale('log')\n",
    "plt.xscale('log')\n",
    "ax=plt.gca()\n",
    "ax.spines['top'].set_visible(False)\n",
    "ax.spines['right'].set_visible(False)\n",
    "ax.tick_params(axis='both', which='both', direction='in', width=1.5, labelsize=16)  # Customize tick properties\n",
    "ax.spines['bottom'].set_linewidth(1.75)\n",
    "ax.spines['left'].set_linewidth(1.75)\n",
    "\n",
    "#plt.savefig(\"/home/b1044271/Columbia/Plots/NOV23/TR_Stims_all.svg\", dpi = 600)"
   ]
  },
  {
   "cell_type": "code",
   "execution_count": 23,
   "id": "49f1317a",
   "metadata": {},
   "outputs": [
    {
     "data": {
      "text/plain": [
       "array([5.07226192e-08, 4.73386268e-08, 4.44479660e-08, 4.20156811e-08,\n",
       "       4.00068163e-08, 3.83864159e-08, 3.71195243e-08, 3.61711856e-08,\n",
       "       3.55064442e-08, 3.50903443e-08, 3.48879302e-08, 3.48642462e-08,\n",
       "       3.49843365e-08, 3.52132456e-08, 3.55160175e-08, 3.58576966e-08,\n",
       "       3.62033272e-08, 3.65179536e-08, 3.67666200e-08, 3.69143707e-08,\n",
       "       3.69262499e-08, 3.67673021e-08, 3.64025714e-08, 3.57974049e-08,\n",
       "       3.49414635e-08, 3.38661308e-08, 3.26068963e-08, 3.11992494e-08,\n",
       "       2.96786799e-08, 2.80806771e-08, 2.64407307e-08, 2.47943303e-08,\n",
       "       2.31769653e-08, 2.16241253e-08, 2.01712999e-08, 1.88476266e-08,\n",
       "       1.76521033e-08, 1.65747978e-08, 1.56057763e-08, 1.47351055e-08,\n",
       "       1.39528515e-08, 1.32490809e-08, 1.26138599e-08, 1.20372551e-08,\n",
       "       1.15093327e-08, 1.10201592e-08, 1.05601169e-08, 1.01244902e-08,\n",
       "       9.71242851e-09, 9.32318593e-09, 8.95601665e-09, 8.61017483e-09,\n",
       "       8.28491466e-09, 7.97949030e-09, 7.69315592e-09, 7.42516569e-09,\n",
       "       7.17477378e-09, 6.94123288e-09, 6.72359410e-09, 6.52050467e-09,\n",
       "       6.33056360e-09, 6.15236991e-09, 5.98452263e-09, 5.82562077e-09,\n",
       "       5.67426337e-09, 5.52904943e-09, 5.38857798e-09, 5.25144804e-09,\n",
       "       5.11625863e-09, 4.98183702e-09, 4.84829756e-09, 4.71620537e-09,\n",
       "       4.58612605e-09, 4.45862519e-09, 4.33426838e-09, 4.21362122e-09,\n",
       "       4.09724930e-09, 3.98571823e-09, 3.87959359e-09, 3.77944097e-09,\n",
       "       3.68579403e-09, 3.59855690e-09, 3.51705784e-09, 3.44060390e-09,\n",
       "       3.36850209e-09, 3.30005947e-09, 3.23458306e-09, 3.17137991e-09,\n",
       "       3.10975705e-09, 3.04902151e-09, 2.98848034e-09, 2.92744171e-09,\n",
       "       2.86552018e-09, 2.80304987e-09, 2.74046806e-09, 2.67821203e-09,\n",
       "       2.61671906e-09, 2.55642643e-09, 2.49777143e-09, 2.44119134e-09,\n",
       "       2.38712344e-09, 2.33600500e-09, 2.28827332e-09, 2.24427838e-09,\n",
       "       2.20378296e-09, 2.16630764e-09, 2.13137230e-09, 2.09849678e-09,\n",
       "       2.06720092e-09, 2.03700459e-09, 2.00742764e-09, 1.97798991e-09,\n",
       "       1.94821126e-09, 1.91761154e-09, 1.88572596e-09, 1.85248391e-09,\n",
       "       1.81823298e-09, 1.78334096e-09, 1.74817566e-09, 1.71310485e-09,\n",
       "       1.67849634e-09, 1.64471792e-09, 1.61213737e-09, 1.58112250e-09,\n",
       "       1.55204109e-09, 1.52526071e-09, 1.50098256e-09, 1.47894825e-09,\n",
       "       1.45882068e-09, 1.44026277e-09, 1.42293740e-09, 1.40650749e-09,\n",
       "       1.39063593e-09, 1.37498564e-09, 1.35921951e-09, 1.34300045e-09,\n",
       "       1.32599136e-09, 1.30790164e-09, 1.28881606e-09, 1.26900093e-09,\n",
       "       1.24872373e-09, 1.22825195e-09, 1.20785309e-09, 1.18779463e-09,\n",
       "       1.16834406e-09, 1.14976886e-09, 1.13233653e-09, 1.11631456e-09,\n",
       "       1.10196369e-09, 1.08931144e-09, 1.07809827e-09, 1.06804694e-09,\n",
       "       1.05888022e-09, 1.05032087e-09, 1.04209168e-09, 1.03391540e-09,\n",
       "       1.02551481e-09, 1.01661267e-09, 1.00693175e-09, 9.96194856e-10,\n",
       "       9.84227767e-10, 9.71192351e-10, 9.57318918e-10, 9.42837774e-10,\n",
       "       9.27979228e-10, 9.12973587e-10, 8.98051159e-10, 8.83442252e-10,\n",
       "       8.69377174e-10, 8.56086233e-10, 8.43799737e-10, 8.32721291e-10,\n",
       "       8.22793646e-10, 8.13812145e-10, 8.05570463e-10, 7.97862273e-10,\n",
       "       7.90481249e-10, 7.83221066e-10, 7.75875397e-10, 7.68237917e-10,\n",
       "       7.60102300e-10, 7.51262219e-10, 7.41514590e-10, 7.30814309e-10,\n",
       "       7.19342172e-10, 7.07296349e-10, 6.94875010e-10, 6.82276324e-10,\n",
       "       6.69698462e-10, 6.57339594e-10, 6.45397888e-10, 6.34071515e-10,\n",
       "       6.23558646e-10, 6.14057449e-10, 6.05701248e-10, 5.98372675e-10,\n",
       "       5.91893788e-10, 5.86086646e-10, 5.80773308e-10, 5.75775833e-10,\n",
       "       5.70916280e-10, 5.66016707e-10, 5.60899174e-10, 5.55385739e-10,\n",
       "       5.49298461e-10, 5.42475648e-10, 5.34949804e-10, 5.26881273e-10,\n",
       "       5.18432651e-10, 5.09766533e-10, 5.01045514e-10, 4.92432189e-10,\n",
       "       4.84089153e-10, 4.76179000e-10, 4.68864326e-10, 4.62307726e-10,\n",
       "       4.56670335e-10, 4.52006422e-10, 4.48192401e-10, 4.45087868e-10,\n",
       "       4.42552417e-10, 4.40445643e-10, 4.38627141e-10, 4.36956506e-10,\n",
       "       4.35293332e-10, 4.33497215e-10, 4.31427750e-10, 4.28944531e-10,\n",
       "       4.25946367e-10, 4.22511875e-10, 4.18771171e-10, 4.14854377e-10,\n",
       "       4.10891615e-10, 4.07013007e-10, 4.03348676e-10, 4.00028742e-10,\n",
       "       3.97183328e-10, 3.94942556e-10, 3.93436548e-10, 3.92785842e-10,\n",
       "       3.92968862e-10, 3.93855287e-10, 3.95312034e-10, 3.97206019e-10,\n",
       "       3.99404162e-10, 4.01773379e-10, 4.04180588e-10, 4.06492706e-10,\n",
       "       4.08576651e-10, 4.10299340e-10, 4.11528311e-10, 4.12206102e-10,\n",
       "       4.12420918e-10, 4.12277696e-10, 4.11881375e-10, 4.11336896e-10,\n",
       "       4.10749195e-10, 4.10223214e-10, 4.09863889e-10, 4.09776162e-10,\n",
       "       4.10064969e-10, 4.10835251e-10, 4.12165553e-10, 4.13990666e-10,\n",
       "       4.16196681e-10, 4.18669650e-10, 4.21295623e-10, 4.23960652e-10,\n",
       "       4.26550789e-10, 4.28952084e-10, 4.31050589e-10, 4.32732355e-10,\n",
       "       4.33883434e-10, 4.34395633e-10, 4.34268672e-10, 4.33598108e-10,\n",
       "       4.32482832e-10, 4.31021732e-10, 4.29313698e-10, 4.27457618e-10,\n",
       "       4.25552383e-10, 4.23696881e-10, 4.21990002e-10, 4.20530635e-10,\n",
       "       4.19417442e-10, 4.18696258e-10, 4.18292782e-10, 4.18116100e-10,\n",
       "       4.18075296e-10, 4.18079455e-10, 4.18037662e-10, 4.17859000e-10,\n",
       "       4.17452556e-10, 4.16727414e-10, 4.15592658e-10, 4.13957373e-10,\n",
       "       4.11747037e-10, 4.08993537e-10, 4.05771248e-10, 4.02154653e-10,\n",
       "       3.98218236e-10, 3.94036481e-10, 3.89683872e-10, 3.85234892e-10,\n",
       "       3.80764025e-10, 3.76345756e-10, 3.72054568e-10, 3.67962265e-10,\n",
       "       3.64075590e-10, 3.60334268e-10, 3.56674952e-10, 3.53034295e-10,\n",
       "       3.49348951e-10, 3.45555573e-10, 3.41590813e-10, 3.37391326e-10,\n",
       "       3.32893763e-10, 3.28034780e-10, 3.22751089e-10, 3.17014802e-10,\n",
       "       3.10892659e-10, 3.04467047e-10, 2.97820354e-10, 2.91034967e-10,\n",
       "       2.84193271e-10, 2.77377655e-10, 2.70670505e-10, 2.64154208e-10,\n",
       "       2.57911150e-10, 2.52023720e-10, 2.46562296e-10, 2.41503843e-10,\n",
       "       2.36781552e-10, 2.32328362e-10, 2.28077215e-10, 2.23961051e-10,\n",
       "       2.19912810e-10, 2.15865432e-10, 2.11751859e-10, 2.07505030e-10,\n",
       "       2.03057886e-10, 1.98345245e-10, 1.93362850e-10, 1.88179251e-10,\n",
       "       1.82867272e-10, 1.77499738e-10, 1.72149473e-10, 1.66889304e-10,\n",
       "       1.61792055e-10, 1.56930550e-10, 1.52377614e-10, 1.48206073e-10,\n",
       "       1.44488740e-10, 1.41268712e-10, 1.38495329e-10, 1.36099479e-10,\n",
       "       1.34012055e-10, 1.32163945e-10, 1.30486040e-10, 1.28909230e-10,\n",
       "       1.27364405e-10, 1.25782456e-10, 1.24094272e-10, 1.22230745e-10,\n",
       "       1.20130846e-10, 1.17809498e-10, 1.15323238e-10, 1.12729028e-10,\n",
       "       1.10083830e-10, 1.07444606e-10, 1.04868319e-10, 1.02411931e-10,\n",
       "       1.00132405e-10, 9.80867018e-11, 9.63317848e-11, 9.49235967e-11,\n",
       "       9.38719063e-11, 9.31224123e-11, 9.26160939e-11, 9.22939307e-11,\n",
       "       9.20969019e-11, 9.19659869e-11, 9.18421651e-11, 9.16664158e-11,\n",
       "       9.13797183e-11, 9.09230521e-11, 9.02373967e-11, 8.92836574e-11,\n",
       "       8.80971917e-11, 8.67307433e-11, 8.52370559e-11, 8.36688731e-11,\n",
       "       8.20789385e-11, 8.05199957e-11, 7.90447884e-11, 7.77060602e-11,\n",
       "       7.65565547e-11, 7.56490156e-11, 7.50309376e-11, 7.46896274e-11,\n",
       "       7.45739518e-11, 7.46321544e-11, 7.48124789e-11, 7.50631688e-11,\n",
       "       7.53324676e-11, 7.55686190e-11, 7.57198664e-11, 7.57344536e-11,\n",
       "       7.55606240e-11, 7.51471586e-11, 7.44789048e-11, 7.35989263e-11,\n",
       "       7.25555753e-11, 7.13972039e-11, 7.01721642e-11, 6.89288086e-11,\n",
       "       6.77154890e-11, 6.65805578e-11, 6.55723670e-11, 6.47392688e-11,\n",
       "       6.41296154e-11, 6.37775803e-11, 6.36545104e-11, 6.37143569e-11,\n",
       "       6.39110706e-11, 6.41986019e-11, 6.45309016e-11, 6.48619202e-11,\n",
       "       6.51456084e-11, 6.53359168e-11, 6.53867961e-11, 6.52521969e-11,\n",
       "       6.48895258e-11, 6.43052091e-11, 6.35420767e-11, 6.26438215e-11,\n",
       "       6.16541359e-11, 6.06167128e-11, 5.95752447e-11, 5.85734244e-11,\n",
       "       5.76549445e-11, 5.68634977e-11, 5.62427767e-11, 5.58362215e-11,\n",
       "       5.56598885e-11, 5.56782813e-11, 5.58502022e-11, 5.61344533e-11,\n",
       "       5.64898366e-11, 5.68751542e-11, 5.72492083e-11, 5.75708009e-11,\n",
       "       5.77987343e-11, 5.78918104e-11, 5.78088315e-11, 5.75184383e-11,\n",
       "       5.70410342e-11, 5.64139844e-11, 5.56746640e-11, 5.48604481e-11,\n",
       "       5.40087120e-11, 5.31568307e-11, 5.23421794e-11, 5.16021332e-11,\n",
       "       5.09740673e-11, 5.04953568e-11, 5.02013125e-11, 5.00903851e-11,\n",
       "       5.01292470e-11, 5.02835299e-11, 5.05188655e-11, 5.08008855e-11,\n",
       "       5.10952215e-11, 5.13675054e-11, 5.15833687e-11, 5.17084431e-11,\n",
       "       5.17083604e-11, 5.15488479e-11, 5.12147947e-11, 5.07333012e-11,\n",
       "       5.01370964e-11, 4.94589094e-11, 4.87314691e-11, 4.79875047e-11,\n",
       "       4.72597451e-11, 4.65809194e-11, 4.59837566e-11, 4.55009858e-11,\n",
       "       4.51653359e-11, 4.50028194e-11, 4.49973664e-11, 4.51166434e-11,\n",
       "       4.53282824e-11, 4.55999150e-11, 4.58991729e-11, 4.61936880e-11,\n",
       "       4.64510919e-11, 4.66390164e-11, 4.67250933e-11, 4.66769543e-11,\n",
       "       4.64635731e-11, 4.60847890e-11, 4.55713066e-11, 4.49551726e-11,\n",
       "       4.42684337e-11, 4.35431365e-11, 4.28113278e-11, 4.21050542e-11,\n",
       "       4.14563623e-11, 4.08972989e-11, 4.04599107e-11, 4.01762100e-11,\n",
       "       4.00623006e-11, 4.00931217e-11, 4.02370420e-11, 4.04624304e-11,\n",
       "       4.07376558e-11, 4.10310869e-11, 4.13110928e-11, 4.15460421e-11,\n",
       "       4.17043039e-11, 4.17542469e-11, 4.16642400e-11, 4.14079054e-11,\n",
       "       4.09982628e-11, 4.04662158e-11, 3.98427577e-11, 3.91588817e-11,\n",
       "       3.84455807e-11, 3.77338480e-11, 3.70546767e-11, 3.64390599e-11,\n",
       "       3.59179908e-11, 3.55224625e-11, 3.52825894e-11, 3.52016575e-11,\n",
       "       3.52518340e-11, 3.54035432e-11, 3.56272091e-11, 3.58932563e-11,\n",
       "       3.61721089e-11, 3.64341912e-11, 3.66499274e-11, 3.67897420e-11,\n",
       "       3.68240590e-11, 3.67233102e-11, 3.64703732e-11, 3.60861077e-11,\n",
       "       3.55985929e-11, 3.50359077e-11, 3.44261312e-11, 3.37973426e-11,\n",
       "       3.31776209e-11, 3.25950452e-11, 3.20776946e-11, 3.16536481e-11,\n",
       "       3.13509848e-11, 3.11941163e-11, 3.11742942e-11, 3.12651559e-11,\n",
       "       3.14401763e-11, 3.16728306e-11, 3.19365936e-11, 3.22049403e-11,\n",
       "       3.24513458e-11, 3.26492850e-11, 3.27722329e-11, 3.27936646e-11,\n",
       "       3.26875510e-11, 3.24488009e-11, 3.21005161e-11, 3.16677864e-11,\n",
       "       3.11757012e-11, 3.06493503e-11, 3.01138233e-11, 2.95942099e-11,\n",
       "       2.91155996e-11, 2.87030822e-11, 2.83817473e-11, 2.81766841e-11,\n",
       "       2.81038789e-11, 2.81464408e-11, 2.82800595e-11, 2.84804243e-11,\n",
       "       2.87232247e-11, 2.89841504e-11, 2.92388908e-11, 2.94631354e-11,\n",
       "       2.96325737e-11, 2.97228952e-11, 2.97097895e-11, 2.95714746e-11,\n",
       "       2.93140033e-11, 2.89606729e-11, 2.85350374e-11, 2.80606511e-11,\n",
       "       2.75610679e-11, 2.70598422e-11, 2.65805278e-11, 2.61466791e-11,\n",
       "       2.57818502e-11, 2.55095950e-11, 2.53531911e-11, 2.53188473e-11,\n",
       "       2.53860475e-11, 2.55319445e-11, 2.57336916e-11, 2.59684418e-11,\n",
       "       2.62133482e-11, 2.64455637e-11, 2.66422415e-11, 2.67805345e-11,\n",
       "       2.68375960e-11, 2.67905789e-11, 2.66236222e-11, 2.63507813e-11,\n",
       "       2.59941179e-11, 2.55756937e-11, 2.51175705e-11, 2.46418103e-11,\n",
       "       2.41704747e-11, 2.37256256e-11, 2.33293249e-11, 2.30036342e-11,\n",
       "       2.27706155e-11, 2.26505577e-11, 2.26396816e-11, 2.27168627e-11,\n",
       "       2.28605935e-11, 2.30493665e-11, 2.32616740e-11, 2.34760087e-11,\n",
       "       2.36708629e-11, 2.38247292e-11, 2.39161001e-11, 2.39234679e-11,\n",
       "       2.38254690e-11, 2.36147717e-11, 2.33096545e-11, 2.29311218e-11,\n",
       "       2.25001776e-11, 2.20378260e-11, 2.15650713e-11, 2.11029177e-11,\n",
       "       2.06723691e-11, 2.02944299e-11, 1.99901041e-11, 1.97803959e-11,\n",
       "       1.96809632e-11, 1.96802909e-11, 1.97582526e-11, 1.98947185e-11,\n",
       "       2.00695586e-11, 2.02626431e-11, 2.04538420e-11, 2.06230256e-11,\n",
       "       2.07500639e-11, 2.08148270e-11, 2.07971851e-11, 2.06782134e-11,\n",
       "       2.04595062e-11, 2.01598285e-11, 1.97984747e-11, 1.93947392e-11,\n",
       "       1.89679162e-11, 1.85373000e-11, 1.81221851e-11, 1.77418656e-11,\n",
       "       1.74156359e-11, 1.71627903e-11, 1.70025597e-11, 1.69431024e-11,\n",
       "       1.69689464e-11, 1.70615822e-11, 1.72025007e-11, 1.73731923e-11,\n",
       "       1.75551478e-11, 1.77298578e-11, 1.78788131e-11, 1.79835041e-11,\n",
       "       1.80254217e-11, 1.79860565e-11, 1.78508354e-11, 1.76289941e-11,\n",
       "       1.73386732e-11, 1.69980289e-11, 1.66252175e-11, 1.62383952e-11,\n",
       "       1.58557183e-11, 1.54953428e-11, 1.51754251e-11, 1.49141214e-11,\n",
       "       1.47295880e-11, 1.46391777e-11, 1.46427199e-11, 1.47230316e-11,\n",
       "       1.48622292e-11, 1.50424291e-11, 1.52457476e-11, 1.54543011e-11,\n",
       "       1.56502059e-11, 1.58155785e-11, 1.59325351e-11, 1.59831922e-11,\n",
       "       1.59496897e-11, 1.58232346e-11, 1.56177442e-11, 1.53506343e-11,\n",
       "       1.50393208e-11, 1.47012193e-11, 1.43537458e-11, 1.40143159e-11,\n",
       "       1.37003454e-11, 1.34292502e-11, 1.32184459e-11, 1.30853485e-11,\n",
       "       1.30443621e-11, 1.30881146e-11, 1.31996588e-11, 1.33620061e-11,\n",
       "       1.35581679e-11, 1.37711556e-11, 1.39839806e-11, 1.41796543e-11,\n",
       "       1.43411882e-11, 1.44515937e-11, 1.44938820e-11, 1.44515875e-11,\n",
       "       1.43232823e-11, 1.41244712e-11, 1.38715621e-11, 1.35809630e-11,\n",
       "       1.32690820e-11, 1.29523271e-11, 1.26471062e-11, 1.23698274e-11,\n",
       "       1.21368986e-11, 1.19647279e-11, 1.18697175e-11, 1.18610951e-11,\n",
       "       1.19269110e-11, 1.20513273e-11, 1.22185062e-11, 1.24126098e-11,\n",
       "       1.26178003e-11, 1.28182397e-11, 1.29980901e-11, 1.31415138e-11,\n",
       "       1.32326728e-11, 1.32557293e-11, 1.31970309e-11, 1.30619472e-11,\n",
       "       1.28656424e-11, 1.26233613e-11, 1.23503489e-11, 1.20618502e-11,\n",
       "       1.17731102e-11, 1.14993738e-11, 1.12558860e-11, 1.10578917e-11,\n",
       "       1.09206359e-11, 1.08590484e-11, 1.08756420e-11, 1.09567022e-11,\n",
       "       1.10874205e-11, 1.12529882e-11, 1.14385967e-11, 1.16294374e-11,\n",
       "       1.18107016e-11, 1.19675807e-11, 1.20852661e-11, 1.21489491e-11,\n",
       "       1.21438217e-11, 1.20606273e-11, 1.19094920e-11, 1.17047689e-11,\n",
       "       1.14608109e-11, 1.11919713e-11, 1.09126031e-11, 1.06370594e-11,\n",
       "       1.03796933e-11, 1.01548580e-11, 9.97690642e-12, 9.86019175e-12,\n",
       "       9.81750572e-12, 9.84513077e-12, 9.92942913e-12, 1.00566276e-11,\n",
       "       1.02129531e-11, 1.03846323e-11, 1.05578922e-11, 1.07189596e-11,\n",
       "       1.08540613e-11, 1.09494240e-11, 1.09912748e-11, 1.09660204e-11,\n",
       "       1.08703098e-11, 1.07163490e-11, 1.05176456e-11, 1.02877076e-11,\n",
       "       1.00400427e-11, 9.78815871e-12, 9.54556339e-12, 9.32576454e-12,\n",
       "       9.14226997e-12, 9.00858745e-12, 8.93822478e-12, 8.94036514e-12,\n",
       "       9.00629328e-12, 9.12266424e-12, 9.27613302e-12, 9.45335463e-12,\n",
       "       9.64098409e-12, 9.82567641e-12, 9.99408660e-12, 1.01328697e-11,\n",
       "       1.02286807e-11, 1.02681745e-11, 1.02391391e-11, 1.01440918e-11,\n",
       "       9.99585074e-12, 9.80744546e-12, 9.59190550e-12, 9.36226039e-12,\n",
       "       9.13153966e-12, 8.91277285e-12, 8.71898948e-12, 8.56321910e-12,\n",
       "       8.45849124e-12, 8.41773718e-12, 8.44520928e-12, 8.52980151e-12,\n",
       "       8.65883575e-12, 8.81963386e-12, 8.99951772e-12, 9.18580920e-12,\n",
       "       9.36583017e-12, 9.52690250e-12, 9.65634805e-12, 9.74148870e-12,\n",
       "       9.76964631e-12, 9.73149735e-12, 9.63419117e-12, 9.48992525e-12,\n",
       "       9.31089835e-12, 9.10930927e-12, 8.89735680e-12, 8.68723971e-12,\n",
       "       8.49115678e-12, 8.32130681e-12, 8.18988857e-12, 8.10910085e-12,\n",
       "       8.09036018e-12, 8.13237499e-12, 8.22353090e-12, 8.35191486e-12,\n",
       "       8.50561378e-12, 8.67271462e-12, 8.84130431e-12, 8.99946977e-12,\n",
       "       9.13529795e-12, 9.23687578e-12, 9.29229019e-12, 9.28967448e-12,\n",
       "       9.22427743e-12, 9.10606133e-12, 8.94681083e-12, 8.75831059e-12,\n",
       "       8.55234525e-12, 8.34069947e-12, 8.13515789e-12, 7.94750518e-12,\n",
       "       7.78952598e-12, 7.67300495e-12, 7.60972674e-12, 7.60886207e-12,\n",
       "       7.66431734e-12, 7.76447388e-12, 7.89770539e-12, 8.05238560e-12,\n",
       "       8.21688823e-12, 8.37958698e-12, 8.52885556e-12, 8.65306771e-12,\n",
       "       8.74059712e-12, 8.77981752e-12, 8.75965100e-12, 8.68038168e-12,\n",
       "       8.55300160e-12, 8.38892019e-12, 8.19954688e-12, 7.99629110e-12,\n",
       "       7.79056228e-12, 7.59376984e-12, 7.41732322e-12, 7.27263185e-12,\n",
       "       7.17110515e-12, 7.12413399e-12, 7.13717236e-12, 7.20127686e-12,\n",
       "       7.30536408e-12, 7.43835061e-12, 7.58915307e-12, 7.74668804e-12,\n",
       "       7.89987212e-12, 8.03762191e-12, 8.14885401e-12, 8.22248501e-12,\n",
       "       8.24743151e-12, 8.21460644e-12, 8.12884502e-12, 8.00091122e-12,\n",
       "       7.84159093e-12, 7.66167002e-12, 7.47193436e-12, 7.28316984e-12,\n",
       "       7.10616234e-12, 6.95169773e-12, 6.83056190e-12, 6.75354072e-12,\n",
       "       6.73105927e-12, 6.76374797e-12, 6.84153127e-12, 6.95379011e-12,\n",
       "       7.08990545e-12, 7.23925822e-12, 7.39122938e-12, 7.53519986e-12,\n",
       "       7.66055061e-12, 7.75666258e-12, 7.81291670e-12, 7.81869914e-12,\n",
       "       7.76827281e-12, 7.66982595e-12, 7.53401618e-12, 7.37150111e-12,\n",
       "       7.19293837e-12, 7.00898557e-12, 6.83030033e-12, 6.66754026e-12,\n",
       "       6.53136299e-12, 6.43242612e-12, 6.38138728e-12, 6.38732887e-12,\n",
       "       6.44613069e-12, 6.54708396e-12, 6.67943141e-12, 6.83241575e-12,\n",
       "       6.99527970e-12, 7.15726598e-12, 7.30761731e-12, 7.43557641e-12,\n",
       "       7.53038599e-12, 7.58128878e-12, 7.57777023e-12, 7.51826488e-12,\n",
       "       7.41255780e-12, 7.27116566e-12, 7.10460513e-12, 6.92339285e-12,\n",
       "       6.73804549e-12, 6.55907971e-12, 6.39701217e-12, 6.26235954e-12,\n",
       "       6.16563846e-12, 6.11736500e-12, 6.12412285e-12, 6.17922377e-12,\n",
       "       6.27318244e-12, 6.39651354e-12, 6.53973174e-12, 6.69335170e-12,\n",
       "       6.84788809e-12, 6.99385560e-12, 7.12176890e-12, 7.22214264e-12,\n",
       "       7.28549152e-12, 7.30323215e-12, 7.27594610e-12, 7.20955581e-12,\n",
       "       7.11005024e-12, 6.98341834e-12, 6.83564907e-12, 6.67273138e-12,\n",
       "       6.50065422e-12, 6.32540655e-12, 6.15297733e-12, 5.98935550e-12,\n",
       "       5.84053003e-12, 5.71248987e-12, 5.61122398e-12, 5.54272130e-12,\n",
       "       5.51297080e-12, 5.52796142e-12, 5.59368213e-12, 5.71612188e-12,\n",
       "       5.90126962e-12, 6.15511431e-12, 6.48364490e-12, 6.89285035e-12])"
      ]
     },
     "execution_count": 23,
     "metadata": {},
     "output_type": "execute_result"
    }
   ],
   "source": [
    "s_counts1"
   ]
  },
  {
   "cell_type": "code",
   "execution_count": null,
   "id": "a77a3f3c",
   "metadata": {},
   "outputs": [],
   "source": []
  },
  {
   "cell_type": "code",
   "execution_count": null,
   "id": "36f87935",
   "metadata": {},
   "outputs": [],
   "source": []
  }
 ],
 "metadata": {
  "kernelspec": {
   "display_name": "Python [conda env:mne]",
   "language": "python",
   "name": "conda-env-mne-py"
  },
  "language_info": {
   "codemirror_mode": {
    "name": "ipython",
    "version": 3
   },
   "file_extension": ".py",
   "mimetype": "text/x-python",
   "name": "python",
   "nbconvert_exporter": "python",
   "pygments_lexer": "ipython3",
   "version": "3.10.6"
  }
 },
 "nbformat": 4,
 "nbformat_minor": 5
}
