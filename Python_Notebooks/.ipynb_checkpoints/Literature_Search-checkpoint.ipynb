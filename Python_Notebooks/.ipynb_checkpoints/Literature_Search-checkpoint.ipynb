{
 "cells": [
  {
   "cell_type": "code",
   "execution_count": 100,
   "id": "4c7c1dd7",
   "metadata": {},
   "outputs": [],
   "source": [
    "import numpy as np\n",
    "import matplotlib.pyplot as plt\n",
    "\n",
    "import seaborn as sns\n",
    "sns.set_context('talk')\n",
    "\n",
    "# Import LISC code\n",
    "from lisc import Counts\n",
    "from lisc.utils import save_object, load_object\n",
    "from lisc.plts.counts import plot_matrix\n",
    "from lisc.plts.utils import get_cmap\n"
   ]
  },
  {
   "cell_type": "markdown",
   "id": "d12e3504",
   "metadata": {},
   "source": [
    "# Settings"
   ]
  },
  {
   "cell_type": "code",
   "execution_count": 130,
   "id": "be7cf3e7",
   "metadata": {},
   "outputs": [],
   "source": [
    "# Initialize counts object\n",
    "counts = Counts()\n",
    "counts2 = Counts()\n",
    "\n",
    "# Settings for literature collection\n",
    "db = 'pubmed'"
   ]
  },
  {
   "cell_type": "code",
   "execution_count": null,
   "id": "89ab6e07",
   "metadata": {},
   "outputs": [],
   "source": []
  },
  {
   "cell_type": "code",
   "execution_count": 140,
   "id": "f9306726",
   "metadata": {},
   "outputs": [
    {
     "name": "stdout",
     "output_type": "stream",
     "text": [
      "The number of documents found for each search term is:\n",
      "  'brain'   -   3816\n",
      "  'sleep'   -    813\n"
     ]
    }
   ],
   "source": [
    "terms = [['brain', 'cortex'],['sleep', 'nap']]\n",
    "         \n",
    "inclusion = [['slope', 'exponent'],['slope', 'exponent']]\n",
    "\n",
    "\n",
    "counts = Counts()\n",
    "counts.add_terms(terms)\n",
    "counts.add_terms(inclusion, term_type='inclusions')\n",
    "\n",
    "\n",
    "# Run the data collection\n",
    "counts.run_collection(db=db)\n",
    "counts.check_counts()\n"
   ]
  },
  {
   "cell_type": "code",
   "execution_count": 137,
   "id": "2c183962",
   "metadata": {},
   "outputs": [
    {
     "ename": "ValueError",
     "evalue": "No data is available - cannot proceed.",
     "output_type": "error",
     "traceback": [
      "\u001b[0;31m---------------------------------------------------------------------------\u001b[0m",
      "\u001b[0;31mValueError\u001b[0m                                Traceback (most recent call last)",
      "Cell \u001b[0;32mIn [137], line 12\u001b[0m\n\u001b[1;32m     10\u001b[0m \u001b[38;5;66;03m# Run the data collection\u001b[39;00m\n\u001b[1;32m     11\u001b[0m counts\u001b[38;5;241m.\u001b[39mrun_collection(db\u001b[38;5;241m=\u001b[39mdb)\n\u001b[0;32m---> 12\u001b[0m \u001b[43mcounts\u001b[49m\u001b[38;5;241;43m.\u001b[39;49m\u001b[43mcheck_counts\u001b[49m\u001b[43m(\u001b[49m\u001b[43m)\u001b[49m\n",
      "File \u001b[0;32m~/anaconda3/envs/mne/lib/python3.10/site-packages/lisc/objects/counts.py:313\u001b[0m, in \u001b[0;36mCounts.check_counts\u001b[0;34m(self, dim)\u001b[0m\n\u001b[1;32m    298\u001b[0m \u001b[38;5;124;03m\"\"\"Check how many articles were found for each term.\u001b[39;00m\n\u001b[1;32m    299\u001b[0m \n\u001b[1;32m    300\u001b[0m \u001b[38;5;124;03mParameters\u001b[39;00m\n\u001b[0;32m   (...)\u001b[0m\n\u001b[1;32m    309\u001b[0m \u001b[38;5;124;03m>>> counts.check_counts() # doctest: +SKIP\u001b[39;00m\n\u001b[1;32m    310\u001b[0m \u001b[38;5;124;03m\"\"\"\u001b[39;00m\n\u001b[1;32m    312\u001b[0m \u001b[38;5;28;01mif\u001b[39;00m \u001b[38;5;129;01mnot\u001b[39;00m \u001b[38;5;28mself\u001b[39m\u001b[38;5;241m.\u001b[39mhas_data:\n\u001b[0;32m--> 313\u001b[0m     \u001b[38;5;28;01mraise\u001b[39;00m \u001b[38;5;167;01mValueError\u001b[39;00m(\u001b[38;5;124m'\u001b[39m\u001b[38;5;124mNo data is available - cannot proceed.\u001b[39m\u001b[38;5;124m'\u001b[39m)\n\u001b[1;32m    315\u001b[0m \u001b[38;5;66;03m# Calculate widths for printing\u001b[39;00m\n\u001b[1;32m    316\u001b[0m twd \u001b[38;5;241m=\u001b[39m get_max_length(\u001b[38;5;28mself\u001b[39m\u001b[38;5;241m.\u001b[39mterms[dim]\u001b[38;5;241m.\u001b[39mlabels, \u001b[38;5;241m2\u001b[39m)\n",
      "\u001b[0;31mValueError\u001b[0m: No data is available - cannot proceed."
     ]
    }
   ],
   "source": [
    "terms = [['slope', 'spectral slope', 'spectral exponent']]\n",
    "\n",
    "inclusion = [['brain', 'cortex']]\n",
    "         \n",
    "counts = Counts()\n",
    "counts.add_terms(terms)\n",
    "counts.add_terms(inclusion, term_type='inclusions')\n",
    "\n",
    "\n",
    "# Run the data collection\n",
    "counts.run_collection(db=db)\n",
    "counts.check_counts()"
   ]
  },
  {
   "cell_type": "code",
   "execution_count": 127,
   "id": "f4de933c",
   "metadata": {},
   "outputs": [],
   "source": [
    "terms = [['exponent', 'slope', 'spectral slope', 'spectral exponent']]\n",
    "\n",
    "# Only use papers that talk about these term in the brain \n",
    "inclusions1 = ['brain']\n",
    "inclusions2 = [['brain','sleep']]\n",
    "\n",
    "# Check that the search terms and inclusions line up\n",
    "assert len(terms) == len(inclusions1)\n",
    "assert len(terms) == len(inclusions2)"
   ]
  },
  {
   "cell_type": "code",
   "execution_count": 128,
   "id": "4771f4ad",
   "metadata": {},
   "outputs": [
    {
     "name": "stdout",
     "output_type": "stream",
     "text": [
      "Unloading terms.\n",
      "Unloading inclusions.\n",
      "List of terms used: \n",
      "\n",
      "exponent  : exponent, slope, spectral slope, spectral exponent\n"
     ]
    }
   ],
   "source": [
    "# Add  terms to the LISC object\n",
    "counts.add_terms(terms)\n",
    "counts.add_terms(inclusions, term_type='inclusions')\n",
    "\n",
    "# Check terms\n",
    "counts.terms['A'].check_terms()"
   ]
  },
  {
   "cell_type": "code",
   "execution_count": 123,
   "id": "5527af9b",
   "metadata": {},
   "outputs": [
    {
     "name": "stdout",
     "output_type": "stream",
     "text": [
      "Unloading terms.\n",
      "Unloading inclusions.\n",
      "List of terms used: \n",
      "\n",
      "exponent  : exponent, slope, spectral slope, spectral exponent\n"
     ]
    }
   ],
   "source": [
    "# Add  terms to the LISC object\n",
    "counts2.add_terms(terms)\n",
    "counts2.add_terms(inclusions2, term_type='inclusions')\n",
    "\n",
    "# Check terms\n",
    "counts2.terms['A'].check_terms()"
   ]
  },
  {
   "cell_type": "code",
   "execution_count": 129,
   "id": "689e5dec",
   "metadata": {},
   "outputs": [
    {
     "ename": "ValueError",
     "evalue": "No data is available - cannot proceed.",
     "output_type": "error",
     "traceback": [
      "\u001b[0;31m---------------------------------------------------------------------------\u001b[0m",
      "\u001b[0;31mValueError\u001b[0m                                Traceback (most recent call last)",
      "Cell \u001b[0;32mIn [129], line 5\u001b[0m\n\u001b[1;32m      2\u001b[0m counts\u001b[38;5;241m.\u001b[39mrun_collection(db\u001b[38;5;241m=\u001b[39mdb)\n\u001b[1;32m      3\u001b[0m counts2\u001b[38;5;241m.\u001b[39mrun_collection(db\u001b[38;5;241m=\u001b[39mdb)\n\u001b[0;32m----> 5\u001b[0m \u001b[43mcounts\u001b[49m\u001b[38;5;241;43m.\u001b[39;49m\u001b[43mcheck_counts\u001b[49m\u001b[43m(\u001b[49m\u001b[43m)\u001b[49m\n\u001b[1;32m      6\u001b[0m counts2\u001b[38;5;241m.\u001b[39mcheck_counts()\n",
      "File \u001b[0;32m~/anaconda3/envs/mne/lib/python3.10/site-packages/lisc/objects/counts.py:313\u001b[0m, in \u001b[0;36mCounts.check_counts\u001b[0;34m(self, dim)\u001b[0m\n\u001b[1;32m    298\u001b[0m \u001b[38;5;124;03m\"\"\"Check how many articles were found for each term.\u001b[39;00m\n\u001b[1;32m    299\u001b[0m \n\u001b[1;32m    300\u001b[0m \u001b[38;5;124;03mParameters\u001b[39;00m\n\u001b[0;32m   (...)\u001b[0m\n\u001b[1;32m    309\u001b[0m \u001b[38;5;124;03m>>> counts.check_counts() # doctest: +SKIP\u001b[39;00m\n\u001b[1;32m    310\u001b[0m \u001b[38;5;124;03m\"\"\"\u001b[39;00m\n\u001b[1;32m    312\u001b[0m \u001b[38;5;28;01mif\u001b[39;00m \u001b[38;5;129;01mnot\u001b[39;00m \u001b[38;5;28mself\u001b[39m\u001b[38;5;241m.\u001b[39mhas_data:\n\u001b[0;32m--> 313\u001b[0m     \u001b[38;5;28;01mraise\u001b[39;00m \u001b[38;5;167;01mValueError\u001b[39;00m(\u001b[38;5;124m'\u001b[39m\u001b[38;5;124mNo data is available - cannot proceed.\u001b[39m\u001b[38;5;124m'\u001b[39m)\n\u001b[1;32m    315\u001b[0m \u001b[38;5;66;03m# Calculate widths for printing\u001b[39;00m\n\u001b[1;32m    316\u001b[0m twd \u001b[38;5;241m=\u001b[39m get_max_length(\u001b[38;5;28mself\u001b[39m\u001b[38;5;241m.\u001b[39mterms[dim]\u001b[38;5;241m.\u001b[39mlabels, \u001b[38;5;241m2\u001b[39m)\n",
      "\u001b[0;31mValueError\u001b[0m: No data is available - cannot proceed."
     ]
    }
   ],
   "source": [
    "# Run the data collection\n",
    "counts.run_collection(db=db)\n",
    "counts2.run_collection(db=db)\n",
    "\n",
    "counts.check_counts()\n",
    "counts2.check_counts()"
   ]
  },
  {
   "cell_type": "code",
   "execution_count": null,
   "id": "156d4a6b",
   "metadata": {},
   "outputs": [],
   "source": []
  },
  {
   "cell_type": "markdown",
   "id": "6f215142",
   "metadata": {},
   "source": [
    "# REM stuff"
   ]
  },
  {
   "cell_type": "markdown",
   "id": "0783e332",
   "metadata": {},
   "source": [
    "## Analysis techniques"
   ]
  },
  {
   "cell_type": "code",
   "execution_count": 232,
   "id": "6ff05a67",
   "metadata": {},
   "outputs": [],
   "source": [
    "# Initialize counts object\n",
    "counts = Counts()\n",
    "\n",
    "# Settings for literature collection\n",
    "db = 'pubmed'"
   ]
  },
  {
   "cell_type": "code",
   "execution_count": 233,
   "id": "d71cd8c2",
   "metadata": {},
   "outputs": [],
   "source": [
    "# Define some new terms\n",
    "terms_a = [['rapid eye movement sleep','REM','REM sleep' 'paradoxical sleep'], ['non-rapid eye movement sleep','NREM','NREM sleep', 'stage 1 NREM', 'N1', 'stage 2 NREM', 'N2', 'slow wave sleep', 'stage 3 NREM', 'N3']]\n",
    "terms_b = [['erp', 'event-related analysis', 'event-related potential', 'evoked response'], ['spectral', 'time-frequency', 'frequency analysis', 'oscillations']]"
   ]
  },
  {
   "cell_type": "code",
   "execution_count": 234,
   "id": "7383e408",
   "metadata": {},
   "outputs": [],
   "source": [
    "# Set terms lists, indicating they are separate lists with the 'A' and 'B' labels\n",
    "counts.add_terms(terms_a, dim='A')\n",
    "counts.add_terms(terms_b, dim='B')"
   ]
  },
  {
   "cell_type": "code",
   "execution_count": 235,
   "id": "c034643a",
   "metadata": {},
   "outputs": [
    {
     "name": "stderr",
     "output_type": "stream",
     "text": [
      "/home/b1044271/anaconda3/envs/mne/lib/python3.10/site-packages/bs4/builder/__init__.py:545: XMLParsedAsHTMLWarning: It looks like you're parsing an XML document using an HTML parser. If this really is an HTML document (maybe it's XHTML?), you can ignore or filter this warning. If it's XML, you should know that using an XML parser will be more reliable. To parse this document as XML, make sure you have the lxml package installed, and pass the keyword argument `features=\"xml\"` into the BeautifulSoup constructor.\n",
      "  warnings.warn(\n"
     ]
    }
   ],
   "source": [
    "# Collect co-occurrence data\n",
    "counts.run_collection()"
   ]
  },
  {
   "cell_type": "code",
   "execution_count": 200,
   "id": "e95b342a",
   "metadata": {},
   "outputs": [
    {
     "name": "stdout",
     "output_type": "stream",
     "text": [
      "For  'rapid eye movement sleep'      the highest association is  'spectral'  with        1573\n",
      "For  'non-rapid eye movement sleep'  the highest association is  'erp'       with        3714\n"
     ]
    }
   ],
   "source": [
    "# Look at the collected counts data for the first set of terms\n",
    "counts.check_data(data_type='counts', dim='A')\n",
    "\n"
   ]
  },
  {
   "cell_type": "code",
   "execution_count": 201,
   "id": "08c91153",
   "metadata": {},
   "outputs": [
    {
     "name": "stdout",
     "output_type": "stream",
     "text": [
      "For  'erp'       the highest association is  'non-rapid eye movement sleep'  with        3714\n",
      "For  'spectral'  the highest association is  'non-rapid eye movement sleep'  with        3489\n"
     ]
    }
   ],
   "source": [
    "###################################################################################################\n",
    "\n",
    "# Look at the collected counts data for the second set of terms\n",
    "counts.check_data(data_type='counts', dim='B')"
   ]
  },
  {
   "cell_type": "code",
   "execution_count": 236,
   "id": "ed0b8210",
   "metadata": {},
   "outputs": [
    {
     "data": {
      "image/png": "[encoded data removed]",
      "text/plain": [
       "<Figure size 640x480 with 2 Axes>"
      ]
     },
     "metadata": {},
     "output_type": "display_data"
    }
   ],
   "source": [
    "# Now the arrays are ready for plotting \n",
    "import pandas as pd\n",
    "import seaborn\n",
    "data_s = pd.DataFrame(counts.counts,columns=['erp', 'spectral'], index=['REM','NREM'])\n",
    "seaborn.heatmap(data_s,  annot=True, cmap='rocket_r', fmt='.2f', linewidths=1)\n",
    "\n",
    "plt.savefig('/home/b1044271/FSON_REM/Literature_REMvNREM_methods.svg')"
   ]
  },
  {
   "cell_type": "markdown",
   "id": "30e97090",
   "metadata": {},
   "source": [
    "## Topics"
   ]
  },
  {
   "cell_type": "code",
   "execution_count": 237,
   "id": "66a6168c",
   "metadata": {},
   "outputs": [],
   "source": [
    "# Initialize counts object\n",
    "counts = Counts()\n",
    "\n",
    "# Settings for literature collection\n",
    "db = 'pubmed'"
   ]
  },
  {
   "cell_type": "code",
   "execution_count": 238,
   "id": "76f3da9e",
   "metadata": {},
   "outputs": [],
   "source": [
    "# Define some new terms\n",
    "terms_a = [['rapid eye movement sleep','REM','REM sleep' 'paradoxical sleep'], ['non-rapid eye movement sleep','NREM','NREM sleep', 'stage 1 NREM', 'N1', 'stage 2 NREM', 'N2', 'slow wave sleep', 'stage 3 NREM', 'N3']]\n",
    "terms_b = [['information processing', 'sensory processing', 'auditory processing', 'external processing'], ['memory consolidation', 'memory processing', 'memory']]"
   ]
  },
  {
   "cell_type": "code",
   "execution_count": 239,
   "id": "9c02dfb2",
   "metadata": {},
   "outputs": [
    {
     "name": "stderr",
     "output_type": "stream",
     "text": [
      "/home/b1044271/anaconda3/envs/mne/lib/python3.10/site-packages/bs4/builder/__init__.py:545: XMLParsedAsHTMLWarning: It looks like you're parsing an XML document using an HTML parser. If this really is an HTML document (maybe it's XHTML?), you can ignore or filter this warning. If it's XML, you should know that using an XML parser will be more reliable. To parse this document as XML, make sure you have the lxml package installed, and pass the keyword argument `features=\"xml\"` into the BeautifulSoup constructor.\n",
      "  warnings.warn(\n"
     ]
    },
    {
     "name": "stdout",
     "output_type": "stream",
     "text": [
      "For  'rapid eye movement sleep'      the highest association is  'memory consolidation'    with        1499\n",
      "For  'non-rapid eye movement sleep'  the highest association is  'memory consolidation'    with        2434\n"
     ]
    }
   ],
   "source": [
    "# Set terms lists, indicating they are separate lists with the 'A' and 'B' labels\n",
    "counts.add_terms(terms_a, dim='A')\n",
    "counts.add_terms(terms_b, dim='B')\n",
    "\n",
    "# Collect co-occurrence data\n",
    "counts.run_collection()\n",
    "\n",
    "# Look at the collected counts data for the first set of terms\n",
    "counts.check_data(data_type='counts', dim='A')"
   ]
  },
  {
   "cell_type": "code",
   "execution_count": null,
   "id": "1348cfaf",
   "metadata": {},
   "outputs": [],
   "source": [
    "# Now the arrays are ready for plotting \n",
    "import pandas as pd\n",
    "import seaborn\n",
    "data_s = pd.DataFrame(counts.counts,columns=['information processing', 'memory consolidation'], index=['REM','NREM'])\n",
    "seaborn.heatmap(data_s,  annot=True, cmap='rocket_r', fmt='.2f', linewidths=1)\n",
    "\n",
    "#plt.savefig('/home/b1044271/FSON_REM/Literature_REMvNREM.svg')"
   ]
  },
  {
   "cell_type": "code",
   "execution_count": 185,
   "id": "8e99bfb3",
   "metadata": {},
   "outputs": [
    {
     "data": {
      "text/plain": [
       "array([[ 149, 1499],\n",
       "       [1025, 2434]])"
      ]
     },
     "execution_count": 185,
     "metadata": {},
     "output_type": "execute_result"
    }
   ],
   "source": [
    "counts.counts"
   ]
  },
  {
   "cell_type": "code",
   "execution_count": 240,
   "id": "88d4cab3",
   "metadata": {},
   "outputs": [
    {
     "data": {
      "image/png": "[encoded data removed]",
      "text/plain": [
       "<Figure size 640x480 with 2 Axes>"
      ]
     },
     "metadata": {},
     "output_type": "display_data"
    }
   ],
   "source": [
    "# Now the arrays are ready for plotting \n",
    "import pandas as pd\n",
    "import seaborn\n",
    "data_s = pd.DataFrame(counts.counts,columns=['information processing', 'memory consolidation'], index=['REM','NREM'])\n",
    "seaborn.heatmap(data_s,  annot=True, cmap='rocket_r', fmt='.2f', linewidths=1)\n",
    "\n",
    "plt.savefig('/home/b1044271/FSON_REM/Literature_REMvNREM_topics.svg')"
   ]
  },
  {
   "cell_type": "markdown",
   "id": "7a966b49",
   "metadata": {},
   "source": [
    "## Phasic and Tonic"
   ]
  },
  {
   "cell_type": "code",
   "execution_count": 208,
   "id": "1601945a",
   "metadata": {},
   "outputs": [],
   "source": [
    "# Initialize counts object\n",
    "counts = Counts()\n",
    "\n",
    "# Settings for literature collection\n",
    "db = 'pubmed'"
   ]
  },
  {
   "cell_type": "code",
   "execution_count": 211,
   "id": "ffa2fe08",
   "metadata": {},
   "outputs": [],
   "source": [
    "# Define some new terms\n",
    "# Define a list of modalities of interest, with synonyms\n",
    "state_terms = [['rapid eye movement sleep','REM','REM sleep' 'paradoxical sleep'], \n",
    "                  ['phasic REM', 'tonic REM', 'rapid eye movements']]\n",
    "\n",
    "# Define a list of labels to use for the method terms\n",
    "state_labels = [lst[0] for lst in state_terms]\n"
   ]
  },
  {
   "cell_type": "code",
   "execution_count": 213,
   "id": "688b431c",
   "metadata": {},
   "outputs": [
    {
     "name": "stderr",
     "output_type": "stream",
     "text": [
      "/home/b1044271/anaconda3/envs/mne/lib/python3.10/site-packages/bs4/builder/__init__.py:545: XMLParsedAsHTMLWarning: It looks like you're parsing an XML document using an HTML parser. If this really is an HTML document (maybe it's XHTML?), you can ignore or filter this warning. If it's XML, you should know that using an XML parser will be more reliable. To parse this document as XML, make sure you have the lxml package installed, and pass the keyword argument `features=\"xml\"` into the BeautifulSoup constructor.\n",
      "  warnings.warn(\n"
     ]
    }
   ],
   "source": [
    "# Collect data for the number of papers found for each method\n",
    "SAVE_DATA=0\n",
    "state_count, _ = collect_counts(state_terms, collect_coocs=False)\n",
    "    "
   ]
  },
  {
   "cell_type": "code",
   "execution_count": 214,
   "id": "88d0cbaa",
   "metadata": {},
   "outputs": [
    {
     "name": "stdout",
     "output_type": "stream",
     "text": [
      "Number of articles found for each state:\n",
      "\t rapid eye movement sleep \t 20938\n",
      "\t phasic REM \t 950\n"
     ]
    }
   ],
   "source": [
    "# Check the number of articles found for each modality\n",
    "print('Number of articles found for each state:')\n",
    "for label, count in zip(state_labels, state_count):\n",
    "    print('\\t', label, '\\t', count)\n"
   ]
  },
  {
   "cell_type": "code",
   "execution_count": 231,
   "id": "92822b15",
   "metadata": {},
   "outputs": [
    {
     "data": {
      "image/png": "[encoded data removed]",
      "text/plain": [
       "<Figure size 640x480 with 1 Axes>"
      ]
     },
     "metadata": {},
     "output_type": "display_data"
    }
   ],
   "source": [
    "Stages=['REM', 'Phasic/Tonic']\n",
    "fig, ax = plt.subplots()\n",
    "\n",
    "numb_art = [20938,950]\n",
    "\n",
    "ax.barh([1,2],numb_art, align='center')\n",
    "ax.set_yticks([1,2], labels=Stages)\n",
    "ax.invert_yaxis()\n",
    "\n",
    "plt.text(numb_art[1] , 2, str(numb_art[1]))\n",
    "plt.text(numb_art[0] , 1, str(numb_art[0] ))\n",
    "\n",
    "plt.xticks(fontsize=18)\n",
    "plt.yticks(fontsize=18)\n",
    "ax.spines['top'].set_visible(False)\n",
    "ax.spines['right'].set_visible(False)\n",
    "ax.tick_params(axis='both', which='both', direction='in', width=1.5, labelsize=16)  # Customize tick properties\n",
    "ax.spines['bottom'].set_linewidth(1.5)\n",
    "ax.spines['left'].set_linewidth(1.5)\n",
    "\n",
    "plt.savefig(\"/home/b1044271/FSON_REM/Number of articles_REM_vs_micro.svg\", dpi = 600 )"
   ]
  },
  {
   "cell_type": "code",
   "execution_count": 229,
   "id": "2af7989e",
   "metadata": {},
   "outputs": [
    {
     "data": {
      "text/plain": [
       "950"
      ]
     },
     "execution_count": 229,
     "metadata": {},
     "output_type": "execute_result"
    }
   ],
   "source": [
    "numb_art[1] "
   ]
  },
  {
   "cell_type": "code",
   "execution_count": null,
   "id": "ec67e60b",
   "metadata": {},
   "outputs": [],
   "source": []
  },
  {
   "cell_type": "code",
   "execution_count": 147,
   "id": "7dd7e1d8",
   "metadata": {
    "collapsed": true
   },
   "outputs": [
    {
     "name": "stdout",
     "output_type": "stream",
     "text": [
      "[[0.00339161 0.07514092]\n",
      " [0.03466497 0.03148136]]\n"
     ]
    }
   ],
   "source": [
    "# Check out the computed normalization\n",
    "print(counts.score)"
   ]
  },
  {
   "cell_type": "code",
   "execution_count": null,
   "id": "76540bc7",
   "metadata": {},
   "outputs": [],
   "source": []
  },
  {
   "cell_type": "code",
   "execution_count": 147,
   "id": "14c51461",
   "metadata": {
    "collapsed": true
   },
   "outputs": [
    {
     "name": "stdout",
     "output_type": "stream",
     "text": [
      "[[0.00339161 0.07514092]\n",
      " [0.03466497 0.03148136]]\n"
     ]
    }
   ],
   "source": [
    "# Check out the computed normalization\n",
    "print(counts.score)"
   ]
  },
  {
   "cell_type": "code",
   "execution_count": null,
   "id": "cbfb3f41",
   "metadata": {},
   "outputs": [],
   "source": []
  }
 ],
 "metadata": {
  "kernelspec": {
   "display_name": "Python [conda env:mne]",
   "language": "python",
   "name": "conda-env-mne-py"
  },
  "language_info": {
   "codemirror_mode": {
    "name": "ipython",
    "version": 3
   },
   "file_extension": ".py",
   "mimetype": "text/x-python",
   "name": "python",
   "nbconvert_exporter": "python",
   "pygments_lexer": "ipython3",
   "version": "3.10.6"
  }
 },
 "nbformat": 4,
 "nbformat_minor": 5
}
