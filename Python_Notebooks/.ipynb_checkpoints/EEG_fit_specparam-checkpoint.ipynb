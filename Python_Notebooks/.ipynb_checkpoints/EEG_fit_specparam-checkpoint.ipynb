{
 "cells": [
  {
   "cell_type": "markdown",
   "id": "748b802a-bdad-41bd-9eb7-98df5e0600a8",
   "metadata": {},
   "source": [
    "# Fit the Fixed and Knee FOOOF models to EEG sleep data and save results"
   ]
  },
  {
   "cell_type": "code",
   "execution_count": 40,
   "id": "fab2eac5-8894-4a7b-bd7c-dd77163d4337",
   "metadata": {},
   "outputs": [],
   "source": [
    "import numpy as np\n",
    "import mne\n",
    "import os\n",
    "from pathlib import Path\n",
    "import pickle\n",
    "from fooof import FOOOFGroup\n",
    "\n",
    "# hide warnings\n",
    "import warnings\n",
    "warnings.filterwarnings(\"ignore\")"
   ]
  },
  {
   "cell_type": "markdown",
   "id": "5e881135-9ce7-40d0-8dcf-1079d65f9b5f",
   "metadata": {},
   "source": [
    "## GET PATHS"
   ]
  },
  {
   "cell_type": "code",
   "execution_count": 41,
   "id": "5533f03e-e767-4884-98e7-a120ba1f3ed1",
   "metadata": {},
   "outputs": [],
   "source": [
    "# get the staging list\n",
    "path_stage = Path('/home/b1044271/EEGsleep/SleepStaging/mat/mne2/')\n",
    "stage_files = os.listdir(path_stage)\n",
    "stage_files = [file for file in stage_files]\n",
    "stage_files = sorted(stage_files)\n",
    "\n",
    "# get the subjects list\n",
    "Data_path = '/home/b1044271/Columbia/Preprocessed/Better_ica/'\n",
    "subj_files = os.listdir(Data_path)\n",
    "subj_files = [file for file in subj_files]\n",
    "subj_files = sorted(subj_files)"
   ]
  },
  {
   "cell_type": "markdown",
   "id": "0fa187df-e918-480c-ad98-e8557a6d559f",
   "metadata": {},
   "source": [
    "## Welch and FOOOF settings"
   ]
  },
  {
   "cell_type": "code",
   "execution_count": 53,
   "id": "b508f4d6-5380-450b-93ac-d2a288446585",
   "metadata": {},
   "outputs": [],
   "source": [
    "# Settings for the analyses\n",
    "f_min = 1\n",
    "f_max = 45\n",
    "t     = 15\n",
    "fs    = 250\n",
    "\n",
    "SETTINGS_W  = { 'method' : 'welch', 'average' : 'mean', 'fmin' :f_min , 'fmax':f_max, 'n_fft': fs*t, 'n_overlap': fs*t*0.5}\n",
    "SETTINGS_F1 = {'max_n_peaks':8, 'aperiodic_mode':'knee'}\n",
    "SETTINGS_F2 = {'max_n_peaks':8, 'aperiodic_mode':'fixed'}\n"
   ]
  },
  {
   "cell_type": "markdown",
   "id": "eb8595aa-9607-4dca-8233-bc8875817379",
   "metadata": {},
   "source": [
    "## Model Settins"
   ]
  },
  {
   "cell_type": "code",
   "execution_count": 54,
   "id": "fbc6376e-c39f-4710-8466-4d39580fca63",
   "metadata": {},
   "outputs": [],
   "source": [
    "# Constants\n",
    "n_subjects = 17\n",
    "\n",
    "# Define parameter categories\n",
    "conditions = [\"Wakefulness\", \"N1\",\"N2\", \"N3\", \"REM\"]\n",
    "metrics = [\"Kn\", \"Exp\", \"Exp2\", \"R2K\", \"R2N\", \"EK\", \"EN\", \"PK\", \"PN\"]\n",
    "\n",
    "# Initialize storage dictionaries\n",
    "param_data = {cond: {metric: np.zeros([n_subjects, 200]) * np.nan for metric in metrics} for cond in conditions}"
   ]
  },
  {
   "cell_type": "markdown",
   "id": "78aae654-44b9-4a84-b7c3-c84eedf33b5e",
   "metadata": {},
   "source": [
    "## Fit Model and Calculate Parameters"
   ]
  },
  {
   "cell_type": "code",
   "execution_count": 57,
   "id": "75dc12d7-c501-4e27-aba5-f92e38a4c966",
   "metadata": {},
   "outputs": [
    {
     "name": "stdout",
     "output_type": "stream",
     "text": [
      "Loaded VP01_notch2_ica_done.set\n",
      "Not setting metadata\n",
      "927 matching events found\n",
      "Setting baseline interval to [-30.0, 0.0] sec\n",
      "Applying baseline correction (mode: mean)\n",
      "0 projection items activated\n",
      "Using data from preloaded Raw for 85 events and 7501 original time points ...\n",
      "0 bad epochs dropped\n",
      "Effective window size : 15.000 (s)\n",
      "Using data from preloaded Raw for 85 events and 7501 original time points ...\n",
      "Effective window size : 15.000 (s)\n"
     ]
    },
    {
     "ename": "ValueError",
     "evalue": "could not broadcast input array from shape (183,661) into shape (661,)",
     "output_type": "error",
     "traceback": [
      "\u001b[0;31m---------------------------------------------------------------------------\u001b[0m",
      "\u001b[0;31mValueError\u001b[0m                                Traceback (most recent call last)",
      "Cell \u001b[0;32mIn [57], line 24\u001b[0m\n\u001b[1;32m     21\u001b[0m AWs \u001b[38;5;241m=\u001b[39m epochs[\u001b[38;5;124m'\u001b[39m\u001b[38;5;124m0\u001b[39m\u001b[38;5;124m'\u001b[39m]\n\u001b[1;32m     23\u001b[0m \u001b[38;5;66;03m# Compute PSDs using Welch's method\u001b[39;00m\n\u001b[0;32m---> 24\u001b[0m \u001b[43mPSDs_N1\u001b[49m\u001b[43m[\u001b[49m\u001b[43mi\u001b[49m\u001b[43m,\u001b[49m\u001b[43m \u001b[49m\u001b[43m:\u001b[49m\u001b[38;5;28;43mlen\u001b[39;49m\u001b[43m(\u001b[49m\u001b[43mN1s\u001b[49m\u001b[38;5;241;43m.\u001b[39;49m\u001b[43mcompute_psd\u001b[49m\u001b[43m(\u001b[49m\u001b[38;5;241;43m*\u001b[39;49m\u001b[38;5;241;43m*\u001b[39;49m\u001b[43mSETTINGS_W\u001b[49m\u001b[43m)\u001b[49m\u001b[38;5;241;43m.\u001b[39;49m\u001b[43m_freqs\u001b[49m\u001b[43m)\u001b[49m\u001b[43m]\u001b[49m \u001b[38;5;241m=\u001b[39m np\u001b[38;5;241m.\u001b[39mmean(N1s\u001b[38;5;241m.\u001b[39mcompute_psd(\u001b[38;5;241m*\u001b[39m\u001b[38;5;241m*\u001b[39mSETTINGS_W)\u001b[38;5;241m.\u001b[39m_data, axis\u001b[38;5;241m=\u001b[39m\u001b[38;5;241m0\u001b[39m)\n\u001b[1;32m     25\u001b[0m PSDs_N2[i, :\u001b[38;5;28mlen\u001b[39m(N2s\u001b[38;5;241m.\u001b[39mcompute_psd(\u001b[38;5;241m*\u001b[39m\u001b[38;5;241m*\u001b[39mSETTINGS_W)\u001b[38;5;241m.\u001b[39m_freqs)] \u001b[38;5;241m=\u001b[39m np\u001b[38;5;241m.\u001b[39mmean(N2s\u001b[38;5;241m.\u001b[39mcompute_psd(\u001b[38;5;241m*\u001b[39m\u001b[38;5;241m*\u001b[39mSETTINGS_W)\u001b[38;5;241m.\u001b[39m_data, axis\u001b[38;5;241m=\u001b[39m\u001b[38;5;241m0\u001b[39m)\n\u001b[1;32m     26\u001b[0m PSDs_N3[i, :\u001b[38;5;28mlen\u001b[39m(N3s\u001b[38;5;241m.\u001b[39mcompute_psd(\u001b[38;5;241m*\u001b[39m\u001b[38;5;241m*\u001b[39mSETTINGS_W)\u001b[38;5;241m.\u001b[39m_freqs)] \u001b[38;5;241m=\u001b[39m np\u001b[38;5;241m.\u001b[39mmean(N3s\u001b[38;5;241m.\u001b[39mcompute_psd(\u001b[38;5;241m*\u001b[39m\u001b[38;5;241m*\u001b[39mSETTINGS_W)\u001b[38;5;241m.\u001b[39m_data, axis\u001b[38;5;241m=\u001b[39m\u001b[38;5;241m0\u001b[39m)\n",
      "\u001b[0;31mValueError\u001b[0m: could not broadcast input array from shape (183,661) into shape (661,)"
     ]
    }
   ],
   "source": [
    "# Store PSD results\n",
    "PSDs_W  = np.full([n_subjects,183, 661], np.nan)\n",
    "PSDs_N1 = np.full([n_subjects, 183, 661], np.nan)\n",
    "PSDs_N2 = np.full([n_subjects, 183, 661], np.nan)\n",
    "PSDs_N3 = np.full([n_subjects, 183, 661], np.nan)\n",
    "PSDs_R  = np.full([n_subjects, 183, 661], np.nan)\n",
    "\n",
    "i = 0\n",
    "for x in subj_files:\n",
    "    EEG = mne.io.read_raw_eeglab(os.path.join(Data_path, x))  # Read raw .set file\n",
    "    print('Loaded', x)\n",
    "    \n",
    "    events = mne.read_events(Path(path_stage, stage_files[i]))  # Read staging markers\n",
    "    epochs = mne.Epochs(EEG, events=events, tmin=-30, tmax=0)\n",
    "    \n",
    "    # Select epochs for each sleep stage\n",
    "    N1s = epochs['1']\n",
    "    N2s = epochs['2']\n",
    "    N3s = epochs['3']\n",
    "    REs = epochs['5']\n",
    "    AWs = epochs['0']\n",
    "    \n",
    "    # Compute PSDs using Welch's method\n",
    "    N1 = N1s.compute_psd(**SETTINGS_W) \n",
    "    N2 = N2s.compute_psd(**SETTINGS_W) \n",
    "    N3 = N3s.compute_psd(**SETTINGS_W)\n",
    "    AW = AWs.compute_psd(**SETTINGS_W)\n",
    "    RM = REs.compute_psd(**SETTINGS_W)\n",
    "\n",
    "    PSDs_W[i, :, 0:len(AW._freqs)] = np.mean(AW._data, 0)\n",
    "    PSDs_N1[i, :, 0:len(N1._freqs)] = np.mean(N1._data, 0)\n",
    "    PSDs_N2[i, :, 0:len(N2._freqs)] = np.mean(N2._data, 0)\n",
    "    PSDs_N3[i, :, 0:len(N3._freqs)] = np.mean(N3._data, 0)\n",
    "    PSDs_R[i, :, 0:len(RM._freqs)] = np.mean(RM._data, 0)\n",
    "\n",
    "\n",
    "    PSDmat = [PSDs_W, PSDs_N1, PSDs_N2, PSDs_N3, PSDs_R]\n",
    "    conditions = ['Wake', 'N1', 'N2', 'N3', 'REM']\n",
    "    \n",
    "    for j, PSD in enumerate(PSDmat):\n",
    "        condition = conditions[j]\n",
    "        fm1 = FOOOFGroup(**SETTINGS_F1)\n",
    "        fm2 = FOOOFGroup(**SETTINGS_F2)\n",
    "        \n",
    "        fm1.fit(AW._freqs, PSD[i, :, :], [AW._freqs[0], AW._freqs[-1]])\n",
    "        fm2.fit(AW._freqs, PSD[i, :, :], [AW._freqs[0], AW._freqs[-1]])\n",
    "        \n",
    "        param_data[condition]['Kn'][i, :]   = compute_knee_frequency(fm1.get_params('aperiodic_params', 'knee'), fm1.get_params('aperiodic_params', 'exponent'))\n",
    "        param_data[condition]['Exp'][i, :]  = fm1.get_params('aperiodic_params', 'exponent')\n",
    "        param_data[condition]['Exp2'][i, :] = fm2.get_params('aperiodic_params', 'exponent')\n",
    "        param_data[condition]['R2K'][i, :]  = fm1.get_params('r_squared')\n",
    "        param_data[condition]['R2N'][i, :]  = fm2.get_params('r_squared')\n",
    "        param_data[condition]['EK'][i, :]   = fm1.get_params('error')\n",
    "        param_data[condition]['EN'][i, :]   = fm2.get_params('error')\n",
    "        \n",
    "        # Extract the number of peaks for each epoch\n",
    "        peak_params1 = fm1.get_params('peak_params')\n",
    "        peak_params2 = fm2.get_params('peak_params')\n",
    "        \n",
    "        for epoch_idx in range(len(PSD[i, :, :])):\n",
    "            num_peaks1 = sum(peak[-1] == epoch_idx for peak in peak_params1)\n",
    "            num_peaks2 = sum(peak[-1] == epoch_idx for peak in peak_params2)\n",
    "            \n",
    "            param_data[condition]['PK'][i, epoch_idx] = num_peaks1\n",
    "            param_data[condition]['PN'][i, epoch_idx] = num_peaks2\n",
    "    \n",
    "    i += 1\n"
   ]
  },
  {
   "cell_type": "code",
   "execution_count": 67,
   "id": "096f592b-b074-432f-a7c0-7f7f3270bcfd",
   "metadata": {},
   "outputs": [],
   "source": [
    "# Store PSD results\n",
    "PSDs_W  = np.full([n_subjects,183, 661], np.nan)\n",
    "PSDs_N1 = np.full([n_subjects, 183, 661], np.nan)\n",
    "PSDs_N2 = np.full([n_subjects, 183, 661], np.nan)\n",
    "PSDs_N3 = np.full([n_subjects, 183, 661], np.nan)\n",
    "PSDs_R  = np.full([n_subjects, 183, 661], np.nan)"
   ]
  },
  {
   "cell_type": "code",
   "execution_count": 69,
   "id": "11572a63-e373-40ac-9cfb-f8409b0bac0b",
   "metadata": {},
   "outputs": [],
   "source": [
    "PSDs_N1[i, :, 0:len(N1._freqs)] = np.mean(N1._data, 0)\n",
    "\n"
   ]
  },
  {
   "cell_type": "code",
   "execution_count": 70,
   "id": "da561fab-121f-4c5f-abc6-0a7342a7a538",
   "metadata": {},
   "outputs": [
    {
     "data": {
      "text/plain": [
       "661"
      ]
     },
     "execution_count": 70,
     "metadata": {},
     "output_type": "execute_result"
    }
   ],
   "source": [
    "len(N1._freqs)"
   ]
  },
  {
   "cell_type": "markdown",
   "id": "e7bfa37f-3016-4501-8d6e-2ca8e220e314",
   "metadata": {},
   "source": [
    "## Save"
   ]
  },
  {
   "cell_type": "code",
   "execution_count": 39,
   "id": "1e8befcf-5c0f-4265-b0bc-cfe4aa0f3c05",
   "metadata": {},
   "outputs": [
    {
     "data": {
      "text/plain": [
       "array([[nan, nan, nan, ..., nan, nan, nan],\n",
       "       [nan, nan, nan, ..., nan, nan, nan],\n",
       "       [nan, nan, nan, ..., nan, nan, nan],\n",
       "       ...,\n",
       "       [nan, nan, nan, ..., nan, nan, nan],\n",
       "       [nan, nan, nan, ..., nan, nan, nan],\n",
       "       [nan, nan, nan, ..., nan, nan, nan]])"
      ]
     },
     "execution_count": 39,
     "metadata": {},
     "output_type": "execute_result"
    }
   ],
   "source": [
    "# Save results as a pickle file\n",
    "save_path = Path('/home/b1044271/Columbia/Results/2025/EEG_results.pkl')\n",
    "with open(save_path, 'wb') as f:\n",
    "    pickle.dump(data, f)"
   ]
  }
 ],
 "metadata": {
  "kernelspec": {
   "display_name": "Python [conda env:mne]",
   "language": "python",
   "name": "conda-env-mne-py"
  },
  "language_info": {
   "codemirror_mode": {
    "name": "ipython",
    "version": 3
   },
   "file_extension": ".py",
   "mimetype": "text/x-python",
   "name": "python",
   "nbconvert_exporter": "python",
   "pygments_lexer": "ipython3",
   "version": "3.10.6"
  }
 },
 "nbformat": 4,
 "nbformat_minor": 5
}
