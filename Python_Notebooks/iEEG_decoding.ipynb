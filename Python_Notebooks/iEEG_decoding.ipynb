{
 "cells": [
  {
   "cell_type": "markdown",
   "id": "5152eeb7",
   "metadata": {},
   "source": [
    "# Decoding Sleep stages from the aperiodic parameters of iEEG data  "
   ]
  },
  {
   "cell_type": "code",
   "execution_count": 1,
   "id": "3a14acfd",
   "metadata": {},
   "outputs": [],
   "source": [
    "import os\n",
    "from pathlib import Path\n",
    "import numpy as np\n",
    "import mne\n",
    "from scipy import stats\n",
    "import pandas as pd\n",
    "import random\n",
    "\n",
    "# Use neurodsp for convenience\n",
    "from neurodsp.plts import plot_time_series, plot_power_spectra\n",
    "from neurodsp.spectral import compute_spectrum\n",
    "\n",
    "# Import fooof for checking model fits\n",
    "from fooof import FOOOF\n",
    "from fooof import FOOOFGroup\n",
    "from fooof.plts.annotate import plot_annotated_model, plot_annotated_model2\n",
    "from fooof.utils.params import compute_knee_frequency\n",
    "\n",
    "# Plotting functions\n",
    "from spiketools.plts.utils import make_axes\n",
    "import matplotlib.pyplot as plt\n",
    "import seaborn as sns\n",
    "from pandas.plotting import table \n",
    "\n",
    "import warnings\n",
    "warnings.filterwarnings(\"ignore\")\n",
    "\n",
    "from sklearn.discriminant_analysis import LinearDiscriminantAnalysis\n",
    "from sklearn.model_selection import RepeatedKFold\n",
    "from sklearn.feature_extraction.text import TfidfVectorizer\n",
    "from sklearn.decomposition import LatentDirichletAllocation\n",
    "from sklearn.model_selection import cross_val_score, train_test_split\n",
    "from sklearn.model_selection import RepeatedStratifiedKFold"
   ]
  },
  {
   "cell_type": "markdown",
   "id": "c9776b61",
   "metadata": {},
   "source": [
    "## Import custom-made project code\n"
   ]
  },
  {
   "cell_type": "code",
   "execution_count": 2,
   "id": "9adf795e",
   "metadata": {},
   "outputs": [],
   "source": [
    "import sys\n",
    "sys.path.append(\"/home/b1044271/Columbia/Aperiodic_sleep/helpers\")\n",
    "from utils import check_distribution, perform_correlation, compute_z_values, bonferroni_correction, friedman_dunns"
   ]
  },
  {
   "cell_type": "markdown",
   "id": "0831d3fc",
   "metadata": {},
   "source": [
    "## Set FOOOF parameters"
   ]
  },
  {
   "cell_type": "code",
   "execution_count": 3,
   "id": "82db63ac",
   "metadata": {},
   "outputs": [],
   "source": [
    "f_min = 1 # min freq\n",
    "f_max = 45 # max freq\n",
    "t     = 15 # time for \n",
    "fs    = 200 # sampling rate\n",
    "\n",
    "# Welch's Settings\n",
    "SETTINGS_W  = { 'method' : 'welch', 'average' : None, 'fmin' :f_min , 'fmax':f_max, 'n_fft': fs*t, 'n_overlap': fs*t*0.5}\n",
    "\n",
    "# Settings for both models\n",
    "SETTINGS_F1={'max_n_peaks':8, 'aperiodic_mode':'knee'}\n",
    "SETTINGS_F2={'max_n_peaks':8, 'aperiodic_mode':'fixed'}"
   ]
  },
  {
   "cell_type": "markdown",
   "id": "8c38d05f",
   "metadata": {},
   "source": [
    "## Paths stuff"
   ]
  },
  {
   "cell_type": "code",
   "execution_count": 5,
   "id": "efeadc53",
   "metadata": {},
   "outputs": [],
   "source": [
    "# Set data path\n",
    "data_path = Path('/home/b1044271/Columbia/iEEG')\n",
    "# Set result path\n",
    "result_path = Path('/home/b1044271/Columbia/Results/iEEG')\n",
    "\n",
    "# Set dataset (Wakefulness)\n",
    "dataset = 'Wakefulness_AllRegions'\n",
    "# Get list of files, which correspond to regions\n",
    "regions = np.sort(os.listdir(data_path / dataset))"
   ]
  },
  {
   "cell_type": "markdown",
   "id": "b6d89c9b",
   "metadata": {},
   "source": [
    "# Run FOOOF on Data\n",
    "## To simply load the FOOOF results scroll down"
   ]
  },
  {
   "cell_type": "code",
   "execution_count": 9,
   "id": "9871fb6e",
   "metadata": {},
   "outputs": [],
   "source": [
    "# Create Empty vectors to store FOOOF results\n",
    "W_Kn  = np.zeros([len(regions)-4,20000])*np.nan\n",
    "W_Exp = np.zeros([len(regions)-4,20000])*np.nan\n",
    "W_Exp2 = np.zeros([len(regions)-4,20000])*np.nan\n",
    "\n",
    "N2_Kn  = np.zeros([len(regions)-4,20000])*np.nan\n",
    "N2_Exp = np.zeros([len(regions)-4,20000])*np.nan\n",
    "N2_Exp2 = np.zeros([len(regions)-4,20000])*np.nan\n",
    "\n",
    "N3_Kn  = np.zeros([len(regions)-4,20000])*np.nan\n",
    "N3_Exp = np.zeros([len(regions)-4,20000])*np.nan\n",
    "\n",
    "N3_Exp2 = np.zeros([len(regions)-4,20000])*np.nan\n",
    "\n",
    "R_Kn  = np.zeros([len(regions)-4,20000])*np.nan\n",
    "R_Exp = np.zeros([len(regions)-4,20000])*np.nan\n",
    "R_Exp2 = np.zeros([len(regions)-4,20000])*np.nan"
   ]
  },
  {
   "cell_type": "markdown",
   "id": "3e1f69dd",
   "metadata": {},
   "source": [
    "### Run FOOOF in Wake Data"
   ]
  },
  {
   "cell_type": "code",
   "execution_count": null,
   "id": "43616913",
   "metadata": {
    "scrolled": true
   },
   "outputs": [
    {
     "name": "stdout",
     "output_type": "stream",
     "text": [
      "Extracting EDF parameters from /home/b1044271/Columbia/iEEG/Wakefulness_AllRegions/Angular gyrus_W.edf...\n",
      "EDF file detected\n",
      "Setting channel info structure...\n",
      "Creating raw.info structure...\n",
      "Effective window size : 15.000 (s)\n",
      "Running FOOOFGroup across 424 power spectra.\n",
      "Running FOOOFGroup across 424 power spectra.\n",
      "Extracting EDF parameters from /home/b1044271/Columbia/iEEG/Wakefulness_AllRegions/Anterior cingulate_W.edf...\n",
      "EDF file detected\n",
      "Setting channel info structure...\n",
      "Creating raw.info structure...\n",
      "Effective window size : 15.000 (s)\n",
      "Running FOOOFGroup across 248 power spectra.\n",
      "Running FOOOFGroup across 248 power spectra.\n",
      "Extracting EDF parameters from /home/b1044271/Columbia/iEEG/Wakefulness_AllRegions/Anterior insula_W.edf...\n",
      "EDF file detected\n",
      "Setting channel info structure...\n",
      "Creating raw.info structure...\n",
      "Effective window size : 15.000 (s)\n",
      "Running FOOOFGroup across 568 power spectra.\n",
      "Running FOOOFGroup across 568 power spectra.\n",
      "Extracting EDF parameters from /home/b1044271/Columbia/iEEG/Wakefulness_AllRegions/Calcarine cortex_W.edf...\n",
      "EDF file detected\n",
      "Setting channel info structure...\n",
      "Creating raw.info structure...\n",
      "Effective window size : 15.000 (s)\n",
      "Running FOOOFGroup across 96 power spectra.\n",
      "Running FOOOFGroup across 96 power spectra.\n",
      "Extracting EDF parameters from /home/b1044271/Columbia/iEEG/Wakefulness_AllRegions/Central operculum_W.edf...\n",
      "EDF file detected\n",
      "Setting channel info structure...\n",
      "Creating raw.info structure...\n",
      "Effective window size : 15.000 (s)\n",
      "Running FOOOFGroup across 504 power spectra.\n",
      "Running FOOOFGroup across 504 power spectra.\n",
      "Extracting EDF parameters from /home/b1044271/Columbia/iEEG/Wakefulness_AllRegions/Cuneus_W.edf...\n",
      "EDF file detected\n",
      "Setting channel info structure...\n",
      "Creating raw.info structure...\n",
      "Effective window size : 15.000 (s)\n",
      "Running FOOOFGroup across 152 power spectra.\n",
      "Running FOOOFGroup across 152 power spectra.\n",
      "Extracting EDF parameters from /home/b1044271/Columbia/iEEG/Wakefulness_AllRegions/Frontal operculum_W.edf...\n",
      "EDF file detected\n",
      "Setting channel info structure...\n",
      "Creating raw.info structure...\n",
      "Effective window size : 15.000 (s)\n",
      "Running FOOOFGroup across 232 power spectra.\n",
      "Running FOOOFGroup across 232 power spectra.\n",
      "Extracting EDF parameters from /home/b1044271/Columbia/iEEG/Wakefulness_AllRegions/Gyrus rectus and orbital gyri_W.edf...\n",
      "EDF file detected\n",
      "Setting channel info structure...\n",
      "Creating raw.info structure...\n",
      "Effective window size : 15.000 (s)\n",
      "Running FOOOFGroup across 360 power spectra.\n",
      "Running FOOOFGroup across 360 power spectra.\n",
      "Extracting EDF parameters from /home/b1044271/Columbia/iEEG/Wakefulness_AllRegions/Inferior ocipital gyrus and occipital pole_W.edf...\n",
      "EDF file detected\n",
      "Setting channel info structure...\n",
      "Creating raw.info structure...\n",
      "Effective window size : 15.000 (s)\n",
      "Running FOOOFGroup across 184 power spectra.\n",
      "Running FOOOFGroup across 184 power spectra.\n",
      "Extracting EDF parameters from /home/b1044271/Columbia/iEEG/Wakefulness_AllRegions/Inferior temporal gyrus_W.edf...\n",
      "EDF file detected\n",
      "Setting channel info structure...\n",
      "Creating raw.info structure...\n",
      "Effective window size : 15.000 (s)\n",
      "Running FOOOFGroup across 328 power spectra.\n",
      "Running FOOOFGroup across 328 power spectra.\n",
      "Extracting EDF parameters from /home/b1044271/Columbia/iEEG/Wakefulness_AllRegions/Lingual gyrus and occipital fusiform gyrus_W.edf...\n",
      "EDF file detected\n",
      "Setting channel info structure...\n",
      "Creating raw.info structure...\n",
      "Effective window size : 15.000 (s)\n",
      "Running FOOOFGroup across 232 power spectra.\n",
      "Running FOOOFGroup across 232 power spectra.\n",
      "Extracting EDF parameters from /home/b1044271/Columbia/iEEG/Wakefulness_AllRegions/Medial frontal cortex_W.edf...\n",
      "EDF file detected\n",
      "Setting channel info structure...\n",
      "Creating raw.info structure...\n",
      "Effective window size : 15.000 (s)\n",
      "Running FOOOFGroup across 152 power spectra.\n",
      "Running FOOOFGroup across 152 power spectra.\n",
      "Extracting EDF parameters from /home/b1044271/Columbia/iEEG/Wakefulness_AllRegions/Medial segment of precentral gyrus_W.edf...\n",
      "EDF file detected\n",
      "Setting channel info structure...\n",
      "Creating raw.info structure...\n",
      "Effective window size : 15.000 (s)\n",
      "Running FOOOFGroup across 144 power spectra.\n",
      "Running FOOOFGroup across 144 power spectra.\n",
      "Extracting EDF parameters from /home/b1044271/Columbia/iEEG/Wakefulness_AllRegions/Medial segment of superior frontal gyrus_W.edf...\n",
      "EDF file detected\n",
      "Setting channel info structure...\n",
      "Creating raw.info structure...\n",
      "Effective window size : 15.000 (s)\n",
      "Running FOOOFGroup across 128 power spectra.\n",
      "Running FOOOFGroup across 128 power spectra.\n",
      "Extracting EDF parameters from /home/b1044271/Columbia/iEEG/Wakefulness_AllRegions/Middle cingulate_W.edf...\n",
      "EDF file detected\n",
      "Setting channel info structure...\n",
      "Creating raw.info structure...\n",
      "Effective window size : 15.000 (s)\n",
      "Running FOOOFGroup across 320 power spectra.\n",
      "Running FOOOFGroup across 320 power spectra.\n",
      "Extracting EDF parameters from /home/b1044271/Columbia/iEEG/Wakefulness_AllRegions/Middle frontal gyrus_W.edf...\n",
      "EDF file detected\n",
      "Setting channel info structure...\n",
      "Creating raw.info structure...\n",
      "Effective window size : 15.000 (s)\n",
      "Running FOOOFGroup across 1384 power spectra.\n",
      "Running FOOOFGroup across 1384 power spectra.\n",
      "Extracting EDF parameters from /home/b1044271/Columbia/iEEG/Wakefulness_AllRegions/Middle temporal gyrus_W.edf...\n",
      "EDF file detected\n",
      "Setting channel info structure...\n",
      "Creating raw.info structure...\n",
      "Effective window size : 15.000 (s)\n",
      "Running FOOOFGroup across 1008 power spectra.\n",
      "Running FOOOFGroup across 1008 power spectra.\n",
      "Extracting EDF parameters from /home/b1044271/Columbia/iEEG/Wakefulness_AllRegions/Opercular part of inferior frontal gyrus_W.edf...\n",
      "EDF file detected\n",
      "Setting channel info structure...\n",
      "Creating raw.info structure...\n",
      "Effective window size : 15.000 (s)\n",
      "Running FOOOFGroup across 304 power spectra.\n",
      "Running FOOOFGroup across 304 power spectra.\n",
      "Extracting EDF parameters from /home/b1044271/Columbia/iEEG/Wakefulness_AllRegions/Orbital part of inferior frontal gyrus_W.edf...\n",
      "EDF file detected\n",
      "Setting channel info structure...\n",
      "Creating raw.info structure...\n",
      "Effective window size : 15.000 (s)\n",
      "Running FOOOFGroup across 152 power spectra.\n",
      "Running FOOOFGroup across 152 power spectra.\n",
      "Extracting EDF parameters from /home/b1044271/Columbia/iEEG/Wakefulness_AllRegions/Parietal operculum_W.edf...\n",
      "EDF file detected\n",
      "Setting channel info structure...\n",
      "Creating raw.info structure...\n",
      "Effective window size : 15.000 (s)\n",
      "Running FOOOFGroup across 328 power spectra.\n",
      "Running FOOOFGroup across 328 power spectra.\n"
     ]
    }
   ],
   "source": [
    "# WAKEFULNESS\n",
    "i =0 \n",
    "\n",
    "for C, V in enumerate(regions):\n",
    "    \n",
    "    if C == 0 or C== 8 or C==10 or C==35:   # skip non-cortical areas (check MNI ATLAS for more info)\n",
    "        continue\n",
    "        \n",
    "    iEEG = mne.io.read_raw_edf(data_path / dataset / V) # READ data\n",
    "    iEEG_psd = iEEG.compute_psd(**SETTINGS_W)  # compute welch\n",
    "    \n",
    "    X = iEEG_psd._data.transpose(2,0,1) # change format from  chan X \n",
    "    Xn = X.reshape((X.shape[0]*X.shape[1]), X.shape[2]) # reshape data to \n",
    "       \n",
    "    fm1 = FOOOFGroup(**SETTINGS_F1)\n",
    "    fm1.fit(iEEG_psd._freqs, Xn, [iEEG_psd._freqs[0] , iEEG_psd._freqs[-1]])\n",
    "        \n",
    "    fm2 = FOOOFGroup(**SETTINGS_F2)\n",
    "    fm2.fit(iEEG_psd._freqs, Xn, [iEEG_psd._freqs[0] , iEEG_psd._freqs[-1]])\n",
    "            \n",
    "    # parameters exctract\n",
    "    W_Kn[i,0:len(fm1.get_params('aperiodic_params','knee'))]  = fm1.get_params('aperiodic_params','knee') # KNEE\n",
    "    W_Exp[i,0:len(fm1.get_params('aperiodic_params','exponent'))] = fm1.get_params('aperiodic_params','exponent') # EXP_KNee\n",
    "    W_Exp2[i,0:len(fm2.get_params('aperiodic_params','exponent'))] = fm2.get_params('aperiodic_params','exponent') # EXP_fixed\n",
    "   \n",
    "\n",
    "    i = i+1"
   ]
  },
  {
   "cell_type": "markdown",
   "id": "8fc1452a",
   "metadata": {},
   "source": [
    "### Run FOOOF in N2"
   ]
  },
  {
   "cell_type": "code",
   "execution_count": null,
   "id": "75a15aff",
   "metadata": {},
   "outputs": [],
   "source": [
    "#N2\n",
    "# Set data path\n",
    "data_path = Path('/home/b1044271/Columbia/iEEG')\n",
    "# Set dataset\n",
    "dataset = 'N2_AllRegions'\n",
    "# Get list of files, which correspond to the regions\n",
    "regions = np.sort(os.listdir(data_path / dataset))\n",
    "\n",
    "PSDs_N2 =  np.zeros([len(regions)-4,661])*np.nan\n",
    "\n",
    "i =0\n",
    "\n",
    "for C, V in enumerate(regions):\n",
    "    \n",
    "    if C == 0 or C== 8 or C==10 or C==35:\n",
    "        continue\n",
    "        \n",
    "    iEEG = mne.io.read_raw_edf(data_path / dataset / V)\n",
    "    iEEG_psd = iEEG.compute_psd(**SETTINGS_W)\n",
    "        \n",
    "    X = iEEG_psd._data.transpose(2,0,1)\n",
    "    Xn = X.reshape((X.shape[0]*X.shape[1]), X.shape[2])\n",
    "       \n",
    "    fm1 = FOOOFGroup(**SETTINGS_F1)\n",
    "    fm1.fit(iEEG_psd._freqs, Xn, [iEEG_psd._freqs[0] , iEEG_psd._freqs[-1]])\n",
    "        \n",
    "    fm2 = FOOOFGroup(**SETTINGS_F2)\n",
    "    fm2.fit(EEG_psd._freqs, Xn, [iEEG_psd._freqs[0] , iEEG_psd._freqs[-1]])\n",
    "            \n",
    "    # parameters exctract\n",
    "    N2_Kn[i,0:len(fm1.get_params('aperiodic_params','knee'))]  =fm1.get_params('aperiodic_params','knee')\n",
    "    N2_Exp[i,0:len(fm1.get_params('aperiodic_params','exponent'))] = fm1.get_params('aperiodic_params','exponent')\n",
    "    N2_Exp2[i,0:len(fm2.get_params('aperiodic_params','exponent'))] = fm2.get_params('aperiodic_params','exponent')\n",
    "     \n",
    "    i = i+1"
   ]
  },
  {
   "cell_type": "markdown",
   "id": "0cc16c6c",
   "metadata": {},
   "source": [
    "### Run FOOOF in N3"
   ]
  },
  {
   "cell_type": "code",
   "execution_count": null,
   "id": "13ec393c",
   "metadata": {},
   "outputs": [],
   "source": [
    "# N3\n",
    "# Set data path\n",
    "data_path = Path('/home/b1044271/Columbia/iEEG')\n",
    "# Set dataset\n",
    "dataset = 'N3_AllRegions'\n",
    "# Get list of files, which correspond to regions\n",
    "regions = np.sort(os.listdir(data_path / dataset))\n",
    "\n",
    "i =0\n",
    "for C, V in enumerate(regions):\n",
    "    \n",
    "    \n",
    "    if C == 0 or C== 8 or C==10 or C==35:\n",
    "        continue\n",
    "        \n",
    "    iEEG = mne.io.read_raw_edf(data_path / dataset / V)\n",
    "    iEEG_psd = iEEG.compute_psd(**SETTINGS_W)\n",
    "        \n",
    "    X = iEEG_psd._data.transpose(2,0,1)\n",
    "    Xn = X.reshape((X.shape[0]*X.shape[1]), X.shape[2])\n",
    "       \n",
    "    fm1 = FOOOFGroup(**SETTINGS_F1)\n",
    "    fm1.fit(iEEG_psd._freqs, Xn, [iEEG_psd._freqs[0] , iEEG_psd._freqs[-1]])\n",
    "        \n",
    "    fm2 = FOOOFGroup(**SETTINGS_F2)\n",
    "    fm2.fit(iEEG_psd._freqs, Xn, [iEEG_psd._freqs[0] , iEEG_psd._freqs[-1]])\n",
    "        \n",
    "    # parameters exctract\n",
    "    N3_Kn[i,0:len(fm1.get_params('aperiodic_params','knee'))]  = fm1.get_params('aperiodic_params','knee')\n",
    "    N3_Exp[i,0:len(fm1.get_params('aperiodic_params','exponent'))] = fm1.get_params('aperiodic_params','exponent')\n",
    "    N3_Exp2[i,0:len(fm2.get_params('aperiodic_params','exponent'))] = fm2.get_params('aperiodic_params','exponent')\n",
    "   \n",
    "    i = i+1"
   ]
  },
  {
   "cell_type": "markdown",
   "id": "fe6f926c",
   "metadata": {},
   "source": [
    "### Run FOOOF in REM"
   ]
  },
  {
   "cell_type": "code",
   "execution_count": null,
   "id": "d1c0d63f",
   "metadata": {},
   "outputs": [],
   "source": [
    "# REM \n",
    "# Set data path\n",
    "data_path = Path('/home/b1044271/Columbia/iEEG')\n",
    "# Set dataset\n",
    "dataset = 'REM_AllRegions'\n",
    "# Get list of files, which correspond to regions\n",
    "regions = np.sort(os.listdir(data_path / dataset))\n",
    "\n",
    "i =0\n",
    "for C, V in enumerate(regions):\n",
    "    \n",
    "    if C == 0 or C== 8 or C==10 or C==35:\n",
    "        continue\n",
    "        \n",
    "    iEEG = mne.io.read_raw_edf(data_path / dataset / V)\n",
    "    iEEG_psd = iEEG.compute_psd(**SETTINGS_W)\n",
    "    \n",
    "    X = iEEG_psd._data.transpose(2,0,1)\n",
    "    Xn = X.reshape((X.shape[0]*X.shape[1]), X.shape[2])\n",
    "       \n",
    "    fm1 = FOOOFGroup(**SETTINGS_F1)\n",
    "    fm1.fit(iEEG_psd._freqs, Xn, [iEEG_psd._freqs[0] , iEEG_psd._freqs[-1]])\n",
    "        \n",
    "    fm2 = FOOOFGroup(**SETTINGS_F2)\n",
    "    fm2.fit(iEEG_psd._freqs, Xn, [iEEG_psd._freqs[0] , iEEG_psd._freqs[-1]])\n",
    "            \n",
    "    # parameters exctract\n",
    "    R_Kn[i,0:len(fm1.get_params('aperiodic_params','knee'))]  = fm1.get_params('aperiodic_params','knee')\n",
    "    R_Exp[i,0:len(fm1.get_params('aperiodic_params','exponent'))] = fm1.get_params('aperiodic_params','exponent')\n",
    "    R_Exp2[i,0:len(fm2.get_params('aperiodic_params','exponent'))] = fm2.get_params('aperiodic_params','exponent')\n",
    "\n",
    "    i = i+1"
   ]
  },
  {
   "cell_type": "markdown",
   "id": "ed05706d",
   "metadata": {},
   "source": [
    "# KNEE calculations"
   ]
  },
  {
   "cell_type": "code",
   "execution_count": 14,
   "id": "1dbd20ea",
   "metadata": {},
   "outputs": [],
   "source": [
    "# Compute knee frequency\n",
    "Kn_W = compute_knee_frequency(W_Kn, W_Exp)\n",
    "Kn_N2 = compute_knee_frequency(N2_Kn, N2_Exp)\n",
    "Kn_N3 = compute_knee_frequency(N3_Kn, N3_Exp)\n",
    "Kn_R = compute_knee_frequency(R_Kn, R_Exp)"
   ]
  },
  {
   "cell_type": "markdown",
   "id": "2fcb9132",
   "metadata": {},
   "source": [
    "# Saving"
   ]
  },
  {
   "cell_type": "code",
   "execution_count": 25,
   "id": "ee894619",
   "metadata": {},
   "outputs": [],
   "source": [
    "decode_res_path = '/home/b1044271/Columbia/Results/Decoding/'\n",
    "\n",
    "np.save(decode_res_path + 'Exponent_Knee_W', W_Exp)\n",
    "np.save(decode_res_path + 'Exponent_Knee_N2', N2_Exp)\n",
    "np.save(decode_res_path + 'Exponent_Knee_N3', N3_Exp)\n",
    "np.save(decode_res_path + 'Exponent_Knee_R', R_Exp)\n",
    "\n",
    "np.save(decode_res_path + 'Exponent_Fixed_W', W_Exp2)\n",
    "np.save(decode_res_path + 'Exponent_Fixed_N2', N2_Exp2)\n",
    "np.save(decode_res_path + 'Exponent_Fixed_N3', N3_Exp2)\n",
    "np.save(decode_res_path + 'Exponent_Fixed_R', R_Exp2)\n",
    "\n",
    "np.save(decode_res_path + 'Frequency_Knee_W', Kn_W)\n",
    "np.save(decode_res_path + 'Frequency_Knee_N2', Kn_N2)\n",
    "np.save(decode_res_path + 'Frequency_Knee_N3', Kn_N3)\n",
    "np.save(decode_res_path + 'Frequency_Knee_R', Kn_R)"
   ]
  },
  {
   "cell_type": "markdown",
   "id": "5e88914f",
   "metadata": {},
   "source": [
    "# START HERE FOR LOADING DATA FOR DECODING"
   ]
  },
  {
   "cell_type": "markdown",
   "id": "6e40c4b5",
   "metadata": {},
   "source": [
    "## LOAD DATA"
   ]
  },
  {
   "cell_type": "code",
   "execution_count": 14,
   "id": "44439a8b",
   "metadata": {},
   "outputs": [],
   "source": [
    "decode_res_path = '/home/b1044271/Columbia/Results/Decoding/'\n",
    "\n",
    "W_exp  = np.load(decode_res_path + 'Exponent_Knee_W.npy')\n",
    "N2_exp = np.load(decode_res_path + 'Exponent_Knee_N2.npy')\n",
    "N3_exp = np.load(decode_res_path + 'Exponent_Knee_N3.npy')\n",
    "R_exp  = np.load(decode_res_path + 'Exponent_Knee_R.npy')\n",
    "\n",
    "W_exp2 = np.load(decode_res_path + 'Exponent_Fixed_W.npy')\n",
    "N2_exp2 = np.load(decode_res_path + 'Exponent_Fixed_N2.npy')\n",
    "N3_exp2 = np.load(decode_res_path + 'Exponent_Fixed_N3.npy')\n",
    "R_exp2 = np.load(decode_res_path + 'Exponent_Fixed_R.npy' )\n",
    "\n",
    "Kn_W = np.load(decode_res_path + 'Frequency_Knee_W.npy')\n",
    "Kn_N2 = np.load(decode_res_path + 'Frequency_Knee_N2.npy' )\n",
    "Kn_N3 = np.load(decode_res_path + 'Frequency_Knee_N3.npy')\n",
    "Kn_R = np.load(decode_res_path + 'Frequency_Knee_R.npy')"
   ]
  },
  {
   "cell_type": "markdown",
   "id": "edd9c6e9",
   "metadata": {},
   "source": [
    "## DECODING"
   ]
  },
  {
   "cell_type": "code",
   "execution_count": 12,
   "id": "cf262bf8",
   "metadata": {
    "collapsed": true
   },
   "outputs": [
    {
     "ename": "ValueError",
     "evalue": "Cannot have number of splits n_splits=5 greater than the number of samples: n_samples=0.",
     "output_type": "error",
     "traceback": [
      "\u001b[0;31m---------------------------------------------------------------------------\u001b[0m",
      "\u001b[0;31mEmpty\u001b[0m                                     Traceback (most recent call last)",
      "File \u001b[0;32m~/anaconda3/envs/mne/lib/python3.10/site-packages/joblib/parallel.py:862\u001b[0m, in \u001b[0;36mParallel.dispatch_one_batch\u001b[0;34m(self, iterator)\u001b[0m\n\u001b[1;32m    861\u001b[0m \u001b[38;5;28;01mtry\u001b[39;00m:\n\u001b[0;32m--> 862\u001b[0m     tasks \u001b[38;5;241m=\u001b[39m \u001b[38;5;28;43mself\u001b[39;49m\u001b[38;5;241;43m.\u001b[39;49m\u001b[43m_ready_batches\u001b[49m\u001b[38;5;241;43m.\u001b[39;49m\u001b[43mget\u001b[49m\u001b[43m(\u001b[49m\u001b[43mblock\u001b[49m\u001b[38;5;241;43m=\u001b[39;49m\u001b[38;5;28;43;01mFalse\u001b[39;49;00m\u001b[43m)\u001b[49m\n\u001b[1;32m    863\u001b[0m \u001b[38;5;28;01mexcept\u001b[39;00m queue\u001b[38;5;241m.\u001b[39mEmpty:\n\u001b[1;32m    864\u001b[0m     \u001b[38;5;66;03m# slice the iterator n_jobs * batchsize items at a time. If the\u001b[39;00m\n\u001b[1;32m    865\u001b[0m     \u001b[38;5;66;03m# slice returns less than that, then the current batchsize puts\u001b[39;00m\n\u001b[0;32m   (...)\u001b[0m\n\u001b[1;32m    868\u001b[0m     \u001b[38;5;66;03m# accordingly to distribute evenly the last items between all\u001b[39;00m\n\u001b[1;32m    869\u001b[0m     \u001b[38;5;66;03m# workers.\u001b[39;00m\n",
      "File \u001b[0;32m~/anaconda3/envs/mne/lib/python3.10/queue.py:168\u001b[0m, in \u001b[0;36mQueue.get\u001b[0;34m(self, block, timeout)\u001b[0m\n\u001b[1;32m    167\u001b[0m     \u001b[38;5;28;01mif\u001b[39;00m \u001b[38;5;129;01mnot\u001b[39;00m \u001b[38;5;28mself\u001b[39m\u001b[38;5;241m.\u001b[39m_qsize():\n\u001b[0;32m--> 168\u001b[0m         \u001b[38;5;28;01mraise\u001b[39;00m Empty\n\u001b[1;32m    169\u001b[0m \u001b[38;5;28;01melif\u001b[39;00m timeout \u001b[38;5;129;01mis\u001b[39;00m \u001b[38;5;28;01mNone\u001b[39;00m:\n",
      "\u001b[0;31mEmpty\u001b[0m: ",
      "\nDuring handling of the above exception, another exception occurred:\n",
      "\u001b[0;31mValueError\u001b[0m                                Traceback (most recent call last)",
      "Cell \u001b[0;32mIn [12], line 89\u001b[0m\n\u001b[1;32m     85\u001b[0m X3\u001b[38;5;241m=\u001b[39mKnee_value[:, \u001b[38;5;28;01mNone\u001b[39;00m]\n\u001b[1;32m     87\u001b[0m \u001b[38;5;66;03m################################################\u001b[39;00m\n\u001b[1;32m     88\u001b[0m \u001b[38;5;66;03m# Loop over the cross-validation folds and repetitions\u001b[39;00m\n\u001b[0;32m---> 89\u001b[0m lin_score \u001b[38;5;241m=\u001b[39m \u001b[43mcross_val_score\u001b[49m\u001b[43m(\u001b[49m\u001b[43mlda\u001b[49m\u001b[43m,\u001b[49m\u001b[43m \u001b[49m\u001b[43mX\u001b[49m\u001b[43m,\u001b[49m\u001b[43m \u001b[49m\u001b[43my\u001b[49m\u001b[43m,\u001b[49m\u001b[43m \u001b[49m\u001b[43mscoring\u001b[49m\u001b[43m \u001b[49m\u001b[38;5;241;43m=\u001b[39;49m\u001b[43m \u001b[49m\u001b[38;5;124;43m'\u001b[39;49m\u001b[38;5;124;43maccuracy\u001b[39;49m\u001b[38;5;124;43m'\u001b[39;49m\u001b[43m,\u001b[49m\u001b[43m \u001b[49m\u001b[43mcv\u001b[49m\u001b[43m \u001b[49m\u001b[38;5;241;43m=\u001b[39;49m\u001b[43m \u001b[49m\u001b[43mlin_method\u001b[49m\u001b[43m,\u001b[49m\u001b[43m \u001b[49m\u001b[43mn_jobs\u001b[49m\u001b[43m \u001b[49m\u001b[38;5;241;43m=\u001b[39;49m\u001b[43m \u001b[49m\u001b[38;5;241;43m-\u001b[39;49m\u001b[38;5;241;43m1\u001b[39;49m\u001b[43m)\u001b[49m\n\u001b[1;32m     90\u001b[0m \u001b[38;5;66;03m# Split the data into training and test sets\u001b[39;00m\n\u001b[1;32m     91\u001b[0m X_train, X_test , y_train, y_test \u001b[38;5;241m=\u001b[39m train_test_split(X, y, test_size\u001b[38;5;241m=\u001b[39m\u001b[38;5;241m0.2\u001b[39m)\n",
      "File \u001b[0;32m~/anaconda3/envs/mne/lib/python3.10/site-packages/sklearn/model_selection/_validation.py:515\u001b[0m, in \u001b[0;36mcross_val_score\u001b[0;34m(estimator, X, y, groups, scoring, cv, n_jobs, verbose, fit_params, pre_dispatch, error_score)\u001b[0m\n\u001b[1;32m    512\u001b[0m \u001b[38;5;66;03m# To ensure multimetric format is not supported\u001b[39;00m\n\u001b[1;32m    513\u001b[0m scorer \u001b[38;5;241m=\u001b[39m check_scoring(estimator, scoring\u001b[38;5;241m=\u001b[39mscoring)\n\u001b[0;32m--> 515\u001b[0m cv_results \u001b[38;5;241m=\u001b[39m \u001b[43mcross_validate\u001b[49m\u001b[43m(\u001b[49m\n\u001b[1;32m    516\u001b[0m \u001b[43m    \u001b[49m\u001b[43mestimator\u001b[49m\u001b[38;5;241;43m=\u001b[39;49m\u001b[43mestimator\u001b[49m\u001b[43m,\u001b[49m\n\u001b[1;32m    517\u001b[0m \u001b[43m    \u001b[49m\u001b[43mX\u001b[49m\u001b[38;5;241;43m=\u001b[39;49m\u001b[43mX\u001b[49m\u001b[43m,\u001b[49m\n\u001b[1;32m    518\u001b[0m \u001b[43m    \u001b[49m\u001b[43my\u001b[49m\u001b[38;5;241;43m=\u001b[39;49m\u001b[43my\u001b[49m\u001b[43m,\u001b[49m\n\u001b[1;32m    519\u001b[0m \u001b[43m    \u001b[49m\u001b[43mgroups\u001b[49m\u001b[38;5;241;43m=\u001b[39;49m\u001b[43mgroups\u001b[49m\u001b[43m,\u001b[49m\n\u001b[1;32m    520\u001b[0m \u001b[43m    \u001b[49m\u001b[43mscoring\u001b[49m\u001b[38;5;241;43m=\u001b[39;49m\u001b[43m{\u001b[49m\u001b[38;5;124;43m\"\u001b[39;49m\u001b[38;5;124;43mscore\u001b[39;49m\u001b[38;5;124;43m\"\u001b[39;49m\u001b[43m:\u001b[49m\u001b[43m \u001b[49m\u001b[43mscorer\u001b[49m\u001b[43m}\u001b[49m\u001b[43m,\u001b[49m\n\u001b[1;32m    521\u001b[0m \u001b[43m    \u001b[49m\u001b[43mcv\u001b[49m\u001b[38;5;241;43m=\u001b[39;49m\u001b[43mcv\u001b[49m\u001b[43m,\u001b[49m\n\u001b[1;32m    522\u001b[0m \u001b[43m    \u001b[49m\u001b[43mn_jobs\u001b[49m\u001b[38;5;241;43m=\u001b[39;49m\u001b[43mn_jobs\u001b[49m\u001b[43m,\u001b[49m\n\u001b[1;32m    523\u001b[0m \u001b[43m    \u001b[49m\u001b[43mverbose\u001b[49m\u001b[38;5;241;43m=\u001b[39;49m\u001b[43mverbose\u001b[49m\u001b[43m,\u001b[49m\n\u001b[1;32m    524\u001b[0m \u001b[43m    \u001b[49m\u001b[43mfit_params\u001b[49m\u001b[38;5;241;43m=\u001b[39;49m\u001b[43mfit_params\u001b[49m\u001b[43m,\u001b[49m\n\u001b[1;32m    525\u001b[0m \u001b[43m    \u001b[49m\u001b[43mpre_dispatch\u001b[49m\u001b[38;5;241;43m=\u001b[39;49m\u001b[43mpre_dispatch\u001b[49m\u001b[43m,\u001b[49m\n\u001b[1;32m    526\u001b[0m \u001b[43m    \u001b[49m\u001b[43merror_score\u001b[49m\u001b[38;5;241;43m=\u001b[39;49m\u001b[43merror_score\u001b[49m\u001b[43m,\u001b[49m\n\u001b[1;32m    527\u001b[0m \u001b[43m\u001b[49m\u001b[43m)\u001b[49m\n\u001b[1;32m    528\u001b[0m \u001b[38;5;28;01mreturn\u001b[39;00m cv_results[\u001b[38;5;124m\"\u001b[39m\u001b[38;5;124mtest_score\u001b[39m\u001b[38;5;124m\"\u001b[39m]\n",
      "File \u001b[0;32m~/anaconda3/envs/mne/lib/python3.10/site-packages/sklearn/model_selection/_validation.py:266\u001b[0m, in \u001b[0;36mcross_validate\u001b[0;34m(estimator, X, y, groups, scoring, cv, n_jobs, verbose, fit_params, pre_dispatch, return_train_score, return_estimator, error_score)\u001b[0m\n\u001b[1;32m    263\u001b[0m \u001b[38;5;66;03m# We clone the estimator to make sure that all the folds are\u001b[39;00m\n\u001b[1;32m    264\u001b[0m \u001b[38;5;66;03m# independent, and that it is pickle-able.\u001b[39;00m\n\u001b[1;32m    265\u001b[0m parallel \u001b[38;5;241m=\u001b[39m Parallel(n_jobs\u001b[38;5;241m=\u001b[39mn_jobs, verbose\u001b[38;5;241m=\u001b[39mverbose, pre_dispatch\u001b[38;5;241m=\u001b[39mpre_dispatch)\n\u001b[0;32m--> 266\u001b[0m results \u001b[38;5;241m=\u001b[39m \u001b[43mparallel\u001b[49m\u001b[43m(\u001b[49m\n\u001b[1;32m    267\u001b[0m \u001b[43m    \u001b[49m\u001b[43mdelayed\u001b[49m\u001b[43m(\u001b[49m\u001b[43m_fit_and_score\u001b[49m\u001b[43m)\u001b[49m\u001b[43m(\u001b[49m\n\u001b[1;32m    268\u001b[0m \u001b[43m        \u001b[49m\u001b[43mclone\u001b[49m\u001b[43m(\u001b[49m\u001b[43mestimator\u001b[49m\u001b[43m)\u001b[49m\u001b[43m,\u001b[49m\n\u001b[1;32m    269\u001b[0m \u001b[43m        \u001b[49m\u001b[43mX\u001b[49m\u001b[43m,\u001b[49m\n\u001b[1;32m    270\u001b[0m \u001b[43m        \u001b[49m\u001b[43my\u001b[49m\u001b[43m,\u001b[49m\n\u001b[1;32m    271\u001b[0m \u001b[43m        \u001b[49m\u001b[43mscorers\u001b[49m\u001b[43m,\u001b[49m\n\u001b[1;32m    272\u001b[0m \u001b[43m        \u001b[49m\u001b[43mtrain\u001b[49m\u001b[43m,\u001b[49m\n\u001b[1;32m    273\u001b[0m \u001b[43m        \u001b[49m\u001b[43mtest\u001b[49m\u001b[43m,\u001b[49m\n\u001b[1;32m    274\u001b[0m \u001b[43m        \u001b[49m\u001b[43mverbose\u001b[49m\u001b[43m,\u001b[49m\n\u001b[1;32m    275\u001b[0m \u001b[43m        \u001b[49m\u001b[38;5;28;43;01mNone\u001b[39;49;00m\u001b[43m,\u001b[49m\n\u001b[1;32m    276\u001b[0m \u001b[43m        \u001b[49m\u001b[43mfit_params\u001b[49m\u001b[43m,\u001b[49m\n\u001b[1;32m    277\u001b[0m \u001b[43m        \u001b[49m\u001b[43mreturn_train_score\u001b[49m\u001b[38;5;241;43m=\u001b[39;49m\u001b[43mreturn_train_score\u001b[49m\u001b[43m,\u001b[49m\n\u001b[1;32m    278\u001b[0m \u001b[43m        \u001b[49m\u001b[43mreturn_times\u001b[49m\u001b[38;5;241;43m=\u001b[39;49m\u001b[38;5;28;43;01mTrue\u001b[39;49;00m\u001b[43m,\u001b[49m\n\u001b[1;32m    279\u001b[0m \u001b[43m        \u001b[49m\u001b[43mreturn_estimator\u001b[49m\u001b[38;5;241;43m=\u001b[39;49m\u001b[43mreturn_estimator\u001b[49m\u001b[43m,\u001b[49m\n\u001b[1;32m    280\u001b[0m \u001b[43m        \u001b[49m\u001b[43merror_score\u001b[49m\u001b[38;5;241;43m=\u001b[39;49m\u001b[43merror_score\u001b[49m\u001b[43m,\u001b[49m\n\u001b[1;32m    281\u001b[0m \u001b[43m    \u001b[49m\u001b[43m)\u001b[49m\n\u001b[1;32m    282\u001b[0m \u001b[43m    \u001b[49m\u001b[38;5;28;43;01mfor\u001b[39;49;00m\u001b[43m \u001b[49m\u001b[43mtrain\u001b[49m\u001b[43m,\u001b[49m\u001b[43m \u001b[49m\u001b[43mtest\u001b[49m\u001b[43m \u001b[49m\u001b[38;5;129;43;01min\u001b[39;49;00m\u001b[43m \u001b[49m\u001b[43mcv\u001b[49m\u001b[38;5;241;43m.\u001b[39;49m\u001b[43msplit\u001b[49m\u001b[43m(\u001b[49m\u001b[43mX\u001b[49m\u001b[43m,\u001b[49m\u001b[43m \u001b[49m\u001b[43my\u001b[49m\u001b[43m,\u001b[49m\u001b[43m \u001b[49m\u001b[43mgroups\u001b[49m\u001b[43m)\u001b[49m\n\u001b[1;32m    283\u001b[0m \u001b[43m\u001b[49m\u001b[43m)\u001b[49m\n\u001b[1;32m    285\u001b[0m _warn_or_raise_about_fit_failures(results, error_score)\n\u001b[1;32m    287\u001b[0m \u001b[38;5;66;03m# For callabe scoring, the return type is only know after calling. If the\u001b[39;00m\n\u001b[1;32m    288\u001b[0m \u001b[38;5;66;03m# return type is a dictionary, the error scores can now be inserted with\u001b[39;00m\n\u001b[1;32m    289\u001b[0m \u001b[38;5;66;03m# the correct key.\u001b[39;00m\n",
      "File \u001b[0;32m~/anaconda3/envs/mne/lib/python3.10/site-packages/joblib/parallel.py:1085\u001b[0m, in \u001b[0;36mParallel.__call__\u001b[0;34m(self, iterable)\u001b[0m\n\u001b[1;32m   1076\u001b[0m \u001b[38;5;28;01mtry\u001b[39;00m:\n\u001b[1;32m   1077\u001b[0m     \u001b[38;5;66;03m# Only set self._iterating to True if at least a batch\u001b[39;00m\n\u001b[1;32m   1078\u001b[0m     \u001b[38;5;66;03m# was dispatched. In particular this covers the edge\u001b[39;00m\n\u001b[0;32m   (...)\u001b[0m\n\u001b[1;32m   1082\u001b[0m     \u001b[38;5;66;03m# was very quick and its callback already dispatched all the\u001b[39;00m\n\u001b[1;32m   1083\u001b[0m     \u001b[38;5;66;03m# remaining jobs.\u001b[39;00m\n\u001b[1;32m   1084\u001b[0m     \u001b[38;5;28mself\u001b[39m\u001b[38;5;241m.\u001b[39m_iterating \u001b[38;5;241m=\u001b[39m \u001b[38;5;28;01mFalse\u001b[39;00m\n\u001b[0;32m-> 1085\u001b[0m     \u001b[38;5;28;01mif\u001b[39;00m \u001b[38;5;28;43mself\u001b[39;49m\u001b[38;5;241;43m.\u001b[39;49m\u001b[43mdispatch_one_batch\u001b[49m\u001b[43m(\u001b[49m\u001b[43miterator\u001b[49m\u001b[43m)\u001b[49m:\n\u001b[1;32m   1086\u001b[0m         \u001b[38;5;28mself\u001b[39m\u001b[38;5;241m.\u001b[39m_iterating \u001b[38;5;241m=\u001b[39m \u001b[38;5;28mself\u001b[39m\u001b[38;5;241m.\u001b[39m_original_iterator \u001b[38;5;129;01mis\u001b[39;00m \u001b[38;5;129;01mnot\u001b[39;00m \u001b[38;5;28;01mNone\u001b[39;00m\n\u001b[1;32m   1088\u001b[0m     \u001b[38;5;28;01mwhile\u001b[39;00m \u001b[38;5;28mself\u001b[39m\u001b[38;5;241m.\u001b[39mdispatch_one_batch(iterator):\n",
      "File \u001b[0;32m~/anaconda3/envs/mne/lib/python3.10/site-packages/joblib/parallel.py:873\u001b[0m, in \u001b[0;36mParallel.dispatch_one_batch\u001b[0;34m(self, iterator)\u001b[0m\n\u001b[1;32m    870\u001b[0m n_jobs \u001b[38;5;241m=\u001b[39m \u001b[38;5;28mself\u001b[39m\u001b[38;5;241m.\u001b[39m_cached_effective_n_jobs\n\u001b[1;32m    871\u001b[0m big_batch_size \u001b[38;5;241m=\u001b[39m batch_size \u001b[38;5;241m*\u001b[39m n_jobs\n\u001b[0;32m--> 873\u001b[0m islice \u001b[38;5;241m=\u001b[39m \u001b[38;5;28;43mlist\u001b[39;49m\u001b[43m(\u001b[49m\u001b[43mitertools\u001b[49m\u001b[38;5;241;43m.\u001b[39;49m\u001b[43mislice\u001b[49m\u001b[43m(\u001b[49m\u001b[43miterator\u001b[49m\u001b[43m,\u001b[49m\u001b[43m \u001b[49m\u001b[43mbig_batch_size\u001b[49m\u001b[43m)\u001b[49m\u001b[43m)\u001b[49m\n\u001b[1;32m    874\u001b[0m \u001b[38;5;28;01mif\u001b[39;00m \u001b[38;5;28mlen\u001b[39m(islice) \u001b[38;5;241m==\u001b[39m \u001b[38;5;241m0\u001b[39m:\n\u001b[1;32m    875\u001b[0m     \u001b[38;5;28;01mreturn\u001b[39;00m \u001b[38;5;28;01mFalse\u001b[39;00m\n",
      "File \u001b[0;32m~/anaconda3/envs/mne/lib/python3.10/site-packages/sklearn/model_selection/_validation.py:266\u001b[0m, in \u001b[0;36m<genexpr>\u001b[0;34m(.0)\u001b[0m\n\u001b[1;32m    263\u001b[0m \u001b[38;5;66;03m# We clone the estimator to make sure that all the folds are\u001b[39;00m\n\u001b[1;32m    264\u001b[0m \u001b[38;5;66;03m# independent, and that it is pickle-able.\u001b[39;00m\n\u001b[1;32m    265\u001b[0m parallel \u001b[38;5;241m=\u001b[39m Parallel(n_jobs\u001b[38;5;241m=\u001b[39mn_jobs, verbose\u001b[38;5;241m=\u001b[39mverbose, pre_dispatch\u001b[38;5;241m=\u001b[39mpre_dispatch)\n\u001b[0;32m--> 266\u001b[0m results \u001b[38;5;241m=\u001b[39m parallel(\n\u001b[1;32m    267\u001b[0m     delayed(_fit_and_score)(\n\u001b[1;32m    268\u001b[0m         clone(estimator),\n\u001b[1;32m    269\u001b[0m         X,\n\u001b[1;32m    270\u001b[0m         y,\n\u001b[1;32m    271\u001b[0m         scorers,\n\u001b[1;32m    272\u001b[0m         train,\n\u001b[1;32m    273\u001b[0m         test,\n\u001b[1;32m    274\u001b[0m         verbose,\n\u001b[1;32m    275\u001b[0m         \u001b[38;5;28;01mNone\u001b[39;00m,\n\u001b[1;32m    276\u001b[0m         fit_params,\n\u001b[1;32m    277\u001b[0m         return_train_score\u001b[38;5;241m=\u001b[39mreturn_train_score,\n\u001b[1;32m    278\u001b[0m         return_times\u001b[38;5;241m=\u001b[39m\u001b[38;5;28;01mTrue\u001b[39;00m,\n\u001b[1;32m    279\u001b[0m         return_estimator\u001b[38;5;241m=\u001b[39mreturn_estimator,\n\u001b[1;32m    280\u001b[0m         error_score\u001b[38;5;241m=\u001b[39merror_score,\n\u001b[1;32m    281\u001b[0m     )\n\u001b[1;32m    282\u001b[0m     \u001b[38;5;28;01mfor\u001b[39;00m train, test \u001b[38;5;129;01min\u001b[39;00m cv\u001b[38;5;241m.\u001b[39msplit(X, y, groups)\n\u001b[1;32m    283\u001b[0m )\n\u001b[1;32m    285\u001b[0m _warn_or_raise_about_fit_failures(results, error_score)\n\u001b[1;32m    287\u001b[0m \u001b[38;5;66;03m# For callabe scoring, the return type is only know after calling. If the\u001b[39;00m\n\u001b[1;32m    288\u001b[0m \u001b[38;5;66;03m# return type is a dictionary, the error scores can now be inserted with\u001b[39;00m\n\u001b[1;32m    289\u001b[0m \u001b[38;5;66;03m# the correct key.\u001b[39;00m\n",
      "File \u001b[0;32m~/anaconda3/envs/mne/lib/python3.10/site-packages/sklearn/model_selection/_split.py:1433\u001b[0m, in \u001b[0;36m_RepeatedSplits.split\u001b[0;34m(self, X, y, groups)\u001b[0m\n\u001b[1;32m   1431\u001b[0m \u001b[38;5;28;01mfor\u001b[39;00m idx \u001b[38;5;129;01min\u001b[39;00m \u001b[38;5;28mrange\u001b[39m(n_repeats):\n\u001b[1;32m   1432\u001b[0m     cv \u001b[38;5;241m=\u001b[39m \u001b[38;5;28mself\u001b[39m\u001b[38;5;241m.\u001b[39mcv(random_state\u001b[38;5;241m=\u001b[39mrng, shuffle\u001b[38;5;241m=\u001b[39m\u001b[38;5;28;01mTrue\u001b[39;00m, \u001b[38;5;241m*\u001b[39m\u001b[38;5;241m*\u001b[39m\u001b[38;5;28mself\u001b[39m\u001b[38;5;241m.\u001b[39mcvargs)\n\u001b[0;32m-> 1433\u001b[0m     \u001b[38;5;28;01mfor\u001b[39;00m train_index, test_index \u001b[38;5;129;01min\u001b[39;00m cv\u001b[38;5;241m.\u001b[39msplit(X, y, groups):\n\u001b[1;32m   1434\u001b[0m         \u001b[38;5;28;01myield\u001b[39;00m train_index, test_index\n",
      "File \u001b[0;32m~/anaconda3/envs/mne/lib/python3.10/site-packages/sklearn/model_selection/_split.py:333\u001b[0m, in \u001b[0;36m_BaseKFold.split\u001b[0;34m(self, X, y, groups)\u001b[0m\n\u001b[1;32m    331\u001b[0m n_samples \u001b[38;5;241m=\u001b[39m _num_samples(X)\n\u001b[1;32m    332\u001b[0m \u001b[38;5;28;01mif\u001b[39;00m \u001b[38;5;28mself\u001b[39m\u001b[38;5;241m.\u001b[39mn_splits \u001b[38;5;241m>\u001b[39m n_samples:\n\u001b[0;32m--> 333\u001b[0m     \u001b[38;5;28;01mraise\u001b[39;00m \u001b[38;5;167;01mValueError\u001b[39;00m(\n\u001b[1;32m    334\u001b[0m         (\n\u001b[1;32m    335\u001b[0m             \u001b[38;5;124m\"\u001b[39m\u001b[38;5;124mCannot have number of splits n_splits=\u001b[39m\u001b[38;5;132;01m{0}\u001b[39;00m\u001b[38;5;124m greater\u001b[39m\u001b[38;5;124m\"\u001b[39m\n\u001b[1;32m    336\u001b[0m             \u001b[38;5;124m\"\u001b[39m\u001b[38;5;124m than the number of samples: n_samples=\u001b[39m\u001b[38;5;132;01m{1}\u001b[39;00m\u001b[38;5;124m.\u001b[39m\u001b[38;5;124m\"\u001b[39m\n\u001b[1;32m    337\u001b[0m         )\u001b[38;5;241m.\u001b[39mformat(\u001b[38;5;28mself\u001b[39m\u001b[38;5;241m.\u001b[39mn_splits, n_samples)\n\u001b[1;32m    338\u001b[0m     )\n\u001b[1;32m    340\u001b[0m \u001b[38;5;28;01mfor\u001b[39;00m train, test \u001b[38;5;129;01min\u001b[39;00m \u001b[38;5;28msuper\u001b[39m()\u001b[38;5;241m.\u001b[39msplit(X, y, groups):\n\u001b[1;32m    341\u001b[0m     \u001b[38;5;28;01myield\u001b[39;00m train, test\n",
      "\u001b[0;31mValueError\u001b[0m: Cannot have number of splits n_splits=5 greater than the number of samples: n_samples=0."
     ]
    }
   ],
   "source": [
    "# repititions \n",
    "lin_method = RepeatedStratifiedKFold (n_splits = 5, n_repeats = 2, random_state = 1)\n",
    "\n",
    "# Set up the repeated k-fold cross-validation\n",
    "lin_method = RepeatedKFold(n_splits=5, n_repeats=2)\n",
    "\n",
    "\n",
    "random.seed(0)\n",
    "np.random.seed(0)\n",
    "\n",
    "trials=np.zeros(34)*np.nan\n",
    "\n",
    "accuracy_K=[]\n",
    "accuracy_F=[]\n",
    "accuracy_knee=[]\n",
    "\n",
    "\n",
    "for i in np.arange(34):\n",
    "\n",
    "    # Initialize the LDA classifier\n",
    "    lda = LinearDiscriminantAnalysis()\n",
    " ##################################################   \n",
    "    # DATA\n",
    "    W_exp   = W_Exp[i][~np.isnan(W_Exp[i])]\n",
    "    W_knee  = Kn_W[i][~np.isnan(Kn_W[i])]\n",
    "    mask = np.isfinite(W_knee)\n",
    "    W_knee = W_knee[mask]\n",
    "    W_exp2  = W_Exp2[i][~np.isnan(W_Exp2[i])]\n",
    "\n",
    "    N2_exp   = N2_Exp[i][~np.isnan(N2_Exp[i])]\n",
    "    N2_knee  = Kn_N2[i][~np.isnan(Kn_N2[i])]\n",
    "    N2_exp2  = N2_Exp2[i][~np.isnan(N2_Exp2[i])]\n",
    "\n",
    "    N3_exp   = N3_Exp[i][~np.isnan(N3_Exp[i])]\n",
    "    N3_knee  = Kn_N3[i][~np.isnan(Kn_N3[i])]\n",
    "    N3_exp2  = N3_Exp2[i][~np.isnan(N3_Exp2[i])]\n",
    "\n",
    "    R_exp   = R_Exp[i][~np.isnan(R_Exp[i])]\n",
    "    R_knee  = Kn_R[i][~np.isnan(Kn_R[i])]\n",
    "    R_exp2  = R_Exp2[i][~np.isnan(R_Exp2[i])]\n",
    "\n",
    "    ###################################################\n",
    "         # equate number of trials per stage\n",
    "    L  = min([len(W_exp) ,  len(N2_exp), len(N3_exp),  len(R_exp),\n",
    "               len(W_knee) , len(N2_knee), len(N3_knee),  len(R_knee),\n",
    "               len(W_exp2) , len(N2_exp2), len(N3_exp2),  len(R_exp2)])\n",
    "    \n",
    "    trials[i] = L\n",
    "    \n",
    "    W_exp  = W_exp[random.sample(range(0, len(W_exp)), L)] \n",
    "    l1  = np.ones(len(W_exp))\n",
    " \n",
    "    N2_exp = N2_exp[random.sample(range(0, len(N2_exp)), L)]\n",
    "    l2  = np.ones(len(N2_exp))*2\n",
    "\n",
    "    N3_exp = N3_exp[random.sample(range(0, len(N3_exp)), L)]\n",
    "    l3  = np.ones(len(N3_exp))*3\n",
    "    \n",
    "    R_exp  = R_exp[random.sample(range(0, len(R_exp)), L)]\n",
    "    l4  = np.ones(len(R_exp))*4\n",
    "    \n",
    "    #########################################\n",
    "    W_exp2  = W_exp2[random.sample(range(0, len(W_exp2)), L)] \n",
    "    N2_exp2 = N2_exp2[random.sample(range(0, len(N2_exp2)), L)]\n",
    "    N3_exp2 = N3_exp2[random.sample(range(0, len(N3_exp2)), L)]\n",
    "    R_exp2  = R_exp2[random.sample(range(0, len(R_exp2)), L)]\n",
    "\n",
    "    ############################################    \n",
    "    W_knee  = W_knee[random.sample(range(0, len(W_knee)), L)] \n",
    "    N2_knee = N2_knee[random.sample(range(0, len(N2_knee)), L)]  \n",
    "    N3_knee = N3_knee[random.sample(range(0, len(N3_knee)), L)]\n",
    "    R_knee  = R_knee[random.sample(range(0, len(R_knee)), L)]\n",
    "\n",
    "    \n",
    "    Knee_model  = np.concatenate((W_exp,N2_exp,N3_exp,R_exp))\n",
    "    Fixed_model  = np.concatenate((W_exp2,N2_exp2,N3_exp2,R_exp2))\n",
    "    Knee_value  = np.concatenate((W_knee,N2_knee,N3_knee,R_knee))\n",
    "\n",
    "    y = np.concatenate((l1,l2,l3,l4))\n",
    "    ###########################################\n",
    "    \n",
    "    # make the 1d array a 2d array (req for scikit learn)\n",
    "    X=Knee_model[:, None]\n",
    "    X2=Fixed_model[:, None]\n",
    "    X3=Knee_value[:, None]\n",
    "\n",
    "    ################################################\n",
    "    # Loop over the cross-validation folds and repetitions\n",
    "    lin_score = cross_val_score(lda, X, y, scoring = 'accuracy', cv = lin_method, n_jobs = -1)\n",
    "    # Split the data into training and test sets\n",
    "    X_train, X_test , y_train, y_test = train_test_split(X, y, test_size=0.2)\n",
    "    # Fit the LDA model on the training data\n",
    "    lda.fit(X_train, y_train)\n",
    "    # Evaluate the model on the test data\n",
    "    accuracy_K.append(lda.score(X_test, y_test))\n",
    "    \n",
    "\n",
    "    # Initialize the LDA classifier\n",
    "    lda2 = LinearDiscriminantAnalysis()\n",
    "    # Loop over the cross-validation folds and repetitions\n",
    "    lin_score2 = cross_val_score(lda2, X2, y, scoring = 'accuracy', cv = lin_method, n_jobs = -1)\n",
    "    # Split the data into training and test sets\n",
    "    X_train2, X_test2 , y_train2, y_test2 = train_test_split(X2, y, test_size=0.2)\n",
    "    # Fit the LDA model on the training data\n",
    "    lda2.fit(X_train2, y_train2)\n",
    "    # Evaluate the model on the test data\n",
    "    accuracy_F.append(lda2.score(X_test2, y_test2))\n",
    "    \n",
    "    # Initialize the LDA classifier\n",
    "    lda3 = LinearDiscriminantAnalysis()\n",
    "    # Loop over the cross-validation folds and repetitions\n",
    "    lin_score3 = cross_val_score(lda3, X3, y, scoring = 'accuracy', cv = lin_method, n_jobs = -1)\n",
    "    # Split the data into training and test sets\n",
    "    X_train3, X_test3 , y_train3, y_test3 = train_test_split(X3, y, test_size=0.2)\n",
    "    # Fit the LDA model on the training data\n",
    "    lda3.fit(X_train3, y_train3)\n",
    "    # Evaluate the model on the test data\n",
    "    accuracy_knee.append(lda3.score(X_test3, y_test3))\n",
    "\n",
    "trials"
   ]
  },
  {
   "cell_type": "markdown",
   "id": "67cf7f1d",
   "metadata": {},
   "source": [
    "# STATS"
   ]
  },
  {
   "cell_type": "code",
   "execution_count": 92,
   "id": "fd87b187",
   "metadata": {},
   "outputs": [
    {
     "data": {
      "text/plain": [
       "array([0., 0., 0.])"
      ]
     },
     "execution_count": 92,
     "metadata": {},
     "output_type": "execute_result"
    }
   ],
   "source": [
    "# FIRST PERMUTATION\n",
    "\n",
    "from utils import calculate_t_statistic, calculate_cohens_d, perform_permutation_test\n",
    "\n",
    "ACC = [accuracy_knee,accuracy_K, accuracy_F]\n",
    "\n",
    "# Specify the number of permutations\n",
    "num_permutations = 10000\n",
    "\n",
    "tvalue=np.zeros(3)\n",
    "pvalue=np.zeros(3)\n",
    "cohend=np.zeros(3)\n",
    "for i in np.arange(len(ACC)):\n",
    "    X = ACC[i]\n",
    "    # Perform the permutation test\n",
    "    tvalue[i],pvalue[i],cohend[i] = perform_permutation_test(X, np.ones(34)*0.25, num_permutations)\n",
    "\n",
    "pvalue_bonf = pvalue * len(ACC)\n",
    "\n",
    "pvalue_bonf"
   ]
  },
  {
   "cell_type": "code",
   "execution_count": 96,
   "id": "a20fbec9",
   "metadata": {
    "collapsed": true
   },
   "outputs": [
    {
     "data": {
      "image/png": "[encoded data removed]",
      "text/plain": [
       "<Figure size 640x480 with 1 Axes>"
      ]
     },
     "metadata": {},
     "output_type": "display_data"
    }
   ],
   "source": [
    "# THEN FRIEDMAN\n",
    "# Decoding stats repeated measures\n",
    "data = pd.DataFrame(np.transpose(ACC))\n",
    "\n",
    "friedman_result, W, posthoc_result, z_values, effect_sizes, corrected_p_values = friedman_dunns(data)\n",
    "\n",
    "# Change the column names\n",
    "effect_sizes.columns =['Knee', 'Exp_K', 'Exp_F']\n",
    "corrected_p_values.columns = ['Knee', 'Exp_K', 'Exp_F']\n",
    "# Change the row indexes\n",
    "effect_sizes.index = ['Knee', 'Exp_K', 'Exp_F']\n",
    "corrected_p_values.index = ['Knee', 'Exp_K', 'Exp_F']\n",
    "\n",
    "ax = plt.subplot(111, frame_on=False) # no visible frame\n",
    "table(ax, effect_sizes)  # where df is your data frame\n",
    "ax.xaxis.set_visible(False)  # hide the x axis\n",
    "ax.yaxis.set_visible(False)  # hide the y axis\n",
    "plt.savefig('/home/b1044271/Columbia/Plots/NOV23/Stats/Decode_iEEG_effectS.svg')\n",
    "\n",
    "ax = plt.subplot(111, frame_on=False) # no visible frame\n",
    "table(ax, corrected_p_values)  # where df is your data frame\n",
    "ax.xaxis.set_visible(False)  # hide the x axis\n",
    "ax.yaxis.set_visible(False)  # hide the y axis\n",
    "plt.savefig('/home/b1044271/Columbia/Plots/NOV23/Stats/Decode_iEEG_Pvalues.svg')"
   ]
  },
  {
   "cell_type": "markdown",
   "id": "da449773",
   "metadata": {},
   "source": [
    "# Plotting Accuracies"
   ]
  },
  {
   "cell_type": "code",
   "execution_count": 95,
   "id": "51556f61",
   "metadata": {},
   "outputs": [
    {
     "data": {
      "image/png": "[encoded data removed]",
      "text/plain": [
       "<Figure size 300x300 with 1 Axes>"
      ]
     },
     "metadata": {},
     "output_type": "display_data"
    }
   ],
   "source": [
    "array_list6 = [accuracy_knee,accuracy_K, accuracy_F]\n",
    "colors = ['black', 'grey', 'silver']\n",
    "\n",
    "import seaborn\n",
    "titles =  ['knee freq','exponent - knee','exponent - fixed']\n",
    "\n",
    "\n",
    "ax = plt.figure(figsize=(3,3))  \n",
    "\n",
    "ax = seaborn.swarmplot(data=array_list6, palette = colors);\n",
    "ax.set_xticklabels(titles)\n",
    "\n",
    "seaborn.scatterplot(x=[0,1,2], y=np.mean(array_list6,1), marker='X', color='black', s=100, zorder=4, legend=False);\n",
    "plt.plot([array_list6[0], array_list6[1], array_list6[2]], color = 'grey', linewidth = 0.25, linestyle = '-');\n",
    "ax.axhline(y=0.25, color='black', linestyle='--');\n",
    "\n",
    "plt.title('Stages decoding', fontsize = 24)\n",
    "plt.ylabel('accuracy (a.u.)',fontsize=20)\n",
    "\n",
    "plt.ylim(-0.05, 0.85)\n",
    "plt.xticks(fontsize=18)\n",
    "plt.yticks(fontsize=18)\n",
    "\n",
    "ax.spines['top'].set_visible(False)\n",
    "ax.spines['right'].set_visible(False)\n",
    "ax.tick_params(axis='both', which='both', direction='in', width=1.5, labelsize=16)  # Customize tick properties\n",
    "ax.spines['bottom'].set_linewidth(1.5)\n",
    "ax.spines['left'].set_linewidth(1.5)\n",
    "\n",
    "\n",
    "#plt.savefig(\"/home/b1044271/Columbia/Plots/NOV23/iEEG_decoding.svg\", dpi = 600)"
   ]
  },
  {
   "cell_type": "markdown",
   "id": "27c22398",
   "metadata": {},
   "source": [
    "## Using Knee and Exponent to Predict stages"
   ]
  },
  {
   "cell_type": "markdown",
   "id": "c58902e0",
   "metadata": {},
   "source": [
    "### We will use a random forest classifier to gain info on which feature is better"
   ]
  },
  {
   "cell_type": "code",
   "execution_count": 40,
   "id": "5dce8b7b",
   "metadata": {},
   "outputs": [
    {
     "data": {
      "text/plain": [
       "array([220., 135., 228.,  51., 208., 128., 108., 160., 107., 208.,  93.,\n",
       "        61.,  70.,  82., 144., 721., 474., 130.,  91.,  71.,  89., 216.,\n",
       "        94.,  96., 410., 184.,  86., 427., 205., 325., 176., 270.,  21.,\n",
       "       187.])"
      ]
     },
     "execution_count": 40,
     "metadata": {},
     "output_type": "execute_result"
    }
   ],
   "source": [
    "# import random forest \n",
    "from sklearn.ensemble import RandomForestClassifier\n",
    "\n",
    "# Set up the repeated k-fold cross-validation\n",
    "lin_method = RepeatedKFold(n_splits=5, n_repeats=2)\n",
    "\n",
    "# reset seed for replicability\n",
    "random.seed(0)\n",
    "np.random.seed(0)\n",
    "\n",
    "# add empty vectors for results\n",
    "trials=np.zeros(34)*np.nan\n",
    "\n",
    "accuracy_KE=[]\n",
    "\n",
    "\n",
    "# start loop\n",
    "for i in np.arange(34):\n",
    "    \n",
    "\n",
    " ##################################################   \n",
    "    # DATA\n",
    "    W_exp   = W_Exp[i][~np.isnan(W_Exp[i])]\n",
    "    W_knee  = Kn_W[i][~np.isnan(Kn_W[i])]\n",
    "    mask = np.isfinite(W_knee)\n",
    "    W_knee = W_knee[mask]\n",
    "\n",
    "    N2_exp   = N2_Exp[i][~np.isnan(N2_Exp[i])]\n",
    "    N2_knee  = Kn_N2[i][~np.isnan(Kn_N2[i])]\n",
    "\n",
    "    N3_exp   = N3_Exp[i][~np.isnan(N3_Exp[i])]\n",
    "    N3_knee  = Kn_N3[i][~np.isnan(Kn_N3[i])]\n",
    "\n",
    "    R_exp   = R_Exp[i][~np.isnan(R_Exp[i])]\n",
    "    R_knee  = Kn_R[i][~np.isnan(Kn_R[i])]\n",
    "\n",
    "    ###################################################\n",
    "    # equate number of trials per stage\n",
    "    \n",
    "    L  = min([len(W_exp) ,  len(N2_exp),  len(N3_exp),  len(R_exp),\n",
    "              len(W_knee) , len(N2_knee), len(N3_knee), len(R_knee)])\n",
    "    \n",
    "    trials[i] = L\n",
    "    \n",
    "    W_exp  = W_exp[random.sample(range(0, len(W_exp)), L)] \n",
    "    l1  = np.ones(len(W_exp))\n",
    " \n",
    "    N2_exp = N2_exp[random.sample(range(0, len(N2_exp)), L)]\n",
    "    l2  = np.ones(len(N2_exp))*2\n",
    "\n",
    "    N3_exp = N3_exp[random.sample(range(0, len(N3_exp)), L)]\n",
    "    l3  = np.ones(len(N3_exp))*3\n",
    "    \n",
    "    R_exp  = R_exp[random.sample(range(0, len(R_exp)), L)]\n",
    "    l4  = np.ones(len(R_exp))*4\n",
    "    \n",
    "    ############################################    \n",
    "    W_knee  = W_knee[random.sample(range(0, len(W_knee)), L)] \n",
    "    N2_knee = N2_knee[random.sample(range(0, len(N2_knee)), L)]  \n",
    "    N3_knee = N3_knee[random.sample(range(0, len(N3_knee)), L)]\n",
    "    R_knee  = R_knee[random.sample(range(0, len(R_knee)), L)]\n",
    "\n",
    "    \n",
    "    Knee_model  = np.concatenate((W_exp,N2_exp,N3_exp,R_exp))\n",
    "    Knee_value  = np.concatenate((W_knee,N2_knee,N3_knee,R_knee))\n",
    "\n",
    "    y = np.concatenate((l1,l2,l3,l4))\n",
    "    ###########################################\n",
    "    \n",
    "    # make the 1d array a 2d array (req for scikit learn)\n",
    "    X=[Knee_model, Knee_value]\n",
    "\n",
    "    ################################################\n",
    "    classifier = RandomForestClassifier(n_estimators=100, random_state=42)\n",
    "\n",
    "    lin_score = cross_val_score(classifier, np.transpose(X), y, scoring = 'accuracy', cv = lin_method, n_jobs = -1)\n",
    "    \n",
    "    # Split the data into training and test sets\n",
    "    X_train, X_test , y_train, y_test = train_test_split(np.transpose(X), y, test_size=0.2)\n",
    "    \n",
    "    # Fit the LDA model on the training data\n",
    "    classifier.fit(X_train, y_train)\n",
    "    # Evaluate the model on the test data\n",
    "    accuracy_KE.append(classifier.score(X_test, y_test))\n",
    "    \n",
    "trials"
   ]
  },
  {
   "cell_type": "markdown",
   "id": "e30d7099",
   "metadata": {},
   "source": [
    "## Calculate feature importance using permutation"
   ]
  },
  {
   "cell_type": "code",
   "execution_count": 36,
   "id": "42cb2d48",
   "metadata": {},
   "outputs": [],
   "source": [
    "from sklearn.inspection import permutation_importance\n",
    "import time\n",
    "feature_names = ['Exp','Knee']\n",
    "start_time = time.time()\n",
    "result = permutation_importance(classifier, X_test, y_test, n_repeats=10, random_state=42, n_jobs=2)\n",
    "\n",
    "forest_importances = pd.Series(result.importances_mean, index=feature_names)"
   ]
  },
  {
   "cell_type": "markdown",
   "id": "65ae5f35",
   "metadata": {},
   "source": [
    "### Stats"
   ]
  },
  {
   "cell_type": "code",
   "execution_count": null,
   "id": "ac0198a1",
   "metadata": {},
   "outputs": [],
   "source": [
    "from utils import calculate_t_statistic, calculate_cohens_d, perform_permutation_test\n",
    "\n",
    "ACC = [accuracy_knee,accuracy_K, accuracy_KE]\n",
    "\n",
    "# FRIEDMAN\n",
    "# Decoding stats repeated measures\n",
    "data = pd.DataFrame(np.transpose(ACC))\n",
    "\n",
    "friedman_result, W, posthoc_result, z_values, effect_sizes, corrected_p_values = friedman_dunns(data)\n",
    "\n",
    "# Change the column names\n",
    "effect_sizes.columns =['Knee', 'Exp_K', 'Exp_F']\n",
    "corrected_p_values.columns = ['Knee', 'Exp_K', 'Exp_F']\n",
    "# Change the row indexes\n",
    "effect_sizes.index = ['Knee', 'Exp_K', 'Exp_F']\n",
    "corrected_p_values.index = ['Knee', 'Exp_K', 'Exp_F']\n",
    "\n",
    "ax = plt.subplot(111, frame_on=False) # no visible frame\n",
    "table(ax, effect_sizes)  # where df is your data frame\n",
    "ax.xaxis.set_visible(False)  # hide the x axis\n",
    "ax.yaxis.set_visible(False)  # hide the y axis\n",
    "plt.savefig('/home/b1044271/Columbia/Plots/NOV23/Stats/Decode_iEEG_effectS.svg')\n",
    "\n",
    "ax = plt.subplot(111, frame_on=False) # no visible frame\n",
    "table(ax, corrected_p_values)  # where df is your data frame\n",
    "ax.xaxis.set_visible(False)  # hide the x axis\n",
    "ax.yaxis.set_visible(False)  # hide the y axis\n",
    "plt.savefig('/home/b1044271/Columbia/Plots/NOV23/Stats/Decode_iEEG_Pvalues.svg')"
   ]
  },
  {
   "cell_type": "markdown",
   "id": "41112688",
   "metadata": {},
   "source": [
    "# PLOT KNEE EXP AND BOTH"
   ]
  },
  {
   "cell_type": "code",
   "execution_count": 71,
   "id": "ded61403",
   "metadata": {},
   "outputs": [
    {
     "data": {
      "image/png": "[encoded data removed]",
      "text/plain": [
       "<Figure size 400x400 with 1 Axes>"
      ]
     },
     "metadata": {},
     "output_type": "display_data"
    }
   ],
   "source": [
    "array_list6 = [accuracy_knee,accuracy_K, accuracy_KE]\n",
    "colors = ['black', 'grey', 'silver']\n",
    "\n",
    "import seaborn\n",
    "titles =  ['knee freq','exponent - knee','both']\n",
    "\n",
    "\n",
    "ax = plt.figure(figsize=(4,4))  \n",
    "\n",
    "ax = seaborn.swarmplot(data=array_list6, palette = colors);\n",
    "ax.set_xticklabels(titles)\n",
    "\n",
    "seaborn.scatterplot(x=[0,1,2], y=np.mean(array_list6,1), marker='X', color='black', s=100, zorder=4, legend=False);\n",
    "#plt.plot([array_list6[0], array_list6[1], array_list6[2]], color = 'grey', linewidth = 0.25, linestyle = '-');\n",
    "ax.axhline(y=0.25, color='black', linestyle='--');\n",
    "\n",
    "plt.title('Stages decoding', fontsize = 24)\n",
    "plt.ylabel('accuracy (a.u.)',fontsize=20)\n",
    "\n",
    "plt.ylim(-0.05, 0.85)\n",
    "plt.xticks(fontsize=18)\n",
    "plt.yticks(fontsize=18)\n",
    "\n",
    "ax.spines['top'].set_visible(False)\n",
    "ax.spines['right'].set_visible(False)\n",
    "ax.tick_params(axis='both', which='both', direction='in', width=1.5, labelsize=16)  # Customize tick properties\n",
    "ax.spines['bottom'].set_linewidth(1.75)\n",
    "ax.spines['left'].set_linewidth(1.75)\n",
    "\n",
    "\n",
    "plt.savefig(\"/home/b1044271/Columbia/Plots/NOV23/iEEG_decoding_both.svg\", dpi = 600)"
   ]
  },
  {
   "cell_type": "code",
   "execution_count": 102,
   "id": "7aa31ad6",
   "metadata": {},
   "outputs": [
    {
     "data": {
      "image/png": "[encoded data removed]",
      "text/plain": [
       "<Figure size 640x480 with 1 Axes>"
      ]
     },
     "metadata": {},
     "output_type": "display_data"
    }
   ],
   "source": [
    "# Plot permutation importance\n",
    "fig, axs = plt.subplots()\n",
    "axs.set_ylim([-0.5,1.5])\n",
    "titles =  ['exponent','knee freq']\n",
    "\n",
    "axs.errorbar(result.importances_mean, [0,1], xerr=result.importances_std, fmt=\"o\", markersize= 15, elinewidth=2, color = 'k')\n",
    "axs.yaxis.set_ticks(np.arange(2))\n",
    "axs.set_yticklabels(titles)\n",
    "\n",
    "plt.xticks(fontsize=18)\n",
    "plt.yticks(fontsize=18)\n",
    "\n",
    "axs.spines['top'].set_linewidth(1.75)\n",
    "axs.spines['right'].set_linewidth(1.75)\n",
    "axs.tick_params(axis='both', which='both', direction='in', width=1.5, labelsize=16)  # Customize tick properties\n",
    "axs.spines['bottom'].set_linewidth(1.75)\n",
    "axs.spines['left'].set_linewidth(1.75)\n",
    "\n",
    "plt.savefig(\"/home/b1044271/Columbia/Plots/NOV23/iEEG_decoding_feat_imp.svg\", dpi = 600)"
   ]
  }
 ],
 "metadata": {
  "kernelspec": {
   "display_name": "Python [conda env:mne]",
   "language": "python",
   "name": "conda-env-mne-py"
  },
  "language_info": {
   "codemirror_mode": {
    "name": "ipython",
    "version": 3
   },
   "file_extension": ".py",
   "mimetype": "text/x-python",
   "name": "python",
   "nbconvert_exporter": "python",
   "pygments_lexer": "ipython3",
   "version": "3.10.6"
  }
 },
 "nbformat": 4,
 "nbformat_minor": 5
}
