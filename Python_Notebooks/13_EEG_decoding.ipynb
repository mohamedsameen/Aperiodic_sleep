{
 "cells": [
  {
   "cell_type": "code",
   "execution_count": 6,
   "id": "da057a4f-5c58-423d-8864-8bf8b462107c",
   "metadata": {},
   "outputs": [],
   "source": [
    "import numpy as np\n",
    "from pathlib import Path\n",
    "import os\n",
    "import pickle\n",
    "import pandas as pd\n",
    "import random\n",
    "\n",
    "# Decoding functions\n",
    "from sklearn.model_selection import cross_val_score, train_test_split\n",
    "from sklearn.model_selection import RepeatedStratifiedKFold\n",
    "from sklearn.discriminant_analysis import LinearDiscriminantAnalysis\n",
    "\n",
    "# Plotting functions\n",
    "from spiketools.plts.utils import make_axes\n",
    "import matplotlib.pyplot as plt\n",
    "import seaborn\n",
    "\n",
    "# Import custom project code\n",
    "import sys\n",
    "sys.path.append(\"/home/b1044271/Columbia/Aperiodic_sleep/helpers\")\n",
    "from utils import compute_z_values,bonferroni_correction, friedman_dunns, calculate_t_statistic, calculate_cohens_d, perform_permutation_test\n"
   ]
  },
  {
   "cell_type": "markdown",
   "id": "3481591f-2cf1-465f-b233-1d90c6d868a2",
   "metadata": {},
   "source": [
    "## Load data"
   ]
  },
  {
   "cell_type": "code",
   "execution_count": 7,
   "id": "947a7dc2-9c73-4ee0-8cec-c7e8b49f2bcc",
   "metadata": {},
   "outputs": [],
   "source": [
    "# Load saved results\n",
    "save_path = '/home/b1044271/Columbia/Results/2025/EEG_results.pkl'\n",
    "with open(save_path, 'rb') as f:\n",
    "    results = pickle.load(f)\n",
    "\n",
    "save_path = '/home/b1044271/Columbia/Results/2025/EEG_results_simple.pkl'\n",
    "with open(save_path, 'rb') as f:\n",
    "    results_s = pickle.load(f)"
   ]
  },
  {
   "cell_type": "markdown",
   "id": "54b71e3f-8298-4203-bfa4-7f1ae6a69be2",
   "metadata": {},
   "source": [
    "## Set variables"
   ]
  },
  {
   "cell_type": "code",
   "execution_count": 8,
   "id": "b9d46fc8-b014-44e2-ac76-d6a2d27e4de9",
   "metadata": {},
   "outputs": [],
   "source": [
    "# Extract error and peak terms\n",
    "Slope_K_W = results[\"Wakefulness\"][\"Exp\"]\n",
    "Slope_F_W = results[\"Wakefulness\"][\"Exp2\"]\n",
    "Slope_S_W = results[\"Wakefulness\"][\"Exp\"]\n",
    "\n",
    "Slope_K_N1 = results[\"N1\"][\"Exp\"]\n",
    "Slope_F_N1 = results[\"N1\"][\"Exp2\"]\n",
    "Slope_S_N1 = results[\"N1\"][\"Exp\"]\n",
    "\n",
    "Slope_K_N2 = results[\"N2\"][\"Exp\"]\n",
    "Slope_F_N2 = results[\"N2\"][\"Exp2\"]\n",
    "Slope_S_N2 = results[\"N2\"][\"Exp\"]\n",
    "\n",
    "Slope_K_N3 = results[\"N3\"][\"Exp\"]\n",
    "Slope_F_N3 = results[\"N3\"][\"Exp2\"]\n",
    "Slope_S_N3 = results[\"N3\"][\"Exp\"]\n",
    "\n",
    "Slope_K_R = results[\"REM\"][\"Exp\"]\n",
    "Slope_F_R = results[\"REM\"][\"Exp2\"]\n",
    "Slope_S_R = results[\"REM\"][\"Exp\"]\n"
   ]
  },
  {
   "cell_type": "markdown",
   "id": "4270958c-0dac-426f-93e4-da8a4ab3a8f8",
   "metadata": {},
   "source": [
    "## LDA Classification"
   ]
  },
  {
   "cell_type": "code",
   "execution_count": 9,
   "id": "d6ed7e93-06b4-4ad1-a81c-7d564b14eec0",
   "metadata": {},
   "outputs": [],
   "source": [
    "# Set up the repeated k-fold cross-validation\n",
    "lin_method = RepeatedKFold(n_splits=5, n_repeats=2)\n",
    "\n",
    "# Initialize accuracy storage\n",
    "accuracy_K = []\n",
    "accuracy_F = []\n",
    "accuracy_F30 = []\n",
    "trials = np.zeros(17) * np.nan\n",
    "\n",
    "for i in np.arange(17):\n",
    "    ##########################################\n",
    "    # WAKE\n",
    "    W_K = Slope_K_W[i][~np.isnan(Slope_K_W[i])]\n",
    "    W_F = Slope_F_W[i][~np.isnan(Slope_F_W[i])]\n",
    "    W_30 = Slope_S_W[i][~np.isnan(Slope_S_W[i])]\n",
    "\n",
    "    ##############################################\n",
    "    # N1\n",
    "    N1_K = Slope_K_N1[i][~np.isnan(Slope_K_N1[i])]\n",
    "    N1_F = Slope_F_N1[i][~np.isnan(Slope_F_N1[i])]\n",
    "    N1_30 = Slope_S_N1[i][~np.isnan(Slope_S_N1[i])]\n",
    "\n",
    "    ###############################################\n",
    "    # N2\n",
    "    N2_K = Slope_K_N2[i][~np.isnan(Slope_K_N2[i])]\n",
    "    N2_F = Slope_F_N2[i][~np.isnan(Slope_F_N2[i])]\n",
    "    N2_30 = Slope_S_N2[i][~np.isnan(Slope_S_N2[i])]\n",
    "\n",
    "    ###########################################\n",
    "    # N3\n",
    "    N3_K = Slope_K_N3[i][~np.isnan(Slope_K_N3[i])]\n",
    "    N3_F = Slope_F_N3[i][~np.isnan(Slope_F_N3[i])]\n",
    "    N3_30 = Slope_S_N3[i][~np.isnan(Slope_S_N3[i])]\n",
    "\n",
    "    #################################################\n",
    "    # REM\n",
    "    R_K = Slope_K_R[i][~np.isnan(Slope_K_R[i])]\n",
    "    R_F = Slope_F_R[i][~np.isnan(Slope_F_R[i])]\n",
    "    R_30 = Slope_S_R[i][~np.isnan(Slope_S_R[i])]\n",
    "\n",
    "    ######################################################\n",
    "    # Equate number of trials per stage\n",
    "    L = min([len(W_K), len(N1_K), len(N2_K), len(N3_K), len(R_K),\n",
    "             len(W_F), len(N1_F), len(N2_F), len(N3_F), len(R_F),\n",
    "             len(W_30), len(N1_30), len(N2_30), len(N3_30), len(R_30)])\n",
    "\n",
    "    trials[i] = L\n",
    "    if L < 25:\n",
    "        continue\n",
    "\n",
    "    # Sample trials properly\n",
    "    W_K = np.random.choice(W_K, L, replace=False)\n",
    "    N1_K = np.random.choice(N1_K, L, replace=False)\n",
    "    N2_K = np.random.choice(N2_K, L, replace=False)\n",
    "    N3_K = np.random.choice(N3_K, L, replace=False)\n",
    "    R_K = np.random.choice(R_K, L, replace=False)\n",
    "\n",
    "    W_F = np.random.choice(W_F, L, replace=False)\n",
    "    N1_F = np.random.choice(N1_F, L, replace=False)\n",
    "    N2_F = np.random.choice(N2_F, L, replace=False)\n",
    "    N3_F = np.random.choice(N3_F, L, replace=False)\n",
    "    R_F = np.random.choice(R_F, L, replace=False)\n",
    "\n",
    "    W_30 = np.random.choice(W_30, L, replace=False)\n",
    "    N1_30 = np.random.choice(N1_30, L, replace=False)\n",
    "    N2_30 = np.random.choice(N2_30, L, replace=False)\n",
    "    N3_30 = np.random.choice(N3_30, L, replace=False)\n",
    "    R_30 = np.random.choice(R_30, L, replace=False)\n",
    "\n",
    "    #######################################################\n",
    "    # Concatenate\n",
    "    Knee_model = np.concatenate((W_K, N1_K, N2_K, N3_K, R_K))[:, None]\n",
    "    Fixed_model = np.concatenate((W_F, N1_F, N2_F, N3_F, R_F))[:, None]\n",
    "    F30_model = np.concatenate((W_30, N1_30, N2_30, N3_30, R_30))[:, None]\n",
    "\n",
    "    y = np.concatenate([\n",
    "        np.ones(L), np.ones(L) * 2, np.ones(L) * 3, np.ones(L) * 4, np.ones(L) * 5\n",
    "    ])\n",
    "\n",
    "    #########################################################\n",
    "    # ACTUAL DECODING\n",
    "    ###########################################################\n",
    "    \n",
    "    # KNEE MODEL\n",
    "    lda = LinearDiscriminantAnalysis()\n",
    "    lin_score = cross_val_score(lda, Knee_model, y, scoring='accuracy', cv=lin_method, n_jobs=-1)\n",
    "    accuracy_K.append(np.mean(lin_score))  # Store mean accuracy over folds\n",
    "\n",
    "    # FIXED MODEL\n",
    "    lda2 = LinearDiscriminantAnalysis()\n",
    "    lin_score2 = cross_val_score(lda2, Fixed_model, y, scoring='accuracy', cv=lin_method, n_jobs=-1)\n",
    "    accuracy_F.append(np.mean(lin_score2))\n",
    "\n",
    "    # SIMPLE MODEL\n",
    "    lda3 = LinearDiscriminantAnalysis()\n",
    "    lin_score3 = cross_val_score(lda3, F30_model, y, scoring='accuracy', cv=lin_method, n_jobs=-1)\n",
    "    accuracy_F30.append(np.mean(lin_score3))\n"
   ]
  },
  {
   "cell_type": "code",
   "execution_count": 10,
   "id": "fd5278eb-6d76-45d6-be11-f1792e96a51d",
   "metadata": {},
   "outputs": [
    {
     "data": {
      "text/plain": [
       "(array([182., 183., 182., 183., 183., 182., 183., 183., 183., 183., 183.,\n",
       "        183., 183., 183., 182., 183., 183.]),\n",
       " 182.76470588235293,\n",
       " 0.42418250299576343,\n",
       " 17)"
      ]
     },
     "execution_count": 10,
     "metadata": {},
     "output_type": "execute_result"
    }
   ],
   "source": [
    "# Number of trials on average used for decoding\n",
    "trials, np.mean(trials), np.std(trials), len(trials)"
   ]
  },
  {
   "cell_type": "markdown",
   "id": "8ec0626a-80e8-4d79-96f9-a6707e6da322",
   "metadata": {},
   "source": [
    "## Plotting"
   ]
  },
  {
   "cell_type": "code",
   "execution_count": 11,
   "id": "ef66775c-3b8c-48c0-a8c9-e6afd41003cc",
   "metadata": {},
   "outputs": [
    {
     "name": "stderr",
     "output_type": "stream",
     "text": [
      "/tmp/ipykernel_801109/3956052726.py:9: UserWarning: FixedFormatter should only be used together with FixedLocator\n",
      "  ax.set_xticklabels(titles)\n"
     ]
    },
    {
     "data": {
      "image/png": "[encoded data removed]",
      "text/plain": [
       "<Figure size 300x300 with 1 Axes>"
      ]
     },
     "metadata": {},
     "output_type": "display_data"
    }
   ],
   "source": [
    "array_list = [ accuracy_K, accuracy_F, accuracy_F30]\n",
    "\n",
    "titles =  ['exponent knee model','exponent fixed model','exponent simple model']\n",
    "colors = ['black', 'grey', 'silver']\n",
    "\n",
    "ax = plt.figure(figsize=(3,3))  \n",
    "\n",
    "ax = seaborn.swarmplot(data=array_list, palette = colors);\n",
    "ax.set_xticklabels(titles)\n",
    "\n",
    "seaborn.scatterplot(x=[0,1,2], y=np.mean(array_list,1), marker='X', color='black', s=100, zorder=4, legend=False);\n",
    "ax.axhline(y=0.2, color='black', linestyle='--');\n",
    "\n",
    "plt.title('Stages decoding', fontsize = 24)\n",
    "plt.ylabel('accuracy (a.u.)',fontsize=20)\n",
    "\n",
    "plt.ylim(0.1, 0.9)\n",
    "plt.xticks(fontsize=18)\n",
    "plt.yticks(fontsize=18)\n",
    "\n",
    "ax.spines['top'].set_visible(False)\n",
    "ax.spines['right'].set_visible(False)\n",
    "ax.tick_params(axis='both', which='both', direction='in', width=1.5, labelsize=16)  # Customize tick properties\n",
    "ax.spines['bottom'].set_linewidth(1.5)\n",
    "ax.spines['left'].set_linewidth(1.5)\n",
    "\n",
    "\n",
    "plt.savefig(\"/home/b1044271/Columbia/Plots/NOV24/EEG_decoding.svg\", dpi = 600)"
   ]
  },
  {
   "cell_type": "markdown",
   "id": "6ddb24b4-37c8-41c2-ab46-9991c2289f2e",
   "metadata": {},
   "source": [
    "## Stats\n",
    "### permutation against chance"
   ]
  },
  {
   "cell_type": "code",
   "execution_count": 12,
   "id": "a47739d9-6677-4358-a72e-ee1dc194a01c",
   "metadata": {},
   "outputs": [
    {
     "data": {
      "text/plain": [
       "(array([0., 0., 0.]),\n",
       " array([18.40200387, 17.27641567, 19.139258  ]),\n",
       " array([6.31183526, 5.92576169, 6.56471134]))"
      ]
     },
     "execution_count": 12,
     "metadata": {},
     "output_type": "execute_result"
    }
   ],
   "source": [
    "\n",
    "# Specify the number of permutations\n",
    "num_permutations = 10000\n",
    "\n",
    "tvalue=np.zeros(3)\n",
    "pvalue=np.zeros(3)\n",
    "cohend=np.zeros(3)\n",
    "for i in np.arange(len(array_list)):\n",
    "    X = array_list[i]\n",
    "    # Perform the permutation test\n",
    "    tvalue[i],pvalue[i],cohend[i] = perform_permutation_test(X, np.ones(17)*0.2, num_permutations)\n",
    "\n",
    "pvalue_bonf = pvalue * len(array_list)\n",
    "\n",
    "# Create a DataFrame to store the results\n",
    "results_table = pd.DataFrame({\n",
    "    \"Metric\": [\"Accuracy Knee\", \"Accuracy K\", \"Accuracy F\"],\n",
    "    \"T-Value\": tvalue,\n",
    "    \"P-Value (Bonferroni)\": pvalue_bonf,\n",
    "    \"Cohen's D\": cohend\n",
    "})\n",
    "\n",
    "# Save the table to a CSV file\n",
    "file_path = \"permutation_test_results.csv\"\n",
    "results_table.to_csv('/home/b1044271/Columbia/Plots/NOV24/Decode_EEG_stats_chance.svg', index=False)\n",
    "\n",
    "# show stats\n",
    "pvalue_bonf, tvalue, cohend"
   ]
  },
  {
   "cell_type": "markdown",
   "id": "6b5964bd-adee-4243-a3a1-01f522ca69dc",
   "metadata": {},
   "source": [
    "### to each other"
   ]
  },
  {
   "cell_type": "code",
   "execution_count": 15,
   "id": "dc93117d-b4a5-4a68-a1be-53a856a6d684",
   "metadata": {},
   "outputs": [
    {
     "data": {
      "text/plain": [
       "(FriedmanchisquareResult(statistic=25.529411764705884, pvalue=2.859951525640375e-06),\n",
       " 0.7508650519031143,\n",
       "           0         1         2\n",
       " 0  1.000000  0.000166  1.000000\n",
       " 1  0.000166  1.000000  0.000257\n",
       " 2  1.000000  0.000257  1.000000,\n",
       " array([[2.78291642e-16, 4.03200824e+00, 1.03828538e-01],\n",
       "        [4.03200824e+00, 2.78291642e-16, 3.92817970e+00],\n",
       "        [1.03828538e-01, 3.92817970e+00, 2.78291642e-16]]),\n",
       "           0         1         2\n",
       " 0       NaN -0.806228 -0.020761\n",
       " 1  0.806228       NaN  0.785467\n",
       " 2  0.020761 -0.785467       NaN)"
      ]
     },
     "execution_count": 15,
     "metadata": {},
     "output_type": "execute_result"
    }
   ],
   "source": [
    "data = pd.DataFrame(np.transpose(array_list))\n",
    "friedman_result, W, posthoc_result, z_values, effect_sizes, corrected_p_values = friedman_dunns(data)\n",
    "\n",
    "friedman_result, W, corrected_p_values, z_values, effect_sizes"
   ]
  },
  {
   "cell_type": "code",
   "execution_count": null,
   "id": "6a898b56-1a5c-499d-986a-c30faa063a44",
   "metadata": {},
   "outputs": [],
   "source": []
  }
 ],
 "metadata": {
  "kernelspec": {
   "display_name": "Python [conda env:mne]",
   "language": "python",
   "name": "conda-env-mne-py"
  },
  "language_info": {
   "codemirror_mode": {
    "name": "ipython",
    "version": 3
   },
   "file_extension": ".py",
   "mimetype": "text/x-python",
   "name": "python",
   "nbconvert_exporter": "python",
   "pygments_lexer": "ipython3",
   "version": "3.10.6"
  }
 },
 "nbformat": 4,
 "nbformat_minor": 5
}
