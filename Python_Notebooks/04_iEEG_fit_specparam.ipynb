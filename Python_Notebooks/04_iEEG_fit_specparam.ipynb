{
 "cells": [
  {
   "cell_type": "markdown",
   "id": "4fc3b992-45c9-4281-afe5-ea358daa8137",
   "metadata": {},
   "source": [
    "# This is to fit different FOOOF models to iEEG data and save the parameters"
   ]
  },
  {
   "cell_type": "code",
   "execution_count": 1,
   "id": "9d552e14-bb97-4e97-aed7-17980136ce72",
   "metadata": {},
   "outputs": [],
   "source": [
    "# basic\n",
    "import numpy as np\n",
    "import os\n",
    "from pathlib import Path\n",
    "import pickle\n",
    "\n",
    "# electrophys\n",
    "import mne\n",
    "\n",
    "# specparam\n",
    "from fooof import FOOOF\n",
    "from fooof import FOOOFGroup\n",
    "from fooof.utils.params import compute_knee_frequency\n",
    "\n",
    "# stop warnings\n",
    "import warnings\n",
    "warnings.filterwarnings(\"ignore\")"
   ]
  },
  {
   "cell_type": "markdown",
   "id": "2c87d1c7-2b5f-419c-94a5-3622dde7a740",
   "metadata": {},
   "source": [
    "## Set paths"
   ]
  },
  {
   "cell_type": "code",
   "execution_count": 2,
   "id": "ef4e1605-b40a-4032-a5b5-a633958f0661",
   "metadata": {},
   "outputs": [],
   "source": [
    "# Set data path\n",
    "data_path = Path('/home/b1044271/Columbia/iEEG')\n",
    "# Set result path\n",
    "result_path = Path('/home/b1044271/Columbia/Results/2025')\n",
    "# Set dataset\n",
    "dataset = 'Wakefulness_AllRegions'\n",
    "\n",
    "# Get list of files, which correspond to regions\n",
    "regions = np.sort(os.listdir(data_path / dataset))"
   ]
  },
  {
   "cell_type": "markdown",
   "id": "0f690df7-791e-4764-85f4-527993798af9",
   "metadata": {},
   "source": [
    "## Set model fitting specs"
   ]
  },
  {
   "cell_type": "code",
   "execution_count": 41,
   "id": "d225bd3f-435f-4792-8419-48a4ed10de68",
   "metadata": {},
   "outputs": [],
   "source": [
    "f_min = 1\n",
    "f_max = 45\n",
    "t     = 15\n",
    "fs    = 200\n",
    "\n",
    "SETTINGS_W = {'method': 'welch', 'average': None, 'fmin': f_min, 'fmax': f_max, 'n_fft': fs*t, 'n_overlap': fs*t*0.5}\n",
    "\n",
    "SETTINGS_F1={'max_n_peaks':8, 'aperiodic_mode':'knee'}\n",
    "SETTINGS_F2={'max_n_peaks':8, 'aperiodic_mode':'fixed'}\n"
   ]
  },
  {
   "cell_type": "markdown",
   "id": "764dedcb-3ffa-4252-89d2-e202281efaee",
   "metadata": {},
   "source": [
    "## Dicts"
   ]
  },
  {
   "cell_type": "code",
   "execution_count": 42,
   "id": "5753c115-7c2c-41ed-a712-2491d0364f35",
   "metadata": {},
   "outputs": [],
   "source": [
    "# Define parameter categories\n",
    "conditions = [\"Wakefulness\", \"N2\", \"N3\", \"REM\"]\n",
    "metrics = [\"Kn\", \"Exp\", \"Exp2\", \"R2K\", \"R2N\", \"EK\", \"EN\", \"PK\", \"PN\"]\n",
    "\n",
    "# Initialize storage dictionaries\n",
    "param_data = {cond: {metric: np.zeros([len(regions), 2000]) * np.nan for metric in metrics} for cond in conditions}"
   ]
  },
  {
   "cell_type": "markdown",
   "id": "e51a9544-3b1c-4fa7-b066-367ba041d6f1",
   "metadata": {},
   "source": [
    "# Looping through epochs of each stage - averaging over the segments of each region"
   ]
  },
  {
   "cell_type": "code",
   "execution_count": null,
   "id": "b908e6cf-ee9f-452b-8081-83f5fcae3327",
   "metadata": {},
   "outputs": [],
   "source": [
    "# store PSD results\n",
    "PSDs_W = np.zeros([len(regions), 441]) * np.nan\n",
    "PSDs_N2 = np.zeros([len(regions), 441]) * np.nan\n",
    "PSDs_N3 = np.zeros([len(regions), 441]) * np.nan\n",
    "PSDs_R = np.zeros([len(regions), 441]) * np.nan\n",
    "\n",
    "\n",
    "for condition in conditions:\n",
    "    dataset = f\"{condition}_AllRegions\"\n",
    "    regions = np.sort(os.listdir(data_path / dataset))\n",
    "    i = 0\n",
    "    for C, V in enumerate(regions):\n",
    "        \n",
    "        EEG = mne.io.read_raw_edf(data_path / dataset / V)\n",
    "        EEG_psd = EEG.compute_psd(**SETTINGS_W)\n",
    "        \n",
    "        if condition == \"Wakefulness\":\n",
    "            PSDs_W[i, 0:len(EEG_psd._freqs)] = np.mean(EEG_psd._data, 0)\n",
    "        elif condition == \"N2\":\n",
    "            PSDs_N2[i, 0:len(EEG_psd._freqs)] = np.mean(EEG_psd._data, 0)\n",
    "        elif condition == \"N3\":\n",
    "            PSDs_N3[i, 0:len(EEG_psd._freqs)] = np.mean(EEG_psd._data, 0)\n",
    "        elif condition == \"REM\":\n",
    "            PSDs_R[i, 0:len(EEG_psd._freqs)] = np.mean(EEG_psd._data, 0)\n",
    "        \n",
    "        fm1 = FOOOFGroup(**SETTINGS_F1)\n",
    "        fm1.fit(EEG_psd._freqs, EEG_psd._data, [EEG_psd._freqs[0], EEG_psd._freqs[-1]])\n",
    "        \n",
    "        fm2 = FOOOFGroup(**SETTINGS_F2)\n",
    "        fm2.fit(EEG_psd._freqs, EEG_psd._data, [EEG_psd._freqs[0], EEG_psd._freqs[-1]])\n",
    "        \n",
    "        param_data[condition][\"Kn\"][i, 0:len(EEG_psd._data)] = compute_knee_frequency(fm1.get_params('aperiodic_params', 'knee'), fm1.get_params('aperiodic_params', 'exponent'))\n",
    "        param_data[condition][\"Exp\"][i, 0:len(EEG_psd._data)] = fm1.get_params('aperiodic_params', 'exponent')\n",
    "        param_data[condition][\"Exp2\"][i, 0:len(EEG_psd._data)] = fm2.get_params('aperiodic_params', 'exponent')\n",
    "        \n",
    "        param_data[condition][\"R2K\"][i, 0:len(EEG_psd._data)] = fm1.get_params('r_squared')\n",
    "        param_data[condition][\"R2N\"][i, 0:len(EEG_psd._data)] = fm2.get_params('r_squared')\n",
    "        \n",
    "        param_data[condition][\"EK\"][i, 0:len(EEG_psd._data)] = fm1.get_params('error')\n",
    "        param_data[condition][\"EN\"][i, 0:len(EEG_psd._data)] = fm2.get_params('error')\n",
    "        \n",
    "        # Extract the number of peaks for each epoch\n",
    "        peak_params1 = fm1.get_params('peak_params')\n",
    "        peak_params2 = fm2.get_params('peak_params')\n",
    "        \n",
    "        for epoch_idx in range(len(EEG_psd._data)):\n",
    "            num_peaks1 = sum(peak[-1] == epoch_idx for peak in peak_params1)  # Count peaks for each epoch\n",
    "            num_peaks2 = sum(peak[-1] == epoch_idx for peak in peak_params2)  # Count peaks for each epoch\n",
    "            \n",
    "            param_data[condition][\"PK\"][i, epoch_idx] = num_peaks1\n",
    "            param_data[condition][\"PN\"][i, epoch_idx] = num_peaks2 \n",
    "    \n",
    "        i += 1"
   ]
  },
  {
   "cell_type": "markdown",
   "id": "e6c224c9-1216-422e-9b28-55943370d629",
   "metadata": {},
   "source": [
    "## save"
   ]
  },
  {
   "cell_type": "code",
   "execution_count": null,
   "id": "2b16a629-47c9-430e-a3b1-2f6eabc46af4",
   "metadata": {},
   "outputs": [],
   "source": [
    "save_path = Path(result_path) / 'iEEG_results.pkl'\n",
    "with open(save_path, 'wb') as f:\n",
    "    pickle.dump({'PSDs': {'Wakefulness': PSDs_W, 'N2': PSDs_N2, 'N3': PSDs_N3, 'REM': PSDs_R}, 'param_data': param_data}, f)\n",
    "\n",
    "# save freqs\n",
    "np.save(Path(result_path /'iEEG_Freqs.npy'),EEG_psd.freqs)"
   ]
  },
  {
   "cell_type": "markdown",
   "id": "876fe502-3f4c-4969-8585-425edf6ac99e",
   "metadata": {},
   "source": [
    "## Save"
   ]
  },
  {
   "cell_type": "code",
   "execution_count": 49,
   "id": "80b70eb5-7e9e-4b38-b6dc-920681ccb706",
   "metadata": {},
   "outputs": [],
   "source": [
    "save_path = Path(result_path) / 'iEEG_results_decode.pkl'\n",
    "with open(save_path, 'wb') as f:\n",
    "    pickle.dump({'PSDs': {'Wakefulness': PSDs_W, 'N2': PSDs_N2, 'N3': PSDs_N3, 'REM': PSDs_R}, 'param_data': param_data}, f)\n"
   ]
  },
  {
   "cell_type": "code",
   "execution_count": null,
   "id": "56fafdf8-67b5-4ae5-a570-8990a69e31fd",
   "metadata": {},
   "outputs": [],
   "source": []
  }
 ],
 "metadata": {
  "kernelspec": {
   "display_name": "Python [conda env:mne]",
   "language": "python",
   "name": "conda-env-mne-py"
  },
  "language_info": {
   "codemirror_mode": {
    "name": "ipython",
    "version": 3
   },
   "file_extension": ".py",
   "mimetype": "text/x-python",
   "name": "python",
   "nbconvert_exporter": "python",
   "pygments_lexer": "ipython3",
   "version": "3.10.6"
  }
 },
 "nbformat": 4,
 "nbformat_minor": 5
}
