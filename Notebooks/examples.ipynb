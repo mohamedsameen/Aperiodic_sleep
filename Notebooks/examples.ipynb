{
 "cells": [
  {
   "cell_type": "markdown",
   "id": "aab53d93",
   "metadata": {},
   "source": [
    "## Iterating - Lists"
   ]
  },
  {
   "cell_type": "code",
   "execution_count": 1,
   "id": "420cc497",
   "metadata": {},
   "outputs": [
    {
     "name": "stdout",
     "output_type": "stream",
     "text": [
      "1\n",
      "2\n",
      "3\n",
      "4\n"
     ]
    }
   ],
   "source": [
    "lst = [1, 2, 3, 4]\n",
    "for a in lst:\n",
    "    print(a)"
   ]
  },
  {
   "cell_type": "markdown",
   "id": "56b2ab46",
   "metadata": {},
   "source": [
    "## Iterating - Dictionaries"
   ]
  },
  {
   "cell_type": "code",
   "execution_count": 2,
   "id": "65b7cdf0",
   "metadata": {},
   "outputs": [],
   "source": [
    "dd = {'a' : [1, 2], 'b' : [3, 4]}"
   ]
  },
  {
   "cell_type": "code",
   "execution_count": 3,
   "id": "3220cc4d",
   "metadata": {},
   "outputs": [
    {
     "name": "stdout",
     "output_type": "stream",
     "text": [
      "[1, 2]\n",
      "[3, 4]\n"
     ]
    }
   ],
   "source": [
    "for el in [dd['a'], dd['b']]:\n",
    "    print(el)"
   ]
  },
  {
   "cell_type": "markdown",
   "id": "3d881617",
   "metadata": {},
   "source": [
    "## Dictionary Methods"
   ]
  },
  {
   "cell_type": "code",
   "execution_count": 4,
   "id": "18ffe3db",
   "metadata": {},
   "outputs": [
    {
     "data": {
      "text/plain": [
       "dict_keys(['a', 'b'])"
      ]
     },
     "execution_count": 4,
     "metadata": {},
     "output_type": "execute_result"
    }
   ],
   "source": [
    "dd.keys()"
   ]
  },
  {
   "cell_type": "code",
   "execution_count": 5,
   "id": "3cb0c209",
   "metadata": {},
   "outputs": [
    {
     "data": {
      "text/plain": [
       "dict_values([[1, 2], [3, 4]])"
      ]
     },
     "execution_count": 5,
     "metadata": {},
     "output_type": "execute_result"
    }
   ],
   "source": [
    "dd.values()"
   ]
  },
  {
   "cell_type": "code",
   "execution_count": 6,
   "id": "d196582a",
   "metadata": {},
   "outputs": [
    {
     "data": {
      "text/plain": [
       "dict_items([('a', [1, 2]), ('b', [3, 4])])"
      ]
     },
     "execution_count": 6,
     "metadata": {},
     "output_type": "execute_result"
    }
   ],
   "source": [
    "dd.items()"
   ]
  },
  {
   "cell_type": "code",
   "execution_count": 7,
   "id": "56e68f4c",
   "metadata": {},
   "outputs": [
    {
     "name": "stdout",
     "output_type": "stream",
     "text": [
      "a [1, 2]\n",
      "b [3, 4]\n"
     ]
    }
   ],
   "source": [
    "for key, value in dd.items():\n",
    "    print(key, value)"
   ]
  },
  {
   "cell_type": "code",
   "execution_count": 8,
   "id": "24a176df",
   "metadata": {},
   "outputs": [
    {
     "name": "stdout",
     "output_type": "stream",
     "text": [
      "('a', [1, 2])\n",
      "('b', [3, 4])\n"
     ]
    }
   ],
   "source": [
    "for stuff in dd.items():\n",
    "    print(stuff)"
   ]
  },
  {
   "cell_type": "markdown",
   "id": "71727a8c",
   "metadata": {},
   "source": [
    "## Example Processing Procedure"
   ]
  },
  {
   "cell_type": "code",
   "execution_count": 9,
   "id": "300555da",
   "metadata": {},
   "outputs": [],
   "source": [
    "# Define data\n",
    "data = {'10' : [1, 2], '20' : [3, 4]}"
   ]
  },
  {
   "cell_type": "code",
   "execution_count": 10,
   "id": "8598cda7",
   "metadata": {},
   "outputs": [],
   "source": [
    "def process(lst):\n",
    "    return lst"
   ]
  },
  {
   "cell_type": "code",
   "execution_count": 11,
   "id": "686f3a3b",
   "metadata": {},
   "outputs": [],
   "source": [
    "outputs = {}\n",
    "for label, data_value in data.items():\n",
    "    outputs[label] = process(data_value)"
   ]
  },
  {
   "cell_type": "code",
   "execution_count": 12,
   "id": "c94f1395",
   "metadata": {},
   "outputs": [
    {
     "data": {
      "text/plain": [
       "{'10': [1, 2], '20': [3, 4]}"
      ]
     },
     "execution_count": 12,
     "metadata": {},
     "output_type": "execute_result"
    }
   ],
   "source": [
    "outputs"
   ]
  },
  {
   "cell_type": "markdown",
   "id": "336b366e",
   "metadata": {},
   "source": [
    "## FOOOF Examples"
   ]
  },
  {
   "cell_type": "code",
   "execution_count": null,
   "id": "3c26b4aa",
   "metadata": {},
   "outputs": [],
   "source": [
    "from fooof import FOOOF"
   ]
  },
  {
   "cell_type": "code",
   "execution_count": null,
   "id": "22a0937f",
   "metadata": {},
   "outputs": [],
   "source": [
    "SETTINGS = {}"
   ]
  },
  {
   "cell_type": "code",
   "execution_count": null,
   "id": "ad03b58a",
   "metadata": {},
   "outputs": [],
   "source": [
    "fm = FOOOF(**SETTINGS)\n",
    "\n",
    "for label, data in data.items():\n",
    "        \n",
    "    fm.fit(data.freqs, data.spectrum)\n",
    "    output = fm.get_results()\n",
    "    \n",
    "    fm.save(save_results=True)"
   ]
  },
  {
   "cell_type": "markdown",
   "id": "e9c4a883",
   "metadata": {},
   "source": [
    "## FOOOFGroup Examples"
   ]
  },
  {
   "cell_type": "code",
   "execution_count": null,
   "id": "ea212dc1",
   "metadata": {},
   "outputs": [],
   "source": [
    "from fooof import FOOOFGroup"
   ]
  },
  {
   "cell_type": "code",
   "execution_count": null,
   "id": "653025cd",
   "metadata": {},
   "outputs": [],
   "source": [
    "freqs = np.array([1, 2, 3, 4])\n",
    "spectra_s1_n1 = np.array([[\n",
    "    spectrum1,\n",
    "    spectrum2,\n",
    "    spectrum3,    \n",
    "]])"
   ]
  },
  {
   "cell_type": "code",
   "execution_count": null,
   "id": "a2c67ac3",
   "metadata": {},
   "outputs": [],
   "source": [
    "fg = FOOOFGroup()\n",
    "fg.fit(freqs, spectra)\n",
    "fg.save(save_results=True)"
   ]
  },
  {
   "cell_type": "code",
   "execution_count": null,
   "id": "0b9ea4d3",
   "metadata": {},
   "outputs": [],
   "source": [
    "# Output results looks something like this:\n",
    "[FOOOFResults(results_spectrum1),\n",
    " FOOOFResults(results_spectrum2))]"
   ]
  },
  {
   "cell_type": "code",
   "execution_count": null,
   "id": "5cd941e8",
   "metadata": {},
   "outputs": [],
   "source": [
    "# Results can be reloaded\n",
    "fg = FOOOFGroup()\n",
    "fg.load(...)"
   ]
  },
  {
   "cell_type": "code",
   "execution_count": null,
   "id": "9af72bfc",
   "metadata": {},
   "outputs": [],
   "source": [
    "# Parameters can be extracted\n",
    "all_exps = [fres.aperiodic_params[1] for fres in fg.group_results]"
   ]
  },
  {
   "cell_type": "code",
   "execution_count": null,
   "id": "f4d211b8",
   "metadata": {},
   "outputs": [],
   "source": [
    "# Example: visualize exponents across channels\n",
    "mne.plot_topo(all_exps)"
   ]
  },
  {
   "cell_type": "markdown",
   "id": "dae483bf",
   "metadata": {},
   "source": [
    "## Object Inheritance"
   ]
  },
  {
   "cell_type": "code",
   "execution_count": 16,
   "id": "18503cd1",
   "metadata": {},
   "outputs": [],
   "source": [
    "class Animal():\n",
    "    \n",
    "    is_alive = True\n",
    "    sound = None\n",
    "    \n",
    "class Cat(Animal):\n",
    "    \n",
    "    sound = 'meow'"
   ]
  },
  {
   "cell_type": "code",
   "execution_count": 17,
   "id": "35dc2819",
   "metadata": {},
   "outputs": [],
   "source": [
    "aa = Animal()"
   ]
  },
  {
   "cell_type": "code",
   "execution_count": 18,
   "id": "dafc6f95",
   "metadata": {},
   "outputs": [
    {
     "data": {
      "text/plain": [
       "True"
      ]
     },
     "execution_count": 18,
     "metadata": {},
     "output_type": "execute_result"
    }
   ],
   "source": [
    "aa.is_alive"
   ]
  },
  {
   "cell_type": "code",
   "execution_count": 19,
   "id": "156623fe",
   "metadata": {},
   "outputs": [],
   "source": [
    "cc = Cat()"
   ]
  },
  {
   "cell_type": "code",
   "execution_count": 20,
   "id": "f4822bd2",
   "metadata": {},
   "outputs": [
    {
     "data": {
      "text/plain": [
       "'meow'"
      ]
     },
     "execution_count": 20,
     "metadata": {},
     "output_type": "execute_result"
    }
   ],
   "source": [
    "cc.sound"
   ]
  }
 ],
 "metadata": {
  "kernelspec": {
   "display_name": "Python 3 (ipykernel)",
   "language": "python",
   "name": "python3"
  },
  "language_info": {
   "codemirror_mode": {
    "name": "ipython",
    "version": 3
   },
   "file_extension": ".py",
   "mimetype": "text/x-python",
   "name": "python",
   "nbconvert_exporter": "python",
   "pygments_lexer": "ipython3",
   "version": "3.8.3"
  }
 },
 "nbformat": 4,
 "nbformat_minor": 5
}
