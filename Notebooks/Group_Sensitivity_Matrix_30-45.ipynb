{
 "cells": [
  {
   "cell_type": "code",
   "execution_count": 68,
   "id": "7bc1b6ec",
   "metadata": {},
   "outputs": [],
   "source": [
    "import mne\n",
    "import numpy as np\n",
    "import matplotlib.pyplot as plt\n",
    "\n",
    "# Import the FOOOF object\n",
    "from fooof import FOOOF\n",
    "from fooof import FOOOFGroup\n",
    "\n",
    "# Import a utility to download and load example data\n",
    "from fooof.utils.download import load_fooof_data\n",
    "\n",
    "import mne\n",
    "import numpy as np\n",
    "import os\n",
    "import pandas as pd\n",
    "from pathlib import Path\n",
    "import matplotlib.pyplot as plt\n",
    "from spiketools.plts.utils import make_axes\n",
    "\n",
    "import imagesc as imagesc\n",
    "\n",
    "import warnings\n",
    "warnings.filterwarnings(\"ignore\")"
   ]
  },
  {
   "cell_type": "code",
   "execution_count": 69,
   "id": "bb7c5b1b",
   "metadata": {},
   "outputs": [],
   "source": [
    "# folder of the results\n",
    "path_files2 = Path('/home/b1044271/Columbia/Results/FOOOF_interp/30-45')\n",
    "\n",
    "# Get names of all subject folder\n",
    "sbj_folders2 = list(path_files2.iterdir())\n",
    "sbj_folders2 = sorted(sbj_folders2)\n",
    "\n",
    "pathX2 = path_files2 / 'VP01'/'N1'/'Knee'\n",
    "filesF2 = list(pathX2.iterdir())"
   ]
  },
  {
   "cell_type": "code",
   "execution_count": 70,
   "id": "9530a798",
   "metadata": {},
   "outputs": [
    {
     "data": {
      "text/plain": [
       "[PosixPath('/home/b1044271/Columbia/Results/FOOOF_interp/30-45/VP01/N1/Knee/VP01_N1_T2_30-45_Knee_8p.json'),\n",
       " PosixPath('/home/b1044271/Columbia/Results/FOOOF_interp/30-45/VP01/N1/Knee/VP01_N1_T2_30-45_Knee_0p.json'),\n",
       " PosixPath('/home/b1044271/Columbia/Results/FOOOF_interp/30-45/VP01/N1/Knee/VP01_N1_T5_30-45_Knee_8p.json'),\n",
       " PosixPath('/home/b1044271/Columbia/Results/FOOOF_interp/30-45/VP01/N1/Knee/VP01_N1_T5_30-45_Knee_0p.json'),\n",
       " PosixPath('/home/b1044271/Columbia/Results/FOOOF_interp/30-45/VP01/N1/Knee/VP01_N1_T10_30-45_Knee_8p.json'),\n",
       " PosixPath('/home/b1044271/Columbia/Results/FOOOF_interp/30-45/VP01/N1/Knee/VP01_N1_T10_30-45_Knee_0p.json'),\n",
       " PosixPath('/home/b1044271/Columbia/Results/FOOOF_interp/30-45/VP01/N1/Knee/VP01_N1_T15_30-45_Knee_8p.json'),\n",
       " PosixPath('/home/b1044271/Columbia/Results/FOOOF_interp/30-45/VP01/N1/Knee/VP01_N1_T15_30-45_Knee_0p.json')]"
      ]
     },
     "execution_count": 70,
     "metadata": {},
     "output_type": "execute_result"
    }
   ],
   "source": [
    "filesF2"
   ]
  },
  {
   "cell_type": "code",
   "execution_count": 93,
   "id": "17d72cc4",
   "metadata": {},
   "outputs": [],
   "source": [
    "# Get the fooof results for each subject\n",
    "Stages    = ['N1','N2','N3','AW','RM']\n",
    "nfm       = FOOOF()\n",
    "nfm2      = FOOOF()\n",
    "Sk_arr  = pd.DataFrame(np.nan,index=range(len(Stages)),columns=range(len(filesF2)))\n",
    "Snk_arr = pd.DataFrame(np.nan,index=range(len(Stages)),columns=range(len(filesF2)))\n",
    "Pk_arr  = pd.DataFrame(np.nan,index=range(len(Stages)),columns=range(len(filesF2)))\n",
    "Pnk_arr = pd.DataFrame(np.nan,index=range(len(Stages)),columns=range(len(filesF2)))\n",
    "Rk_arr  = pd.DataFrame(np.nan,index=range(len(Stages)),columns=range(len(filesF2)))\n",
    "Rnk_arr = pd.DataFrame(np.nan,index=range(len(Stages)),columns=range(len(filesF2)))\n",
    "Fk_arr  = pd.DataFrame(np.nan,index=range(len(Stages)),columns=range(len(filesF2)))\n",
    "Fnk_arr = pd.DataFrame(np.nan,index=range(len(Stages)),columns=range(len(filesF2)))\n",
    "\n",
    "iii = 0\n",
    "for stage in Stages:\n",
    "    i = 0\n",
    "    S_arr = pd.DataFrame(np.nan,index=range(len(sbj_folders2)),columns=range(len(filesF2)))\n",
    "    NS_arr = pd.DataFrame(np.nan,index=range(len(sbj_folders2)),columns=range(len(filesF2)))\n",
    "    R_arr = pd.DataFrame(np.nan,index=range(len(sbj_folders2)),columns=range(len(filesF2)))\n",
    "    NR_arr = pd.DataFrame(np.nan,index=range(len(sbj_folders2)),columns=range(len(filesF2)))\n",
    "    P_arr = pd.DataFrame(np.nan,index=range(len(sbj_folders2)),columns=range(len(filesF2)))\n",
    "    NP_arr = pd.DataFrame(np.nan,index=range(len(sbj_folders2)),columns=range(len(filesF2)))\n",
    "    F_arr = pd.DataFrame(np.nan,index=range(len(sbj_folders2)),columns=range(len(filesF2)))\n",
    "    NF_arr = pd.DataFrame(np.nan,index=range(len(sbj_folders2)),columns=range(len(filesF2)))\n",
    "    for subj in sbj_folders2:\n",
    "        path1 = subj / stage / 'Knee'\n",
    "        filesF = list(path1.iterdir())\n",
    "        path2 = subj / stage / 'NoKnee'\n",
    "        filesF2 = list(path2.iterdir())\n",
    "        \n",
    "        ii=0\n",
    "        for F in filesF:\n",
    "            nfm.load(os.path.basename(F) , str(path1))\n",
    "            R_arr.iloc[[i],[ii]] = nfm.r_squared_\n",
    "           # S_arr.iloc[[i],[ii]] = nfm.get_params('aperiodic_params','exponent')\n",
    "           # P_arr.iloc[[i],[ii]] = nfm.n_peaks_\n",
    "           # F_arr.iloc[[i],[ii]] = nfm.get_params('aperiodic_params','offset')\n",
    "\n",
    "            ii = ii+1\n",
    "            \n",
    "        ii=0    \n",
    "        for F2 in filesF2:\n",
    "            nfm2.load(os.path.basename(F2) , str(path2))\n",
    "            NR_arr.iloc[[i],[ii]] = nfm2.r_squared_\n",
    "            #NS_arr.iloc[[i],[ii]] = nfm2.get_params('aperiodic_params','exponent')\n",
    "            #NP_arr.iloc[[i],[ii]] = nfm2.n_peaks_\n",
    "            #NF_arr.iloc[[i],[ii]] = nfm2.get_params('aperiodic_params','offset')\n",
    "\n",
    "            ii = ii+1\n",
    "        i = i+1\n",
    "        \n",
    "    Sk_arr.iloc[[iii],0:20] = list(S_arr.mean(axis=0))\n",
    "    Snk_arr.iloc[[iii],0:20] = list(NS_arr.mean(axis=0))\n",
    "        \n",
    "    Pk_arr.iloc[[iii],0:20] = list(P_arr.mean(axis=0))\n",
    "    Pnk_arr.iloc[[iii],0:20] = list(NP_arr.mean(axis=0))\n",
    "        \n",
    "    Rk_arr.iloc[[iii],0:20] = list(R_arr.mean(axis=0))\n",
    "    Rnk_arr.iloc[[iii],0:20] = list(NR_arr.mean(axis=0))\n",
    "        \n",
    "    Fk_arr.iloc[[iii],0:20] = list(F_arr.mean(axis=0))\n",
    "    Fnk_arr.iloc[[iii],0:20] = list(NF_arr.mean(axis=0))\n",
    "    iii = iii +1                                        "
   ]
  },
  {
   "cell_type": "code",
   "execution_count": 94,
   "id": "1caf76d1",
   "metadata": {},
   "outputs": [
    {
     "data": {
      "text/plain": [
       "0    0.990588\n",
       "1    0.972832\n",
       "2    0.975532\n",
       "3    0.956847\n",
       "4    0.954829\n",
       "5    0.936406\n",
       "6    0.929458\n",
       "7    0.907596\n",
       "dtype: float64"
      ]
     },
     "execution_count": 94,
     "metadata": {},
     "output_type": "execute_result"
    }
   ],
   "source": [
    "R_arr.mean(axis=0)"
   ]
  },
  {
   "cell_type": "code",
   "execution_count": 95,
   "id": "921c2c77",
   "metadata": {},
   "outputs": [],
   "source": [
    "# The knee_arr / Nknee_arr dataframes contain th r2 averaged over all subjects per stage\n",
    "# now we can mean over stages or use each stage separately (up to you) \n",
    "# here i'm gonna mean over all stages for an overall sensitivity matrix\n",
    "K_R2_all = list(Rk_arr.mean(axis=0))\n",
    "NK_R2_all = list(Rnk_arr.mean(axis=0))\n",
    "\n",
    "Knee_av_final = np.reshape(K_R2_all, (4, 2))\n",
    "NKnee_av_final = np.reshape(NK_R2_all, (4,2))"
   ]
  },
  {
   "cell_type": "code",
   "execution_count": 96,
   "id": "91c5a1f8",
   "metadata": {},
   "outputs": [
    {
     "data": {
      "text/html": [
       "<div>\n",
       "<style scoped>\n",
       "    .dataframe tbody tr th:only-of-type {\n",
       "        vertical-align: middle;\n",
       "    }\n",
       "\n",
       "    .dataframe tbody tr th {\n",
       "        vertical-align: top;\n",
       "    }\n",
       "\n",
       "    .dataframe thead th {\n",
       "        text-align: right;\n",
       "    }\n",
       "</style>\n",
       "<table border=\"1\" class=\"dataframe\">\n",
       "  <thead>\n",
       "    <tr style=\"text-align: right;\">\n",
       "      <th></th>\n",
       "      <th>0</th>\n",
       "      <th>1</th>\n",
       "      <th>2</th>\n",
       "      <th>3</th>\n",
       "      <th>4</th>\n",
       "      <th>5</th>\n",
       "      <th>6</th>\n",
       "      <th>7</th>\n",
       "    </tr>\n",
       "  </thead>\n",
       "  <tbody>\n",
       "    <tr>\n",
       "      <th>0</th>\n",
       "      <td>0.928893</td>\n",
       "      <td>0.813373</td>\n",
       "      <td>0.847829</td>\n",
       "      <td>0.699681</td>\n",
       "      <td>0.811959</td>\n",
       "      <td>0.677124</td>\n",
       "      <td>0.717996</td>\n",
       "      <td>0.639108</td>\n",
       "    </tr>\n",
       "    <tr>\n",
       "      <th>1</th>\n",
       "      <td>0.995896</td>\n",
       "      <td>0.989418</td>\n",
       "      <td>0.987164</td>\n",
       "      <td>0.973540</td>\n",
       "      <td>0.971292</td>\n",
       "      <td>0.962129</td>\n",
       "      <td>0.961392</td>\n",
       "      <td>0.945201</td>\n",
       "    </tr>\n",
       "    <tr>\n",
       "      <th>2</th>\n",
       "      <td>0.988444</td>\n",
       "      <td>0.962504</td>\n",
       "      <td>0.958572</td>\n",
       "      <td>0.922293</td>\n",
       "      <td>0.911231</td>\n",
       "      <td>0.865026</td>\n",
       "      <td>0.887000</td>\n",
       "      <td>0.854849</td>\n",
       "    </tr>\n",
       "    <tr>\n",
       "      <th>3</th>\n",
       "      <td>0.886229</td>\n",
       "      <td>0.711139</td>\n",
       "      <td>0.796595</td>\n",
       "      <td>0.655735</td>\n",
       "      <td>0.728412</td>\n",
       "      <td>0.588786</td>\n",
       "      <td>0.691905</td>\n",
       "      <td>0.575625</td>\n",
       "    </tr>\n",
       "    <tr>\n",
       "      <th>4</th>\n",
       "      <td>0.990588</td>\n",
       "      <td>0.972832</td>\n",
       "      <td>0.975532</td>\n",
       "      <td>0.956847</td>\n",
       "      <td>0.954829</td>\n",
       "      <td>0.936406</td>\n",
       "      <td>0.929458</td>\n",
       "      <td>0.907596</td>\n",
       "    </tr>\n",
       "  </tbody>\n",
       "</table>\n",
       "</div>"
      ],
      "text/plain": [
       "          0         1         2         3         4         5         6  \\\n",
       "0  0.928893  0.813373  0.847829  0.699681  0.811959  0.677124  0.717996   \n",
       "1  0.995896  0.989418  0.987164  0.973540  0.971292  0.962129  0.961392   \n",
       "2  0.988444  0.962504  0.958572  0.922293  0.911231  0.865026  0.887000   \n",
       "3  0.886229  0.711139  0.796595  0.655735  0.728412  0.588786  0.691905   \n",
       "4  0.990588  0.972832  0.975532  0.956847  0.954829  0.936406  0.929458   \n",
       "\n",
       "          7  \n",
       "0  0.639108  \n",
       "1  0.945201  \n",
       "2  0.854849  \n",
       "3  0.575625  \n",
       "4  0.907596  "
      ]
     },
     "execution_count": 96,
     "metadata": {},
     "output_type": "execute_result"
    }
   ],
   "source": [
    "Rk_arr"
   ]
  },
  {
   "cell_type": "code",
   "execution_count": 99,
   "id": "c94d67d8",
   "metadata": {},
   "outputs": [
    {
     "data": {
      "image/png": "[encoded data removed]",
      "text/plain": [
       "<Figure size 1500x500 with 2 Axes>"
      ]
     },
     "metadata": {},
     "output_type": "display_data"
    },
    {
     "data": {
      "text/plain": [
       "<Figure size 640x480 with 0 Axes>"
      ]
     },
     "metadata": {},
     "output_type": "display_data"
    }
   ],
   "source": [
    "# Now the arrays are ready for plotting \n",
    "data_s = pd.DataFrame(NKnee_av_final,columns=['8 pks','No pks'], index=['2s','5s','10s','15s'])\n",
    "fig, ax = imagesc.seaborn(data_s.values, data_s.index.values, data_s.columns.values,\n",
    "                          cmap='rocket_r', vmin=0.75, vmax=1.0)\n",
    "\n",
    "plt.savefig(\"Group_Sens_matrix_No_knee_30-45.svg\", dpi = 600 )\n",
    "\n"
   ]
  },
  {
   "cell_type": "code",
   "execution_count": 98,
   "id": "9f43f7f8",
   "metadata": {},
   "outputs": [
    {
     "data": {
      "image/png": "[encoded data removed]",
      "text/plain": [
       "<Figure size 1500x500 with 2 Axes>"
      ]
     },
     "metadata": {},
     "output_type": "display_data"
    },
    {
     "data": {
      "text/plain": [
       "<Figure size 640x480 with 0 Axes>"
      ]
     },
     "metadata": {},
     "output_type": "display_data"
    }
   ],
   "source": [
    "# Now the arrays are ready for plotting \n",
    "data_s = pd.DataFrame(Knee_av_final,columns=['8 pks','No pks'], index=['2s','5s','10s','15s'])\n",
    "fig, ax = imagesc.seaborn(data_s.values, data_s.index.values, data_s.columns.values,\n",
    "                          cmap='rocket_r', vmin=0.95, vmax=1.0)\n",
    "\n",
    "plt.savefig(\"Group_Sens_matrix_No_knee_30-45.svg\", dpi = 600 )\n"
   ]
  },
  {
   "cell_type": "code",
   "execution_count": null,
   "id": "c7abbafb",
   "metadata": {},
   "outputs": [],
   "source": []
  }
 ],
 "metadata": {
  "kernelspec": {
   "display_name": "Python [conda env:mne]",
   "language": "python",
   "name": "conda-env-mne-py"
  },
  "language_info": {
   "codemirror_mode": {
    "name": "ipython",
    "version": 3
   },
   "file_extension": ".py",
   "mimetype": "text/x-python",
   "name": "python",
   "nbconvert_exporter": "python",
   "pygments_lexer": "ipython3",
   "version": "3.10.6"
  }
 },
 "nbformat": 4,
 "nbformat_minor": 5
}
