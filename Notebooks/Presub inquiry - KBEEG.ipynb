{
 "cells": [
  {
   "cell_type": "code",
   "execution_count": 2,
   "id": "50c0c211",
   "metadata": {},
   "outputs": [],
   "source": [
    "import numpy as np\n",
    "import matplotlib.pyplot as plt\n",
    "\n",
    "import seaborn as sns\n",
    "sns.set_context('talk')\n",
    "# Import LISC code\n",
    "from lisc import Counts\n",
    "from lisc.utils import save_object, load_object\n",
    "from lisc.plts.counts import plot_matrix\n",
    "from lisc.plts.utils import get_cmap\n",
    "# Import custom project code\n",
    "import sys\n",
    "sys.path.append('/home/b1044271/Columbia/bratios')\n",
    "\n",
    "# Import the Base object used in LISC\n",
    "from lisc.objects.base import Base\n",
    "\n",
    "import csv\n",
    "import json\n",
    "from pathlib import Path\n",
    "\n",
    "import numpy as np\n",
    "import matplotlib.pyplot as plt\n",
    "import seaborn as sns\n",
    "\n",
    "from lisc.collect import collect_info, collect_counts\n",
    "from lisc.plts.utils import get_cmap\n",
    "from lisc.plts.words import plot_years\n",
    "from lisc.plts.counts import plot_matrix\n",
    "\n",
    "# Import custom project code\n",
    "import sys\n",
    "sys.path.append(\"/home/b1044271/Columbia/ERPscanr-main/code/\")\n",
    "\n",
    "from plts import plot_year_comparison"
   ]
  },
  {
   "cell_type": "code",
   "execution_count": 9,
   "id": "80137669",
   "metadata": {},
   "outputs": [],
   "source": [
    "# Initialize counts object\n",
    "counts = Counts()\n",
    "# Initialize a base object\n",
    "base = Base()\n",
    "# Settings for literature collection\n",
    "db = 'pubmed'\n",
    "# Notebook settings\n",
    "SAVE_FIG = False    # Whether to save out figures\n",
    "SAVE_DATA = False   # Whether to save out collected literature data\n",
    "RUN_COL = False     # Whether to re-run the data collection. \n",
    "                    #   If False, tries to load previously saved data\n",
    "    \n",
    "# Set terms list\n",
    "#   Note: each set of terms within a list is a defined as a set of synonyms\n",
    "br_terms = [['motor adaptation','motor adaptive', 'Visuomotor adaptation'],\n",
    "            ['motor learning'],\n",
    "           ]\n",
    "\n",
    "# Set list of association terms of interest\n",
    "#assoc_terms = [\n",
    "           # [''],\n",
    "           #   ]\n",
    "\n",
    "# find only brain related papers\n",
    "inclusions = [['brain'], ['brain']]\n",
    "\n",
    "# Check that the search terms and inclusions line up\n",
    "assert len(br_terms) == len(inclusions)\n"
   ]
  },
  {
   "cell_type": "code",
   "execution_count": 10,
   "id": "357c056f",
   "metadata": {},
   "outputs": [
    {
     "name": "stdout",
     "output_type": "stream",
     "text": [
      "List of terms used: \n",
      "\n",
      "motor adaptation  : motor adaptation, motor adaptive, Visuomotor adaptation\n",
      "motor learning    : motor learning\n",
      "List of terms used: \n",
      "\n"
     ]
    },
    {
     "ename": "ValueError",
     "evalue": "'=' alignment not allowed in string format specifier",
     "output_type": "error",
     "traceback": [
      "\u001b[0;31m---------------------------------------------------------------------------\u001b[0m",
      "\u001b[0;31mValueError\u001b[0m                                Traceback (most recent call last)",
      "Input \u001b[0;32mIn [10]\u001b[0m, in \u001b[0;36m<cell line: 9>\u001b[0;34m()\u001b[0m\n\u001b[1;32m      7\u001b[0m \u001b[38;5;66;03m# Check terms\u001b[39;00m\n\u001b[1;32m      8\u001b[0m counts\u001b[38;5;241m.\u001b[39mterms[\u001b[38;5;124m'\u001b[39m\u001b[38;5;124mA\u001b[39m\u001b[38;5;124m'\u001b[39m]\u001b[38;5;241m.\u001b[39mcheck_terms()\n\u001b[0;32m----> 9\u001b[0m \u001b[43mcounts\u001b[49m\u001b[38;5;241;43m.\u001b[39;49m\u001b[43mterms\u001b[49m\u001b[43m[\u001b[49m\u001b[38;5;124;43m'\u001b[39;49m\u001b[38;5;124;43mB\u001b[39;49m\u001b[38;5;124;43m'\u001b[39;49m\u001b[43m]\u001b[49m\u001b[38;5;241;43m.\u001b[39;49m\u001b[43mcheck_terms\u001b[49m\u001b[43m(\u001b[49m\u001b[43m)\u001b[49m\n\u001b[1;32m     12\u001b[0m \u001b[38;5;66;03m# Collect co-occurrence data\u001b[39;00m\n\u001b[1;32m     13\u001b[0m counts\u001b[38;5;241m.\u001b[39mrun_collection(verbose\u001b[38;5;241m=\u001b[39m\u001b[38;5;28;01mTrue\u001b[39;00m)\n",
      "File \u001b[0;32m~/anaconda3/lib/python3.9/site-packages/lisc/objects/base.py:258\u001b[0m, in \u001b[0;36mBase.check_terms\u001b[0;34m(self, term_type)\u001b[0m\n\u001b[1;32m    256\u001b[0m width \u001b[38;5;241m=\u001b[39m \u001b[38;5;28mlen\u001b[39m(\u001b[38;5;28mmax\u001b[39m(\u001b[38;5;28mself\u001b[39m\u001b[38;5;241m.\u001b[39mlabels, key\u001b[38;5;241m=\u001b[39m\u001b[38;5;28mlen\u001b[39m))\n\u001b[1;32m    257\u001b[0m \u001b[38;5;28;01mfor\u001b[39;00m label, terms \u001b[38;5;129;01min\u001b[39;00m \u001b[38;5;28mzip\u001b[39m(\u001b[38;5;28mself\u001b[39m\u001b[38;5;241m.\u001b[39mlabels, \u001b[38;5;28mgetattr\u001b[39m(\u001b[38;5;28mself\u001b[39m, term_type)):\n\u001b[0;32m--> 258\u001b[0m     \u001b[38;5;28mprint\u001b[39m(\u001b[38;5;124;43m'\u001b[39;49m\u001b[38;5;124;43m{\u001b[39;49m\u001b[38;5;124;43m:\u001b[39;49m\u001b[38;5;132;43;01m{width}\u001b[39;49;00m\u001b[38;5;124;43ms}  : \u001b[39;49m\u001b[38;5;124;43m'\u001b[39;49m\u001b[38;5;241;43m.\u001b[39;49m\u001b[43mformat\u001b[49m\u001b[43m(\u001b[49m\u001b[43mlabel\u001b[49m\u001b[43m,\u001b[49m\u001b[43m \u001b[49m\u001b[43mwidth\u001b[49m\u001b[38;5;241;43m=\u001b[39;49m\u001b[43mwidth\u001b[49m\u001b[43m)\u001b[49m \u001b[38;5;241m+\u001b[39m \u001b[38;5;124m\"\u001b[39m\u001b[38;5;124m, \u001b[39m\u001b[38;5;124m\"\u001b[39m\u001b[38;5;241m.\u001b[39mjoin(term \u001b[38;5;28;01mfor\u001b[39;00m term \u001b[38;5;129;01min\u001b[39;00m terms))\n",
      "\u001b[0;31mValueError\u001b[0m: '=' alignment not allowed in string format specifier"
     ]
    }
   ],
   "source": [
    "# Add band-ratio terms to the LISC object\n",
    "counts.add_terms(br_terms)\n",
    "# Add the inclusion and exclusions\n",
    "counts.add_terms(inclusions, term_type='inclusions')\n",
    "# Add association terms to the LISC object\n",
    "counts.add_terms(assoc_terms, dim='B')\n",
    "# Check terms\n",
    "counts.terms['A'].check_terms()\n",
    "counts.terms['B'].check_terms()\n",
    "\n",
    "\n",
    "# Collect co-occurrence data\n",
    "counts.run_collection(verbose=True)"
   ]
  },
  {
   "cell_type": "code",
   "execution_count": 5,
   "id": "77051cc3",
   "metadata": {},
   "outputs": [
    {
     "name": "stdout",
     "output_type": "stream",
     "text": [
      "The number of documents found for each search term is:\n",
      "  'motor adaptation'   -    25\n",
      "  'motor learning'     -   179\n"
     ]
    },
    {
     "data": {
      "text/plain": [
       "([<matplotlib.axis.XTick at 0x7fd240c954c0>,\n",
       "  <matplotlib.axis.XTick at 0x7fd240c95490>],\n",
       " [Text(1, 0, 'MA'), Text(2, 0, 'ML')])"
      ]
     },
     "execution_count": 5,
     "metadata": {},
     "output_type": "execute_result"
    },
    {
     "data": {
      "image/png": "[encoded data removed]",
      "text/plain": [
       "<Figure size 720x576 with 3 Axes>"
      ]
     },
     "metadata": {
      "needs_background": "light"
     },
     "output_type": "display_data"
    }
   ],
   "source": [
    "# Check how many papers were found for each ratio search term\n",
    "counts.check_counts()\n",
    "# Since different ratios have different numbers of results, we will normalize the association results\n",
    "counts.compute_score('normalize', dim='A')\n",
    "# Set adapted versions of the labels to use as plot labels\n",
    "ratio_labels = ['MA','ML']\n",
    "assoc_labels = ['Sleep']\n",
    "\n",
    "# Plot the associations of band ratio measures in the literature\n",
    "fig, (ax,ax2) = plt.subplots(1,2, figsize=(10, 8))\n",
    "plot_matrix(counts.score, assoc_labels, ratio_labels, cmap='blue', square=True, ax=ax)\n",
    "ax2.bar([1,2],[212, 1593], width=0.8, bottom=None, align='center', data=None)\n",
    "plt.xticks([1,2], ['MA', 'ML'])\n"
   ]
  },
  {
   "cell_type": "code",
   "execution_count": 6,
   "id": "c4817feb",
   "metadata": {},
   "outputs": [
    {
     "name": "stdout",
     "output_type": "stream",
     "text": [
      "List of terms used: \n",
      "\n",
      "motor adaptation  : motor adaptation, motor adaptive, Visuomotor adaptation\n",
      "motor learning    : motor learning\n",
      "List of terms used: \n",
      "\n",
      "sleep  : sleep, Sleep stage, polysomnography, nap\n",
      "Running counts for:  motor adaptation\n",
      "Running counts for:  motor learning\n",
      "The number of documents found for each search term is:\n",
      "  'motor adaptation'   -    25\n",
      "  'motor learning'     -   179\n"
     ]
    },
    {
     "data": {
      "text/plain": [
       "([<matplotlib.axis.XTick at 0x7fd240a9d2b0>,\n",
       "  <matplotlib.axis.XTick at 0x7fd240a9d280>],\n",
       " [Text(1, 0, 'MA'), Text(2, 0, 'ML')])"
      ]
     },
     "execution_count": 6,
     "metadata": {},
     "output_type": "execute_result"
    },
    {
     "data": {
      "image/png": "[encoded data removed]",
      "text/plain": [
       "<Figure size 720x576 with 3 Axes>"
      ]
     },
     "metadata": {
      "needs_background": "light"
     },
     "output_type": "display_data"
    }
   ],
   "source": [
    "# Initialize counts object\n",
    "counts = Counts()\n",
    "# Initialize a base object\n",
    "base = Base()\n",
    "# Settings for literature collection\n",
    "db = 'pubmed'\n",
    "# Notebook settings\n",
    "SAVE_FIG = False    # Whether to save out figures\n",
    "SAVE_DATA = False   # Whether to save out collected literature data\n",
    "RUN_COL = False     # Whether to re-run the data collection. \n",
    "                    #   If False, tries to load previously saved data\n",
    "    \n",
    "# Set terms list\n",
    "#   Note: each set of terms within a list is a defined as a set of synonyms\n",
    "br_terms = [['motor adaptation','motor adaptive', 'Visuomotor adaptation'],\n",
    "            ['motor learning'],\n",
    "           ]\n",
    "\n",
    "# Set list of association terms of interest\n",
    "assoc_terms = [\n",
    "            ['sleep','Sleep stage', 'polysomnography', 'nap'],\n",
    "              ]\n",
    "\n",
    "# find only brain related papers\n",
    "inclusions = [['sleep'], ['sleep']]\n",
    "\n",
    "# Check that the search terms and inclusions line up\n",
    "assert len(br_terms) == len(inclusions)\n",
    "\n",
    "# Add band-ratio terms to the LISC object\n",
    "counts.add_terms(br_terms)\n",
    "# Add the inclusion and exclusions\n",
    "counts.add_terms(inclusions, term_type='inclusions')\n",
    "# Add association terms to the LISC object\n",
    "counts.add_terms(assoc_terms, dim='B')\n",
    "# Check terms\n",
    "counts.terms['A'].check_terms()\n",
    "counts.terms['B'].check_terms()\n",
    "\n",
    "\n",
    "# Collect co-occurrence data\n",
    "counts.run_collection(verbose=True)\n",
    "\n",
    "# Check how many papers were found for each ratio search term\n",
    "counts.check_counts()\n",
    "# Since different ratios have different numbers of results, we will normalize the association results\n",
    "counts.compute_score('normalize', dim='A')\n",
    "# Set adapted versions of the labels to use as plot labels\n",
    "ratio_labels = ['MA','ML']\n",
    "assoc_labels = ['Sleep']\n",
    "\n",
    "# Plot the associations of band ratio measures in the literature\n",
    "fig, (ax,ax2) = plt.subplots(1,2, figsize=(10, 8))\n",
    "plot_matrix(counts.score, assoc_labels, ratio_labels, cmap='blue', square=True, ax=ax)\n",
    "ax2.bar([1,2],[25, 179], width=0.8, bottom=None, align='center', data=None)\n",
    "plt.xticks([1,2], ['MA', 'ML'])\n"
   ]
  },
  {
   "cell_type": "code",
   "execution_count": null,
   "id": "a4386c72",
   "metadata": {},
   "outputs": [],
   "source": [
    "# time series\n",
    "# Define the range of the decades to collect information on\n",
    "start_decade, end_decade = 1990, 2022\n",
    "decades = list(range(start_decade, end_decade, 10))\n",
    "    \n",
    "# Define a list of modalities of interest, with synonyms\n",
    "modality_terms = [['motor adaptation','motor adaptive', 'VIsuomotor adaptation'],\n",
    "            ['motor learning'],\n",
    "           ]\n",
    "# Define a list of labels to use for the method terms\n",
    "modality_labels = [lst[0] for lst in modality_terms]"
   ]
  },
  {
   "cell_type": "code",
   "execution_count": null,
   "id": "a5c09db7",
   "metadata": {},
   "outputs": [],
   "source": []
  },
  {
   "cell_type": "code",
   "execution_count": null,
   "id": "2e51e34f",
   "metadata": {},
   "outputs": [],
   "source": [
    "# Notebook settings\n",
    "SAVE_FIG = False\n",
    "SAVE_DATA = False\n",
    "RUN_COLLECTION = True\n",
    "# Collect information across each decade of interest\n",
    "if RUN_COLLECTION:\n",
    "    \n",
    "    decade_counts = []\n",
    "    for start_year in decades:\n",
    "\n",
    "        count, _ = collect_counts(modality_terms, inclusions_a=inclusions\n",
    "                                  collect_coocs=False,\n",
    "                                  mindate=str(start_year) + '/01/01',\n",
    "                                  maxdate=str(start_year+9) + '/12/31')\n",
    "        decade_counts.append(count)\n",
    "\n",
    "    # Convert the collected data into an array, of [n_terms, decade_counts]\n",
    "    decade_counts = np.array(decade_counts).T\n",
    "    \n",
    "    if SAVE_DATA:\n",
    "        # Save out the collected data for the method counts by decade\n",
    "        for ind, label in enumerate(modality_labels):\n",
    "            for decade, count in zip(decades, decade_counts):\n",
    "                with open(data_dir / 'decades' / (label + '.csv'), 'w') as save_file:\n",
    "                    for decade, count in zip(decades, decade_counts[ind, :]):\n",
    "                        save_file.write(str(decade) + ',' + str(count) +'\\n')\n",
    "                        \n",
    "else:\n",
    "    decade_counts = []\n",
    "    for m_term in modality_labels:\n",
    "        with open(data_dir / 'decades'/ (m_term + '.csv'), 'r') as f_obj:\n",
    "            count = np.array([row[1] for row in csv.reader(f_obj)], dtype='int')\n",
    "        decade_counts.append(count)\n",
    "    decade_counts = np.array(decade_counts)"
   ]
  },
  {
   "cell_type": "code",
   "execution_count": 12,
   "id": "5f18e28e",
   "metadata": {},
   "outputs": [
    {
     "data": {
      "text/plain": [
       "array([[0.01886792],\n",
       "       [0.03013183]])"
      ]
     },
     "execution_count": 12,
     "metadata": {},
     "output_type": "execute_result"
    }
   ],
   "source": [
    "counts.score"
   ]
  },
  {
   "cell_type": "code",
   "execution_count": 17,
   "id": "661ae6ca",
   "metadata": {},
   "outputs": [
    {
     "data": {
      "text/plain": [
       "array([0.03013183])"
      ]
     },
     "execution_count": 17,
     "metadata": {},
     "output_type": "execute_result"
    }
   ],
   "source": [
    "counts.score[1]"
   ]
  },
  {
   "cell_type": "code",
   "execution_count": 18,
   "id": "ef991ddf",
   "metadata": {},
   "outputs": [
    {
     "data": {
      "text/plain": [
       "[1]"
      ]
     },
     "execution_count": 18,
     "metadata": {},
     "output_type": "execute_result"
    }
   ],
   "source": [
    "[1]"
   ]
  },
  {
   "cell_type": "code",
   "execution_count": 19,
   "id": "9364e241",
   "metadata": {},
   "outputs": [
    {
     "data": {
      "text/plain": [
       "array([0.01886792, 0.03013183])"
      ]
     },
     "execution_count": 19,
     "metadata": {},
     "output_type": "execute_result"
    }
   ],
   "source": [
    "np.concatenate(counts.score)"
   ]
  },
  {
   "cell_type": "code",
   "execution_count": 21,
   "id": "8d59973e",
   "metadata": {},
   "outputs": [
    {
     "data": {
      "text/plain": [
       "array([0.01886792, 0.03013183])"
      ]
     },
     "execution_count": 21,
     "metadata": {},
     "output_type": "execute_result"
    }
   ],
   "source": [
    "counts.score.flatten()"
   ]
  },
  {
   "cell_type": "code",
   "execution_count": 27,
   "id": "88ba84a8",
   "metadata": {},
   "outputs": [
    {
     "data": {
      "text/plain": [
       "<lisc.objects.counts.Counts at 0x7fccf1e1e7f0>"
      ]
     },
     "execution_count": 27,
     "metadata": {},
     "output_type": "execute_result"
    }
   ],
   "source": [
    "counts"
   ]
  },
  {
   "cell_type": "code",
   "execution_count": 28,
   "id": "a7d66f48",
   "metadata": {},
   "outputs": [
    {
     "ename": "AttributeError",
     "evalue": "'Counts' object has no attribute 'objects'",
     "output_type": "error",
     "traceback": [
      "\u001b[0;31m---------------------------------------------------------------------------\u001b[0m",
      "\u001b[0;31mAttributeError\u001b[0m                            Traceback (most recent call last)",
      "Input \u001b[0;32mIn [28]\u001b[0m, in \u001b[0;36m<cell line: 1>\u001b[0;34m()\u001b[0m\n\u001b[0;32m----> 1\u001b[0m \u001b[43mcounts\u001b[49m\u001b[38;5;241;43m.\u001b[39;49m\u001b[43mobjects\u001b[49m\n",
      "\u001b[0;31mAttributeError\u001b[0m: 'Counts' object has no attribute 'objects'"
     ]
    }
   ],
   "source": [
    "counts.objects"
   ]
  },
  {
   "cell_type": "code",
   "execution_count": 32,
   "id": "b1c2fe90",
   "metadata": {},
   "outputs": [
    {
     "name": "stdout",
     "output_type": "stream",
     "text": [
      "Object `compute_score` not found.\n"
     ]
    }
   ],
   "source": [
    "compute_score?"
   ]
  },
  {
   "cell_type": "code",
   "execution_count": null,
   "id": "8fee315d",
   "metadata": {},
   "outputs": [],
   "source": []
  }
 ],
 "metadata": {
  "kernelspec": {
   "display_name": "Python 3 (ipykernel)",
   "language": "python",
   "name": "python3"
  },
  "language_info": {
   "codemirror_mode": {
    "name": "ipython",
    "version": 3
   },
   "file_extension": ".py",
   "mimetype": "text/x-python",
   "name": "python",
   "nbconvert_exporter": "python",
   "pygments_lexer": "ipython3",
   "version": "3.9.12"
  }
 },
 "nbformat": 4,
 "nbformat_minor": 5
}
