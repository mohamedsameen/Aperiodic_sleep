{
 "cells": [
  {
   "cell_type": "code",
   "execution_count": 1,
   "id": "6f4364ca",
   "metadata": {},
   "outputs": [],
   "source": [
    "import mne\n",
    "import numpy as np\n",
    "import matplotlib.pyplot as plt\n",
    "import os\n",
    "import pandas as pd\n",
    "# Import the FOOOF object\n",
    "from fooof import FOOOF\n",
    "from fooof import FOOOFGroup\n",
    "# Import a utility to download and load example data\n",
    "from fooof.utils.download import load_fooof_data\n",
    "from pathlib import Path\n",
    "\n"
   ]
  },
  {
   "cell_type": "code",
   "execution_count": 2,
   "id": "f6e8373c",
   "metadata": {},
   "outputs": [],
   "source": [
    "# get the staging list\n",
    "path_stage = Path('/home/b1044271/EEGsleep/SleepStaging/mat/mne2/')\n",
    "stage_files = os.listdir(path_stage)\n",
    "stage_files = [file for file in stage_files]\n",
    "stage_files = sorted(stage_files)\n",
    "\n",
    "# get the subjects list\n",
    "Data_path = '/home/b1044271/Columbia/Preprocessed/Better_ica/'\n",
    "subj_files = os.listdir(Data_path)\n",
    "subj_files = [file for file in subj_files]\n",
    "subj_files = sorted(subj_files)\n",
    "\n",
    "# Create path for results\n",
    "path_results = Path('/home/b1044271/Columbia/Results/Time-resolved')\n"
   ]
  },
  {
   "cell_type": "code",
   "execution_count": 16,
   "id": "407f3c41",
   "metadata": {},
   "outputs": [],
   "source": [
    "# Settings for the analyses\n",
    "SETTINGS_B = { 'method' : 'welch', 'average' : 'mean', 'fmin' :1 }\n",
    "\n",
    "t = 5 #in seconds\n",
    "f_max =  45\n",
    "electrode = 'E257'"
   ]
  },
  {
   "cell_type": "code",
   "execution_count": 4,
   "id": "bc74c4b1",
   "metadata": {},
   "outputs": [
    {
     "name": "stderr",
     "output_type": "stream",
     "text": [
      "/home/b1044271/anaconda3/envs/mne/lib/python3.10/site-packages/pymatreader/utils.py:122: UserWarning: Complex objects (like classes) are not supported. They are imported on a best effort base but your mileage will vary.\n",
      "  warn('Complex objects (like classes) are not supported. '\n",
      "/tmp/ipykernel_3585841/1293989419.py:2: RuntimeWarning: Data will be preloaded. preload=False or a string preload is not supported when the data is stored in the .set file\n",
      "  EEG = mne.io.read_raw_eeglab(os.path.join(Data_path, subj_files[0])) # read raw .set file\n",
      "/tmp/ipykernel_3585841/1293989419.py:2: RuntimeWarning: Limited 1 annotation(s) that were expanding outside the data range.\n",
      "  EEG = mne.io.read_raw_eeglab(os.path.join(Data_path, subj_files[0])) # read raw .set file\n"
     ]
    },
    {
     "name": "stdout",
     "output_type": "stream",
     "text": [
      "Not setting metadata\n",
      "27760 matching events found\n",
      "No baseline correction applied\n",
      "0 projection items activated\n"
     ]
    }
   ],
   "source": [
    "# START\n",
    "EEG = mne.io.read_raw_eeglab(os.path.join(Data_path, subj_files[0])) # read raw .set file\n",
    "EEG1 = EEG.pick(electrode, exclude=[]) # select Cz for further analysis\n",
    "\n",
    "EEG_seg = mne.make_fixed_length_epochs(EEG1, duration = 5, reject_by_annotation = 'True', overlap = 4)\n",
    "  "
   ]
  },
  {
   "cell_type": "code",
   "execution_count": 8,
   "id": "04899760",
   "metadata": {},
   "outputs": [
    {
     "name": "stdout",
     "output_type": "stream",
     "text": [
      "Not setting metadata\n",
      "27760 matching events found\n",
      "No baseline correction applied\n",
      "0 projection items activated\n"
     ]
    }
   ],
   "source": [
    "EEG_seg = mne.make_fixed_length_epochs(EEG1, duration = 5, reject_by_annotation = 'True', overlap = 4)\n"
   ]
  },
  {
   "cell_type": "code",
   "execution_count": 18,
   "id": "8665c8ab",
   "metadata": {},
   "outputs": [
    {
     "name": "stdout",
     "output_type": "stream",
     "text": [
      "Using data from preloaded Raw for 27760 events and 1250 original time points ...\n",
      "Effective window size : 5.000 (s)\n"
     ]
    }
   ],
   "source": [
    "X = EEG_seg.compute_psd(**SETTINGS_B, fmax=f_max, n_fft=250*t)"
   ]
  },
  {
   "cell_type": "code",
   "execution_count": 23,
   "id": "e5b676e2",
   "metadata": {
    "collapsed": true
   },
   "outputs": [
    {
     "data": {
      "text/plain": [
       "array([ 1. ,  1.2,  1.4,  1.6,  1.8,  2. ,  2.2,  2.4,  2.6,  2.8,  3. ,\n",
       "        3.2,  3.4,  3.6,  3.8,  4. ,  4.2,  4.4,  4.6,  4.8,  5. ,  5.2,\n",
       "        5.4,  5.6,  5.8,  6. ,  6.2,  6.4,  6.6,  6.8,  7. ,  7.2,  7.4,\n",
       "        7.6,  7.8,  8. ,  8.2,  8.4,  8.6,  8.8,  9. ,  9.2,  9.4,  9.6,\n",
       "        9.8, 10. , 10.2, 10.4, 10.6, 10.8, 11. , 11.2, 11.4, 11.6, 11.8,\n",
       "       12. , 12.2, 12.4, 12.6, 12.8, 13. , 13.2, 13.4, 13.6, 13.8, 14. ,\n",
       "       14.2, 14.4, 14.6, 14.8, 15. , 15.2, 15.4, 15.6, 15.8, 16. , 16.2,\n",
       "       16.4, 16.6, 16.8, 17. , 17.2, 17.4, 17.6, 17.8, 18. , 18.2, 18.4,\n",
       "       18.6, 18.8, 19. , 19.2, 19.4, 19.6, 19.8, 20. , 20.2, 20.4, 20.6,\n",
       "       20.8, 21. , 21.2, 21.4, 21.6, 21.8, 22. , 22.2, 22.4, 22.6, 22.8,\n",
       "       23. , 23.2, 23.4, 23.6, 23.8, 24. , 24.2, 24.4, 24.6, 24.8, 25. ,\n",
       "       25.2, 25.4, 25.6, 25.8, 26. , 26.2, 26.4, 26.6, 26.8, 27. , 27.2,\n",
       "       27.4, 27.6, 27.8, 28. , 28.2, 28.4, 28.6, 28.8, 29. , 29.2, 29.4,\n",
       "       29.6, 29.8, 30. , 30.2, 30.4, 30.6, 30.8, 31. , 31.2, 31.4, 31.6,\n",
       "       31.8, 32. , 32.2, 32.4, 32.6, 32.8, 33. , 33.2, 33.4, 33.6, 33.8,\n",
       "       34. , 34.2, 34.4, 34.6, 34.8, 35. , 35.2, 35.4, 35.6, 35.8, 36. ,\n",
       "       36.2, 36.4, 36.6, 36.8, 37. , 37.2, 37.4, 37.6, 37.8, 38. , 38.2,\n",
       "       38.4, 38.6, 38.8, 39. , 39.2, 39.4, 39.6, 39.8, 40. , 40.2, 40.4,\n",
       "       40.6, 40.8, 41. , 41.2, 41.4, 41.6, 41.8, 42. , 42.2, 42.4, 42.6,\n",
       "       42.8, 43. , 43.2, 43.4, 43.6, 43.8, 44. , 44.2, 44.4, 44.6, 44.8,\n",
       "       45. ])"
      ]
     },
     "execution_count": 23,
     "metadata": {},
     "output_type": "execute_result"
    }
   ],
   "source": [
    "X._freqs"
   ]
  },
  {
   "cell_type": "code",
   "execution_count": 22,
   "id": "1324f93d",
   "metadata": {},
   "outputs": [],
   "source": [
    "#FOOOF settings\n",
    "SETTINGS_F1={'max_n_peaks':8, 'aperiodic_mode':'fixed'}\n",
    "SETTINGS_F2={'max_n_peaks':8, 'aperiodic_mode':'knee'}\n",
    "\n",
    "fm1 = FOOOFGroup(**SETTINGS_F1)\n",
    "fm2 = FOOOFGroup(**SETTINGS_F2)"
   ]
  },
  {
   "cell_type": "code",
   "execution_count": null,
   "id": "052056cc",
   "metadata": {},
   "outputs": [
    {
     "name": "stdout",
     "output_type": "stream",
     "text": [
      "Running FOOOFGroup across 27760 power spectra.\n"
     ]
    }
   ],
   "source": [
    "fm1.fit(X._freqs, np.squeeze(X._data), [X._freqs[0] , X._freqs[-1]])\n"
   ]
  },
  {
   "cell_type": "code",
   "execution_count": 25,
   "id": "5786522a",
   "metadata": {},
   "outputs": [
    {
     "data": {
      "text/plain": [
       "(27760, 1, 221)"
      ]
     },
     "execution_count": 25,
     "metadata": {},
     "output_type": "execute_result"
    }
   ],
   "source": [
    "fm2.fit(X._freqs, np.squeeze(X._data), [X._freqs[0] , X._freqs[-1]])\n"
   ]
  },
  {
   "cell_type": "code",
   "execution_count": null,
   "id": "d069b268",
   "metadata": {},
   "outputs": [],
   "source": []
  }
 ],
 "metadata": {
  "kernelspec": {
   "display_name": "Python [conda env:mne]",
   "language": "python",
   "name": "conda-env-mne-py"
  },
  "language_info": {
   "codemirror_mode": {
    "name": "ipython",
    "version": 3
   },
   "file_extension": ".py",
   "mimetype": "text/x-python",
   "name": "python",
   "nbconvert_exporter": "python",
   "pygments_lexer": "ipython3",
   "version": "3.10.6"
  }
 },
 "nbformat": 4,
 "nbformat_minor": 5
}
