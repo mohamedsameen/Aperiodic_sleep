{
 "cells": [
  {
   "cell_type": "code",
   "execution_count": 50,
   "id": "57de691d",
   "metadata": {},
   "outputs": [],
   "source": [
    "import os\n",
    "from pathlib import Path"
   ]
  },
  {
   "cell_type": "code",
   "execution_count": 5,
   "id": "ecfd2186",
   "metadata": {},
   "outputs": [],
   "source": [
    "# Path as a str\n",
    "path = '/Users/tom/Desktop/temp/'"
   ]
  },
  {
   "cell_type": "code",
   "execution_count": 18,
   "id": "770eb017",
   "metadata": {},
   "outputs": [],
   "source": [
    "# Path as a path object\n",
    "BASE_PATH = Path('/Users/tom/Desktop/temp/')"
   ]
  },
  {
   "cell_type": "code",
   "execution_count": null,
   "id": "b4d3c2a0",
   "metadata": {},
   "outputs": [],
   "source": [
    "# Example making a path - from string\n",
    "#os.mkdir('/Users/tomdonoghue/temp')"
   ]
  },
  {
   "cell_type": "code",
   "execution_count": 21,
   "id": "611fc840",
   "metadata": {},
   "outputs": [],
   "source": [
    "# Example making a path - from path object\n",
    "#os.mkdir(BASE_PATH / 'analysis')"
   ]
  },
  {
   "cell_type": "code",
   "execution_count": 52,
   "id": "8fed9a30",
   "metadata": {},
   "outputs": [],
   "source": [
    "# Helping function for checking / making paths\n",
    "def check_path(path):\n",
    "    \n",
    "    if not os.path.exists(path):\n",
    "        os.mkdir(path)"
   ]
  },
  {
   "cell_type": "code",
   "execution_count": 30,
   "id": "ccc87396",
   "metadata": {},
   "outputs": [],
   "source": [
    "# Example loop creating paths for a subject / stage, etc\n",
    "subject = 's12'\n",
    "\n",
    "stages = ['N1', 'N2', 'N3']\n",
    "\n",
    "#if not os.path.exists(BASE_PATH / subject):\n",
    "#    os.mkdir(BASE_PATH / subject)\n",
    "check_path(BASE_PATH / subject)\n",
    "\n",
    "for stage in stages:\n",
    "\n",
    "    #if not os.path.exists(BASE_PATH / subject / stage):\n",
    "    #    os.mkdir(BASE_PATH / subject / stage)\n",
    "    \n",
    "    check_path(BASE_PATH / subject / stage)\n",
    "    \n",
    "    # do analysis....\n",
    "    \n",
    "    # save out \n",
    "    #fg.save(file_name, directory=BASE_PATH / subject / stage)\n",
    "    \n",
    "    "
   ]
  },
  {
   "cell_type": "code",
   "execution_count": 29,
   "id": "3f487428",
   "metadata": {},
   "outputs": [],
   "source": []
  },
  {
   "cell_type": "code",
   "execution_count": 53,
   "id": "1f60dd19",
   "metadata": {},
   "outputs": [],
   "source": [
    "# Example paths object for the project\n",
    "class Paths():\n",
    "    \n",
    "    def __init__(self, base, subject, stage):\n",
    "        \n",
    "        self.base = Path(base)\n",
    "        self.subject = subject\n",
    "        self.stage = stage\n",
    "        \n",
    "    @property\n",
    "    def subject_path(self):\n",
    "        return BASE_PATH / subject\n",
    "    \n",
    "    @property\n",
    "    def stage_path(self):\n",
    "        return BASE_PATH / subject / stage"
   ]
  },
  {
   "cell_type": "code",
   "execution_count": 54,
   "id": "cec173ad",
   "metadata": {},
   "outputs": [],
   "source": [
    "paths = Paths(BASE_PATH, subject, stage)"
   ]
  },
  {
   "cell_type": "code",
   "execution_count": 55,
   "id": "6fed9950",
   "metadata": {},
   "outputs": [
    {
     "data": {
      "text/plain": [
       "PosixPath('/Users/tom/Desktop/temp/s12')"
      ]
     },
     "execution_count": 55,
     "metadata": {},
     "output_type": "execute_result"
    }
   ],
   "source": [
    "paths.subject_path"
   ]
  },
  {
   "cell_type": "code",
   "execution_count": 56,
   "id": "6d194478",
   "metadata": {},
   "outputs": [
    {
     "data": {
      "text/plain": [
       "PosixPath('/Users/tom/Desktop/temp/s12/N3')"
      ]
     },
     "execution_count": 56,
     "metadata": {},
     "output_type": "execute_result"
    }
   ],
   "source": [
    "paths.stage_path"
   ]
  },
  {
   "cell_type": "code",
   "execution_count": null,
   "id": "18158026",
   "metadata": {},
   "outputs": [],
   "source": []
  }
 ],
 "metadata": {
  "kernelspec": {
   "display_name": "Python 3 (ipykernel)",
   "language": "python",
   "name": "python3"
  },
  "language_info": {
   "codemirror_mode": {
    "name": "ipython",
    "version": 3
   },
   "file_extension": ".py",
   "mimetype": "text/x-python",
   "name": "python",
   "nbconvert_exporter": "python",
   "pygments_lexer": "ipython3",
   "version": "3.8.3"
  }
 },
 "nbformat": 4,
 "nbformat_minor": 5
}
