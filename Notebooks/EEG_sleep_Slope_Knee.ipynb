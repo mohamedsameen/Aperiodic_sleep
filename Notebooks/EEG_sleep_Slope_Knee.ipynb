{
 "cells": [
  {
   "cell_type": "markdown",
   "id": "c735b268",
   "metadata": {},
   "source": [
    "# Here we will plot the slope and the knee frqeuency per subject for each sleep stage "
   ]
  },
  {
   "cell_type": "code",
   "execution_count": 24,
   "id": "3ccac385",
   "metadata": {},
   "outputs": [],
   "source": [
    "import os\n",
    "from pathlib import Path\n",
    "import numpy as np\n",
    "import mne\n",
    "import pandas as pd\n",
    "\n",
    "# Use neurodsp for convenience\n",
    "from neurodsp.plts import plot_time_series, plot_power_spectra\n",
    "from neurodsp.spectral import compute_spectrum\n",
    "\n",
    "# Import fooof for checking model fits\n",
    "from fooof import FOOOF\n",
    "from fooof import FOOOFGroup\n",
    "\n",
    "# KNEE freqs\n",
    "from fooof.utils.params import compute_knee_frequency\n",
    "from fooof.utils.download import load_fooof_data\n",
    "\n",
    "# Plotting functions\n",
    "from spiketools.plts.utils import make_axes\n",
    "import matplotlib.pyplot as plt\n",
    "import seaborn\n"
   ]
  },
  {
   "cell_type": "markdown",
   "id": "09c9bc71",
   "metadata": {},
   "source": [
    "# GET PATHS"
   ]
  },
  {
   "cell_type": "code",
   "execution_count": 25,
   "id": "ab6bce60",
   "metadata": {},
   "outputs": [],
   "source": [
    "# get the staging list\n",
    "path_stage = Path('/home/b1044271/EEGsleep/SleepStaging/mat/mne2/')\n",
    "stage_files = os.listdir(path_stage)\n",
    "stage_files = [file for file in stage_files]\n",
    "stage_files = sorted(stage_files)\n",
    "\n",
    "# get the subjects list\n",
    "Data_path = '/home/b1044271/Columbia/Preprocessed/Better_ica/'\n",
    "subj_files = os.listdir(Data_path)\n",
    "subj_files = [file for file in subj_files]\n",
    "subj_files = sorted(subj_files)\n"
   ]
  },
  {
   "cell_type": "markdown",
   "id": "759ffcd8",
   "metadata": {},
   "source": [
    "# Setting parameters"
   ]
  },
  {
   "cell_type": "code",
   "execution_count": 84,
   "id": "b6451968",
   "metadata": {},
   "outputs": [],
   "source": [
    "# Settings for the analyses\n",
    "SETTINGS_B = { 'method' : 'welch', 'average' : 'mean', 'fmin' :0.1, 'fmax': 45}\n",
    "path_results = Path('/home/b1044271/Columbia/Results/April23')\n",
    "\n",
    "f_min = 1\n",
    "f_max = 45\n",
    "t     = 15\n",
    "fs    = 250\n",
    "\n",
    "SETTINGS_W  = { 'method' : 'welch', 'average' : 'mean', 'fmin' :f_min , 'fmax':f_max, 'n_fft': fs*t, 'n_overlap': fs*t*0.5}\n",
    "SETTINGS_F1 = {'max_n_peaks':8, 'aperiodic_mode':'knee'}\n",
    "SETTINGS_F2 = {'max_n_peaks':8, 'aperiodic_mode':'fixed'}\n"
   ]
  },
  {
   "cell_type": "markdown",
   "id": "cd731904",
   "metadata": {},
   "source": [
    "# Empty vectors for storing data"
   ]
  },
  {
   "cell_type": "code",
   "execution_count": 85,
   "id": "bf2223e4",
   "metadata": {},
   "outputs": [],
   "source": [
    "W_Kn  = np.zeros([183,2000])*np.nan\n",
    "W_Exp = np.zeros([183,2000])*np.nan\n",
    "W_Exp2 = np.zeros([183,2000])*np.nan\n",
    "\n",
    "N1_Kn  = np.zeros([183,2000])*np.nan\n",
    "N1_Exp = np.zeros([183,2000])*np.nan\n",
    "N1_Exp2 = np.zeros([183,2000])*np.nan\n",
    "\n",
    "N2_Kn  = np.zeros([183,2000])*np.nan\n",
    "N2_Exp = np.zeros([183,2000])*np.nan\n",
    "N2_Exp2 = np.zeros([183,2000])*np.nan\n",
    "\n",
    "N3_Kn  = np.zeros([183,2000])*np.nan\n",
    "N3_Exp = np.zeros([183,2000])*np.nan\n",
    "N3_Exp2 = np.zeros([183,2000])*np.nan\n",
    "\n",
    "R_Kn  = np.zeros([183,2000])*np.nan\n",
    "R_Exp = np.zeros([183,2000])*np.nan\n",
    "R_Exp2 = np.zeros([183,2000])*np.nan\n"
   ]
  },
  {
   "cell_type": "markdown",
   "id": "59230b36",
   "metadata": {},
   "source": [
    "# START Looping over subjects"
   ]
  },
  {
   "cell_type": "code",
   "execution_count": 86,
   "id": "e6c12e03",
   "metadata": {},
   "outputs": [],
   "source": [
    "# Helper function for paths, check for the path and creates ones if not found\n",
    "def check_path(path):\n",
    "    if not os.path.exists(path):\n",
    "        os.mkdir(path)\n",
    "\n",
    "check_path(path_results) # create a new folder for this analysis"
   ]
  },
  {
   "cell_type": "code",
   "execution_count": null,
   "id": "3638bd93",
   "metadata": {},
   "outputs": [
    {
     "name": "stderr",
     "output_type": "stream",
     "text": [
      "/home/b1044271/anaconda3/envs/mne/lib/python3.10/site-packages/pymatreader/utils.py:122: UserWarning: Complex objects (like classes) are not supported. They are imported on a best effort base but your mileage will vary.\n",
      "  warn('Complex objects (like classes) are not supported. '\n",
      "/tmp/ipykernel_3748199/2310224163.py:5: RuntimeWarning: Data will be preloaded. preload=False or a string preload is not supported when the data is stored in the .set file\n",
      "  EEG = mne.io.read_raw_eeglab(os.path.join(Data_path, x)) # read raw .set file\n"
     ]
    },
    {
     "name": "stdout",
     "output_type": "stream",
     "text": [
      "loaded\n",
      "Not setting metadata\n",
      "927 matching events found\n",
      "Setting baseline interval to [-30.0, 0.0] sec\n",
      "Applying baseline correction (mode: mean)\n",
      "0 projection items activated\n",
      "Using data from preloaded Raw for 85 events and 7501 original time points ...\n"
     ]
    },
    {
     "name": "stderr",
     "output_type": "stream",
     "text": [
      "/tmp/ipykernel_3748199/2310224163.py:5: RuntimeWarning: Limited 1 annotation(s) that were expanding outside the data range.\n",
      "  EEG = mne.io.read_raw_eeglab(os.path.join(Data_path, x)) # read raw .set file\n",
      "/tmp/ipykernel_3748199/2310224163.py:8: RuntimeWarning: This filename (/home/b1044271/EEGsleep/SleepStaging/mat/mne2/VP01_SS_250_mne.txt) does not conform to MNE naming conventions. All events files should end with .eve, -eve.fif, -eve.fif.gz, -eve.lst, -eve.txt, _eve.fif, _eve.fif.gz, _eve.lst, _eve.txt or -annot.fif\n",
      "  events = mne.read_events(Path(path_stage, stage_files[i])) #read staging markers\n"
     ]
    },
    {
     "name": "stdout",
     "output_type": "stream",
     "text": [
      "0 bad epochs dropped\n",
      "Effective window size : 15.000 (s)\n",
      "Using data from preloaded Raw for 465 events and 7501 original time points ...\n",
      "0 bad epochs dropped\n",
      "Effective window size : 15.000 (s)\n",
      "Using data from preloaded Raw for 140 events and 7501 original time points ...\n",
      "0 bad epochs dropped\n",
      "Effective window size : 15.000 (s)\n",
      "Using data from preloaded Raw for 75 events and 7501 original time points ...\n",
      "1 bad epochs dropped\n",
      "Effective window size : 15.000 (s)\n",
      "Using data from preloaded Raw for 161 events and 7501 original time points ...\n",
      "0 bad epochs dropped\n",
      "Effective window size : 15.000 (s)\n",
      "Running FOOOFGroup across 183 power spectra.\n"
     ]
    },
    {
     "name": "stderr",
     "output_type": "stream",
     "text": [
      "/home/b1044271/anaconda3/envs/mne/lib/python3.10/site-packages/fooof/core/funcs.py:67: RuntimeWarning: invalid value encountered in log10\n",
      "  ys = ys + offset - np.log10(knee + xs**exp)\n"
     ]
    },
    {
     "name": "stdout",
     "output_type": "stream",
     "text": [
      "Running FOOOFGroup across 183 power spectra.\n",
      "Running FOOOFGroup across 183 power spectra.\n"
     ]
    },
    {
     "name": "stderr",
     "output_type": "stream",
     "text": [
      "/home/b1044271/anaconda3/envs/mne/lib/python3.10/site-packages/fooof/core/funcs.py:67: RuntimeWarning: invalid value encountered in log10\n",
      "  ys = ys + offset - np.log10(knee + xs**exp)\n",
      "/home/b1044271/anaconda3/envs/mne/lib/python3.10/site-packages/fooof/core/funcs.py:67: RuntimeWarning: invalid value encountered in log10\n",
      "  ys = ys + offset - np.log10(knee + xs**exp)\n",
      "/home/b1044271/anaconda3/envs/mne/lib/python3.10/site-packages/fooof/core/funcs.py:67: RuntimeWarning: invalid value encountered in log10\n",
      "  ys = ys + offset - np.log10(knee + xs**exp)\n",
      "/home/b1044271/anaconda3/envs/mne/lib/python3.10/site-packages/fooof/core/funcs.py:67: RuntimeWarning: invalid value encountered in log10\n",
      "  ys = ys + offset - np.log10(knee + xs**exp)\n"
     ]
    },
    {
     "name": "stdout",
     "output_type": "stream",
     "text": [
      "Running FOOOFGroup across 183 power spectra.\n",
      "Running FOOOFGroup across 183 power spectra.\n"
     ]
    },
    {
     "name": "stderr",
     "output_type": "stream",
     "text": [
      "/home/b1044271/anaconda3/envs/mne/lib/python3.10/site-packages/fooof/core/funcs.py:67: RuntimeWarning: invalid value encountered in log10\n",
      "  ys = ys + offset - np.log10(knee + xs**exp)\n",
      "/home/b1044271/anaconda3/envs/mne/lib/python3.10/site-packages/fooof/core/funcs.py:67: RuntimeWarning: invalid value encountered in log10\n",
      "  ys = ys + offset - np.log10(knee + xs**exp)\n",
      "/home/b1044271/anaconda3/envs/mne/lib/python3.10/site-packages/fooof/core/funcs.py:67: RuntimeWarning: invalid value encountered in log10\n",
      "  ys = ys + offset - np.log10(knee + xs**exp)\n",
      "/home/b1044271/anaconda3/envs/mne/lib/python3.10/site-packages/fooof/core/funcs.py:67: RuntimeWarning: invalid value encountered in log10\n",
      "  ys = ys + offset - np.log10(knee + xs**exp)\n"
     ]
    },
    {
     "name": "stdout",
     "output_type": "stream",
     "text": [
      "Running FOOOFGroup across 183 power spectra.\n",
      "Running FOOOFGroup across 183 power spectra.\n",
      "Running FOOOFGroup across 183 power spectra.\n",
      "Running FOOOFGroup across 183 power spectra.\n",
      "Running FOOOFGroup across 183 power spectra.\n",
      "Model fitting was unsuccessful.\n"
     ]
    },
    {
     "name": "stderr",
     "output_type": "stream",
     "text": [
      "/home/b1044271/anaconda3/envs/mne/lib/python3.10/site-packages/pymatreader/utils.py:122: UserWarning: Complex objects (like classes) are not supported. They are imported on a best effort base but your mileage will vary.\n",
      "  warn('Complex objects (like classes) are not supported. '\n",
      "/tmp/ipykernel_3748199/2310224163.py:5: RuntimeWarning: Data will be preloaded. preload=False or a string preload is not supported when the data is stored in the .set file\n",
      "  EEG = mne.io.read_raw_eeglab(os.path.join(Data_path, x)) # read raw .set file\n"
     ]
    },
    {
     "name": "stdout",
     "output_type": "stream",
     "text": [
      "loaded\n",
      "Not setting metadata\n",
      "978 matching events found\n",
      "Setting baseline interval to [-30.0, 0.0] sec\n",
      "Applying baseline correction (mode: mean)\n",
      "0 projection items activated\n",
      "Using data from preloaded Raw for 38 events and 7501 original time points ...\n"
     ]
    },
    {
     "name": "stderr",
     "output_type": "stream",
     "text": [
      "/tmp/ipykernel_3748199/2310224163.py:5: RuntimeWarning: Limited 1 annotation(s) that were expanding outside the data range.\n",
      "  EEG = mne.io.read_raw_eeglab(os.path.join(Data_path, x)) # read raw .set file\n",
      "/tmp/ipykernel_3748199/2310224163.py:8: RuntimeWarning: This filename (/home/b1044271/EEGsleep/SleepStaging/mat/mne2/VP03_SS_250_mne.txt) does not conform to MNE naming conventions. All events files should end with .eve, -eve.fif, -eve.fif.gz, -eve.lst, -eve.txt, _eve.fif, _eve.fif.gz, _eve.lst, _eve.txt or -annot.fif\n",
      "  events = mne.read_events(Path(path_stage, stage_files[i])) #read staging markers\n"
     ]
    },
    {
     "name": "stdout",
     "output_type": "stream",
     "text": [
      "0 bad epochs dropped\n",
      "Effective window size : 15.000 (s)\n",
      "Using data from preloaded Raw for 276 events and 7501 original time points ...\n",
      "0 bad epochs dropped\n",
      "Effective window size : 15.000 (s)\n",
      "Using data from preloaded Raw for 344 events and 7501 original time points ...\n",
      "0 bad epochs dropped\n",
      "Effective window size : 15.000 (s)\n",
      "Using data from preloaded Raw for 216 events and 7501 original time points ...\n",
      "1 bad epochs dropped\n",
      "Effective window size : 15.000 (s)\n",
      "Using data from preloaded Raw for 103 events and 7501 original time points ...\n",
      "0 bad epochs dropped\n",
      "Effective window size : 15.000 (s)\n",
      "Running FOOOFGroup across 183 power spectra.\n"
     ]
    },
    {
     "name": "stderr",
     "output_type": "stream",
     "text": [
      "/home/b1044271/anaconda3/envs/mne/lib/python3.10/site-packages/fooof/core/funcs.py:67: RuntimeWarning: invalid value encountered in log10\n",
      "  ys = ys + offset - np.log10(knee + xs**exp)\n",
      "/home/b1044271/anaconda3/envs/mne/lib/python3.10/site-packages/fooof/core/funcs.py:67: RuntimeWarning: invalid value encountered in log10\n",
      "  ys = ys + offset - np.log10(knee + xs**exp)\n"
     ]
    },
    {
     "name": "stdout",
     "output_type": "stream",
     "text": [
      "Running FOOOFGroup across 183 power spectra.\n"
     ]
    },
    {
     "name": "stderr",
     "output_type": "stream",
     "text": [
      "/home/b1044271/anaconda3/envs/mne/lib/python3.10/site-packages/fooof/core/funcs.py:67: RuntimeWarning: invalid value encountered in log10\n",
      "  ys = ys + offset - np.log10(knee + xs**exp)\n"
     ]
    },
    {
     "name": "stdout",
     "output_type": "stream",
     "text": [
      "Running FOOOFGroup across 183 power spectra.\n"
     ]
    },
    {
     "name": "stderr",
     "output_type": "stream",
     "text": [
      "/home/b1044271/anaconda3/envs/mne/lib/python3.10/site-packages/fooof/core/funcs.py:67: RuntimeWarning: invalid value encountered in log10\n",
      "  ys = ys + offset - np.log10(knee + xs**exp)\n",
      "/home/b1044271/anaconda3/envs/mne/lib/python3.10/site-packages/fooof/core/funcs.py:67: RuntimeWarning: invalid value encountered in log10\n",
      "  ys = ys + offset - np.log10(knee + xs**exp)\n",
      "/home/b1044271/anaconda3/envs/mne/lib/python3.10/site-packages/fooof/core/funcs.py:67: RuntimeWarning: invalid value encountered in log10\n",
      "  ys = ys + offset - np.log10(knee + xs**exp)\n",
      "/home/b1044271/anaconda3/envs/mne/lib/python3.10/site-packages/fooof/core/funcs.py:67: RuntimeWarning: invalid value encountered in log10\n",
      "  ys = ys + offset - np.log10(knee + xs**exp)\n",
      "/home/b1044271/anaconda3/envs/mne/lib/python3.10/site-packages/fooof/core/funcs.py:67: RuntimeWarning: invalid value encountered in log10\n",
      "  ys = ys + offset - np.log10(knee + xs**exp)\n",
      "/home/b1044271/anaconda3/envs/mne/lib/python3.10/site-packages/fooof/core/funcs.py:67: RuntimeWarning: invalid value encountered in log10\n",
      "  ys = ys + offset - np.log10(knee + xs**exp)\n"
     ]
    },
    {
     "name": "stdout",
     "output_type": "stream",
     "text": [
      "Running FOOOFGroup across 183 power spectra.\n",
      "Running FOOOFGroup across 183 power spectra.\n"
     ]
    },
    {
     "name": "stderr",
     "output_type": "stream",
     "text": [
      "/home/b1044271/anaconda3/envs/mne/lib/python3.10/site-packages/fooof/core/funcs.py:67: RuntimeWarning: invalid value encountered in log10\n",
      "  ys = ys + offset - np.log10(knee + xs**exp)\n",
      "/home/b1044271/anaconda3/envs/mne/lib/python3.10/site-packages/fooof/core/funcs.py:67: RuntimeWarning: invalid value encountered in log10\n",
      "  ys = ys + offset - np.log10(knee + xs**exp)\n",
      "/home/b1044271/anaconda3/envs/mne/lib/python3.10/site-packages/fooof/core/funcs.py:67: RuntimeWarning: invalid value encountered in log10\n",
      "  ys = ys + offset - np.log10(knee + xs**exp)\n",
      "/home/b1044271/anaconda3/envs/mne/lib/python3.10/site-packages/fooof/core/funcs.py:67: RuntimeWarning: invalid value encountered in log10\n",
      "  ys = ys + offset - np.log10(knee + xs**exp)\n",
      "/home/b1044271/anaconda3/envs/mne/lib/python3.10/site-packages/fooof/core/funcs.py:67: RuntimeWarning: invalid value encountered in log10\n",
      "  ys = ys + offset - np.log10(knee + xs**exp)\n",
      "/home/b1044271/anaconda3/envs/mne/lib/python3.10/site-packages/fooof/core/funcs.py:67: RuntimeWarning: invalid value encountered in log10\n",
      "  ys = ys + offset - np.log10(knee + xs**exp)\n",
      "/home/b1044271/anaconda3/envs/mne/lib/python3.10/site-packages/fooof/core/funcs.py:67: RuntimeWarning: invalid value encountered in log10\n",
      "  ys = ys + offset - np.log10(knee + xs**exp)\n",
      "/home/b1044271/anaconda3/envs/mne/lib/python3.10/site-packages/fooof/core/funcs.py:67: RuntimeWarning: invalid value encountered in log10\n",
      "  ys = ys + offset - np.log10(knee + xs**exp)\n",
      "/home/b1044271/anaconda3/envs/mne/lib/python3.10/site-packages/fooof/core/funcs.py:67: RuntimeWarning: invalid value encountered in log10\n",
      "  ys = ys + offset - np.log10(knee + xs**exp)\n",
      "/home/b1044271/anaconda3/envs/mne/lib/python3.10/site-packages/fooof/core/funcs.py:67: RuntimeWarning: invalid value encountered in log10\n",
      "  ys = ys + offset - np.log10(knee + xs**exp)\n"
     ]
    },
    {
     "name": "stdout",
     "output_type": "stream",
     "text": [
      "Running FOOOFGroup across 183 power spectra.\n",
      "Running FOOOFGroup across 183 power spectra.\n",
      "Running FOOOFGroup across 183 power spectra.\n",
      "Running FOOOFGroup across 183 power spectra.\n",
      "Running FOOOFGroup across 183 power spectra.\n"
     ]
    },
    {
     "name": "stderr",
     "output_type": "stream",
     "text": [
      "/home/b1044271/anaconda3/envs/mne/lib/python3.10/site-packages/pymatreader/utils.py:122: UserWarning: Complex objects (like classes) are not supported. They are imported on a best effort base but your mileage will vary.\n",
      "  warn('Complex objects (like classes) are not supported. '\n",
      "/tmp/ipykernel_3748199/2310224163.py:5: RuntimeWarning: Data will be preloaded. preload=False or a string preload is not supported when the data is stored in the .set file\n",
      "  EEG = mne.io.read_raw_eeglab(os.path.join(Data_path, x)) # read raw .set file\n"
     ]
    },
    {
     "name": "stdout",
     "output_type": "stream",
     "text": [
      "loaded\n",
      "Not setting metadata\n",
      "1021 matching events found\n",
      "Setting baseline interval to [-30.0, 0.0] sec\n",
      "Applying baseline correction (mode: mean)\n",
      "0 projection items activated\n",
      "Using data from preloaded Raw for 50 events and 7501 original time points ...\n"
     ]
    },
    {
     "name": "stderr",
     "output_type": "stream",
     "text": [
      "/tmp/ipykernel_3748199/2310224163.py:5: RuntimeWarning: Limited 1 annotation(s) that were expanding outside the data range.\n",
      "  EEG = mne.io.read_raw_eeglab(os.path.join(Data_path, x)) # read raw .set file\n",
      "/tmp/ipykernel_3748199/2310224163.py:8: RuntimeWarning: This filename (/home/b1044271/EEGsleep/SleepStaging/mat/mne2/VP04_SS_250_mne.txt) does not conform to MNE naming conventions. All events files should end with .eve, -eve.fif, -eve.fif.gz, -eve.lst, -eve.txt, _eve.fif, _eve.fif.gz, _eve.lst, _eve.txt or -annot.fif\n",
      "  events = mne.read_events(Path(path_stage, stage_files[i])) #read staging markers\n"
     ]
    },
    {
     "name": "stdout",
     "output_type": "stream",
     "text": [
      "0 bad epochs dropped\n",
      "Effective window size : 15.000 (s)\n",
      "Using data from preloaded Raw for 352 events and 7501 original time points ...\n",
      "0 bad epochs dropped\n",
      "Effective window size : 15.000 (s)\n",
      "Using data from preloaded Raw for 223 events and 7501 original time points ...\n",
      "0 bad epochs dropped\n",
      "Effective window size : 15.000 (s)\n",
      "Using data from preloaded Raw for 219 events and 7501 original time points ...\n",
      "1 bad epochs dropped\n",
      "Effective window size : 15.000 (s)\n",
      "Using data from preloaded Raw for 176 events and 7501 original time points ...\n",
      "0 bad epochs dropped\n",
      "Effective window size : 15.000 (s)\n",
      "Running FOOOFGroup across 183 power spectra.\n"
     ]
    },
    {
     "name": "stderr",
     "output_type": "stream",
     "text": [
      "/home/b1044271/anaconda3/envs/mne/lib/python3.10/site-packages/fooof/core/funcs.py:67: RuntimeWarning: invalid value encountered in log10\n",
      "  ys = ys + offset - np.log10(knee + xs**exp)\n",
      "/home/b1044271/anaconda3/envs/mne/lib/python3.10/site-packages/fooof/core/funcs.py:67: RuntimeWarning: invalid value encountered in log10\n",
      "  ys = ys + offset - np.log10(knee + xs**exp)\n",
      "/home/b1044271/anaconda3/envs/mne/lib/python3.10/site-packages/fooof/core/funcs.py:67: RuntimeWarning: invalid value encountered in log10\n",
      "  ys = ys + offset - np.log10(knee + xs**exp)\n",
      "/home/b1044271/anaconda3/envs/mne/lib/python3.10/site-packages/fooof/core/funcs.py:67: RuntimeWarning: invalid value encountered in log10\n",
      "  ys = ys + offset - np.log10(knee + xs**exp)\n",
      "/home/b1044271/anaconda3/envs/mne/lib/python3.10/site-packages/fooof/core/funcs.py:67: RuntimeWarning: invalid value encountered in log10\n",
      "  ys = ys + offset - np.log10(knee + xs**exp)\n"
     ]
    },
    {
     "name": "stdout",
     "output_type": "stream",
     "text": [
      "Running FOOOFGroup across 183 power spectra.\n",
      "Running FOOOFGroup across 183 power spectra.\n"
     ]
    },
    {
     "name": "stderr",
     "output_type": "stream",
     "text": [
      "/home/b1044271/anaconda3/envs/mne/lib/python3.10/site-packages/fooof/core/funcs.py:67: RuntimeWarning: invalid value encountered in log10\n",
      "  ys = ys + offset - np.log10(knee + xs**exp)\n",
      "/home/b1044271/anaconda3/envs/mne/lib/python3.10/site-packages/fooof/core/funcs.py:67: RuntimeWarning: invalid value encountered in log10\n",
      "  ys = ys + offset - np.log10(knee + xs**exp)\n",
      "/home/b1044271/anaconda3/envs/mne/lib/python3.10/site-packages/fooof/core/funcs.py:67: RuntimeWarning: invalid value encountered in log10\n",
      "  ys = ys + offset - np.log10(knee + xs**exp)\n",
      "/home/b1044271/anaconda3/envs/mne/lib/python3.10/site-packages/fooof/core/funcs.py:67: RuntimeWarning: invalid value encountered in log10\n",
      "  ys = ys + offset - np.log10(knee + xs**exp)\n",
      "/home/b1044271/anaconda3/envs/mne/lib/python3.10/site-packages/fooof/core/funcs.py:67: RuntimeWarning: invalid value encountered in log10\n",
      "  ys = ys + offset - np.log10(knee + xs**exp)\n",
      "/home/b1044271/anaconda3/envs/mne/lib/python3.10/site-packages/fooof/core/funcs.py:67: RuntimeWarning: invalid value encountered in log10\n",
      "  ys = ys + offset - np.log10(knee + xs**exp)\n",
      "/home/b1044271/anaconda3/envs/mne/lib/python3.10/site-packages/fooof/core/funcs.py:67: RuntimeWarning: invalid value encountered in log10\n",
      "  ys = ys + offset - np.log10(knee + xs**exp)\n"
     ]
    },
    {
     "name": "stdout",
     "output_type": "stream",
     "text": [
      "Running FOOOFGroup across 183 power spectra.\n",
      "Running FOOOFGroup across 183 power spectra.\n",
      "Model fitting was unsuccessful.\n",
      "Running FOOOFGroup across 183 power spectra.\n",
      "Running FOOOFGroup across 183 power spectra.\n",
      "Running FOOOFGroup across 183 power spectra.\n",
      "Running FOOOFGroup across 183 power spectra.\n",
      "Running FOOOFGroup across 183 power spectra.\n",
      "Model fitting was unsuccessful.\n"
     ]
    },
    {
     "name": "stderr",
     "output_type": "stream",
     "text": [
      "/home/b1044271/anaconda3/envs/mne/lib/python3.10/site-packages/pymatreader/utils.py:122: UserWarning: Complex objects (like classes) are not supported. They are imported on a best effort base but your mileage will vary.\n",
      "  warn('Complex objects (like classes) are not supported. '\n",
      "/tmp/ipykernel_3748199/2310224163.py:5: RuntimeWarning: Data will be preloaded. preload=False or a string preload is not supported when the data is stored in the .set file\n",
      "  EEG = mne.io.read_raw_eeglab(os.path.join(Data_path, x)) # read raw .set file\n"
     ]
    },
    {
     "name": "stdout",
     "output_type": "stream",
     "text": [
      "loaded\n",
      "Not setting metadata\n",
      "954 matching events found\n",
      "Setting baseline interval to [-30.0, 0.0] sec\n",
      "Applying baseline correction (mode: mean)\n",
      "0 projection items activated\n",
      "Using data from preloaded Raw for 78 events and 7501 original time points ...\n"
     ]
    },
    {
     "name": "stderr",
     "output_type": "stream",
     "text": [
      "/tmp/ipykernel_3748199/2310224163.py:5: RuntimeWarning: Limited 2 annotation(s) that were expanding outside the data range.\n",
      "  EEG = mne.io.read_raw_eeglab(os.path.join(Data_path, x)) # read raw .set file\n",
      "/tmp/ipykernel_3748199/2310224163.py:8: RuntimeWarning: This filename (/home/b1044271/EEGsleep/SleepStaging/mat/mne2/VP05_SS_250_mne.txt) does not conform to MNE naming conventions. All events files should end with .eve, -eve.fif, -eve.fif.gz, -eve.lst, -eve.txt, _eve.fif, _eve.fif.gz, _eve.lst, _eve.txt or -annot.fif\n",
      "  events = mne.read_events(Path(path_stage, stage_files[i])) #read staging markers\n"
     ]
    },
    {
     "name": "stdout",
     "output_type": "stream",
     "text": [
      "0 bad epochs dropped\n",
      "Effective window size : 15.000 (s)\n",
      "Using data from preloaded Raw for 390 events and 7501 original time points ...\n",
      "0 bad epochs dropped\n",
      "Effective window size : 15.000 (s)\n",
      "Using data from preloaded Raw for 242 events and 7501 original time points ...\n",
      "0 bad epochs dropped\n",
      "Effective window size : 15.000 (s)\n",
      "Using data from preloaded Raw for 94 events and 7501 original time points ...\n",
      "0 bad epochs dropped\n",
      "Effective window size : 15.000 (s)\n",
      "Using data from preloaded Raw for 149 events and 7501 original time points ...\n",
      "1 bad epochs dropped\n",
      "Effective window size : 15.000 (s)\n",
      "Running FOOOFGroup across 183 power spectra.\n",
      "Running FOOOFGroup across 183 power spectra.\n"
     ]
    },
    {
     "name": "stderr",
     "output_type": "stream",
     "text": [
      "/home/b1044271/anaconda3/envs/mne/lib/python3.10/site-packages/fooof/core/funcs.py:67: RuntimeWarning: invalid value encountered in log10\n",
      "  ys = ys + offset - np.log10(knee + xs**exp)\n",
      "/home/b1044271/anaconda3/envs/mne/lib/python3.10/site-packages/fooof/core/funcs.py:67: RuntimeWarning: invalid value encountered in log10\n",
      "  ys = ys + offset - np.log10(knee + xs**exp)\n",
      "/home/b1044271/anaconda3/envs/mne/lib/python3.10/site-packages/fooof/core/funcs.py:67: RuntimeWarning: invalid value encountered in log10\n",
      "  ys = ys + offset - np.log10(knee + xs**exp)\n",
      "/home/b1044271/anaconda3/envs/mne/lib/python3.10/site-packages/fooof/core/funcs.py:67: RuntimeWarning: invalid value encountered in log10\n",
      "  ys = ys + offset - np.log10(knee + xs**exp)\n"
     ]
    },
    {
     "name": "stdout",
     "output_type": "stream",
     "text": [
      "Running FOOOFGroup across 183 power spectra.\n"
     ]
    },
    {
     "name": "stderr",
     "output_type": "stream",
     "text": [
      "/home/b1044271/anaconda3/envs/mne/lib/python3.10/site-packages/fooof/core/funcs.py:67: RuntimeWarning: invalid value encountered in log10\n",
      "  ys = ys + offset - np.log10(knee + xs**exp)\n",
      "/home/b1044271/anaconda3/envs/mne/lib/python3.10/site-packages/fooof/core/funcs.py:67: RuntimeWarning: invalid value encountered in log10\n",
      "  ys = ys + offset - np.log10(knee + xs**exp)\n"
     ]
    },
    {
     "name": "stdout",
     "output_type": "stream",
     "text": [
      "Running FOOOFGroup across 183 power spectra.\n",
      "Running FOOOFGroup across 183 power spectra.\n",
      "Running FOOOFGroup across 183 power spectra.\n",
      "Running FOOOFGroup across 183 power spectra.\n",
      "Running FOOOFGroup across 183 power spectra.\n",
      "Running FOOOFGroup across 183 power spectra.\n",
      "Running FOOOFGroup across 183 power spectra.\n"
     ]
    },
    {
     "name": "stderr",
     "output_type": "stream",
     "text": [
      "/home/b1044271/anaconda3/envs/mne/lib/python3.10/site-packages/pymatreader/utils.py:122: UserWarning: Complex objects (like classes) are not supported. They are imported on a best effort base but your mileage will vary.\n",
      "  warn('Complex objects (like classes) are not supported. '\n",
      "/tmp/ipykernel_3748199/2310224163.py:5: RuntimeWarning: Data will be preloaded. preload=False or a string preload is not supported when the data is stored in the .set file\n",
      "  EEG = mne.io.read_raw_eeglab(os.path.join(Data_path, x)) # read raw .set file\n"
     ]
    },
    {
     "name": "stdout",
     "output_type": "stream",
     "text": [
      "loaded\n",
      "Not setting metadata\n",
      "963 matching events found\n",
      "Setting baseline interval to [-30.0, 0.0] sec\n",
      "Applying baseline correction (mode: mean)\n",
      "0 projection items activated\n",
      "Using data from preloaded Raw for 62 events and 7501 original time points ...\n"
     ]
    },
    {
     "name": "stderr",
     "output_type": "stream",
     "text": [
      "/tmp/ipykernel_3748199/2310224163.py:5: RuntimeWarning: Limited 2 annotation(s) that were expanding outside the data range.\n",
      "  EEG = mne.io.read_raw_eeglab(os.path.join(Data_path, x)) # read raw .set file\n",
      "/tmp/ipykernel_3748199/2310224163.py:8: RuntimeWarning: This filename (/home/b1044271/EEGsleep/SleepStaging/mat/mne2/VP06_SS_250_mne.txt) does not conform to MNE naming conventions. All events files should end with .eve, -eve.fif, -eve.fif.gz, -eve.lst, -eve.txt, _eve.fif, _eve.fif.gz, _eve.lst, _eve.txt or -annot.fif\n",
      "  events = mne.read_events(Path(path_stage, stage_files[i])) #read staging markers\n"
     ]
    },
    {
     "name": "stdout",
     "output_type": "stream",
     "text": [
      "0 bad epochs dropped\n",
      "Effective window size : 15.000 (s)\n",
      "Using data from preloaded Raw for 229 events and 7501 original time points ...\n",
      "0 bad epochs dropped\n",
      "Effective window size : 15.000 (s)\n",
      "Using data from preloaded Raw for 383 events and 7501 original time points ...\n",
      "0 bad epochs dropped\n",
      "Effective window size : 15.000 (s)\n",
      "Using data from preloaded Raw for 96 events and 7501 original time points ...\n",
      "1 bad epochs dropped\n",
      "Effective window size : 15.000 (s)\n",
      "Using data from preloaded Raw for 192 events and 7501 original time points ...\n",
      "0 bad epochs dropped\n",
      "Effective window size : 15.000 (s)\n",
      "Running FOOOFGroup across 183 power spectra.\n"
     ]
    },
    {
     "name": "stderr",
     "output_type": "stream",
     "text": [
      "/home/b1044271/anaconda3/envs/mne/lib/python3.10/site-packages/fooof/core/funcs.py:67: RuntimeWarning: invalid value encountered in log10\n",
      "  ys = ys + offset - np.log10(knee + xs**exp)\n",
      "/home/b1044271/anaconda3/envs/mne/lib/python3.10/site-packages/fooof/core/funcs.py:67: RuntimeWarning: invalid value encountered in log10\n",
      "  ys = ys + offset - np.log10(knee + xs**exp)\n"
     ]
    },
    {
     "name": "stdout",
     "output_type": "stream",
     "text": [
      "Running FOOOFGroup across 183 power spectra.\n",
      "Running FOOOFGroup across 183 power spectra.\n"
     ]
    },
    {
     "name": "stderr",
     "output_type": "stream",
     "text": [
      "/home/b1044271/anaconda3/envs/mne/lib/python3.10/site-packages/fooof/core/funcs.py:67: RuntimeWarning: invalid value encountered in log10\n",
      "  ys = ys + offset - np.log10(knee + xs**exp)\n"
     ]
    },
    {
     "name": "stdout",
     "output_type": "stream",
     "text": [
      "Running FOOOFGroup across 183 power spectra.\n",
      "Running FOOOFGroup across 183 power spectra.\n"
     ]
    },
    {
     "name": "stderr",
     "output_type": "stream",
     "text": [
      "/home/b1044271/anaconda3/envs/mne/lib/python3.10/site-packages/fooof/core/funcs.py:67: RuntimeWarning: invalid value encountered in log10\n",
      "  ys = ys + offset - np.log10(knee + xs**exp)\n",
      "/home/b1044271/anaconda3/envs/mne/lib/python3.10/site-packages/fooof/core/funcs.py:67: RuntimeWarning: invalid value encountered in log10\n",
      "  ys = ys + offset - np.log10(knee + xs**exp)\n",
      "/home/b1044271/anaconda3/envs/mne/lib/python3.10/site-packages/fooof/core/funcs.py:67: RuntimeWarning: invalid value encountered in log10\n",
      "  ys = ys + offset - np.log10(knee + xs**exp)\n",
      "/home/b1044271/anaconda3/envs/mne/lib/python3.10/site-packages/fooof/core/funcs.py:67: RuntimeWarning: invalid value encountered in log10\n",
      "  ys = ys + offset - np.log10(knee + xs**exp)\n",
      "/home/b1044271/anaconda3/envs/mne/lib/python3.10/site-packages/fooof/core/funcs.py:67: RuntimeWarning: invalid value encountered in log10\n",
      "  ys = ys + offset - np.log10(knee + xs**exp)\n",
      "/home/b1044271/anaconda3/envs/mne/lib/python3.10/site-packages/fooof/core/funcs.py:67: RuntimeWarning: invalid value encountered in log10\n",
      "  ys = ys + offset - np.log10(knee + xs**exp)\n",
      "/home/b1044271/anaconda3/envs/mne/lib/python3.10/site-packages/fooof/core/funcs.py:67: RuntimeWarning: invalid value encountered in log10\n",
      "  ys = ys + offset - np.log10(knee + xs**exp)\n",
      "/home/b1044271/anaconda3/envs/mne/lib/python3.10/site-packages/fooof/core/funcs.py:67: RuntimeWarning: invalid value encountered in log10\n",
      "  ys = ys + offset - np.log10(knee + xs**exp)\n",
      "/home/b1044271/anaconda3/envs/mne/lib/python3.10/site-packages/fooof/core/funcs.py:67: RuntimeWarning: invalid value encountered in log10\n",
      "  ys = ys + offset - np.log10(knee + xs**exp)\n"
     ]
    },
    {
     "name": "stdout",
     "output_type": "stream",
     "text": [
      "Running FOOOFGroup across 183 power spectra.\n",
      "Running FOOOFGroup across 183 power spectra.\n",
      "Running FOOOFGroup across 183 power spectra.\n",
      "Running FOOOFGroup across 183 power spectra.\n",
      "Running FOOOFGroup across 183 power spectra.\n"
     ]
    },
    {
     "name": "stderr",
     "output_type": "stream",
     "text": [
      "/home/b1044271/anaconda3/envs/mne/lib/python3.10/site-packages/pymatreader/utils.py:122: UserWarning: Complex objects (like classes) are not supported. They are imported on a best effort base but your mileage will vary.\n",
      "  warn('Complex objects (like classes) are not supported. '\n",
      "/tmp/ipykernel_3748199/2310224163.py:5: RuntimeWarning: Data will be preloaded. preload=False or a string preload is not supported when the data is stored in the .set file\n",
      "  EEG = mne.io.read_raw_eeglab(os.path.join(Data_path, x)) # read raw .set file\n"
     ]
    },
    {
     "name": "stdout",
     "output_type": "stream",
     "text": [
      "loaded\n",
      "Not setting metadata\n",
      "968 matching events found\n",
      "Setting baseline interval to [-30.0, 0.0] sec\n",
      "Applying baseline correction (mode: mean)\n",
      "0 projection items activated\n",
      "Using data from preloaded Raw for 78 events and 7501 original time points ...\n"
     ]
    },
    {
     "name": "stderr",
     "output_type": "stream",
     "text": [
      "/tmp/ipykernel_3748199/2310224163.py:5: RuntimeWarning: Limited 1 annotation(s) that were expanding outside the data range.\n",
      "  EEG = mne.io.read_raw_eeglab(os.path.join(Data_path, x)) # read raw .set file\n",
      "/tmp/ipykernel_3748199/2310224163.py:8: RuntimeWarning: This filename (/home/b1044271/EEGsleep/SleepStaging/mat/mne2/VP07_SS_250_mne.txt) does not conform to MNE naming conventions. All events files should end with .eve, -eve.fif, -eve.fif.gz, -eve.lst, -eve.txt, _eve.fif, _eve.fif.gz, _eve.lst, _eve.txt or -annot.fif\n",
      "  events = mne.read_events(Path(path_stage, stage_files[i])) #read staging markers\n"
     ]
    },
    {
     "name": "stdout",
     "output_type": "stream",
     "text": [
      "0 bad epochs dropped\n",
      "Effective window size : 15.000 (s)\n",
      "Using data from preloaded Raw for 328 events and 7501 original time points ...\n",
      "0 bad epochs dropped\n",
      "Effective window size : 15.000 (s)\n",
      "Using data from preloaded Raw for 278 events and 7501 original time points ...\n",
      "0 bad epochs dropped\n",
      "Effective window size : 15.000 (s)\n",
      "Using data from preloaded Raw for 155 events and 7501 original time points ...\n",
      "0 bad epochs dropped\n",
      "Effective window size : 15.000 (s)\n",
      "Using data from preloaded Raw for 128 events and 7501 original time points ...\n",
      "1 bad epochs dropped\n",
      "Effective window size : 15.000 (s)\n",
      "Running FOOOFGroup across 183 power spectra.\n",
      "Running FOOOFGroup across 183 power spectra.\n",
      "Running FOOOFGroup across 183 power spectra.\n",
      "Model fitting was unsuccessful.\n",
      "Running FOOOFGroup across 183 power spectra.\n",
      "Running FOOOFGroup across 183 power spectra.\n"
     ]
    },
    {
     "name": "stderr",
     "output_type": "stream",
     "text": [
      "/home/b1044271/anaconda3/envs/mne/lib/python3.10/site-packages/fooof/core/funcs.py:67: RuntimeWarning: invalid value encountered in log10\n",
      "  ys = ys + offset - np.log10(knee + xs**exp)\n",
      "/home/b1044271/anaconda3/envs/mne/lib/python3.10/site-packages/fooof/core/funcs.py:67: RuntimeWarning: invalid value encountered in log10\n",
      "  ys = ys + offset - np.log10(knee + xs**exp)\n",
      "/home/b1044271/anaconda3/envs/mne/lib/python3.10/site-packages/fooof/core/funcs.py:67: RuntimeWarning: invalid value encountered in log10\n",
      "  ys = ys + offset - np.log10(knee + xs**exp)\n",
      "/home/b1044271/anaconda3/envs/mne/lib/python3.10/site-packages/fooof/core/funcs.py:67: RuntimeWarning: invalid value encountered in log10\n",
      "  ys = ys + offset - np.log10(knee + xs**exp)\n",
      "/home/b1044271/anaconda3/envs/mne/lib/python3.10/site-packages/fooof/core/funcs.py:67: RuntimeWarning: invalid value encountered in log10\n",
      "  ys = ys + offset - np.log10(knee + xs**exp)\n",
      "/home/b1044271/anaconda3/envs/mne/lib/python3.10/site-packages/fooof/core/funcs.py:67: RuntimeWarning: invalid value encountered in log10\n",
      "  ys = ys + offset - np.log10(knee + xs**exp)\n",
      "/home/b1044271/anaconda3/envs/mne/lib/python3.10/site-packages/fooof/core/funcs.py:67: RuntimeWarning: invalid value encountered in log10\n",
      "  ys = ys + offset - np.log10(knee + xs**exp)\n",
      "/home/b1044271/anaconda3/envs/mne/lib/python3.10/site-packages/fooof/core/funcs.py:67: RuntimeWarning: invalid value encountered in log10\n",
      "  ys = ys + offset - np.log10(knee + xs**exp)\n"
     ]
    },
    {
     "name": "stdout",
     "output_type": "stream",
     "text": [
      "Running FOOOFGroup across 183 power spectra.\n",
      "Running FOOOFGroup across 183 power spectra.\n",
      "Running FOOOFGroup across 183 power spectra.\n",
      "Running FOOOFGroup across 183 power spectra.\n",
      "Running FOOOFGroup across 183 power spectra.\n"
     ]
    },
    {
     "name": "stderr",
     "output_type": "stream",
     "text": [
      "/home/b1044271/anaconda3/envs/mne/lib/python3.10/site-packages/pymatreader/utils.py:122: UserWarning: Complex objects (like classes) are not supported. They are imported on a best effort base but your mileage will vary.\n",
      "  warn('Complex objects (like classes) are not supported. '\n",
      "/tmp/ipykernel_3748199/2310224163.py:5: RuntimeWarning: Data will be preloaded. preload=False or a string preload is not supported when the data is stored in the .set file\n",
      "  EEG = mne.io.read_raw_eeglab(os.path.join(Data_path, x)) # read raw .set file\n"
     ]
    },
    {
     "name": "stdout",
     "output_type": "stream",
     "text": [
      "loaded\n",
      "Not setting metadata\n",
      "1026 matching events found\n",
      "Setting baseline interval to [-30.0, 0.0] sec\n",
      "Applying baseline correction (mode: mean)\n",
      "0 projection items activated\n",
      "Using data from preloaded Raw for 77 events and 7501 original time points ...\n"
     ]
    },
    {
     "name": "stderr",
     "output_type": "stream",
     "text": [
      "/tmp/ipykernel_3748199/2310224163.py:5: RuntimeWarning: Limited 1 annotation(s) that were expanding outside the data range.\n",
      "  EEG = mne.io.read_raw_eeglab(os.path.join(Data_path, x)) # read raw .set file\n",
      "/tmp/ipykernel_3748199/2310224163.py:8: RuntimeWarning: This filename (/home/b1044271/EEGsleep/SleepStaging/mat/mne2/VP08_SS_250_mne.txt) does not conform to MNE naming conventions. All events files should end with .eve, -eve.fif, -eve.fif.gz, -eve.lst, -eve.txt, _eve.fif, _eve.fif.gz, _eve.lst, _eve.txt or -annot.fif\n",
      "  events = mne.read_events(Path(path_stage, stage_files[i])) #read staging markers\n"
     ]
    },
    {
     "name": "stdout",
     "output_type": "stream",
     "text": [
      "0 bad epochs dropped\n",
      "Effective window size : 15.000 (s)\n",
      "Using data from preloaded Raw for 443 events and 7501 original time points ...\n",
      "0 bad epochs dropped\n",
      "Effective window size : 15.000 (s)\n",
      "Using data from preloaded Raw for 175 events and 7501 original time points ...\n",
      "1 bad epochs dropped\n",
      "Effective window size : 15.000 (s)\n",
      "Using data from preloaded Raw for 164 events and 7501 original time points ...\n",
      "0 bad epochs dropped\n",
      "Effective window size : 15.000 (s)\n",
      "Using data from preloaded Raw for 166 events and 7501 original time points ...\n",
      "0 bad epochs dropped\n",
      "Effective window size : 15.000 (s)\n",
      "Running FOOOFGroup across 183 power spectra.\n",
      "Running FOOOFGroup across 183 power spectra.\n",
      "Running FOOOFGroup across 183 power spectra.\n",
      "Running FOOOFGroup across 183 power spectra.\n",
      "Running FOOOFGroup across 183 power spectra.\n",
      "Running FOOOFGroup across 183 power spectra.\n",
      "Running FOOOFGroup across 183 power spectra.\n",
      "Running FOOOFGroup across 183 power spectra.\n",
      "Running FOOOFGroup across 183 power spectra.\n",
      "Running FOOOFGroup across 183 power spectra.\n"
     ]
    },
    {
     "name": "stderr",
     "output_type": "stream",
     "text": [
      "/home/b1044271/anaconda3/envs/mne/lib/python3.10/site-packages/pymatreader/utils.py:122: UserWarning: Complex objects (like classes) are not supported. They are imported on a best effort base but your mileage will vary.\n",
      "  warn('Complex objects (like classes) are not supported. '\n",
      "/tmp/ipykernel_3748199/2310224163.py:5: RuntimeWarning: Data will be preloaded. preload=False or a string preload is not supported when the data is stored in the .set file\n",
      "  EEG = mne.io.read_raw_eeglab(os.path.join(Data_path, x)) # read raw .set file\n"
     ]
    },
    {
     "name": "stdout",
     "output_type": "stream",
     "text": [
      "loaded\n",
      "Not setting metadata\n",
      "961 matching events found\n",
      "Setting baseline interval to [-30.0, 0.0] sec\n",
      "Applying baseline correction (mode: mean)\n",
      "0 projection items activated\n",
      "Using data from preloaded Raw for 72 events and 7501 original time points ...\n"
     ]
    },
    {
     "name": "stderr",
     "output_type": "stream",
     "text": [
      "/tmp/ipykernel_3748199/2310224163.py:5: RuntimeWarning: Limited 1 annotation(s) that were expanding outside the data range.\n",
      "  EEG = mne.io.read_raw_eeglab(os.path.join(Data_path, x)) # read raw .set file\n",
      "/tmp/ipykernel_3748199/2310224163.py:8: RuntimeWarning: This filename (/home/b1044271/EEGsleep/SleepStaging/mat/mne2/VP10_SS_250_mne.txt) does not conform to MNE naming conventions. All events files should end with .eve, -eve.fif, -eve.fif.gz, -eve.lst, -eve.txt, _eve.fif, _eve.fif.gz, _eve.lst, _eve.txt or -annot.fif\n",
      "  events = mne.read_events(Path(path_stage, stage_files[i])) #read staging markers\n"
     ]
    },
    {
     "name": "stdout",
     "output_type": "stream",
     "text": [
      "0 bad epochs dropped\n",
      "Effective window size : 15.000 (s)\n",
      "Using data from preloaded Raw for 313 events and 7501 original time points ...\n",
      "0 bad epochs dropped\n",
      "Effective window size : 15.000 (s)\n",
      "Using data from preloaded Raw for 357 events and 7501 original time points ...\n",
      "0 bad epochs dropped\n",
      "Effective window size : 15.000 (s)\n",
      "Using data from preloaded Raw for 72 events and 7501 original time points ...\n",
      "1 bad epochs dropped\n",
      "Effective window size : 15.000 (s)\n",
      "Using data from preloaded Raw for 146 events and 7501 original time points ...\n",
      "0 bad epochs dropped\n",
      "Effective window size : 15.000 (s)\n",
      "Running FOOOFGroup across 183 power spectra.\n"
     ]
    },
    {
     "name": "stderr",
     "output_type": "stream",
     "text": [
      "/home/b1044271/anaconda3/envs/mne/lib/python3.10/site-packages/fooof/core/funcs.py:67: RuntimeWarning: invalid value encountered in log10\n",
      "  ys = ys + offset - np.log10(knee + xs**exp)\n"
     ]
    },
    {
     "name": "stdout",
     "output_type": "stream",
     "text": [
      "Running FOOOFGroup across 183 power spectra.\n",
      "Running FOOOFGroup across 183 power spectra.\n"
     ]
    },
    {
     "name": "stderr",
     "output_type": "stream",
     "text": [
      "/home/b1044271/anaconda3/envs/mne/lib/python3.10/site-packages/fooof/core/funcs.py:67: RuntimeWarning: invalid value encountered in log10\n",
      "  ys = ys + offset - np.log10(knee + xs**exp)\n"
     ]
    },
    {
     "name": "stdout",
     "output_type": "stream",
     "text": [
      "Running FOOOFGroup across 183 power spectra.\n",
      "Running FOOOFGroup across 183 power spectra.\n"
     ]
    },
    {
     "name": "stderr",
     "output_type": "stream",
     "text": [
      "/home/b1044271/anaconda3/envs/mne/lib/python3.10/site-packages/fooof/core/funcs.py:67: RuntimeWarning: invalid value encountered in log10\n",
      "  ys = ys + offset - np.log10(knee + xs**exp)\n",
      "/home/b1044271/anaconda3/envs/mne/lib/python3.10/site-packages/fooof/core/funcs.py:67: RuntimeWarning: invalid value encountered in log10\n",
      "  ys = ys + offset - np.log10(knee + xs**exp)\n",
      "/home/b1044271/anaconda3/envs/mne/lib/python3.10/site-packages/fooof/core/funcs.py:67: RuntimeWarning: invalid value encountered in log10\n",
      "  ys = ys + offset - np.log10(knee + xs**exp)\n",
      "/home/b1044271/anaconda3/envs/mne/lib/python3.10/site-packages/fooof/core/funcs.py:67: RuntimeWarning: invalid value encountered in log10\n",
      "  ys = ys + offset - np.log10(knee + xs**exp)\n",
      "/home/b1044271/anaconda3/envs/mne/lib/python3.10/site-packages/fooof/core/funcs.py:67: RuntimeWarning: invalid value encountered in log10\n",
      "  ys = ys + offset - np.log10(knee + xs**exp)\n",
      "/home/b1044271/anaconda3/envs/mne/lib/python3.10/site-packages/fooof/core/funcs.py:67: RuntimeWarning: invalid value encountered in log10\n",
      "  ys = ys + offset - np.log10(knee + xs**exp)\n",
      "/home/b1044271/anaconda3/envs/mne/lib/python3.10/site-packages/fooof/core/funcs.py:67: RuntimeWarning: invalid value encountered in log10\n",
      "  ys = ys + offset - np.log10(knee + xs**exp)\n",
      "/home/b1044271/anaconda3/envs/mne/lib/python3.10/site-packages/fooof/core/funcs.py:67: RuntimeWarning: invalid value encountered in log10\n",
      "  ys = ys + offset - np.log10(knee + xs**exp)\n",
      "/home/b1044271/anaconda3/envs/mne/lib/python3.10/site-packages/fooof/core/funcs.py:67: RuntimeWarning: invalid value encountered in log10\n",
      "  ys = ys + offset - np.log10(knee + xs**exp)\n",
      "/home/b1044271/anaconda3/envs/mne/lib/python3.10/site-packages/fooof/core/funcs.py:67: RuntimeWarning: invalid value encountered in log10\n",
      "  ys = ys + offset - np.log10(knee + xs**exp)\n",
      "/home/b1044271/anaconda3/envs/mne/lib/python3.10/site-packages/fooof/core/funcs.py:67: RuntimeWarning: invalid value encountered in log10\n",
      "  ys = ys + offset - np.log10(knee + xs**exp)\n",
      "/home/b1044271/anaconda3/envs/mne/lib/python3.10/site-packages/fooof/core/funcs.py:67: RuntimeWarning: invalid value encountered in log10\n",
      "  ys = ys + offset - np.log10(knee + xs**exp)\n",
      "/home/b1044271/anaconda3/envs/mne/lib/python3.10/site-packages/fooof/core/funcs.py:67: RuntimeWarning: invalid value encountered in log10\n",
      "  ys = ys + offset - np.log10(knee + xs**exp)\n",
      "/home/b1044271/anaconda3/envs/mne/lib/python3.10/site-packages/fooof/core/funcs.py:67: RuntimeWarning: invalid value encountered in log10\n",
      "  ys = ys + offset - np.log10(knee + xs**exp)\n",
      "/home/b1044271/anaconda3/envs/mne/lib/python3.10/site-packages/fooof/core/funcs.py:67: RuntimeWarning: invalid value encountered in log10\n",
      "  ys = ys + offset - np.log10(knee + xs**exp)\n"
     ]
    },
    {
     "name": "stdout",
     "output_type": "stream",
     "text": [
      "Running FOOOFGroup across 183 power spectra.\n",
      "Running FOOOFGroup across 183 power spectra.\n",
      "Running FOOOFGroup across 183 power spectra.\n",
      "Running FOOOFGroup across 183 power spectra.\n",
      "Running FOOOFGroup across 183 power spectra.\n"
     ]
    },
    {
     "name": "stderr",
     "output_type": "stream",
     "text": [
      "/home/b1044271/anaconda3/envs/mne/lib/python3.10/site-packages/pymatreader/utils.py:122: UserWarning: Complex objects (like classes) are not supported. They are imported on a best effort base but your mileage will vary.\n",
      "  warn('Complex objects (like classes) are not supported. '\n",
      "/tmp/ipykernel_3748199/2310224163.py:5: RuntimeWarning: Data will be preloaded. preload=False or a string preload is not supported when the data is stored in the .set file\n",
      "  EEG = mne.io.read_raw_eeglab(os.path.join(Data_path, x)) # read raw .set file\n"
     ]
    },
    {
     "name": "stdout",
     "output_type": "stream",
     "text": [
      "loaded\n",
      "Not setting metadata\n",
      "935 matching events found\n",
      "Setting baseline interval to [-30.0, 0.0] sec\n",
      "Applying baseline correction (mode: mean)\n",
      "0 projection items activated\n",
      "Using data from preloaded Raw for 61 events and 7501 original time points ...\n"
     ]
    },
    {
     "name": "stderr",
     "output_type": "stream",
     "text": [
      "/tmp/ipykernel_3748199/2310224163.py:5: RuntimeWarning: Limited 1 annotation(s) that were expanding outside the data range.\n",
      "  EEG = mne.io.read_raw_eeglab(os.path.join(Data_path, x)) # read raw .set file\n",
      "/tmp/ipykernel_3748199/2310224163.py:8: RuntimeWarning: This filename (/home/b1044271/EEGsleep/SleepStaging/mat/mne2/VP11_SS_250_mne.txt) does not conform to MNE naming conventions. All events files should end with .eve, -eve.fif, -eve.fif.gz, -eve.lst, -eve.txt, _eve.fif, _eve.fif.gz, _eve.lst, _eve.txt or -annot.fif\n",
      "  events = mne.read_events(Path(path_stage, stage_files[i])) #read staging markers\n"
     ]
    },
    {
     "name": "stdout",
     "output_type": "stream",
     "text": [
      "0 bad epochs dropped\n",
      "Effective window size : 15.000 (s)\n",
      "Using data from preloaded Raw for 381 events and 7501 original time points ...\n",
      "0 bad epochs dropped\n",
      "Effective window size : 15.000 (s)\n",
      "Using data from preloaded Raw for 245 events and 7501 original time points ...\n",
      "0 bad epochs dropped\n",
      "Effective window size : 15.000 (s)\n",
      "Using data from preloaded Raw for 63 events and 7501 original time points ...\n",
      "1 bad epochs dropped\n",
      "Effective window size : 15.000 (s)\n",
      "Using data from preloaded Raw for 184 events and 7501 original time points ...\n",
      "0 bad epochs dropped\n",
      "Effective window size : 15.000 (s)\n",
      "Running FOOOFGroup across 183 power spectra.\n",
      "Running FOOOFGroup across 183 power spectra.\n",
      "Running FOOOFGroup across 183 power spectra.\n",
      "Running FOOOFGroup across 183 power spectra.\n",
      "Running FOOOFGroup across 183 power spectra.\n",
      "Running FOOOFGroup across 183 power spectra.\n",
      "Running FOOOFGroup across 183 power spectra.\n",
      "Running FOOOFGroup across 183 power spectra.\n",
      "Running FOOOFGroup across 183 power spectra.\n",
      "Running FOOOFGroup across 183 power spectra.\n"
     ]
    },
    {
     "name": "stderr",
     "output_type": "stream",
     "text": [
      "/home/b1044271/anaconda3/envs/mne/lib/python3.10/site-packages/pymatreader/utils.py:122: UserWarning: Complex objects (like classes) are not supported. They are imported on a best effort base but your mileage will vary.\n",
      "  warn('Complex objects (like classes) are not supported. '\n",
      "/tmp/ipykernel_3748199/2310224163.py:5: RuntimeWarning: Data will be preloaded. preload=False or a string preload is not supported when the data is stored in the .set file\n",
      "  EEG = mne.io.read_raw_eeglab(os.path.join(Data_path, x)) # read raw .set file\n"
     ]
    },
    {
     "name": "stdout",
     "output_type": "stream",
     "text": [
      "loaded\n",
      "Not setting metadata\n",
      "970 matching events found\n",
      "Setting baseline interval to [-30.0, 0.0] sec\n",
      "Applying baseline correction (mode: mean)\n",
      "0 projection items activated\n",
      "Using data from preloaded Raw for 19 events and 7501 original time points ...\n"
     ]
    },
    {
     "name": "stderr",
     "output_type": "stream",
     "text": [
      "/tmp/ipykernel_3748199/2310224163.py:5: RuntimeWarning: Limited 1 annotation(s) that were expanding outside the data range.\n",
      "  EEG = mne.io.read_raw_eeglab(os.path.join(Data_path, x)) # read raw .set file\n",
      "/tmp/ipykernel_3748199/2310224163.py:8: RuntimeWarning: This filename (/home/b1044271/EEGsleep/SleepStaging/mat/mne2/VP12_SS_250_mne.txt) does not conform to MNE naming conventions. All events files should end with .eve, -eve.fif, -eve.fif.gz, -eve.lst, -eve.txt, _eve.fif, _eve.fif.gz, _eve.lst, _eve.txt or -annot.fif\n",
      "  events = mne.read_events(Path(path_stage, stage_files[i])) #read staging markers\n"
     ]
    },
    {
     "name": "stdout",
     "output_type": "stream",
     "text": [
      "0 bad epochs dropped\n",
      "Effective window size : 15.000 (s)\n",
      "Using data from preloaded Raw for 220 events and 7501 original time points ...\n",
      "0 bad epochs dropped\n",
      "Effective window size : 15.000 (s)\n",
      "Using data from preloaded Raw for 227 events and 7501 original time points ...\n",
      "0 bad epochs dropped\n",
      "Effective window size : 15.000 (s)\n",
      "Using data from preloaded Raw for 251 events and 7501 original time points ...\n",
      "1 bad epochs dropped\n",
      "Effective window size : 15.000 (s)\n",
      "Using data from preloaded Raw for 252 events and 7501 original time points ...\n",
      "0 bad epochs dropped\n",
      "Effective window size : 15.000 (s)\n",
      "Running FOOOFGroup across 183 power spectra.\n",
      "Running FOOOFGroup across 183 power spectra.\n",
      "Running FOOOFGroup across 183 power spectra.\n",
      "Running FOOOFGroup across 183 power spectra.\n",
      "Running FOOOFGroup across 183 power spectra.\n",
      "Running FOOOFGroup across 183 power spectra.\n",
      "Running FOOOFGroup across 183 power spectra.\n",
      "Running FOOOFGroup across 183 power spectra.\n",
      "Running FOOOFGroup across 183 power spectra.\n",
      "Running FOOOFGroup across 183 power spectra.\n"
     ]
    },
    {
     "name": "stderr",
     "output_type": "stream",
     "text": [
      "/home/b1044271/anaconda3/envs/mne/lib/python3.10/site-packages/pymatreader/utils.py:122: UserWarning: Complex objects (like classes) are not supported. They are imported on a best effort base but your mileage will vary.\n",
      "  warn('Complex objects (like classes) are not supported. '\n",
      "/tmp/ipykernel_3748199/2310224163.py:5: RuntimeWarning: Data will be preloaded. preload=False or a string preload is not supported when the data is stored in the .set file\n",
      "  EEG = mne.io.read_raw_eeglab(os.path.join(Data_path, x)) # read raw .set file\n"
     ]
    },
    {
     "name": "stdout",
     "output_type": "stream",
     "text": [
      "loaded\n",
      "Not setting metadata\n",
      "631 matching events found\n",
      "Setting baseline interval to [-30.0, 0.0] sec\n",
      "Applying baseline correction (mode: mean)\n",
      "0 projection items activated\n",
      "Using data from preloaded Raw for 44 events and 7501 original time points ...\n"
     ]
    },
    {
     "name": "stderr",
     "output_type": "stream",
     "text": [
      "/tmp/ipykernel_3748199/2310224163.py:5: RuntimeWarning: Limited 2 annotation(s) that were expanding outside the data range.\n",
      "  EEG = mne.io.read_raw_eeglab(os.path.join(Data_path, x)) # read raw .set file\n",
      "/tmp/ipykernel_3748199/2310224163.py:8: RuntimeWarning: This filename (/home/b1044271/EEGsleep/SleepStaging/mat/mne2/VP13_SS_250_mne.txt) does not conform to MNE naming conventions. All events files should end with .eve, -eve.fif, -eve.fif.gz, -eve.lst, -eve.txt, _eve.fif, _eve.fif.gz, _eve.lst, _eve.txt or -annot.fif\n",
      "  events = mne.read_events(Path(path_stage, stage_files[i])) #read staging markers\n"
     ]
    },
    {
     "name": "stdout",
     "output_type": "stream",
     "text": [
      "0 bad epochs dropped\n",
      "Effective window size : 15.000 (s)\n",
      "Using data from preloaded Raw for 207 events and 7501 original time points ...\n",
      "0 bad epochs dropped\n",
      "Effective window size : 15.000 (s)\n",
      "Using data from preloaded Raw for 255 events and 7501 original time points ...\n",
      "0 bad epochs dropped\n",
      "Effective window size : 15.000 (s)\n",
      "Using data from preloaded Raw for 30 events and 7501 original time points ...\n",
      "1 bad epochs dropped\n",
      "Effective window size : 15.000 (s)\n",
      "Using data from preloaded Raw for 94 events and 7501 original time points ...\n",
      "0 bad epochs dropped\n",
      "Effective window size : 15.000 (s)\n",
      "Running FOOOFGroup across 183 power spectra.\n",
      "Running FOOOFGroup across 183 power spectra.\n",
      "Running FOOOFGroup across 183 power spectra.\n"
     ]
    },
    {
     "name": "stderr",
     "output_type": "stream",
     "text": [
      "/home/b1044271/anaconda3/envs/mne/lib/python3.10/site-packages/fooof/core/funcs.py:67: RuntimeWarning: invalid value encountered in log10\n",
      "  ys = ys + offset - np.log10(knee + xs**exp)\n",
      "/home/b1044271/anaconda3/envs/mne/lib/python3.10/site-packages/fooof/core/funcs.py:67: RuntimeWarning: invalid value encountered in log10\n",
      "  ys = ys + offset - np.log10(knee + xs**exp)\n",
      "/home/b1044271/anaconda3/envs/mne/lib/python3.10/site-packages/fooof/core/funcs.py:67: RuntimeWarning: invalid value encountered in log10\n",
      "  ys = ys + offset - np.log10(knee + xs**exp)\n"
     ]
    },
    {
     "name": "stdout",
     "output_type": "stream",
     "text": [
      "Running FOOOFGroup across 183 power spectra.\n"
     ]
    },
    {
     "name": "stderr",
     "output_type": "stream",
     "text": [
      "/home/b1044271/anaconda3/envs/mne/lib/python3.10/site-packages/fooof/core/funcs.py:67: RuntimeWarning: invalid value encountered in log10\n",
      "  ys = ys + offset - np.log10(knee + xs**exp)\n"
     ]
    },
    {
     "name": "stdout",
     "output_type": "stream",
     "text": [
      "Running FOOOFGroup across 183 power spectra.\n"
     ]
    },
    {
     "name": "stderr",
     "output_type": "stream",
     "text": [
      "/home/b1044271/anaconda3/envs/mne/lib/python3.10/site-packages/fooof/core/funcs.py:67: RuntimeWarning: invalid value encountered in log10\n",
      "  ys = ys + offset - np.log10(knee + xs**exp)\n",
      "/home/b1044271/anaconda3/envs/mne/lib/python3.10/site-packages/fooof/core/funcs.py:67: RuntimeWarning: invalid value encountered in log10\n",
      "  ys = ys + offset - np.log10(knee + xs**exp)\n",
      "/home/b1044271/anaconda3/envs/mne/lib/python3.10/site-packages/fooof/core/funcs.py:67: RuntimeWarning: invalid value encountered in log10\n",
      "  ys = ys + offset - np.log10(knee + xs**exp)\n",
      "/home/b1044271/anaconda3/envs/mne/lib/python3.10/site-packages/fooof/core/funcs.py:67: RuntimeWarning: invalid value encountered in log10\n",
      "  ys = ys + offset - np.log10(knee + xs**exp)\n",
      "/home/b1044271/anaconda3/envs/mne/lib/python3.10/site-packages/fooof/core/funcs.py:67: RuntimeWarning: invalid value encountered in log10\n",
      "  ys = ys + offset - np.log10(knee + xs**exp)\n",
      "/home/b1044271/anaconda3/envs/mne/lib/python3.10/site-packages/fooof/core/funcs.py:67: RuntimeWarning: invalid value encountered in log10\n",
      "  ys = ys + offset - np.log10(knee + xs**exp)\n",
      "/home/b1044271/anaconda3/envs/mne/lib/python3.10/site-packages/fooof/core/funcs.py:67: RuntimeWarning: invalid value encountered in log10\n",
      "  ys = ys + offset - np.log10(knee + xs**exp)\n",
      "/home/b1044271/anaconda3/envs/mne/lib/python3.10/site-packages/fooof/core/funcs.py:67: RuntimeWarning: invalid value encountered in log10\n",
      "  ys = ys + offset - np.log10(knee + xs**exp)\n",
      "/home/b1044271/anaconda3/envs/mne/lib/python3.10/site-packages/fooof/core/funcs.py:67: RuntimeWarning: invalid value encountered in log10\n",
      "  ys = ys + offset - np.log10(knee + xs**exp)\n",
      "/home/b1044271/anaconda3/envs/mne/lib/python3.10/site-packages/fooof/core/funcs.py:67: RuntimeWarning: invalid value encountered in log10\n",
      "  ys = ys + offset - np.log10(knee + xs**exp)\n",
      "/home/b1044271/anaconda3/envs/mne/lib/python3.10/site-packages/fooof/core/funcs.py:67: RuntimeWarning: invalid value encountered in log10\n",
      "  ys = ys + offset - np.log10(knee + xs**exp)\n",
      "/home/b1044271/anaconda3/envs/mne/lib/python3.10/site-packages/fooof/core/funcs.py:67: RuntimeWarning: invalid value encountered in log10\n",
      "  ys = ys + offset - np.log10(knee + xs**exp)\n",
      "/home/b1044271/anaconda3/envs/mne/lib/python3.10/site-packages/fooof/core/funcs.py:67: RuntimeWarning: invalid value encountered in log10\n",
      "  ys = ys + offset - np.log10(knee + xs**exp)\n"
     ]
    },
    {
     "name": "stdout",
     "output_type": "stream",
     "text": [
      "Running FOOOFGroup across 183 power spectra.\n",
      "Running FOOOFGroup across 183 power spectra.\n",
      "Running FOOOFGroup across 183 power spectra.\n",
      "Running FOOOFGroup across 183 power spectra.\n",
      "Running FOOOFGroup across 183 power spectra.\n"
     ]
    },
    {
     "name": "stderr",
     "output_type": "stream",
     "text": [
      "/home/b1044271/anaconda3/envs/mne/lib/python3.10/site-packages/pymatreader/utils.py:122: UserWarning: Complex objects (like classes) are not supported. They are imported on a best effort base but your mileage will vary.\n",
      "  warn('Complex objects (like classes) are not supported. '\n",
      "/tmp/ipykernel_3748199/2310224163.py:5: RuntimeWarning: Data will be preloaded. preload=False or a string preload is not supported when the data is stored in the .set file\n",
      "  EEG = mne.io.read_raw_eeglab(os.path.join(Data_path, x)) # read raw .set file\n"
     ]
    },
    {
     "name": "stdout",
     "output_type": "stream",
     "text": [
      "loaded\n",
      "Not setting metadata\n",
      "965 matching events found\n",
      "Setting baseline interval to [-30.0, 0.0] sec\n",
      "Applying baseline correction (mode: mean)\n",
      "0 projection items activated\n",
      "Using data from preloaded Raw for 63 events and 7501 original time points ...\n"
     ]
    },
    {
     "name": "stderr",
     "output_type": "stream",
     "text": [
      "/tmp/ipykernel_3748199/2310224163.py:5: RuntimeWarning: Limited 1 annotation(s) that were expanding outside the data range.\n",
      "  EEG = mne.io.read_raw_eeglab(os.path.join(Data_path, x)) # read raw .set file\n",
      "/tmp/ipykernel_3748199/2310224163.py:8: RuntimeWarning: This filename (/home/b1044271/EEGsleep/SleepStaging/mat/mne2/VP14_SS_250_mne.txt) does not conform to MNE naming conventions. All events files should end with .eve, -eve.fif, -eve.fif.gz, -eve.lst, -eve.txt, _eve.fif, _eve.fif.gz, _eve.lst, _eve.txt or -annot.fif\n",
      "  events = mne.read_events(Path(path_stage, stage_files[i])) #read staging markers\n"
     ]
    },
    {
     "name": "stdout",
     "output_type": "stream",
     "text": [
      "0 bad epochs dropped\n",
      "Effective window size : 15.000 (s)\n",
      "Using data from preloaded Raw for 316 events and 7501 original time points ...\n",
      "0 bad epochs dropped\n",
      "Effective window size : 15.000 (s)\n",
      "Using data from preloaded Raw for 348 events and 7501 original time points ...\n",
      "0 bad epochs dropped\n",
      "Effective window size : 15.000 (s)\n",
      "Using data from preloaded Raw for 49 events and 7501 original time points ...\n",
      "1 bad epochs dropped\n",
      "Effective window size : 15.000 (s)\n",
      "Using data from preloaded Raw for 188 events and 7501 original time points ...\n",
      "0 bad epochs dropped\n",
      "Effective window size : 15.000 (s)\n",
      "Running FOOOFGroup across 183 power spectra.\n",
      "Running FOOOFGroup across 183 power spectra.\n",
      "Running FOOOFGroup across 183 power spectra.\n"
     ]
    },
    {
     "name": "stderr",
     "output_type": "stream",
     "text": [
      "/home/b1044271/anaconda3/envs/mne/lib/python3.10/site-packages/fooof/core/funcs.py:67: RuntimeWarning: invalid value encountered in log10\n",
      "  ys = ys + offset - np.log10(knee + xs**exp)\n"
     ]
    },
    {
     "name": "stdout",
     "output_type": "stream",
     "text": [
      "Running FOOOFGroup across 183 power spectra.\n",
      "Running FOOOFGroup across 183 power spectra.\n",
      "Running FOOOFGroup across 183 power spectra.\n",
      "Running FOOOFGroup across 183 power spectra.\n",
      "Running FOOOFGroup across 183 power spectra.\n",
      "Running FOOOFGroup across 183 power spectra.\n",
      "Running FOOOFGroup across 183 power spectra.\n"
     ]
    },
    {
     "name": "stderr",
     "output_type": "stream",
     "text": [
      "/home/b1044271/anaconda3/envs/mne/lib/python3.10/site-packages/pymatreader/utils.py:122: UserWarning: Complex objects (like classes) are not supported. They are imported on a best effort base but your mileage will vary.\n",
      "  warn('Complex objects (like classes) are not supported. '\n",
      "/tmp/ipykernel_3748199/2310224163.py:5: RuntimeWarning: Data will be preloaded. preload=False or a string preload is not supported when the data is stored in the .set file\n",
      "  EEG = mne.io.read_raw_eeglab(os.path.join(Data_path, x)) # read raw .set file\n"
     ]
    },
    {
     "name": "stdout",
     "output_type": "stream",
     "text": [
      "loaded\n",
      "Not setting metadata\n",
      "957 matching events found\n",
      "Setting baseline interval to [-30.0, 0.0] sec\n",
      "Applying baseline correction (mode: mean)\n",
      "0 projection items activated\n",
      "Using data from preloaded Raw for 44 events and 7501 original time points ...\n"
     ]
    },
    {
     "name": "stderr",
     "output_type": "stream",
     "text": [
      "/tmp/ipykernel_3748199/2310224163.py:5: RuntimeWarning: Limited 1 annotation(s) that were expanding outside the data range.\n",
      "  EEG = mne.io.read_raw_eeglab(os.path.join(Data_path, x)) # read raw .set file\n",
      "/tmp/ipykernel_3748199/2310224163.py:8: RuntimeWarning: This filename (/home/b1044271/EEGsleep/SleepStaging/mat/mne2/VP15_SS_250_mne.txt) does not conform to MNE naming conventions. All events files should end with .eve, -eve.fif, -eve.fif.gz, -eve.lst, -eve.txt, _eve.fif, _eve.fif.gz, _eve.lst, _eve.txt or -annot.fif\n",
      "  events = mne.read_events(Path(path_stage, stage_files[i])) #read staging markers\n"
     ]
    },
    {
     "name": "stdout",
     "output_type": "stream",
     "text": [
      "0 bad epochs dropped\n",
      "Effective window size : 15.000 (s)\n",
      "Using data from preloaded Raw for 345 events and 7501 original time points ...\n",
      "0 bad epochs dropped\n",
      "Effective window size : 15.000 (s)\n",
      "Using data from preloaded Raw for 227 events and 7501 original time points ...\n",
      "0 bad epochs dropped\n",
      "Effective window size : 15.000 (s)\n",
      "Using data from preloaded Raw for 51 events and 7501 original time points ...\n",
      "1 bad epochs dropped\n",
      "Effective window size : 15.000 (s)\n",
      "Using data from preloaded Raw for 289 events and 7501 original time points ...\n",
      "0 bad epochs dropped\n",
      "Effective window size : 15.000 (s)\n",
      "Running FOOOFGroup across 183 power spectra.\n",
      "Running FOOOFGroup across 183 power spectra.\n"
     ]
    },
    {
     "name": "stderr",
     "output_type": "stream",
     "text": [
      "/home/b1044271/anaconda3/envs/mne/lib/python3.10/site-packages/fooof/core/funcs.py:67: RuntimeWarning: invalid value encountered in log10\n",
      "  ys = ys + offset - np.log10(knee + xs**exp)\n"
     ]
    },
    {
     "name": "stdout",
     "output_type": "stream",
     "text": [
      "Running FOOOFGroup across 183 power spectra.\n"
     ]
    },
    {
     "name": "stderr",
     "output_type": "stream",
     "text": [
      "/home/b1044271/anaconda3/envs/mne/lib/python3.10/site-packages/fooof/core/funcs.py:67: RuntimeWarning: invalid value encountered in log10\n",
      "  ys = ys + offset - np.log10(knee + xs**exp)\n",
      "/home/b1044271/anaconda3/envs/mne/lib/python3.10/site-packages/fooof/core/funcs.py:67: RuntimeWarning: invalid value encountered in log10\n",
      "  ys = ys + offset - np.log10(knee + xs**exp)\n"
     ]
    },
    {
     "name": "stdout",
     "output_type": "stream",
     "text": [
      "Running FOOOFGroup across 183 power spectra.\n",
      "Running FOOOFGroup across 183 power spectra.\n"
     ]
    },
    {
     "name": "stderr",
     "output_type": "stream",
     "text": [
      "/home/b1044271/anaconda3/envs/mne/lib/python3.10/site-packages/fooof/core/funcs.py:67: RuntimeWarning: invalid value encountered in log10\n",
      "  ys = ys + offset - np.log10(knee + xs**exp)\n",
      "/home/b1044271/anaconda3/envs/mne/lib/python3.10/site-packages/fooof/core/funcs.py:67: RuntimeWarning: invalid value encountered in log10\n",
      "  ys = ys + offset - np.log10(knee + xs**exp)\n"
     ]
    },
    {
     "name": "stdout",
     "output_type": "stream",
     "text": [
      "Running FOOOFGroup across 183 power spectra.\n",
      "Running FOOOFGroup across 183 power spectra.\n",
      "Running FOOOFGroup across 183 power spectra.\n",
      "Running FOOOFGroup across 183 power spectra.\n",
      "Running FOOOFGroup across 183 power spectra.\n"
     ]
    },
    {
     "name": "stderr",
     "output_type": "stream",
     "text": [
      "/home/b1044271/anaconda3/envs/mne/lib/python3.10/site-packages/pymatreader/utils.py:122: UserWarning: Complex objects (like classes) are not supported. They are imported on a best effort base but your mileage will vary.\n",
      "  warn('Complex objects (like classes) are not supported. '\n"
     ]
    }
   ],
   "source": [
    "# Start function\n",
    "i = 0\n",
    "for x in subj_files:\n",
    "    check_path(path_results / x[0:4]) # create subject folder\n",
    "    EEG = mne.io.read_raw_eeglab(os.path.join(Data_path, x)) # read raw .set file\n",
    "    print('loaded')\n",
    "    \n",
    "    events = mne.read_events(Path(path_stage, stage_files[i])) #read staging markers\n",
    "    epochs = mne.Epochs(EEG, events=events, tmin=-30, tmax=0)\n",
    "\n",
    "#Now we select epochs and average over all epochs\n",
    "    N1s = epochs['1']\n",
    "    N2s = epochs['2']\n",
    "    N3s = epochs['3']\n",
    "    REs = epochs['5']\n",
    "    AWs = epochs['0']\n",
    "    \n",
    "# Settings for PSD calculation using welch's\n",
    "    N1={}\n",
    "    N2={}\n",
    "    N3={}\n",
    "    AW={}\n",
    "    RM={}\n",
    "\n",
    "# calculate psd based on welch's method with differen freq range and diff time steps\n",
    "    N1 = N1s.compute_psd(**SETTINGS_W) #N1\n",
    "    N2 = N2s.compute_psd(**SETTINGS_W) #N2\n",
    "    N3 = N3s.compute_psd(**SETTINGS_W)\n",
    "    AW = AWs.compute_psd(**SETTINGS_W)\n",
    "    RM = REs.compute_psd(**SETTINGS_W)\n",
    "    \n",
    "# FOOOF it\n",
    "    fm1 = FOOOFGroup(**SETTINGS_F1)\n",
    "    fm1.fit(N1._freqs, np.mean(N1._data,0), [N1._freqs[0] ,N1._freqs[-1]])\n",
    "    \n",
    "    fm2 = FOOOFGroup(**SETTINGS_F1)\n",
    "    fm2.fit(N2._freqs, np.mean(N2._data,0), [N2._freqs[0] ,N2._freqs[-1]])\n",
    " \n",
    "    fm3 = FOOOFGroup(**SETTINGS_F1)\n",
    "    fm3.fit(N3._freqs, np.mean(N3._data,0), [N3._freqs[0] ,N3._freqs[-1]])\n",
    "    \n",
    "    fm4 = FOOOFGroup(**SETTINGS_F1)\n",
    "    fm4.fit(RM._freqs, np.mean(RM._data,0), [RM._freqs[0] ,RM._freqs[-1]])\n",
    "    \n",
    "    fm5 = FOOOFGroup(**SETTINGS_F1)\n",
    "    fm5.fit(AW._freqs, np.mean(AW._data,0), [AW._freqs[0] ,AW._freqs[-1]])\n",
    "    \n",
    "    fm6 = FOOOFGroup(**SETTINGS_F2)\n",
    "    fm6.fit(N1._freqs, np.mean(N1._data,0), [N1._freqs[0] ,N1._freqs[-1]])\n",
    "    \n",
    "    fm7 = FOOOFGroup(**SETTINGS_F2)\n",
    "    fm7.fit(N2._freqs, np.mean(N2._data,0), [N2._freqs[0] ,N2._freqs[-1]])\n",
    " \n",
    "    fm8 = FOOOFGroup(**SETTINGS_F2)\n",
    "    fm8.fit(N3._freqs, np.mean(N3._data,0), [N3._freqs[0] ,N3._freqs[-1]])\n",
    "    \n",
    "    fm9 = FOOOFGroup(**SETTINGS_F2)\n",
    "    fm9.fit(RM._freqs, np.mean(RM._data,0), [RM._freqs[0] ,RM._freqs[-1]])\n",
    "    \n",
    "    fm10 = FOOOFGroup(**SETTINGS_F2)\n",
    "    fm10.fit(AW._freqs, np.mean(AW._data,0), [AW._freqs[0] ,AW._freqs[-1]])\n",
    "    \n",
    "# parameters exctraction\n",
    "    W_Kn[i,0:AW._data.shape[1]]  = fm5.get_params('aperiodic_params','knee')\n",
    "    W_Exp[i,0:AW._data.shape[1]] = fm5.get_params('aperiodic_params','exponent')\n",
    "    W_Exp2[i,0:AW._data.shape[1]] = fm10.get_params('aperiodic_params','exponent')\n",
    "  \n",
    "    R_Kn[i,0:RM._data.shape[1]]  = fm4.get_params('aperiodic_params','knee')\n",
    "    R_Exp[i,0:RM._data.shape[1]] = fm4.get_params('aperiodic_params','exponent')\n",
    "    R_Exp2[i,0:RM._data.shape[1]] = fm9.get_params('aperiodic_params','exponent')\n",
    "\n",
    "\n",
    "    N1_Kn[i,0:N1._data.shape[1]]  = fm1.get_params('aperiodic_params','knee')\n",
    "    N1_Exp[i,0:N1._data.shape[1]] = fm1.get_params('aperiodic_params','exponent')\n",
    "    N1_Exp2[i,0:N1._data.shape[1]] = fm4.get_params('aperiodic_params','exponent')\n",
    "\n",
    "    \n",
    "    N2_Kn[i,0:N2._data.shape[1]]  = fm2.get_params('aperiodic_params','knee')\n",
    "    N2_Exp[i,0:N2._data.shape[1]] = fm2.get_params('aperiodic_params','exponent')\n",
    "    N2_Exp[i,0:RM._data.shape[1]] = fm7.get_params('aperiodic_params','exponent')\n",
    "\n",
    "    \n",
    "    N3_Kn[i,0:N3._data.shape[1]]  = fm3.get_params('aperiodic_params','knee')\n",
    "    N3_Exp[i,0:N3._data.shape[1]] = fm3.get_params('aperiodic_params','exponent') \n",
    "    N3_Exp[i,0:N3._data.shape[1]] = fm8.get_params('aperiodic_params','exponent')\n",
    "   \n",
    "    i = i+1"
   ]
  },
  {
   "cell_type": "markdown",
   "id": "1417cf2d",
   "metadata": {},
   "source": [
    "# KNEE FREQ CALC"
   ]
  },
  {
   "cell_type": "code",
   "execution_count": 45,
   "id": "77850d31",
   "metadata": {},
   "outputs": [
    {
     "name": "stderr",
     "output_type": "stream",
     "text": [
      "/home/b1044271/anaconda3/envs/mne/lib/python3.10/site-packages/fooof/utils/params.py:24: RuntimeWarning: invalid value encountered in power\n",
      "  return knee ** (1./exponent)\n"
     ]
    }
   ],
   "source": [
    "# Compute knee frequency\n",
    "Kn_W = compute_knee_frequency(W_Kn, W_Exp)\n",
    "Kn_N1 = compute_knee_frequency(N1_Kn, N2_Exp)\n",
    "Kn_N2 = compute_knee_frequency(N2_Kn, N2_Exp)\n",
    "Kn_N3 = compute_knee_frequency(N3_Kn, N3_Exp)\n",
    "Kn_R = compute_knee_frequency(R_Kn, R_Exp)"
   ]
  },
  {
   "cell_type": "markdown",
   "id": "b767eaa7",
   "metadata": {},
   "source": [
    "# PLOTTING"
   ]
  },
  {
   "cell_type": "code",
   "execution_count": 82,
   "id": "2c7c3bb7",
   "metadata": {},
   "outputs": [
    {
     "name": "stderr",
     "output_type": "stream",
     "text": [
      "/tmp/ipykernel_3748199/4052715577.py:1: RuntimeWarning: Mean of empty slice\n",
      "  array_list2 = [np.nanmean(Kn_W,1),np.nanmean(Kn_N1,1), np.nanmean(Kn_N2,1), np.nanmean(Kn_N3,1), np.nanmean(Kn_R,1)]\n",
      "/tmp/ipykernel_3748199/4052715577.py:2: RuntimeWarning: Mean of empty slice\n",
      "  array_list3 = [np.nanmean(W_Exp,1), np.nanmean(N1_Exp,1), np.nanmean(N2_Exp,1), np.nanmean(N3_Exp,1), np.nanmean(R_Exp,1)]\n",
      "/tmp/ipykernel_3748199/4052715577.py:12: UserWarning: FixedFormatter should only be used together with FixedLocator\n",
      "  ax.set_xticklabels(titles)\n",
      "/home/b1044271/anaconda3/envs/mne/lib/python3.10/site-packages/seaborn/categorical.py:3540: UserWarning: 11.8% of the points cannot be placed; you may want to decrease the size of the markers or use stripplot.\n",
      "  warnings.warn(msg, UserWarning)\n",
      "/tmp/ipykernel_3748199/4052715577.py:18: UserWarning: FixedFormatter should only be used together with FixedLocator\n",
      "  ax.set_xticklabels(titles)\n"
     ]
    },
    {
     "data": {
      "text/plain": [
       "<AxesSubplot: ylabel='Exponent'>"
      ]
     },
     "execution_count": 82,
     "metadata": {},
     "output_type": "execute_result"
    },
    {
     "name": "stderr",
     "output_type": "stream",
     "text": [
      "/home/b1044271/anaconda3/envs/mne/lib/python3.10/site-packages/seaborn/categorical.py:3540: UserWarning: 11.8% of the points cannot be placed; you may want to decrease the size of the markers or use stripplot.\n",
      "  warnings.warn(msg, UserWarning)\n"
     ]
    },
    {
     "data": {
      "image/png": "[encoded data removed]",
      "text/plain": [
       "<Figure size 640x480 with 2 Axes>"
      ]
     },
     "metadata": {},
     "output_type": "display_data"
    }
   ],
   "source": [
    "array_list2 = [np.nanmean(Kn_W,1),np.nanmean(Kn_N1,1), np.nanmean(Kn_N2,1), np.nanmean(Kn_N3,1), np.nanmean(Kn_R,1)]\n",
    "array_list3 = [np.nanmean(W_Exp,1), np.nanmean(N1_Exp,1), np.nanmean(N2_Exp,1), np.nanmean(N3_Exp,1), np.nanmean(R_Exp,1)]\n",
    "array_list4 = [np.nanmean(W_Exp,1), np.nanmean(N1_Exp,1), np.nanmean(N2_Exp,1), np.nanmean(N3_Exp,1), np.nanmean(R_Exp,1)]\n",
    "\n",
    "titles =  ['W','N1', 'N2','N3','R']\n",
    "\n",
    "fig = plt.figure(figsize=(15, 7))  \n",
    "\n",
    "ax = fig.add_subplot(1, 3, 1)\n",
    "\n",
    "ax = seaborn.swarmplot(data=array_list2)\n",
    "ax.set( ylabel='Knee frequency (Hz)')\n",
    "ax.set_xticklabels(titles)\n",
    "seaborn.scatterplot(x=[0,1,2,3,4], y=np.mean(array_list2,1), marker='X', color='black', s=100, zorder=4, legend=False)\n",
    "\n",
    "ax = fig.add_subplot(1, 3, 2)\n",
    "ax = seaborn.swarmplot(data=array_list3)\n",
    "ax.set( ylabel='Exponent')\n",
    "ax.set_xticklabels(titles)\n",
    "seaborn.scatterplot(x=[0,1,2,3,4], y=np.mean(array_list3,1), marker='X', color='black', s=100, zorder=4, legend=False)\n",
    "\n",
    "ax = fig.add_subplot(1, 3, 3)\n",
    "ax = seaborn.swarmplot(data=array_list4)\n",
    "ax.set( ylabel='Exponent')\n",
    "ax.set_xticklabels(titles)\n",
    "seaborn.scatterplot(x=[0,1,2,3,4], y=np.mean(array_list4,1), marker='X', color='black', s=100, zorder=4, legend=False)\n",
    "\n"
   ]
  },
  {
   "cell_type": "code",
   "execution_count": null,
   "id": "c1371d0d",
   "metadata": {},
   "outputs": [],
   "source": []
  },
  {
   "cell_type": "code",
   "execution_count": null,
   "id": "a0f236a0",
   "metadata": {},
   "outputs": [],
   "source": []
  }
 ],
 "metadata": {
  "kernelspec": {
   "display_name": "Python [conda env:mne]",
   "language": "python",
   "name": "conda-env-mne-py"
  },
  "language_info": {
   "codemirror_mode": {
    "name": "ipython",
    "version": 3
   },
   "file_extension": ".py",
   "mimetype": "text/x-python",
   "name": "python",
   "nbconvert_exporter": "python",
   "pygments_lexer": "ipython3",
   "version": "3.10.6"
  }
 },
 "nbformat": 4,
 "nbformat_minor": 5
}
