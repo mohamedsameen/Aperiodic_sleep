{
 "cells": [
  {
   "cell_type": "code",
   "execution_count": 1,
   "id": "742bd3ca",
   "metadata": {},
   "outputs": [
    {
     "name": "stderr",
     "output_type": "stream",
     "text": [
      "/home/b1044271/anaconda3/envs/mne/lib/python3.10/site-packages/pymatreader/utils.py:122: UserWarning: Complex objects (like classes) are not supported. They are imported on a best effort base but your mileage will vary.\n",
      "  warn('Complex objects (like classes) are not supported. '\n",
      "/tmp/ipykernel_668435/2381018158.py:50: RuntimeWarning: Data will be preloaded. preload=False or a string preload is not supported when the data is stored in the .set file\n",
      "  EEG = mne.io.read_raw_eeglab(os.path.join(Data_path, subj_files[0])) # read raw .set file\n",
      "/tmp/ipykernel_668435/2381018158.py:50: RuntimeWarning: Limited 1 annotation(s) that were expanding outside the data range.\n",
      "  EEG = mne.io.read_raw_eeglab(os.path.join(Data_path, subj_files[0])) # read raw .set file\n"
     ]
    }
   ],
   "source": [
    "import mne\n",
    "import numpy as np\n",
    "import matplotlib.pyplot as plt\n",
    "import os\n",
    "import pandas as pd\n",
    "# Import the FOOOF object\n",
    "from fooof import FOOOF\n",
    "from fooof import FOOOFGroup\n",
    "# Import a utility to download and load example data\n",
    "from fooof.utils.download import load_fooof_data\n",
    "from pathlib import Path\n",
    "import glob\n",
    "from math import floor\n",
    "\n",
    "\n",
    "# get the staging list\n",
    "path_stage = Path('/home/b1044271/EEGsleep/SleepStaging/mat/mne2/')\n",
    "stage_files = os.listdir(path_stage)\n",
    "stage_files = [file for file in stage_files]\n",
    "stage_files = sorted(stage_files)\n",
    "\n",
    "# get the subjects list\n",
    "Data_path = '/home/b1044271/Columbia/Preprocessed/Better_ica/'\n",
    "subj_files = os.listdir(Data_path)\n",
    "subj_files = [file for file in subj_files]\n",
    "subj_files = sorted(subj_files)\n",
    "\n",
    "# Create path for results\n",
    "path_results = Path('/home/b1044271/Columbia/Results/Time-resolved')\n",
    "\n",
    "t = 5 #in seconds\n",
    "f_max =  45\n",
    "#electrode = 'E257'\n",
    "fs = 250\n",
    "# Settings for the analyses\n",
    "SETTINGS_B  = { 'method' : 'welch', 'average' : 'mean', 'fmin' :1 , 'fmax':f_max, 'n_fft': fs*t, 'n_overlap': fs*t*0.5}\n",
    "\n",
    "\n",
    "\n",
    "# Helper function for paths\n",
    "def check_path(path):\n",
    "    if not os.path.exists(path):\n",
    "        os.mkdir(path)\n",
    "\n",
    "check_path(path_results / 'ALL_electrodes')\n",
    "\n",
    "# START\n",
    "i= 0\n",
    "\n",
    "EEG = mne.io.read_raw_eeglab(os.path.join(Data_path, subj_files[0])) # read raw .set file\n"
   ]
  },
  {
   "cell_type": "code",
   "execution_count": null,
   "id": "d91c16c7",
   "metadata": {},
   "outputs": [],
   "source": [
    "EEG_seg = mne.make_fixed_length_epochs(EEG, duration = 20, reject_by_annotation = 'True', overlap = 18)\n",
    "EEG_psd = EEG_seg.compute_psd(**SETTINGS_B)"
   ]
  }
 ],
 "metadata": {
  "kernelspec": {
   "display_name": "Python [conda env:mne]",
   "language": "python",
   "name": "conda-env-mne-py"
  },
  "language_info": {
   "codemirror_mode": {
    "name": "ipython",
    "version": 3
   },
   "file_extension": ".py",
   "mimetype": "text/x-python",
   "name": "python",
   "nbconvert_exporter": "python",
   "pygments_lexer": "ipython3",
   "version": "3.10.6"
  }
 },
 "nbformat": 4,
 "nbformat_minor": 5
}
