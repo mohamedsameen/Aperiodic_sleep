{
 "cells": [
  {
   "cell_type": "code",
   "execution_count": 3,
   "id": "011de6ff",
   "metadata": {},
   "outputs": [],
   "source": [
    "# This script runs the temporal transition analysis, i.e., tracks aperiodic activivty durign the transitions between sleep stages.\n",
    "# It uses the FOOOF parameter files that was produced from running FOOOF throughout the whole night per participant. \n",
    "# We take these files and extract the aperiodic and periodic parameters per files during the desired transitions "
   ]
  },
  {
   "cell_type": "code",
   "execution_count": 1,
   "id": "bc53e726",
   "metadata": {},
   "outputs": [],
   "source": [
    "import mne\n",
    "import numpy as np"
   ]
  },
  {
   "cell_type": "code",
   "execution_count": 2,
   "id": "5f2b7c2d",
   "metadata": {},
   "outputs": [],
   "source": [
    "#get staging files\n",
    "x = []\n",
    "\n",
    "if x:\n",
    "    print(x)\n",
    "\n"
   ]
  },
  {
   "cell_type": "code",
   "execution_count": 3,
   "id": "7df99f5e",
   "metadata": {},
   "outputs": [],
   "source": [
    "#get fooof files\n",
    "\n",
    "import mne\n",
    "import numpy as np\n",
    "import matplotlib.pyplot as plt\n",
    "import os\n",
    "import pandas as pd\n",
    "# Import the FOOOF object\n",
    "from fooof import FOOOF\n",
    "from fooof import FOOOFGroup\n",
    "# Import a utility to download and load example data\n",
    "from fooof.utils.download import load_fooof_data\n",
    "from pathlib import Path\n",
    "import glob\n",
    "from math import floor\n",
    "\n",
    "\n",
    "# get the staging list\n",
    "path_stage = Path('/home/b1044271/EEGsleep/SleepStaging/mat/mne2/')\n",
    "stage_files = os.listdir(path_stage)\n",
    "stage_files = [file for file in stage_files]\n",
    "stage_files = sorted(stage_files)\n",
    "\n",
    "# get the subjects list\n",
    "Data_path = '/home/b1044271/Columbia/Preprocessed/Better_ica/'\n",
    "subj_files = os.listdir(Data_path)\n",
    "subj_files = [file for file in subj_files]\n",
    "subj_files = sorted(subj_files)\n",
    "\n",
    "# Create path for results\n",
    "path_results = Path('/home/b1044271/Columbia/Results/Time-resolved')\n"
   ]
  },
  {
   "cell_type": "code",
   "execution_count": 4,
   "id": "90d56f1e",
   "metadata": {},
   "outputs": [
    {
     "name": "stderr",
     "output_type": "stream",
     "text": [
      "/home/b1044271/anaconda3/envs/mne/lib/python3.10/site-packages/pymatreader/utils.py:122: UserWarning: Complex objects (like classes) are not supported. They are imported on a best effort base but your mileage will vary.\n",
      "  warn('Complex objects (like classes) are not supported. '\n",
      "/tmp/ipykernel_2942702/1878228352.py:1: RuntimeWarning: Data will be preloaded. preload=False or a string preload is not supported when the data is stored in the .set file\n",
      "  EEG = mne.io.read_raw_eeglab(os.path.join(Data_path, subj_files[1]))\n",
      "/tmp/ipykernel_2942702/1878228352.py:1: RuntimeWarning: Limited 1 annotation(s) that were expanding outside the data range.\n",
      "  EEG = mne.io.read_raw_eeglab(os.path.join(Data_path, subj_files[1]))\n"
     ]
    }
   ],
   "source": [
    "EEG = mne.io.read_raw_eeglab(os.path.join(Data_path, subj_files[1]))"
   ]
  },
  {
   "cell_type": "code",
   "execution_count": 9,
   "id": "0cea7f09",
   "metadata": {},
   "outputs": [
    {
     "data": {
      "text/plain": [
       "'VP03'"
      ]
     },
     "execution_count": 9,
     "metadata": {},
     "output_type": "execute_result"
    }
   ],
   "source": [
    "subj_files[1][0:4]\n"
   ]
  },
  {
   "cell_type": "code",
   "execution_count": 9,
   "id": "cd6948d6",
   "metadata": {},
   "outputs": [
    {
     "data": {
      "text/plain": [
       "'E2'"
      ]
     },
     "execution_count": 9,
     "metadata": {},
     "output_type": "execute_result"
    }
   ],
   "source": [
    "EEG.ch_names[1]\n"
   ]
  }
 ],
 "metadata": {
  "kernelspec": {
   "display_name": "Python [conda env:mne]",
   "language": "python",
   "name": "conda-env-mne-py"
  },
  "language_info": {
   "codemirror_mode": {
    "name": "ipython",
    "version": 3
   },
   "file_extension": ".py",
   "mimetype": "text/x-python",
   "name": "python",
   "nbconvert_exporter": "python",
   "pygments_lexer": "ipython3",
   "version": "3.10.6"
  }
 },
 "nbformat": 4,
 "nbformat_minor": 5
}
