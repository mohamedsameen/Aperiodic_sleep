{
 "cells": [
  {
   "cell_type": "code",
   "execution_count": 1,
   "id": "bbe52ef9",
   "metadata": {},
   "outputs": [],
   "source": [
    "import numpy as np\n",
    "import matplotlib.pyplot as plt\n",
    "\n",
    "import seaborn as sns\n",
    "sns.set_context('talk')\n",
    "# Import LISC code\n",
    "from lisc import Counts\n",
    "from lisc.utils import save_object, load_object\n",
    "from lisc.plts.counts import plot_matrix\n",
    "from lisc.plts.utils import get_cmap\n",
    "# Import custom project code\n",
    "import sys\n",
    "sys.path.append('/home/b1044271/Columbia/bratios')\n",
    "\n",
    "# Import the Base object used in LISC\n",
    "from lisc.objects.base import Base\n",
    "\n",
    "import csv\n",
    "import json\n",
    "from pathlib import Path\n",
    "\n",
    "import numpy as np\n",
    "import matplotlib.pyplot as plt\n",
    "import seaborn as sns\n",
    "\n",
    "from lisc.collect import collect_info, collect_counts\n",
    "from lisc.plts.utils import get_cmap\n",
    "from lisc.plts.words import plot_years\n",
    "from lisc.plts.counts import plot_matrix\n",
    "\n",
    "import csv\n",
    "import json\n",
    "from pathlib import Path\n",
    "\n",
    "import numpy as np\n",
    "import matplotlib.pyplot as plt\n",
    "import seaborn as sns\n",
    "\n",
    "from lisc.collect import collect_info, collect_counts\n",
    "from lisc.plts.utils import get_cmap\n",
    "from lisc.plts.words import plot_years\n",
    "from lisc.plts.counts import plot_matrix\n",
    "\n",
    "# Import custom project code\n",
    "import sys\n",
    "sys.path.append(\"/home/b1044271/Columbia/ERPscanr-main/code/\")\n",
    "\n",
    "from plts import plot_year_comparison"
   ]
  },
  {
   "cell_type": "code",
   "execution_count": 2,
   "id": "635a98d2",
   "metadata": {},
   "outputs": [
    {
     "name": "stderr",
     "output_type": "stream",
     "text": [
      "/home/b1044271/anaconda3/lib/python3.9/site-packages/bs4/builder/__init__.py:545: XMLParsedAsHTMLWarning: It looks like you're parsing an XML document using an HTML parser. If this really is an HTML document (maybe it's XHTML?), you can ignore or filter this warning. If it's XML, you should know that using an XML parser will be more reliable. To parse this document as XML, make sure you have the lxml package installed, and pass the keyword argument `features=\"xml\"` into the BeautifulSoup constructor.\n",
      "  warnings.warn(\n"
     ]
    },
    {
     "name": "stdout",
     "output_type": "stream",
     "text": [
      "Running counts for:  Motor Learning\n",
      "Running counts for:  Motor Adaptation\n",
      "The number of documents found for each search term is:\n",
      "  'Motor Learning'     -   179\n",
      "  'Motor Adaptation'   -    26\n"
     ]
    }
   ],
   "source": [
    "db = 'pubmed'\n",
    "\n",
    "# Set up some terms to search for\n",
    "terms = [['Motor Learning'], ['Motor Adaptation', 'Motor adaptive', 'Visuomotor adaptation']]\n",
    "inclusions = [['sleep'], ['sleep']]\n",
    "\n",
    "# Initialize counts object & add the terms that we want to collect co-occurrences for\n",
    "counts1 = Counts()\n",
    "counts1.add_terms(terms)\n",
    "counts1.add_terms(inclusions, term_type='inclusions')\n",
    "\n",
    "# Collect co-occurrence data\n",
    "counts1.run_collection(verbose=True)\n",
    "X1 = counts1.check_counts()"
   ]
  },
  {
   "cell_type": "code",
   "execution_count": 3,
   "id": "5de443af",
   "metadata": {},
   "outputs": [
    {
     "name": "stdout",
     "output_type": "stream",
     "text": [
      "Running counts for:  Motor Learning\n",
      "Running counts for:  Motor Adaptation\n",
      "The number of documents found for each search term is:\n",
      "  'Motor Learning'     -   1635\n",
      "  'Motor Adaptation'   -    226\n"
     ]
    }
   ],
   "source": [
    "# Set up some terms to search for\n",
    "terms = [['Motor Learning'], ['Motor Adaptation', 'Motor adaptive', 'Visuomotor adaptation']]\n",
    "inclusions1 = [['brain'], ['brain']]\n",
    "\n",
    "# Initialize counts object & add the terms that we want to collect co-occurrences for\n",
    "counts2 = Counts()\n",
    "counts2.add_terms(terms)\n",
    "counts2.add_terms(inclusions1, term_type='inclusions')\n",
    "\n",
    "# Collect co-occurrence data\n",
    "counts2.run_collection(verbose=True)\n",
    "X2 = counts2.check_counts()"
   ]
  },
  {
   "cell_type": "code",
   "execution_count": 4,
   "id": "1e65aa4b",
   "metadata": {},
   "outputs": [
    {
     "name": "stdout",
     "output_type": "stream",
     "text": [
      "Running counts for:  Motor Learning\n",
      "Running counts for:  Motor Adaptation\n",
      "The number of documents found for each search term is:\n",
      "  'Motor Learning'     -   1763\n",
      "  'Motor Adaptation'   -    248\n"
     ]
    }
   ],
   "source": [
    "# Set up some terms to search for\n",
    "terms = [['Motor Learning'], ['Motor Adaptation', 'Motor adaptive', 'Visuomotor adaptation']]\n",
    "inclusions2 = [['brain','sleep'], ['brain','sleep']]\n",
    "\n",
    "# Initialize counts object & add the terms that we want to collect co-occurrences for\n",
    "counts3 = Counts()\n",
    "counts3.add_terms(terms)\n",
    "counts3.add_terms(inclusions2, term_type='inclusions')\n",
    "\n",
    "# Collect co-occurrence data\n",
    "counts3.run_collection(verbose=True)\n",
    "X3 = counts3.check_counts()"
   ]
  },
  {
   "cell_type": "code",
   "execution_count": 10,
   "id": "cfbf1a34",
   "metadata": {},
   "outputs": [
    {
     "data": {
      "image/png": "[encoded data removed]",
      "text/plain": [
       "<Figure size 432x288 with 1 Axes>"
      ]
     },
     "metadata": {
      "needs_background": "light"
     },
     "output_type": "display_data"
    }
   ],
   "source": [
    "a = plt.bar([1, 2, 4, 5, 7, 8],[1762, 248, 1634, 226,179,26 ], width=0.8, bottom=None, align='center', data=None)\n",
    "plt.bar_label(a)\n",
    "plt.xticks([1,2, 4,5 , 7, 8], ['ML', 'MA','ML', 'MA','ML', 'MA'])\n",
    "plt.ylim(0, 3000)\n",
    "plt.savefig('Bars.svg', bbox_inches='tight', dpi =500)"
   ]
  },
  {
   "cell_type": "code",
   "execution_count": 7,
   "id": "e4eb9d52",
   "metadata": {},
   "outputs": [],
   "source": [
    "start_decade, end_decade = 1990, 2022\n",
    "decades = list(range(start_decade, end_decade, 10))\n",
    "    \n",
    "# Define a list of modalities of interest, with synonyms\n",
    "modality_terms = [['Motor Learning'], ['Motor Adaptation', 'Motor adaptive', 'Visuomotor adaptation']]\n",
    "\n",
    "# Define a list of labels to use for the method terms\n",
    "modality_labels = [lst[0] for lst in modality_terms]"
   ]
  },
  {
   "cell_type": "code",
   "execution_count": 11,
   "id": "04d13e09",
   "metadata": {},
   "outputs": [
    {
     "name": "stderr",
     "output_type": "stream",
     "text": [
      "/home/b1044271/anaconda3/lib/python3.9/site-packages/bs4/builder/__init__.py:545: XMLParsedAsHTMLWarning: It looks like you're parsing an XML document using an HTML parser. If this really is an HTML document (maybe it's XHTML?), you can ignore or filter this warning. If it's XML, you should know that using an XML parser will be more reliable. To parse this document as XML, make sure you have the lxml package installed, and pass the keyword argument `features=\"xml\"` into the BeautifulSoup constructor.\n",
      "  warnings.warn(\n"
     ]
    },
    {
     "data": {
      "image/png": "[encoded data removed]",
      "text/plain": [
       "<Figure size 432x288 with 1 Axes>"
      ]
     },
     "metadata": {
      "needs_background": "light"
     },
     "output_type": "display_data"
    }
   ],
   "source": [
    "# Notebook settings\n",
    "SAVE_FIG = False\n",
    "SAVE_DATA = False\n",
    "RUN_COLLECTION = True\n",
    "# Collect information across each decade of interest\n",
    "if RUN_COLLECTION:\n",
    "    \n",
    "    decade_counts = []\n",
    "    for start_year in decades:\n",
    "\n",
    "        count, _ = collect_counts(modality_terms,\n",
    "                                  collect_coocs=False,\n",
    "                                  mindate=str(start_year) + '/01/01',\n",
    "                                  maxdate=str(start_year+9) + '/12/31')\n",
    "        decade_counts.append(count)\n",
    "\n",
    "    # Convert the collected data into an array, of [n_terms, decade_counts]\n",
    "    decade_counts = np.array(decade_counts).T\n",
    "    \n",
    "    if SAVE_DATA:\n",
    "        # Save out the collected data for the method counts by decade\n",
    "        for ind, label in enumerate(modality_labels):\n",
    "            for decade, count in zip(decades, decade_counts):\n",
    "                with open(data_dir / 'decades' / (label + '.csv'), 'w') as save_file:\n",
    "                    for decade, count in zip(decades, decade_counts[ind, :]):\n",
    "                        save_file.write(str(decade) + ',' + str(count) +'\\n')\n",
    "                        \n",
    "else:\n",
    "    decade_counts = []\n",
    "    for m_term in modality_labels:\n",
    "        with open(data_dir / 'decades'/ (m_term + '.csv'), 'r') as f_obj:\n",
    "            count = np.array([row[1] for row in csv.reader(f_obj)], dtype='int')\n",
    "        decade_counts.append(count)\n",
    "    decade_counts = np.array(decade_counts)\n",
    "    \n",
    "# PLOTTING    \n",
    "figs_dir = Path('/home/b1044271/Columbia')\n",
    "data_dir = Path('/home/b1044271/Columbia')\n",
    "\n",
    "# Plot the popularity of each modality across the decades\n",
    "plot_year_comparison(decades, decade_counts, modality_labels,\n",
    "                     save_fig=SAVE_FIG, file_name='modality_decades.pdf', directory=figs_dir)    \n",
    "\n",
    "plt.savefig('Lines.svg', bbox_inches='tight', dpi =500)"
   ]
  },
  {
   "cell_type": "code",
   "execution_count": null,
   "id": "1f469ea8",
   "metadata": {},
   "outputs": [],
   "source": []
  },
  {
   "cell_type": "code",
   "execution_count": null,
   "id": "990852bd",
   "metadata": {},
   "outputs": [],
   "source": []
  }
 ],
 "metadata": {
  "kernelspec": {
   "display_name": "Python 3 (ipykernel)",
   "language": "python",
   "name": "python3"
  },
  "language_info": {
   "codemirror_mode": {
    "name": "ipython",
    "version": 3
   },
   "file_extension": ".py",
   "mimetype": "text/x-python",
   "name": "python",
   "nbconvert_exporter": "python",
   "pygments_lexer": "ipython3",
   "version": "3.9.12"
  }
 },
 "nbformat": 4,
 "nbformat_minor": 5
}
