{
 "cells": [
  {
   "cell_type": "code",
   "execution_count": 3,
   "id": "394dae42",
   "metadata": {},
   "outputs": [],
   "source": [
    "import mne\n",
    "import numpy as np\n",
    "import os\n",
    "import pandas as pd\n",
    "from pathlib import Path"
   ]
  },
  {
   "cell_type": "code",
   "execution_count": 28,
   "id": "38ae4eaa",
   "metadata": {},
   "outputs": [],
   "source": [
    "# get the sutaging list a\n",
    "path_stage  = Path('/home/b1044271/EEGsleep/SleepStaging/mat/mne/')\n",
    "path_stage1  = Path('/home/b1044271/EEGsleep/SleepStaging/mat/mne2/')\n",
    "\n",
    "stage_files = os.listdir(path_stage)\n",
    "stage_files = [file for file in stage_files]\n",
    "stage_files = sorted(stage_files)"
   ]
  },
  {
   "cell_type": "code",
   "execution_count": 30,
   "id": "f7307eed",
   "metadata": {},
   "outputs": [
    {
     "name": "stderr",
     "output_type": "stream",
     "text": [
      "/tmp/ipykernel_2193628/1878318450.py:8: RuntimeWarning: This filename (/home/b1044271/EEGsleep/SleepStaging/mat/mne2/VP01_SS_250_mne.txt) does not conform to MNE naming conventions. All events files should end with .eve, -eve.fif, -eve.fif.gz, -eve.lst, -eve.txt, _eve.fif, _eve.fif.gz, _eve.lst or _eve.txt\n",
      "  mne.write_events(path_S1, YY)\n",
      "/tmp/ipykernel_2193628/1878318450.py:8: RuntimeWarning: This filename (/home/b1044271/EEGsleep/SleepStaging/mat/mne2/VP03_SS_250_mne.txt) does not conform to MNE naming conventions. All events files should end with .eve, -eve.fif, -eve.fif.gz, -eve.lst, -eve.txt, _eve.fif, _eve.fif.gz, _eve.lst or _eve.txt\n",
      "  mne.write_events(path_S1, YY)\n",
      "/tmp/ipykernel_2193628/1878318450.py:8: RuntimeWarning: This filename (/home/b1044271/EEGsleep/SleepStaging/mat/mne2/VP04_SS_250_mne.txt) does not conform to MNE naming conventions. All events files should end with .eve, -eve.fif, -eve.fif.gz, -eve.lst, -eve.txt, _eve.fif, _eve.fif.gz, _eve.lst or _eve.txt\n",
      "  mne.write_events(path_S1, YY)\n",
      "/tmp/ipykernel_2193628/1878318450.py:8: RuntimeWarning: This filename (/home/b1044271/EEGsleep/SleepStaging/mat/mne2/VP05_SS_250_mne.txt) does not conform to MNE naming conventions. All events files should end with .eve, -eve.fif, -eve.fif.gz, -eve.lst, -eve.txt, _eve.fif, _eve.fif.gz, _eve.lst or _eve.txt\n",
      "  mne.write_events(path_S1, YY)\n",
      "/tmp/ipykernel_2193628/1878318450.py:8: RuntimeWarning: This filename (/home/b1044271/EEGsleep/SleepStaging/mat/mne2/VP06_SS_250_mne.txt) does not conform to MNE naming conventions. All events files should end with .eve, -eve.fif, -eve.fif.gz, -eve.lst, -eve.txt, _eve.fif, _eve.fif.gz, _eve.lst or _eve.txt\n",
      "  mne.write_events(path_S1, YY)\n",
      "/tmp/ipykernel_2193628/1878318450.py:8: RuntimeWarning: This filename (/home/b1044271/EEGsleep/SleepStaging/mat/mne2/VP07_SS_250_mne.txt) does not conform to MNE naming conventions. All events files should end with .eve, -eve.fif, -eve.fif.gz, -eve.lst, -eve.txt, _eve.fif, _eve.fif.gz, _eve.lst or _eve.txt\n",
      "  mne.write_events(path_S1, YY)\n",
      "/tmp/ipykernel_2193628/1878318450.py:8: RuntimeWarning: This filename (/home/b1044271/EEGsleep/SleepStaging/mat/mne2/VP08_SS_250_mne.txt) does not conform to MNE naming conventions. All events files should end with .eve, -eve.fif, -eve.fif.gz, -eve.lst, -eve.txt, _eve.fif, _eve.fif.gz, _eve.lst or _eve.txt\n",
      "  mne.write_events(path_S1, YY)\n",
      "/tmp/ipykernel_2193628/1878318450.py:8: RuntimeWarning: This filename (/home/b1044271/EEGsleep/SleepStaging/mat/mne2/VP10_SS_250_mne.txt) does not conform to MNE naming conventions. All events files should end with .eve, -eve.fif, -eve.fif.gz, -eve.lst, -eve.txt, _eve.fif, _eve.fif.gz, _eve.lst or _eve.txt\n",
      "  mne.write_events(path_S1, YY)\n",
      "/tmp/ipykernel_2193628/1878318450.py:8: RuntimeWarning: This filename (/home/b1044271/EEGsleep/SleepStaging/mat/mne2/VP11_SS_250_mne.txt) does not conform to MNE naming conventions. All events files should end with .eve, -eve.fif, -eve.fif.gz, -eve.lst, -eve.txt, _eve.fif, _eve.fif.gz, _eve.lst or _eve.txt\n",
      "  mne.write_events(path_S1, YY)\n",
      "/tmp/ipykernel_2193628/1878318450.py:8: RuntimeWarning: This filename (/home/b1044271/EEGsleep/SleepStaging/mat/mne2/VP12_SS_250_mne.txt) does not conform to MNE naming conventions. All events files should end with .eve, -eve.fif, -eve.fif.gz, -eve.lst, -eve.txt, _eve.fif, _eve.fif.gz, _eve.lst or _eve.txt\n",
      "  mne.write_events(path_S1, YY)\n",
      "/tmp/ipykernel_2193628/1878318450.py:8: RuntimeWarning: This filename (/home/b1044271/EEGsleep/SleepStaging/mat/mne2/VP13_SS_250_mne.txt) does not conform to MNE naming conventions. All events files should end with .eve, -eve.fif, -eve.fif.gz, -eve.lst, -eve.txt, _eve.fif, _eve.fif.gz, _eve.lst or _eve.txt\n",
      "  mne.write_events(path_S1, YY)\n",
      "/tmp/ipykernel_2193628/1878318450.py:8: RuntimeWarning: This filename (/home/b1044271/EEGsleep/SleepStaging/mat/mne2/VP14_SS_250_mne.txt) does not conform to MNE naming conventions. All events files should end with .eve, -eve.fif, -eve.fif.gz, -eve.lst, -eve.txt, _eve.fif, _eve.fif.gz, _eve.lst or _eve.txt\n",
      "  mne.write_events(path_S1, YY)\n",
      "/tmp/ipykernel_2193628/1878318450.py:8: RuntimeWarning: This filename (/home/b1044271/EEGsleep/SleepStaging/mat/mne2/VP15_SS_250_mne.txt) does not conform to MNE naming conventions. All events files should end with .eve, -eve.fif, -eve.fif.gz, -eve.lst, -eve.txt, _eve.fif, _eve.fif.gz, _eve.lst or _eve.txt\n",
      "  mne.write_events(path_S1, YY)\n",
      "/tmp/ipykernel_2193628/1878318450.py:8: RuntimeWarning: This filename (/home/b1044271/EEGsleep/SleepStaging/mat/mne2/VP16_SS_250_mne.txt) does not conform to MNE naming conventions. All events files should end with .eve, -eve.fif, -eve.fif.gz, -eve.lst, -eve.txt, _eve.fif, _eve.fif.gz, _eve.lst or _eve.txt\n",
      "  mne.write_events(path_S1, YY)\n",
      "/tmp/ipykernel_2193628/1878318450.py:8: RuntimeWarning: This filename (/home/b1044271/EEGsleep/SleepStaging/mat/mne2/VP17_SS_250_mne.txt) does not conform to MNE naming conventions. All events files should end with .eve, -eve.fif, -eve.fif.gz, -eve.lst, -eve.txt, _eve.fif, _eve.fif.gz, _eve.lst or _eve.txt\n",
      "  mne.write_events(path_S1, YY)\n",
      "/tmp/ipykernel_2193628/1878318450.py:8: RuntimeWarning: This filename (/home/b1044271/EEGsleep/SleepStaging/mat/mne2/VP18_SS_250_mne.txt) does not conform to MNE naming conventions. All events files should end with .eve, -eve.fif, -eve.fif.gz, -eve.lst, -eve.txt, _eve.fif, _eve.fif.gz, _eve.lst or _eve.txt\n",
      "  mne.write_events(path_S1, YY)\n",
      "/tmp/ipykernel_2193628/1878318450.py:8: RuntimeWarning: This filename (/home/b1044271/EEGsleep/SleepStaging/mat/mne2/VP19_SS_250_mne.txt) does not conform to MNE naming conventions. All events files should end with .eve, -eve.fif, -eve.fif.gz, -eve.lst, -eve.txt, _eve.fif, _eve.fif.gz, _eve.lst or _eve.txt\n",
      "  mne.write_events(path_S1, YY)\n"
     ]
    }
   ],
   "source": [
    "for i in range(len(stage_files)):\n",
    "\n",
    "    path_S = Path(path_stage, stage_files[i])\n",
    "    XX = pd.read_table(path_S, sep = ',', header = None)\n",
    "    YY = XX.to_numpy()\n",
    "    path_S1 = Path(path_stage1, stage_files[i])\n",
    "\n",
    "    mne.write_events(path_S1, YY)"
   ]
  },
  {
   "cell_type": "code",
   "execution_count": 31,
   "id": "72d33e5f",
   "metadata": {},
   "outputs": [
    {
     "data": {
      "text/plain": [
       "'VP19_SS_250_mne.txt'"
      ]
     },
     "execution_count": 31,
     "metadata": {},
     "output_type": "execute_result"
    }
   ],
   "source": [
    "stage_files[i]"
   ]
  },
  {
   "cell_type": "code",
   "execution_count": 14,
   "id": "3c492d03",
   "metadata": {},
   "outputs": [
    {
     "data": {
      "text/plain": [
       "'VP01_SS_250_mne'"
      ]
     },
     "execution_count": 14,
     "metadata": {},
     "output_type": "execute_result"
    }
   ],
   "source": [
    "path_S.stem"
   ]
  },
  {
   "cell_type": "code",
   "execution_count": 15,
   "id": "1e13b86b",
   "metadata": {},
   "outputs": [
    {
     "data": {
      "text/plain": [
       "PosixPath('VP01_SS_250_mne/_2.txt')"
      ]
     },
     "execution_count": 15,
     "metadata": {},
     "output_type": "execute_result"
    }
   ],
   "source": [
    "Path(path_S.stem, '_2.txt')"
   ]
  },
  {
   "cell_type": "code",
   "execution_count": 16,
   "id": "f24a4ce3",
   "metadata": {},
   "outputs": [
    {
     "data": {
      "text/plain": [
       "'VP01_SS_250_mne/_2.txt'"
      ]
     },
     "execution_count": 16,
     "metadata": {},
     "output_type": "execute_result"
    }
   ],
   "source": [
    "os.path.join(path_S.stem, '_2.txt')"
   ]
  },
  {
   "cell_type": "code",
   "execution_count": 22,
   "id": "0fb790fc",
   "metadata": {},
   "outputs": [
    {
     "data": {
      "text/plain": [
       "PosixPath('/home/b1044271/EEGsleep/SleepStaging/mat/mne/2')"
      ]
     },
     "execution_count": 22,
     "metadata": {},
     "output_type": "execute_result"
    }
   ],
   "source": [
    "path_S"
   ]
  },
  {
   "cell_type": "code",
   "execution_count": 24,
   "id": "5ddf1e15",
   "metadata": {},
   "outputs": [
    {
     "data": {
      "text/plain": [
       "'VP01_SS_250_mne.txt'"
      ]
     },
     "execution_count": 24,
     "metadata": {},
     "output_type": "execute_result"
    }
   ],
   "source": [
    "stage_files[1]"
   ]
  },
  {
   "cell_type": "code",
   "execution_count": 25,
   "id": "eea3e63e",
   "metadata": {},
   "outputs": [
    {
     "data": {
      "text/plain": [
       "0"
      ]
     },
     "execution_count": 25,
     "metadata": {},
     "output_type": "execute_result"
    }
   ],
   "source": [
    "i"
   ]
  },
  {
   "cell_type": "code",
   "execution_count": 26,
   "id": "000b8506",
   "metadata": {},
   "outputs": [
    {
     "data": {
      "text/plain": [
       "18"
      ]
     },
     "execution_count": 26,
     "metadata": {},
     "output_type": "execute_result"
    }
   ],
   "source": [
    "len(stage_files)"
   ]
  },
  {
   "cell_type": "code",
   "execution_count": 29,
   "id": "e4adde35",
   "metadata": {},
   "outputs": [
    {
     "data": {
      "text/plain": [
       "['VP01_SS_250_mne.txt',\n",
       " 'VP03_SS_250_mne.txt',\n",
       " 'VP04_SS_250_mne.txt',\n",
       " 'VP05_SS_250_mne.txt',\n",
       " 'VP06_SS_250_mne.txt',\n",
       " 'VP07_SS_250_mne.txt',\n",
       " 'VP08_SS_250_mne.txt',\n",
       " 'VP10_SS_250_mne.txt',\n",
       " 'VP11_SS_250_mne.txt',\n",
       " 'VP12_SS_250_mne.txt',\n",
       " 'VP13_SS_250_mne.txt',\n",
       " 'VP14_SS_250_mne.txt',\n",
       " 'VP15_SS_250_mne.txt',\n",
       " 'VP16_SS_250_mne.txt',\n",
       " 'VP17_SS_250_mne.txt',\n",
       " 'VP18_SS_250_mne.txt',\n",
       " 'VP19_SS_250_mne.txt']"
      ]
     },
     "execution_count": 29,
     "metadata": {},
     "output_type": "execute_result"
    }
   ],
   "source": [
    "stage_files"
   ]
  },
  {
   "cell_type": "code",
   "execution_count": null,
   "id": "a90f9c6c",
   "metadata": {},
   "outputs": [],
   "source": []
  }
 ],
 "metadata": {
  "kernelspec": {
   "display_name": "Python [conda env:mne]",
   "language": "python",
   "name": "conda-env-mne-py"
  },
  "language_info": {
   "codemirror_mode": {
    "name": "ipython",
    "version": 3
   },
   "file_extension": ".py",
   "mimetype": "text/x-python",
   "name": "python",
   "nbconvert_exporter": "python",
   "pygments_lexer": "ipython3",
   "version": "3.10.6"
  }
 },
 "nbformat": 4,
 "nbformat_minor": 5
}
