{
 "cells": [
  {
   "cell_type": "code",
   "execution_count": 1,
   "id": "9be1d639",
   "metadata": {},
   "outputs": [],
   "source": [
    "import numpy as np\n",
    "from sklearn.discriminant_analysis import LinearDiscriminantAnalysis\n",
    "from sklearn.model_selection import RepeatedKFold\n",
    "from pathlib import Path\n",
    "import os\n",
    "from sklearn.feature_extraction.text import TfidfVectorizer\n",
    "from sklearn.decomposition import LatentDirichletAllocation\n",
    "from sklearn.model_selection import cross_val_score, train_test_split\n",
    "from sklearn.model_selection import RepeatedStratifiedKFold\n",
    "\n",
    "# Plotting functions\n",
    "from spiketools.plts.utils import make_axes\n",
    "import matplotlib.pyplot as plt\n",
    "import seaborn\n"
   ]
  },
  {
   "cell_type": "code",
   "execution_count": 2,
   "id": "e0342786",
   "metadata": {},
   "outputs": [],
   "source": [
    "# Load files \n",
    "# get the staging list\n",
    "path_files = '/home/b1044271/Columbia/Results/Slope_Knee_over_stages/'\n",
    "path_folder = Path(path_files)\n",
    "\n",
    "# GET FIXED MODEL FILES\n",
    "search_string = 'Exp_n'\n",
    "Fixed_files = []\n",
    "\n",
    "for filename in os.listdir(path_folder):\n",
    "    # check if the search string is in the filename\n",
    "    if search_string in filename:\n",
    "        Fixed_files.append(filename)\n",
    "\n",
    "\n",
    "# GET KNEE MODEL FILES\n",
    "search_string = 'Exp_w'\n",
    "Knee_files = []\n",
    "\n",
    "for filename in os.listdir(path_folder):\n",
    "    # check if the search string is in the filename\n",
    "    if search_string in filename:\n",
    "        Knee_files.append(filename)"
   ]
  },
  {
   "cell_type": "code",
   "execution_count": 3,
   "id": "4a87cd29",
   "metadata": {},
   "outputs": [],
   "source": [
    "# get the staging list\n",
    "path_stage = Path('/home/b1044271/EEGsleep/SleepStaging/mat/mne2/')\n",
    "stage_files = os.listdir(path_stage)\n",
    "stage_files = [file for file in stage_files]\n",
    "stage_files = sorted(stage_files)\n",
    "\n",
    "# get the subjects list\n",
    "Data_path = '/home/b1044271/Columbia/Preprocessed/Better_ica/'\n",
    "subj_files = os.listdir(Data_path)\n",
    "subj_files = [file for file in subj_files]\n",
    "subj_files = sorted(subj_files)\n",
    "\n",
    "# Set up the repeated k-fold cross-validation\n",
    "lin_method = RepeatedStratifiedKFold (n_splits = 5, n_repeats = 2, random_state = 1)\n"
   ]
  },
  {
   "cell_type": "code",
   "execution_count": 36,
   "id": "9324f0fb",
   "metadata": {},
   "outputs": [],
   "source": [
    "# Load and Prepare subject vectors for decoding\n",
    "\n",
    "Slope_K_W = np.load('/home/b1044271/Columbia/Results/Slope_Knee_over_stages/' + 'Exp_wKnee_t15_F45_W.npy') #load files - knee \n",
    "Slope_F_W = np.load('/home/b1044271/Columbia/Results/Slope_Knee_over_stages/' + 'Exp_nKnee_t15_F45_W.npy') #load files - no knee\n",
    "Slope_30_W = np.load('/home/b1044271/Columbia/Results/Paper/' + 'Exp_nKnee_t15_F3045_W.npy') #load files - no knee\n",
    "\n",
    "Slope_K_N1 = np.load('/home/b1044271/Columbia/Results/Slope_Knee_over_stages/' + 'Exp_wKnee_t15_F45_N1.npy') #load files - knee \n",
    "Slope_F_N1 = np.load('/home/b1044271/Columbia/Results/Slope_Knee_over_stages/' + 'Exp_nKnee_t15_F45_N1.npy') #load files - no knee\n",
    "Slope_30_N1 = np.load('/home/b1044271/Columbia/Results/Paper/' + 'Exp_nKnee_t15_F3045_N1.npy') #load files - no knee\n",
    "  \n",
    "Slope_K_N2 = np.load('/home/b1044271/Columbia/Results/Slope_Knee_over_stages/' + 'Exp_wKnee_t15_F45_N2.npy') #load files - knee \n",
    "Slope_F_N2 = np.load('/home/b1044271/Columbia/Results/Slope_Knee_over_stages/' + 'Exp_nKnee_t15_F45_N2.npy') #load files - no knee\n",
    "Slope_30_N2 = np.load('/home/b1044271/Columbia/Results/Paper/' + 'Exp_nKnee_t15_F3045_N2.npy') #load files - no knee\n",
    "      \n",
    "Slope_K_N3 = np.load('/home/b1044271/Columbia/Results/Slope_Knee_over_stages/' + 'Exp_wKnee_t15_F45_N3.npy') #load files - knee \n",
    "Slope_F_N3 = np.load('/home/b1044271/Columbia/Results/Slope_Knee_over_stages/' + 'Exp_nKnee_t15_F45_N3.npy') #load files - no knee\n",
    "Slope_30_N3 = np.load('/home/b1044271/Columbia/Results/Paper/' + 'Exp_nKnee_t15_F3045_N3.npy') #load files - no knee\n",
    "  \n",
    "Slope_K_R = np.load('/home/b1044271/Columbia/Results/Slope_Knee_over_stages/' + 'Exp_wKnee_t15_F45_R.npy') #load files - knee \n",
    "Slope_F_R = np.load('/home/b1044271/Columbia/Results/Slope_Knee_over_stages/' + 'Exp_nKnee_t15_F45_R.npy') #load files - no knee\n",
    "Slope_30_R = np.load('/home/b1044271/Columbia/Results/Paper/' + 'Exp_nKnee_t15_F3045_R.npy') #load files - no knee\n"
   ]
  },
  {
   "cell_type": "code",
   "execution_count": 37,
   "id": "2ebed225",
   "metadata": {},
   "outputs": [
    {
     "data": {
      "text/plain": [
       "nan"
      ]
     },
     "execution_count": 37,
     "metadata": {},
     "output_type": "execute_result"
    }
   ],
   "source": [
    "Slope_F_N1[1,183]"
   ]
  },
  {
   "cell_type": "code",
   "execution_count": 38,
   "id": "00bfea6c",
   "metadata": {},
   "outputs": [
    {
     "name": "stdout",
     "output_type": "stream",
     "text": [
      "Accuracy: 0.366120218579235\n",
      "[1.74606466]\n",
      "Accuracy: 0.5081967213114754\n",
      "Accuracy: 0.3825136612021858\n",
      "[2.72906113]\n",
      "Accuracy: 0.4262295081967213\n",
      "Accuracy: 0.41530054644808745\n",
      "[1.93500213]\n",
      "Accuracy: 0.34972677595628415\n",
      "Accuracy: 0.4262295081967213\n",
      "[0.88082629]\n",
      "Accuracy: 0.5355191256830601\n",
      "Accuracy: 0.39344262295081966\n",
      "[0.69926473]\n",
      "Accuracy: 0.43169398907103823\n",
      "Accuracy: 0.39344262295081966\n",
      "[1.14592038]\n",
      "Accuracy: 0.5191256830601093\n",
      "Accuracy: 0.3770491803278688\n",
      "[2.07307725]\n",
      "Accuracy: 0.5081967213114754\n",
      "Accuracy: 0.36065573770491804\n",
      "[1.18251977]\n",
      "Accuracy: 0.5409836065573771\n",
      "Accuracy: 0.44808743169398907\n",
      "[0.22529197]\n",
      "Accuracy: 0.546448087431694\n",
      "Accuracy: 0.3551912568306011\n",
      "[2.76391383]\n",
      "Accuracy: 0.3989071038251366\n",
      "Accuracy: 0.44808743169398907\n",
      "[1.08039433]\n",
      "Accuracy: 0.6557377049180327\n",
      "Accuracy: 0.33879781420765026\n",
      "[1.95549043]\n",
      "Accuracy: 0.3333333333333333\n",
      "Accuracy: 0.36065573770491804\n",
      "[1.77261568]\n",
      "Accuracy: 0.3989071038251366\n",
      "Accuracy: 0.4207650273224044\n",
      "[0.45688002]\n",
      "Accuracy: 0.5136612021857924\n",
      "Accuracy: 0.4207650273224044\n",
      "[2.20446694]\n",
      "Accuracy: 0.5081967213114754\n",
      "Accuracy: 0.48633879781420764\n",
      "[2.65673628]\n",
      "Accuracy: 0.5409836065573771\n",
      "Accuracy: 0.4098360655737705\n",
      "[3.17338709]\n",
      "Accuracy: 0.5409836065573771\n"
     ]
    }
   ],
   "source": [
    "# Set up the repeated k-fold cross-validation\n",
    "lin_method = RepeatedKFold(n_splits=5, n_repeats=2)\n",
    "\n",
    "accuracy_K=[]\n",
    "accuracy_F=[]\n",
    "accuracy_F30=[]\n",
    "for i in np.arange(17):\n",
    "\n",
    "    # Initialize the LDA classifier\n",
    "    lda = LinearDiscriminantAnalysis()\n",
    "    \n",
    "    # DATA\n",
    "    W_K = Slope_K_W[i][~np.isnan(Slope_K_W[i])]\n",
    "    W_F = Slope_F_W[i][~np.isnan(Slope_F_W[i])]\n",
    "    W_30= Slope_30_W[i][~np.isnan(Slope_30_W[i])]\n",
    "    l1k=np.ones(len(W_K))\n",
    "    l1f=np.ones(len(W_F))\n",
    "    l130=np.ones(len(W_30))\n",
    "\n",
    "    N1_K = Slope_K_N1[i][~np.isnan(Slope_K_N1[i])]\n",
    "    N1_F = Slope_F_N1[i][~np.isnan(Slope_F_N1[i])]\n",
    "    N1_30= Slope_30_N1[i][~np.isnan(Slope_30_N1[i])]    \n",
    "    l2k=np.ones(len(N1_K))*2\n",
    "    l2f=np.ones(len(N1_F))*2\n",
    "    l230=np.ones(len(N1_30))*2\n",
    "\n",
    "    N2_K = Slope_K_N2[i][~np.isnan(Slope_K_N2[i])]\n",
    "    N2_F = Slope_F_N2[i][~np.isnan(Slope_F_N2[i])]\n",
    "    N2_30= Slope_30_N2[i][~np.isnan(Slope_30_N2[i])]    \n",
    "    l3k=np.ones(len(N2_K))*3\n",
    "    l3f=np.ones(len(N2_F))*3   \n",
    "    l330=np.ones(len(N2_30))*3\n",
    "   \n",
    "\n",
    "    N3_K = Slope_K_N3[i][~np.isnan(Slope_K_N3[i])]\n",
    "    N3_F = Slope_F_N3[i][~np.isnan(Slope_F_N3[i])]\n",
    "    N3_30= Slope_30_N3[i][~np.isnan(Slope_30_N3[i])]\n",
    "    l4k=np.ones(len(N3_K))*4\n",
    "    l4f=np.ones(len(N3_F))*4\n",
    "    l430=np.ones(len(N3_30))*4\n",
    "\n",
    "\n",
    "    R_K = Slope_K_W[i][~np.isnan(Slope_K_R[i])]\n",
    "    R_F = Slope_F_W[i][~np.isnan(Slope_F_R[i])]\n",
    "    R_30= Slope_30_R[i][~np.isnan(Slope_30_R[i])]\n",
    "    l5k=np.ones(len(R_K))*5\n",
    "    l5f=np.ones(len(R_F))*5\n",
    "    l530=np.ones(len(R_30))*5\n",
    "\n",
    "    Knee_model  = np.concatenate((W_K,N1_K,N2_K,N3_K,R_K))\n",
    "    Fixed_model  = np.concatenate((W_F,N1_F,N2_F,N3_F,R_F))\n",
    "    F30_model   = np.concatenate((W_30,N1_30,N2_30,N3_30,R_30))\n",
    "\n",
    "    # remove any nans\n",
    "    y1 = np.concatenate((l1k,l2k,l3k,l4k,l5k))\n",
    "    y2 = np.concatenate((l1f,l2f,l3f,l4f,l5f))\n",
    "    y3 = np.concatenate((l130,l230,l330,l430,l530))\n",
    "\n",
    "    \n",
    "    Z =  np.argwhere(np.isnan(Knee_model))\n",
    "    Knee_model = np.delete(Knee_model,Z)\n",
    "    y1 = np.delete(y1,Z)\n",
    "    \n",
    "    Z2 =  np.argwhere(np.isnan(Fixed_model))\n",
    "    Fixed_model = np.delete(Fixed_model,Z2)\n",
    "    y2 = np.delete(y2,Z2)\n",
    "    \n",
    "    Z3 =  np.argwhere(np.isnan(F30_model))\n",
    "    F30_model = np.delete(F30_model,Z3)\n",
    "    y3 = np.delete(y3,Z3)\n",
    "    \n",
    "    # equalize number of trials\n",
    "    M = min([len(y1) , len(y2), len(y3)])\n",
    "    \n",
    "    Knee_model = Knee_model[0:M]\n",
    "    Fixed_model = Fixed_model[0:M]\n",
    "    F30_model = F30_model[0:M] \n",
    "    y1 = y1[0:M]\n",
    "    y2 = y2[0:M]\n",
    "    y3 = y3[0:M]\n",
    "\n",
    "    \n",
    "    # make the 1d array a 2d array (req for scikit learn)\n",
    "    X=Knee_model[:, None]\n",
    "    X2=Fixed_model[:, None]\n",
    "    X3=F30_model[:, None]\n",
    "    \n",
    "    # Loop over the cross-validation folds and repetitions\n",
    "    lin_score = cross_val_score(lda, X, y1, scoring = 'accuracy', cv = lin_method, n_jobs = -1)\n",
    "    # Split the data into training and test sets\n",
    "    X_train, X_test , y_train, y_test = train_test_split(X, y1, test_size=0.2)\n",
    "    # Fit the LDA model on the training data\n",
    "    lda.fit(X_train, y_train)\n",
    "    # Evaluate the model on the test data\n",
    "    accuracy_K.append(lda.score(X_test, y_test))\n",
    "    \n",
    "    # Print the accuracy for this fold\n",
    "    print(f\"Accuracy: {lda.score(X_test, y_test)}\")\n",
    "    print(X_train[1])\n",
    "    # Initialize the LDA classifier\n",
    "    lda2 = LinearDiscriminantAnalysis()\n",
    "    # Loop over the cross-validation folds and repetitions\n",
    "    lin_score2 = cross_val_score(lda2, X2, y2, scoring = 'accuracy', cv = lin_method, n_jobs = -1)\n",
    "    # Split the data into training and test sets\n",
    "    X_train2, X_test2 , y_train2, y_test2 = train_test_split(X2, y2, test_size=0.2)\n",
    "    # Fit the LDA model on the training data\n",
    "    lda2.fit(X_train2, y_train2)\n",
    "    # Evaluate the model on the test data\n",
    "    accuracy_F.append(lda2.score(X_test2, y_test2))\n",
    "    \n",
    "    # Print the accuracy for this fold\n",
    "    print(f\"Accuracy: {lda2.score(X_test2, y_test2)}\")\n",
    "    \n",
    "    # Initialize the LDA classifier\n",
    "    lda3 = LinearDiscriminantAnalysis()\n",
    "    # Loop over the cross-validation folds and repetitions\n",
    "    lin_score3 = cross_val_score(lda3, X3, y3, scoring = 'accuracy', cv = lin_method, n_jobs = -1)\n",
    "    # Split the data into training and test sets\n",
    "    X_train3, X_test3 , y_train3, y_test3 = train_test_split(X3, y3, test_size=0.2)\n",
    "    # Fit the LDA model on the training data\n",
    "    lda3.fit(X_train3, y_train3)\n",
    "    # Evaluate the model on the test data\n",
    "    accuracy_F30.append(lda3.score(X_test3, y_test3))\n",
    "    "
   ]
  },
  {
   "cell_type": "code",
   "execution_count": 46,
   "id": "afd8682d",
   "metadata": {},
   "outputs": [
    {
     "name": "stderr",
     "output_type": "stream",
     "text": [
      "/tmp/ipykernel_3784111/246590159.py:11: UserWarning: FixedFormatter should only be used together with FixedLocator\n",
      "  ax.set_xticklabels(titles)\n"
     ]
    },
    {
     "data": {
      "image/png": "[encoded data removed]",
      "text/plain": [
       "<Figure size 300x300 with 1 Axes>"
      ]
     },
     "metadata": {},
     "output_type": "display_data"
    }
   ],
   "source": [
    "array_list = [accuracy_K, accuracy_F, accuracy_F30]\n",
    "\n",
    "\n",
    "titles =  ['exponent knee model','exponent fixed model','exponent simple model']\n",
    "colors = ['black', 'grey', 'silver']\n",
    "\n",
    "\n",
    "ax = plt.figure(figsize=(3,3))  \n",
    "\n",
    "ax = seaborn.swarmplot(data=array_list, palette = colors);\n",
    "ax.set_xticklabels(titles)\n",
    "\n",
    "seaborn.scatterplot(x=[0,1,2], y=np.mean(array_list,1), marker='X', color='black', s=100, zorder=4, legend=False);\n",
    "plt.plot([array_list[0], array_list[1], array_list[2]], color = 'grey', linewidth = 0.25, linestyle = '-');\n",
    "ax.axhline(y=0.2, color='black', linestyle='--');\n",
    "\n",
    "plt.title('Stages decoding', fontsize = 24)\n",
    "plt.ylabel('accuracy (a.u.)',fontsize=20)\n",
    "\n",
    "plt.ylim(0.1, 0.75)\n",
    "plt.xticks(fontsize=18)\n",
    "plt.yticks(fontsize=18)\n",
    "\n",
    "ax.spines['top'].set_visible(False)\n",
    "ax.spines['right'].set_visible(False)\n",
    "ax.tick_params(axis='both', which='both', direction='in', width=1.5, labelsize=16)  # Customize tick properties\n",
    "ax.spines['bottom'].set_linewidth(1.5)\n",
    "ax.spines['left'].set_linewidth(1.5)\n",
    "\n",
    "\n",
    "plt.savefig(\"/home/b1044271/Columbia/Plots/NOV23/EEG_decoding.svg\", dpi = 600)\n",
    "\n"
   ]
  },
  {
   "cell_type": "code",
   "execution_count": 182,
   "id": "10533f0d",
   "metadata": {},
   "outputs": [
    {
     "data": {
      "text/plain": [
       "7.62939453125e-05"
      ]
     },
     "execution_count": 182,
     "metadata": {},
     "output_type": "execute_result"
    }
   ],
   "source": [
    "from scipy.stats import wilcoxon\n",
    "statistic, p_value = wilcoxon(accuracy_F, accuracy_K)\n",
    "p_value"
   ]
  },
  {
   "cell_type": "code",
   "execution_count": 180,
   "id": "4f8052bc",
   "metadata": {},
   "outputs": [
    {
     "data": {
      "text/plain": [
       "0.0007053515781661099"
      ]
     },
     "execution_count": 180,
     "metadata": {},
     "output_type": "execute_result"
    }
   ],
   "source": [
    "from scipy.stats import friedmanchisquare\n",
    "\n",
    "# Perform Friedman test\n",
    "statistic= friedmanchisquare(accuracy_F30, accuracy_K, accuracy_F)\n",
    "\n",
    "p_value"
   ]
  },
  {
   "cell_type": "code",
   "execution_count": 197,
   "id": "1a215399",
   "metadata": {},
   "outputs": [
    {
     "data": {
      "text/html": [
       "<div>\n",
       "<style scoped>\n",
       "    .dataframe tbody tr th:only-of-type {\n",
       "        vertical-align: middle;\n",
       "    }\n",
       "\n",
       "    .dataframe tbody tr th {\n",
       "        vertical-align: top;\n",
       "    }\n",
       "\n",
       "    .dataframe thead th {\n",
       "        text-align: right;\n",
       "    }\n",
       "</style>\n",
       "<table border=\"1\" class=\"dataframe\">\n",
       "  <thead>\n",
       "    <tr style=\"text-align: right;\">\n",
       "      <th></th>\n",
       "      <th>0</th>\n",
       "      <th>1</th>\n",
       "      <th>2</th>\n",
       "    </tr>\n",
       "  </thead>\n",
       "  <tbody>\n",
       "    <tr>\n",
       "      <th>0</th>\n",
       "      <td>1.000000</td>\n",
       "      <td>0.001000</td>\n",
       "      <td>0.053723</td>\n",
       "    </tr>\n",
       "    <tr>\n",
       "      <th>1</th>\n",
       "      <td>0.001000</td>\n",
       "      <td>1.000000</td>\n",
       "      <td>0.271038</td>\n",
       "    </tr>\n",
       "    <tr>\n",
       "      <th>2</th>\n",
       "      <td>0.053723</td>\n",
       "      <td>0.271038</td>\n",
       "      <td>1.000000</td>\n",
       "    </tr>\n",
       "  </tbody>\n",
       "</table>\n",
       "</div>"
      ],
      "text/plain": [
       "          0         1         2\n",
       "0  1.000000  0.001000  0.053723\n",
       "1  0.001000  1.000000  0.271038\n",
       "2  0.053723  0.271038  1.000000"
      ]
     },
     "execution_count": 197,
     "metadata": {},
     "output_type": "execute_result"
    }
   ],
   "source": [
    "import scikit_posthocs as sp\n",
    "\n",
    "data = np.array([accuracy_K,accuracy_F,accuracy_F30])\n",
    "\n",
    "sp.posthoc_nemenyi_friedman(data.T)"
   ]
  },
  {
   "cell_type": "code",
   "execution_count": 185,
   "id": "7164b82a",
   "metadata": {},
   "outputs": [
    {
     "data": {
      "text/plain": [
       "0.37737062037929925"
      ]
     },
     "execution_count": 185,
     "metadata": {},
     "output_type": "execute_result"
    }
   ],
   "source": [
    "np.mean(accuracy_K)"
   ]
  }
 ],
 "metadata": {
  "kernelspec": {
   "display_name": "Python [conda env:mne]",
   "language": "python",
   "name": "conda-env-mne-py"
  },
  "language_info": {
   "codemirror_mode": {
    "name": "ipython",
    "version": 3
   },
   "file_extension": ".py",
   "mimetype": "text/x-python",
   "name": "python",
   "nbconvert_exporter": "python",
   "pygments_lexer": "ipython3",
   "version": "3.10.6"
  }
 },
 "nbformat": 4,
 "nbformat_minor": 5
}
