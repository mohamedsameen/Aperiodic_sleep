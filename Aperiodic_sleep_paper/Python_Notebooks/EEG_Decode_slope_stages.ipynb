{
 "cells": [
  {
   "cell_type": "code",
   "execution_count": 1,
   "id": "9be1d639",
   "metadata": {},
   "outputs": [],
   "source": [
    "import numpy as np\n",
    "from sklearn.discriminant_analysis import LinearDiscriminantAnalysis\n",
    "from sklearn.model_selection import RepeatedKFold\n",
    "from pathlib import Path\n",
    "import os\n",
    "from sklearn.feature_extraction.text import TfidfVectorizer\n",
    "from sklearn.decomposition import LatentDirichletAllocation\n",
    "from sklearn.model_selection import cross_val_score, train_test_split\n",
    "from sklearn.model_selection import RepeatedStratifiedKFold\n",
    "\n",
    "# Plotting functions\n",
    "from spiketools.plts.utils import make_axes\n",
    "import matplotlib.pyplot as plt\n",
    "import seaborn\n",
    "import pandas as pd\n",
    "import random\n",
    "\n",
    "\n",
    "# Import custom project code\n",
    "import sys\n",
    "sys.path.append(\"/home/b1044271/Columbia/Aperiodic_sleep/Aperiodic_sleep_paper/helpers\")\n",
    "from utils import compute_z_values, compute_cliffs_delta, bonferroni_correction, friedman_dunns"
   ]
  },
  {
   "cell_type": "code",
   "execution_count": 2,
   "id": "e0342786",
   "metadata": {},
   "outputs": [],
   "source": [
    "# Load files \n",
    "# get the staging list\n",
    "path_files = '/home/b1044271/Columbia/Results/Slope_Knee_over_stages/'\n",
    "path_folder = Path(path_files)\n",
    "\n",
    "# GET FIXED MODEL FILES\n",
    "search_string = 'Exp_n'\n",
    "Fixed_files = []\n",
    "\n",
    "for filename in os.listdir(path_folder):\n",
    "    # check if the search string is in the filename\n",
    "    if search_string in filename:\n",
    "        Fixed_files.append(filename)\n",
    "\n",
    "\n",
    "# GET KNEE MODEL FILES\n",
    "search_string = 'Exp_w'\n",
    "Knee_files = []\n",
    "\n",
    "for filename in os.listdir(path_folder):\n",
    "    # check if the search string is in the filename\n",
    "    if search_string in filename:\n",
    "        Knee_files.append(filename)"
   ]
  },
  {
   "cell_type": "code",
   "execution_count": 3,
   "id": "4a87cd29",
   "metadata": {},
   "outputs": [],
   "source": [
    "# get the staging list\n",
    "path_stage = Path('/home/b1044271/EEGsleep/SleepStaging/mat/mne2/')\n",
    "stage_files = os.listdir(path_stage)\n",
    "stage_files = [file for file in stage_files]\n",
    "stage_files = sorted(stage_files)\n",
    "\n",
    "# get the subjects list\n",
    "Data_path = '/home/b1044271/Columbia/Preprocessed/Better_ica/'\n",
    "subj_files = os.listdir(Data_path)\n",
    "subj_files = [file for file in subj_files]\n",
    "subj_files = sorted(subj_files)\n",
    "\n",
    "# Set up the repeated k-fold cross-validation\n",
    "lin_method = RepeatedStratifiedKFold (n_splits = 5, n_repeats = 2, random_state = 1)\n"
   ]
  },
  {
   "cell_type": "code",
   "execution_count": 4,
   "id": "9324f0fb",
   "metadata": {},
   "outputs": [
    {
     "name": "stderr",
     "output_type": "stream",
     "text": [
      "/home/b1044271/anaconda3/envs/mne/lib/python3.10/site-packages/outdated/utils.py:14: OutdatedCacheFailedWarning: Failed to use cache while checking for outdated package.\n",
      "Set the environment variable OUTDATED_RAISE_EXCEPTION=1 for a full traceback.\n",
      "Set the environment variable OUTDATED_IGNORE=1 to disable these warnings.\n",
      "  return warn(\n"
     ]
    }
   ],
   "source": [
    "# Load and Prepare subject vectors for decoding\n",
    "\n",
    "Slope_K_W = np.load('/home/b1044271/Columbia/Results/Slope_Knee_over_stages/' + 'Exp_wKnee_t15_F45_W.npy') #load files - knee \n",
    "Slope_F_W = np.load('/home/b1044271/Columbia/Results/Slope_Knee_over_stages/' + 'Exp_nKnee_t15_F45_W.npy') #load files - no knee\n",
    "Slope_30_W = np.load('/home/b1044271/Columbia/Results/Paper/' + 'Exp_nKnee_t15_F3045_W.npy') #load files - no knee\n",
    "Knee_K_W = np.load('/home/b1044271/Columbia/Results/Slope_Knee_over_stages/' + 'Kn_t15_F45_W.npy') #load files - no knee\n",
    "\n",
    "Slope_K_N1 = np.load('/home/b1044271/Columbia/Results/Slope_Knee_over_stages/' + 'Exp_wKnee_t15_F45_N1.npy') #load files - knee \n",
    "Slope_F_N1 = np.load('/home/b1044271/Columbia/Results/Slope_Knee_over_stages/' + 'Exp_nKnee_t15_F45_N1.npy') #load files - no knee\n",
    "Slope_30_N1 = np.load('/home/b1044271/Columbia/Results/Paper/' + 'Exp_nKnee_t15_F3045_N1.npy') #load files - no knee\n",
    "Knee_K_N1 = np.load('/home/b1044271/Columbia/Results/Slope_Knee_over_stages/' + 'Kn_t15_F45_N1.npy') #load files - no knee\n",
    "  \n",
    "Slope_K_N2 = np.load('/home/b1044271/Columbia/Results/Slope_Knee_over_stages/' + 'Exp_wKnee_t15_F45_N2.npy') #load files - knee \n",
    "Slope_F_N2 = np.load('/home/b1044271/Columbia/Results/Slope_Knee_over_stages/' + 'Exp_nKnee_t15_F45_N2.npy') #load files - no knee\n",
    "Slope_30_N2 = np.load('/home/b1044271/Columbia/Results/Paper/' + 'Exp_nKnee_t15_F3045_N2.npy') #load files - no knee\n",
    "Knee_K_N2 = np.load('/home/b1044271/Columbia/Results/Slope_Knee_over_stages/' + 'Kn_t15_F45_N2.npy') #load files - no knee\n",
    "     \n",
    "Slope_K_N3 = np.load('/home/b1044271/Columbia/Results/Slope_Knee_over_stages/' + 'Exp_wKnee_t15_F45_N3.npy') #load files - knee \n",
    "Slope_F_N3 = np.load('/home/b1044271/Columbia/Results/Slope_Knee_over_stages/' + 'Exp_nKnee_t15_F45_N3.npy') #load files - no knee\n",
    "Slope_30_N3 = np.load('/home/b1044271/Columbia/Results/Paper/' + 'Exp_nKnee_t15_F3045_N3.npy') #load files - no knee\n",
    "Knee_K_N3 = np.load('/home/b1044271/Columbia/Results/Slope_Knee_over_stages/' + 'Kn_t15_F45_N3.npy') #load files - no knee\n",
    " \n",
    "    \n",
    "Slope_K_R = np.load('/home/b1044271/Columbia/Results/Slope_Knee_over_stages/' + 'Exp_wKnee_t15_F45_R.npy') #load files - knee \n",
    "Slope_F_R = np.load('/home/b1044271/Columbia/Results/Slope_Knee_over_stages/' + 'Exp_nKnee_t15_F45_R.npy') #load files - no knee\n",
    "Slope_30_R = np.load('/home/b1044271/Columbia/Results/Paper/' + 'Exp_nKnee_t15_F3045_R.npy') #load files - no knee\n",
    "Knee_K_R = np.load('/home/b1044271/Columbia/Results/Slope_Knee_over_stages/' + 'Kn_t15_F45_R.npy') #load files - no knee\n"
   ]
  },
  {
   "cell_type": "markdown",
   "id": "2af29b94",
   "metadata": {},
   "source": [
    "# Without including KNEE frequency\n",
    "## since  that means fewer subjects\n",
    "### Here N = 17"
   ]
  },
  {
   "cell_type": "code",
   "execution_count": 100,
   "id": "a0a8f4ea",
   "metadata": {},
   "outputs": [
    {
     "data": {
      "text/plain": [
       "array([910., 915., 910., 915., 915., 910., 915., 915., 915., 915., 915.,\n",
       "       915., 915., 915., 910., 915., 915.])"
      ]
     },
     "execution_count": 100,
     "metadata": {},
     "output_type": "execute_result"
    }
   ],
   "source": [
    "# Set up the repeated k-fold cross-validation\n",
    "lin_method = RepeatedKFold(n_splits=5, n_repeats=2)\n",
    "\n",
    "accuracy_K=[]\n",
    "accuracy_F=[]\n",
    "accuracy_F30=[]\n",
    "trials=np.zeros(17)*np.nan\n",
    "\n",
    "for i in np.arange(17):\n",
    "    ##########################################\n",
    "    # WAKE\n",
    "    W_K = Slope_K_W[i][~np.isnan(Slope_K_W[i])]\n",
    "    W_F = Slope_F_W[i][~np.isnan(Slope_F_W[i])]\n",
    "    W_30= Slope_30_W[i][~np.isnan(Slope_30_W[i])]\n",
    "\n",
    "    ##############################################\n",
    "    # N1\n",
    "    N1_K = Slope_K_N1[i][~np.isnan(Slope_K_N1[i])]\n",
    "    N1_F = Slope_F_N1[i][~np.isnan(Slope_F_N1[i])]\n",
    "    N1_30= Slope_30_N1[i][~np.isnan(Slope_30_N1[i])]   \n",
    "\n",
    "    ###############################################\n",
    "    # N2\n",
    "    N2_K = Slope_K_N2[i][~np.isnan(Slope_K_N2[i])]\n",
    "    N2_F = Slope_F_N2[i][~np.isnan(Slope_F_N2[i])]\n",
    "    N2_30= Slope_30_N2[i][~np.isnan(Slope_30_N2[i])] \n",
    "      \n",
    "    ###########################################\n",
    "    # N3\n",
    "    N3_K = Slope_K_N3[i][~np.isnan(Slope_K_N3[i])]\n",
    "    N3_F = Slope_F_N3[i][~np.isnan(Slope_F_N3[i])]\n",
    "    N3_30= Slope_30_N3[i][~np.isnan(Slope_30_N3[i])]\n",
    "\n",
    "    #################################################\n",
    "    # REM\n",
    "    R_K = Slope_K_R[i][~np.isnan(Slope_K_R[i])]\n",
    "    R_F = Slope_F_R[i][~np.isnan(Slope_F_R[i])]\n",
    "    R_30= Slope_30_R[i][~np.isnan(Slope_30_R[i])]\n",
    "\n",
    "    ######################################################\n",
    "     # equate number of trials per stage\n",
    "    L    = min([len(W_K) , len(N1_K), len(N2_K), len(N3_K),  len(R_K),\n",
    "               len(W_F) , len(N1_F), len(N2_F), len(N3_F),  len(R_F),\n",
    "               len(W_30) , len(N1_30), len(N2_30), len(N3_30),  len(R_30)])\n",
    "    \n",
    "    trials[i] = L\n",
    "    \n",
    "    W_K  = W_K[random.sample(range(0, len(W_K)), L)] \n",
    "    l1  = np.ones(len(W_K))\n",
    "    \n",
    "    N1_K  = N1_K[random.sample(range(0, len(N1_K)), L)] \n",
    "    l2  = np.ones(len(W_K))*2\n",
    " \n",
    "    N2_K = N2_K[random.sample(range(0, len(N2_K)), L)]\n",
    "    l3  = np.ones(len(N2_K))*3\n",
    "\n",
    "    N3_K = N3_K[random.sample(range(0, len(N3_K)), L)]\n",
    "    l4  = np.ones(len(N3_K))*4\n",
    "    \n",
    "    R_K  = R_K[random.sample(range(0, len(R_K)), L)]\n",
    "    l5  = np.ones(len(R_K))*5\n",
    "    \n",
    "    #########################################\n",
    "    W_F   = W_F[random.sample(range(0, len(W_F)), L)]  \n",
    "    N1_F  = N1_F[random.sample(range(0, len(N1_F)), L)] \n",
    "    N2_F  = N2_F[random.sample(range(0, len(N2_F)), L)]\n",
    "    N3_F  = N3_F[random.sample(range(0, len(N3_F)), L)] \n",
    "    R_F   = R_F[random.sample(range(0, len(R_F)), L)]\n",
    "    \n",
    "    ############################################    \n",
    "    W_30   = W_30[random.sample(range(0, len(W_30)), L)] \n",
    "    N1_30  = N1_30[random.sample(range(0, len(N1_30)), L)] \n",
    "    N2_30  = N2_30[random.sample(range(0, len(N2_30)), L)]\n",
    "    N3_30  = N3_30[random.sample(range(0, len(N3_30)), L)]\n",
    "    R_30  = R_30[random.sample(range(0, len(R_30)), L)]\n",
    "\n",
    "    #######################################################\n",
    "    # Concatenate\n",
    "    Knee_model  = np.concatenate((W_K,N1_K,N2_K,N3_K,R_K))\n",
    "    Fixed_model  = np.concatenate((W_F,N1_F,N2_F,N3_F,R_F))\n",
    "    F30_model   = np.concatenate((W_30,N1_30,N2_30,N3_30,R_30))\n",
    "\n",
    "    y = np.concatenate((l1,l2,l3,l4,l5))\n",
    "\n",
    "    ##########################################################\n",
    "    # make the 1d array a 2d array (req for scikit learn)\n",
    "    X=Knee_model[:, None]\n",
    "    X2=Fixed_model[:, None]\n",
    "    X3=F30_model[:, None]\n",
    "    \n",
    "    #########################################################\n",
    "    #ACTUAOL DECODING\n",
    "    ###########################################################\n",
    "    # KNEE MODEL _ EXP\n",
    "    ####################\n",
    "    # Initialize the LDA classifier\n",
    "    lda = LinearDiscriminantAnalysis()\n",
    "    # Loop over the cross-validation folds and repetitions\n",
    "    lin_score = cross_val_score(lda, X, y, scoring = 'accuracy', cv = lin_method)\n",
    "    # Split the data into training and test sets\n",
    "    X_train, X_test , y_train, y_test = train_test_split(X, y, test_size=0.2)\n",
    "    # Fit the LDA model on the training data\n",
    "    lda.fit(X_train, y_train)\n",
    "    # Evaluate the model on the test data\n",
    "    accuracy_K.append(lda.score(X_test, y_test))\n",
    "    # Print the accuracy for this fold\n",
    "    \n",
    "    ###########################################################\n",
    "    # FIXED MODEL _ EXP\n",
    "    ####################    \n",
    "    # Initialize the LDA classifier\n",
    "    lda2 = LinearDiscriminantAnalysis()\n",
    "    # Loop over the cross-validation folds and repetitions\n",
    "    lin_score2 = cross_val_score(lda2, X2, y, scoring = 'accuracy', cv = lin_method, n_jobs = -1)\n",
    "    # Split the data into training and test sets\n",
    "    X_train2, X_test2 , y_train2, y_test2 = train_test_split(X2, y, test_size=0.2)\n",
    "    # Fit the LDA model on the training data\n",
    "    lda2.fit(X_train2, y_train2)\n",
    "    # Evaluate the model on the test data\n",
    "    accuracy_F.append(lda2.score(X_test2, y_test2))\n",
    "\n",
    "    ###########################################################\n",
    "    # SIMPLE MODEL _ EXP\n",
    "    ####################\n",
    "    # Initialize the LDA classifier\n",
    "    lda3 = LinearDiscriminantAnalysis()\n",
    "    # Loop over the cross-validation folds and repetitions\n",
    "    lin_score3 = cross_val_score(lda3, X3, y, scoring = 'accuracy', cv = lin_method, n_jobs = -1)\n",
    "    # Split the data into training and test sets\n",
    "    X_train3, X_test3 , y_train3, y_test3 = train_test_split(X3, y, test_size=0.2)\n",
    "    # Fit the LDA model on the training data\n",
    "    lda3.fit(X_train3, y_train3)\n",
    "    # Evaluate the model on the test data\n",
    "    accuracy_F30.append(lda3.score(X_test3, y_test3))\n",
    "    \n",
    "    L=[]\n",
    "\n",
    "trials*5"
   ]
  },
  {
   "cell_type": "markdown",
   "id": "ec51f788",
   "metadata": {},
   "source": [
    "### Plotting results"
   ]
  },
  {
   "cell_type": "code",
   "execution_count": 90,
   "id": "6dff740b",
   "metadata": {},
   "outputs": [
    {
     "name": "stderr",
     "output_type": "stream",
     "text": [
      "/tmp/ipykernel_213365/992061734.py:9: UserWarning: FixedFormatter should only be used together with FixedLocator\n",
      "  ax.set_xticklabels(titles)\n"
     ]
    },
    {
     "data": {
      "image/png": "[encoded data removed]",
      "text/plain": [
       "<Figure size 300x300 with 1 Axes>"
      ]
     },
     "metadata": {},
     "output_type": "display_data"
    }
   ],
   "source": [
    "array_list = [ accuracy_K, accuracy_F, accuracy_F30]\n",
    "\n",
    "titles =  ['exponent knee model','exponent fixed model','exponent simple model']\n",
    "colors = ['black', 'grey', 'silver']\n",
    "\n",
    "ax = plt.figure(figsize=(3,3))  \n",
    "\n",
    "ax = seaborn.swarmplot(data=array_list, palette = colors);\n",
    "ax.set_xticklabels(titles)\n",
    "\n",
    "seaborn.scatterplot(x=[0,1,2], y=np.mean(array_list,1), marker='X', color='black', s=100, zorder=4, legend=False);\n",
    "plt.plot([array_list[0], array_list[1], array_list[2]], color = 'grey', linewidth = 0.25, linestyle = '-');\n",
    "ax.axhline(y=0.2, color='black', linestyle='--');\n",
    "\n",
    "plt.title('Stages decoding', fontsize = 24)\n",
    "plt.ylabel('accuracy (a.u.)',fontsize=20)\n",
    "\n",
    "plt.ylim(0.1, 0.9)\n",
    "plt.xticks(fontsize=18)\n",
    "plt.yticks(fontsize=18)\n",
    "\n",
    "ax.spines['top'].set_visible(False)\n",
    "ax.spines['right'].set_visible(False)\n",
    "ax.tick_params(axis='both', which='both', direction='in', width=1.5, labelsize=16)  # Customize tick properties\n",
    "ax.spines['bottom'].set_linewidth(1.5)\n",
    "ax.spines['left'].set_linewidth(1.5)\n",
    "\n",
    "\n",
    "plt.savefig(\"/home/b1044271/Columbia/Plots/NOV23/EEG_decoding_NoKnee.svg\", dpi = 600)"
   ]
  },
  {
   "cell_type": "markdown",
   "id": "8f619cad",
   "metadata": {},
   "source": [
    "##### Statistics \n",
    "##### Permutation against chance then Friedmann"
   ]
  },
  {
   "cell_type": "code",
   "execution_count": 91,
   "id": "78cc1849",
   "metadata": {},
   "outputs": [
    {
     "data": {
      "text/plain": [
       "array([0., 0., 0.])"
      ]
     },
     "execution_count": 91,
     "metadata": {},
     "output_type": "execute_result"
    }
   ],
   "source": [
    "# permutation\n",
    "from utils import calculate_t_statistic, calculate_cohens_d, perform_permutation_test\n",
    "\n",
    "# Specify the number of permutations\n",
    "num_permutations = 10000\n",
    "\n",
    "tvalue=np.zeros(3)\n",
    "pvalue=np.zeros(3)\n",
    "cohend=np.zeros(3)\n",
    "for i in np.arange(len(array_list)):\n",
    "    X = array_list[i]\n",
    "    # Perform the permutation test\n",
    "    tvalue[i],pvalue[i],cohend[i] = perform_permutation_test(X, np.ones(17)*0.2, num_permutations)\n",
    "\n",
    "pvalue_bonf = pvalue * len(array_list)\n",
    "pvalue_bonf"
   ]
  },
  {
   "cell_type": "code",
   "execution_count": 68,
   "id": "7471c60e",
   "metadata": {},
   "outputs": [],
   "source": [
    "data = pd.DataFrame(np.transpose(array_list))\n",
    "friedman_result, W, posthoc_result, z_values, effect_sizes, corrected_p_values = friedman_dunns(data)"
   ]
  },
  {
   "cell_type": "code",
   "execution_count": 79,
   "id": "a0546e84",
   "metadata": {},
   "outputs": [
    {
     "data": {
      "text/html": [
       "<div>\n",
       "<style scoped>\n",
       "    .dataframe tbody tr th:only-of-type {\n",
       "        vertical-align: middle;\n",
       "    }\n",
       "\n",
       "    .dataframe tbody tr th {\n",
       "        vertical-align: top;\n",
       "    }\n",
       "\n",
       "    .dataframe thead th {\n",
       "        text-align: right;\n",
       "    }\n",
       "</style>\n",
       "<table border=\"1\" class=\"dataframe\">\n",
       "  <thead>\n",
       "    <tr style=\"text-align: right;\">\n",
       "      <th></th>\n",
       "      <th>0</th>\n",
       "      <th>1</th>\n",
       "      <th>2</th>\n",
       "    </tr>\n",
       "  </thead>\n",
       "  <tbody>\n",
       "    <tr>\n",
       "      <th>0</th>\n",
       "      <td>1.000000</td>\n",
       "      <td>0.026413</td>\n",
       "      <td>0.082548</td>\n",
       "    </tr>\n",
       "    <tr>\n",
       "      <th>1</th>\n",
       "      <td>0.026413</td>\n",
       "      <td>1.000000</td>\n",
       "      <td>0.000004</td>\n",
       "    </tr>\n",
       "    <tr>\n",
       "      <th>2</th>\n",
       "      <td>0.082548</td>\n",
       "      <td>0.000004</td>\n",
       "      <td>1.000000</td>\n",
       "    </tr>\n",
       "  </tbody>\n",
       "</table>\n",
       "</div>"
      ],
      "text/plain": [
       "          0         1         2\n",
       "0  1.000000  0.026413  0.082548\n",
       "1  0.026413  1.000000  0.000004\n",
       "2  0.082548  0.000004  1.000000"
      ]
     },
     "execution_count": 79,
     "metadata": {},
     "output_type": "execute_result"
    }
   ],
   "source": [
    "corrected_p_values"
   ]
  },
  {
   "cell_type": "markdown",
   "id": "54eb87bf",
   "metadata": {},
   "source": [
    "# WITH THE KNEE FREQUENCY"
   ]
  },
  {
   "cell_type": "code",
   "execution_count": 107,
   "id": "00bfea6c",
   "metadata": {
    "collapsed": true
   },
   "outputs": [
    {
     "ename": "ValueError",
     "evalue": "Cannot have number of splits n_splits=5 greater than the number of samples: n_samples=0.",
     "output_type": "error",
     "traceback": [
      "\u001b[0;31m---------------------------------------------------------------------------\u001b[0m",
      "\u001b[0;31mEmpty\u001b[0m                                     Traceback (most recent call last)",
      "File \u001b[0;32m~/anaconda3/envs/mne/lib/python3.10/site-packages/joblib/parallel.py:862\u001b[0m, in \u001b[0;36mParallel.dispatch_one_batch\u001b[0;34m(self, iterator)\u001b[0m\n\u001b[1;32m    861\u001b[0m \u001b[38;5;28;01mtry\u001b[39;00m:\n\u001b[0;32m--> 862\u001b[0m     tasks \u001b[38;5;241m=\u001b[39m \u001b[38;5;28;43mself\u001b[39;49m\u001b[38;5;241;43m.\u001b[39;49m\u001b[43m_ready_batches\u001b[49m\u001b[38;5;241;43m.\u001b[39;49m\u001b[43mget\u001b[49m\u001b[43m(\u001b[49m\u001b[43mblock\u001b[49m\u001b[38;5;241;43m=\u001b[39;49m\u001b[38;5;28;43;01mFalse\u001b[39;49;00m\u001b[43m)\u001b[49m\n\u001b[1;32m    863\u001b[0m \u001b[38;5;28;01mexcept\u001b[39;00m queue\u001b[38;5;241m.\u001b[39mEmpty:\n\u001b[1;32m    864\u001b[0m     \u001b[38;5;66;03m# slice the iterator n_jobs * batchsize items at a time. If the\u001b[39;00m\n\u001b[1;32m    865\u001b[0m     \u001b[38;5;66;03m# slice returns less than that, then the current batchsize puts\u001b[39;00m\n\u001b[0;32m   (...)\u001b[0m\n\u001b[1;32m    868\u001b[0m     \u001b[38;5;66;03m# accordingly to distribute evenly the last items between all\u001b[39;00m\n\u001b[1;32m    869\u001b[0m     \u001b[38;5;66;03m# workers.\u001b[39;00m\n",
      "File \u001b[0;32m~/anaconda3/envs/mne/lib/python3.10/queue.py:168\u001b[0m, in \u001b[0;36mQueue.get\u001b[0;34m(self, block, timeout)\u001b[0m\n\u001b[1;32m    167\u001b[0m     \u001b[38;5;28;01mif\u001b[39;00m \u001b[38;5;129;01mnot\u001b[39;00m \u001b[38;5;28mself\u001b[39m\u001b[38;5;241m.\u001b[39m_qsize():\n\u001b[0;32m--> 168\u001b[0m         \u001b[38;5;28;01mraise\u001b[39;00m Empty\n\u001b[1;32m    169\u001b[0m \u001b[38;5;28;01melif\u001b[39;00m timeout \u001b[38;5;129;01mis\u001b[39;00m \u001b[38;5;28;01mNone\u001b[39;00m:\n",
      "\u001b[0;31mEmpty\u001b[0m: ",
      "\nDuring handling of the above exception, another exception occurred:\n",
      "\u001b[0;31mValueError\u001b[0m                                Traceback (most recent call last)",
      "Cell \u001b[0;32mIn [107], line 120\u001b[0m\n\u001b[1;32m    118\u001b[0m lda \u001b[38;5;241m=\u001b[39m LinearDiscriminantAnalysis()\n\u001b[1;32m    119\u001b[0m \u001b[38;5;66;03m# Loop over the cross-validation folds and repetitions\u001b[39;00m\n\u001b[0;32m--> 120\u001b[0m lin_score \u001b[38;5;241m=\u001b[39m \u001b[43mcross_val_score\u001b[49m\u001b[43m(\u001b[49m\u001b[43mlda\u001b[49m\u001b[43m,\u001b[49m\u001b[43m \u001b[49m\u001b[43mX\u001b[49m\u001b[43m,\u001b[49m\u001b[43m \u001b[49m\u001b[43my\u001b[49m\u001b[43m,\u001b[49m\u001b[43m \u001b[49m\u001b[43mscoring\u001b[49m\u001b[43m \u001b[49m\u001b[38;5;241;43m=\u001b[39;49m\u001b[43m \u001b[49m\u001b[38;5;124;43m'\u001b[39;49m\u001b[38;5;124;43maccuracy\u001b[39;49m\u001b[38;5;124;43m'\u001b[39;49m\u001b[43m,\u001b[49m\u001b[43m \u001b[49m\u001b[43mcv\u001b[49m\u001b[43m \u001b[49m\u001b[38;5;241;43m=\u001b[39;49m\u001b[43m \u001b[49m\u001b[43mlin_method\u001b[49m\u001b[43m)\u001b[49m\n\u001b[1;32m    121\u001b[0m \u001b[38;5;66;03m# Split the data into training and test sets\u001b[39;00m\n\u001b[1;32m    122\u001b[0m X_train, X_test , y_train, y_test \u001b[38;5;241m=\u001b[39m train_test_split(X, y, test_size\u001b[38;5;241m=\u001b[39m\u001b[38;5;241m0.2\u001b[39m)\n",
      "File \u001b[0;32m~/anaconda3/envs/mne/lib/python3.10/site-packages/sklearn/model_selection/_validation.py:515\u001b[0m, in \u001b[0;36mcross_val_score\u001b[0;34m(estimator, X, y, groups, scoring, cv, n_jobs, verbose, fit_params, pre_dispatch, error_score)\u001b[0m\n\u001b[1;32m    512\u001b[0m \u001b[38;5;66;03m# To ensure multimetric format is not supported\u001b[39;00m\n\u001b[1;32m    513\u001b[0m scorer \u001b[38;5;241m=\u001b[39m check_scoring(estimator, scoring\u001b[38;5;241m=\u001b[39mscoring)\n\u001b[0;32m--> 515\u001b[0m cv_results \u001b[38;5;241m=\u001b[39m \u001b[43mcross_validate\u001b[49m\u001b[43m(\u001b[49m\n\u001b[1;32m    516\u001b[0m \u001b[43m    \u001b[49m\u001b[43mestimator\u001b[49m\u001b[38;5;241;43m=\u001b[39;49m\u001b[43mestimator\u001b[49m\u001b[43m,\u001b[49m\n\u001b[1;32m    517\u001b[0m \u001b[43m    \u001b[49m\u001b[43mX\u001b[49m\u001b[38;5;241;43m=\u001b[39;49m\u001b[43mX\u001b[49m\u001b[43m,\u001b[49m\n\u001b[1;32m    518\u001b[0m \u001b[43m    \u001b[49m\u001b[43my\u001b[49m\u001b[38;5;241;43m=\u001b[39;49m\u001b[43my\u001b[49m\u001b[43m,\u001b[49m\n\u001b[1;32m    519\u001b[0m \u001b[43m    \u001b[49m\u001b[43mgroups\u001b[49m\u001b[38;5;241;43m=\u001b[39;49m\u001b[43mgroups\u001b[49m\u001b[43m,\u001b[49m\n\u001b[1;32m    520\u001b[0m \u001b[43m    \u001b[49m\u001b[43mscoring\u001b[49m\u001b[38;5;241;43m=\u001b[39;49m\u001b[43m{\u001b[49m\u001b[38;5;124;43m\"\u001b[39;49m\u001b[38;5;124;43mscore\u001b[39;49m\u001b[38;5;124;43m\"\u001b[39;49m\u001b[43m:\u001b[49m\u001b[43m \u001b[49m\u001b[43mscorer\u001b[49m\u001b[43m}\u001b[49m\u001b[43m,\u001b[49m\n\u001b[1;32m    521\u001b[0m \u001b[43m    \u001b[49m\u001b[43mcv\u001b[49m\u001b[38;5;241;43m=\u001b[39;49m\u001b[43mcv\u001b[49m\u001b[43m,\u001b[49m\n\u001b[1;32m    522\u001b[0m \u001b[43m    \u001b[49m\u001b[43mn_jobs\u001b[49m\u001b[38;5;241;43m=\u001b[39;49m\u001b[43mn_jobs\u001b[49m\u001b[43m,\u001b[49m\n\u001b[1;32m    523\u001b[0m \u001b[43m    \u001b[49m\u001b[43mverbose\u001b[49m\u001b[38;5;241;43m=\u001b[39;49m\u001b[43mverbose\u001b[49m\u001b[43m,\u001b[49m\n\u001b[1;32m    524\u001b[0m \u001b[43m    \u001b[49m\u001b[43mfit_params\u001b[49m\u001b[38;5;241;43m=\u001b[39;49m\u001b[43mfit_params\u001b[49m\u001b[43m,\u001b[49m\n\u001b[1;32m    525\u001b[0m \u001b[43m    \u001b[49m\u001b[43mpre_dispatch\u001b[49m\u001b[38;5;241;43m=\u001b[39;49m\u001b[43mpre_dispatch\u001b[49m\u001b[43m,\u001b[49m\n\u001b[1;32m    526\u001b[0m \u001b[43m    \u001b[49m\u001b[43merror_score\u001b[49m\u001b[38;5;241;43m=\u001b[39;49m\u001b[43merror_score\u001b[49m\u001b[43m,\u001b[49m\n\u001b[1;32m    527\u001b[0m \u001b[43m\u001b[49m\u001b[43m)\u001b[49m\n\u001b[1;32m    528\u001b[0m \u001b[38;5;28;01mreturn\u001b[39;00m cv_results[\u001b[38;5;124m\"\u001b[39m\u001b[38;5;124mtest_score\u001b[39m\u001b[38;5;124m\"\u001b[39m]\n",
      "File \u001b[0;32m~/anaconda3/envs/mne/lib/python3.10/site-packages/sklearn/model_selection/_validation.py:266\u001b[0m, in \u001b[0;36mcross_validate\u001b[0;34m(estimator, X, y, groups, scoring, cv, n_jobs, verbose, fit_params, pre_dispatch, return_train_score, return_estimator, error_score)\u001b[0m\n\u001b[1;32m    263\u001b[0m \u001b[38;5;66;03m# We clone the estimator to make sure that all the folds are\u001b[39;00m\n\u001b[1;32m    264\u001b[0m \u001b[38;5;66;03m# independent, and that it is pickle-able.\u001b[39;00m\n\u001b[1;32m    265\u001b[0m parallel \u001b[38;5;241m=\u001b[39m Parallel(n_jobs\u001b[38;5;241m=\u001b[39mn_jobs, verbose\u001b[38;5;241m=\u001b[39mverbose, pre_dispatch\u001b[38;5;241m=\u001b[39mpre_dispatch)\n\u001b[0;32m--> 266\u001b[0m results \u001b[38;5;241m=\u001b[39m \u001b[43mparallel\u001b[49m\u001b[43m(\u001b[49m\n\u001b[1;32m    267\u001b[0m \u001b[43m    \u001b[49m\u001b[43mdelayed\u001b[49m\u001b[43m(\u001b[49m\u001b[43m_fit_and_score\u001b[49m\u001b[43m)\u001b[49m\u001b[43m(\u001b[49m\n\u001b[1;32m    268\u001b[0m \u001b[43m        \u001b[49m\u001b[43mclone\u001b[49m\u001b[43m(\u001b[49m\u001b[43mestimator\u001b[49m\u001b[43m)\u001b[49m\u001b[43m,\u001b[49m\n\u001b[1;32m    269\u001b[0m \u001b[43m        \u001b[49m\u001b[43mX\u001b[49m\u001b[43m,\u001b[49m\n\u001b[1;32m    270\u001b[0m \u001b[43m        \u001b[49m\u001b[43my\u001b[49m\u001b[43m,\u001b[49m\n\u001b[1;32m    271\u001b[0m \u001b[43m        \u001b[49m\u001b[43mscorers\u001b[49m\u001b[43m,\u001b[49m\n\u001b[1;32m    272\u001b[0m \u001b[43m        \u001b[49m\u001b[43mtrain\u001b[49m\u001b[43m,\u001b[49m\n\u001b[1;32m    273\u001b[0m \u001b[43m        \u001b[49m\u001b[43mtest\u001b[49m\u001b[43m,\u001b[49m\n\u001b[1;32m    274\u001b[0m \u001b[43m        \u001b[49m\u001b[43mverbose\u001b[49m\u001b[43m,\u001b[49m\n\u001b[1;32m    275\u001b[0m \u001b[43m        \u001b[49m\u001b[38;5;28;43;01mNone\u001b[39;49;00m\u001b[43m,\u001b[49m\n\u001b[1;32m    276\u001b[0m \u001b[43m        \u001b[49m\u001b[43mfit_params\u001b[49m\u001b[43m,\u001b[49m\n\u001b[1;32m    277\u001b[0m \u001b[43m        \u001b[49m\u001b[43mreturn_train_score\u001b[49m\u001b[38;5;241;43m=\u001b[39;49m\u001b[43mreturn_train_score\u001b[49m\u001b[43m,\u001b[49m\n\u001b[1;32m    278\u001b[0m \u001b[43m        \u001b[49m\u001b[43mreturn_times\u001b[49m\u001b[38;5;241;43m=\u001b[39;49m\u001b[38;5;28;43;01mTrue\u001b[39;49;00m\u001b[43m,\u001b[49m\n\u001b[1;32m    279\u001b[0m \u001b[43m        \u001b[49m\u001b[43mreturn_estimator\u001b[49m\u001b[38;5;241;43m=\u001b[39;49m\u001b[43mreturn_estimator\u001b[49m\u001b[43m,\u001b[49m\n\u001b[1;32m    280\u001b[0m \u001b[43m        \u001b[49m\u001b[43merror_score\u001b[49m\u001b[38;5;241;43m=\u001b[39;49m\u001b[43merror_score\u001b[49m\u001b[43m,\u001b[49m\n\u001b[1;32m    281\u001b[0m \u001b[43m    \u001b[49m\u001b[43m)\u001b[49m\n\u001b[1;32m    282\u001b[0m \u001b[43m    \u001b[49m\u001b[38;5;28;43;01mfor\u001b[39;49;00m\u001b[43m \u001b[49m\u001b[43mtrain\u001b[49m\u001b[43m,\u001b[49m\u001b[43m \u001b[49m\u001b[43mtest\u001b[49m\u001b[43m \u001b[49m\u001b[38;5;129;43;01min\u001b[39;49;00m\u001b[43m \u001b[49m\u001b[43mcv\u001b[49m\u001b[38;5;241;43m.\u001b[39;49m\u001b[43msplit\u001b[49m\u001b[43m(\u001b[49m\u001b[43mX\u001b[49m\u001b[43m,\u001b[49m\u001b[43m \u001b[49m\u001b[43my\u001b[49m\u001b[43m,\u001b[49m\u001b[43m \u001b[49m\u001b[43mgroups\u001b[49m\u001b[43m)\u001b[49m\n\u001b[1;32m    283\u001b[0m \u001b[43m\u001b[49m\u001b[43m)\u001b[49m\n\u001b[1;32m    285\u001b[0m _warn_or_raise_about_fit_failures(results, error_score)\n\u001b[1;32m    287\u001b[0m \u001b[38;5;66;03m# For callabe scoring, the return type is only know after calling. If the\u001b[39;00m\n\u001b[1;32m    288\u001b[0m \u001b[38;5;66;03m# return type is a dictionary, the error scores can now be inserted with\u001b[39;00m\n\u001b[1;32m    289\u001b[0m \u001b[38;5;66;03m# the correct key.\u001b[39;00m\n",
      "File \u001b[0;32m~/anaconda3/envs/mne/lib/python3.10/site-packages/joblib/parallel.py:1085\u001b[0m, in \u001b[0;36mParallel.__call__\u001b[0;34m(self, iterable)\u001b[0m\n\u001b[1;32m   1076\u001b[0m \u001b[38;5;28;01mtry\u001b[39;00m:\n\u001b[1;32m   1077\u001b[0m     \u001b[38;5;66;03m# Only set self._iterating to True if at least a batch\u001b[39;00m\n\u001b[1;32m   1078\u001b[0m     \u001b[38;5;66;03m# was dispatched. In particular this covers the edge\u001b[39;00m\n\u001b[0;32m   (...)\u001b[0m\n\u001b[1;32m   1082\u001b[0m     \u001b[38;5;66;03m# was very quick and its callback already dispatched all the\u001b[39;00m\n\u001b[1;32m   1083\u001b[0m     \u001b[38;5;66;03m# remaining jobs.\u001b[39;00m\n\u001b[1;32m   1084\u001b[0m     \u001b[38;5;28mself\u001b[39m\u001b[38;5;241m.\u001b[39m_iterating \u001b[38;5;241m=\u001b[39m \u001b[38;5;28;01mFalse\u001b[39;00m\n\u001b[0;32m-> 1085\u001b[0m     \u001b[38;5;28;01mif\u001b[39;00m \u001b[38;5;28;43mself\u001b[39;49m\u001b[38;5;241;43m.\u001b[39;49m\u001b[43mdispatch_one_batch\u001b[49m\u001b[43m(\u001b[49m\u001b[43miterator\u001b[49m\u001b[43m)\u001b[49m:\n\u001b[1;32m   1086\u001b[0m         \u001b[38;5;28mself\u001b[39m\u001b[38;5;241m.\u001b[39m_iterating \u001b[38;5;241m=\u001b[39m \u001b[38;5;28mself\u001b[39m\u001b[38;5;241m.\u001b[39m_original_iterator \u001b[38;5;129;01mis\u001b[39;00m \u001b[38;5;129;01mnot\u001b[39;00m \u001b[38;5;28;01mNone\u001b[39;00m\n\u001b[1;32m   1088\u001b[0m     \u001b[38;5;28;01mwhile\u001b[39;00m \u001b[38;5;28mself\u001b[39m\u001b[38;5;241m.\u001b[39mdispatch_one_batch(iterator):\n",
      "File \u001b[0;32m~/anaconda3/envs/mne/lib/python3.10/site-packages/joblib/parallel.py:873\u001b[0m, in \u001b[0;36mParallel.dispatch_one_batch\u001b[0;34m(self, iterator)\u001b[0m\n\u001b[1;32m    870\u001b[0m n_jobs \u001b[38;5;241m=\u001b[39m \u001b[38;5;28mself\u001b[39m\u001b[38;5;241m.\u001b[39m_cached_effective_n_jobs\n\u001b[1;32m    871\u001b[0m big_batch_size \u001b[38;5;241m=\u001b[39m batch_size \u001b[38;5;241m*\u001b[39m n_jobs\n\u001b[0;32m--> 873\u001b[0m islice \u001b[38;5;241m=\u001b[39m \u001b[38;5;28;43mlist\u001b[39;49m\u001b[43m(\u001b[49m\u001b[43mitertools\u001b[49m\u001b[38;5;241;43m.\u001b[39;49m\u001b[43mislice\u001b[49m\u001b[43m(\u001b[49m\u001b[43miterator\u001b[49m\u001b[43m,\u001b[49m\u001b[43m \u001b[49m\u001b[43mbig_batch_size\u001b[49m\u001b[43m)\u001b[49m\u001b[43m)\u001b[49m\n\u001b[1;32m    874\u001b[0m \u001b[38;5;28;01mif\u001b[39;00m \u001b[38;5;28mlen\u001b[39m(islice) \u001b[38;5;241m==\u001b[39m \u001b[38;5;241m0\u001b[39m:\n\u001b[1;32m    875\u001b[0m     \u001b[38;5;28;01mreturn\u001b[39;00m \u001b[38;5;28;01mFalse\u001b[39;00m\n",
      "File \u001b[0;32m~/anaconda3/envs/mne/lib/python3.10/site-packages/sklearn/model_selection/_validation.py:266\u001b[0m, in \u001b[0;36m<genexpr>\u001b[0;34m(.0)\u001b[0m\n\u001b[1;32m    263\u001b[0m \u001b[38;5;66;03m# We clone the estimator to make sure that all the folds are\u001b[39;00m\n\u001b[1;32m    264\u001b[0m \u001b[38;5;66;03m# independent, and that it is pickle-able.\u001b[39;00m\n\u001b[1;32m    265\u001b[0m parallel \u001b[38;5;241m=\u001b[39m Parallel(n_jobs\u001b[38;5;241m=\u001b[39mn_jobs, verbose\u001b[38;5;241m=\u001b[39mverbose, pre_dispatch\u001b[38;5;241m=\u001b[39mpre_dispatch)\n\u001b[0;32m--> 266\u001b[0m results \u001b[38;5;241m=\u001b[39m parallel(\n\u001b[1;32m    267\u001b[0m     delayed(_fit_and_score)(\n\u001b[1;32m    268\u001b[0m         clone(estimator),\n\u001b[1;32m    269\u001b[0m         X,\n\u001b[1;32m    270\u001b[0m         y,\n\u001b[1;32m    271\u001b[0m         scorers,\n\u001b[1;32m    272\u001b[0m         train,\n\u001b[1;32m    273\u001b[0m         test,\n\u001b[1;32m    274\u001b[0m         verbose,\n\u001b[1;32m    275\u001b[0m         \u001b[38;5;28;01mNone\u001b[39;00m,\n\u001b[1;32m    276\u001b[0m         fit_params,\n\u001b[1;32m    277\u001b[0m         return_train_score\u001b[38;5;241m=\u001b[39mreturn_train_score,\n\u001b[1;32m    278\u001b[0m         return_times\u001b[38;5;241m=\u001b[39m\u001b[38;5;28;01mTrue\u001b[39;00m,\n\u001b[1;32m    279\u001b[0m         return_estimator\u001b[38;5;241m=\u001b[39mreturn_estimator,\n\u001b[1;32m    280\u001b[0m         error_score\u001b[38;5;241m=\u001b[39merror_score,\n\u001b[1;32m    281\u001b[0m     )\n\u001b[1;32m    282\u001b[0m     \u001b[38;5;28;01mfor\u001b[39;00m train, test \u001b[38;5;129;01min\u001b[39;00m cv\u001b[38;5;241m.\u001b[39msplit(X, y, groups)\n\u001b[1;32m    283\u001b[0m )\n\u001b[1;32m    285\u001b[0m _warn_or_raise_about_fit_failures(results, error_score)\n\u001b[1;32m    287\u001b[0m \u001b[38;5;66;03m# For callabe scoring, the return type is only know after calling. If the\u001b[39;00m\n\u001b[1;32m    288\u001b[0m \u001b[38;5;66;03m# return type is a dictionary, the error scores can now be inserted with\u001b[39;00m\n\u001b[1;32m    289\u001b[0m \u001b[38;5;66;03m# the correct key.\u001b[39;00m\n",
      "File \u001b[0;32m~/anaconda3/envs/mne/lib/python3.10/site-packages/sklearn/model_selection/_split.py:1433\u001b[0m, in \u001b[0;36m_RepeatedSplits.split\u001b[0;34m(self, X, y, groups)\u001b[0m\n\u001b[1;32m   1431\u001b[0m \u001b[38;5;28;01mfor\u001b[39;00m idx \u001b[38;5;129;01min\u001b[39;00m \u001b[38;5;28mrange\u001b[39m(n_repeats):\n\u001b[1;32m   1432\u001b[0m     cv \u001b[38;5;241m=\u001b[39m \u001b[38;5;28mself\u001b[39m\u001b[38;5;241m.\u001b[39mcv(random_state\u001b[38;5;241m=\u001b[39mrng, shuffle\u001b[38;5;241m=\u001b[39m\u001b[38;5;28;01mTrue\u001b[39;00m, \u001b[38;5;241m*\u001b[39m\u001b[38;5;241m*\u001b[39m\u001b[38;5;28mself\u001b[39m\u001b[38;5;241m.\u001b[39mcvargs)\n\u001b[0;32m-> 1433\u001b[0m     \u001b[38;5;28;01mfor\u001b[39;00m train_index, test_index \u001b[38;5;129;01min\u001b[39;00m cv\u001b[38;5;241m.\u001b[39msplit(X, y, groups):\n\u001b[1;32m   1434\u001b[0m         \u001b[38;5;28;01myield\u001b[39;00m train_index, test_index\n",
      "File \u001b[0;32m~/anaconda3/envs/mne/lib/python3.10/site-packages/sklearn/model_selection/_split.py:333\u001b[0m, in \u001b[0;36m_BaseKFold.split\u001b[0;34m(self, X, y, groups)\u001b[0m\n\u001b[1;32m    331\u001b[0m n_samples \u001b[38;5;241m=\u001b[39m _num_samples(X)\n\u001b[1;32m    332\u001b[0m \u001b[38;5;28;01mif\u001b[39;00m \u001b[38;5;28mself\u001b[39m\u001b[38;5;241m.\u001b[39mn_splits \u001b[38;5;241m>\u001b[39m n_samples:\n\u001b[0;32m--> 333\u001b[0m     \u001b[38;5;28;01mraise\u001b[39;00m \u001b[38;5;167;01mValueError\u001b[39;00m(\n\u001b[1;32m    334\u001b[0m         (\n\u001b[1;32m    335\u001b[0m             \u001b[38;5;124m\"\u001b[39m\u001b[38;5;124mCannot have number of splits n_splits=\u001b[39m\u001b[38;5;132;01m{0}\u001b[39;00m\u001b[38;5;124m greater\u001b[39m\u001b[38;5;124m\"\u001b[39m\n\u001b[1;32m    336\u001b[0m             \u001b[38;5;124m\"\u001b[39m\u001b[38;5;124m than the number of samples: n_samples=\u001b[39m\u001b[38;5;132;01m{1}\u001b[39;00m\u001b[38;5;124m.\u001b[39m\u001b[38;5;124m\"\u001b[39m\n\u001b[1;32m    337\u001b[0m         )\u001b[38;5;241m.\u001b[39mformat(\u001b[38;5;28mself\u001b[39m\u001b[38;5;241m.\u001b[39mn_splits, n_samples)\n\u001b[1;32m    338\u001b[0m     )\n\u001b[1;32m    340\u001b[0m \u001b[38;5;28;01mfor\u001b[39;00m train, test \u001b[38;5;129;01min\u001b[39;00m \u001b[38;5;28msuper\u001b[39m()\u001b[38;5;241m.\u001b[39msplit(X, y, groups):\n\u001b[1;32m    341\u001b[0m     \u001b[38;5;28;01myield\u001b[39;00m train, test\n",
      "\u001b[0;31mValueError\u001b[0m: Cannot have number of splits n_splits=5 greater than the number of samples: n_samples=0."
     ]
    }
   ],
   "source": [
    "# Set up the repeated k-fold cross-validation\n",
    "lin_method = RepeatedKFold(n_splits=5, n_repeats=2)\n",
    "\n",
    "#subj_2_excl = [2,3,4,8,9,11,12,13]\n",
    "\n",
    "accuracy_K=[]\n",
    "accuracy_F=[]\n",
    "accuracy_F30=[]\n",
    "accuracy_knee = []\n",
    "for i in np.arange(17):\n",
    "   \n",
    "    # skip subjects who have a NaN\n",
    "    #if np.isin(i, subj_2_excl):\n",
    "       # continue\n",
    "        \n",
    "    ##########################################\n",
    "    # WAKE\n",
    "    W_K = Slope_K_W[i][~np.isnan(Slope_K_W[i])]\n",
    "    W_F = Slope_F_W[i][~np.isnan(Slope_F_W[i])]\n",
    "    W_30= Slope_30_W[i][~np.isnan(Slope_30_W[i])]\n",
    "    W_knee = Knee_K_W[i][~np.isnan(Knee_K_W[i])]\n",
    "\n",
    "    ##############################################\n",
    "    # N1\n",
    "    N1_K = Slope_K_N1[i][~np.isnan(Slope_K_N1[i])]\n",
    "    N1_F = Slope_F_N1[i][~np.isnan(Slope_F_N1[i])]\n",
    "    N1_30= Slope_30_N1[i][~np.isnan(Slope_30_N1[i])]   \n",
    "    N1_knee = Knee_K_N1[i][~np.isnan(Knee_K_N1[i])]\n",
    "\n",
    "    ###############################################\n",
    "    # N2\n",
    "    N2_K = Slope_K_N2[i][~np.isnan(Slope_K_N2[i])]\n",
    "    N2_F = Slope_F_N2[i][~np.isnan(Slope_F_N2[i])]\n",
    "    N2_30= Slope_30_N2[i][~np.isnan(Slope_30_N2[i])] \n",
    "    N2_knee = Knee_K_N2[i][~np.isnan(Knee_K_N2[i])]\n",
    "      \n",
    "    ###########################################\n",
    "    # N3\n",
    "    N3_K = Slope_K_N3[i][~np.isnan(Slope_K_N3[i])]\n",
    "    N3_F = Slope_F_N3[i][~np.isnan(Slope_F_N3[i])]\n",
    "    N3_30= Slope_30_N3[i][~np.isnan(Slope_30_N3[i])]\n",
    "    N3_knee = Knee_K_N3[i][~np.isnan(Knee_K_N3[i])]\n",
    "\n",
    "    #################################################\n",
    "    # REM\n",
    "    R_K = Slope_K_R[i][~np.isnan(Slope_K_R[i])]\n",
    "    R_F = Slope_F_R[i][~np.isnan(Slope_F_R[i])]\n",
    "    R_30= Slope_30_R[i][~np.isnan(Slope_30_R[i])]\n",
    "    R_knee = Knee_K_R[i][~np.isnan(Knee_K_R[i])]\n",
    "\n",
    "    ######################################################\n",
    "     # equate number of trials per stage\n",
    "    L    = min([len(W_K) , len(N1_K), len(N2_K), len(N3_K),  len(R_K),\n",
    "               len(W_F) , len(N1_F), len(N2_F), len(N3_F),  len(R_F),\n",
    "               len(W_30) , len(N1_30), len(N2_30), len(N3_30),  len(R_30),\n",
    "               len(W_knee) , len(N1_knee), len(N2_knee), len(N3_knee),  len(R_knee)\n",
    "               ])\n",
    "    \n",
    "    trials[i] = L\n",
    "    \n",
    "    W_K  = W_K[random.sample(range(0, len(W_K)), L)] \n",
    "    l1  = np.ones(len(W_K))\n",
    "    \n",
    "    N1_K  = N1_K[random.sample(range(0, len(N1_K)), L)] \n",
    "    l2  = np.ones(len(W_K))*2\n",
    " \n",
    "    N2_K = N2_K[random.sample(range(0, len(N2_K)), L)]\n",
    "    l3  = np.ones(len(N2_K))*3\n",
    "\n",
    "    N3_K = N3_K[random.sample(range(0, len(N3_K)), L)]\n",
    "    l4  = np.ones(len(N3_K))*4\n",
    "    \n",
    "    R_K  = R_K[random.sample(range(0, len(R_K)), L)]\n",
    "    l5  = np.ones(len(R_K))*5\n",
    "    \n",
    "    #########################################\n",
    "    W_F   = W_F[random.sample(range(0, len(W_F)), L)]  \n",
    "    N1_F  = N1_F[random.sample(range(0, len(N1_F)), L)] \n",
    "    N2_F  = N2_F[random.sample(range(0, len(N2_F)), L)]\n",
    "    N3_F  = N3_F[random.sample(range(0, len(N3_F)), L)] \n",
    "    R_F   = R_F[random.sample(range(0, len(R_F)), L)]\n",
    "    \n",
    "    ############################################    \n",
    "    W_30   = W_30[random.sample(range(0, len(W_30)), L)] \n",
    "    N1_30  = N1_30[random.sample(range(0, len(N1_30)), L)] \n",
    "    N2_30  = N2_30[random.sample(range(0, len(N2_30)), L)]\n",
    "    N3_30  = N3_30[random.sample(range(0, len(N3_30)), L)]\n",
    "    R_30  = R_30[random.sample(range(0, len(R_30)), L)]\n",
    "    \n",
    "    ############################################    \n",
    "    W_knee   = W_knee[random.sample(range(0, len(W_knee)), L)] \n",
    "    N1_knee  = N1_knee[random.sample(range(0, len(N1_knee)), L)] \n",
    "    N2_knee  = N2_knee[random.sample(range(0, len(N2_knee)), L)]\n",
    "    N3_knee  = N3_knee[random.sample(range(0, len(N3_knee)), L)]\n",
    "    R_knee  = R_knee[random.sample(range(0, len(R_knee)), L)]\n",
    "\n",
    "    #######################################################\n",
    "    # Concatenate\n",
    "    Knee_model  = np.concatenate((W_K,N1_K,N2_K,N3_K,R_K))\n",
    "    Fixed_model  = np.concatenate((W_F,N1_F,N2_F,N3_F,R_F))\n",
    "    F30_model   = np.concatenate((W_30,N1_30,N2_30,N3_30,R_30))\n",
    "    Knee_freq   = np.concatenate((W_knee,N1_knee,N2_knee,N3_knee,R_knee))\n",
    "\n",
    "    y = np.concatenate((l1,l2,l3,l4,l5))\n",
    "\n",
    "    ##########################################################\n",
    "    # make the 1d array a 2d array (req for scikit learn)\n",
    "    X=Knee_model[:, None]\n",
    "    X2=Fixed_model[:, None]\n",
    "    X3=F30_model[:, None]\n",
    "    X4=Knee_freq[:, None]    \n",
    "    #########################################################\n",
    "    #ACTUAOL DECODING\n",
    "    ###########################################################\n",
    "    # KNEE MODEL _ EXP\n",
    "    ####################\n",
    "    # Initialize the LDA classifier\n",
    "    lda = LinearDiscriminantAnalysis()\n",
    "    # Loop over the cross-validation folds and repetitions\n",
    "    lin_score = cross_val_score(lda, X, y, scoring = 'accuracy', cv = lin_method)\n",
    "    # Split the data into training and test sets\n",
    "    X_train, X_test , y_train, y_test = train_test_split(X, y, test_size=0.2)\n",
    "    # Fit the LDA model on the training data\n",
    "    lda.fit(X_train, y_train)\n",
    "    # Evaluate the model on the test data\n",
    "    accuracy_K.append(lda.score(X_test, y_test))\n",
    "    # Print the accuracy for this fold\n",
    "    \n",
    "    ###########################################################\n",
    "    # FIXED MODEL _ EXP\n",
    "    ####################    \n",
    "    # Initialize the LDA classifier\n",
    "    lda2 = LinearDiscriminantAnalysis()\n",
    "    # Loop over the cross-validation folds and repetitions\n",
    "    lin_score2 = cross_val_score(lda2, X2, y, scoring = 'accuracy', cv = lin_method, n_jobs = -1)\n",
    "    # Split the data into training and test sets\n",
    "    X_train2, X_test2 , y_train2, y_test2 = train_test_split(X2, y, test_size=0.2)\n",
    "    # Fit the LDA model on the training data\n",
    "    lda2.fit(X_train2, y_train2)\n",
    "    # Evaluate the model on the test data\n",
    "    accuracy_F.append(lda2.score(X_test2, y_test2))\n",
    "\n",
    "    ###########################################################\n",
    "    # SIMPLE MODEL _ EXP\n",
    "    ####################\n",
    "    # Initialize the LDA classifier\n",
    "    lda3 = LinearDiscriminantAnalysis()\n",
    "    # Loop over the cross-validation folds and repetitions\n",
    "    lin_score3 = cross_val_score(lda3, X3, y, scoring = 'accuracy', cv = lin_method, n_jobs = -1)\n",
    "    # Split the data into training and test sets\n",
    "    X_train3, X_test3 , y_train3, y_test3 = train_test_split(X3, y, test_size=0.2)\n",
    "    # Fit the LDA model on the training data\n",
    "    lda3.fit(X_train3, y_train3)\n",
    "    # Evaluate the model on the test data\n",
    "    accuracy_F30.append(lda3.score(X_test3, y_test3))\n",
    "    \n",
    "    ###########################################################\n",
    "    # KNEE FREQUENCY\n",
    "    ####################\n",
    "    # Initialize the LDA classifier\n",
    "    lda4 = LinearDiscriminantAnalysis()\n",
    "    # Loop over the cross-validation folds and repetitions\n",
    "    lin_score4 = cross_val_score(lda4, X4, y, scoring = 'accuracy', cv = lin_method, n_jobs = -1)\n",
    "    # Split the data into training and test sets\n",
    "    X_train4, X_test4 , y_train4, y_test4 = train_test_split(X4, y, test_size=0.2)\n",
    "    # Fit the LDA model on the training data\n",
    "    lda4.fit(X_train4, y_train4)\n",
    "    # Evaluate the model on the test data\n",
    "    accuracy_knee.append(lda4.score(X_test4, y_test4))\n",
    "    \n",
    "    L=[]\n",
    "\n",
    "trials*5"
   ]
  },
  {
   "cell_type": "code",
   "execution_count": 104,
   "id": "afd8682d",
   "metadata": {},
   "outputs": [
    {
     "name": "stderr",
     "output_type": "stream",
     "text": [
      "/tmp/ipykernel_213365/2726771517.py:11: UserWarning: FixedFormatter should only be used together with FixedLocator\n",
      "  ax.set_xticklabels(titles)\n"
     ]
    },
    {
     "data": {
      "image/png": "[encoded data removed]",
      "text/plain": [
       "<Figure size 300x300 with 1 Axes>"
      ]
     },
     "metadata": {},
     "output_type": "display_data"
    }
   ],
   "source": [
    "array_list = [accuracy_knee, accuracy_K, accuracy_F, accuracy_F30]\n",
    "\n",
    "\n",
    "titles =  ['kf','exp knee','exp fixed','exp simple']\n",
    "colors = ['black', 'grey', 'silver', 'gainsboro']\n",
    "\n",
    "\n",
    "ax = plt.figure(figsize=(3,3))  \n",
    "\n",
    "ax = seaborn.swarmplot(data=array_list, palette = colors);\n",
    "ax.set_xticklabels(titles)\n",
    "\n",
    "seaborn.scatterplot(x=[0,1,2,3], y=np.mean(array_list,1), marker='X', color='black', s=100, zorder=4, legend=False);\n",
    "plt.plot([array_list[0], array_list[1], array_list[2], array_list[3]], color = 'grey', linewidth = 0.25, linestyle = '-');\n",
    "ax.axhline(y=0.2, color='black', linestyle='--');\n",
    "\n",
    "plt.title('Stages decoding', fontsize = 24)\n",
    "plt.ylabel('accuracy (a.u.)',fontsize=20)\n",
    "\n",
    "#plt.ylim(0.1, 0.9)\n",
    "plt.xticks(fontsize=18)\n",
    "plt.yticks(fontsize=18)\n",
    "\n",
    "ax.spines['top'].set_visible(False)\n",
    "ax.spines['right'].set_visible(False)\n",
    "ax.tick_params(axis='both', which='both', direction='in', width=1.5, labelsize=16)  # Customize tick properties\n",
    "ax.spines['bottom'].set_linewidth(1.5)\n",
    "ax.spines['left'].set_linewidth(1.5)\n",
    "\n",
    "\n",
    "#plt.savefig(\"/home/b1044271/Columbia/Plots/NOV23/EEG_decoding_wknee.svg\", dpi = 600)\n",
    "\n"
   ]
  },
  {
   "cell_type": "markdown",
   "id": "fdb19dfa",
   "metadata": {},
   "source": [
    "# STATS"
   ]
  },
  {
   "cell_type": "markdown",
   "id": "80c51bcb",
   "metadata": {},
   "source": [
    "## Against chance"
   ]
  },
  {
   "cell_type": "code",
   "execution_count": 105,
   "id": "1e07eea5",
   "metadata": {},
   "outputs": [],
   "source": [
    "from utils import calculate_t_statistic, calculate_cohens_d, perform_permutation_test\n",
    "\n",
    "\n",
    "# Specify the number of permutations\n",
    "num_permutations = 10000\n",
    "\n",
    "tvalue=np.zeros(4)\n",
    "pvalue=np.zeros(4)\n",
    "cohend=np.zeros(4)\n",
    "for i in np.arange(len(array_list)):\n",
    "    X = array_list[i]\n",
    "    # Perform the permutation test\n",
    "    tvalue[i],pvalue[i],cohend[i] = perform_permutation_test(X, np.ones(9)*0.2, num_permutations)\n",
    "\n",
    "pvalue_bonf = pvalue * len(array_list)"
   ]
  },
  {
   "cell_type": "code",
   "execution_count": 106,
   "id": "407c2d33",
   "metadata": {},
   "outputs": [
    {
     "data": {
      "text/plain": [
       "array([0.84  , 1.5744, 0.3796, 1.742 ])"
      ]
     },
     "execution_count": 106,
     "metadata": {},
     "output_type": "execute_result"
    }
   ],
   "source": [
    "pvalue_bonf"
   ]
  },
  {
   "cell_type": "code",
   "execution_count": 34,
   "id": "307ecdbc",
   "metadata": {},
   "outputs": [
    {
     "data": {
      "text/plain": [
       "array([10.33461221,  9.29509624, 16.5987888 ,  8.14058468])"
      ]
     },
     "execution_count": 34,
     "metadata": {},
     "output_type": "execute_result"
    }
   ],
   "source": [
    "tvalue"
   ]
  },
  {
   "cell_type": "markdown",
   "id": "7298f68d",
   "metadata": {},
   "source": [
    "## Friedman"
   ]
  },
  {
   "cell_type": "code",
   "execution_count": 38,
   "id": "4f8052bc",
   "metadata": {},
   "outputs": [],
   "source": [
    "data = pd.DataFrame(np.transpose(array_list))\n",
    "\n",
    "friedman_result, W, posthoc_result, z_values, effect_sizes, corrected_p_values = friedman_dunns(data)\n"
   ]
  },
  {
   "cell_type": "code",
   "execution_count": 39,
   "id": "f39f74d8",
   "metadata": {},
   "outputs": [
    {
     "data": {
      "text/html": [
       "<div>\n",
       "<style scoped>\n",
       "    .dataframe tbody tr th:only-of-type {\n",
       "        vertical-align: middle;\n",
       "    }\n",
       "\n",
       "    .dataframe tbody tr th {\n",
       "        vertical-align: top;\n",
       "    }\n",
       "\n",
       "    .dataframe thead th {\n",
       "        text-align: right;\n",
       "    }\n",
       "</style>\n",
       "<table border=\"1\" class=\"dataframe\">\n",
       "  <thead>\n",
       "    <tr style=\"text-align: right;\">\n",
       "      <th></th>\n",
       "      <th>0</th>\n",
       "      <th>1</th>\n",
       "      <th>2</th>\n",
       "      <th>3</th>\n",
       "    </tr>\n",
       "  </thead>\n",
       "  <tbody>\n",
       "    <tr>\n",
       "      <th>0</th>\n",
       "      <td>1.000000</td>\n",
       "      <td>1.000000</td>\n",
       "      <td>0.185025</td>\n",
       "      <td>0.379778</td>\n",
       "    </tr>\n",
       "    <tr>\n",
       "      <th>1</th>\n",
       "      <td>1.000000</td>\n",
       "      <td>1.000000</td>\n",
       "      <td>0.106232</td>\n",
       "      <td>0.600383</td>\n",
       "    </tr>\n",
       "    <tr>\n",
       "      <th>2</th>\n",
       "      <td>0.185025</td>\n",
       "      <td>0.106232</td>\n",
       "      <td>1.000000</td>\n",
       "      <td>0.000355</td>\n",
       "    </tr>\n",
       "    <tr>\n",
       "      <th>3</th>\n",
       "      <td>0.379778</td>\n",
       "      <td>0.600383</td>\n",
       "      <td>0.000355</td>\n",
       "      <td>1.000000</td>\n",
       "    </tr>\n",
       "  </tbody>\n",
       "</table>\n",
       "</div>"
      ],
      "text/plain": [
       "          0         1         2         3\n",
       "0  1.000000  1.000000  0.185025  0.379778\n",
       "1  1.000000  1.000000  0.106232  0.600383\n",
       "2  0.185025  0.106232  1.000000  0.000355\n",
       "3  0.379778  0.600383  0.000355  1.000000"
      ]
     },
     "execution_count": 39,
     "metadata": {},
     "output_type": "execute_result"
    }
   ],
   "source": [
    "corrected_p_values"
   ]
  },
  {
   "cell_type": "code",
   "execution_count": 42,
   "id": "a6f062bb",
   "metadata": {},
   "outputs": [
    {
     "data": {
      "text/plain": [
       "FriedmanchisquareResult(statistic=21.701492537313424, pvalue=1.9390132241278643e-05)"
      ]
     },
     "execution_count": 42,
     "metadata": {},
     "output_type": "execute_result"
    }
   ],
   "source": [
    "friedman_result"
   ]
  }
 ],
 "metadata": {
  "kernelspec": {
   "display_name": "Python [conda env:mne]",
   "language": "python",
   "name": "conda-env-mne-py"
  },
  "language_info": {
   "codemirror_mode": {
    "name": "ipython",
    "version": 3
   },
   "file_extension": ".py",
   "mimetype": "text/x-python",
   "name": "python",
   "nbconvert_exporter": "python",
   "pygments_lexer": "ipython3",
   "version": "3.10.6"
  }
 },
 "nbformat": 4,
 "nbformat_minor": 5
}
