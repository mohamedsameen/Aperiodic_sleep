{
 "cells": [
  {
   "cell_type": "code",
   "execution_count": 1,
   "id": "8da1f2ee",
   "metadata": {},
   "outputs": [],
   "source": [
    "import os\n",
    "from pathlib import Path\n",
    "import numpy as np\n",
    "import mne\n",
    "from scipy import stats\n",
    "import pandas as pd\n",
    "import random\n",
    "\n",
    "# Use neurodsp for convenience\n",
    "from neurodsp.plts import plot_time_series, plot_power_spectra\n",
    "from neurodsp.spectral import compute_spectrum\n",
    "\n",
    "# Import fooof for checking model fits\n",
    "from fooof import FOOOF\n",
    "from fooof import FOOOFGroup\n",
    "from fooof.plts.annotate import plot_annotated_model, plot_annotated_model2\n",
    "from fooof.utils.params import compute_knee_frequency\n",
    "\n",
    "# Plotting functions\n",
    "from spiketools.plts.utils import make_axes\n",
    "import matplotlib.pyplot as plt\n",
    "import seaborn as sns\n",
    "from pandas.plotting import table \n",
    "\n",
    "import warnings\n",
    "warnings.filterwarnings(\"ignore\")\n",
    "\n",
    "from sklearn.discriminant_analysis import LinearDiscriminantAnalysis\n",
    "from sklearn.model_selection import RepeatedKFold\n",
    "from sklearn.feature_extraction.text import TfidfVectorizer\n",
    "from sklearn.decomposition import LatentDirichletAllocation\n",
    "from sklearn.model_selection import cross_val_score, train_test_split\n",
    "from sklearn.model_selection import RepeatedStratifiedKFold"
   ]
  },
  {
   "cell_type": "code",
   "execution_count": 5,
   "id": "9adf795e",
   "metadata": {},
   "outputs": [],
   "source": [
    "# Import custom project code\n",
    "import sys\n",
    "sys.path.append(\"/home/b1044271/Columbia/Aperiodic_sleep/Aperiodic_sleep_paper/helpers\")\n",
    "from utils import check_distribution, perform_correlation, compute_z_values, bonferroni_correction, friedman_dunns"
   ]
  },
  {
   "cell_type": "code",
   "execution_count": 6,
   "id": "82db63ac",
   "metadata": {},
   "outputs": [],
   "source": [
    "f_min = 1\n",
    "f_max = 45\n",
    "t     = 15\n",
    "fs    = 200\n",
    "SETTINGS_W  = { 'method' : 'welch', 'average' : None, 'fmin' :f_min , 'fmax':f_max, 'n_fft': fs*t, 'n_overlap': fs*t*0.5}\n",
    "\n",
    "SETTINGS_F1={'max_n_peaks':8, 'aperiodic_mode':'knee'}\n",
    "SETTINGS_F2={'max_n_peaks':8, 'aperiodic_mode':'fixed'}"
   ]
  },
  {
   "cell_type": "code",
   "execution_count": 7,
   "id": "efeadc53",
   "metadata": {},
   "outputs": [],
   "source": [
    "# Set data path\n",
    "data_path = Path('/home/b1044271/Columbia/iEEG')\n",
    "# Set result path\n",
    "result_path = Path('/home/b1044271/Columbia/Results/iEEG')\n",
    "# Set dataset\n",
    "dataset = 'Wakefulness_AllRegions'\n",
    "# Get list of files, which correspond to regions\n",
    "regions = np.sort(os.listdir(data_path / dataset))"
   ]
  },
  {
   "cell_type": "code",
   "execution_count": 8,
   "id": "9871fb6e",
   "metadata": {},
   "outputs": [],
   "source": [
    "W_Kn  = np.zeros([len(regions)-4,20000])*np.nan\n",
    "W_Exp = np.zeros([len(regions)-4,20000])*np.nan\n",
    "W_Exp2 = np.zeros([len(regions)-4,20000])*np.nan\n",
    "\n",
    "N2_Kn  = np.zeros([len(regions)-4,20000])*np.nan\n",
    "N2_Exp = np.zeros([len(regions)-4,20000])*np.nan\n",
    "N2_Exp2 = np.zeros([len(regions)-4,20000])*np.nan\n",
    "\n",
    "N3_Kn  = np.zeros([len(regions)-4,20000])*np.nan\n",
    "N3_Exp = np.zeros([len(regions)-4,20000])*np.nan\n",
    "N3_Exp2 = np.zeros([len(regions)-4,20000])*np.nan\n",
    "\n",
    "R_Kn  = np.zeros([len(regions)-4,20000])*np.nan\n",
    "R_Exp = np.zeros([len(regions)-4,20000])*np.nan\n",
    "R_Exp2 = np.zeros([len(regions)-4,20000])*np.nan"
   ]
  },
  {
   "cell_type": "code",
   "execution_count": null,
   "id": "43616913",
   "metadata": {
    "scrolled": true
   },
   "outputs": [
    {
     "name": "stdout",
     "output_type": "stream",
     "text": [
      "Extracting EDF parameters from /home/b1044271/Columbia/iEEG/Wakefulness_AllRegions/Angular gyrus_W.edf...\n",
      "EDF file detected\n",
      "Setting channel info structure...\n",
      "Creating raw.info structure...\n",
      "Effective window size : 15.000 (s)\n",
      "Running FOOOFGroup across 424 power spectra.\n",
      "Running FOOOFGroup across 424 power spectra.\n",
      "Extracting EDF parameters from /home/b1044271/Columbia/iEEG/Wakefulness_AllRegions/Anterior cingulate_W.edf...\n",
      "EDF file detected\n",
      "Setting channel info structure...\n",
      "Creating raw.info structure...\n",
      "Effective window size : 15.000 (s)\n",
      "Running FOOOFGroup across 248 power spectra.\n",
      "Running FOOOFGroup across 248 power spectra.\n",
      "Extracting EDF parameters from /home/b1044271/Columbia/iEEG/Wakefulness_AllRegions/Anterior insula_W.edf...\n",
      "EDF file detected\n",
      "Setting channel info structure...\n",
      "Creating raw.info structure...\n",
      "Effective window size : 15.000 (s)\n",
      "Running FOOOFGroup across 568 power spectra.\n",
      "Running FOOOFGroup across 568 power spectra.\n",
      "Extracting EDF parameters from /home/b1044271/Columbia/iEEG/Wakefulness_AllRegions/Calcarine cortex_W.edf...\n",
      "EDF file detected\n",
      "Setting channel info structure...\n",
      "Creating raw.info structure...\n",
      "Effective window size : 15.000 (s)\n",
      "Running FOOOFGroup across 96 power spectra.\n",
      "Running FOOOFGroup across 96 power spectra.\n",
      "Extracting EDF parameters from /home/b1044271/Columbia/iEEG/Wakefulness_AllRegions/Central operculum_W.edf...\n",
      "EDF file detected\n",
      "Setting channel info structure...\n",
      "Creating raw.info structure...\n",
      "Effective window size : 15.000 (s)\n",
      "Running FOOOFGroup across 504 power spectra.\n",
      "Running FOOOFGroup across 504 power spectra.\n",
      "Extracting EDF parameters from /home/b1044271/Columbia/iEEG/Wakefulness_AllRegions/Cuneus_W.edf...\n",
      "EDF file detected\n",
      "Setting channel info structure...\n",
      "Creating raw.info structure...\n",
      "Effective window size : 15.000 (s)\n",
      "Running FOOOFGroup across 152 power spectra.\n",
      "Running FOOOFGroup across 152 power spectra.\n",
      "Extracting EDF parameters from /home/b1044271/Columbia/iEEG/Wakefulness_AllRegions/Frontal operculum_W.edf...\n",
      "EDF file detected\n",
      "Setting channel info structure...\n",
      "Creating raw.info structure...\n",
      "Effective window size : 15.000 (s)\n",
      "Running FOOOFGroup across 232 power spectra.\n",
      "Running FOOOFGroup across 232 power spectra.\n",
      "Extracting EDF parameters from /home/b1044271/Columbia/iEEG/Wakefulness_AllRegions/Gyrus rectus and orbital gyri_W.edf...\n",
      "EDF file detected\n",
      "Setting channel info structure...\n",
      "Creating raw.info structure...\n",
      "Effective window size : 15.000 (s)\n",
      "Running FOOOFGroup across 360 power spectra.\n",
      "Running FOOOFGroup across 360 power spectra.\n",
      "Extracting EDF parameters from /home/b1044271/Columbia/iEEG/Wakefulness_AllRegions/Inferior ocipital gyrus and occipital pole_W.edf...\n",
      "EDF file detected\n",
      "Setting channel info structure...\n",
      "Creating raw.info structure...\n",
      "Effective window size : 15.000 (s)\n",
      "Running FOOOFGroup across 184 power spectra.\n",
      "Running FOOOFGroup across 184 power spectra.\n",
      "Extracting EDF parameters from /home/b1044271/Columbia/iEEG/Wakefulness_AllRegions/Inferior temporal gyrus_W.edf...\n",
      "EDF file detected\n",
      "Setting channel info structure...\n",
      "Creating raw.info structure...\n",
      "Effective window size : 15.000 (s)\n",
      "Running FOOOFGroup across 328 power spectra.\n",
      "Running FOOOFGroup across 328 power spectra.\n",
      "Extracting EDF parameters from /home/b1044271/Columbia/iEEG/Wakefulness_AllRegions/Lingual gyrus and occipital fusiform gyrus_W.edf...\n",
      "EDF file detected\n",
      "Setting channel info structure...\n",
      "Creating raw.info structure...\n",
      "Effective window size : 15.000 (s)\n",
      "Running FOOOFGroup across 232 power spectra.\n",
      "Running FOOOFGroup across 232 power spectra.\n",
      "Extracting EDF parameters from /home/b1044271/Columbia/iEEG/Wakefulness_AllRegions/Medial frontal cortex_W.edf...\n",
      "EDF file detected\n",
      "Setting channel info structure...\n",
      "Creating raw.info structure...\n",
      "Effective window size : 15.000 (s)\n",
      "Running FOOOFGroup across 152 power spectra.\n",
      "Running FOOOFGroup across 152 power spectra.\n",
      "Extracting EDF parameters from /home/b1044271/Columbia/iEEG/Wakefulness_AllRegions/Medial segment of precentral gyrus_W.edf...\n",
      "EDF file detected\n",
      "Setting channel info structure...\n",
      "Creating raw.info structure...\n",
      "Effective window size : 15.000 (s)\n",
      "Running FOOOFGroup across 144 power spectra.\n",
      "Running FOOOFGroup across 144 power spectra.\n",
      "Extracting EDF parameters from /home/b1044271/Columbia/iEEG/Wakefulness_AllRegions/Medial segment of superior frontal gyrus_W.edf...\n",
      "EDF file detected\n",
      "Setting channel info structure...\n",
      "Creating raw.info structure...\n",
      "Effective window size : 15.000 (s)\n",
      "Running FOOOFGroup across 128 power spectra.\n",
      "Running FOOOFGroup across 128 power spectra.\n",
      "Extracting EDF parameters from /home/b1044271/Columbia/iEEG/Wakefulness_AllRegions/Middle cingulate_W.edf...\n",
      "EDF file detected\n",
      "Setting channel info structure...\n",
      "Creating raw.info structure...\n",
      "Effective window size : 15.000 (s)\n",
      "Running FOOOFGroup across 320 power spectra.\n",
      "Running FOOOFGroup across 320 power spectra.\n",
      "Extracting EDF parameters from /home/b1044271/Columbia/iEEG/Wakefulness_AllRegions/Middle frontal gyrus_W.edf...\n",
      "EDF file detected\n",
      "Setting channel info structure...\n",
      "Creating raw.info structure...\n",
      "Effective window size : 15.000 (s)\n",
      "Running FOOOFGroup across 1384 power spectra.\n",
      "Running FOOOFGroup across 1384 power spectra.\n",
      "Extracting EDF parameters from /home/b1044271/Columbia/iEEG/Wakefulness_AllRegions/Middle temporal gyrus_W.edf...\n",
      "EDF file detected\n",
      "Setting channel info structure...\n",
      "Creating raw.info structure...\n",
      "Effective window size : 15.000 (s)\n",
      "Running FOOOFGroup across 1008 power spectra.\n",
      "Running FOOOFGroup across 1008 power spectra.\n"
     ]
    }
   ],
   "source": [
    "# WAKEFULNESS\n",
    "i =0 \n",
    "\n",
    "for C, V in enumerate(regions):\n",
    "    \n",
    "    if C == 0 or C== 8 or C==10 or C==35:\n",
    "        continue\n",
    "        \n",
    "    EEG = mne.io.read_raw_edf(data_path / dataset / V)\n",
    "    EEG_psd = EEG.compute_psd(**SETTINGS_W)\n",
    "    \n",
    "    X = EEG_psd._data.transpose(2,0,1)\n",
    "    Xn = X.reshape((X.shape[0]*X.shape[1]), X.shape[2])\n",
    "       \n",
    "    fm1 = FOOOFGroup(**SETTINGS_F1)\n",
    "    fm1.fit(EEG_psd._freqs, Xn, [EEG_psd._freqs[0] , EEG_psd._freqs[-1]])\n",
    "        \n",
    "    fm2 = FOOOFGroup(**SETTINGS_F2)\n",
    "    fm2.fit(EEG_psd._freqs, Xn, [EEG_psd._freqs[0] , EEG_psd._freqs[-1]])\n",
    "            \n",
    "    # parameters exctract\n",
    "    W_Kn[i,0:len(fm1.get_params('aperiodic_params','knee'))]  = fm1.get_params('aperiodic_params','knee')\n",
    "    W_Exp[i,0:len(fm1.get_params('aperiodic_params','exponent'))] = fm1.get_params('aperiodic_params','exponent')\n",
    "    W_Exp2[i,0:len(fm2.get_params('aperiodic_params','exponent'))] = fm2.get_params('aperiodic_params','exponent')\n",
    "   \n",
    "\n",
    "    i = i+1"
   ]
  },
  {
   "cell_type": "code",
   "execution_count": null,
   "id": "75a15aff",
   "metadata": {},
   "outputs": [],
   "source": [
    "#N2\n",
    "# Set data path\n",
    "data_path = Path('/home/b1044271/Columbia/iEEG')\n",
    "# Set dataset\n",
    "dataset = 'N2_AllRegions'\n",
    "# Get list of files, which correspond to regions\n",
    "regions = np.sort(os.listdir(data_path / dataset))\n",
    "\n",
    "PSDs_N2 =  np.zeros([len(regions)-4,661])*np.nan\n",
    "\n",
    "i =0\n",
    "\n",
    "for C, V in enumerate(regions):\n",
    "    \n",
    "    if C == 0 or C== 8 or C==10 or C==35:\n",
    "        continue\n",
    "        \n",
    "    EEG = mne.io.read_raw_edf(data_path / dataset / V)\n",
    "    EEG_psd = EEG.compute_psd(**SETTINGS_W)\n",
    "        \n",
    "    X = EEG_psd._data.transpose(2,0,1)\n",
    "    Xn = X.reshape((X.shape[0]*X.shape[1]), X.shape[2])\n",
    "       \n",
    "    fm1 = FOOOFGroup(**SETTINGS_F1)\n",
    "    fm1.fit(EEG_psd._freqs, Xn, [EEG_psd._freqs[0] , EEG_psd._freqs[-1]])\n",
    "        \n",
    "    fm2 = FOOOFGroup(**SETTINGS_F2)\n",
    "    fm2.fit(EEG_psd._freqs, Xn, [EEG_psd._freqs[0] , EEG_psd._freqs[-1]])\n",
    "            \n",
    "    # parameters exctract\n",
    "    N2_Kn[i,0:len(fm1.get_params('aperiodic_params','knee'))]  =fm1.get_params('aperiodic_params','knee')\n",
    "    N2_Exp[i,0:len(fm1.get_params('aperiodic_params','exponent'))] = fm1.get_params('aperiodic_params','exponent')\n",
    "    N2_Exp2[i,0:len(fm2.get_params('aperiodic_params','exponent'))] = fm2.get_params('aperiodic_params','exponent')\n",
    "     \n",
    "    i = i+1"
   ]
  },
  {
   "cell_type": "code",
   "execution_count": null,
   "id": "13ec393c",
   "metadata": {},
   "outputs": [],
   "source": [
    "# N3\n",
    "# Set data path\n",
    "data_path = Path('/home/b1044271/Columbia/iEEG')\n",
    "# Set dataset\n",
    "dataset = 'N3_AllRegions'\n",
    "# Get list of files, which correspond to regions\n",
    "regions = np.sort(os.listdir(data_path / dataset))\n",
    "\n",
    "i =0\n",
    "for C, V in enumerate(regions):\n",
    "    \n",
    "    if C == 0 or C== 8 or C==10 or C==35:\n",
    "        continue\n",
    "        \n",
    "    EEG = mne.io.read_raw_edf(data_path / dataset / V)\n",
    "    EEG_psd = EEG.compute_psd(**SETTINGS_W)\n",
    "        \n",
    "    X = EEG_psd._data.transpose(2,0,1)\n",
    "    Xn = X.reshape((X.shape[0]*X.shape[1]), X.shape[2])\n",
    "       \n",
    "    fm1 = FOOOFGroup(**SETTINGS_F1)\n",
    "    fm1.fit(EEG_psd._freqs, Xn, [EEG_psd._freqs[0] , EEG_psd._freqs[-1]])\n",
    "        \n",
    "    fm2 = FOOOFGroup(**SETTINGS_F2)\n",
    "    fm2.fit(EEG_psd._freqs, Xn, [EEG_psd._freqs[0] , EEG_psd._freqs[-1]])\n",
    "        \n",
    "    # parameters exctract\n",
    "    N3_Kn[i,0:len(fm1.get_params('aperiodic_params','knee'))]  = fm1.get_params('aperiodic_params','knee')\n",
    "    N3_Exp[i,0:len(fm1.get_params('aperiodic_params','exponent'))] = fm1.get_params('aperiodic_params','exponent')\n",
    "    N3_Exp2[i,0:len(fm2.get_params('aperiodic_params','exponent'))] = fm2.get_params('aperiodic_params','exponent')\n",
    "   \n",
    "    i = i+1"
   ]
  },
  {
   "cell_type": "code",
   "execution_count": null,
   "id": "d1c0d63f",
   "metadata": {},
   "outputs": [],
   "source": [
    "# REM \n",
    "# Set data path\n",
    "data_path = Path('/home/b1044271/Columbia/iEEG')\n",
    "# Set dataset\n",
    "dataset = 'REM_AllRegions'\n",
    "# Get list of files, which correspond to regions\n",
    "regions = np.sort(os.listdir(data_path / dataset))\n",
    "\n",
    "i =0\n",
    "for C, V in enumerate(regions):\n",
    "    \n",
    "    if C == 0 or C== 8 or C==10 or C==35:\n",
    "        continue\n",
    "        \n",
    "    EEG = mne.io.read_raw_edf(data_path / dataset / V)\n",
    "    EEG_psd = EEG.compute_psd(**SETTINGS_W)\n",
    "    \n",
    "    X = EEG_psd._data.transpose(2,0,1)\n",
    "    Xn = X.reshape((X.shape[0]*X.shape[1]), X.shape[2])\n",
    "       \n",
    "    fm1 = FOOOFGroup(**SETTINGS_F1)\n",
    "    fm1.fit(EEG_psd._freqs, Xn, [EEG_psd._freqs[0] , EEG_psd._freqs[-1]])\n",
    "        \n",
    "    fm2 = FOOOFGroup(**SETTINGS_F2)\n",
    "    fm2.fit(EEG_psd._freqs, Xn, [EEG_psd._freqs[0] , EEG_psd._freqs[-1]])\n",
    "            \n",
    "    # parameters exctract\n",
    "    R_Kn[i,0:len(fm1.get_params('aperiodic_params','knee'))]  = fm1.get_params('aperiodic_params','knee')\n",
    "    R_Exp[i,0:len(fm1.get_params('aperiodic_params','exponent'))] = fm1.get_params('aperiodic_params','exponent')\n",
    "    R_Exp2[i,0:len(fm2.get_params('aperiodic_params','exponent'))] = fm2.get_params('aperiodic_params','exponent')\n",
    "\n",
    "    i = i+1"
   ]
  },
  {
   "cell_type": "markdown",
   "id": "ed05706d",
   "metadata": {},
   "source": [
    "# KNEE calculations"
   ]
  },
  {
   "cell_type": "code",
   "execution_count": 143,
   "id": "1dbd20ea",
   "metadata": {},
   "outputs": [],
   "source": [
    "# Compute knee frequency\n",
    "Kn_W = compute_knee_frequency(W_Kn, W_Exp)\n",
    "Kn_N2 = compute_knee_frequency(N2_Kn, N2_Exp)\n",
    "Kn_N3 = compute_knee_frequency(N3_Kn, N3_Exp)\n",
    "Kn_R = compute_knee_frequency(R_Kn, R_Exp)"
   ]
  },
  {
   "cell_type": "markdown",
   "id": "edd9c6e9",
   "metadata": {},
   "source": [
    "# DECODING"
   ]
  },
  {
   "cell_type": "code",
   "execution_count": 145,
   "id": "cf262bf8",
   "metadata": {},
   "outputs": [
    {
     "data": {
      "text/plain": [
       "array([6., 8., 8., 8., 8., 8., 7., 5., 8., 8., 8., 5., 8., 8., 8., 8., 8.,\n",
       "       3., 7., 4., 7., 8., 7., 3., 8., 7., 8., 8., 6., 8., 8., 3., 8., 8.])"
      ]
     },
     "execution_count": 145,
     "metadata": {},
     "output_type": "execute_result"
    }
   ],
   "source": [
    "# repititions and \n",
    "lin_method = RepeatedStratifiedKFold (n_splits = 5, n_repeats = 2, random_state = 1)\n",
    "\n",
    "# Set up the repeated k-fold cross-validation\n",
    "lin_method = RepeatedKFold(n_splits=5, n_repeats=2)\n",
    "\n",
    "\n",
    "random.seed(0)\n",
    "\n",
    "trials=np.zeros(34)*np.nan\n",
    "\n",
    "accuracy_K=[]\n",
    "accuracy_F=[]\n",
    "accuracy_knee=[]\n",
    "\n",
    "\n",
    "for i in np.arange(34):\n",
    "\n",
    "    # Initialize the LDA classifier\n",
    "    lda = LinearDiscriminantAnalysis()\n",
    " ##################################################   \n",
    "    # DATA\n",
    "    W_exp   = W_Exp[i][~np.isnan(W_Exp[i])]\n",
    "    W_knee  = Kn_W[i][~np.isnan(Kn_W[i])]\n",
    "    mask = np.isfinite(W_knee)\n",
    "    W_knee = W_knee[mask]\n",
    "    W_exp2  = W_Exp2[i][~np.isnan(W_Exp2[i])]\n",
    "\n",
    "    N2_exp   = N2_Exp[i][~np.isnan(N2_Exp[i])]\n",
    "    N2_knee  = Kn_N2[i][~np.isnan(Kn_N2[i])]\n",
    "    N2_exp2  = N2_Exp2[i][~np.isnan(N2_Exp2[i])]\n",
    "\n",
    "    N3_exp   = N3_Exp[i][~np.isnan(N3_Exp[i])]\n",
    "    N3_knee  = Kn_N3[i][~np.isnan(Kn_N3[i])]\n",
    "    N3_exp2  = N3_Exp2[i][~np.isnan(N3_Exp2[i])]\n",
    "\n",
    "    R_exp   = R_Exp[i][~np.isnan(R_Exp[i])]\n",
    "    R_knee  = Kn_R[i][~np.isnan(Kn_R[i])]\n",
    "    R_exp2  = R_Exp2[i][~np.isnan(R_Exp2[i])]\n",
    "\n",
    "    ###################################################\n",
    "         # equate number of trials per stage\n",
    "    L  = min([len(W_exp) ,  len(N2_exp), len(N3_exp),  len(R_exp),\n",
    "               len(W_knee) , len(N2_knee), len(N3_knee),  len(R_knee),\n",
    "               len(W_exp2) , len(N2_exp2), len(N3_exp2),  len(R_exp2)])\n",
    "    \n",
    "    trials[i] = L\n",
    "    \n",
    "    W_exp  = W_exp[random.sample(range(0, len(W_exp)), L)] \n",
    "    l1  = np.ones(len(W_exp))\n",
    " \n",
    "    N2_exp = N2_exp[random.sample(range(0, len(N2_exp)), L)]\n",
    "    l2  = np.ones(len(N2_exp))*2\n",
    "\n",
    "    N3_exp = N3_exp[random.sample(range(0, len(N3_exp)), L)]\n",
    "    l3  = np.ones(len(N3_exp))*3\n",
    "    \n",
    "    R_exp  = R_exp[random.sample(range(0, len(R_exp)), L)]\n",
    "    l4  = np.ones(len(R_exp))*4\n",
    "    \n",
    "    #########################################\n",
    "    W_exp2  = W_exp2[random.sample(range(0, len(W_exp2)), L)] \n",
    "    N2_exp2 = N2_exp2[random.sample(range(0, len(N2_exp2)), L)]\n",
    "    N3_exp2 = N3_exp2[random.sample(range(0, len(N3_exp2)), L)]\n",
    "    R_exp2  = R_exp2[random.sample(range(0, len(R_exp2)), L)]\n",
    "\n",
    "    ############################################    \n",
    "    W_knee  = W_knee[random.sample(range(0, len(W_knee)), L)] \n",
    "    N2_knee = N2_knee[random.sample(range(0, len(N2_knee)), L)]  \n",
    "    N3_knee = N3_knee[random.sample(range(0, len(N3_knee)), L)]\n",
    "    R_knee  = R_knee[random.sample(range(0, len(R_knee)), L)]\n",
    "\n",
    "    \n",
    "    Knee_model  = np.concatenate((W_exp,N2_exp,N3_exp,R_exp))\n",
    "    Fixed_model  = np.concatenate((W_exp2,N2_exp2,N3_exp2,R_exp2))\n",
    "    Knee_value  = np.concatenate((W_knee,N2_knee,N3_knee,R_knee))\n",
    "\n",
    "    y = np.concatenate((l1,l2,l3,l4))\n",
    "    ###########################################\n",
    "    \n",
    "    # make the 1d array a 2d array (req for scikit learn)\n",
    "    X=Knee_model[:, None]\n",
    "    X2=Fixed_model[:, None]\n",
    "    X3=Knee_value[:, None]\n",
    "\n",
    "    ################################################\n",
    "    # Loop over the cross-validation folds and repetitions\n",
    "    lin_score = cross_val_score(lda, X, y, scoring = 'accuracy', cv = lin_method, n_jobs = -1)\n",
    "    # Split the data into training and test sets\n",
    "    X_train, X_test , y_train, y_test = train_test_split(X, y, test_size=0.2)\n",
    "    # Fit the LDA model on the training data\n",
    "    lda.fit(X_train, y_train)\n",
    "    # Evaluate the model on the test data\n",
    "    accuracy_K.append(lda.score(X_test, y_test))\n",
    "    \n",
    "\n",
    "    # Initialize the LDA classifier\n",
    "    lda2 = LinearDiscriminantAnalysis()\n",
    "    # Loop over the cross-validation folds and repetitions\n",
    "    lin_score2 = cross_val_score(lda2, X2, y, scoring = 'accuracy', cv = lin_method, n_jobs = -1)\n",
    "    # Split the data into training and test sets\n",
    "    X_train2, X_test2 , y_train2, y_test2 = train_test_split(X2, y, test_size=0.2)\n",
    "    # Fit the LDA model on the training data\n",
    "    lda2.fit(X_train2, y_train2)\n",
    "    # Evaluate the model on the test data\n",
    "    accuracy_F.append(lda2.score(X_test2, y_test2))\n",
    "    \n",
    "    # Initialize the LDA classifier\n",
    "    lda3 = LinearDiscriminantAnalysis()\n",
    "    # Loop over the cross-validation folds and repetitions\n",
    "    lin_score3 = cross_val_score(lda3, X3, y, scoring = 'accuracy', cv = lin_method, n_jobs = -1)\n",
    "    # Split the data into training and test sets\n",
    "    X_train3, X_test3 , y_train3, y_test3 = train_test_split(X3, y, test_size=0.2)\n",
    "    # Fit the LDA model on the training data\n",
    "    lda3.fit(X_train3, y_train3)\n",
    "    # Evaluate the model on the test data\n",
    "    accuracy_knee.append(lda3.score(X_test3, y_test3))\n",
    "\n",
    "trials"
   ]
  },
  {
   "cell_type": "code",
   "execution_count": 146,
   "id": "a8df8504",
   "metadata": {},
   "outputs": [
    {
     "data": {
      "text/plain": [
       "35.0"
      ]
     },
     "execution_count": 146,
     "metadata": {},
     "output_type": "execute_result"
    }
   ],
   "source": [
    "np.mean(trials*5)"
   ]
  },
  {
   "cell_type": "markdown",
   "id": "67cf7f1d",
   "metadata": {},
   "source": [
    "# STATS"
   ]
  },
  {
   "cell_type": "code",
   "execution_count": null,
   "id": "fd87b187",
   "metadata": {},
   "outputs": [],
   "source": [
    "# FIRST PERMUTATION\n",
    "\n",
    "from utils import calculate_t_statistic, calculate_cohens_d, perform_permutation_test\n",
    "\n",
    "ACC = [accuracy_knee,accuracy_K, accuracy_F]\n",
    "\n",
    "# Specify the number of permutations\n",
    "num_permutations = 10000\n",
    "\n",
    "tvalue=np.zeros(3)\n",
    "pvalue=np.zeros(3)\n",
    "cohend=np.zeros(3)\n",
    "for i in np.arange(len(ACC)):\n",
    "    X = ACC[i]\n",
    "    # Perform the permutation test\n",
    "    tvalue[i],pvalue[i],cohend[i] = perform_permutation_test(X, np.ones(17)*0.25, num_permutations)\n",
    "\n",
    "pvalue_bonf = pvalue * len(ACC)\n",
    "\n",
    "pvalue_bonf"
   ]
  },
  {
   "cell_type": "code",
   "execution_count": null,
   "id": "a20fbec9",
   "metadata": {},
   "outputs": [],
   "source": [
    "# THEN FRIEDMAN\n",
    "# Decoding stats repeated measures\n",
    "data = pd.DataFrame(np.transpose(ACC))\n",
    "\n",
    "friedman_result, W, posthoc_result, z_values, effect_sizes, corrected_p_values = friedman_dunns(data)\n",
    "\n",
    "# Change the column names\n",
    "effect_sizes.columns =['Knee', 'Exp_K', 'Exp_F']\n",
    "corrected_p_values.columns = ['Knee', 'Exp_K', 'Exp_F']\n",
    "# Change the row indexes\n",
    "effect_sizes.index = ['Knee', 'Exp_K', 'Exp_F']\n",
    "corrected_p_values.index = ['Knee', 'Exp_K', 'Exp_F']\n",
    "\n",
    "ax = plt.subplot(111, frame_on=False) # no visible frame\n",
    "table(ax, effect_sizes)  # where df is your data frame\n",
    "ax.xaxis.set_visible(False)  # hide the x axis\n",
    "ax.yaxis.set_visible(False)  # hide the y axis\n",
    "plt.savefig('/home/b1044271/Columbia/Plots/NOV23/Stats/Decode_iEEG_effectS.svg')\n",
    "\n",
    "ax = plt.subplot(111, frame_on=False) # no visible frame\n",
    "table(ax, corrected_p_values)  # where df is your data frame\n",
    "ax.xaxis.set_visible(False)  # hide the x axis\n",
    "ax.yaxis.set_visible(False)  # hide the y axis\n",
    "plt.savefig('/home/b1044271/Columbia/Plots/NOV23/Stats/Decode_iEEG_Pvalues.svg')"
   ]
  },
  {
   "cell_type": "markdown",
   "id": "da449773",
   "metadata": {},
   "source": [
    "# Plotting Accuracies"
   ]
  },
  {
   "cell_type": "code",
   "execution_count": 147,
   "id": "51556f61",
   "metadata": {},
   "outputs": [
    {
     "data": {
      "image/png": "[encoded data removed]",
      "text/plain": [
       "<Figure size 300x300 with 1 Axes>"
      ]
     },
     "metadata": {},
     "output_type": "display_data"
    }
   ],
   "source": [
    "array_list6 = [accuracy_knee,accuracy_K, accuracy_F]\n",
    "colors = ['black', 'grey', 'silver']\n",
    "\n",
    "import seaborn\n",
    "titles =  ['knee freq','exponent - knee','exponent - fixed']\n",
    "\n",
    "\n",
    "ax = plt.figure(figsize=(3,3))  \n",
    "\n",
    "ax = seaborn.swarmplot(data=array_list6, palette = colors);\n",
    "ax.set_xticklabels(titles)\n",
    "\n",
    "seaborn.scatterplot(x=[0,1,2], y=np.mean(array_list6,1), marker='X', color='black', s=100, zorder=4, legend=False);\n",
    "plt.plot([array_list6[0], array_list6[1], array_list6[2]], color = 'grey', linewidth = 0.25, linestyle = '-');\n",
    "ax.axhline(y=0.25, color='black', linestyle='--');\n",
    "\n",
    "plt.title('Stages decoding', fontsize = 24)\n",
    "plt.ylabel('accuracy (a.u.)',fontsize=20)\n",
    "\n",
    "plt.ylim(-0.05, 0.85)\n",
    "plt.xticks(fontsize=18)\n",
    "plt.yticks(fontsize=18)\n",
    "\n",
    "ax.spines['top'].set_visible(False)\n",
    "ax.spines['right'].set_visible(False)\n",
    "ax.tick_params(axis='both', which='both', direction='in', width=1.5, labelsize=16)  # Customize tick properties\n",
    "ax.spines['bottom'].set_linewidth(1.5)\n",
    "ax.spines['left'].set_linewidth(1.5)\n",
    "\n",
    "\n",
    "#plt.savefig(\"/home/b1044271/Columbia/Plots/NOV23/iEEG_decoding.svg\", dpi = 600)\n",
    "plt.show()"
   ]
  },
  {
   "cell_type": "code",
   "execution_count": 127,
   "id": "43bd4498",
   "metadata": {},
   "outputs": [
    {
     "name": "stdout",
     "output_type": "stream",
     "text": [
      "Extracting EDF parameters from /home/b1044271/Columbia/iEEG/REM_AllRegions/Angular gyrus_R.edf...\n",
      "EDF file detected\n",
      "Setting channel info structure...\n",
      "Creating raw.info structure...\n",
      "Effective window size : 15.000 (s)\n"
     ]
    },
    {
     "ename": "ValueError",
     "evalue": "could not broadcast input array from shape (661,8) into shape (661,)",
     "output_type": "error",
     "traceback": [
      "\u001b[0;31m---------------------------------------------------------------------------\u001b[0m",
      "\u001b[0;31mValueError\u001b[0m                                Traceback (most recent call last)",
      "Cell \u001b[0;32mIn [127], line 19\u001b[0m\n\u001b[1;32m     16\u001b[0m EEG \u001b[38;5;241m=\u001b[39m mne\u001b[38;5;241m.\u001b[39mio\u001b[38;5;241m.\u001b[39mread_raw_edf(data_path \u001b[38;5;241m/\u001b[39m dataset \u001b[38;5;241m/\u001b[39m V)\n\u001b[1;32m     17\u001b[0m EEG_psd \u001b[38;5;241m=\u001b[39m EEG\u001b[38;5;241m.\u001b[39mcompute_psd(\u001b[38;5;241m*\u001b[39m\u001b[38;5;241m*\u001b[39mSETTINGS_W)\n\u001b[0;32m---> 19\u001b[0m \u001b[43mPSDs_R\u001b[49m\u001b[43m[\u001b[49m\u001b[43mi\u001b[49m\u001b[43m,\u001b[49m\u001b[38;5;241;43m0\u001b[39;49m\u001b[43m:\u001b[49m\u001b[38;5;241;43m661\u001b[39;49m\u001b[43m]\u001b[49m \u001b[38;5;241m=\u001b[39m np\u001b[38;5;241m.\u001b[39mmean(EEG_psd\u001b[38;5;241m.\u001b[39m_data,\u001b[38;5;241m0\u001b[39m)\n\u001b[1;32m     21\u001b[0m fm1 \u001b[38;5;241m=\u001b[39m FOOOFGroup(\u001b[38;5;241m*\u001b[39m\u001b[38;5;241m*\u001b[39mSETTINGS_F1)\n\u001b[1;32m     22\u001b[0m fm1\u001b[38;5;241m.\u001b[39mfit(EEG_psd\u001b[38;5;241m.\u001b[39m_freqs, EEG_psd\u001b[38;5;241m.\u001b[39m_data, [EEG_psd\u001b[38;5;241m.\u001b[39m_freqs[\u001b[38;5;241m0\u001b[39m] , EEG_psd\u001b[38;5;241m.\u001b[39m_freqs[\u001b[38;5;241m-\u001b[39m\u001b[38;5;241m1\u001b[39m]])\n",
      "\u001b[0;31mValueError\u001b[0m: could not broadcast input array from shape (661,8) into shape (661,)"
     ]
    }
   ],
   "source": [
    "# Set data path\n",
    "data_path = Path('/home/b1044271/Columbia/iEEG')\n",
    "# Set dataset\n",
    "dataset = 'REM_AllRegions'\n",
    "# Get list of files, which correspond to regions\n",
    "regions = np.sort(os.listdir(data_path / dataset))\n",
    "\n",
    "PSDs_R =  np.zeros([len(regions)-4,661])*np.nan\n",
    "\n",
    "i =0 \n",
    "for C, V in enumerate(regions):\n",
    "    \n",
    "    if C == 0 or C== 8 or C==10 or C==35:\n",
    "        continue\n",
    "        \n",
    "    EEG = mne.io.read_raw_edf(data_path / dataset / V)\n",
    "    EEG_psd = EEG.compute_psd(**SETTINGS_W)\n",
    "    \n",
    "    PSDs_R[i,0:661] = np.mean(EEG_psd._data,0)\n",
    "    \n",
    "    fm1 = FOOOFGroup(**SETTINGS_F1)\n",
    "    fm1.fit(EEG_psd._freqs, EEG_psd._data, [EEG_psd._freqs[0] , EEG_psd._freqs[-1]])\n",
    "     \n",
    "    fm2 = FOOOFGroup(**SETTINGS_F2)\n",
    "    fm2.fit(EEG_psd._freqs, EEG_psd._data, [EEG_psd._freqs[0] , EEG_psd._freqs[-1]])\n",
    "    # parameters exctract\n",
    "    R_Kn[i,0:len(EEG_psd._data)]  = fm1.get_params('aperiodic_params','knee')\n",
    "    R_Exp[i,0:len(EEG_psd._data)] = fm1.get_params('aperiodic_params','exponent')\n",
    "    \n",
    "    R_Exp2[i,0:len(EEG_psd._data)] = fm2.get_params('aperiodic_params','exponent')\n",
    "    \n",
    "    R_R2K[i,0:len(EEG_psd._data)] = fm1.get_params('r_squared')\n",
    "    R_R2N[i,0:len(EEG_psd._data)] = fm2.get_params('r_squared')\n",
    "\n",
    "    i = i+1"
   ]
  },
  {
   "cell_type": "code",
   "execution_count": 128,
   "id": "c5ef2f42",
   "metadata": {},
   "outputs": [
    {
     "ename": "NameError",
     "evalue": "name 'SettingW' is not defined",
     "output_type": "error",
     "traceback": [
      "\u001b[0;31m---------------------------------------------------------------------------\u001b[0m",
      "\u001b[0;31mNameError\u001b[0m                                 Traceback (most recent call last)",
      "Cell \u001b[0;32mIn [128], line 1\u001b[0m\n\u001b[0;32m----> 1\u001b[0m \u001b[43mSettingW\u001b[49m\n",
      "\u001b[0;31mNameError\u001b[0m: name 'SettingW' is not defined"
     ]
    }
   ],
   "source": [
    "SettingW"
   ]
  },
  {
   "cell_type": "markdown",
   "id": "60137755",
   "metadata": {},
   "source": [
    "i = 36"
   ]
  },
  {
   "cell_type": "code",
   "execution_count": 124,
   "id": "13751802",
   "metadata": {},
   "outputs": [
    {
     "name": "stdout",
     "output_type": "stream",
     "text": [
      "Effective window size : 15.000 (s)\n"
     ]
    }
   ],
   "source": [
    "    EEG_psd = EEG.compute_psd(**SETTINGS_W)\n"
   ]
  },
  {
   "cell_type": "code",
   "execution_count": 130,
   "id": "55a01827",
   "metadata": {},
   "outputs": [
    {
     "name": "stdout",
     "output_type": "stream",
     "text": [
      "Running FOOOFGroup across 8 power spectra.\n"
     ]
    }
   ],
   "source": [
    "    fm1 = FOOOFGroup(**SETTINGS_F1)\n",
    "    fm1.fit(EEG_psd._freqs, np.nanmean(EEG_psd._data,0).T, [EEG_psd._freqs[0] , EEG_psd._freqs[-1]])"
   ]
  },
  {
   "cell_type": "code",
   "execution_count": 131,
   "id": "d63e066d",
   "metadata": {},
   "outputs": [
    {
     "data": {
      "text/plain": [
       "array([133.59485482, 202.52085275, 161.10188717, 206.4088216 ,\n",
       "       121.15626192,  48.66105998,  37.95159005, 161.37086776])"
      ]
     },
     "execution_count": 131,
     "metadata": {},
     "output_type": "execute_result"
    }
   ],
   "source": [
    "fm1.get_params('aperiodic_params','knee')"
   ]
  }
 ],
 "metadata": {
  "kernelspec": {
   "display_name": "Python [conda env:mne]",
   "language": "python",
   "name": "conda-env-mne-py"
  },
  "language_info": {
   "codemirror_mode": {
    "name": "ipython",
    "version": 3
   },
   "file_extension": ".py",
   "mimetype": "text/x-python",
   "name": "python",
   "nbconvert_exporter": "python",
   "pygments_lexer": "ipython3",
   "version": "3.10.6"
  }
 },
 "nbformat": 4,
 "nbformat_minor": 5
}
