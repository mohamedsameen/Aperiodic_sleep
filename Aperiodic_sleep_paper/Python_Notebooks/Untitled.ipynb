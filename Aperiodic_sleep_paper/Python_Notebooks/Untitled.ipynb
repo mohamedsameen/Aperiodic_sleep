{
 "cells": [
  {
   "cell_type": "code",
   "execution_count": null,
   "id": "4103fc34",
   "metadata": {},
   "outputs": [],
   "source": [
    "import mne\n",
    "import numpy as np\n",
    "import matplotlib.pyplot as plt\n",
    "import os\n",
    "import pandas as pd\n",
    "# Import the FOOOF object\n",
    "from fooof import FOOOF\n",
    "from fooof import FOOOFGroup\n",
    "# Import a utility to download and load example data\n",
    "from fooof.utils.download import load_fooof_data\n",
    "from fooof.utils.params import compute_knee_frequency\n",
    "from pathlib import Path\n",
    "import glob\n",
    "from math import floor\n",
    "import math\n",
    "import sys\n",
    "from scipy import stats\n",
    "import random\n",
    "from scipy.interpolate import make_interp_spline, BSpline\n",
    "import random\n",
    "\n",
    "sys.path.append(\"/home/b1044271/Columbia/Aperiodic_sleep/helpers/\")\n",
    "from utils import resample_stages\n",
    "from plots import plot_event_related_lines"
   ]
  },
  {
   "cell_type": "code",
   "execution_count": null,
   "id": "62da1129",
   "metadata": {},
   "outputs": [],
   "source": [
    "'/home/b1044271/Columbia/Results/Time-resolved/Transitions/Cz/Cat'"
   ]
  },
  {
   "cell_type": "code",
   "execution_count": null,
   "id": "f8ddab27",
   "metadata": {},
   "outputs": [],
   "source": []
  },
  {
   "cell_type": "code",
   "execution_count": null,
   "id": "705a09cc",
   "metadata": {},
   "outputs": [],
   "source": []
  },
  {
   "cell_type": "code",
   "execution_count": null,
   "id": "923968df",
   "metadata": {},
   "outputs": [],
   "source": []
  },
  {
   "cell_type": "code",
   "execution_count": null,
   "id": "db1527de",
   "metadata": {},
   "outputs": [],
   "source": []
  },
  {
   "cell_type": "code",
   "execution_count": null,
   "id": "08285f7c",
   "metadata": {},
   "outputs": [],
   "source": []
  },
  {
   "cell_type": "code",
   "execution_count": null,
   "id": "23449f5c",
   "metadata": {},
   "outputs": [],
   "source": []
  }
 ],
 "metadata": {
  "kernelspec": {
   "display_name": "Python [conda env:mne]",
   "language": "python",
   "name": "conda-env-mne-py"
  },
  "language_info": {
   "codemirror_mode": {
    "name": "ipython",
    "version": 3
   },
   "file_extension": ".py",
   "mimetype": "text/x-python",
   "name": "python",
   "nbconvert_exporter": "python",
   "pygments_lexer": "ipython3",
   "version": "3.10.6"
  }
 },
 "nbformat": 4,
 "nbformat_minor": 5
}
